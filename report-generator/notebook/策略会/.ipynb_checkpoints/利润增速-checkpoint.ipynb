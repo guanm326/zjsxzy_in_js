{
 "cells": [
  {
   "cell_type": "code",
   "execution_count": 127,
   "metadata": {},
   "outputs": [],
   "source": [
    "import pandas as pd\n",
    "import matplotlib.pyplot as plt\n",
    "import pyodbc\n",
    "import cx_Oracle\n",
    "%matplotlib inline"
   ]
  },
  {
   "cell_type": "code",
   "execution_count": 128,
   "metadata": {},
   "outputs": [],
   "source": [
    "# conn = pyodbc.connect('DRIVER={SQL Server};SERVER=10.0.185.138;DATABASE=JYDB;UID=js_dev;PWD=js_dev')\n",
    "conn = cx_Oracle.connect('js_dev', '123456', 'wind')"
   ]
  },
  {
   "cell_type": "code",
   "execution_count": 129,
   "metadata": {},
   "outputs": [],
   "source": [
    "# query = 'SELECT f.EndDate, t.SecuCode, f.NetProfitCut \\\n",
    "# FROM LC_MainIndexNew as f, SecuMain as t \\\n",
    "# WHERE t.InnerCode = f.CompanyCode \\\n",
    "#     AND t.SecuCategory = 1 \\\n",
    "#     AND (t.ListedSector = 1 OR t.ListedSector = 2 OR t.ListedSector = 6) \\\n",
    "#     AND t.ListedState = 1'\n",
    "query = 'select t.S_INFO_WINDCODE, t.REPORT_PERIOD, t.S_QFA_DEDUCTEDPROFIT from wind.AShareFinancialIndicator t'"
   ]
  },
  {
   "cell_type": "code",
   "execution_count": 130,
   "metadata": {},
   "outputs": [],
   "source": [
    "df = pd.read_sql_query(query, con=conn)"
   ]
  },
  {
   "cell_type": "code",
   "execution_count": 131,
   "metadata": {},
   "outputs": [
    {
     "data": {
      "text/html": [
       "<div>\n",
       "<style scoped>\n",
       "    .dataframe tbody tr th:only-of-type {\n",
       "        vertical-align: middle;\n",
       "    }\n",
       "\n",
       "    .dataframe tbody tr th {\n",
       "        vertical-align: top;\n",
       "    }\n",
       "\n",
       "    .dataframe thead th {\n",
       "        text-align: right;\n",
       "    }\n",
       "</style>\n",
       "<table border=\"1\" class=\"dataframe\">\n",
       "  <thead>\n",
       "    <tr style=\"text-align: right;\">\n",
       "      <th></th>\n",
       "      <th>S_INFO_WINDCODE</th>\n",
       "      <th>REPORT_PERIOD</th>\n",
       "      <th>S_QFA_DEDUCTEDPROFIT</th>\n",
       "    </tr>\n",
       "  </thead>\n",
       "  <tbody>\n",
       "    <tr>\n",
       "      <th>170721</th>\n",
       "      <td>603022.SH</td>\n",
       "      <td>20171231</td>\n",
       "      <td>3804368.87</td>\n",
       "    </tr>\n",
       "    <tr>\n",
       "      <th>170722</th>\n",
       "      <td>300167.SZ</td>\n",
       "      <td>20171231</td>\n",
       "      <td>-11389682.76</td>\n",
       "    </tr>\n",
       "    <tr>\n",
       "      <th>170723</th>\n",
       "      <td>000417.SZ</td>\n",
       "      <td>20171231</td>\n",
       "      <td>-39447999.16</td>\n",
       "    </tr>\n",
       "    <tr>\n",
       "      <th>170724</th>\n",
       "      <td>300180.SZ</td>\n",
       "      <td>20171231</td>\n",
       "      <td>57083398.43</td>\n",
       "    </tr>\n",
       "    <tr>\n",
       "      <th>170725</th>\n",
       "      <td>300417.SZ</td>\n",
       "      <td>20171231</td>\n",
       "      <td>10472445.65</td>\n",
       "    </tr>\n",
       "  </tbody>\n",
       "</table>\n",
       "</div>"
      ],
      "text/plain": [
       "       S_INFO_WINDCODE REPORT_PERIOD  S_QFA_DEDUCTEDPROFIT\n",
       "170721       603022.SH      20171231            3804368.87\n",
       "170722       300167.SZ      20171231          -11389682.76\n",
       "170723       000417.SZ      20171231          -39447999.16\n",
       "170724       300180.SZ      20171231           57083398.43\n",
       "170725       300417.SZ      20171231           10472445.65"
      ]
     },
     "execution_count": 131,
     "metadata": {},
     "output_type": "execute_result"
    }
   ],
   "source": [
    "df.tail()"
   ]
  },
  {
   "cell_type": "code",
   "execution_count": 132,
   "metadata": {},
   "outputs": [],
   "source": [
    "df = df.set_index('REPORT_PERIOD').sort_index().dropna()"
   ]
  },
  {
   "cell_type": "code",
   "execution_count": 133,
   "metadata": {},
   "outputs": [],
   "source": [
    "df = df[df.index >= '2000-01-01']"
   ]
  },
  {
   "cell_type": "code",
   "execution_count": 134,
   "metadata": {},
   "outputs": [
    {
     "data": {
      "text/html": [
       "<div>\n",
       "<style scoped>\n",
       "    .dataframe tbody tr th:only-of-type {\n",
       "        vertical-align: middle;\n",
       "    }\n",
       "\n",
       "    .dataframe tbody tr th {\n",
       "        vertical-align: top;\n",
       "    }\n",
       "\n",
       "    .dataframe thead th {\n",
       "        text-align: right;\n",
       "    }\n",
       "</style>\n",
       "<table border=\"1\" class=\"dataframe\">\n",
       "  <thead>\n",
       "    <tr style=\"text-align: right;\">\n",
       "      <th></th>\n",
       "      <th>S_INFO_WINDCODE</th>\n",
       "      <th>S_QFA_DEDUCTEDPROFIT</th>\n",
       "    </tr>\n",
       "    <tr>\n",
       "      <th>REPORT_PERIOD</th>\n",
       "      <th></th>\n",
       "      <th></th>\n",
       "    </tr>\n",
       "  </thead>\n",
       "  <tbody>\n",
       "    <tr>\n",
       "      <th>20180630</th>\n",
       "      <td>002565.SZ</td>\n",
       "      <td>1.283760e+06</td>\n",
       "    </tr>\n",
       "    <tr>\n",
       "      <th>20180630</th>\n",
       "      <td>603199.SH</td>\n",
       "      <td>2.958191e+07</td>\n",
       "    </tr>\n",
       "    <tr>\n",
       "      <th>20180630</th>\n",
       "      <td>300478.SZ</td>\n",
       "      <td>2.326505e+07</td>\n",
       "    </tr>\n",
       "    <tr>\n",
       "      <th>20180630</th>\n",
       "      <td>002240.SZ</td>\n",
       "      <td>4.448034e+07</td>\n",
       "    </tr>\n",
       "    <tr>\n",
       "      <th>20180630</th>\n",
       "      <td>000818.SZ</td>\n",
       "      <td>1.124686e+08</td>\n",
       "    </tr>\n",
       "  </tbody>\n",
       "</table>\n",
       "</div>"
      ],
      "text/plain": [
       "              S_INFO_WINDCODE  S_QFA_DEDUCTEDPROFIT\n",
       "REPORT_PERIOD                                      \n",
       "20180630            002565.SZ          1.283760e+06\n",
       "20180630            603199.SH          2.958191e+07\n",
       "20180630            300478.SZ          2.326505e+07\n",
       "20180630            002240.SZ          4.448034e+07\n",
       "20180630            000818.SZ          1.124686e+08"
      ]
     },
     "execution_count": 134,
     "metadata": {},
     "output_type": "execute_result"
    }
   ],
   "source": [
    "df.tail()"
   ]
  },
  {
   "cell_type": "code",
   "execution_count": 135,
   "metadata": {},
   "outputs": [],
   "source": [
    "df = df.pivot_table('S_QFA_DEDUCTEDPROFIT', index=['REPORT_PERIOD', 'S_INFO_WINDCODE']).unstack()"
   ]
  },
  {
   "cell_type": "code",
   "execution_count": 153,
   "metadata": {},
   "outputs": [
    {
     "data": {
      "text/plain": [
       "REPORT_PERIOD\n",
       "20020930         NaN\n",
       "20021231         NaN\n",
       "20030331         NaN\n",
       "20030630         NaN\n",
       "20030930   -0.055009\n",
       "20031231   -0.243647\n",
       "20040331   -0.535731\n",
       "20040630   -0.354657\n",
       "20040930   -0.201416\n",
       "20041231   -0.269034\n",
       "20050331   -0.041931\n",
       "20050630   -0.162813\n",
       "20050930   -0.154318\n",
       "20051231   -0.314345\n",
       "20060331   -0.009668\n",
       "20060630   -0.045443\n",
       "20060930    0.015189\n",
       "20061231   -0.190568\n",
       "20070331    0.073809\n",
       "20070630    0.129466\n",
       "20070930    0.117044\n",
       "20071231   -0.047369\n",
       "20080331    0.091983\n",
       "20080630    0.011136\n",
       "20080930   -0.214183\n",
       "20081231   -0.507961\n",
       "20090331   -0.280186\n",
       "20090630   -0.187495\n",
       "20090930   -0.025395\n",
       "20091231   -0.309493\n",
       "              ...   \n",
       "20110331    0.087580\n",
       "20110630    0.067266\n",
       "20110930   -0.014661\n",
       "20111231   -0.195393\n",
       "20120331   -0.071917\n",
       "20120630   -0.083095\n",
       "20120930   -0.137511\n",
       "20121231   -0.191269\n",
       "20130331   -0.014678\n",
       "20130630   -0.028429\n",
       "20130930   -0.011910\n",
       "20131231   -0.105722\n",
       "20140331    0.010485\n",
       "20140630    0.023504\n",
       "20140930   -0.017657\n",
       "20141231   -0.115485\n",
       "20150331    0.000355\n",
       "20150630   -0.014921\n",
       "20150930   -0.054169\n",
       "20151231   -0.125265\n",
       "20160331    0.041059\n",
       "20160630    0.004140\n",
       "20160930    0.005166\n",
       "20161231   -0.113870\n",
       "20170331    0.060339\n",
       "20170630    0.046387\n",
       "20170930    0.043453\n",
       "20171231   -0.082912\n",
       "20180331    0.042505\n",
       "20180630    0.313103\n",
       "Length: 64, dtype: float64"
      ]
     },
     "execution_count": 153,
     "metadata": {},
     "output_type": "execute_result"
    }
   ],
   "source": [
    "df['S_QFA_DEDUCTEDPROFIT'].pct_change(4).median(axis=1)"
   ]
  },
  {
   "cell_type": "code",
   "execution_count": null,
   "metadata": {},
   "outputs": [],
   "source": []
  }
 ],
 "metadata": {
  "kernelspec": {
   "display_name": "Python 2",
   "language": "python",
   "name": "python2"
  },
  "language_info": {
   "codemirror_mode": {
    "name": "ipython",
    "version": 2
   },
   "file_extension": ".py",
   "mimetype": "text/x-python",
   "name": "python",
   "nbconvert_exporter": "python",
   "pygments_lexer": "ipython2",
   "version": "2.7.14"
  }
 },
 "nbformat": 4,
 "nbformat_minor": 2
}
