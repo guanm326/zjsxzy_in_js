{
 "cells": [
  {
   "cell_type": "code",
   "execution_count": 127,
   "metadata": {},
   "outputs": [],
   "source": [
    "import pandas as pd\n",
    "import matplotlib.pyplot as plt\n",
    "import pyodbc\n",
    "import cx_Oracle\n",
    "%matplotlib inline"
   ]
  },
  {
   "cell_type": "code",
   "execution_count": 255,
   "metadata": {},
   "outputs": [],
   "source": [
    "# conn = pyodbc.connect('DRIVER={SQL Server};SERVER=10.0.185.138;DATABASE=JYDB;UID=js_dev;PWD=js_dev')\n",
    "conn = cx_Oracle.connect('js_dev', '123456', 'wind')"
   ]
  },
  {
   "cell_type": "code",
   "execution_count": 551,
   "metadata": {},
   "outputs": [],
   "source": [
    "# query = 'SELECT f.EndDate, t.SecuCode, f.NetProfitCut \\\n",
    "# FROM LC_MainIndexNew as f, SecuMain as t \\\n",
    "# WHERE t.InnerCode = f.CompanyCode \\\n",
    "#     AND t.SecuCategory = 1 \\\n",
    "#     AND (t.ListedSector = 1 OR t.ListedSector = 2 OR t.ListedSector = 6) \\\n",
    "#     AND t.ListedState = 1'\n",
    "query = 'select t.S_INFO_WINDCODE, t.REPORT_PERIOD, t.S_QFA_CGRNETPROFIT from wind.AShareFinancialIndicator t'"
   ]
  },
  {
   "cell_type": "code",
   "execution_count": 552,
   "metadata": {},
   "outputs": [],
   "source": [
    "df = pd.read_sql_query(query, con=conn)"
   ]
  },
  {
   "cell_type": "code",
   "execution_count": 553,
   "metadata": {},
   "outputs": [
    {
     "data": {
      "text/html": [
       "<div>\n",
       "<style scoped>\n",
       "    .dataframe tbody tr th:only-of-type {\n",
       "        vertical-align: middle;\n",
       "    }\n",
       "\n",
       "    .dataframe tbody tr th {\n",
       "        vertical-align: top;\n",
       "    }\n",
       "\n",
       "    .dataframe thead th {\n",
       "        text-align: right;\n",
       "    }\n",
       "</style>\n",
       "<table border=\"1\" class=\"dataframe\">\n",
       "  <thead>\n",
       "    <tr style=\"text-align: right;\">\n",
       "      <th></th>\n",
       "      <th>S_INFO_WINDCODE</th>\n",
       "      <th>REPORT_PERIOD</th>\n",
       "      <th>S_QFA_CGRNETPROFIT</th>\n",
       "    </tr>\n",
       "  </thead>\n",
       "  <tbody>\n",
       "    <tr>\n",
       "      <th>170722</th>\n",
       "      <td>603022.SH</td>\n",
       "      <td>20171231</td>\n",
       "      <td>-16.7805</td>\n",
       "    </tr>\n",
       "    <tr>\n",
       "      <th>170723</th>\n",
       "      <td>300167.SZ</td>\n",
       "      <td>20171231</td>\n",
       "      <td>-181.2191</td>\n",
       "    </tr>\n",
       "    <tr>\n",
       "      <th>170724</th>\n",
       "      <td>000417.SZ</td>\n",
       "      <td>20171231</td>\n",
       "      <td>-151.9905</td>\n",
       "    </tr>\n",
       "    <tr>\n",
       "      <th>170725</th>\n",
       "      <td>300180.SZ</td>\n",
       "      <td>20171231</td>\n",
       "      <td>-50.7775</td>\n",
       "    </tr>\n",
       "    <tr>\n",
       "      <th>170726</th>\n",
       "      <td>300417.SZ</td>\n",
       "      <td>20171231</td>\n",
       "      <td>31.1837</td>\n",
       "    </tr>\n",
       "  </tbody>\n",
       "</table>\n",
       "</div>"
      ],
      "text/plain": [
       "       S_INFO_WINDCODE REPORT_PERIOD  S_QFA_CGRNETPROFIT\n",
       "170722       603022.SH      20171231            -16.7805\n",
       "170723       300167.SZ      20171231           -181.2191\n",
       "170724       000417.SZ      20171231           -151.9905\n",
       "170725       300180.SZ      20171231            -50.7775\n",
       "170726       300417.SZ      20171231             31.1837"
      ]
     },
     "execution_count": 553,
     "metadata": {},
     "output_type": "execute_result"
    }
   ],
   "source": [
    "df.tail()"
   ]
  },
  {
   "cell_type": "code",
   "execution_count": 554,
   "metadata": {},
   "outputs": [],
   "source": [
    "df = df.set_index('REPORT_PERIOD').sort_index().dropna()"
   ]
  },
  {
   "cell_type": "code",
   "execution_count": 555,
   "metadata": {},
   "outputs": [],
   "source": [
    "df.index = pd.to_datetime(df.index, format='%Y%m%d')"
   ]
  },
  {
   "cell_type": "code",
   "execution_count": 556,
   "metadata": {},
   "outputs": [],
   "source": [
    "df = df[df.index >= '2000-01-01']"
   ]
  },
  {
   "cell_type": "code",
   "execution_count": 557,
   "metadata": {},
   "outputs": [
    {
     "data": {
      "text/html": [
       "<div>\n",
       "<style scoped>\n",
       "    .dataframe tbody tr th:only-of-type {\n",
       "        vertical-align: middle;\n",
       "    }\n",
       "\n",
       "    .dataframe tbody tr th {\n",
       "        vertical-align: top;\n",
       "    }\n",
       "\n",
       "    .dataframe thead th {\n",
       "        text-align: right;\n",
       "    }\n",
       "</style>\n",
       "<table border=\"1\" class=\"dataframe\">\n",
       "  <thead>\n",
       "    <tr style=\"text-align: right;\">\n",
       "      <th></th>\n",
       "      <th>S_INFO_WINDCODE</th>\n",
       "      <th>S_QFA_CGRNETPROFIT</th>\n",
       "    </tr>\n",
       "    <tr>\n",
       "      <th>REPORT_PERIOD</th>\n",
       "      <th></th>\n",
       "      <th></th>\n",
       "    </tr>\n",
       "  </thead>\n",
       "  <tbody>\n",
       "    <tr>\n",
       "      <th>2018-06-30</th>\n",
       "      <td>600696.SH</td>\n",
       "      <td>3.3712</td>\n",
       "    </tr>\n",
       "    <tr>\n",
       "      <th>2018-06-30</th>\n",
       "      <td>002107.SZ</td>\n",
       "      <td>20.2458</td>\n",
       "    </tr>\n",
       "    <tr>\n",
       "      <th>2018-06-30</th>\n",
       "      <td>300034.SZ</td>\n",
       "      <td>27.4299</td>\n",
       "    </tr>\n",
       "    <tr>\n",
       "      <th>2018-06-30</th>\n",
       "      <td>000818.SZ</td>\n",
       "      <td>-11.8029</td>\n",
       "    </tr>\n",
       "    <tr>\n",
       "      <th>2018-06-30</th>\n",
       "      <td>002240.SZ</td>\n",
       "      <td>1199.2807</td>\n",
       "    </tr>\n",
       "  </tbody>\n",
       "</table>\n",
       "</div>"
      ],
      "text/plain": [
       "              S_INFO_WINDCODE  S_QFA_CGRNETPROFIT\n",
       "REPORT_PERIOD                                    \n",
       "2018-06-30          600696.SH              3.3712\n",
       "2018-06-30          002107.SZ             20.2458\n",
       "2018-06-30          300034.SZ             27.4299\n",
       "2018-06-30          000818.SZ            -11.8029\n",
       "2018-06-30          002240.SZ           1199.2807"
      ]
     },
     "execution_count": 557,
     "metadata": {},
     "output_type": "execute_result"
    }
   ],
   "source": [
    "df.tail()"
   ]
  },
  {
   "cell_type": "code",
   "execution_count": 558,
   "metadata": {},
   "outputs": [],
   "source": [
    "df = df.pivot_table('S_QFA_CGRNETPROFIT', index=['REPORT_PERIOD', 'S_INFO_WINDCODE']).unstack()"
   ]
  },
  {
   "cell_type": "code",
   "execution_count": 559,
   "metadata": {},
   "outputs": [
    {
     "data": {
      "text/html": [
       "<div>\n",
       "<style scoped>\n",
       "    .dataframe tbody tr th:only-of-type {\n",
       "        vertical-align: middle;\n",
       "    }\n",
       "\n",
       "    .dataframe tbody tr th {\n",
       "        vertical-align: top;\n",
       "    }\n",
       "\n",
       "    .dataframe thead tr th {\n",
       "        text-align: left;\n",
       "    }\n",
       "\n",
       "    .dataframe thead tr:last-of-type th {\n",
       "        text-align: right;\n",
       "    }\n",
       "</style>\n",
       "<table border=\"1\" class=\"dataframe\">\n",
       "  <thead>\n",
       "    <tr>\n",
       "      <th></th>\n",
       "      <th colspan=\"21\" halign=\"left\">S_QFA_CGRNETPROFIT</th>\n",
       "    </tr>\n",
       "    <tr>\n",
       "      <th>S_INFO_WINDCODE</th>\n",
       "      <th>000001.SZ</th>\n",
       "      <th>000002.SZ</th>\n",
       "      <th>000003.SZ</th>\n",
       "      <th>000004.SZ</th>\n",
       "      <th>000005.SZ</th>\n",
       "      <th>000006.SZ</th>\n",
       "      <th>000007.SZ</th>\n",
       "      <th>000008.SZ</th>\n",
       "      <th>000009.SZ</th>\n",
       "      <th>000010.SZ</th>\n",
       "      <th>...</th>\n",
       "      <th>A18006.SH</th>\n",
       "      <th>A18007.SZ</th>\n",
       "      <th>A18016.SZ</th>\n",
       "      <th>A18018.SH</th>\n",
       "      <th>A18030.SH</th>\n",
       "      <th>A18033.SZ</th>\n",
       "      <th>A18045.SH</th>\n",
       "      <th>A18048.SZ</th>\n",
       "      <th>A18049.SZ</th>\n",
       "      <th>T00018.SH</th>\n",
       "    </tr>\n",
       "    <tr>\n",
       "      <th>REPORT_PERIOD</th>\n",
       "      <th></th>\n",
       "      <th></th>\n",
       "      <th></th>\n",
       "      <th></th>\n",
       "      <th></th>\n",
       "      <th></th>\n",
       "      <th></th>\n",
       "      <th></th>\n",
       "      <th></th>\n",
       "      <th></th>\n",
       "      <th></th>\n",
       "      <th></th>\n",
       "      <th></th>\n",
       "      <th></th>\n",
       "      <th></th>\n",
       "      <th></th>\n",
       "      <th></th>\n",
       "      <th></th>\n",
       "      <th></th>\n",
       "      <th></th>\n",
       "      <th></th>\n",
       "    </tr>\n",
       "  </thead>\n",
       "  <tbody>\n",
       "    <tr>\n",
       "      <th>2017-06-30</th>\n",
       "      <td>2.0277</td>\n",
       "      <td>850.1298</td>\n",
       "      <td>207.3340</td>\n",
       "      <td>-120.2185</td>\n",
       "      <td>24.8835</td>\n",
       "      <td>40.3325</td>\n",
       "      <td>7400.0953</td>\n",
       "      <td>396.5967</td>\n",
       "      <td>39.2510</td>\n",
       "      <td>21.3888</td>\n",
       "      <td>...</td>\n",
       "      <td>NaN</td>\n",
       "      <td>55.2220</td>\n",
       "      <td>NaN</td>\n",
       "      <td>186.723</td>\n",
       "      <td>5.4518</td>\n",
       "      <td>-15.8687</td>\n",
       "      <td>-47.7949</td>\n",
       "      <td>NaN</td>\n",
       "      <td>NaN</td>\n",
       "      <td>NaN</td>\n",
       "    </tr>\n",
       "    <tr>\n",
       "      <th>2017-09-30</th>\n",
       "      <td>4.0852</td>\n",
       "      <td>-42.6654</td>\n",
       "      <td>NaN</td>\n",
       "      <td>35.9245</td>\n",
       "      <td>120.2702</td>\n",
       "      <td>-38.5717</td>\n",
       "      <td>-151.6015</td>\n",
       "      <td>42.6985</td>\n",
       "      <td>115.3974</td>\n",
       "      <td>390.4751</td>\n",
       "      <td>...</td>\n",
       "      <td>126.0181</td>\n",
       "      <td>NaN</td>\n",
       "      <td>NaN</td>\n",
       "      <td>NaN</td>\n",
       "      <td>-9.2876</td>\n",
       "      <td>-9.7582</td>\n",
       "      <td>NaN</td>\n",
       "      <td>NaN</td>\n",
       "      <td>NaN</td>\n",
       "      <td>NaN</td>\n",
       "    </tr>\n",
       "    <tr>\n",
       "      <th>2017-12-31</th>\n",
       "      <td>-38.8392</td>\n",
       "      <td>347.7184</td>\n",
       "      <td>NaN</td>\n",
       "      <td>942.3240</td>\n",
       "      <td>1941.5820</td>\n",
       "      <td>421.0519</td>\n",
       "      <td>157.1634</td>\n",
       "      <td>1035.8159</td>\n",
       "      <td>-147.0883</td>\n",
       "      <td>-1944.0779</td>\n",
       "      <td>...</td>\n",
       "      <td>-21.6064</td>\n",
       "      <td>NaN</td>\n",
       "      <td>NaN</td>\n",
       "      <td>NaN</td>\n",
       "      <td>-59.0076</td>\n",
       "      <td>-68.2731</td>\n",
       "      <td>NaN</td>\n",
       "      <td>NaN</td>\n",
       "      <td>NaN</td>\n",
       "      <td>NaN</td>\n",
       "    </tr>\n",
       "    <tr>\n",
       "      <th>2018-03-31</th>\n",
       "      <td>63.4044</td>\n",
       "      <td>-94.7238</td>\n",
       "      <td>-198.2367</td>\n",
       "      <td>-85.2831</td>\n",
       "      <td>-48.7740</td>\n",
       "      <td>-38.6478</td>\n",
       "      <td>-226.2682</td>\n",
       "      <td>-98.6002</td>\n",
       "      <td>174.5288</td>\n",
       "      <td>95.6648</td>\n",
       "      <td>...</td>\n",
       "      <td>NaN</td>\n",
       "      <td>-70.0767</td>\n",
       "      <td>18.9116</td>\n",
       "      <td>-58.171</td>\n",
       "      <td>NaN</td>\n",
       "      <td>204.5107</td>\n",
       "      <td>60.8661</td>\n",
       "      <td>NaN</td>\n",
       "      <td>NaN</td>\n",
       "      <td>NaN</td>\n",
       "    </tr>\n",
       "    <tr>\n",
       "      <th>2018-06-30</th>\n",
       "      <td>NaN</td>\n",
       "      <td>NaN</td>\n",
       "      <td>NaN</td>\n",
       "      <td>NaN</td>\n",
       "      <td>NaN</td>\n",
       "      <td>NaN</td>\n",
       "      <td>NaN</td>\n",
       "      <td>NaN</td>\n",
       "      <td>NaN</td>\n",
       "      <td>NaN</td>\n",
       "      <td>...</td>\n",
       "      <td>NaN</td>\n",
       "      <td>NaN</td>\n",
       "      <td>NaN</td>\n",
       "      <td>NaN</td>\n",
       "      <td>NaN</td>\n",
       "      <td>NaN</td>\n",
       "      <td>NaN</td>\n",
       "      <td>NaN</td>\n",
       "      <td>NaN</td>\n",
       "      <td>NaN</td>\n",
       "    </tr>\n",
       "  </tbody>\n",
       "</table>\n",
       "<p>5 rows × 3807 columns</p>\n",
       "</div>"
      ],
      "text/plain": [
       "                S_QFA_CGRNETPROFIT                                           \\\n",
       "S_INFO_WINDCODE          000001.SZ 000002.SZ 000003.SZ 000004.SZ  000005.SZ   \n",
       "REPORT_PERIOD                                                                 \n",
       "2017-06-30                  2.0277  850.1298  207.3340 -120.2185    24.8835   \n",
       "2017-09-30                  4.0852  -42.6654       NaN   35.9245   120.2702   \n",
       "2017-12-31                -38.8392  347.7184       NaN  942.3240  1941.5820   \n",
       "2018-03-31                 63.4044  -94.7238 -198.2367  -85.2831   -48.7740   \n",
       "2018-06-30                     NaN       NaN       NaN       NaN        NaN   \n",
       "\n",
       "                                                                      \\\n",
       "S_INFO_WINDCODE 000006.SZ  000007.SZ  000008.SZ 000009.SZ  000010.SZ   \n",
       "REPORT_PERIOD                                                          \n",
       "2017-06-30        40.3325  7400.0953   396.5967   39.2510    21.3888   \n",
       "2017-09-30       -38.5717  -151.6015    42.6985  115.3974   390.4751   \n",
       "2017-12-31       421.0519   157.1634  1035.8159 -147.0883 -1944.0779   \n",
       "2018-03-31       -38.6478  -226.2682   -98.6002  174.5288    95.6648   \n",
       "2018-06-30            NaN        NaN        NaN       NaN        NaN   \n",
       "\n",
       "                   ...                                                       \\\n",
       "S_INFO_WINDCODE    ...    A18006.SH A18007.SZ A18016.SZ A18018.SH A18030.SH   \n",
       "REPORT_PERIOD      ...                                                        \n",
       "2017-06-30         ...          NaN   55.2220       NaN   186.723    5.4518   \n",
       "2017-09-30         ...     126.0181       NaN       NaN       NaN   -9.2876   \n",
       "2017-12-31         ...     -21.6064       NaN       NaN       NaN  -59.0076   \n",
       "2018-03-31         ...          NaN  -70.0767   18.9116   -58.171       NaN   \n",
       "2018-06-30         ...          NaN       NaN       NaN       NaN       NaN   \n",
       "\n",
       "                                                                   \n",
       "S_INFO_WINDCODE A18033.SZ A18045.SH A18048.SZ A18049.SZ T00018.SH  \n",
       "REPORT_PERIOD                                                      \n",
       "2017-06-30       -15.8687  -47.7949       NaN       NaN       NaN  \n",
       "2017-09-30        -9.7582       NaN       NaN       NaN       NaN  \n",
       "2017-12-31       -68.2731       NaN       NaN       NaN       NaN  \n",
       "2018-03-31       204.5107   60.8661       NaN       NaN       NaN  \n",
       "2018-06-30            NaN       NaN       NaN       NaN       NaN  \n",
       "\n",
       "[5 rows x 3807 columns]"
      ]
     },
     "execution_count": 559,
     "metadata": {},
     "output_type": "execute_result"
    }
   ],
   "source": [
    "df.tail()"
   ]
  },
  {
   "cell_type": "code",
   "execution_count": 560,
   "metadata": {},
   "outputs": [
    {
     "data": {
      "text/plain": [
       "<matplotlib.axes._subplots.AxesSubplot at 0x51b667b8>"
      ]
     },
     "execution_count": 560,
     "metadata": {},
     "output_type": "execute_result"
    },
    {
     "data": {
      "image/png": "[encoded data removed]",
      "text/plain": [
       "<Figure size 432x288 with 1 Axes>"
      ]
     },
     "metadata": {},
     "output_type": "display_data"
    }
   ],
   "source": [
    "df[df.index >= '2009-01-01'].median(axis=1).plot()"
   ]
  },
  {
   "cell_type": "code",
   "execution_count": 562,
   "metadata": {},
   "outputs": [],
   "source": [
    "df['S_QFA_CGRNETPROFIT'].median(axis=1).to_excel(u'./归母净利润环比.xlsx')"
   ]
  },
  {
   "cell_type": "code",
   "execution_count": 563,
   "metadata": {},
   "outputs": [
    {
     "data": {
      "text/plain": [
       "REPORT_PERIOD\n",
       "2000-06-30         NaN\n",
       "2000-09-30         NaN\n",
       "2000-12-31         NaN\n",
       "2001-03-31         NaN\n",
       "2001-06-30         NaN\n",
       "2001-09-30         NaN\n",
       "2001-12-31         NaN\n",
       "2002-03-31         NaN\n",
       "2002-06-30    265.2342\n",
       "2002-09-30    -59.7471\n",
       "2002-12-31    334.8409\n",
       "2003-03-31    -79.0480\n",
       "2003-06-30    305.3143\n",
       "2003-09-30    -60.1511\n",
       "2003-12-31    307.4642\n",
       "2004-03-31    -61.0417\n",
       "2004-06-30     99.9486\n",
       "2004-09-30    -66.4692\n",
       "2004-12-31    600.6194\n",
       "2005-03-31    -48.8918\n",
       "2005-06-30    115.6040\n",
       "2005-09-30    -85.8709\n",
       "2005-12-31    523.6202\n",
       "2006-03-31    -14.2785\n",
       "2006-06-30    109.7183\n",
       "2006-09-30    -78.7537\n",
       "2006-12-31    362.0110\n",
       "2007-03-31    -27.4909\n",
       "2007-06-30     72.3935\n",
       "2007-09-30    -76.4234\n",
       "                ...   \n",
       "2011-03-31    -69.9551\n",
       "2011-06-30     47.0965\n",
       "2011-09-30    -65.8120\n",
       "2011-12-31    896.7676\n",
       "2012-03-31    -76.8922\n",
       "2012-06-30     66.8520\n",
       "2012-09-30    -41.8327\n",
       "2012-12-31    451.4677\n",
       "2013-03-31    -78.3986\n",
       "2013-06-30     82.3157\n",
       "2013-09-30    -45.4896\n",
       "2013-12-31    458.5294\n",
       "2014-03-31    -82.9267\n",
       "2014-06-30    114.4363\n",
       "2014-09-30    -49.7251\n",
       "2014-12-31    463.2450\n",
       "2015-03-31    -92.9987\n",
       "2015-06-30    545.3149\n",
       "2015-09-30    -52.1412\n",
       "2015-12-31    460.9534\n",
       "2016-03-31    -92.6033\n",
       "2016-06-30    442.2346\n",
       "2016-09-30    -35.5684\n",
       "2016-12-31    338.3344\n",
       "2017-03-31    -94.5502\n",
       "2017-06-30    850.1298\n",
       "2017-09-30    -42.6654\n",
       "2017-12-31    347.7184\n",
       "2018-03-31    -94.7238\n",
       "2018-06-30         NaN\n",
       "Name: 000002.SZ, Length: 73, dtype: float64"
      ]
     },
     "execution_count": 563,
     "metadata": {},
     "output_type": "execute_result"
    }
   ],
   "source": [
    "df['S_QFA_CGRNETPROFIT']['000002.SZ']"
   ]
  },
  {
   "cell_type": "code",
   "execution_count": null,
   "metadata": {},
   "outputs": [],
   "source": []
  },
  {
   "cell_type": "code",
   "execution_count": 200,
   "metadata": {},
   "outputs": [],
   "source": [
    "dates = [date for date in df.index if date.month==12]"
   ]
  },
  {
   "cell_type": "code",
   "execution_count": 202,
   "metadata": {},
   "outputs": [
    {
     "data": {
      "text/plain": [
       "REPORT_PERIOD\n",
       "2001-12-31   -10.51590\n",
       "2002-12-31   -19.71495\n",
       "2003-12-31    12.35390\n",
       "2004-12-31    -5.21480\n",
       "2005-12-31    -5.88250\n",
       "2006-12-31    46.49930\n",
       "2007-12-31    42.94070\n",
       "2008-12-31   -49.21490\n",
       "2009-12-31    66.88050\n",
       "2010-12-31    20.73080\n",
       "2011-12-31    -4.46800\n",
       "2012-12-31     0.72770\n",
       "2013-12-31    10.55705\n",
       "2014-12-31     8.15360\n",
       "2015-12-31     2.79005\n",
       "2016-12-31    16.22260\n",
       "2017-12-31     9.74020\n",
       "dtype: float64"
      ]
     },
     "execution_count": 202,
     "metadata": {},
     "output_type": "execute_result"
    }
   ],
   "source": [
    "df.loc[dates].median(axis=1, skipna=True)"
   ]
  },
  {
   "cell_type": "code",
   "execution_count": 565,
   "metadata": {},
   "outputs": [
    {
     "data": {
      "text/plain": [
       "                    S_INFO_WINDCODE\n",
       "S_QFA_CGRNETPROFIT  000818.SZ           -11.8029\n",
       "                    002107.SZ            20.2458\n",
       "                    002240.SZ          1199.2807\n",
       "                    002462.SZ            11.2024\n",
       "                    002565.SZ          -108.9571\n",
       "                    002772.SZ          -157.9834\n",
       "                    300001.SZ            15.9384\n",
       "                    300034.SZ            27.4299\n",
       "                    300478.SZ          1831.1680\n",
       "                    600696.SH             3.3712\n",
       "                    600805.SH            46.3755\n",
       "                    601606.SH            10.3902\n",
       "                    603199.SH            -1.5963\n",
       "                    603587.SH            28.0067\n",
       "                    603707.SH           -13.3013\n",
       "                    603713.SH             2.1097\n",
       "Name: 2018-06-30 00:00:00, dtype: float64"
      ]
     },
     "execution_count": 565,
     "metadata": {},
     "output_type": "execute_result"
    }
   ],
   "source": [
    "df.iloc[-1].dropna()"
   ]
  },
  {
   "cell_type": "code",
   "execution_count": null,
   "metadata": {},
   "outputs": [],
   "source": []
  }
 ],
 "metadata": {
  "kernelspec": {
   "display_name": "Python 2",
   "language": "python",
   "name": "python2"
  },
  "language_info": {
   "codemirror_mode": {
    "name": "ipython",
    "version": 2
   },
   "file_extension": ".py",
   "mimetype": "text/x-python",
   "name": "python",
   "nbconvert_exporter": "python",
   "pygments_lexer": "ipython2",
   "version": "2.7.14"
  }
 },
 "nbformat": 4,
 "nbformat_minor": 2
}
