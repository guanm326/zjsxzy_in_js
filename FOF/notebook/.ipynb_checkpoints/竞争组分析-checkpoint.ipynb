{
 "cells": [
  {
   "cell_type": "code",
   "execution_count": 1,
   "metadata": {
    "collapsed": true
   },
   "outputs": [],
   "source": [
    "import pandas as pd\n",
    "import numpy as np\n",
    "import empyrical\n",
    "import matplotlib.pyplot as plt\n",
    "%matplotlib inline"
   ]
  },
  {
   "cell_type": "code",
   "execution_count": 2,
   "metadata": {
    "collapsed": true
   },
   "outputs": [],
   "source": [
    "start_date = '2019-01-07'\n",
    "end_date = '2019-01-14'"
   ]
  },
  {
   "cell_type": "code",
   "execution_count": 3,
   "metadata": {
    "collapsed": true
   },
   "outputs": [],
   "source": [
    "DATA_DIR = 'D:/Data/index'"
   ]
  },
  {
   "cell_type": "markdown",
   "metadata": {},
   "source": [
    "# 主题收益率"
   ]
  },
  {
   "cell_type": "code",
   "execution_count": 4,
   "metadata": {
    "collapsed": true
   },
   "outputs": [],
   "source": [
    "df = pd.read_excel(u'D:/Data/list/主题行业.xlsx', index_col=0)"
   ]
  },
  {
   "cell_type": "code",
   "execution_count": 5,
   "metadata": {
    "collapsed": true
   },
   "outputs": [],
   "source": [
    "df[u'收益率'] = 0"
   ]
  },
  {
   "cell_type": "code",
   "execution_count": 6,
   "metadata": {
    "collapsed": true
   },
   "outputs": [],
   "source": [
    "for wind_code in df.index:\n",
    "    fname = '%s/%s.xlsx'%(DATA_DIR, wind_code)\n",
    "    nav = pd.read_excel(fname, index_col=0)\n",
    "    ret = nav.pct_change()\n",
    "    ret = ret[(ret.index >= start_date) & (ret.index <= end_date)]\n",
    "    df.loc[wind_code, u'收益率'] = empyrical.cum_returns_final(ret['close'])"
   ]
  },
  {
   "cell_type": "code",
   "execution_count": 7,
   "metadata": {},
   "outputs": [
    {
     "data": {
      "text/html": [
       "<div>\n",
       "<style scoped>\n",
       "    .dataframe tbody tr th:only-of-type {\n",
       "        vertical-align: middle;\n",
       "    }\n",
       "\n",
       "    .dataframe tbody tr th {\n",
       "        vertical-align: top;\n",
       "    }\n",
       "\n",
       "    .dataframe thead th {\n",
       "        text-align: right;\n",
       "    }\n",
       "</style>\n",
       "<table border=\"1\" class=\"dataframe\">\n",
       "  <thead>\n",
       "    <tr style=\"text-align: right;\">\n",
       "      <th></th>\n",
       "      <th>名称</th>\n",
       "      <th>收益率</th>\n",
       "    </tr>\n",
       "    <tr>\n",
       "      <th>代码</th>\n",
       "      <th></th>\n",
       "      <th></th>\n",
       "    </tr>\n",
       "  </thead>\n",
       "  <tbody>\n",
       "    <tr>\n",
       "      <th>886060.WI</th>\n",
       "      <td>通信设备指数</td>\n",
       "      <td>0.063496</td>\n",
       "    </tr>\n",
       "    <tr>\n",
       "      <th>886063.WI</th>\n",
       "      <td>半导体指数</td>\n",
       "      <td>0.052265</td>\n",
       "    </tr>\n",
       "    <tr>\n",
       "      <th>886018.WI</th>\n",
       "      <td>发电设备指数</td>\n",
       "      <td>0.050437</td>\n",
       "    </tr>\n",
       "    <tr>\n",
       "      <th>886035.WI</th>\n",
       "      <td>家用电器指数</td>\n",
       "      <td>0.050156</td>\n",
       "    </tr>\n",
       "    <tr>\n",
       "      <th>886064.WI</th>\n",
       "      <td>电信指数</td>\n",
       "      <td>0.049844</td>\n",
       "    </tr>\n",
       "  </tbody>\n",
       "</table>\n",
       "</div>"
      ],
      "text/plain": [
       "               名称       收益率\n",
       "代码                         \n",
       "886060.WI  通信设备指数  0.063496\n",
       "886063.WI   半导体指数  0.052265\n",
       "886018.WI  发电设备指数  0.050437\n",
       "886035.WI  家用电器指数  0.050156\n",
       "886064.WI    电信指数  0.049844"
      ]
     },
     "execution_count": 7,
     "metadata": {},
     "output_type": "execute_result"
    }
   ],
   "source": [
    "df.sort_values(u'收益率', ascending=False).head()"
   ]
  },
  {
   "cell_type": "code",
   "execution_count": 8,
   "metadata": {
    "collapsed": true
   },
   "outputs": [],
   "source": [
    "df.sort_values(u'收益率', ascending=False).to_excel(u'../data/主题.xlsx')"
   ]
  },
  {
   "cell_type": "markdown",
   "metadata": {},
   "source": [
    "# 概念指数"
   ]
  },
  {
   "cell_type": "code",
   "execution_count": 9,
   "metadata": {
    "collapsed": true
   },
   "outputs": [],
   "source": [
    "df = pd.read_excel(u'D:/Data/list/概念板块.xlsx', index_col=0)"
   ]
  },
  {
   "cell_type": "code",
   "execution_count": 10,
   "metadata": {
    "collapsed": true
   },
   "outputs": [],
   "source": [
    "df[u'收益率'] = 0"
   ]
  },
  {
   "cell_type": "code",
   "execution_count": 11,
   "metadata": {
    "collapsed": true
   },
   "outputs": [],
   "source": [
    "for wind_code in df.index:\n",
    "    fname = '%s/%s.xlsx'%(DATA_DIR, wind_code)\n",
    "    nav = pd.read_excel(fname, index_col=0)\n",
    "#     print fname\n",
    "    ret = nav.pct_change()\n",
    "    ret = ret[(ret.index >= start_date) & (ret.index <= end_date)]\n",
    "    df.loc[wind_code, u'收益率'] = empyrical.cum_returns_final(ret['close'])"
   ]
  },
  {
   "cell_type": "code",
   "execution_count": 12,
   "metadata": {},
   "outputs": [
    {
     "data": {
      "text/html": [
       "<div>\n",
       "<style scoped>\n",
       "    .dataframe tbody tr th:only-of-type {\n",
       "        vertical-align: middle;\n",
       "    }\n",
       "\n",
       "    .dataframe tbody tr th {\n",
       "        vertical-align: top;\n",
       "    }\n",
       "\n",
       "    .dataframe thead th {\n",
       "        text-align: right;\n",
       "    }\n",
       "</style>\n",
       "<table border=\"1\" class=\"dataframe\">\n",
       "  <thead>\n",
       "    <tr style=\"text-align: right;\">\n",
       "      <th></th>\n",
       "      <th>名称</th>\n",
       "      <th>收益率</th>\n",
       "    </tr>\n",
       "    <tr>\n",
       "      <th>代码</th>\n",
       "      <th></th>\n",
       "      <th></th>\n",
       "    </tr>\n",
       "  </thead>\n",
       "  <tbody>\n",
       "    <tr>\n",
       "      <th>884166.WI</th>\n",
       "      <td>燃料电池指数</td>\n",
       "      <td>0.125826</td>\n",
       "    </tr>\n",
       "    <tr>\n",
       "      <th>884189.WI</th>\n",
       "      <td>次新股指数</td>\n",
       "      <td>0.104831</td>\n",
       "    </tr>\n",
       "    <tr>\n",
       "      <th>884246.WI</th>\n",
       "      <td>打板指数</td>\n",
       "      <td>0.099090</td>\n",
       "    </tr>\n",
       "    <tr>\n",
       "      <th>884228.WI</th>\n",
       "      <td>无线充电指数</td>\n",
       "      <td>0.094792</td>\n",
       "    </tr>\n",
       "    <tr>\n",
       "      <th>884226.WI</th>\n",
       "      <td>共享汽车指数</td>\n",
       "      <td>0.071884</td>\n",
       "    </tr>\n",
       "  </tbody>\n",
       "</table>\n",
       "</div>"
      ],
      "text/plain": [
       "               名称       收益率\n",
       "代码                         \n",
       "884166.WI  燃料电池指数  0.125826\n",
       "884189.WI   次新股指数  0.104831\n",
       "884246.WI    打板指数  0.099090\n",
       "884228.WI  无线充电指数  0.094792\n",
       "884226.WI  共享汽车指数  0.071884"
      ]
     },
     "execution_count": 12,
     "metadata": {},
     "output_type": "execute_result"
    }
   ],
   "source": [
    "df.sort_values(u'收益率', ascending=False).head()"
   ]
  },
  {
   "cell_type": "code",
   "execution_count": 13,
   "metadata": {
    "collapsed": true
   },
   "outputs": [],
   "source": [
    "df.sort_values(u'收益率', ascending=False).to_excel(u'../data/概念.xlsx')"
   ]
  },
  {
   "cell_type": "markdown",
   "metadata": {},
   "source": [
    "# 版块指数"
   ]
  },
  {
   "cell_type": "code",
   "execution_count": 14,
   "metadata": {
    "collapsed": true
   },
   "outputs": [],
   "source": [
    "df = pd.read_excel(u'D:/Data/list/板块指数.xlsx', index_col=0)"
   ]
  },
  {
   "cell_type": "code",
   "execution_count": 15,
   "metadata": {
    "collapsed": true
   },
   "outputs": [],
   "source": [
    "df[u'收益率'] = 0"
   ]
  },
  {
   "cell_type": "code",
   "execution_count": 16,
   "metadata": {
    "collapsed": true
   },
   "outputs": [],
   "source": [
    "for wind_code in df.index:\n",
    "    fname = '%s/%s.xlsx'%(DATA_DIR, wind_code)\n",
    "    nav = pd.read_excel(fname, index_col=0)\n",
    "    ret = nav.pct_change()\n",
    "    ret = ret[(ret.index >= start_date) & (ret.index <= end_date)]\n",
    "    df.loc[wind_code, u'收益率'] = empyrical.cum_returns_final(ret['close'])"
   ]
  },
  {
   "cell_type": "code",
   "execution_count": 17,
   "metadata": {},
   "outputs": [
    {
     "data": {
      "text/html": [
       "<div>\n",
       "<style scoped>\n",
       "    .dataframe tbody tr th:only-of-type {\n",
       "        vertical-align: middle;\n",
       "    }\n",
       "\n",
       "    .dataframe tbody tr th {\n",
       "        vertical-align: top;\n",
       "    }\n",
       "\n",
       "    .dataframe thead th {\n",
       "        text-align: right;\n",
       "    }\n",
       "</style>\n",
       "<table border=\"1\" class=\"dataframe\">\n",
       "  <thead>\n",
       "    <tr style=\"text-align: right;\">\n",
       "      <th></th>\n",
       "      <th>名称</th>\n",
       "      <th>收益率</th>\n",
       "    </tr>\n",
       "    <tr>\n",
       "      <th>代码</th>\n",
       "      <th></th>\n",
       "      <th></th>\n",
       "    </tr>\n",
       "  </thead>\n",
       "  <tbody>\n",
       "    <tr>\n",
       "      <th>399101.SZ</th>\n",
       "      <td>中小板综</td>\n",
       "      <td>0.032084</td>\n",
       "    </tr>\n",
       "    <tr>\n",
       "      <th>000852.SH</th>\n",
       "      <td>中证1000</td>\n",
       "      <td>0.027506</td>\n",
       "    </tr>\n",
       "    <tr>\n",
       "      <th>399106.SZ</th>\n",
       "      <td>深证综指</td>\n",
       "      <td>0.026470</td>\n",
       "    </tr>\n",
       "    <tr>\n",
       "      <th>000905.SH</th>\n",
       "      <td>中证500</td>\n",
       "      <td>0.024697</td>\n",
       "    </tr>\n",
       "    <tr>\n",
       "      <th>881001.WI</th>\n",
       "      <td>万得全A</td>\n",
       "      <td>0.023189</td>\n",
       "    </tr>\n",
       "    <tr>\n",
       "      <th>399102.SZ</th>\n",
       "      <td>创业板综</td>\n",
       "      <td>0.022956</td>\n",
       "    </tr>\n",
       "    <tr>\n",
       "      <th>000906.SH</th>\n",
       "      <td>中证800</td>\n",
       "      <td>0.020689</td>\n",
       "    </tr>\n",
       "    <tr>\n",
       "      <th>000300.SH</th>\n",
       "      <td>沪深300</td>\n",
       "      <td>0.019403</td>\n",
       "    </tr>\n",
       "    <tr>\n",
       "      <th>000903.SH</th>\n",
       "      <td>中证100</td>\n",
       "      <td>0.018793</td>\n",
       "    </tr>\n",
       "    <tr>\n",
       "      <th>000016.SH</th>\n",
       "      <td>上证50</td>\n",
       "      <td>0.017217</td>\n",
       "    </tr>\n",
       "    <tr>\n",
       "      <th>000001.SH</th>\n",
       "      <td>上证综指</td>\n",
       "      <td>0.015493</td>\n",
       "    </tr>\n",
       "  </tbody>\n",
       "</table>\n",
       "</div>"
      ],
      "text/plain": [
       "               名称       收益率\n",
       "代码                         \n",
       "399101.SZ    中小板综  0.032084\n",
       "000852.SH  中证1000  0.027506\n",
       "399106.SZ    深证综指  0.026470\n",
       "000905.SH   中证500  0.024697\n",
       "881001.WI    万得全A  0.023189\n",
       "399102.SZ    创业板综  0.022956\n",
       "000906.SH   中证800  0.020689\n",
       "000300.SH   沪深300  0.019403\n",
       "000903.SH   中证100  0.018793\n",
       "000016.SH    上证50  0.017217\n",
       "000001.SH    上证综指  0.015493"
      ]
     },
     "execution_count": 17,
     "metadata": {},
     "output_type": "execute_result"
    }
   ],
   "source": [
    "df.sort_values(u'收益率', ascending=False)"
   ]
  },
  {
   "cell_type": "code",
   "execution_count": 18,
   "metadata": {
    "collapsed": true
   },
   "outputs": [],
   "source": [
    "df.sort_values(u'收益率', ascending=False).to_excel(u'../data/板块.xlsx')"
   ]
  },
  {
   "cell_type": "markdown",
   "metadata": {},
   "source": [
    "# 基金公司排名"
   ]
  },
  {
   "cell_type": "code",
   "execution_count": 19,
   "metadata": {
    "collapsed": true
   },
   "outputs": [],
   "source": [
    "nav_fname = u'D:/workspace/data/FOF/comp_ret.xlsx'\n",
    "df = pd.read_excel(nav_fname)\n",
    "fund_comp = pd.read_excel(u'D:/Data/list/基金公司.xlsx')\n",
    "df = df[fund_comp[u'名称']]\n",
    "df.columns = [col.replace(u'基金管理有限公司', '').replace(u'基金管理股份', '').replace(u'基金管理有限责任', '').replace(u'有限公司', '').replace(u'公司', '')\n",
    "              for col in df.columns]"
   ]
  },
  {
   "cell_type": "code",
   "execution_count": 20,
   "metadata": {
    "collapsed": true
   },
   "outputs": [],
   "source": [
    "ret_df = pd.DataFrame({u'名称': df.columns, \n",
    "                       u'WTD': 0,\n",
    "                       u'MTD': 0,\n",
    "                       u'YTD': 0}, index=df.columns)"
   ]
  },
  {
   "cell_type": "markdown",
   "metadata": {},
   "source": [
    "### 近一周收益率"
   ]
  },
  {
   "cell_type": "code",
   "execution_count": 21,
   "metadata": {
    "collapsed": true
   },
   "outputs": [],
   "source": [
    "week_df = df[(df.index >= start_date) & (df.index <= end_date)]"
   ]
  },
  {
   "cell_type": "code",
   "execution_count": 22,
   "metadata": {
    "collapsed": true
   },
   "outputs": [],
   "source": [
    "for col in df.columns:\n",
    "    ret_df.loc[col, u'WTD'] = empyrical.cum_returns_final(week_df[col])"
   ]
  },
  {
   "cell_type": "markdown",
   "metadata": {},
   "source": [
    "### 近一月收益率"
   ]
  },
  {
   "cell_type": "code",
   "execution_count": 23,
   "metadata": {},
   "outputs": [],
   "source": [
    "month_df = df[(df.index >= '-'.join(start_date.split('-')[:2]) + '-01') & (df.index <= end_date)]"
   ]
  },
  {
   "cell_type": "code",
   "execution_count": 24,
   "metadata": {},
   "outputs": [],
   "source": [
    "for col in df.columns:\n",
    "    ret_df.loc[col, u'MTD'] = empyrical.cum_returns_final(month_df[col])"
   ]
  },
  {
   "cell_type": "markdown",
   "metadata": {},
   "source": [
    "### 近一年收益率"
   ]
  },
  {
   "cell_type": "code",
   "execution_count": 25,
   "metadata": {},
   "outputs": [],
   "source": [
    "year_df = df[(df.index >= start_date.split('-')[0] + '-01-01') & (df.index <= end_date)]"
   ]
  },
  {
   "cell_type": "code",
   "execution_count": 26,
   "metadata": {},
   "outputs": [],
   "source": [
    "for col in df.columns:\n",
    "    ret_df.loc[col, u'YTD'] = empyrical.cum_returns_final(year_df[col])"
   ]
  },
  {
   "cell_type": "code",
   "execution_count": 27,
   "metadata": {},
   "outputs": [
    {
     "data": {
      "text/html": [
       "<div>\n",
       "<style scoped>\n",
       "    .dataframe tbody tr th:only-of-type {\n",
       "        vertical-align: middle;\n",
       "    }\n",
       "\n",
       "    .dataframe tbody tr th {\n",
       "        vertical-align: top;\n",
       "    }\n",
       "\n",
       "    .dataframe thead th {\n",
       "        text-align: right;\n",
       "    }\n",
       "</style>\n",
       "<table border=\"1\" class=\"dataframe\">\n",
       "  <thead>\n",
       "    <tr style=\"text-align: right;\">\n",
       "      <th></th>\n",
       "      <th>MTD</th>\n",
       "      <th>WTD</th>\n",
       "      <th>YTD</th>\n",
       "      <th>名称</th>\n",
       "    </tr>\n",
       "  </thead>\n",
       "  <tbody>\n",
       "    <tr>\n",
       "      <th>长信</th>\n",
       "      <td>0.027047</td>\n",
       "      <td>0.026738</td>\n",
       "      <td>0.027047</td>\n",
       "      <td>长信</td>\n",
       "    </tr>\n",
       "    <tr>\n",
       "      <th>诺德</th>\n",
       "      <td>0.008129</td>\n",
       "      <td>0.025440</td>\n",
       "      <td>0.008129</td>\n",
       "      <td>诺德</td>\n",
       "    </tr>\n",
       "    <tr>\n",
       "      <th>汇丰晋信</th>\n",
       "      <td>0.024555</td>\n",
       "      <td>0.024311</td>\n",
       "      <td>0.024555</td>\n",
       "      <td>汇丰晋信</td>\n",
       "    </tr>\n",
       "    <tr>\n",
       "      <th>易方达</th>\n",
       "      <td>0.020744</td>\n",
       "      <td>0.024290</td>\n",
       "      <td>0.020744</td>\n",
       "      <td>易方达</td>\n",
       "    </tr>\n",
       "    <tr>\n",
       "      <th>兴全</th>\n",
       "      <td>0.021880</td>\n",
       "      <td>0.024111</td>\n",
       "      <td>0.021880</td>\n",
       "      <td>兴全</td>\n",
       "    </tr>\n",
       "  </tbody>\n",
       "</table>\n",
       "</div>"
      ],
      "text/plain": [
       "           MTD       WTD       YTD    名称\n",
       "长信    0.027047  0.026738  0.027047    长信\n",
       "诺德    0.008129  0.025440  0.008129    诺德\n",
       "汇丰晋信  0.024555  0.024311  0.024555  汇丰晋信\n",
       "易方达   0.020744  0.024290  0.020744   易方达\n",
       "兴全    0.021880  0.024111  0.021880    兴全"
      ]
     },
     "execution_count": 27,
     "metadata": {},
     "output_type": "execute_result"
    }
   ],
   "source": [
    "ret_df.sort_values(u'WTD', ascending=False).head()"
   ]
  },
  {
   "cell_type": "code",
   "execution_count": 28,
   "metadata": {
    "collapsed": true
   },
   "outputs": [],
   "source": [
    "ret_df.sort_values(u'WTD', ascending=False).to_excel(u'../data/基金公司.xlsx')"
   ]
  },
  {
   "cell_type": "markdown",
   "metadata": {},
   "source": [
    "# 基金公司与主题指数相关性"
   ]
  },
  {
   "cell_type": "code",
   "execution_count": 192,
   "metadata": {
    "collapsed": true
   },
   "outputs": [],
   "source": [
    "nav_fname = u'D:/workspace/data/FOF/comp_ret.xlsx'\n",
    "df = pd.read_excel(nav_fname)\n",
    "fund_comp = pd.read_excel(u'D:/Data/list/基金公司.xlsx')\n",
    "df = df[fund_comp[u'名称']]\n",
    "df.columns = [col.replace(u'基金管理有限公司', '').replace(u'基金管理股份', '').replace(u'基金管理有限责任', '').replace(u'有限公司', '').replace(u'公司', '') \n",
    "              for col in df.columns]"
   ]
  },
  {
   "cell_type": "code",
   "execution_count": 193,
   "metadata": {
    "collapsed": true
   },
   "outputs": [],
   "source": [
    "fund_comp = pd.read_excel(u'../data/基金公司.xlsx')\n",
    "df = df[fund_comp[u'名称']]"
   ]
  },
  {
   "cell_type": "code",
   "execution_count": 194,
   "metadata": {
    "collapsed": true
   },
   "outputs": [],
   "source": [
    "df = df[(df.index >= start_date) & (df.index <= end_date)]"
   ]
  },
  {
   "cell_type": "code",
   "execution_count": 195,
   "metadata": {
    "collapsed": true
   },
   "outputs": [],
   "source": [
    "theme = pd.read_excel(u'../data/主题.xlsx', index_col=0)"
   ]
  },
  {
   "cell_type": "code",
   "execution_count": 196,
   "metadata": {
    "collapsed": true
   },
   "outputs": [],
   "source": [
    "cor_df = pd.DataFrame(index=theme[u'名称'], columns=df.columns)"
   ]
  },
  {
   "cell_type": "code",
   "execution_count": 197,
   "metadata": {},
   "outputs": [
    {
     "name": "stdout",
     "output_type": "stream",
     "text": [
      "机场指数\n",
      "办公用品指数\n",
      "银行指数\n",
      "餐饮旅游指数\n",
      "农业指数\n",
      "电力指数\n",
      "券商指数\n",
      "工程机械指数\n",
      "食品指数\n",
      "软件指数\n",
      "石油天然气指数\n",
      "商业服务指数\n",
      "保险指数\n",
      "贵金属指数\n",
      "公路指数\n",
      "包装指数\n",
      "陆路运输指数\n",
      "燃气指数\n",
      "酒类指数\n",
      "电脑硬件指数\n",
      "航天军工指数\n",
      "化纤指数\n",
      "医疗保健指数\n",
      "重型机械指数\n",
      "房地产指数\n",
      "建筑指数\n",
      "软饮料指数\n",
      "石油化工指数\n",
      "制药指数\n",
      "生物科技指数\n",
      "能源设备指数\n",
      "钢铁指数\n",
      "建材指数\n",
      "煤炭指数\n",
      "水务指数\n",
      "精细化工指数\n",
      "电工电网指数\n",
      "零售指数\n",
      "家用电器指数\n",
      "港口指数\n",
      "化肥农药指数\n",
      "通信设备指数\n",
      "海运指数\n",
      "电信指数\n",
      "多元金融指数\n",
      "贸易指数\n",
      "日用化工指数\n",
      "汽车指数\n",
      "汽车零部件指数\n",
      "纺织服装指数\n",
      "工业机械指数\n",
      "化工原料指数\n",
      "半导体指数\n",
      "综合类指数\n",
      "造纸指数\n",
      "航空指数\n",
      "电子元器件指数\n",
      "互联网指数\n",
      "摩托车指数\n",
      "文化传媒指数\n",
      "休闲用品指数\n",
      "教育指数\n",
      "林木指数\n",
      "基本金属指数\n",
      "家居用品指数\n",
      "发电设备指数\n",
      "环保指数\n"
     ]
    }
   ],
   "source": [
    "for wind_code in theme.index:\n",
    "    fname = '%s/%s.xlsx'%(DATA_DIR, wind_code)\n",
    "    nav = pd.read_excel(fname, index_col=0)\n",
    "    ret = nav.pct_change()\n",
    "    ret = ret[(ret.index >= start_date) & (ret.index <= end_date)]['close']\n",
    "    for col in df.columns:\n",
    "        series = df[col]\n",
    "        cor_df.loc[theme.loc[wind_code, u'名称'], col] = (1+ret).cumprod().corr((1+series).cumprod())\n",
    "    print theme.loc[wind_code, u'名称']"
   ]
  },
  {
   "cell_type": "code",
   "execution_count": 198,
   "metadata": {
    "collapsed": true
   },
   "outputs": [],
   "source": [
    "cor_df.to_excel(u'../data/基金公司-主题.xlsx')"
   ]
  },
  {
   "cell_type": "code",
   "execution_count": 199,
   "metadata": {
    "collapsed": true
   },
   "outputs": [],
   "source": [
    "beta_df = pd.DataFrame(index=theme[u'名称'], columns=df.columns)"
   ]
  },
  {
   "cell_type": "code",
   "execution_count": 200,
   "metadata": {},
   "outputs": [
    {
     "name": "stdout",
     "output_type": "stream",
     "text": [
      "机场指数\n",
      "办公用品指数\n",
      "银行指数\n",
      "餐饮旅游指数\n",
      "农业指数\n",
      "电力指数\n",
      "券商指数\n",
      "工程机械指数\n",
      "食品指数\n",
      "软件指数\n",
      "石油天然气指数\n",
      "商业服务指数\n",
      "保险指数\n",
      "贵金属指数\n",
      "公路指数\n",
      "包装指数\n",
      "陆路运输指数\n",
      "燃气指数\n",
      "酒类指数\n",
      "电脑硬件指数\n",
      "航天军工指数\n",
      "化纤指数\n",
      "医疗保健指数\n",
      "重型机械指数\n",
      "房地产指数\n",
      "建筑指数\n",
      "软饮料指数\n",
      "石油化工指数\n",
      "制药指数\n",
      "生物科技指数\n",
      "能源设备指数\n",
      "钢铁指数\n",
      "建材指数\n",
      "煤炭指数\n",
      "水务指数\n",
      "精细化工指数\n",
      "电工电网指数\n",
      "零售指数\n",
      "家用电器指数\n",
      "港口指数\n",
      "化肥农药指数\n",
      "通信设备指数\n",
      "海运指数\n",
      "电信指数\n",
      "多元金融指数\n",
      "贸易指数\n",
      "日用化工指数\n",
      "汽车指数\n",
      "汽车零部件指数\n",
      "纺织服装指数\n",
      "工业机械指数\n",
      "化工原料指数\n",
      "半导体指数\n",
      "综合类指数\n",
      "造纸指数\n",
      "航空指数\n",
      "电子元器件指数\n",
      "互联网指数\n",
      "摩托车指数\n",
      "文化传媒指数\n",
      "休闲用品指数\n",
      "教育指数\n",
      "林木指数\n",
      "基本金属指数\n",
      "家居用品指数\n",
      "发电设备指数\n",
      "环保指数\n"
     ]
    }
   ],
   "source": [
    "for wind_code in theme.index:\n",
    "    fname = '%s/%s.xlsx'%(DATA_DIR, wind_code)\n",
    "    nav = pd.read_excel(fname, index_col=0)\n",
    "    ret = nav.pct_change()\n",
    "    ret = ret[(ret.index >= start_date) & (ret.index <= end_date)]['close']\n",
    "    for col in df.columns:\n",
    "        series = df[col]\n",
    "        beta_df.loc[theme.loc[wind_code, u'名称'], col] = empyrical.beta(series, ret)\n",
    "    print theme.loc[wind_code, u'名称']"
   ]
  },
  {
   "cell_type": "code",
   "execution_count": 201,
   "metadata": {
    "collapsed": true
   },
   "outputs": [],
   "source": [
    "beta_df.to_excel(u'../data/基金公司-主题-beta.xlsx')"
   ]
  },
  {
   "cell_type": "markdown",
   "metadata": {},
   "source": [
    "# 基金公司与概念指数相关性"
   ]
  },
  {
   "cell_type": "code",
   "execution_count": 202,
   "metadata": {
    "collapsed": true
   },
   "outputs": [],
   "source": [
    "nav_fname = u'D:/workspace/data/FOF/comp_ret.xlsx'\n",
    "df = pd.read_excel(nav_fname)\n",
    "fund_comp = pd.read_excel(u'D:/Data/list/基金公司.xlsx')\n",
    "df = df[fund_comp[u'名称']]\n",
    "df.columns = [col.replace(u'基金管理有限公司', '').replace(u'基金管理股份', '').replace(u'基金管理有限责任', '').replace(u'有限公司', '').replace(u'公司', '')\n",
    "              for col in df.columns]"
   ]
  },
  {
   "cell_type": "code",
   "execution_count": 203,
   "metadata": {
    "collapsed": true
   },
   "outputs": [],
   "source": [
    "fund_comp = pd.read_excel(u'../data/基金公司.xlsx')\n",
    "df = df[fund_comp[u'名称']]"
   ]
  },
  {
   "cell_type": "code",
   "execution_count": 204,
   "metadata": {
    "collapsed": true
   },
   "outputs": [],
   "source": [
    "df = df[(df.index >= start_date) & (df.index <= end_date)]"
   ]
  },
  {
   "cell_type": "code",
   "execution_count": 205,
   "metadata": {
    "collapsed": true
   },
   "outputs": [],
   "source": [
    "concept = pd.read_excel(u'../data/概念.xlsx', index_col=0)"
   ]
  },
  {
   "cell_type": "code",
   "execution_count": 206,
   "metadata": {
    "collapsed": true
   },
   "outputs": [],
   "source": [
    "cor_df = pd.DataFrame(index=concept[u'名称'], columns=df.columns)"
   ]
  },
  {
   "cell_type": "code",
   "execution_count": 207,
   "metadata": {},
   "outputs": [
    {
     "name": "stdout",
     "output_type": "stream",
     "text": [
      "小程序指数\n",
      "新三板指数\n",
      "创投指数\n",
      "智能IC卡指数\n",
      "鸡指数\n",
      "沪股通50指数\n",
      "4G指数\n",
      "去IOE指数\n",
      "最小市值指数\n",
      "猪指数\n",
      "煤电重组指数\n",
      "网络安全指数\n",
      "超级电容指数\n",
      "染料指数\n",
      "网络彩票指数\n",
      "IPV6指数\n",
      "证金概念指数\n",
      "大央企重组指数\n",
      "云计算指数\n",
      "卫星导航指数\n",
      "5G指数\n",
      "征信指数\n",
      "国家队指数\n",
      "粤港澳自贸区指数\n",
      "民营银行指数\n",
      "福建自贸区指数\n",
      "MSCI概念指数\n",
      "智能电网指数\n",
      "移动转售指数\n",
      "国资改革指数\n",
      "上海自贸区指数\n",
      "人工智能指数\n",
      "食品安全指数\n",
      "上海国资改革指数\n",
      "健康中国指数\n",
      "新零售指数\n",
      "移动支付指数\n",
      "参股金融指数\n",
      "智慧医疗指数\n",
      "航母指数\n",
      "浦东新区指数\n",
      "上海本地重组指数\n",
      "能源互联网指数\n",
      "扶贫指数\n",
      "北部湾自贸区指数\n",
      "一带一路指数\n",
      "金控平台指数\n",
      "第三方支付指数\n",
      "军民融合指数\n",
      "融资融券指数\n",
      "高端装备制造指数\n",
      "物联网指数\n",
      "迪士尼指数\n",
      "特高压指数\n",
      "钛白粉指数\n",
      "债转股指数\n",
      "区块链指数\n",
      "职业教育指数\n",
      "国企混改指数\n",
      "智慧城市指数\n",
      "可燃冰指数\n",
      "海南旅游岛指数\n",
      "天津自贸区指数\n",
      "工业4.0指数\n",
      "丝绸之路指数\n",
      "一线龙头指数\n",
      "二线龙头指数\n",
      "粤港澳大湾区指数\n",
      "通用航空指数\n",
      "黄金珠宝指数\n",
      "移动互联网指数\n",
      "行业龙头指数\n",
      "高校指数\n",
      "页岩气和煤层气指数\n",
      "大数据指数\n",
      "生物识别指数\n",
      "房屋租赁指数\n",
      "广东国资改革指数\n",
      "宽带提速指数\n",
      "赛马指数\n",
      "量子通信指数\n",
      "充电桩指数\n",
      "医药电商指数\n",
      "新疆区域振兴指数\n",
      "白马股指数\n",
      "维生素指数\n",
      "金融改革指数\n",
      "智能交通指数\n",
      "民营医院指数\n",
      "生物疫苗指数\n",
      "跨境电商指数\n",
      "在线教育指数\n",
      "O2O指数\n",
      "高送转概念指数\n",
      "三网融合指数\n",
      "保底增持指数\n",
      "西藏振兴指数\n"
     ]
    },
    {
     "ename": "KeyboardInterrupt",
     "evalue": "",
     "output_type": "error",
     "traceback": [
      "\u001b[1;31m---------------------------------------------------------------------------\u001b[0m",
      "\u001b[1;31mKeyboardInterrupt\u001b[0m                         Traceback (most recent call last)",
      "\u001b[1;32m<ipython-input-207-b411f735920c>\u001b[0m in \u001b[0;36m<module>\u001b[1;34m()\u001b[0m\n\u001b[0;32m      1\u001b[0m \u001b[1;32mfor\u001b[0m \u001b[0mwind_code\u001b[0m \u001b[1;32min\u001b[0m \u001b[0mconcept\u001b[0m\u001b[1;33m.\u001b[0m\u001b[0mindex\u001b[0m\u001b[1;33m:\u001b[0m\u001b[1;33m\u001b[0m\u001b[0m\n\u001b[0;32m      2\u001b[0m     \u001b[0mfname\u001b[0m \u001b[1;33m=\u001b[0m \u001b[1;34m'%s/%s.xlsx'\u001b[0m\u001b[1;33m%\u001b[0m\u001b[1;33m(\u001b[0m\u001b[0mDATA_DIR\u001b[0m\u001b[1;33m,\u001b[0m \u001b[0mwind_code\u001b[0m\u001b[1;33m)\u001b[0m\u001b[1;33m\u001b[0m\u001b[0m\n\u001b[1;32m----> 3\u001b[1;33m     \u001b[0mnav\u001b[0m \u001b[1;33m=\u001b[0m \u001b[0mpd\u001b[0m\u001b[1;33m.\u001b[0m\u001b[0mread_excel\u001b[0m\u001b[1;33m(\u001b[0m\u001b[0mfname\u001b[0m\u001b[1;33m,\u001b[0m \u001b[0mindex_col\u001b[0m\u001b[1;33m=\u001b[0m\u001b[1;36m0\u001b[0m\u001b[1;33m)\u001b[0m\u001b[1;33m\u001b[0m\u001b[0m\n\u001b[0m\u001b[0;32m      4\u001b[0m     \u001b[0mret\u001b[0m \u001b[1;33m=\u001b[0m \u001b[0mnav\u001b[0m\u001b[1;33m.\u001b[0m\u001b[0mpct_change\u001b[0m\u001b[1;33m(\u001b[0m\u001b[1;33m)\u001b[0m\u001b[1;33m\u001b[0m\u001b[0m\n\u001b[0;32m      5\u001b[0m     \u001b[0mret\u001b[0m \u001b[1;33m=\u001b[0m \u001b[0mret\u001b[0m\u001b[1;33m[\u001b[0m\u001b[1;33m(\u001b[0m\u001b[0mret\u001b[0m\u001b[1;33m.\u001b[0m\u001b[0mindex\u001b[0m \u001b[1;33m>=\u001b[0m \u001b[0mstart_date\u001b[0m\u001b[1;33m)\u001b[0m \u001b[1;33m&\u001b[0m \u001b[1;33m(\u001b[0m\u001b[0mret\u001b[0m\u001b[1;33m.\u001b[0m\u001b[0mindex\u001b[0m \u001b[1;33m<=\u001b[0m \u001b[0mend_date\u001b[0m\u001b[1;33m)\u001b[0m\u001b[1;33m]\u001b[0m\u001b[1;33m[\u001b[0m\u001b[1;34m'close'\u001b[0m\u001b[1;33m]\u001b[0m\u001b[1;33m\u001b[0m\u001b[0m\n",
      "\u001b[1;32mC:\\Users\\zhangyang01\\AppData\\Local\\Continuum\\anaconda2\\lib\\site-packages\\pandas\\util\\_decorators.pyc\u001b[0m in \u001b[0;36mwrapper\u001b[1;34m(*args, **kwargs)\u001b[0m\n\u001b[0;32m    116\u001b[0m                 \u001b[1;32melse\u001b[0m\u001b[1;33m:\u001b[0m\u001b[1;33m\u001b[0m\u001b[0m\n\u001b[0;32m    117\u001b[0m                     \u001b[0mkwargs\u001b[0m\u001b[1;33m[\u001b[0m\u001b[0mnew_arg_name\u001b[0m\u001b[1;33m]\u001b[0m \u001b[1;33m=\u001b[0m \u001b[0mnew_arg_value\u001b[0m\u001b[1;33m\u001b[0m\u001b[0m\n\u001b[1;32m--> 118\u001b[1;33m             \u001b[1;32mreturn\u001b[0m \u001b[0mfunc\u001b[0m\u001b[1;33m(\u001b[0m\u001b[1;33m*\u001b[0m\u001b[0margs\u001b[0m\u001b[1;33m,\u001b[0m \u001b[1;33m**\u001b[0m\u001b[0mkwargs\u001b[0m\u001b[1;33m)\u001b[0m\u001b[1;33m\u001b[0m\u001b[0m\n\u001b[0m\u001b[0;32m    119\u001b[0m         \u001b[1;32mreturn\u001b[0m \u001b[0mwrapper\u001b[0m\u001b[1;33m\u001b[0m\u001b[0m\n\u001b[0;32m    120\u001b[0m     \u001b[1;32mreturn\u001b[0m \u001b[0m_deprecate_kwarg\u001b[0m\u001b[1;33m\u001b[0m\u001b[0m\n",
      "\u001b[1;32mC:\\Users\\zhangyang01\\AppData\\Local\\Continuum\\anaconda2\\lib\\site-packages\\pandas\\io\\excel.pyc\u001b[0m in \u001b[0;36mread_excel\u001b[1;34m(io, sheet_name, header, skiprows, skip_footer, index_col, names, usecols, parse_dates, date_parser, na_values, thousands, convert_float, converters, dtype, true_values, false_values, engine, squeeze, **kwds)\u001b[0m\n\u001b[0;32m    236\u001b[0m         \u001b[0mconvert_float\u001b[0m\u001b[1;33m=\u001b[0m\u001b[0mconvert_float\u001b[0m\u001b[1;33m,\u001b[0m \u001b[0mskip_footer\u001b[0m\u001b[1;33m=\u001b[0m\u001b[0mskip_footer\u001b[0m\u001b[1;33m,\u001b[0m\u001b[1;33m\u001b[0m\u001b[0m\n\u001b[0;32m    237\u001b[0m         \u001b[0mconverters\u001b[0m\u001b[1;33m=\u001b[0m\u001b[0mconverters\u001b[0m\u001b[1;33m,\u001b[0m \u001b[0mdtype\u001b[0m\u001b[1;33m=\u001b[0m\u001b[0mdtype\u001b[0m\u001b[1;33m,\u001b[0m \u001b[0mtrue_values\u001b[0m\u001b[1;33m=\u001b[0m\u001b[0mtrue_values\u001b[0m\u001b[1;33m,\u001b[0m\u001b[1;33m\u001b[0m\u001b[0m\n\u001b[1;32m--> 238\u001b[1;33m         false_values=false_values, squeeze=squeeze, **kwds)\n\u001b[0m\u001b[0;32m    239\u001b[0m \u001b[1;33m\u001b[0m\u001b[0m\n\u001b[0;32m    240\u001b[0m \u001b[1;33m\u001b[0m\u001b[0m\n",
      "\u001b[1;32mC:\\Users\\zhangyang01\\AppData\\Local\\Continuum\\anaconda2\\lib\\site-packages\\pandas\\io\\excel.pyc\u001b[0m in \u001b[0;36m_parse_excel\u001b[1;34m(self, sheetname, header, skiprows, names, skip_footer, index_col, usecols, parse_dates, date_parser, na_values, thousands, convert_float, true_values, false_values, verbose, dtype, squeeze, **kwds)\u001b[0m\n\u001b[0;32m    474\u001b[0m             \u001b[1;32mfor\u001b[0m \u001b[0mi\u001b[0m \u001b[1;32min\u001b[0m \u001b[0mrange\u001b[0m\u001b[1;33m(\u001b[0m\u001b[0msheet\u001b[0m\u001b[1;33m.\u001b[0m\u001b[0mnrows\u001b[0m\u001b[1;33m)\u001b[0m\u001b[1;33m:\u001b[0m\u001b[1;33m\u001b[0m\u001b[0m\n\u001b[0;32m    475\u001b[0m                 \u001b[0mrow\u001b[0m \u001b[1;33m=\u001b[0m \u001b[1;33m[\u001b[0m\u001b[1;33m]\u001b[0m\u001b[1;33m\u001b[0m\u001b[0m\n\u001b[1;32m--> 476\u001b[1;33m                 for j, (value, typ) in enumerate(zip(sheet.row_values(i),\n\u001b[0m\u001b[0;32m    477\u001b[0m                                                      sheet.row_types(i))):\n\u001b[0;32m    478\u001b[0m                     \u001b[1;32mif\u001b[0m \u001b[0musecols\u001b[0m \u001b[1;32mis\u001b[0m \u001b[1;32mnot\u001b[0m \u001b[0mNone\u001b[0m \u001b[1;32mand\u001b[0m \u001b[0mj\u001b[0m \u001b[1;32mnot\u001b[0m \u001b[1;32min\u001b[0m \u001b[0mshould_parse\u001b[0m\u001b[1;33m:\u001b[0m\u001b[1;33m\u001b[0m\u001b[0m\n",
      "\u001b[1;31mKeyboardInterrupt\u001b[0m: "
     ]
    }
   ],
   "source": [
    "for wind_code in concept.index:\n",
    "    fname = '%s/%s.xlsx'%(DATA_DIR, wind_code)\n",
    "    nav = pd.read_excel(fname, index_col=0)\n",
    "    ret = nav.pct_change()\n",
    "    ret = ret[(ret.index >= start_date) & (ret.index <= end_date)]['close']\n",
    "    for col in df.columns:\n",
    "        series = df[col]\n",
    "        cor_df.loc[concept.loc[wind_code, u'名称'], col] = (1+ret).cumprod().corr((1+series).cumprod())\n",
    "    print concept.loc[wind_code, u'名称']"
   ]
  },
  {
   "cell_type": "code",
   "execution_count": null,
   "metadata": {
    "collapsed": true
   },
   "outputs": [],
   "source": [
    "cor_df.to_excel(u'../data/基金公司-概念.xlsx')"
   ]
  },
  {
   "cell_type": "code",
   "execution_count": null,
   "metadata": {
    "collapsed": true
   },
   "outputs": [],
   "source": [
    "beta_df = pd.DataFrame(index=concept[u'名称'], columns=df.columns)"
   ]
  },
  {
   "cell_type": "code",
   "execution_count": null,
   "metadata": {},
   "outputs": [],
   "source": [
    "for wind_code in concept.index:\n",
    "    fname = '%s/%s.xlsx'%(DATA_DIR, wind_code)\n",
    "    nav = pd.read_excel(fname, index_col=0)\n",
    "    ret = nav.pct_change()\n",
    "    ret = ret[(ret.index >= start_date) & (ret.index <= end_date)]['close']\n",
    "    for col in df.columns:\n",
    "        series = df[col]\n",
    "        beta_df.loc[concept.loc[wind_code, u'名称'], col] = empyrical.beta(series, ret)\n",
    "    print concept.loc[wind_code, u'名称']"
   ]
  },
  {
   "cell_type": "code",
   "execution_count": null,
   "metadata": {
    "collapsed": true
   },
   "outputs": [],
   "source": [
    "beta_df.to_excel(u'../data/基金公司-概念-beta.xlsx')"
   ]
  },
  {
   "cell_type": "markdown",
   "metadata": {},
   "source": [
    "# 基金公司与板块指数相关性"
   ]
  },
  {
   "cell_type": "code",
   "execution_count": null,
   "metadata": {
    "collapsed": true
   },
   "outputs": [],
   "source": [
    "nav_fname = u'D:/workspace/data/FOF/comp_ret.xlsx'\n",
    "df = pd.read_excel(nav_fname)\n",
    "fund_comp = pd.read_excel(u'D:/Data/list/基金公司.xlsx')\n",
    "df = df[fund_comp[u'名称']]\n",
    "df.columns = [col.replace(u'基金管理有限公司', '').replace(u'基金管理股份', '').replace(u'基金管理有限责任', '').replace(u'有限公司', '').replace(u'公司', '')\n",
    "              for col in df.columns]"
   ]
  },
  {
   "cell_type": "code",
   "execution_count": null,
   "metadata": {
    "collapsed": true
   },
   "outputs": [],
   "source": [
    "fund_comp = pd.read_excel(u'../data/基金公司.xlsx')\n",
    "df = df[fund_comp[u'名称']]"
   ]
  },
  {
   "cell_type": "code",
   "execution_count": null,
   "metadata": {
    "collapsed": true
   },
   "outputs": [],
   "source": [
    "df = df[(df.index >= start_date) & (df.index <= end_date)]"
   ]
  },
  {
   "cell_type": "code",
   "execution_count": null,
   "metadata": {
    "collapsed": true
   },
   "outputs": [],
   "source": [
    "sector = pd.read_excel(u'../data/板块.xlsx', index_col=0)"
   ]
  },
  {
   "cell_type": "code",
   "execution_count": null,
   "metadata": {
    "collapsed": true
   },
   "outputs": [],
   "source": [
    "cor_df = pd.DataFrame(index=sector[u'名称'], columns=df.columns)"
   ]
  },
  {
   "cell_type": "code",
   "execution_count": null,
   "metadata": {},
   "outputs": [],
   "source": [
    "for wind_code in sector.index:\n",
    "    fname = '%s/%s.xlsx'%(DATA_DIR, wind_code)\n",
    "    nav = pd.read_excel(fname, index_col=0)\n",
    "    ret = nav.pct_change()\n",
    "    ret = ret[(ret.index >= start_date) & (ret.index <= end_date)]['close']\n",
    "    for col in df.columns:\n",
    "        series = df[col]\n",
    "        cor_df.loc[sector.loc[wind_code, u'名称'], col] = (1+ret).cumprod().corr((1+series).cumprod())\n",
    "    print sector.loc[wind_code, u'名称']"
   ]
  },
  {
   "cell_type": "code",
   "execution_count": null,
   "metadata": {
    "collapsed": true
   },
   "outputs": [],
   "source": [
    "cor_df.to_excel(u'../data/基金公司-板块.xlsx')"
   ]
  },
  {
   "cell_type": "code",
   "execution_count": null,
   "metadata": {
    "collapsed": true
   },
   "outputs": [],
   "source": [
    "beta_df = pd.DataFrame(index=sector[u'名称'], columns=df.columns)"
   ]
  },
  {
   "cell_type": "code",
   "execution_count": null,
   "metadata": {},
   "outputs": [],
   "source": [
    "for wind_code in sector.index:\n",
    "    fname = '%s/%s.xlsx'%(DATA_DIR, wind_code)\n",
    "    nav = pd.read_excel(fname, index_col=0)\n",
    "    ret = nav.pct_change()\n",
    "    ret = ret[(ret.index >= start_date) & (ret.index <= end_date)]['close']\n",
    "    for col in df.columns:\n",
    "        series = df[col]\n",
    "        beta_df.loc[sector.loc[wind_code, u'名称'], col] = empyrical.beta(series, ret)\n",
    "    print sector.loc[wind_code, u'名称']"
   ]
  },
  {
   "cell_type": "code",
   "execution_count": null,
   "metadata": {
    "collapsed": true
   },
   "outputs": [],
   "source": [
    "beta_df.to_excel(u'../data/基金公司-板块-beta.xlsx')"
   ]
  },
  {
   "cell_type": "code",
   "execution_count": null,
   "metadata": {
    "collapsed": true
   },
   "outputs": [],
   "source": []
  },
  {
   "cell_type": "code",
   "execution_count": null,
   "metadata": {
    "collapsed": true
   },
   "outputs": [],
   "source": []
  },
  {
   "cell_type": "code",
   "execution_count": null,
   "metadata": {},
   "outputs": [],
   "source": []
  }
 ],
 "metadata": {
  "anaconda-cloud": {},
  "kernelspec": {
   "display_name": "Python 2",
   "language": "python",
   "name": "python2"
  },
  "language_info": {
   "codemirror_mode": {
    "name": "ipython",
    "version": 2
   },
   "file_extension": ".py",
   "mimetype": "text/x-python",
   "name": "python",
   "nbconvert_exporter": "python",
   "pygments_lexer": "ipython2",
   "version": "2.7.14"
  }
 },
 "nbformat": 4,
 "nbformat_minor": 2
}
