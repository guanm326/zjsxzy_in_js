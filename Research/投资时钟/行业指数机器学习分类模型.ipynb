{
 "cells": [
  {
   "cell_type": "code",
   "execution_count": 1,
   "metadata": {
    "collapsed": true
   },
   "outputs": [],
   "source": [
    "import pandas as pd\n",
    "import matplotlib.pyplot as plt\n",
    "%matplotlib inline"
   ]
  },
  {
   "cell_type": "code",
   "execution_count": 2,
   "metadata": {
    "collapsed": true
   },
   "outputs": [],
   "source": [
    "df = pd.read_excel('./data/stock price.xlsx')"
   ]
  },
  {
   "cell_type": "code",
   "execution_count": 3,
   "metadata": {},
   "outputs": [
    {
     "data": {
      "text/html": [
       "<div>\n",
       "<style scoped>\n",
       "    .dataframe tbody tr th:only-of-type {\n",
       "        vertical-align: middle;\n",
       "    }\n",
       "\n",
       "    .dataframe tbody tr th {\n",
       "        vertical-align: top;\n",
       "    }\n",
       "\n",
       "    .dataframe thead th {\n",
       "        text-align: right;\n",
       "    }\n",
       "</style>\n",
       "<table border=\"1\" class=\"dataframe\">\n",
       "  <thead>\n",
       "    <tr style=\"text-align: right;\">\n",
       "      <th></th>\n",
       "      <th>881001.WI</th>\n",
       "      <th>CI005001.WI</th>\n",
       "      <th>CI005002.WI</th>\n",
       "      <th>CI005003.WI</th>\n",
       "      <th>CI005004.WI</th>\n",
       "      <th>CI005005.WI</th>\n",
       "      <th>CI005006.WI</th>\n",
       "      <th>CI005007.WI</th>\n",
       "      <th>CI005008.WI</th>\n",
       "      <th>CI005009.WI</th>\n",
       "      <th>...</th>\n",
       "      <th>CI005020.WI</th>\n",
       "      <th>CI005021.WI</th>\n",
       "      <th>CI005022.WI</th>\n",
       "      <th>CI005023.WI</th>\n",
       "      <th>CI005024.WI</th>\n",
       "      <th>CI005025.WI</th>\n",
       "      <th>CI005026.WI</th>\n",
       "      <th>CI005027.WI</th>\n",
       "      <th>CI005028.WI</th>\n",
       "      <th>CI005029.WI</th>\n",
       "    </tr>\n",
       "  </thead>\n",
       "  <tbody>\n",
       "    <tr>\n",
       "      <th>2005-01-04</th>\n",
       "      <td>760.8923</td>\n",
       "      <td>972.6953</td>\n",
       "      <td>971.6588</td>\n",
       "      <td>974.9029</td>\n",
       "      <td>983.8077</td>\n",
       "      <td>976.2269</td>\n",
       "      <td>984.1301</td>\n",
       "      <td>985.7494</td>\n",
       "      <td>988.6503</td>\n",
       "      <td>984.3312</td>\n",
       "      <td>...</td>\n",
       "      <td>990.2624</td>\n",
       "      <td>984.9190</td>\n",
       "      <td>971.4580</td>\n",
       "      <td>993.1926</td>\n",
       "      <td>986.6346</td>\n",
       "      <td>992.7887</td>\n",
       "      <td>989.8816</td>\n",
       "      <td>997.8527</td>\n",
       "      <td>1001.2205</td>\n",
       "      <td>997.1057</td>\n",
       "    </tr>\n",
       "    <tr>\n",
       "      <th>2005-01-05</th>\n",
       "      <td>770.8937</td>\n",
       "      <td>972.4125</td>\n",
       "      <td>976.6908</td>\n",
       "      <td>988.5014</td>\n",
       "      <td>993.2399</td>\n",
       "      <td>983.7726</td>\n",
       "      <td>994.4515</td>\n",
       "      <td>1001.7736</td>\n",
       "      <td>1003.5723</td>\n",
       "      <td>997.8509</td>\n",
       "      <td>...</td>\n",
       "      <td>1005.2765</td>\n",
       "      <td>975.7218</td>\n",
       "      <td>991.0295</td>\n",
       "      <td>1018.1711</td>\n",
       "      <td>996.0323</td>\n",
       "      <td>1009.8923</td>\n",
       "      <td>1005.5461</td>\n",
       "      <td>1026.2292</td>\n",
       "      <td>1040.0349</td>\n",
       "      <td>1019.9167</td>\n",
       "    </tr>\n",
       "    <tr>\n",
       "      <th>2005-01-06</th>\n",
       "      <td>763.8040</td>\n",
       "      <td>953.4392</td>\n",
       "      <td>957.3087</td>\n",
       "      <td>965.2290</td>\n",
       "      <td>979.5781</td>\n",
       "      <td>969.9842</td>\n",
       "      <td>983.2128</td>\n",
       "      <td>993.2242</td>\n",
       "      <td>990.7411</td>\n",
       "      <td>994.4649</td>\n",
       "      <td>...</td>\n",
       "      <td>994.1639</td>\n",
       "      <td>965.1899</td>\n",
       "      <td>992.4178</td>\n",
       "      <td>1017.2031</td>\n",
       "      <td>992.8979</td>\n",
       "      <td>1001.3624</td>\n",
       "      <td>989.5672</td>\n",
       "      <td>1024.9278</td>\n",
       "      <td>1039.1674</td>\n",
       "      <td>1013.4837</td>\n",
       "    </tr>\n",
       "    <tr>\n",
       "      <th>2005-01-07</th>\n",
       "      <td>765.6346</td>\n",
       "      <td>954.5805</td>\n",
       "      <td>920.7459</td>\n",
       "      <td>963.1241</td>\n",
       "      <td>977.8708</td>\n",
       "      <td>969.1005</td>\n",
       "      <td>985.9675</td>\n",
       "      <td>1000.5584</td>\n",
       "      <td>994.2298</td>\n",
       "      <td>998.8018</td>\n",
       "      <td>...</td>\n",
       "      <td>1001.1542</td>\n",
       "      <td>965.4274</td>\n",
       "      <td>1000.2445</td>\n",
       "      <td>1035.1659</td>\n",
       "      <td>991.2206</td>\n",
       "      <td>1018.5846</td>\n",
       "      <td>990.8038</td>\n",
       "      <td>1021.6451</td>\n",
       "      <td>1034.9097</td>\n",
       "      <td>1019.1937</td>\n",
       "    </tr>\n",
       "    <tr>\n",
       "      <th>2005-01-10</th>\n",
       "      <td>772.7560</td>\n",
       "      <td>943.7885</td>\n",
       "      <td>928.6835</td>\n",
       "      <td>970.7866</td>\n",
       "      <td>987.2175</td>\n",
       "      <td>977.4942</td>\n",
       "      <td>993.5618</td>\n",
       "      <td>1010.2930</td>\n",
       "      <td>1004.6849</td>\n",
       "      <td>1006.5051</td>\n",
       "      <td>...</td>\n",
       "      <td>1009.0260</td>\n",
       "      <td>992.1642</td>\n",
       "      <td>1012.0100</td>\n",
       "      <td>1044.1267</td>\n",
       "      <td>996.8280</td>\n",
       "      <td>1027.5371</td>\n",
       "      <td>999.0348</td>\n",
       "      <td>1036.1612</td>\n",
       "      <td>1049.5606</td>\n",
       "      <td>1031.6837</td>\n",
       "    </tr>\n",
       "  </tbody>\n",
       "</table>\n",
       "<p>5 rows × 30 columns</p>\n",
       "</div>"
      ],
      "text/plain": [
       "            881001.WI  CI005001.WI  CI005002.WI  CI005003.WI  CI005004.WI  \\\n",
       "2005-01-04   760.8923     972.6953     971.6588     974.9029     983.8077   \n",
       "2005-01-05   770.8937     972.4125     976.6908     988.5014     993.2399   \n",
       "2005-01-06   763.8040     953.4392     957.3087     965.2290     979.5781   \n",
       "2005-01-07   765.6346     954.5805     920.7459     963.1241     977.8708   \n",
       "2005-01-10   772.7560     943.7885     928.6835     970.7866     987.2175   \n",
       "\n",
       "            CI005005.WI  CI005006.WI  CI005007.WI  CI005008.WI  CI005009.WI  \\\n",
       "2005-01-04     976.2269     984.1301     985.7494     988.6503     984.3312   \n",
       "2005-01-05     983.7726     994.4515    1001.7736    1003.5723     997.8509   \n",
       "2005-01-06     969.9842     983.2128     993.2242     990.7411     994.4649   \n",
       "2005-01-07     969.1005     985.9675    1000.5584     994.2298     998.8018   \n",
       "2005-01-10     977.4942     993.5618    1010.2930    1004.6849    1006.5051   \n",
       "\n",
       "               ...       CI005020.WI  CI005021.WI  CI005022.WI  CI005023.WI  \\\n",
       "2005-01-04     ...          990.2624     984.9190     971.4580     993.1926   \n",
       "2005-01-05     ...         1005.2765     975.7218     991.0295    1018.1711   \n",
       "2005-01-06     ...          994.1639     965.1899     992.4178    1017.2031   \n",
       "2005-01-07     ...         1001.1542     965.4274    1000.2445    1035.1659   \n",
       "2005-01-10     ...         1009.0260     992.1642    1012.0100    1044.1267   \n",
       "\n",
       "            CI005024.WI  CI005025.WI  CI005026.WI  CI005027.WI  CI005028.WI  \\\n",
       "2005-01-04     986.6346     992.7887     989.8816     997.8527    1001.2205   \n",
       "2005-01-05     996.0323    1009.8923    1005.5461    1026.2292    1040.0349   \n",
       "2005-01-06     992.8979    1001.3624     989.5672    1024.9278    1039.1674   \n",
       "2005-01-07     991.2206    1018.5846     990.8038    1021.6451    1034.9097   \n",
       "2005-01-10     996.8280    1027.5371     999.0348    1036.1612    1049.5606   \n",
       "\n",
       "            CI005029.WI  \n",
       "2005-01-04     997.1057  \n",
       "2005-01-05    1019.9167  \n",
       "2005-01-06    1013.4837  \n",
       "2005-01-07    1019.1937  \n",
       "2005-01-10    1031.6837  \n",
       "\n",
       "[5 rows x 30 columns]"
      ]
     },
     "execution_count": 3,
     "metadata": {},
     "output_type": "execute_result"
    }
   ],
   "source": [
    "df.head()"
   ]
  },
  {
   "cell_type": "code",
   "execution_count": 5,
   "metadata": {},
   "outputs": [],
   "source": [
    "rdf = df.pct_change()"
   ]
  },
  {
   "cell_type": "code",
   "execution_count": 7,
   "metadata": {},
   "outputs": [],
   "source": [
    "Y = df['881001.WI'].pct_change(20).shift(-20)"
   ]
  },
  {
   "cell_type": "code",
   "execution_count": 11,
   "metadata": {},
   "outputs": [],
   "source": [
    "Y = Y.dropna()\n",
    "rdf = rdf.loc[Y.index]"
   ]
  },
  {
   "cell_type": "code",
   "execution_count": 12,
   "metadata": {
    "collapsed": true
   },
   "outputs": [],
   "source": [
    "from sklearn.ensemble import GradientBoostingClassifier"
   ]
  },
  {
   "cell_type": "code",
   "execution_count": 13,
   "metadata": {
    "collapsed": true
   },
   "outputs": [],
   "source": [
    "Y[Y >= 0.05] = 1\n",
    "Y[Y < 0.05] = 0"
   ]
  },
  {
   "cell_type": "code",
   "execution_count": 14,
   "metadata": {},
   "outputs": [
    {
     "data": {
      "text/plain": [
       "(983L,)"
      ]
     },
     "execution_count": 14,
     "metadata": {},
     "output_type": "execute_result"
    }
   ],
   "source": []
  },
  {
   "cell_type": "code",
   "execution_count": null,
   "metadata": {
    "collapsed": true
   },
   "outputs": [],
   "source": []
  }
 ],
 "metadata": {
  "kernelspec": {
   "display_name": "Python 2",
   "language": "python",
   "name": "python2"
  },
  "language_info": {
   "codemirror_mode": {
    "name": "ipython",
    "version": 2
   },
   "file_extension": ".py",
   "mimetype": "text/x-python",
   "name": "python",
   "nbconvert_exporter": "python",
   "pygments_lexer": "ipython2",
   "version": "2.7.14"
  }
 },
 "nbformat": 4,
 "nbformat_minor": 2
}
