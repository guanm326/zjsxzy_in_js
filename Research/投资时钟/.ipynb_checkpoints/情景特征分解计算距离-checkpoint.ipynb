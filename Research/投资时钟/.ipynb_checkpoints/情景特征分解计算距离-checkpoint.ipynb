{
 "cells": [
  {
   "cell_type": "code",
   "execution_count": 784,
   "metadata": {
    "collapsed": true
   },
   "outputs": [],
   "source": [
    "import pandas as pd\n",
    "import numpy as np\n",
    "from numpy import linalg as LA\n",
    "import matplotlib.pyplot as plt\n",
    "from sklearn.decomposition import PCA\n",
    "from sklearn import preprocessing\n",
    "%matplotlib inline"
   ]
  },
  {
   "cell_type": "markdown",
   "metadata": {},
   "source": [
    "# 读取数据"
   ]
  },
  {
   "cell_type": "markdown",
   "metadata": {},
   "source": [
    "## PMI"
   ]
  },
  {
   "cell_type": "code",
   "execution_count": 785,
   "metadata": {
    "collapsed": true
   },
   "outputs": [],
   "source": [
    "macro_df = pd.read_excel('./data/scenario.xlsx', sheetname='macro')"
   ]
  },
  {
   "cell_type": "code",
   "execution_count": 786,
   "metadata": {},
   "outputs": [
    {
     "data": {
      "text/html": [
       "<div>\n",
       "<style>\n",
       "    .dataframe thead tr:only-child th {\n",
       "        text-align: right;\n",
       "    }\n",
       "\n",
       "    .dataframe thead th {\n",
       "        text-align: left;\n",
       "    }\n",
       "\n",
       "    .dataframe tbody tr th {\n",
       "        vertical-align: top;\n",
       "    }\n",
       "</style>\n",
       "<table border=\"1\" class=\"dataframe\">\n",
       "  <thead>\n",
       "    <tr style=\"text-align: right;\">\n",
       "      <th></th>\n",
       "      <th>工业增加值</th>\n",
       "      <th>PMI</th>\n",
       "    </tr>\n",
       "  </thead>\n",
       "  <tbody>\n",
       "    <tr>\n",
       "      <th>2005-01-31</th>\n",
       "      <td>20.9</td>\n",
       "      <td>54.7</td>\n",
       "    </tr>\n",
       "    <tr>\n",
       "      <th>2005-02-28</th>\n",
       "      <td>7.6</td>\n",
       "      <td>54.5</td>\n",
       "    </tr>\n",
       "    <tr>\n",
       "      <th>2005-03-31</th>\n",
       "      <td>15.1</td>\n",
       "      <td>57.9</td>\n",
       "    </tr>\n",
       "    <tr>\n",
       "      <th>2005-04-30</th>\n",
       "      <td>16.0</td>\n",
       "      <td>56.7</td>\n",
       "    </tr>\n",
       "    <tr>\n",
       "      <th>2005-05-31</th>\n",
       "      <td>16.6</td>\n",
       "      <td>52.9</td>\n",
       "    </tr>\n",
       "  </tbody>\n",
       "</table>\n",
       "</div>"
      ],
      "text/plain": [
       "            工业增加值   PMI\n",
       "2005-01-31   20.9  54.7\n",
       "2005-02-28    7.6  54.5\n",
       "2005-03-31   15.1  57.9\n",
       "2005-04-30   16.0  56.7\n",
       "2005-05-31   16.6  52.9"
      ]
     },
     "execution_count": 786,
     "metadata": {},
     "output_type": "execute_result"
    }
   ],
   "source": [
    "macro_df.dropna().head()"
   ]
  },
  {
   "cell_type": "markdown",
   "metadata": {},
   "source": [
    "## CPI"
   ]
  },
  {
   "cell_type": "code",
   "execution_count": 787,
   "metadata": {
    "collapsed": true
   },
   "outputs": [],
   "source": [
    "inflation_df = pd.read_excel('./data/scenario.xlsx', sheetname='inflation')"
   ]
  },
  {
   "cell_type": "code",
   "execution_count": 788,
   "metadata": {},
   "outputs": [
    {
     "data": {
      "text/html": [
       "<div>\n",
       "<style>\n",
       "    .dataframe thead tr:only-child th {\n",
       "        text-align: right;\n",
       "    }\n",
       "\n",
       "    .dataframe thead th {\n",
       "        text-align: left;\n",
       "    }\n",
       "\n",
       "    .dataframe tbody tr th {\n",
       "        vertical-align: top;\n",
       "    }\n",
       "</style>\n",
       "<table border=\"1\" class=\"dataframe\">\n",
       "  <thead>\n",
       "    <tr style=\"text-align: right;\">\n",
       "      <th></th>\n",
       "      <th>CPI</th>\n",
       "      <th>PPI</th>\n",
       "    </tr>\n",
       "  </thead>\n",
       "  <tbody>\n",
       "    <tr>\n",
       "      <th>1996-10-31</th>\n",
       "      <td>7.0</td>\n",
       "      <td>0.34</td>\n",
       "    </tr>\n",
       "    <tr>\n",
       "      <th>1996-11-30</th>\n",
       "      <td>6.9</td>\n",
       "      <td>0.04</td>\n",
       "    </tr>\n",
       "    <tr>\n",
       "      <th>1996-12-31</th>\n",
       "      <td>7.0</td>\n",
       "      <td>0.43</td>\n",
       "    </tr>\n",
       "    <tr>\n",
       "      <th>1997-01-31</th>\n",
       "      <td>5.9</td>\n",
       "      <td>0.12</td>\n",
       "    </tr>\n",
       "    <tr>\n",
       "      <th>1997-02-28</th>\n",
       "      <td>5.6</td>\n",
       "      <td>0.44</td>\n",
       "    </tr>\n",
       "  </tbody>\n",
       "</table>\n",
       "</div>"
      ],
      "text/plain": [
       "            CPI   PPI\n",
       "1996-10-31  7.0  0.34\n",
       "1996-11-30  6.9  0.04\n",
       "1996-12-31  7.0  0.43\n",
       "1997-01-31  5.9  0.12\n",
       "1997-02-28  5.6  0.44"
      ]
     },
     "execution_count": 788,
     "metadata": {},
     "output_type": "execute_result"
    }
   ],
   "source": [
    "inflation_df.dropna().head()"
   ]
  },
  {
   "cell_type": "markdown",
   "metadata": {},
   "source": [
    "## M2"
   ]
  },
  {
   "cell_type": "code",
   "execution_count": 789,
   "metadata": {
    "collapsed": true
   },
   "outputs": [],
   "source": [
    "money_df = pd.read_excel('./data/scenario.xlsx', sheetname='money')"
   ]
  },
  {
   "cell_type": "code",
   "execution_count": 790,
   "metadata": {},
   "outputs": [
    {
     "data": {
      "text/html": [
       "<div>\n",
       "<style>\n",
       "    .dataframe thead tr:only-child th {\n",
       "        text-align: right;\n",
       "    }\n",
       "\n",
       "    .dataframe thead th {\n",
       "        text-align: left;\n",
       "    }\n",
       "\n",
       "    .dataframe tbody tr th {\n",
       "        vertical-align: top;\n",
       "    }\n",
       "</style>\n",
       "<table border=\"1\" class=\"dataframe\">\n",
       "  <thead>\n",
       "    <tr style=\"text-align: right;\">\n",
       "      <th></th>\n",
       "      <th>M2</th>\n",
       "      <th>M1</th>\n",
       "    </tr>\n",
       "  </thead>\n",
       "  <tbody>\n",
       "    <tr>\n",
       "      <th>1996-01-31</th>\n",
       "      <td>25.9</td>\n",
       "      <td>11.4</td>\n",
       "    </tr>\n",
       "    <tr>\n",
       "      <th>1996-02-29</th>\n",
       "      <td>27.2</td>\n",
       "      <td>16.6</td>\n",
       "    </tr>\n",
       "    <tr>\n",
       "      <th>1996-03-31</th>\n",
       "      <td>28.3</td>\n",
       "      <td>13.8</td>\n",
       "    </tr>\n",
       "    <tr>\n",
       "      <th>1996-04-30</th>\n",
       "      <td>28.5</td>\n",
       "      <td>13.7</td>\n",
       "    </tr>\n",
       "    <tr>\n",
       "      <th>1996-05-31</th>\n",
       "      <td>28.4</td>\n",
       "      <td>14.5</td>\n",
       "    </tr>\n",
       "  </tbody>\n",
       "</table>\n",
       "</div>"
      ],
      "text/plain": [
       "              M2    M1\n",
       "1996-01-31  25.9  11.4\n",
       "1996-02-29  27.2  16.6\n",
       "1996-03-31  28.3  13.8\n",
       "1996-04-30  28.5  13.7\n",
       "1996-05-31  28.4  14.5"
      ]
     },
     "execution_count": 790,
     "metadata": {},
     "output_type": "execute_result"
    }
   ],
   "source": [
    "money_df.dropna().head()"
   ]
  },
  {
   "cell_type": "markdown",
   "metadata": {},
   "source": [
    "## 固定资产投资完成额"
   ]
  },
  {
   "cell_type": "code",
   "execution_count": 791,
   "metadata": {
    "collapsed": true
   },
   "outputs": [],
   "source": [
    "invest_df = pd.read_excel('./data/scenario.xlsx', sheetname='invest')"
   ]
  },
  {
   "cell_type": "code",
   "execution_count": 792,
   "metadata": {},
   "outputs": [
    {
     "data": {
      "text/html": [
       "<div>\n",
       "<style>\n",
       "    .dataframe thead tr:only-child th {\n",
       "        text-align: right;\n",
       "    }\n",
       "\n",
       "    .dataframe thead th {\n",
       "        text-align: left;\n",
       "    }\n",
       "\n",
       "    .dataframe tbody tr th {\n",
       "        vertical-align: top;\n",
       "    }\n",
       "</style>\n",
       "<table border=\"1\" class=\"dataframe\">\n",
       "  <thead>\n",
       "    <tr style=\"text-align: right;\">\n",
       "      <th></th>\n",
       "      <th>固定资产投资完成额</th>\n",
       "    </tr>\n",
       "  </thead>\n",
       "  <tbody>\n",
       "    <tr>\n",
       "      <th>1992-06-30</th>\n",
       "      <td>31.0</td>\n",
       "    </tr>\n",
       "    <tr>\n",
       "      <th>1992-07-31</th>\n",
       "      <td>32.0</td>\n",
       "    </tr>\n",
       "    <tr>\n",
       "      <th>1992-08-31</th>\n",
       "      <td>33.0</td>\n",
       "    </tr>\n",
       "    <tr>\n",
       "      <th>1992-09-30</th>\n",
       "      <td>33.0</td>\n",
       "    </tr>\n",
       "    <tr>\n",
       "      <th>1992-10-31</th>\n",
       "      <td>33.6</td>\n",
       "    </tr>\n",
       "  </tbody>\n",
       "</table>\n",
       "</div>"
      ],
      "text/plain": [
       "            固定资产投资完成额\n",
       "1992-06-30       31.0\n",
       "1992-07-31       32.0\n",
       "1992-08-31       33.0\n",
       "1992-09-30       33.0\n",
       "1992-10-31       33.6"
      ]
     },
     "execution_count": 792,
     "metadata": {},
     "output_type": "execute_result"
    }
   ],
   "source": [
    "invest_df.dropna().head() # 缺2009年1月数据"
   ]
  },
  {
   "cell_type": "markdown",
   "metadata": {},
   "source": [
    "## currency"
   ]
  },
  {
   "cell_type": "code",
   "execution_count": 793,
   "metadata": {
    "collapsed": true
   },
   "outputs": [],
   "source": [
    "currency_df = pd.read_excel('./data/scenario.xlsx', sheetname='currency')"
   ]
  },
  {
   "cell_type": "code",
   "execution_count": 794,
   "metadata": {},
   "outputs": [
    {
     "data": {
      "text/html": [
       "<div>\n",
       "<style>\n",
       "    .dataframe thead tr:only-child th {\n",
       "        text-align: right;\n",
       "    }\n",
       "\n",
       "    .dataframe thead th {\n",
       "        text-align: left;\n",
       "    }\n",
       "\n",
       "    .dataframe tbody tr th {\n",
       "        vertical-align: top;\n",
       "    }\n",
       "</style>\n",
       "<table border=\"1\" class=\"dataframe\">\n",
       "  <thead>\n",
       "    <tr style=\"text-align: right;\">\n",
       "      <th></th>\n",
       "      <th>CNY</th>\n",
       "    </tr>\n",
       "  </thead>\n",
       "  <tbody>\n",
       "    <tr>\n",
       "      <th>1991-01-02</th>\n",
       "      <td>5.2352</td>\n",
       "    </tr>\n",
       "    <tr>\n",
       "      <th>1991-01-03</th>\n",
       "      <td>5.2352</td>\n",
       "    </tr>\n",
       "    <tr>\n",
       "      <th>1991-01-04</th>\n",
       "      <td>5.2352</td>\n",
       "    </tr>\n",
       "    <tr>\n",
       "      <th>1991-01-07</th>\n",
       "      <td>5.2352</td>\n",
       "    </tr>\n",
       "    <tr>\n",
       "      <th>1991-01-08</th>\n",
       "      <td>5.2352</td>\n",
       "    </tr>\n",
       "  </tbody>\n",
       "</table>\n",
       "</div>"
      ],
      "text/plain": [
       "               CNY\n",
       "1991-01-02  5.2352\n",
       "1991-01-03  5.2352\n",
       "1991-01-04  5.2352\n",
       "1991-01-07  5.2352\n",
       "1991-01-08  5.2352"
      ]
     },
     "execution_count": 794,
     "metadata": {},
     "output_type": "execute_result"
    }
   ],
   "source": [
    "currency_df.dropna().head()"
   ]
  },
  {
   "cell_type": "markdown",
   "metadata": {},
   "source": [
    "## 社会消费品零售总额"
   ]
  },
  {
   "cell_type": "code",
   "execution_count": 795,
   "metadata": {
    "collapsed": true
   },
   "outputs": [],
   "source": [
    "consumption_df = pd.read_excel('./data/scenario.xlsx', sheetname='consumption')"
   ]
  },
  {
   "cell_type": "code",
   "execution_count": 796,
   "metadata": {},
   "outputs": [
    {
     "data": {
      "text/html": [
       "<div>\n",
       "<style>\n",
       "    .dataframe thead tr:only-child th {\n",
       "        text-align: right;\n",
       "    }\n",
       "\n",
       "    .dataframe thead th {\n",
       "        text-align: left;\n",
       "    }\n",
       "\n",
       "    .dataframe tbody tr th {\n",
       "        vertical-align: top;\n",
       "    }\n",
       "</style>\n",
       "<table border=\"1\" class=\"dataframe\">\n",
       "  <thead>\n",
       "    <tr style=\"text-align: right;\">\n",
       "      <th></th>\n",
       "      <th>社会消费品零售总额</th>\n",
       "    </tr>\n",
       "  </thead>\n",
       "  <tbody>\n",
       "    <tr>\n",
       "      <th>2000-01-31</th>\n",
       "      <td>11.3</td>\n",
       "    </tr>\n",
       "    <tr>\n",
       "      <th>2000-02-29</th>\n",
       "      <td>10.9</td>\n",
       "    </tr>\n",
       "    <tr>\n",
       "      <th>2000-03-31</th>\n",
       "      <td>10.4</td>\n",
       "    </tr>\n",
       "    <tr>\n",
       "      <th>2000-04-30</th>\n",
       "      <td>10.1</td>\n",
       "    </tr>\n",
       "    <tr>\n",
       "      <th>2000-05-31</th>\n",
       "      <td>10.4</td>\n",
       "    </tr>\n",
       "  </tbody>\n",
       "</table>\n",
       "</div>"
      ],
      "text/plain": [
       "            社会消费品零售总额\n",
       "2000-01-31       11.3\n",
       "2000-02-29       10.9\n",
       "2000-03-31       10.4\n",
       "2000-04-30       10.1\n",
       "2000-05-31       10.4"
      ]
     },
     "execution_count": 796,
     "metadata": {},
     "output_type": "execute_result"
    }
   ],
   "source": [
    "consumption_df.dropna().head()"
   ]
  },
  {
   "cell_type": "markdown",
   "metadata": {},
   "source": [
    "# 进出口"
   ]
  },
  {
   "cell_type": "code",
   "execution_count": 797,
   "metadata": {
    "collapsed": true
   },
   "outputs": [],
   "source": [
    "ix_df = pd.read_excel('./data/scenario.xlsx', sheetname='IX')"
   ]
  },
  {
   "cell_type": "code",
   "execution_count": 798,
   "metadata": {},
   "outputs": [
    {
     "data": {
      "text/html": [
       "<div>\n",
       "<style>\n",
       "    .dataframe thead tr:only-child th {\n",
       "        text-align: right;\n",
       "    }\n",
       "\n",
       "    .dataframe thead th {\n",
       "        text-align: left;\n",
       "    }\n",
       "\n",
       "    .dataframe tbody tr th {\n",
       "        vertical-align: top;\n",
       "    }\n",
       "</style>\n",
       "<table border=\"1\" class=\"dataframe\">\n",
       "  <thead>\n",
       "    <tr style=\"text-align: right;\">\n",
       "      <th></th>\n",
       "      <th>进口金额</th>\n",
       "      <th>出口金额</th>\n",
       "    </tr>\n",
       "  </thead>\n",
       "  <tbody>\n",
       "    <tr>\n",
       "      <th>1995-01-31</th>\n",
       "      <td>13.7</td>\n",
       "      <td>88.3</td>\n",
       "    </tr>\n",
       "    <tr>\n",
       "      <th>1995-02-28</th>\n",
       "      <td>19.6</td>\n",
       "      <td>55.3</td>\n",
       "    </tr>\n",
       "    <tr>\n",
       "      <th>1995-03-31</th>\n",
       "      <td>17.4</td>\n",
       "      <td>51.7</td>\n",
       "    </tr>\n",
       "    <tr>\n",
       "      <th>1995-04-30</th>\n",
       "      <td>9.1</td>\n",
       "      <td>34.1</td>\n",
       "    </tr>\n",
       "    <tr>\n",
       "      <th>1995-05-31</th>\n",
       "      <td>21.7</td>\n",
       "      <td>35.8</td>\n",
       "    </tr>\n",
       "  </tbody>\n",
       "</table>\n",
       "</div>"
      ],
      "text/plain": [
       "            进口金额  出口金额\n",
       "1995-01-31  13.7  88.3\n",
       "1995-02-28  19.6  55.3\n",
       "1995-03-31  17.4  51.7\n",
       "1995-04-30   9.1  34.1\n",
       "1995-05-31  21.7  35.8"
      ]
     },
     "execution_count": 798,
     "metadata": {},
     "output_type": "execute_result"
    }
   ],
   "source": [
    "ix_df.dropna().head()"
   ]
  },
  {
   "cell_type": "markdown",
   "metadata": {},
   "source": [
    "# 各项贷款余额"
   ]
  },
  {
   "cell_type": "code",
   "execution_count": 799,
   "metadata": {
    "collapsed": true
   },
   "outputs": [],
   "source": [
    "loan_df = pd.read_excel('./data/scenario.xlsx', sheetname='loan')"
   ]
  },
  {
   "cell_type": "code",
   "execution_count": 800,
   "metadata": {},
   "outputs": [
    {
     "data": {
      "text/html": [
       "<div>\n",
       "<style>\n",
       "    .dataframe thead tr:only-child th {\n",
       "        text-align: right;\n",
       "    }\n",
       "\n",
       "    .dataframe thead th {\n",
       "        text-align: left;\n",
       "    }\n",
       "\n",
       "    .dataframe tbody tr th {\n",
       "        vertical-align: top;\n",
       "    }\n",
       "</style>\n",
       "<table border=\"1\" class=\"dataframe\">\n",
       "  <thead>\n",
       "    <tr style=\"text-align: right;\">\n",
       "      <th></th>\n",
       "      <th>各项贷款余额</th>\n",
       "    </tr>\n",
       "  </thead>\n",
       "  <tbody>\n",
       "    <tr>\n",
       "      <th>1992-06-30</th>\n",
       "      <td>23.2</td>\n",
       "    </tr>\n",
       "    <tr>\n",
       "      <th>1992-07-31</th>\n",
       "      <td>24.0</td>\n",
       "    </tr>\n",
       "    <tr>\n",
       "      <th>1992-08-31</th>\n",
       "      <td>24.1</td>\n",
       "    </tr>\n",
       "    <tr>\n",
       "      <th>1992-09-30</th>\n",
       "      <td>21.5</td>\n",
       "    </tr>\n",
       "    <tr>\n",
       "      <th>1992-10-31</th>\n",
       "      <td>21.2</td>\n",
       "    </tr>\n",
       "  </tbody>\n",
       "</table>\n",
       "</div>"
      ],
      "text/plain": [
       "            各项贷款余额\n",
       "1992-06-30    23.2\n",
       "1992-07-31    24.0\n",
       "1992-08-31    24.1\n",
       "1992-09-30    21.5\n",
       "1992-10-31    21.2"
      ]
     },
     "execution_count": 800,
     "metadata": {},
     "output_type": "execute_result"
    }
   ],
   "source": [
    "loan_df.dropna().head()"
   ]
  },
  {
   "cell_type": "markdown",
   "metadata": {},
   "source": [
    "# 利率"
   ]
  },
  {
   "cell_type": "code",
   "execution_count": 801,
   "metadata": {
    "collapsed": true
   },
   "outputs": [],
   "source": [
    "int_df = pd.read_excel('./data/scenario.xlsx', sheetname='interest rate')"
   ]
  },
  {
   "cell_type": "code",
   "execution_count": 802,
   "metadata": {},
   "outputs": [
    {
     "data": {
      "text/html": [
       "<div>\n",
       "<style>\n",
       "    .dataframe thead tr:only-child th {\n",
       "        text-align: right;\n",
       "    }\n",
       "\n",
       "    .dataframe thead th {\n",
       "        text-align: left;\n",
       "    }\n",
       "\n",
       "    .dataframe tbody tr th {\n",
       "        vertical-align: top;\n",
       "    }\n",
       "</style>\n",
       "<table border=\"1\" class=\"dataframe\">\n",
       "  <thead>\n",
       "    <tr style=\"text-align: right;\">\n",
       "      <th></th>\n",
       "      <th>CGB1Y</th>\n",
       "      <th>CGB10Y</th>\n",
       "    </tr>\n",
       "  </thead>\n",
       "  <tbody>\n",
       "    <tr>\n",
       "      <th>2002-01-04</th>\n",
       "      <td>2.5850</td>\n",
       "      <td>3.2096</td>\n",
       "    </tr>\n",
       "    <tr>\n",
       "      <th>2002-01-07</th>\n",
       "      <td>2.6009</td>\n",
       "      <td>3.2003</td>\n",
       "    </tr>\n",
       "    <tr>\n",
       "      <th>2002-01-08</th>\n",
       "      <td>1.9156</td>\n",
       "      <td>3.5225</td>\n",
       "    </tr>\n",
       "    <tr>\n",
       "      <th>2002-01-09</th>\n",
       "      <td>1.9040</td>\n",
       "      <td>3.5896</td>\n",
       "    </tr>\n",
       "    <tr>\n",
       "      <th>2002-01-10</th>\n",
       "      <td>1.8987</td>\n",
       "      <td>3.5784</td>\n",
       "    </tr>\n",
       "  </tbody>\n",
       "</table>\n",
       "</div>"
      ],
      "text/plain": [
       "             CGB1Y  CGB10Y\n",
       "2002-01-04  2.5850  3.2096\n",
       "2002-01-07  2.6009  3.2003\n",
       "2002-01-08  1.9156  3.5225\n",
       "2002-01-09  1.9040  3.5896\n",
       "2002-01-10  1.8987  3.5784"
      ]
     },
     "execution_count": 802,
     "metadata": {},
     "output_type": "execute_result"
    }
   ],
   "source": [
    "int_df.dropna().head()"
   ]
  },
  {
   "cell_type": "markdown",
   "metadata": {},
   "source": [
    "## stock/commodity price"
   ]
  },
  {
   "cell_type": "code",
   "execution_count": 803,
   "metadata": {
    "collapsed": true
   },
   "outputs": [],
   "source": [
    "price_df = pd.read_excel('./data/scenario.xlsx', sheetname='price')"
   ]
  },
  {
   "cell_type": "code",
   "execution_count": 804,
   "metadata": {},
   "outputs": [
    {
     "data": {
      "text/html": [
       "<div>\n",
       "<style>\n",
       "    .dataframe thead tr:only-child th {\n",
       "        text-align: right;\n",
       "    }\n",
       "\n",
       "    .dataframe thead th {\n",
       "        text-align: left;\n",
       "    }\n",
       "\n",
       "    .dataframe tbody tr th {\n",
       "        vertical-align: top;\n",
       "    }\n",
       "</style>\n",
       "<table border=\"1\" class=\"dataframe\">\n",
       "  <thead>\n",
       "    <tr style=\"text-align: right;\">\n",
       "      <th></th>\n",
       "      <th>881001.WI</th>\n",
       "      <th>000001.SH</th>\n",
       "      <th>CCFI.WI</th>\n",
       "    </tr>\n",
       "  </thead>\n",
       "  <tbody>\n",
       "    <tr>\n",
       "      <th>1991-01-02</th>\n",
       "      <td>0.0</td>\n",
       "      <td>128.84</td>\n",
       "      <td>0.0</td>\n",
       "    </tr>\n",
       "    <tr>\n",
       "      <th>1991-01-03</th>\n",
       "      <td>0.0</td>\n",
       "      <td>130.14</td>\n",
       "      <td>0.0</td>\n",
       "    </tr>\n",
       "    <tr>\n",
       "      <th>1991-01-04</th>\n",
       "      <td>0.0</td>\n",
       "      <td>131.44</td>\n",
       "      <td>0.0</td>\n",
       "    </tr>\n",
       "    <tr>\n",
       "      <th>1991-01-07</th>\n",
       "      <td>0.0</td>\n",
       "      <td>132.06</td>\n",
       "      <td>0.0</td>\n",
       "    </tr>\n",
       "    <tr>\n",
       "      <th>1991-01-08</th>\n",
       "      <td>0.0</td>\n",
       "      <td>132.68</td>\n",
       "      <td>0.0</td>\n",
       "    </tr>\n",
       "  </tbody>\n",
       "</table>\n",
       "</div>"
      ],
      "text/plain": [
       "            881001.WI  000001.SH  CCFI.WI\n",
       "1991-01-02        0.0     128.84      0.0\n",
       "1991-01-03        0.0     130.14      0.0\n",
       "1991-01-04        0.0     131.44      0.0\n",
       "1991-01-07        0.0     132.06      0.0\n",
       "1991-01-08        0.0     132.68      0.0"
      ]
     },
     "execution_count": 804,
     "metadata": {},
     "output_type": "execute_result"
    }
   ],
   "source": [
    "price_df.dropna().head()"
   ]
  },
  {
   "cell_type": "markdown",
   "metadata": {},
   "source": [
    "# stock volume"
   ]
  },
  {
   "cell_type": "code",
   "execution_count": 805,
   "metadata": {
    "collapsed": true
   },
   "outputs": [],
   "source": [
    "volume_df = pd.read_excel('./data/scenario.xlsx', sheetname='volume')"
   ]
  },
  {
   "cell_type": "code",
   "execution_count": 806,
   "metadata": {},
   "outputs": [
    {
     "data": {
      "text/html": [
       "<div>\n",
       "<style>\n",
       "    .dataframe thead tr:only-child th {\n",
       "        text-align: right;\n",
       "    }\n",
       "\n",
       "    .dataframe thead th {\n",
       "        text-align: left;\n",
       "    }\n",
       "\n",
       "    .dataframe tbody tr th {\n",
       "        vertical-align: top;\n",
       "    }\n",
       "</style>\n",
       "<table border=\"1\" class=\"dataframe\">\n",
       "  <thead>\n",
       "    <tr style=\"text-align: right;\">\n",
       "      <th></th>\n",
       "      <th>881001.WI</th>\n",
       "      <th>000001.SH</th>\n",
       "    </tr>\n",
       "  </thead>\n",
       "  <tbody>\n",
       "    <tr>\n",
       "      <th>1991-01-02</th>\n",
       "      <td>0.0</td>\n",
       "      <td>9100</td>\n",
       "    </tr>\n",
       "    <tr>\n",
       "      <th>1991-01-03</th>\n",
       "      <td>0.0</td>\n",
       "      <td>14100</td>\n",
       "    </tr>\n",
       "    <tr>\n",
       "      <th>1991-01-04</th>\n",
       "      <td>0.0</td>\n",
       "      <td>42000</td>\n",
       "    </tr>\n",
       "    <tr>\n",
       "      <th>1991-01-07</th>\n",
       "      <td>0.0</td>\n",
       "      <td>21700</td>\n",
       "    </tr>\n",
       "    <tr>\n",
       "      <th>1991-01-08</th>\n",
       "      <td>0.0</td>\n",
       "      <td>292600</td>\n",
       "    </tr>\n",
       "  </tbody>\n",
       "</table>\n",
       "</div>"
      ],
      "text/plain": [
       "            881001.WI  000001.SH\n",
       "1991-01-02        0.0       9100\n",
       "1991-01-03        0.0      14100\n",
       "1991-01-04        0.0      42000\n",
       "1991-01-07        0.0      21700\n",
       "1991-01-08        0.0     292600"
      ]
     },
     "execution_count": 806,
     "metadata": {},
     "output_type": "execute_result"
    }
   ],
   "source": [
    "volume_df.dropna().head()"
   ]
  },
  {
   "cell_type": "code",
   "execution_count": 807,
   "metadata": {
    "collapsed": true
   },
   "outputs": [],
   "source": [
    "df = macro_df[[u'工业增加值']]\n",
    "df['CPI'] = inflation_df['CPI']\n",
    "df['PPI'] = inflation_df['PPI']\n",
    "df['M2'] = money_df['M2']\n",
    "df['M1'] = money_df['M1']\n",
    "df[u'固定资产投资完成额'] = invest_df[u'固定资产投资完成额']\n",
    "df[u'社会消费品零售总额'] = consumption_df[u'社会消费品零售总额']\n",
    "df[u'进口金额'] = ix_df[u'进口金额']\n",
    "df[u'出口金额'] = ix_df[u'出口金额']\n",
    "df[u'各项贷款余额'] = loan_df[u'各项贷款余额']"
   ]
  },
  {
   "cell_type": "code",
   "execution_count": 808,
   "metadata": {},
   "outputs": [
    {
     "data": {
      "text/html": [
       "<div>\n",
       "<style>\n",
       "    .dataframe thead tr:only-child th {\n",
       "        text-align: right;\n",
       "    }\n",
       "\n",
       "    .dataframe thead th {\n",
       "        text-align: left;\n",
       "    }\n",
       "\n",
       "    .dataframe tbody tr th {\n",
       "        vertical-align: top;\n",
       "    }\n",
       "</style>\n",
       "<table border=\"1\" class=\"dataframe\">\n",
       "  <thead>\n",
       "    <tr style=\"text-align: right;\">\n",
       "      <th></th>\n",
       "      <th>工业增加值</th>\n",
       "      <th>CPI</th>\n",
       "      <th>PPI</th>\n",
       "      <th>M2</th>\n",
       "      <th>M1</th>\n",
       "      <th>社会消费品零售总额</th>\n",
       "      <th>进口金额</th>\n",
       "      <th>出口金额</th>\n",
       "      <th>各项贷款余额</th>\n",
       "    </tr>\n",
       "  </thead>\n",
       "  <tbody>\n",
       "    <tr>\n",
       "      <th>2000-01-31</th>\n",
       "      <td>8.9</td>\n",
       "      <td>-0.2</td>\n",
       "      <td>0.03</td>\n",
       "      <td>14.33</td>\n",
       "      <td>19.4</td>\n",
       "      <td>11.3</td>\n",
       "      <td>54.2</td>\n",
       "      <td>47.6</td>\n",
       "      <td>12.8</td>\n",
       "    </tr>\n",
       "    <tr>\n",
       "      <th>2000-02-29</th>\n",
       "      <td>12.0</td>\n",
       "      <td>0.7</td>\n",
       "      <td>1.20</td>\n",
       "      <td>13.51</td>\n",
       "      <td>15.3</td>\n",
       "      <td>10.9</td>\n",
       "      <td>54.1</td>\n",
       "      <td>34.5</td>\n",
       "      <td>12.7</td>\n",
       "    </tr>\n",
       "    <tr>\n",
       "      <th>2000-03-31</th>\n",
       "      <td>11.9</td>\n",
       "      <td>-0.2</td>\n",
       "      <td>1.87</td>\n",
       "      <td>13.38</td>\n",
       "      <td>18.7</td>\n",
       "      <td>10.4</td>\n",
       "      <td>23.9</td>\n",
       "      <td>35.9</td>\n",
       "      <td>13.4</td>\n",
       "    </tr>\n",
       "    <tr>\n",
       "      <th>2000-04-30</th>\n",
       "      <td>11.4</td>\n",
       "      <td>-0.3</td>\n",
       "      <td>2.59</td>\n",
       "      <td>14.46</td>\n",
       "      <td>21.7</td>\n",
       "      <td>10.1</td>\n",
       "      <td>32.8</td>\n",
       "      <td>38.8</td>\n",
       "      <td>13.8</td>\n",
       "    </tr>\n",
       "    <tr>\n",
       "      <th>2000-05-31</th>\n",
       "      <td>11.5</td>\n",
       "      <td>0.1</td>\n",
       "      <td>0.67</td>\n",
       "      <td>14.01</td>\n",
       "      <td>22.3</td>\n",
       "      <td>10.4</td>\n",
       "      <td>24.3</td>\n",
       "      <td>29.6</td>\n",
       "      <td>13.9</td>\n",
       "    </tr>\n",
       "  </tbody>\n",
       "</table>\n",
       "</div>"
      ],
      "text/plain": [
       "            工业增加值  CPI   PPI     M2    M1  社会消费品零售总额  进口金额  出口金额  各项贷款余额\n",
       "2000-01-31    8.9 -0.2  0.03  14.33  19.4       11.3  54.2  47.6    12.8\n",
       "2000-02-29   12.0  0.7  1.20  13.51  15.3       10.9  54.1  34.5    12.7\n",
       "2000-03-31   11.9 -0.2  1.87  13.38  18.7       10.4  23.9  35.9    13.4\n",
       "2000-04-30   11.4 -0.3  2.59  14.46  21.7       10.1  32.8  38.8    13.8\n",
       "2000-05-31   11.5  0.1  0.67  14.01  22.3       10.4  24.3  29.6    13.9"
      ]
     },
     "execution_count": 808,
     "metadata": {},
     "output_type": "execute_result"
    }
   ],
   "source": [
    "df.dropna().head()"
   ]
  },
  {
   "cell_type": "code",
   "execution_count": 809,
   "metadata": {
    "collapsed": true
   },
   "outputs": [],
   "source": [
    "df['stock'] = price_df['000001.SH'].resample('M').last()\n",
    "# df['CGB1Y'] = bond_df['CGB1Y'].resample('M').last()\n",
    "# df['CGB10Y'] = bond_df['CGB10Y'].resample('M').last()\n",
    "df['spread'] = int_df['CGB10Y'].resample('M').last() - int_df['CGB1Y'].resample('M').last()\n",
    "df['currency'] = currency_df['CNY'].resample('M').last()\n",
    "# df['commodity'] = commodity_df[u'南华综合指数'].resample('M').last()\n",
    "df['commodity'] = price_df['CCFI.WI'].resample('M').last()\n",
    "df['volume'] = volume_df['000001.SH'].resample('M').last()"
   ]
  },
  {
   "cell_type": "code",
   "execution_count": 810,
   "metadata": {},
   "outputs": [
    {
     "data": {
      "text/html": [
       "<div>\n",
       "<style>\n",
       "    .dataframe thead tr:only-child th {\n",
       "        text-align: right;\n",
       "    }\n",
       "\n",
       "    .dataframe thead th {\n",
       "        text-align: left;\n",
       "    }\n",
       "\n",
       "    .dataframe tbody tr th {\n",
       "        vertical-align: top;\n",
       "    }\n",
       "</style>\n",
       "<table border=\"1\" class=\"dataframe\">\n",
       "  <thead>\n",
       "    <tr style=\"text-align: right;\">\n",
       "      <th></th>\n",
       "      <th>工业增加值</th>\n",
       "      <th>CPI</th>\n",
       "      <th>PPI</th>\n",
       "      <th>M2</th>\n",
       "      <th>M1</th>\n",
       "      <th>社会消费品零售总额</th>\n",
       "      <th>进口金额</th>\n",
       "      <th>出口金额</th>\n",
       "      <th>各项贷款余额</th>\n",
       "      <th>stock</th>\n",
       "      <th>spread</th>\n",
       "      <th>currency</th>\n",
       "      <th>commodity</th>\n",
       "      <th>volume</th>\n",
       "    </tr>\n",
       "  </thead>\n",
       "  <tbody>\n",
       "    <tr>\n",
       "      <th>2002-01-31</th>\n",
       "      <td>18.6</td>\n",
       "      <td>-1.0</td>\n",
       "      <td>-4.20</td>\n",
       "      <td>13.1</td>\n",
       "      <td>9.5</td>\n",
       "      <td>7.9</td>\n",
       "      <td>21.9</td>\n",
       "      <td>29.2</td>\n",
       "      <td>10.9</td>\n",
       "      <td>1491.665</td>\n",
       "      <td>0.9022</td>\n",
       "      <td>8.2765</td>\n",
       "      <td>362.1046</td>\n",
       "      <td>1880069700</td>\n",
       "    </tr>\n",
       "    <tr>\n",
       "      <th>2002-02-28</th>\n",
       "      <td>2.7</td>\n",
       "      <td>0.0</td>\n",
       "      <td>-4.20</td>\n",
       "      <td>13.0</td>\n",
       "      <td>10.9</td>\n",
       "      <td>8.5</td>\n",
       "      <td>-12.7</td>\n",
       "      <td>1.8</td>\n",
       "      <td>10.6</td>\n",
       "      <td>1524.701</td>\n",
       "      <td>1.0755</td>\n",
       "      <td>8.2765</td>\n",
       "      <td>361.8710</td>\n",
       "      <td>647798900</td>\n",
       "    </tr>\n",
       "    <tr>\n",
       "      <th>2002-03-31</th>\n",
       "      <td>10.9</td>\n",
       "      <td>-0.8</td>\n",
       "      <td>-4.00</td>\n",
       "      <td>14.4</td>\n",
       "      <td>10.1</td>\n",
       "      <td>8.4</td>\n",
       "      <td>8.5</td>\n",
       "      <td>3.4</td>\n",
       "      <td>11.9</td>\n",
       "      <td>1603.905</td>\n",
       "      <td>0.9801</td>\n",
       "      <td>8.2774</td>\n",
       "      <td>367.5272</td>\n",
       "      <td>1200856100</td>\n",
       "    </tr>\n",
       "    <tr>\n",
       "      <th>2002-04-30</th>\n",
       "      <td>12.1</td>\n",
       "      <td>-1.3</td>\n",
       "      <td>-3.06</td>\n",
       "      <td>14.1</td>\n",
       "      <td>11.5</td>\n",
       "      <td>8.4</td>\n",
       "      <td>17.8</td>\n",
       "      <td>17.2</td>\n",
       "      <td>11.6</td>\n",
       "      <td>1667.749</td>\n",
       "      <td>0.5717</td>\n",
       "      <td>8.2773</td>\n",
       "      <td>357.2920</td>\n",
       "      <td>970235100</td>\n",
       "    </tr>\n",
       "    <tr>\n",
       "      <th>2002-05-31</th>\n",
       "      <td>12.9</td>\n",
       "      <td>-1.1</td>\n",
       "      <td>-2.63</td>\n",
       "      <td>14.0</td>\n",
       "      <td>14.6</td>\n",
       "      <td>8.6</td>\n",
       "      <td>19.3</td>\n",
       "      <td>18.4</td>\n",
       "      <td>11.4</td>\n",
       "      <td>1515.733</td>\n",
       "      <td>0.5291</td>\n",
       "      <td>8.2765</td>\n",
       "      <td>361.7850</td>\n",
       "      <td>421432000</td>\n",
       "    </tr>\n",
       "  </tbody>\n",
       "</table>\n",
       "</div>"
      ],
      "text/plain": [
       "            工业增加值  CPI   PPI    M2    M1  社会消费品零售总额  进口金额  出口金额  各项贷款余额  \\\n",
       "2002-01-31   18.6 -1.0 -4.20  13.1   9.5        7.9  21.9  29.2    10.9   \n",
       "2002-02-28    2.7  0.0 -4.20  13.0  10.9        8.5 -12.7   1.8    10.6   \n",
       "2002-03-31   10.9 -0.8 -4.00  14.4  10.1        8.4   8.5   3.4    11.9   \n",
       "2002-04-30   12.1 -1.3 -3.06  14.1  11.5        8.4  17.8  17.2    11.6   \n",
       "2002-05-31   12.9 -1.1 -2.63  14.0  14.6        8.6  19.3  18.4    11.4   \n",
       "\n",
       "               stock  spread  currency  commodity      volume  \n",
       "2002-01-31  1491.665  0.9022    8.2765   362.1046  1880069700  \n",
       "2002-02-28  1524.701  1.0755    8.2765   361.8710   647798900  \n",
       "2002-03-31  1603.905  0.9801    8.2774   367.5272  1200856100  \n",
       "2002-04-30  1667.749  0.5717    8.2773   357.2920   970235100  \n",
       "2002-05-31  1515.733  0.5291    8.2765   361.7850   421432000  "
      ]
     },
     "execution_count": 810,
     "metadata": {},
     "output_type": "execute_result"
    }
   ],
   "source": [
    "df.dropna().head()"
   ]
  },
  {
   "cell_type": "code",
   "execution_count": 811,
   "metadata": {
    "collapsed": true
   },
   "outputs": [],
   "source": [
    "df = df.dropna()"
   ]
  },
  {
   "cell_type": "code",
   "execution_count": 812,
   "metadata": {},
   "outputs": [
    {
     "data": {
      "text/html": [
       "<div>\n",
       "<style>\n",
       "    .dataframe thead tr:only-child th {\n",
       "        text-align: right;\n",
       "    }\n",
       "\n",
       "    .dataframe thead th {\n",
       "        text-align: left;\n",
       "    }\n",
       "\n",
       "    .dataframe tbody tr th {\n",
       "        vertical-align: top;\n",
       "    }\n",
       "</style>\n",
       "<table border=\"1\" class=\"dataframe\">\n",
       "  <thead>\n",
       "    <tr style=\"text-align: right;\">\n",
       "      <th></th>\n",
       "      <th>工业增加值</th>\n",
       "      <th>CPI</th>\n",
       "      <th>PPI</th>\n",
       "      <th>M2</th>\n",
       "      <th>M1</th>\n",
       "      <th>社会消费品零售总额</th>\n",
       "      <th>进口金额</th>\n",
       "      <th>出口金额</th>\n",
       "      <th>各项贷款余额</th>\n",
       "      <th>stock</th>\n",
       "      <th>spread</th>\n",
       "      <th>currency</th>\n",
       "      <th>commodity</th>\n",
       "      <th>volume</th>\n",
       "    </tr>\n",
       "  </thead>\n",
       "  <tbody>\n",
       "    <tr>\n",
       "      <th>2002-01-31</th>\n",
       "      <td>18.6</td>\n",
       "      <td>-1.0</td>\n",
       "      <td>-4.20</td>\n",
       "      <td>13.1</td>\n",
       "      <td>9.5</td>\n",
       "      <td>7.9</td>\n",
       "      <td>21.9</td>\n",
       "      <td>29.2</td>\n",
       "      <td>10.9</td>\n",
       "      <td>1491.665</td>\n",
       "      <td>0.9022</td>\n",
       "      <td>8.2765</td>\n",
       "      <td>362.1046</td>\n",
       "      <td>1880069700</td>\n",
       "    </tr>\n",
       "    <tr>\n",
       "      <th>2002-02-28</th>\n",
       "      <td>2.7</td>\n",
       "      <td>0.0</td>\n",
       "      <td>-4.20</td>\n",
       "      <td>13.0</td>\n",
       "      <td>10.9</td>\n",
       "      <td>8.5</td>\n",
       "      <td>-12.7</td>\n",
       "      <td>1.8</td>\n",
       "      <td>10.6</td>\n",
       "      <td>1524.701</td>\n",
       "      <td>1.0755</td>\n",
       "      <td>8.2765</td>\n",
       "      <td>361.8710</td>\n",
       "      <td>647798900</td>\n",
       "    </tr>\n",
       "    <tr>\n",
       "      <th>2002-03-31</th>\n",
       "      <td>10.9</td>\n",
       "      <td>-0.8</td>\n",
       "      <td>-4.00</td>\n",
       "      <td>14.4</td>\n",
       "      <td>10.1</td>\n",
       "      <td>8.4</td>\n",
       "      <td>8.5</td>\n",
       "      <td>3.4</td>\n",
       "      <td>11.9</td>\n",
       "      <td>1603.905</td>\n",
       "      <td>0.9801</td>\n",
       "      <td>8.2774</td>\n",
       "      <td>367.5272</td>\n",
       "      <td>1200856100</td>\n",
       "    </tr>\n",
       "    <tr>\n",
       "      <th>2002-04-30</th>\n",
       "      <td>12.1</td>\n",
       "      <td>-1.3</td>\n",
       "      <td>-3.06</td>\n",
       "      <td>14.1</td>\n",
       "      <td>11.5</td>\n",
       "      <td>8.4</td>\n",
       "      <td>17.8</td>\n",
       "      <td>17.2</td>\n",
       "      <td>11.6</td>\n",
       "      <td>1667.749</td>\n",
       "      <td>0.5717</td>\n",
       "      <td>8.2773</td>\n",
       "      <td>357.2920</td>\n",
       "      <td>970235100</td>\n",
       "    </tr>\n",
       "    <tr>\n",
       "      <th>2002-05-31</th>\n",
       "      <td>12.9</td>\n",
       "      <td>-1.1</td>\n",
       "      <td>-2.63</td>\n",
       "      <td>14.0</td>\n",
       "      <td>14.6</td>\n",
       "      <td>8.6</td>\n",
       "      <td>19.3</td>\n",
       "      <td>18.4</td>\n",
       "      <td>11.4</td>\n",
       "      <td>1515.733</td>\n",
       "      <td>0.5291</td>\n",
       "      <td>8.2765</td>\n",
       "      <td>361.7850</td>\n",
       "      <td>421432000</td>\n",
       "    </tr>\n",
       "  </tbody>\n",
       "</table>\n",
       "</div>"
      ],
      "text/plain": [
       "            工业增加值  CPI   PPI    M2    M1  社会消费品零售总额  进口金额  出口金额  各项贷款余额  \\\n",
       "2002-01-31   18.6 -1.0 -4.20  13.1   9.5        7.9  21.9  29.2    10.9   \n",
       "2002-02-28    2.7  0.0 -4.20  13.0  10.9        8.5 -12.7   1.8    10.6   \n",
       "2002-03-31   10.9 -0.8 -4.00  14.4  10.1        8.4   8.5   3.4    11.9   \n",
       "2002-04-30   12.1 -1.3 -3.06  14.1  11.5        8.4  17.8  17.2    11.6   \n",
       "2002-05-31   12.9 -1.1 -2.63  14.0  14.6        8.6  19.3  18.4    11.4   \n",
       "\n",
       "               stock  spread  currency  commodity      volume  \n",
       "2002-01-31  1491.665  0.9022    8.2765   362.1046  1880069700  \n",
       "2002-02-28  1524.701  1.0755    8.2765   361.8710   647798900  \n",
       "2002-03-31  1603.905  0.9801    8.2774   367.5272  1200856100  \n",
       "2002-04-30  1667.749  0.5717    8.2773   357.2920   970235100  \n",
       "2002-05-31  1515.733  0.5291    8.2765   361.7850   421432000  "
      ]
     },
     "execution_count": 812,
     "metadata": {},
     "output_type": "execute_result"
    }
   ],
   "source": [
    "df.head()"
   ]
  },
  {
   "cell_type": "code",
   "execution_count": 878,
   "metadata": {},
   "outputs": [
    {
     "data": {
      "text/html": [
       "<div>\n",
       "<style>\n",
       "    .dataframe thead tr:only-child th {\n",
       "        text-align: right;\n",
       "    }\n",
       "\n",
       "    .dataframe thead th {\n",
       "        text-align: left;\n",
       "    }\n",
       "\n",
       "    .dataframe tbody tr th {\n",
       "        vertical-align: top;\n",
       "    }\n",
       "</style>\n",
       "<table border=\"1\" class=\"dataframe\">\n",
       "  <thead>\n",
       "    <tr style=\"text-align: right;\">\n",
       "      <th></th>\n",
       "      <th>工业增加值</th>\n",
       "      <th>CPI</th>\n",
       "      <th>PPI</th>\n",
       "      <th>M2</th>\n",
       "      <th>M1</th>\n",
       "      <th>社会消费品零售总额</th>\n",
       "      <th>进口金额</th>\n",
       "      <th>出口金额</th>\n",
       "      <th>各项贷款余额</th>\n",
       "      <th>stock</th>\n",
       "      <th>spread</th>\n",
       "      <th>currency</th>\n",
       "      <th>commodity</th>\n",
       "      <th>volume</th>\n",
       "    </tr>\n",
       "  </thead>\n",
       "  <tbody>\n",
       "    <tr>\n",
       "      <th>2017-07-31</th>\n",
       "      <td>6.4</td>\n",
       "      <td>1.4</td>\n",
       "      <td>5.5</td>\n",
       "      <td>9.2</td>\n",
       "      <td>15.3</td>\n",
       "      <td>10.4</td>\n",
       "      <td>11.0</td>\n",
       "      <td>6.6</td>\n",
       "      <td>13.2</td>\n",
       "      <td>3273.0283</td>\n",
       "      <td>0.2286</td>\n",
       "      <td>6.7290</td>\n",
       "      <td>1079.1805</td>\n",
       "      <td>24603944000</td>\n",
       "    </tr>\n",
       "    <tr>\n",
       "      <th>2017-08-31</th>\n",
       "      <td>6.0</td>\n",
       "      <td>1.8</td>\n",
       "      <td>6.3</td>\n",
       "      <td>8.9</td>\n",
       "      <td>14.0</td>\n",
       "      <td>10.4</td>\n",
       "      <td>13.3</td>\n",
       "      <td>5.2</td>\n",
       "      <td>13.2</td>\n",
       "      <td>3360.8103</td>\n",
       "      <td>0.2382</td>\n",
       "      <td>6.5969</td>\n",
       "      <td>1144.5317</td>\n",
       "      <td>23441978100</td>\n",
       "    </tr>\n",
       "    <tr>\n",
       "      <th>2017-09-30</th>\n",
       "      <td>6.6</td>\n",
       "      <td>1.6</td>\n",
       "      <td>6.9</td>\n",
       "      <td>9.2</td>\n",
       "      <td>14.0</td>\n",
       "      <td>10.4</td>\n",
       "      <td>18.7</td>\n",
       "      <td>8.1</td>\n",
       "      <td>13.1</td>\n",
       "      <td>3348.9431</td>\n",
       "      <td>0.1476</td>\n",
       "      <td>6.6470</td>\n",
       "      <td>1074.0576</td>\n",
       "      <td>14486244300</td>\n",
       "    </tr>\n",
       "    <tr>\n",
       "      <th>2017-10-31</th>\n",
       "      <td>6.2</td>\n",
       "      <td>1.9</td>\n",
       "      <td>6.9</td>\n",
       "      <td>8.8</td>\n",
       "      <td>13.0</td>\n",
       "      <td>10.3</td>\n",
       "      <td>17.2</td>\n",
       "      <td>6.8</td>\n",
       "      <td>13.0</td>\n",
       "      <td>3393.3417</td>\n",
       "      <td>0.3234</td>\n",
       "      <td>6.6272</td>\n",
       "      <td>1058.4740</td>\n",
       "      <td>15349820600</td>\n",
       "    </tr>\n",
       "    <tr>\n",
       "      <th>2017-11-30</th>\n",
       "      <td>6.1</td>\n",
       "      <td>1.7</td>\n",
       "      <td>5.8</td>\n",
       "      <td>9.1</td>\n",
       "      <td>12.7</td>\n",
       "      <td>10.3</td>\n",
       "      <td>17.7</td>\n",
       "      <td>12.3</td>\n",
       "      <td>13.3</td>\n",
       "      <td>3392.3988</td>\n",
       "      <td>0.2497</td>\n",
       "      <td>6.6107</td>\n",
       "      <td>1084.4450</td>\n",
       "      <td>15659585100</td>\n",
       "    </tr>\n",
       "  </tbody>\n",
       "</table>\n",
       "</div>"
      ],
      "text/plain": [
       "            工业增加值  CPI  PPI   M2    M1  社会消费品零售总额  进口金额  出口金额  各项贷款余额  \\\n",
       "2017-07-31    6.4  1.4  5.5  9.2  15.3       10.4  11.0   6.6    13.2   \n",
       "2017-08-31    6.0  1.8  6.3  8.9  14.0       10.4  13.3   5.2    13.2   \n",
       "2017-09-30    6.6  1.6  6.9  9.2  14.0       10.4  18.7   8.1    13.1   \n",
       "2017-10-31    6.2  1.9  6.9  8.8  13.0       10.3  17.2   6.8    13.0   \n",
       "2017-11-30    6.1  1.7  5.8  9.1  12.7       10.3  17.7  12.3    13.3   \n",
       "\n",
       "                stock  spread  currency  commodity       volume  \n",
       "2017-07-31  3273.0283  0.2286    6.7290  1079.1805  24603944000  \n",
       "2017-08-31  3360.8103  0.2382    6.5969  1144.5317  23441978100  \n",
       "2017-09-30  3348.9431  0.1476    6.6470  1074.0576  14486244300  \n",
       "2017-10-31  3393.3417  0.3234    6.6272  1058.4740  15349820600  \n",
       "2017-11-30  3392.3988  0.2497    6.6107  1084.4450  15659585100  "
      ]
     },
     "execution_count": 878,
     "metadata": {},
     "output_type": "execute_result"
    }
   ],
   "source": [
    "df.tail()"
   ]
  },
  {
   "cell_type": "code",
   "execution_count": 882,
   "metadata": {},
   "outputs": [
    {
     "ename": "ImportError",
     "evalue": "cannot import name _any_not_none",
     "output_type": "error",
     "traceback": [
      "\u001b[1;31m---------------------------------------------------------------------------\u001b[0m",
      "\u001b[1;31mImportError\u001b[0m                               Traceback (most recent call last)",
      "\u001b[1;32m<ipython-input-882-5721b589cd2c>\u001b[0m in \u001b[0;36m<module>\u001b[1;34m()\u001b[0m\n\u001b[1;32m----> 1\u001b[1;33m \u001b[0mdf\u001b[0m\u001b[1;33m.\u001b[0m\u001b[0mto_excel\u001b[0m\u001b[1;33m(\u001b[0m\u001b[1;34m'./data/macro.xlsx'\u001b[0m\u001b[1;33m,\u001b[0m \u001b[0mencoding\u001b[0m\u001b[1;33m=\u001b[0m\u001b[1;34m'utf-8'\u001b[0m\u001b[1;33m)\u001b[0m\u001b[1;33m\u001b[0m\u001b[0m\n\u001b[0m",
      "\u001b[1;32mC:\\Users\\zhangyang01\\AppData\\Local\\Continuum\\anaconda2\\lib\\site-packages\\pandas\\core\\frame.pyc\u001b[0m in \u001b[0;36mto_excel\u001b[1;34m(self, excel_writer, sheet_name, na_rep, float_format, columns, header, index, index_label, startrow, startcol, engine, merge_cells, encoding, inf_rep, verbose, freeze_panes)\u001b[0m\n\u001b[0;32m   1423\u001b[0m \u001b[1;33m\u001b[0m\u001b[0m\n\u001b[0;32m   1424\u001b[0m         \u001b[1;31m# create new manager\u001b[0m\u001b[1;33m\u001b[0m\u001b[1;33m\u001b[0m\u001b[0m\n\u001b[1;32m-> 1425\u001b[1;33m         new_mgr = selfsorted._data.reshape_nd(axes=new_axes,\n\u001b[0m\u001b[0;32m   1426\u001b[0m                                               labels=[major_labels,\n\u001b[0;32m   1427\u001b[0m                                                       minor_labels],\n",
      "\u001b[1;32mC:\\Users\\zhangyang01\\AppData\\Local\\Continuum\\anaconda2\\lib\\site-packages\\pandas\\io\\formats\\excel.py\u001b[0m in \u001b[0;36m<module>\u001b[1;34m()\u001b[0m\n\u001b[0;32m     11\u001b[0m \u001b[1;32mfrom\u001b[0m \u001b[0mpandas\u001b[0m\u001b[1;33m.\u001b[0m\u001b[0mio\u001b[0m\u001b[1;33m.\u001b[0m\u001b[0mformats\u001b[0m\u001b[1;33m.\u001b[0m\u001b[0mcss\u001b[0m \u001b[1;32mimport\u001b[0m \u001b[0mCSSResolver\u001b[0m\u001b[1;33m,\u001b[0m \u001b[0mCSSWarning\u001b[0m\u001b[1;33m\u001b[0m\u001b[0m\n\u001b[0;32m     12\u001b[0m \u001b[1;32mfrom\u001b[0m \u001b[0mpandas\u001b[0m\u001b[1;33m.\u001b[0m\u001b[0mio\u001b[0m\u001b[1;33m.\u001b[0m\u001b[0mformats\u001b[0m\u001b[1;33m.\u001b[0m\u001b[0mprinting\u001b[0m \u001b[1;32mimport\u001b[0m \u001b[0mpprint_thing\u001b[0m\u001b[1;33m\u001b[0m\u001b[0m\n\u001b[1;32m---> 13\u001b[1;33m \u001b[1;32mfrom\u001b[0m \u001b[0mpandas\u001b[0m\u001b[1;33m.\u001b[0m\u001b[0mcore\u001b[0m\u001b[1;33m.\u001b[0m\u001b[0mcommon\u001b[0m \u001b[1;32mimport\u001b[0m \u001b[0m_any_not_none\u001b[0m\u001b[1;33m\u001b[0m\u001b[0m\n\u001b[0m\u001b[0;32m     14\u001b[0m \u001b[1;32mfrom\u001b[0m \u001b[0mpandas\u001b[0m\u001b[1;33m.\u001b[0m\u001b[0mcore\u001b[0m\u001b[1;33m.\u001b[0m\u001b[0mdtypes\u001b[0m\u001b[1;33m.\u001b[0m\u001b[0mcommon\u001b[0m \u001b[1;32mimport\u001b[0m \u001b[0mis_float\u001b[0m\u001b[1;33m\u001b[0m\u001b[0m\n\u001b[0;32m     15\u001b[0m \u001b[1;32mimport\u001b[0m \u001b[0mpandas\u001b[0m\u001b[1;33m.\u001b[0m\u001b[0m_libs\u001b[0m\u001b[1;33m.\u001b[0m\u001b[0mlib\u001b[0m \u001b[1;32mas\u001b[0m \u001b[0mlib\u001b[0m\u001b[1;33m\u001b[0m\u001b[0m\n",
      "\u001b[1;31mImportError\u001b[0m: cannot import name _any_not_none"
     ]
    }
   ],
   "source": [
    "df.to_excel('./data/macro.xlsx', encoding='utf-8')"
   ]
  },
  {
   "cell_type": "code",
   "execution_count": 816,
   "metadata": {},
   "outputs": [
    {
     "data": {
      "text/plain": [
       "<matplotlib.axes._subplots.AxesSubplot at 0x15233160>"
      ]
     },
     "execution_count": 816,
     "metadata": {},
     "output_type": "execute_result"
    },
    {
     "data": {
      "image/png": "[encoded data removed]",
      "text/plain": [
       "<matplotlib.figure.Figure at 0x152330f0>"
      ]
     },
     "metadata": {},
     "output_type": "display_data"
    }
   ],
   "source": [
    "plt.figure(figsize=(16, 9))\n",
    "df['stock'].plot()"
   ]
  },
  {
   "cell_type": "markdown",
   "metadata": {},
   "source": [
    "# 标准化"
   ]
  },
  {
   "cell_type": "code",
   "execution_count": 817,
   "metadata": {
    "collapsed": true
   },
   "outputs": [],
   "source": [
    "X = pd.DataFrame(index=df.index, columns=df.columns)\n",
    "for date in df.index:\n",
    "    past = df[df.index <= date]\n",
    "    X.loc[date] = (df.loc[date] - past.mean()) / past.std()\n",
    "X = X.loc[X.index[24:]]"
   ]
  },
  {
   "cell_type": "code",
   "execution_count": 818,
   "metadata": {
    "collapsed": true
   },
   "outputs": [],
   "source": [
    "# X = preprocessing.scale(df)\n",
    "# X = pd.DataFrame(X, index=df.index, columns=df.columns)"
   ]
  },
  {
   "cell_type": "code",
   "execution_count": 819,
   "metadata": {},
   "outputs": [
    {
     "data": {
      "text/html": [
       "<div>\n",
       "<style>\n",
       "    .dataframe thead tr:only-child th {\n",
       "        text-align: right;\n",
       "    }\n",
       "\n",
       "    .dataframe thead th {\n",
       "        text-align: left;\n",
       "    }\n",
       "\n",
       "    .dataframe tbody tr th {\n",
       "        vertical-align: top;\n",
       "    }\n",
       "</style>\n",
       "<table border=\"1\" class=\"dataframe\">\n",
       "  <thead>\n",
       "    <tr style=\"text-align: right;\">\n",
       "      <th></th>\n",
       "      <th>工业增加值</th>\n",
       "      <th>CPI</th>\n",
       "      <th>PPI</th>\n",
       "      <th>M2</th>\n",
       "      <th>M1</th>\n",
       "      <th>社会消费品零售总额</th>\n",
       "      <th>进口金额</th>\n",
       "      <th>出口金额</th>\n",
       "      <th>各项贷款余额</th>\n",
       "      <th>stock</th>\n",
       "      <th>spread</th>\n",
       "      <th>currency</th>\n",
       "      <th>commodity</th>\n",
       "      <th>volume</th>\n",
       "    </tr>\n",
       "  </thead>\n",
       "  <tbody>\n",
       "    <tr>\n",
       "      <th>2004-01-31</th>\n",
       "      <td>-1.94568</td>\n",
       "      <td>2.14464</td>\n",
       "      <td>1.21555</td>\n",
       "      <td>0.206031</td>\n",
       "      <td>-0.279754</td>\n",
       "      <td>3.94309</td>\n",
       "      <td>-0.960345</td>\n",
       "      <td>-0.777374</td>\n",
       "      <td>0.554542</td>\n",
       "      <td>0.72921</td>\n",
       "      <td>1.05865</td>\n",
       "      <td>-0.629837</td>\n",
       "      <td>2.63242</td>\n",
       "      <td>1.98232</td>\n",
       "    </tr>\n",
       "    <tr>\n",
       "      <th>2004-02-29</th>\n",
       "      <td>2.11068</td>\n",
       "      <td>1.25731</td>\n",
       "      <td>1.15908</td>\n",
       "      <td>0.656085</td>\n",
       "      <td>0.920691</td>\n",
       "      <td>2.0034</td>\n",
       "      <td>2.50219</td>\n",
       "      <td>1.05536</td>\n",
       "      <td>0.657103</td>\n",
       "      <td>1.4704</td>\n",
       "      <td>0.760354</td>\n",
       "      <td>-0.308438</td>\n",
       "      <td>3.21175</td>\n",
       "      <td>1.27171</td>\n",
       "    </tr>\n",
       "    <tr>\n",
       "      <th>2004-03-31</th>\n",
       "      <td>1.11406</td>\n",
       "      <td>1.76315</td>\n",
       "      <td>1.27361</td>\n",
       "      <td>0.533827</td>\n",
       "      <td>0.974104</td>\n",
       "      <td>2.01973</td>\n",
       "      <td>0.580978</td>\n",
       "      <td>1.30677</td>\n",
       "      <td>0.518034</td>\n",
       "      <td>1.91976</td>\n",
       "      <td>1.0431</td>\n",
       "      <td>0.0121158</td>\n",
       "      <td>2.57249</td>\n",
       "      <td>0.733243</td>\n",
       "    </tr>\n",
       "    <tr>\n",
       "      <th>2004-04-30</th>\n",
       "      <td>1.00181</td>\n",
       "      <td>2.08447</td>\n",
       "      <td>1.53042</td>\n",
       "      <td>0.521817</td>\n",
       "      <td>0.912574</td>\n",
       "      <td>2.35687</td>\n",
       "      <td>0.572806</td>\n",
       "      <td>0.318107</td>\n",
       "      <td>0.464997</td>\n",
       "      <td>0.570132</td>\n",
       "      <td>0.844591</td>\n",
       "      <td>0.33265</td>\n",
       "      <td>1.29231</td>\n",
       "      <td>0.184808</td>\n",
       "    </tr>\n",
       "    <tr>\n",
       "      <th>2004-05-31</th>\n",
       "      <td>0.591662</td>\n",
       "      <td>2.20459</td>\n",
       "      <td>1.65428</td>\n",
       "      <td>-0.0764454</td>\n",
       "      <td>0.478394</td>\n",
       "      <td>2.92277</td>\n",
       "      <td>0.141501</td>\n",
       "      <td>0.349408</td>\n",
       "      <td>0.17917</td>\n",
       "      <td>0.198996</td>\n",
       "      <td>1.06597</td>\n",
       "      <td>-0.649029</td>\n",
       "      <td>1.60861</td>\n",
       "      <td>-0.562061</td>\n",
       "    </tr>\n",
       "  </tbody>\n",
       "</table>\n",
       "</div>"
      ],
      "text/plain": [
       "               工业增加值      CPI      PPI         M2        M1 社会消费品零售总额  \\\n",
       "2004-01-31  -1.94568  2.14464  1.21555   0.206031 -0.279754   3.94309   \n",
       "2004-02-29   2.11068  1.25731  1.15908   0.656085  0.920691    2.0034   \n",
       "2004-03-31   1.11406  1.76315  1.27361   0.533827  0.974104   2.01973   \n",
       "2004-04-30   1.00181  2.08447  1.53042   0.521817  0.912574   2.35687   \n",
       "2004-05-31  0.591662  2.20459  1.65428 -0.0764454  0.478394   2.92277   \n",
       "\n",
       "                进口金额      出口金额    各项贷款余额     stock    spread   currency  \\\n",
       "2004-01-31 -0.960345 -0.777374  0.554542   0.72921   1.05865  -0.629837   \n",
       "2004-02-29   2.50219   1.05536  0.657103    1.4704  0.760354  -0.308438   \n",
       "2004-03-31  0.580978   1.30677  0.518034   1.91976    1.0431  0.0121158   \n",
       "2004-04-30  0.572806  0.318107  0.464997  0.570132  0.844591    0.33265   \n",
       "2004-05-31  0.141501  0.349408   0.17917  0.198996   1.06597  -0.649029   \n",
       "\n",
       "           commodity    volume  \n",
       "2004-01-31   2.63242   1.98232  \n",
       "2004-02-29   3.21175   1.27171  \n",
       "2004-03-31   2.57249  0.733243  \n",
       "2004-04-30   1.29231  0.184808  \n",
       "2004-05-31   1.60861 -0.562061  "
      ]
     },
     "execution_count": 819,
     "metadata": {},
     "output_type": "execute_result"
    }
   ],
   "source": [
    "X.head()"
   ]
  },
  {
   "cell_type": "code",
   "execution_count": 820,
   "metadata": {},
   "outputs": [
    {
     "data": {
      "text/plain": [
       "<matplotlib.legend.Legend at 0x150f6be0>"
      ]
     },
     "execution_count": 820,
     "metadata": {},
     "output_type": "execute_result"
    },
    {
     "data": {
      "image/png": "[encoded data removed]",
      "text/plain": [
       "<matplotlib.figure.Figure at 0x150f69b0>"
      ]
     },
     "metadata": {},
     "output_type": "display_data"
    }
   ],
   "source": [
    "plt.figure(figsize=(16, 9))\n",
    "X['stock'].plot(label='Stock')\n",
    "X['commodity'].plot(label='Commodity')\n",
    "plt.legend()"
   ]
  },
  {
   "cell_type": "code",
   "execution_count": 855,
   "metadata": {
    "collapsed": true
   },
   "outputs": [],
   "source": [
    "def unit_vector(vector):\n",
    "    \"\"\" Returns the unit vector of the vector.  \"\"\"\n",
    "    return vector / np.linalg.norm(vector)\n",
    "\n",
    "def angle_between(v1, v2):\n",
    "    \"\"\" Returns the angle in radians between vectors 'v1' and 'v2'::\n",
    "\n",
    "            >>> angle_between((1, 0, 0), (0, 1, 0))\n",
    "            1.5707963267948966\n",
    "            >>> angle_between((1, 0, 0), (1, 0, 0))\n",
    "            0.0\n",
    "            >>> angle_between((1, 0, 0), (-1, 0, 0))\n",
    "            3.141592653589793\n",
    "    \"\"\"\n",
    "    v1_u = unit_vector(v1)\n",
    "    v2_u = unit_vector(v2)\n",
    "    ang = np.arccos(np.clip(np.dot(v1_u, v2_u), -1.0, 1.0))\n",
    "    return ang\n",
    "#     return ang if ang < np.pi else np.pi - ang"
   ]
  },
  {
   "cell_type": "markdown",
   "metadata": {},
   "source": [
    "# 提取场景数据"
   ]
  },
  {
   "cell_type": "code",
   "execution_count": 856,
   "metadata": {
    "collapsed": true
   },
   "outputs": [],
   "source": [
    "# 情景：股市牛市\n",
    "# scenario = X[((X.index >= '2007-01-01') & (X.index <= '2007-10-01'))]\n",
    "#              ((X.index >= '2014-11-01') & (X.index <= '2015-07-01'))]"
   ]
  },
  {
   "cell_type": "code",
   "execution_count": 857,
   "metadata": {
    "collapsed": true
   },
   "outputs": [],
   "source": [
    "# 情景：周期股牛市\n",
    "# scenario = X[((X.index >= '2009-01-01') & (X.index <= '2009-08-01')) |\n",
    "#              ((X.index >= '2010-07-01') & (X.index <= '2010-10-01'))]"
   ]
  },
  {
   "cell_type": "code",
   "execution_count": 858,
   "metadata": {
    "collapsed": true
   },
   "outputs": [],
   "source": [
    "# 情景：股债双杀\n",
    "# scenario = X[((X.index >= '2017-03-01') & (X.index <= '2017-06-01'))]"
   ]
  },
  {
   "cell_type": "code",
   "execution_count": 859,
   "metadata": {
    "collapsed": true
   },
   "outputs": [],
   "source": [
    "# 情景：价值股牛市\n",
    "# scenario = X[((X.index >= '2017-01-01')) & ((X.index <= '2017-12-01'))]"
   ]
  },
  {
   "cell_type": "code",
   "execution_count": 860,
   "metadata": {},
   "outputs": [
    {
     "name": "stderr",
     "output_type": "stream",
     "text": [
      "C:\\Users\\zhangyang01\\AppData\\Local\\Continuum\\anaconda2\\lib\\site-packages\\ipykernel_launcher.py:2: UserWarning: Boolean Series key will be reindexed to match DataFrame index.\n",
      "  \n"
     ]
    }
   ],
   "source": [
    "# 股市上涨的月份\n",
    "scenario = X[df['stock'].pct_change() > 0.1]"
   ]
  },
  {
   "cell_type": "code",
   "execution_count": 861,
   "metadata": {},
   "outputs": [
    {
     "data": {
      "text/html": [
       "<div>\n",
       "<style>\n",
       "    .dataframe thead tr:only-child th {\n",
       "        text-align: right;\n",
       "    }\n",
       "\n",
       "    .dataframe thead th {\n",
       "        text-align: left;\n",
       "    }\n",
       "\n",
       "    .dataframe tbody tr th {\n",
       "        vertical-align: top;\n",
       "    }\n",
       "</style>\n",
       "<table border=\"1\" class=\"dataframe\">\n",
       "  <thead>\n",
       "    <tr style=\"text-align: right;\">\n",
       "      <th></th>\n",
       "      <th>工业增加值</th>\n",
       "      <th>CPI</th>\n",
       "      <th>PPI</th>\n",
       "      <th>M2</th>\n",
       "      <th>M1</th>\n",
       "      <th>社会消费品零售总额</th>\n",
       "      <th>进口金额</th>\n",
       "      <th>出口金额</th>\n",
       "      <th>各项贷款余额</th>\n",
       "      <th>stock</th>\n",
       "      <th>spread</th>\n",
       "      <th>currency</th>\n",
       "      <th>commodity</th>\n",
       "      <th>volume</th>\n",
       "    </tr>\n",
       "  </thead>\n",
       "  <tbody>\n",
       "    <tr>\n",
       "      <th>2006-04-30</th>\n",
       "      <td>0.326805</td>\n",
       "      <td>-0.166994</td>\n",
       "      <td>-0.264867</td>\n",
       "      <td>0.77384</td>\n",
       "      <td>-0.710732</td>\n",
       "      <td>0.956246</td>\n",
       "      <td>-0.873406</td>\n",
       "      <td>-0.670795</td>\n",
       "      <td>-0.140762</td>\n",
       "      <td>0.197409</td>\n",
       "      <td>-0.164727</td>\n",
       "      <td>-2.59075</td>\n",
       "      <td>3.53542</td>\n",
       "      <td>3.98569</td>\n",
       "    </tr>\n",
       "    <tr>\n",
       "      <th>2006-05-31</th>\n",
       "      <td>0.699704</td>\n",
       "      <td>-0.0565418</td>\n",
       "      <td>-0.0971802</td>\n",
       "      <td>0.839847</td>\n",
       "      <td>-0.280668</td>\n",
       "      <td>1.02633</td>\n",
       "      <td>-0.450877</td>\n",
       "      <td>-0.531932</td>\n",
       "      <td>-0.0135579</td>\n",
       "      <td>1.25187</td>\n",
       "      <td>-0.14755</td>\n",
       "      <td>-2.31832</td>\n",
       "      <td>3.42894</td>\n",
       "      <td>4.36916</td>\n",
       "    </tr>\n",
       "    <tr>\n",
       "      <th>2006-11-30</th>\n",
       "      <td>-0.218655</td>\n",
       "      <td>0.237094</td>\n",
       "      <td>-0.00848832</td>\n",
       "      <td>-0.108949</td>\n",
       "      <td>0.523286</td>\n",
       "      <td>1.07884</td>\n",
       "      <td>-0.637055</td>\n",
       "      <td>0.352024</td>\n",
       "      <td>-0.32301</td>\n",
       "      <td>3.04415</td>\n",
       "      <td>-0.841529</td>\n",
       "      <td>-2.8517</td>\n",
       "      <td>1.94719</td>\n",
       "      <td>3.89924</td>\n",
       "    </tr>\n",
       "    <tr>\n",
       "      <th>2006-12-31</th>\n",
       "      <td>-0.277743</td>\n",
       "      <td>0.753856</td>\n",
       "      <td>0.0921705</td>\n",
       "      <td>-0.0497937</td>\n",
       "      <td>0.718</td>\n",
       "      <td>1.11986</td>\n",
       "      <td>-0.948407</td>\n",
       "      <td>-0.567842</td>\n",
       "      <td>-0.247805</td>\n",
       "      <td>4.5526</td>\n",
       "      <td>-0.807627</td>\n",
       "      <td>-2.81277</td>\n",
       "      <td>1.71905</td>\n",
       "      <td>4.08792</td>\n",
       "    </tr>\n",
       "    <tr>\n",
       "      <th>2007-03-31</th>\n",
       "      <td>0.555289</td>\n",
       "      <td>1.02459</td>\n",
       "      <td>-0.037441</td>\n",
       "      <td>0.105807</td>\n",
       "      <td>1.2983</td>\n",
       "      <td>1.54905</td>\n",
       "      <td>-0.846336</td>\n",
       "      <td>-2.4335</td>\n",
       "      <td>0.0689551</td>\n",
       "      <td>3.99385</td>\n",
       "      <td>-0.260932</td>\n",
       "      <td>-2.68148</td>\n",
       "      <td>1.70409</td>\n",
       "      <td>2.61979</td>\n",
       "    </tr>\n",
       "    <tr>\n",
       "      <th>2007-04-30</th>\n",
       "      <td>0.491303</td>\n",
       "      <td>0.835174</td>\n",
       "      <td>0.0278639</td>\n",
       "      <td>0.0191449</td>\n",
       "      <td>1.32687</td>\n",
       "      <td>1.59071</td>\n",
       "      <td>-0.377491</td>\n",
       "      <td>-0.322548</td>\n",
       "      <td>0.13766</td>\n",
       "      <td>4.5333</td>\n",
       "      <td>-0.000304707</td>\n",
       "      <td>-2.64653</td>\n",
       "      <td>1.91875</td>\n",
       "      <td>4.11731</td>\n",
       "    </tr>\n",
       "    <tr>\n",
       "      <th>2007-07-31</th>\n",
       "      <td>0.638017</td>\n",
       "      <td>2.2047</td>\n",
       "      <td>-0.136635</td>\n",
       "      <td>0.634809</td>\n",
       "      <td>1.48946</td>\n",
       "      <td>1.6231</td>\n",
       "      <td>0.0159933</td>\n",
       "      <td>0.500293</td>\n",
       "      <td>0.171385</td>\n",
       "      <td>3.83424</td>\n",
       "      <td>0.37704</td>\n",
       "      <td>-2.76297</td>\n",
       "      <td>1.63726</td>\n",
       "      <td>2.19205</td>\n",
       "    </tr>\n",
       "    <tr>\n",
       "      <th>2007-08-31</th>\n",
       "      <td>0.48361</td>\n",
       "      <td>2.55972</td>\n",
       "      <td>-0.0685444</td>\n",
       "      <td>0.452842</td>\n",
       "      <td>1.95362</td>\n",
       "      <td>1.65838</td>\n",
       "      <td>-0.47396</td>\n",
       "      <td>-0.757588</td>\n",
       "      <td>0.281419</td>\n",
       "      <td>4.15103</td>\n",
       "      <td>0.288073</td>\n",
       "      <td>-2.71495</td>\n",
       "      <td>1.47943</td>\n",
       "      <td>1.97758</td>\n",
       "    </tr>\n",
       "    <tr>\n",
       "      <th>2009-03-31</th>\n",
       "      <td>-1.67895</td>\n",
       "      <td>-1.44366</td>\n",
       "      <td>-2.60143</td>\n",
       "      <td>3.64248</td>\n",
       "      <td>0.343369</td>\n",
       "      <td>0.397594</td>\n",
       "      <td>-2.70953</td>\n",
       "      <td>-3.26335</td>\n",
       "      <td>3.75965</td>\n",
       "      <td>0.246823</td>\n",
       "      <td>1.95874</td>\n",
       "      <td>-2.05282</td>\n",
       "      <td>-0.00520651</td>\n",
       "      <td>2.68226</td>\n",
       "    </tr>\n",
       "    <tr>\n",
       "      <th>2009-06-30</th>\n",
       "      <td>-1.02254</td>\n",
       "      <td>-1.55039</td>\n",
       "      <td>-2.6973</td>\n",
       "      <td>3.86736</td>\n",
       "      <td>2.17958</td>\n",
       "      <td>0.389949</td>\n",
       "      <td>-1.80672</td>\n",
       "      <td>-2.89046</td>\n",
       "      <td>3.92493</td>\n",
       "      <td>0.738506</td>\n",
       "      <td>1.95721</td>\n",
       "      <td>-1.89179</td>\n",
       "      <td>0.358119</td>\n",
       "      <td>2.06386</td>\n",
       "    </tr>\n",
       "    <tr>\n",
       "      <th>2009-07-31</th>\n",
       "      <td>-0.987875</td>\n",
       "      <td>-1.5582</td>\n",
       "      <td>-2.66989</td>\n",
       "      <td>3.55048</td>\n",
       "      <td>2.46051</td>\n",
       "      <td>0.387497</td>\n",
       "      <td>-1.8489</td>\n",
       "      <td>-2.84106</td>\n",
       "      <td>3.51203</td>\n",
       "      <td>1.11536</td>\n",
       "      <td>1.13505</td>\n",
       "      <td>-1.8422</td>\n",
       "      <td>0.567589</td>\n",
       "      <td>3.44563</td>\n",
       "    </tr>\n",
       "    <tr>\n",
       "      <th>2010-10-31</th>\n",
       "      <td>-0.479021</td>\n",
       "      <td>0.840899</td>\n",
       "      <td>0.568815</td>\n",
       "      <td>0.203143</td>\n",
       "      <td>0.685829</td>\n",
       "      <td>1.10412</td>\n",
       "      <td>0.114474</td>\n",
       "      <td>-0.0213006</td>\n",
       "      <td>0.185843</td>\n",
       "      <td>0.682171</td>\n",
       "      <td>0.555643</td>\n",
       "      <td>-1.63679</td>\n",
       "      <td>1.31867</td>\n",
       "      <td>2.09066</td>\n",
       "    </tr>\n",
       "    <tr>\n",
       "      <th>2012-12-31</th>\n",
       "      <td>-0.996432</td>\n",
       "      <td>-0.0532506</td>\n",
       "      <td>-1.07393</td>\n",
       "      <td>-1.00574</td>\n",
       "      <td>-1.36305</td>\n",
       "      <td>0.0461719</td>\n",
       "      <td>-0.771088</td>\n",
       "      <td>-0.460611</td>\n",
       "      <td>-0.536447</td>\n",
       "      <td>0.000583337</td>\n",
       "      <td>-1.08524</td>\n",
       "      <td>-1.57921</td>\n",
       "      <td>0.672822</td>\n",
       "      <td>1.62731</td>\n",
       "    </tr>\n",
       "    <tr>\n",
       "      <th>2014-11-30</th>\n",
       "      <td>-1.45941</td>\n",
       "      <td>-0.499978</td>\n",
       "      <td>-1.10944</td>\n",
       "      <td>-1.26716</td>\n",
       "      <td>-1.63939</td>\n",
       "      <td>-0.600289</td>\n",
       "      <td>-1.30218</td>\n",
       "      <td>-0.889737</td>\n",
       "      <td>-0.76683</td>\n",
       "      <td>0.454894</td>\n",
       "      <td>-1.18354</td>\n",
       "      <td>-1.33474</td>\n",
       "      <td>0.0101514</td>\n",
       "      <td>6.64488</td>\n",
       "    </tr>\n",
       "    <tr>\n",
       "      <th>2014-12-31</th>\n",
       "      <td>-1.29116</td>\n",
       "      <td>-0.469386</td>\n",
       "      <td>-1.24655</td>\n",
       "      <td>-1.2818</td>\n",
       "      <td>-1.61993</td>\n",
       "      <td>-0.586113</td>\n",
       "      <td>-1.0801</td>\n",
       "      <td>-0.588069</td>\n",
       "      <td>-0.724359</td>\n",
       "      <td>1.03751</td>\n",
       "      <td>-1.39945</td>\n",
       "      <td>-1.25361</td>\n",
       "      <td>0.00711799</td>\n",
       "      <td>5.12027</td>\n",
       "    </tr>\n",
       "    <tr>\n",
       "      <th>2015-03-31</th>\n",
       "      <td>-1.74481</td>\n",
       "      <td>-0.521682</td>\n",
       "      <td>-1.50729</td>\n",
       "      <td>-1.41266</td>\n",
       "      <td>-1.63032</td>\n",
       "      <td>-0.984844</td>\n",
       "      <td>-1.53277</td>\n",
       "      <td>-2.04544</td>\n",
       "      <td>-0.641175</td>\n",
       "      <td>1.55982</td>\n",
       "      <td>-1.26372</td>\n",
       "      <td>-1.23955</td>\n",
       "      <td>-0.0837975</td>\n",
       "      <td>6.21906</td>\n",
       "    </tr>\n",
       "    <tr>\n",
       "      <th>2015-04-30</th>\n",
       "      <td>-1.65878</td>\n",
       "      <td>-0.461708</td>\n",
       "      <td>-1.49448</td>\n",
       "      <td>-1.77306</td>\n",
       "      <td>-1.50416</td>\n",
       "      <td>-1.01689</td>\n",
       "      <td>-1.67959</td>\n",
       "      <td>-1.52593</td>\n",
       "      <td>-0.618898</td>\n",
       "      <td>2.25183</td>\n",
       "      <td>-0.843829</td>\n",
       "      <td>-1.22584</td>\n",
       "      <td>0.00714448</td>\n",
       "      <td>5.22396</td>\n",
       "    </tr>\n",
       "    <tr>\n",
       "      <th>2015-10-31</th>\n",
       "      <td>-1.61841</td>\n",
       "      <td>-0.558752</td>\n",
       "      <td>-1.68749</td>\n",
       "      <td>-0.861796</td>\n",
       "      <td>-0.059014</td>\n",
       "      <td>-0.93684</td>\n",
       "      <td>-1.70885</td>\n",
       "      <td>-1.47128</td>\n",
       "      <td>-0.35196</td>\n",
       "      <td>1.05944</td>\n",
       "      <td>-0.762399</td>\n",
       "      <td>-1.04282</td>\n",
       "      <td>-0.391021</td>\n",
       "      <td>1.38034</td>\n",
       "    </tr>\n",
       "    <tr>\n",
       "      <th>2016-03-31</th>\n",
       "      <td>-1.30599</td>\n",
       "      <td>-0.094147</td>\n",
       "      <td>-1.26827</td>\n",
       "      <td>-0.868534</td>\n",
       "      <td>1.05176</td>\n",
       "      <td>-0.994341</td>\n",
       "      <td>-1.1673</td>\n",
       "      <td>-0.57934</td>\n",
       "      <td>-0.483398</td>\n",
       "      <td>0.654038</td>\n",
       "      <td>-0.653625</td>\n",
       "      <td>-0.847843</td>\n",
       "      <td>-0.475905</td>\n",
       "      <td>1.13454</td>\n",
       "    </tr>\n",
       "  </tbody>\n",
       "</table>\n",
       "</div>"
      ],
      "text/plain": [
       "               工业增加值        CPI         PPI         M2        M1  社会消费品零售总额  \\\n",
       "2006-04-30  0.326805  -0.166994   -0.264867    0.77384 -0.710732   0.956246   \n",
       "2006-05-31  0.699704 -0.0565418  -0.0971802   0.839847 -0.280668    1.02633   \n",
       "2006-11-30 -0.218655   0.237094 -0.00848832  -0.108949  0.523286    1.07884   \n",
       "2006-12-31 -0.277743   0.753856   0.0921705 -0.0497937     0.718    1.11986   \n",
       "2007-03-31  0.555289    1.02459   -0.037441   0.105807    1.2983    1.54905   \n",
       "2007-04-30  0.491303   0.835174   0.0278639  0.0191449   1.32687    1.59071   \n",
       "2007-07-31  0.638017     2.2047   -0.136635   0.634809   1.48946     1.6231   \n",
       "2007-08-31   0.48361    2.55972  -0.0685444   0.452842   1.95362    1.65838   \n",
       "2009-03-31  -1.67895   -1.44366    -2.60143    3.64248  0.343369   0.397594   \n",
       "2009-06-30  -1.02254   -1.55039     -2.6973    3.86736   2.17958   0.389949   \n",
       "2009-07-31 -0.987875    -1.5582    -2.66989    3.55048   2.46051   0.387497   \n",
       "2010-10-31 -0.479021   0.840899    0.568815   0.203143  0.685829    1.10412   \n",
       "2012-12-31 -0.996432 -0.0532506    -1.07393   -1.00574  -1.36305  0.0461719   \n",
       "2014-11-30  -1.45941  -0.499978    -1.10944   -1.26716  -1.63939  -0.600289   \n",
       "2014-12-31  -1.29116  -0.469386    -1.24655    -1.2818  -1.61993  -0.586113   \n",
       "2015-03-31  -1.74481  -0.521682    -1.50729   -1.41266  -1.63032  -0.984844   \n",
       "2015-04-30  -1.65878  -0.461708    -1.49448   -1.77306  -1.50416   -1.01689   \n",
       "2015-10-31  -1.61841  -0.558752    -1.68749  -0.861796 -0.059014   -0.93684   \n",
       "2016-03-31  -1.30599  -0.094147    -1.26827  -0.868534   1.05176  -0.994341   \n",
       "\n",
       "                 进口金额       出口金额     各项贷款余额        stock       spread  \\\n",
       "2006-04-30  -0.873406  -0.670795  -0.140762     0.197409    -0.164727   \n",
       "2006-05-31  -0.450877  -0.531932 -0.0135579      1.25187     -0.14755   \n",
       "2006-11-30  -0.637055   0.352024   -0.32301      3.04415    -0.841529   \n",
       "2006-12-31  -0.948407  -0.567842  -0.247805       4.5526    -0.807627   \n",
       "2007-03-31  -0.846336    -2.4335  0.0689551      3.99385    -0.260932   \n",
       "2007-04-30  -0.377491  -0.322548    0.13766       4.5333 -0.000304707   \n",
       "2007-07-31  0.0159933   0.500293   0.171385      3.83424      0.37704   \n",
       "2007-08-31   -0.47396  -0.757588   0.281419      4.15103     0.288073   \n",
       "2009-03-31   -2.70953   -3.26335    3.75965     0.246823      1.95874   \n",
       "2009-06-30   -1.80672   -2.89046    3.92493     0.738506      1.95721   \n",
       "2009-07-31    -1.8489   -2.84106    3.51203      1.11536      1.13505   \n",
       "2010-10-31   0.114474 -0.0213006   0.185843     0.682171     0.555643   \n",
       "2012-12-31  -0.771088  -0.460611  -0.536447  0.000583337     -1.08524   \n",
       "2014-11-30   -1.30218  -0.889737   -0.76683     0.454894     -1.18354   \n",
       "2014-12-31    -1.0801  -0.588069  -0.724359      1.03751     -1.39945   \n",
       "2015-03-31   -1.53277   -2.04544  -0.641175      1.55982     -1.26372   \n",
       "2015-04-30   -1.67959   -1.52593  -0.618898      2.25183    -0.843829   \n",
       "2015-10-31   -1.70885   -1.47128   -0.35196      1.05944    -0.762399   \n",
       "2016-03-31    -1.1673   -0.57934  -0.483398     0.654038    -0.653625   \n",
       "\n",
       "            currency   commodity   volume  \n",
       "2006-04-30  -2.59075     3.53542  3.98569  \n",
       "2006-05-31  -2.31832     3.42894  4.36916  \n",
       "2006-11-30   -2.8517     1.94719  3.89924  \n",
       "2006-12-31  -2.81277     1.71905  4.08792  \n",
       "2007-03-31  -2.68148     1.70409  2.61979  \n",
       "2007-04-30  -2.64653     1.91875  4.11731  \n",
       "2007-07-31  -2.76297     1.63726  2.19205  \n",
       "2007-08-31  -2.71495     1.47943  1.97758  \n",
       "2009-03-31  -2.05282 -0.00520651  2.68226  \n",
       "2009-06-30  -1.89179    0.358119  2.06386  \n",
       "2009-07-31   -1.8422    0.567589  3.44563  \n",
       "2010-10-31  -1.63679     1.31867  2.09066  \n",
       "2012-12-31  -1.57921    0.672822  1.62731  \n",
       "2014-11-30  -1.33474   0.0101514  6.64488  \n",
       "2014-12-31  -1.25361  0.00711799  5.12027  \n",
       "2015-03-31  -1.23955  -0.0837975  6.21906  \n",
       "2015-04-30  -1.22584  0.00714448  5.22396  \n",
       "2015-10-31  -1.04282   -0.391021  1.38034  \n",
       "2016-03-31 -0.847843   -0.475905  1.13454  "
      ]
     },
     "execution_count": 861,
     "metadata": {},
     "output_type": "execute_result"
    }
   ],
   "source": [
    "scenario"
   ]
  },
  {
   "cell_type": "markdown",
   "metadata": {},
   "source": [
    "# 验证情景点与非情景点之间的平均距离"
   ]
  },
  {
   "cell_type": "code",
   "execution_count": 830,
   "metadata": {
    "collapsed": true
   },
   "outputs": [],
   "source": [
    "def avg_distance(df):\n",
    "    distance = []\n",
    "    for i in range(df.shape[0]):\n",
    "        for j in range(i + 1, df.shape[0]):\n",
    "            veci, vecj = df.iloc[i], df.iloc[j]\n",
    "            distance.append(np.linalg.norm(veci - vecj))\n",
    "    distance = np.array(distance)\n",
    "    return distance.mean(), distance.std()"
   ]
  },
  {
   "cell_type": "code",
   "execution_count": 831,
   "metadata": {
    "collapsed": true
   },
   "outputs": [],
   "source": [
    "def avg_angle(df):\n",
    "    angles = []\n",
    "    for i in range(df.shape[0]):\n",
    "        for j in range(i + 1, df.shape[0]):\n",
    "            veci, vecj = df.iloc[i], df.iloc[j]\n",
    "            angles.append(angle_between(veci, vecj))\n",
    "    angles = np.array(angles)\n",
    "    return angles.mean(), angles.std()"
   ]
  },
  {
   "cell_type": "code",
   "execution_count": 832,
   "metadata": {},
   "outputs": [
    {
     "data": {
      "text/plain": [
       "(6.1194121704177231, 2.2065076695718902)"
      ]
     },
     "execution_count": 832,
     "metadata": {},
     "output_type": "execute_result"
    }
   ],
   "source": [
    "avg_distance(scenario)"
   ]
  },
  {
   "cell_type": "code",
   "execution_count": 833,
   "metadata": {},
   "outputs": [
    {
     "data": {
      "text/plain": [
       "(5.6626223446321626, 2.0754855192212518)"
      ]
     },
     "execution_count": 833,
     "metadata": {},
     "output_type": "execute_result"
    }
   ],
   "source": [
    "avg_distance(X)"
   ]
  },
  {
   "cell_type": "code",
   "execution_count": 834,
   "metadata": {},
   "outputs": [
    {
     "data": {
      "text/plain": [
       "(0.94309968389982624, 0.33729715946058147)"
      ]
     },
     "execution_count": 834,
     "metadata": {},
     "output_type": "execute_result"
    }
   ],
   "source": [
    "avg_angle(scenario)"
   ]
  },
  {
   "cell_type": "code",
   "execution_count": 835,
   "metadata": {},
   "outputs": [
    {
     "data": {
      "text/plain": [
       "(1.2079169855523231, 0.39104303111346111)"
      ]
     },
     "execution_count": 835,
     "metadata": {},
     "output_type": "execute_result"
    }
   ],
   "source": [
    "avg_angle(X)"
   ]
  },
  {
   "cell_type": "markdown",
   "metadata": {},
   "source": [
    "# 提取特征值、特征向量"
   ]
  },
  {
   "cell_type": "code",
   "execution_count": 862,
   "metadata": {
    "collapsed": true
   },
   "outputs": [],
   "source": [
    "# centered_matrix = scenario - scenario.mean(axis=0)\n",
    "# cov = np.dot(centered_matrix.T, centered_matrix)\n",
    "# eigvals, eigvecs = np.linalg.eig(cov)\n",
    "data = scenario - scenario.mean(axis=0)\n",
    "R = np.cov(data.astype(float), rowvar=False)\n",
    "evals, evecs = np.linalg.eigh(R)\n",
    "idx = np.argsort(evals)[::-1]\n",
    "evecs = evecs[:, idx]\n",
    "evals = evals[idx]"
   ]
  },
  {
   "cell_type": "code",
   "execution_count": 863,
   "metadata": {},
   "outputs": [
    {
     "data": {
      "text/plain": [
       "array([ 0.40540909,  0.74321024,  0.86129581,  0.94536043,  0.96529513,\n",
       "        0.97869544,  0.98816561,  0.99280236,  0.99595469,  0.99842882,\n",
       "        0.99919021,  0.99973202,  0.99993779,  1.        ])"
      ]
     },
     "execution_count": 863,
     "metadata": {},
     "output_type": "execute_result"
    }
   ],
   "source": [
    "evals.cumsum() / evals.sum()"
   ]
  },
  {
   "cell_type": "markdown",
   "metadata": {},
   "source": [
    "# 将原数据映射到特征向量空间下（降维）"
   ]
  },
  {
   "cell_type": "code",
   "execution_count": 864,
   "metadata": {
    "collapsed": true
   },
   "outputs": [],
   "source": [
    "K = 4\n",
    "# evecs = evecs[:, :K]\n",
    "X_tran = np.dot(evecs[:, :K].T, X.T)"
   ]
  },
  {
   "cell_type": "code",
   "execution_count": 865,
   "metadata": {},
   "outputs": [
    {
     "data": {
      "text/plain": [
       "(4L, 162L)"
      ]
     },
     "execution_count": 865,
     "metadata": {},
     "output_type": "execute_result"
    }
   ],
   "source": [
    "X_tran.shape"
   ]
  },
  {
   "cell_type": "code",
   "execution_count": 866,
   "metadata": {
    "collapsed": true
   },
   "outputs": [],
   "source": [
    "trans_df = pd.DataFrame(X_tran.T, index=X.index, columns=range(1,X_tran.shape[0]+1))"
   ]
  },
  {
   "cell_type": "code",
   "execution_count": 867,
   "metadata": {},
   "outputs": [
    {
     "data": {
      "text/html": [
       "<div>\n",
       "<style>\n",
       "    .dataframe thead tr:only-child th {\n",
       "        text-align: right;\n",
       "    }\n",
       "\n",
       "    .dataframe thead th {\n",
       "        text-align: left;\n",
       "    }\n",
       "\n",
       "    .dataframe tbody tr th {\n",
       "        vertical-align: top;\n",
       "    }\n",
       "</style>\n",
       "<table border=\"1\" class=\"dataframe\">\n",
       "  <thead>\n",
       "    <tr style=\"text-align: right;\">\n",
       "      <th></th>\n",
       "      <th>1</th>\n",
       "      <th>2</th>\n",
       "      <th>3</th>\n",
       "      <th>4</th>\n",
       "    </tr>\n",
       "  </thead>\n",
       "  <tbody>\n",
       "    <tr>\n",
       "      <th>2004-01-31</th>\n",
       "      <td>-0.168379</td>\n",
       "      <td>2.3698</td>\n",
       "      <td>3.02454</td>\n",
       "      <td>-0.586503</td>\n",
       "    </tr>\n",
       "    <tr>\n",
       "      <th>2004-02-29</th>\n",
       "      <td>-0.644107</td>\n",
       "      <td>4.62826</td>\n",
       "      <td>2.38321</td>\n",
       "      <td>-1.71568</td>\n",
       "    </tr>\n",
       "    <tr>\n",
       "      <th>2004-03-31</th>\n",
       "      <td>-0.469848</td>\n",
       "      <td>4.29461</td>\n",
       "      <td>1.66444</td>\n",
       "      <td>-0.680969</td>\n",
       "    </tr>\n",
       "    <tr>\n",
       "      <th>2004-04-30</th>\n",
       "      <td>-0.000435085</td>\n",
       "      <td>3.39192</td>\n",
       "      <td>0.66065</td>\n",
       "      <td>-0.819339</td>\n",
       "    </tr>\n",
       "    <tr>\n",
       "      <th>2004-05-31</th>\n",
       "      <td>-0.259553</td>\n",
       "      <td>3.56112</td>\n",
       "      <td>0.154757</td>\n",
       "      <td>-1.31859</td>\n",
       "    </tr>\n",
       "  </tbody>\n",
       "</table>\n",
       "</div>"
      ],
      "text/plain": [
       "                      1        2         3         4\n",
       "2004-01-31    -0.168379   2.3698   3.02454 -0.586503\n",
       "2004-02-29    -0.644107  4.62826   2.38321  -1.71568\n",
       "2004-03-31    -0.469848  4.29461   1.66444 -0.680969\n",
       "2004-04-30 -0.000435085  3.39192   0.66065 -0.819339\n",
       "2004-05-31    -0.259553  3.56112  0.154757  -1.31859"
      ]
     },
     "execution_count": 867,
     "metadata": {},
     "output_type": "execute_result"
    }
   ],
   "source": [
    "trans_df.head()"
   ]
  },
  {
   "cell_type": "code",
   "execution_count": 868,
   "metadata": {},
   "outputs": [
    {
     "data": {
      "text/plain": [
       "-0.025240268837776778"
      ]
     },
     "execution_count": 868,
     "metadata": {},
     "output_type": "execute_result"
    },
    {
     "data": {
      "image/png": "[encoded data removed]",
      "text/plain": [
       "<matplotlib.figure.Figure at 0x13b8f240>"
      ]
     },
     "metadata": {},
     "output_type": "display_data"
    }
   ],
   "source": [
    "plt.figure(figsize=(16, 9))\n",
    "# X['commodity'].plot(label='Commodity')\n",
    "X['stock'].plot(label='Stock')\n",
    "trans_df[1].plot(label='Component 1')\n",
    "# trans_df[2].plot(label='Component 2')\n",
    "plt.legend()\n",
    "X['stock'].astype(float).corr(trans_df[1].astype(float))\n",
    "# X['commodity'].astype(float).corr(trans_df[1].astype(float))"
   ]
  },
  {
   "cell_type": "markdown",
   "metadata": {},
   "source": [
    "# 计算情景点与非情景点的平均夹角"
   ]
  },
  {
   "cell_type": "code",
   "execution_count": 869,
   "metadata": {},
   "outputs": [
    {
     "data": {
      "text/plain": [
       "(0.95621265720812643, 0.41250064312915291)"
      ]
     },
     "execution_count": 869,
     "metadata": {},
     "output_type": "execute_result"
    }
   ],
   "source": [
    "avg_angle(trans_df.loc[scenario.index])"
   ]
  },
  {
   "cell_type": "code",
   "execution_count": 870,
   "metadata": {},
   "outputs": [
    {
     "data": {
      "text/plain": [
       "(1.2941383240474067, 0.58796236222487441)"
      ]
     },
     "execution_count": 870,
     "metadata": {},
     "output_type": "execute_result"
    }
   ],
   "source": [
    "avg_angle(trans_df.loc[trans_df.index.difference(scenario.index)])"
   ]
  },
  {
   "cell_type": "markdown",
   "metadata": {},
   "source": [
    "# 计算各时点到该场景的夹角"
   ]
  },
  {
   "cell_type": "code",
   "execution_count": 871,
   "metadata": {
    "collapsed": true
   },
   "outputs": [],
   "source": [
    "K = 4\n",
    "lambdas = evals[:K]\n",
    "lambdas = lambdas / lambdas.sum()"
   ]
  },
  {
   "cell_type": "code",
   "execution_count": 872,
   "metadata": {},
   "outputs": [
    {
     "data": {
      "text/plain": [
       "array([ 0.42884076,  0.35732526,  0.12491062,  0.08892336])"
      ]
     },
     "execution_count": 872,
     "metadata": {},
     "output_type": "execute_result"
    }
   ],
   "source": [
    "lambdas"
   ]
  },
  {
   "cell_type": "code",
   "execution_count": 873,
   "metadata": {},
   "outputs": [
    {
     "data": {
      "text/plain": [
       "(14L, 4L)"
      ]
     },
     "execution_count": 873,
     "metadata": {},
     "output_type": "execute_result"
    }
   ],
   "source": [
    "evecs[:, :K].shape"
   ]
  },
  {
   "cell_type": "code",
   "execution_count": 874,
   "metadata": {
    "collapsed": true
   },
   "outputs": [],
   "source": [
    "angle = pd.Series(index=X.index)\n",
    "for index in X.index:\n",
    "    veca = X.loc[index]\n",
    "    # 求与特征向量的加权平均夹角\n",
    "    angs = [angle_between(veca, evecs[:, i]) for i in range(K)]\n",
    "    angle.loc[index] = np.array(angs).dot(lambdas)\n",
    "    # 求与情景点的平均夹角\n",
    "#     angs = [angle_between(veca, scenario.loc[i]) for i in scenario.index]\n",
    "#     angle.loc[index] = np.array(angs).mean()"
   ]
  },
  {
   "cell_type": "markdown",
   "metadata": {},
   "source": [
    "### 验证情景点与非情景点的平均夹角"
   ]
  },
  {
   "cell_type": "code",
   "execution_count": 875,
   "metadata": {},
   "outputs": [
    {
     "name": "stdout",
     "output_type": "stream",
     "text": [
      "1.74499650161\n",
      "1.05536645634\n",
      "1.59733177326\n",
      "1.18810193022\n"
     ]
    }
   ],
   "source": [
    "print angle_between(X.loc[scenario.index[5]], evecs[:, 0])\n",
    "print angle_between(X.loc[scenario.index[5]], evecs[:, 1])\n",
    "print angle_between(X.iloc[0], evecs[:, 0])\n",
    "print angle_between(X.iloc[0], evecs[:, 1])"
   ]
  },
  {
   "cell_type": "code",
   "execution_count": 876,
   "metadata": {},
   "outputs": [
    {
     "data": {
      "text/plain": [
       "(1.4601386769571174, 0.23870041945396092)"
      ]
     },
     "execution_count": 876,
     "metadata": {},
     "output_type": "execute_result"
    }
   ],
   "source": [
    "angle[scenario.index].mean(), angle[scenario.index].std()"
   ]
  },
  {
   "cell_type": "code",
   "execution_count": 853,
   "metadata": {},
   "outputs": [
    {
     "data": {
      "text/plain": [
       "(1.5883108264057886, 0.2350026652797396)"
      ]
     },
     "execution_count": 853,
     "metadata": {},
     "output_type": "execute_result"
    }
   ],
   "source": [
    "angle[angle.index.difference(scenario.index)].mean(), angle[angle.index.difference(scenario.index)].std()"
   ]
  },
  {
   "cell_type": "code",
   "execution_count": 877,
   "metadata": {},
   "outputs": [
    {
     "data": {
      "text/plain": [
       "-0.40688569540584352"
      ]
     },
     "execution_count": 877,
     "metadata": {},
     "output_type": "execute_result"
    },
    {
     "data": {
      "image/png": "[encoded data removed]",
      "text/plain": [
       "<matplotlib.figure.Figure at 0xe3fb940>"
      ]
     },
     "metadata": {},
     "output_type": "display_data"
    }
   ],
   "source": [
    "plt.figure(figsize=(16, 9))\n",
    "# plt.plot(X['stock'], label='Stock')\n",
    "# plt.plot(X['commodity'], label='Commodity')\n",
    "plt.plot(angle, label='angle')\n",
    "plt.legend()\n",
    "angle.corr(X['commodity'].astype('float'))\n",
    "# angle.corr(X['stock'].astype('float'))"
   ]
  },
  {
   "cell_type": "code",
   "execution_count": 603,
   "metadata": {
    "collapsed": true
   },
   "outputs": [],
   "source": [
    "temp = pd.DataFrame({'Stock': X['stock'], 'angle': angle})"
   ]
  },
  {
   "cell_type": "code",
   "execution_count": 609,
   "metadata": {
    "collapsed": true
   },
   "outputs": [],
   "source": [
    "angle.to_csv('./angle.csv')"
   ]
  },
  {
   "cell_type": "code",
   "execution_count": 612,
   "metadata": {
    "collapsed": true
   },
   "outputs": [],
   "source": [
    "X['stock'].to_csv('./stock.csv')"
   ]
  },
  {
   "cell_type": "code",
   "execution_count": null,
   "metadata": {
    "collapsed": true
   },
   "outputs": [],
   "source": []
  }
 ],
 "metadata": {
  "kernelspec": {
   "display_name": "Python 2",
   "language": "python",
   "name": "python2"
  },
  "language_info": {
   "codemirror_mode": {
    "name": "ipython",
    "version": 2
   },
   "file_extension": ".py",
   "mimetype": "text/x-python",
   "name": "python",
   "nbconvert_exporter": "python",
   "pygments_lexer": "ipython2",
   "version": "2.7.14"
  }
 },
 "nbformat": 4,
 "nbformat_minor": 2
}
