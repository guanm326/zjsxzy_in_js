{
 "cells": [
  {
   "cell_type": "code",
   "execution_count": 289,
   "metadata": {
    "collapsed": true
   },
   "outputs": [],
   "source": [
    "import pandas as pd\n",
    "import numpy as np\n",
    "import matplotlib.pyplot as plt\n",
    "import metric_learn\n",
    "from scipy.spatial.distance import euclidean\n",
    "from sklearn.ensemble import GradientBoostingClassifier\n",
    "from sklearn.metrics import r2_score, accuracy_score\n",
    "%matplotlib inline"
   ]
  },
  {
   "cell_type": "code",
   "execution_count": 2,
   "metadata": {},
   "outputs": [
    {
     "name": "stderr",
     "output_type": "stream",
     "text": [
      "C:\\Users\\zhangyang01\\AppData\\Local\\Continuum\\anaconda2\\lib\\site-packages\\pandas\\util\\_decorators.py:118: FutureWarning: The `sheetname` keyword is deprecated, use `sheet_name` instead\n",
      "  return func(*args, **kwargs)\n"
     ]
    }
   ],
   "source": [
    "macro_df = pd.read_excel('./data/scenario.xlsx', sheetname='macro')"
   ]
  },
  {
   "cell_type": "code",
   "execution_count": 3,
   "metadata": {
    "collapsed": true
   },
   "outputs": [],
   "source": [
    "inflation_df = pd.read_excel('./data/scenario.xlsx', sheetname='inflation')"
   ]
  },
  {
   "cell_type": "code",
   "execution_count": 4,
   "metadata": {
    "collapsed": true
   },
   "outputs": [],
   "source": [
    "inflation_df = pd.read_excel('./data/scenario.xlsx', sheetname='inflation')"
   ]
  },
  {
   "cell_type": "code",
   "execution_count": 5,
   "metadata": {
    "collapsed": true
   },
   "outputs": [],
   "source": [
    "money_df = pd.read_excel('./data/scenario.xlsx', sheetname='money')"
   ]
  },
  {
   "cell_type": "code",
   "execution_count": 6,
   "metadata": {
    "collapsed": true
   },
   "outputs": [],
   "source": [
    "invest_df = pd.read_excel('./data/scenario.xlsx', sheetname='invest')"
   ]
  },
  {
   "cell_type": "code",
   "execution_count": 7,
   "metadata": {
    "collapsed": true
   },
   "outputs": [],
   "source": [
    "currency_df = pd.read_excel('./data/scenario.xlsx', sheetname='currency')"
   ]
  },
  {
   "cell_type": "code",
   "execution_count": 8,
   "metadata": {
    "collapsed": true
   },
   "outputs": [],
   "source": [
    "consumption_df = pd.read_excel('./data/scenario.xlsx', sheetname='consumption')"
   ]
  },
  {
   "cell_type": "code",
   "execution_count": 9,
   "metadata": {
    "collapsed": true
   },
   "outputs": [],
   "source": [
    "ix_df = pd.read_excel('./data/scenario.xlsx', sheetname='IX')"
   ]
  },
  {
   "cell_type": "code",
   "execution_count": 10,
   "metadata": {
    "collapsed": true
   },
   "outputs": [],
   "source": [
    "loan_df = pd.read_excel('./data/scenario.xlsx', sheetname='loan')"
   ]
  },
  {
   "cell_type": "code",
   "execution_count": 11,
   "metadata": {
    "collapsed": true
   },
   "outputs": [],
   "source": [
    "int_df = pd.read_excel('./data/scenario.xlsx', sheetname='interest rate')"
   ]
  },
  {
   "cell_type": "code",
   "execution_count": 12,
   "metadata": {
    "collapsed": true
   },
   "outputs": [],
   "source": [
    "price_df = pd.read_excel('./data/scenario.xlsx', sheetname='price')"
   ]
  },
  {
   "cell_type": "code",
   "execution_count": 13,
   "metadata": {
    "collapsed": true
   },
   "outputs": [],
   "source": [
    "volume_df = pd.read_excel('./data/scenario.xlsx', sheetname='volume')"
   ]
  },
  {
   "cell_type": "code",
   "execution_count": 14,
   "metadata": {
    "collapsed": true
   },
   "outputs": [],
   "source": [
    "# 经济数据的发布总要滞后一个月\n",
    "df = macro_df[[u'工业增加值']].shift(1)\n",
    "df['CPI'] = inflation_df['CPI'].shift(1)\n",
    "df['PPI'] = inflation_df['PPI'].shift(1)\n",
    "df['M2'] = money_df['M2'].shift(1)\n",
    "df['M1'] = money_df['M1'].shift(1)\n",
    "# df[u'固定资产投资完成额'] = invest_df[u'固定资产投资完成额']\n",
    "# df[u'社会消费品零售总额'] = consumption_df[u'社会消费品零售总额'].shift(1)\n",
    "df[u'进口金额'] = ix_df[u'进口金额'].shift(1)\n",
    "df[u'出口金额'] = ix_df[u'出口金额'].shift(1)\n",
    "df[u'各项贷款余额'] = loan_df[u'各项贷款余额'].shift(1)"
   ]
  },
  {
   "cell_type": "code",
   "execution_count": 15,
   "metadata": {
    "collapsed": true
   },
   "outputs": [],
   "source": [
    "df['stock'] = price_df['000001.SH'].resample('M').last()\n",
    "# df['CGB1Y'] = bond_df['CGB1Y'].resample('M').last()\n",
    "# df['CGB10Y'] = bond_df['CGB10Y'].resample('M').last()\n",
    "df['spread'] = int_df['CGB10Y'].resample('M').last() - int_df['CGB1Y'].resample('M').last()\n",
    "df['currency'] = currency_df['CNY'].resample('M').last()\n",
    "df['commodity'] = price_df['CCFI.WI'].resample('M').last()\n",
    "df['volume'] = volume_df['000001.SH'].resample('M').last()"
   ]
  },
  {
   "cell_type": "code",
   "execution_count": 16,
   "metadata": {},
   "outputs": [
    {
     "data": {
      "text/html": [
       "<div>\n",
       "<style scoped>\n",
       "    .dataframe tbody tr th:only-of-type {\n",
       "        vertical-align: middle;\n",
       "    }\n",
       "\n",
       "    .dataframe tbody tr th {\n",
       "        vertical-align: top;\n",
       "    }\n",
       "\n",
       "    .dataframe thead th {\n",
       "        text-align: right;\n",
       "    }\n",
       "</style>\n",
       "<table border=\"1\" class=\"dataframe\">\n",
       "  <thead>\n",
       "    <tr style=\"text-align: right;\">\n",
       "      <th></th>\n",
       "      <th>工业增加值</th>\n",
       "      <th>CPI</th>\n",
       "      <th>PPI</th>\n",
       "      <th>M2</th>\n",
       "      <th>M1</th>\n",
       "      <th>进口金额</th>\n",
       "      <th>出口金额</th>\n",
       "      <th>各项贷款余额</th>\n",
       "      <th>stock</th>\n",
       "      <th>spread</th>\n",
       "      <th>currency</th>\n",
       "      <th>commodity</th>\n",
       "      <th>volume</th>\n",
       "    </tr>\n",
       "  </thead>\n",
       "  <tbody>\n",
       "    <tr>\n",
       "      <th>2002-01-31</th>\n",
       "      <td>8.7</td>\n",
       "      <td>-0.3</td>\n",
       "      <td>-4.00</td>\n",
       "      <td>14.4</td>\n",
       "      <td>12.7</td>\n",
       "      <td>4.6</td>\n",
       "      <td>11.5</td>\n",
       "      <td>11.6</td>\n",
       "      <td>1491.665</td>\n",
       "      <td>0.9022</td>\n",
       "      <td>8.2765</td>\n",
       "      <td>362.1046</td>\n",
       "      <td>1880069700</td>\n",
       "    </tr>\n",
       "    <tr>\n",
       "      <th>2002-02-28</th>\n",
       "      <td>18.6</td>\n",
       "      <td>-1.0</td>\n",
       "      <td>-4.20</td>\n",
       "      <td>13.1</td>\n",
       "      <td>9.5</td>\n",
       "      <td>21.9</td>\n",
       "      <td>29.2</td>\n",
       "      <td>10.9</td>\n",
       "      <td>1524.701</td>\n",
       "      <td>1.0755</td>\n",
       "      <td>8.2765</td>\n",
       "      <td>361.8710</td>\n",
       "      <td>647798900</td>\n",
       "    </tr>\n",
       "    <tr>\n",
       "      <th>2002-03-31</th>\n",
       "      <td>2.7</td>\n",
       "      <td>0.0</td>\n",
       "      <td>-4.20</td>\n",
       "      <td>13.0</td>\n",
       "      <td>10.9</td>\n",
       "      <td>-12.7</td>\n",
       "      <td>1.8</td>\n",
       "      <td>10.6</td>\n",
       "      <td>1603.905</td>\n",
       "      <td>0.9801</td>\n",
       "      <td>8.2774</td>\n",
       "      <td>367.5272</td>\n",
       "      <td>1200856100</td>\n",
       "    </tr>\n",
       "    <tr>\n",
       "      <th>2002-04-30</th>\n",
       "      <td>10.9</td>\n",
       "      <td>-0.8</td>\n",
       "      <td>-4.00</td>\n",
       "      <td>14.4</td>\n",
       "      <td>10.1</td>\n",
       "      <td>8.5</td>\n",
       "      <td>3.4</td>\n",
       "      <td>11.9</td>\n",
       "      <td>1667.749</td>\n",
       "      <td>0.5717</td>\n",
       "      <td>8.2773</td>\n",
       "      <td>357.2920</td>\n",
       "      <td>970235100</td>\n",
       "    </tr>\n",
       "    <tr>\n",
       "      <th>2002-05-31</th>\n",
       "      <td>12.1</td>\n",
       "      <td>-1.3</td>\n",
       "      <td>-3.06</td>\n",
       "      <td>14.1</td>\n",
       "      <td>11.5</td>\n",
       "      <td>17.8</td>\n",
       "      <td>17.2</td>\n",
       "      <td>11.6</td>\n",
       "      <td>1515.733</td>\n",
       "      <td>0.5291</td>\n",
       "      <td>8.2765</td>\n",
       "      <td>361.7850</td>\n",
       "      <td>421432000</td>\n",
       "    </tr>\n",
       "  </tbody>\n",
       "</table>\n",
       "</div>"
      ],
      "text/plain": [
       "            工业增加值  CPI   PPI    M2    M1  进口金额  出口金额  各项贷款余额     stock  \\\n",
       "2002-01-31    8.7 -0.3 -4.00  14.4  12.7   4.6  11.5    11.6  1491.665   \n",
       "2002-02-28   18.6 -1.0 -4.20  13.1   9.5  21.9  29.2    10.9  1524.701   \n",
       "2002-03-31    2.7  0.0 -4.20  13.0  10.9 -12.7   1.8    10.6  1603.905   \n",
       "2002-04-30   10.9 -0.8 -4.00  14.4  10.1   8.5   3.4    11.9  1667.749   \n",
       "2002-05-31   12.1 -1.3 -3.06  14.1  11.5  17.8  17.2    11.6  1515.733   \n",
       "\n",
       "            spread  currency  commodity      volume  \n",
       "2002-01-31  0.9022    8.2765   362.1046  1880069700  \n",
       "2002-02-28  1.0755    8.2765   361.8710   647798900  \n",
       "2002-03-31  0.9801    8.2774   367.5272  1200856100  \n",
       "2002-04-30  0.5717    8.2773   357.2920   970235100  \n",
       "2002-05-31  0.5291    8.2765   361.7850   421432000  "
      ]
     },
     "execution_count": 16,
     "metadata": {},
     "output_type": "execute_result"
    }
   ],
   "source": [
    "df.dropna().head()"
   ]
  },
  {
   "cell_type": "code",
   "execution_count": 17,
   "metadata": {},
   "outputs": [
    {
     "data": {
      "text/html": [
       "<div>\n",
       "<style scoped>\n",
       "    .dataframe tbody tr th:only-of-type {\n",
       "        vertical-align: middle;\n",
       "    }\n",
       "\n",
       "    .dataframe tbody tr th {\n",
       "        vertical-align: top;\n",
       "    }\n",
       "\n",
       "    .dataframe thead th {\n",
       "        text-align: right;\n",
       "    }\n",
       "</style>\n",
       "<table border=\"1\" class=\"dataframe\">\n",
       "  <thead>\n",
       "    <tr style=\"text-align: right;\">\n",
       "      <th></th>\n",
       "      <th>工业增加值</th>\n",
       "      <th>CPI</th>\n",
       "      <th>PPI</th>\n",
       "      <th>M2</th>\n",
       "      <th>M1</th>\n",
       "      <th>进口金额</th>\n",
       "      <th>出口金额</th>\n",
       "      <th>各项贷款余额</th>\n",
       "      <th>stock</th>\n",
       "      <th>spread</th>\n",
       "      <th>currency</th>\n",
       "      <th>commodity</th>\n",
       "      <th>volume</th>\n",
       "    </tr>\n",
       "  </thead>\n",
       "  <tbody>\n",
       "    <tr>\n",
       "      <th>2017-07-31</th>\n",
       "      <td>7.6</td>\n",
       "      <td>1.5</td>\n",
       "      <td>5.5</td>\n",
       "      <td>9.4</td>\n",
       "      <td>15.0</td>\n",
       "      <td>17.0</td>\n",
       "      <td>10.9</td>\n",
       "      <td>12.9</td>\n",
       "      <td>3273.0283</td>\n",
       "      <td>0.2286</td>\n",
       "      <td>6.7290</td>\n",
       "      <td>1079.1805</td>\n",
       "      <td>24603944000</td>\n",
       "    </tr>\n",
       "    <tr>\n",
       "      <th>2017-08-31</th>\n",
       "      <td>6.4</td>\n",
       "      <td>1.4</td>\n",
       "      <td>5.5</td>\n",
       "      <td>9.2</td>\n",
       "      <td>15.3</td>\n",
       "      <td>11.0</td>\n",
       "      <td>6.6</td>\n",
       "      <td>13.2</td>\n",
       "      <td>3360.8103</td>\n",
       "      <td>0.2382</td>\n",
       "      <td>6.5969</td>\n",
       "      <td>1144.5317</td>\n",
       "      <td>23441978100</td>\n",
       "    </tr>\n",
       "    <tr>\n",
       "      <th>2017-09-30</th>\n",
       "      <td>6.0</td>\n",
       "      <td>1.8</td>\n",
       "      <td>6.3</td>\n",
       "      <td>8.9</td>\n",
       "      <td>14.0</td>\n",
       "      <td>13.3</td>\n",
       "      <td>5.2</td>\n",
       "      <td>13.2</td>\n",
       "      <td>3348.9431</td>\n",
       "      <td>0.1476</td>\n",
       "      <td>6.6470</td>\n",
       "      <td>1074.0576</td>\n",
       "      <td>14486244300</td>\n",
       "    </tr>\n",
       "    <tr>\n",
       "      <th>2017-10-31</th>\n",
       "      <td>6.6</td>\n",
       "      <td>1.6</td>\n",
       "      <td>6.9</td>\n",
       "      <td>9.2</td>\n",
       "      <td>14.0</td>\n",
       "      <td>18.7</td>\n",
       "      <td>8.1</td>\n",
       "      <td>13.1</td>\n",
       "      <td>3393.3417</td>\n",
       "      <td>0.3234</td>\n",
       "      <td>6.6272</td>\n",
       "      <td>1058.4740</td>\n",
       "      <td>15349820600</td>\n",
       "    </tr>\n",
       "    <tr>\n",
       "      <th>2017-11-30</th>\n",
       "      <td>6.2</td>\n",
       "      <td>1.9</td>\n",
       "      <td>6.9</td>\n",
       "      <td>8.8</td>\n",
       "      <td>13.0</td>\n",
       "      <td>17.2</td>\n",
       "      <td>6.8</td>\n",
       "      <td>13.0</td>\n",
       "      <td>3392.3988</td>\n",
       "      <td>0.2497</td>\n",
       "      <td>6.6107</td>\n",
       "      <td>1084.4450</td>\n",
       "      <td>15659585100</td>\n",
       "    </tr>\n",
       "  </tbody>\n",
       "</table>\n",
       "</div>"
      ],
      "text/plain": [
       "            工业增加值  CPI  PPI   M2    M1  进口金额  出口金额  各项贷款余额      stock  spread  \\\n",
       "2017-07-31    7.6  1.5  5.5  9.4  15.0  17.0  10.9    12.9  3273.0283  0.2286   \n",
       "2017-08-31    6.4  1.4  5.5  9.2  15.3  11.0   6.6    13.2  3360.8103  0.2382   \n",
       "2017-09-30    6.0  1.8  6.3  8.9  14.0  13.3   5.2    13.2  3348.9431  0.1476   \n",
       "2017-10-31    6.6  1.6  6.9  9.2  14.0  18.7   8.1    13.1  3393.3417  0.3234   \n",
       "2017-11-30    6.2  1.9  6.9  8.8  13.0  17.2   6.8    13.0  3392.3988  0.2497   \n",
       "\n",
       "            currency  commodity       volume  \n",
       "2017-07-31    6.7290  1079.1805  24603944000  \n",
       "2017-08-31    6.5969  1144.5317  23441978100  \n",
       "2017-09-30    6.6470  1074.0576  14486244300  \n",
       "2017-10-31    6.6272  1058.4740  15349820600  \n",
       "2017-11-30    6.6107  1084.4450  15659585100  "
      ]
     },
     "execution_count": 17,
     "metadata": {},
     "output_type": "execute_result"
    }
   ],
   "source": [
    "df.tail()"
   ]
  },
  {
   "cell_type": "code",
   "execution_count": 18,
   "metadata": {
    "collapsed": true
   },
   "outputs": [],
   "source": [
    "df = df.dropna()"
   ]
  },
  {
   "cell_type": "code",
   "execution_count": 386,
   "metadata": {
    "collapsed": true
   },
   "outputs": [],
   "source": [
    "df = pd.read_excel('./data/gdp-ap.xlsx', index_col=0)"
   ]
  },
  {
   "cell_type": "code",
   "execution_count": 387,
   "metadata": {},
   "outputs": [
    {
     "data": {
      "text/html": [
       "<div>\n",
       "<style scoped>\n",
       "    .dataframe tbody tr th:only-of-type {\n",
       "        vertical-align: middle;\n",
       "    }\n",
       "\n",
       "    .dataframe tbody tr th {\n",
       "        vertical-align: top;\n",
       "    }\n",
       "\n",
       "    .dataframe thead th {\n",
       "        text-align: right;\n",
       "    }\n",
       "</style>\n",
       "<table border=\"1\" class=\"dataframe\">\n",
       "  <thead>\n",
       "    <tr style=\"text-align: right;\">\n",
       "      <th></th>\n",
       "      <th>GDP:现价:农林牧渔业:累计值</th>\n",
       "      <th>GDP:现价:工业:累计值</th>\n",
       "      <th>GDP:现价:工业:制造业:累计值</th>\n",
       "      <th>GDP:现价:建筑业:累计值</th>\n",
       "      <th>GDP:现价:交通运输、仓储和邮政业:累计值</th>\n",
       "      <th>GDP:现价:批发和零售业:累计值</th>\n",
       "      <th>GDP:现价:住宿和餐饮业:累计值</th>\n",
       "      <th>GDP:现价:金融业:累计值</th>\n",
       "      <th>GDP:现价:房地产业:累计值</th>\n",
       "      <th>GDP:现价:信息传输、软件和信息技术服务业:累计值</th>\n",
       "      <th>GDP:现价:租赁和商务服务业:累计值</th>\n",
       "      <th>GDP:现价:其他服务业:累计值</th>\n",
       "    </tr>\n",
       "    <tr>\n",
       "      <th>指标名称</th>\n",
       "      <th></th>\n",
       "      <th></th>\n",
       "      <th></th>\n",
       "      <th></th>\n",
       "      <th></th>\n",
       "      <th></th>\n",
       "      <th></th>\n",
       "      <th></th>\n",
       "      <th></th>\n",
       "      <th></th>\n",
       "      <th></th>\n",
       "      <th></th>\n",
       "    </tr>\n",
       "  </thead>\n",
       "  <tbody>\n",
       "    <tr>\n",
       "      <th>1992-03-31</th>\n",
       "      <td>658.8</td>\n",
       "      <td>2225.4</td>\n",
       "      <td>0</td>\n",
       "      <td>182.3</td>\n",
       "      <td>393.3</td>\n",
       "      <td>536.7</td>\n",
       "      <td>127.2</td>\n",
       "      <td>357.0</td>\n",
       "      <td>201.4</td>\n",
       "      <td>0</td>\n",
       "      <td>0</td>\n",
       "      <td>580.7</td>\n",
       "    </tr>\n",
       "    <tr>\n",
       "      <th>1992-06-30</th>\n",
       "      <td>1930.7</td>\n",
       "      <td>4713.4</td>\n",
       "      <td>0</td>\n",
       "      <td>501.6</td>\n",
       "      <td>804.2</td>\n",
       "      <td>1216.3</td>\n",
       "      <td>282.4</td>\n",
       "      <td>710.9</td>\n",
       "      <td>445.0</td>\n",
       "      <td>0</td>\n",
       "      <td>0</td>\n",
       "      <td>1142.6</td>\n",
       "    </tr>\n",
       "    <tr>\n",
       "      <th>1992-09-30</th>\n",
       "      <td>3657.4</td>\n",
       "      <td>7523.1</td>\n",
       "      <td>0</td>\n",
       "      <td>842.0</td>\n",
       "      <td>1168.1</td>\n",
       "      <td>1784.8</td>\n",
       "      <td>430.6</td>\n",
       "      <td>1078.8</td>\n",
       "      <td>752.3</td>\n",
       "      <td>0</td>\n",
       "      <td>0</td>\n",
       "      <td>1702.6</td>\n",
       "    </tr>\n",
       "    <tr>\n",
       "      <th>1992-12-31</th>\n",
       "      <td>5866.2</td>\n",
       "      <td>10340.5</td>\n",
       "      <td>0</td>\n",
       "      <td>1417.9</td>\n",
       "      <td>1689.2</td>\n",
       "      <td>2405.0</td>\n",
       "      <td>584.6</td>\n",
       "      <td>1481.5</td>\n",
       "      <td>1101.3</td>\n",
       "      <td>0</td>\n",
       "      <td>0</td>\n",
       "      <td>2308.3</td>\n",
       "    </tr>\n",
       "    <tr>\n",
       "      <th>1993-03-31</th>\n",
       "      <td>740.9</td>\n",
       "      <td>3018.2</td>\n",
       "      <td>0</td>\n",
       "      <td>297.6</td>\n",
       "      <td>471.9</td>\n",
       "      <td>643.9</td>\n",
       "      <td>160.8</td>\n",
       "      <td>455.3</td>\n",
       "      <td>272.6</td>\n",
       "      <td>0</td>\n",
       "      <td>0</td>\n",
       "      <td>773.5</td>\n",
       "    </tr>\n",
       "  </tbody>\n",
       "</table>\n",
       "</div>"
      ],
      "text/plain": [
       "            GDP:现价:农林牧渔业:累计值  GDP:现价:工业:累计值  GDP:现价:工业:制造业:累计值  \\\n",
       "指标名称                                                             \n",
       "1992-03-31             658.8         2225.4                  0   \n",
       "1992-06-30            1930.7         4713.4                  0   \n",
       "1992-09-30            3657.4         7523.1                  0   \n",
       "1992-12-31            5866.2        10340.5                  0   \n",
       "1993-03-31             740.9         3018.2                  0   \n",
       "\n",
       "            GDP:现价:建筑业:累计值  GDP:现价:交通运输、仓储和邮政业:累计值  GDP:现价:批发和零售业:累计值  \\\n",
       "指标名称                                                                    \n",
       "1992-03-31           182.3                   393.3              536.7   \n",
       "1992-06-30           501.6                   804.2             1216.3   \n",
       "1992-09-30           842.0                  1168.1             1784.8   \n",
       "1992-12-31          1417.9                  1689.2             2405.0   \n",
       "1993-03-31           297.6                   471.9              643.9   \n",
       "\n",
       "            GDP:现价:住宿和餐饮业:累计值  GDP:现价:金融业:累计值  GDP:现价:房地产业:累计值  \\\n",
       "指标名称                                                             \n",
       "1992-03-31              127.2           357.0            201.4   \n",
       "1992-06-30              282.4           710.9            445.0   \n",
       "1992-09-30              430.6          1078.8            752.3   \n",
       "1992-12-31              584.6          1481.5           1101.3   \n",
       "1993-03-31              160.8           455.3            272.6   \n",
       "\n",
       "            GDP:现价:信息传输、软件和信息技术服务业:累计值  GDP:现价:租赁和商务服务业:累计值  GDP:现价:其他服务业:累计值  \n",
       "指标名称                                                                           \n",
       "1992-03-31                           0                    0             580.7  \n",
       "1992-06-30                           0                    0            1142.6  \n",
       "1992-09-30                           0                    0            1702.6  \n",
       "1992-12-31                           0                    0            2308.3  \n",
       "1993-03-31                           0                    0             773.5  "
      ]
     },
     "execution_count": 387,
     "metadata": {},
     "output_type": "execute_result"
    }
   ],
   "source": [
    "df.head()"
   ]
  },
  {
   "cell_type": "code",
   "execution_count": 388,
   "metadata": {},
   "outputs": [
    {
     "data": {
      "text/plain": [
       "<matplotlib.axes._subplots.AxesSubplot at 0x14f5c5c0>"
      ]
     },
     "execution_count": 388,
     "metadata": {},
     "output_type": "execute_result"
    },
    {
     "data": {
      "image/png": "[encoded data removed]",
      "text/plain": [
       "<matplotlib.figure.Figure at 0x14f6bb00>"
      ]
     },
     "metadata": {},
     "output_type": "display_data"
    }
   ],
   "source": [
    "plt.figure(figsize=(16, 9))\n",
    "df[df.columns[0]].pct_change(periods=4).plot()\n",
    "# df['stock'].plot()\n",
    "# df['commodity'].plot()"
   ]
  },
  {
   "cell_type": "markdown",
   "metadata": {},
   "source": [
    "# 标准化"
   ]
  },
  {
   "cell_type": "code",
   "execution_count": 20,
   "metadata": {
    "collapsed": true
   },
   "outputs": [],
   "source": [
    "X = pd.DataFrame(index=df.index, columns=df.columns)\n",
    "for date in df.index:\n",
    "    past = df[df.index <= date]\n",
    "    X.loc[date] = (df.loc[date] - past.mean()) / past.std()\n",
    "X = X.loc[X.index[24:]]"
   ]
  },
  {
   "cell_type": "code",
   "execution_count": 21,
   "metadata": {},
   "outputs": [
    {
     "data": {
      "text/plain": [
       "<matplotlib.legend.Legend at 0xce119b0>"
      ]
     },
     "execution_count": 21,
     "metadata": {},
     "output_type": "execute_result"
    },
    {
     "data": {
      "image/png": "[encoded data removed]",
      "text/plain": [
       "<matplotlib.figure.Figure at 0xce11588>"
      ]
     },
     "metadata": {},
     "output_type": "display_data"
    }
   ],
   "source": [
    "plt.figure(figsize=(16, 9))\n",
    "X['stock'].plot(label='Stock')\n",
    "X['commodity'].plot(label='Commodity')\n",
    "plt.legend()"
   ]
  },
  {
   "cell_type": "code",
   "execution_count": 389,
   "metadata": {
    "collapsed": true
   },
   "outputs": [],
   "source": [
    "X = df.pct_change(periods=4)"
   ]
  },
  {
   "cell_type": "code",
   "execution_count": 390,
   "metadata": {},
   "outputs": [],
   "source": [
    "X = X.replace([-np.inf, np.inf], np.nan).fillna(0)"
   ]
  },
  {
   "cell_type": "code",
   "execution_count": 391,
   "metadata": {},
   "outputs": [
    {
     "data": {
      "text/plain": [
       "(103, 12)"
      ]
     },
     "execution_count": 391,
     "metadata": {},
     "output_type": "execute_result"
    }
   ],
   "source": [
    "X.shape"
   ]
  },
  {
   "cell_type": "code",
   "execution_count": 406,
   "metadata": {
    "collapsed": true
   },
   "outputs": [],
   "source": [
    "Y = pd.Series(0, index=X.index)"
   ]
  },
  {
   "cell_type": "code",
   "execution_count": 407,
   "metadata": {
    "collapsed": true
   },
   "outputs": [],
   "source": [
    "# 价值股牛市\n",
    "# Y[((Y.index >= '2015-01-01') & (Y.index <= '2015-06-30'))]\\\n",
    "#  = 1"
   ]
  },
  {
   "cell_type": "code",
   "execution_count": 408,
   "metadata": {},
   "outputs": [],
   "source": [
    "# 周期股牛市\n",
    "Y[((Y.index >= '2005-07-01') & (Y.index <= '2007-10-01'))] = 1\n",
    "#   ((Y.index >= '2010-07-01') & (Y.index <= '2010-10-01'))]\\\n",
    "#  = 1"
   ]
  },
  {
   "cell_type": "code",
   "execution_count": 409,
   "metadata": {
    "collapsed": true
   },
   "outputs": [],
   "source": [
    "# 股票牛市\n",
    "# Y[((Y.index >= '2007-01-01') & (Y.index <= '2007-10-01')) |\n",
    "#   ((Y.index >= '2014-01-01') & (Y.index <= '2015-06-01'))]\\\n",
    "#  = 1"
   ]
  },
  {
   "cell_type": "code",
   "execution_count": 410,
   "metadata": {
    "collapsed": true
   },
   "outputs": [],
   "source": [
    "# 股票行情\n",
    "# Y[df['stock'].pct_change() > 0.05] = 1\n",
    "# 股票行情前一个月\n",
    "# Y = Y.shift(-1)\n",
    "# Y.iloc[-1] = 0"
   ]
  },
  {
   "cell_type": "code",
   "execution_count": 411,
   "metadata": {},
   "outputs": [
    {
     "data": {
      "text/plain": [
       "9"
      ]
     },
     "execution_count": 411,
     "metadata": {},
     "output_type": "execute_result"
    }
   ],
   "source": [
    "Y[Y == 1].sum()"
   ]
  },
  {
   "cell_type": "markdown",
   "metadata": {},
   "source": [
    "# 度量学习"
   ]
  },
  {
   "cell_type": "code",
   "execution_count": 412,
   "metadata": {
    "collapsed": true
   },
   "outputs": [],
   "source": [
    "now = '2018-01-01'"
   ]
  },
  {
   "cell_type": "code",
   "execution_count": 413,
   "metadata": {
    "collapsed": true
   },
   "outputs": [],
   "source": [
    "# setting up LMNN\n",
    "lmnn = metric_learn.LMNN(k=5, learn_rate=1e-6)"
   ]
  },
  {
   "cell_type": "code",
   "execution_count": 414,
   "metadata": {},
   "outputs": [
    {
     "data": {
      "text/plain": [
       "<metric_learn.lmnn.python_LMNN at 0x151c18d0>"
      ]
     },
     "execution_count": 414,
     "metadata": {},
     "output_type": "execute_result"
    }
   ],
   "source": [
    "# fit the data!\n",
    "lmnn.fit(X[X.index <= now].astype('float64').as_matrix(), Y[Y.index <= now].as_matrix())"
   ]
  },
  {
   "cell_type": "code",
   "execution_count": 415,
   "metadata": {
    "collapsed": true
   },
   "outputs": [],
   "source": [
    "# transform our input space\n",
    "X_lmnn = lmnn.transform()"
   ]
  },
  {
   "cell_type": "code",
   "execution_count": 416,
   "metadata": {},
   "outputs": [],
   "source": [
    "X_lmnn = pd.DataFrame(X_lmnn, index=X[X.index <= now].index)"
   ]
  },
  {
   "cell_type": "code",
   "execution_count": 417,
   "metadata": {},
   "outputs": [],
   "source": [
    "scenario = X_lmnn[Y == 1]\n",
    "center = scenario.mean()\n",
    "distance = pd.Series(index = Y[Y.index <= now].index)\n",
    "for index in X_lmnn.index:\n",
    "    x = X_lmnn.loc[index]\n",
    "    distance.loc[index] = euclidean(x, center)"
   ]
  },
  {
   "cell_type": "code",
   "execution_count": 422,
   "metadata": {},
   "outputs": [
    {
     "data": {
      "text/plain": [
       "<matplotlib.legend.Legend at 0x15cd7be0>"
      ]
     },
     "execution_count": 422,
     "metadata": {},
     "output_type": "execute_result"
    },
    {
     "data": {
      "image/png": "[encoded data removed]",
      "text/plain": [
       "<matplotlib.figure.Figure at 0x15dea908>"
      ]
     },
     "metadata": {},
     "output_type": "display_data"
    }
   ],
   "source": [
    "plt.figure(figsize=(16, 9))\n",
    "# plt.plot(X['commodity'], label='Commodity')\n",
    "# plt.plot(X['stock'], label='Stock')\n",
    "plt.plot(distance[distance.index <= now], label='Distance')\n",
    "plt.legend()\n",
    "# distance.diff().astype('float').corr(df['stock'].pct_change().shift(-1).astype('float'), method='spearman')"
   ]
  },
  {
   "cell_type": "markdown",
   "metadata": {},
   "source": [
    "# 有监督分类"
   ]
  },
  {
   "cell_type": "code",
   "execution_count": 272,
   "metadata": {
    "collapsed": true
   },
   "outputs": [],
   "source": [
    "Y = pd.Series(0, index=X.index)\n",
    "# 商品价格上涨超过5%的月份的前一个月\n",
    "Y[df['commodity'].pct_change() > 0] = 1\n",
    "Y = Y.shift(-1)\n",
    "Y.iloc[-1] = 0"
   ]
  },
  {
   "cell_type": "code",
   "execution_count": 273,
   "metadata": {},
   "outputs": [
    {
     "data": {
      "text/plain": [
       "(167L,)"
      ]
     },
     "execution_count": 273,
     "metadata": {},
     "output_type": "execute_result"
    }
   ],
   "source": [
    "Y.shape"
   ]
  },
  {
   "cell_type": "code",
   "execution_count": 274,
   "metadata": {},
   "outputs": [
    {
     "data": {
      "text/plain": [
       "(92L,)"
      ]
     },
     "execution_count": 274,
     "metadata": {},
     "output_type": "execute_result"
    }
   ],
   "source": [
    "Y[Y == 1].shape"
   ]
  },
  {
   "cell_type": "code",
   "execution_count": 275,
   "metadata": {},
   "outputs": [
    {
     "data": {
      "text/plain": [
       "0.4491017964071856"
      ]
     },
     "execution_count": 275,
     "metadata": {},
     "output_type": "execute_result"
    }
   ],
   "source": [
    "1.0 * (Y.shape[0] - Y[Y == 1].shape[0]) / Y.shape[0]"
   ]
  },
  {
   "cell_type": "code",
   "execution_count": 276,
   "metadata": {
    "collapsed": true
   },
   "outputs": [],
   "source": [
    "from sklearn.model_selection import cross_val_score\n",
    "from sklearn.model_selection import cross_validate\n",
    "from sklearn.model_selection import cross_val_predict\n",
    "from sklearn import svm"
   ]
  },
  {
   "cell_type": "code",
   "execution_count": 285,
   "metadata": {
    "collapsed": true
   },
   "outputs": [],
   "source": [
    "clf = svm.SVC(kernel='linear', C=0.01, probability=True)"
   ]
  },
  {
   "cell_type": "code",
   "execution_count": 286,
   "metadata": {},
   "outputs": [],
   "source": [
    "scores = cross_val_score(clf, X, Y, cv=10)"
   ]
  },
  {
   "cell_type": "code",
   "execution_count": 287,
   "metadata": {},
   "outputs": [
    {
     "data": {
      "text/plain": [
       "array([ 0.61111111,  0.55555556,  0.17647059,  0.23529412,  0.41176471,\n",
       "        0.5625    ,  0.625     ,  0.9375    ,  0.375     ,  0.8125    ])"
      ]
     },
     "execution_count": 287,
     "metadata": {},
     "output_type": "execute_result"
    }
   ],
   "source": [
    "scores"
   ]
  },
  {
   "cell_type": "code",
   "execution_count": 288,
   "metadata": {},
   "outputs": [
    {
     "name": "stdout",
     "output_type": "stream",
     "text": [
      "Accuracy: 0.53 (+/- 0.45)\n"
     ]
    }
   ],
   "source": [
    "print(\"Accuracy: %0.2f (+/- %0.2f)\" % (scores.mean(), scores.std() * 2))"
   ]
  },
  {
   "cell_type": "code",
   "execution_count": 179,
   "metadata": {
    "collapsed": true
   },
   "outputs": [],
   "source": [
    "predict = cross_val_predict(clf, X_train, Y_train, cv=10)"
   ]
  },
  {
   "cell_type": "code",
   "execution_count": 180,
   "metadata": {},
   "outputs": [
    {
     "data": {
      "text/plain": [
       "0.91666666666666663"
      ]
     },
     "execution_count": 180,
     "metadata": {},
     "output_type": "execute_result"
    }
   ],
   "source": [
    "accuracy_score(predict, Y_train)"
   ]
  },
  {
   "cell_type": "code",
   "execution_count": 189,
   "metadata": {},
   "outputs": [
    {
     "data": {
      "text/plain": [
       "SVC(C=1, cache_size=200, class_weight=None, coef0=0.0,\n",
       "  decision_function_shape='ovr', degree=3, gamma='auto', kernel='rbf',\n",
       "  max_iter=-1, probability=True, random_state=None, shrinking=True,\n",
       "  tol=0.001, verbose=False)"
      ]
     },
     "execution_count": 189,
     "metadata": {},
     "output_type": "execute_result"
    }
   ],
   "source": [
    "clf.fit(X_train, Y_train)"
   ]
  },
  {
   "cell_type": "code",
   "execution_count": 197,
   "metadata": {},
   "outputs": [
    {
     "data": {
      "text/plain": [
       "<matplotlib.axes._subplots.AxesSubplot at 0xc7681d0>"
      ]
     },
     "execution_count": 197,
     "metadata": {},
     "output_type": "execute_result"
    },
    {
     "data": {
      "image/png": "[encoded data removed]",
      "text/plain": [
       "<matplotlib.figure.Figure at 0xc768b70>"
      ]
     },
     "metadata": {},
     "output_type": "display_data"
    }
   ],
   "source": [
    "plt.figure(figsize=(16, 9))\n",
    "pd.Series(clf.predict_proba(X_train)[:, 1], index=X_train.index).plot()"
   ]
  },
  {
   "cell_type": "code",
   "execution_count": 191,
   "metadata": {},
   "outputs": [
    {
     "data": {
      "text/plain": [
       "array([0, 0, 0, 0, 0, 0, 0, 0, 0, 0, 0], dtype=int64)"
      ]
     },
     "execution_count": 191,
     "metadata": {},
     "output_type": "execute_result"
    }
   ],
   "source": [
    "clf.predict(X_test)"
   ]
  },
  {
   "cell_type": "code",
   "execution_count": null,
   "metadata": {
    "collapsed": true
   },
   "outputs": [],
   "source": []
  }
 ],
 "metadata": {
  "kernelspec": {
   "display_name": "Python 2",
   "language": "python",
   "name": "python2"
  },
  "language_info": {
   "codemirror_mode": {
    "name": "ipython",
    "version": 2
   },
   "file_extension": ".py",
   "mimetype": "text/x-python",
   "name": "python",
   "nbconvert_exporter": "python",
   "pygments_lexer": "ipython2",
   "version": "2.7.14"
  }
 },
 "nbformat": 4,
 "nbformat_minor": 2
}
