{
 "cells": [
  {
   "cell_type": "code",
   "execution_count": 1,
   "metadata": {
    "collapsed": true
   },
   "outputs": [],
   "source": [
    "import numpy\n",
    "from pyearth import Earth\n",
    "from matplotlib import pyplot\n",
    "%matplotlib inline"
   ]
  },
  {
   "cell_type": "code",
   "execution_count": 2,
   "metadata": {
    "collapsed": true
   },
   "outputs": [],
   "source": [
    "#Create some fake data\n",
    "numpy.random.seed(0)\n",
    "m = 1000\n",
    "n = 10\n",
    "X = 80*numpy.random.uniform(size=(m,n)) - 40\n",
    "y = numpy.abs(X[:,6] - 4.0) + 1*numpy.random.normal(size=m)"
   ]
  },
  {
   "cell_type": "code",
   "execution_count": 3,
   "metadata": {},
   "outputs": [
    {
     "data": {
      "text/plain": [
       "(1000L, 10L)"
      ]
     },
     "execution_count": 3,
     "metadata": {},
     "output_type": "execute_result"
    }
   ],
   "source": [
    "X.shape"
   ]
  },
  {
   "cell_type": "code",
   "execution_count": 4,
   "metadata": {},
   "outputs": [
    {
     "data": {
      "text/plain": [
       "(1000L,)"
      ]
     },
     "execution_count": 4,
     "metadata": {},
     "output_type": "execute_result"
    }
   ],
   "source": [
    "y.shape"
   ]
  },
  {
   "cell_type": "code",
   "execution_count": 5,
   "metadata": {},
   "outputs": [
    {
     "data": {
      "text/plain": [
       "Earth(allow_linear=None, allow_missing=False, check_every=None,\n",
       "   enable_pruning=True, endspan=None, endspan_alpha=None, fast_K=None,\n",
       "   fast_h=None, feature_importance_type=None, max_degree=None,\n",
       "   max_terms=None, min_search_points=None, minspan=None,\n",
       "   minspan_alpha=None, penalty=None, smooth=None, thresh=None,\n",
       "   use_fast=None, verbose=0, zero_tol=None)"
      ]
     },
     "execution_count": 5,
     "metadata": {},
     "output_type": "execute_result"
    }
   ],
   "source": [
    "#Fit an Earth model\n",
    "model = Earth()\n",
    "model.fit(X,y)"
   ]
  },
  {
   "cell_type": "code",
   "execution_count": 6,
   "metadata": {},
   "outputs": [
    {
     "name": "stdout",
     "output_type": "stream",
     "text": [
      "Forward Pass\n",
      "-------------------------------------------------------------------\n",
      "iter  parent  var  knot  mse         terms  gcv      rsq    grsq   \n",
      "-------------------------------------------------------------------\n",
      "0     -       -    -     150.123858  1      150.425  0.000  0.000  \n",
      "1     0       6    595   0.923957    3      0.935    0.994  0.994  \n",
      "2     0       6    813   0.911088    5      0.931    0.994  0.994  \n",
      "-------------------------------------------------------------------\n",
      "Stopping Condition 2: Improvement below threshold\n",
      "\n",
      "Pruning Pass\n",
      "------------------------------------------------\n",
      "iter  bf  terms  mse     gcv      rsq    grsq   \n",
      "------------------------------------------------\n",
      "0     -   5      0.91    0.931    0.994  0.994  \n",
      "1     2   4      0.91    0.927    0.994  0.994  \n",
      "2     3   3      0.91    0.923    0.994  0.994  \n",
      "3     1   2      84.42   85.014   0.438  0.435  \n",
      "4     4   1      150.12  150.425  0.000  0.000  \n",
      "------------------------------------------------\n",
      "Selected iteration: 2\n",
      "\n",
      "Earth Model\n",
      "-------------------------------------\n",
      "Basis Function  Pruned  Coefficient  \n",
      "-------------------------------------\n",
      "(Intercept)     No      0.234314     \n",
      "h(x6-4.33545)   No      0.998419     \n",
      "h(4.33545-x6)   Yes     None         \n",
      "h(x6-3.82025)   Yes     None         \n",
      "h(3.82025-x6)   No      0.997038     \n",
      "-------------------------------------\n",
      "MSE: 0.9115, GCV: 0.9225, RSQ: 0.9939, GRSQ: 0.9939\n"
     ]
    }
   ],
   "source": [
    "#Print the model\n",
    "print(model.trace())\n",
    "print(model.summary())"
   ]
  },
  {
   "cell_type": "code",
   "execution_count": 7,
   "metadata": {
    "collapsed": true
   },
   "outputs": [],
   "source": [
    "#Plot the model\n",
    "y_hat = model.predict(X)"
   ]
  },
  {
   "cell_type": "code",
   "execution_count": 8,
   "metadata": {},
   "outputs": [
    {
     "data": {
      "text/plain": [
       "Text(0.5,1,u'Simple Earth Example')"
      ]
     },
     "execution_count": 8,
     "metadata": {},
     "output_type": "execute_result"
    },
    {
     "data": {
      "image/png": "[encoded data removed]",
      "text/plain": [
       "<matplotlib.figure.Figure at 0x93d2b00>"
      ]
     },
     "metadata": {},
     "output_type": "display_data"
    }
   ],
   "source": [
    "pyplot.plot(X[:,6],y,'r.')\n",
    "pyplot.plot(X[:,6],y_hat,'b.')\n",
    "pyplot.xlabel('x_6')\n",
    "pyplot.ylabel('y')\n",
    "pyplot.title('Simple Earth Example')"
   ]
  },
  {
   "cell_type": "code",
   "execution_count": 9,
   "metadata": {},
   "outputs": [
    {
     "data": {
      "text/plain": [
       "(1000L, 10L)"
      ]
     },
     "execution_count": 9,
     "metadata": {},
     "output_type": "execute_result"
    }
   ],
   "source": [
    "X.shape"
   ]
  },
  {
   "cell_type": "code",
   "execution_count": 10,
   "metadata": {},
   "outputs": [
    {
     "data": {
      "text/plain": [
       "(1000L,)"
      ]
     },
     "execution_count": 10,
     "metadata": {},
     "output_type": "execute_result"
    }
   ],
   "source": [
    "y.shape"
   ]
  },
  {
   "cell_type": "code",
   "execution_count": null,
   "metadata": {
    "collapsed": true
   },
   "outputs": [],
   "source": []
  }
 ],
 "metadata": {
  "kernelspec": {
   "display_name": "Python 2",
   "language": "python",
   "name": "python2"
  },
  "language_info": {
   "codemirror_mode": {
    "name": "ipython",
    "version": 2
   },
   "file_extension": ".py",
   "mimetype": "text/x-python",
   "name": "python",
   "nbconvert_exporter": "python",
   "pygments_lexer": "ipython2",
   "version": "2.7.14"
  }
 },
 "nbformat": 4,
 "nbformat_minor": 1
}
