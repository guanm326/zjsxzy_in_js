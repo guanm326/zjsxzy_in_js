{
 "cells": [
  {
   "cell_type": "code",
   "execution_count": 1,
   "metadata": {
    "collapsed": true
   },
   "outputs": [],
   "source": [
    "import pandas as pd\n",
    "import numpy as np\n",
    "import matplotlib.pyplot as plt\n",
    "import metric_learn\n",
    "from scipy.spatial.distance import euclidean\n",
    "%matplotlib inline"
   ]
  },
  {
   "cell_type": "code",
   "execution_count": 1843,
   "metadata": {
    "collapsed": true
   },
   "outputs": [],
   "source": [
    "stock = pd.read_excel('./data/price.xlsx', sheetname='stock')\n",
    "bond = pd.read_excel('./data/price.xlsx', sheetname='bond')"
   ]
  },
  {
   "cell_type": "code",
   "execution_count": 2032,
   "metadata": {
    "collapsed": true
   },
   "outputs": [],
   "source": [
    "# fname = u'./data/三大产业对GDP增长的贡献率和拉动(季).xlsx'\n",
    "# fname = u'./data/国内生产总值(季).xlsx'\n",
    "# fname = u'./data/规模以上工业增加值当月(月).xlsx'\n",
    "# fname = u'./data/固定资产投资完成额分行业同比(月).xlsx'\n",
    "# fname = u'./data/货币供应量(月).xlsx'\n",
    "# fname = u'./data/股票市场总体指标(月).xlsx'\n",
    "fname = u'./data/规模以上工业增加值累计(月).xlsx'\n",
    "# fname = u'./data/价格指数(月).xlsx'\n",
    "# fname = u'./data/macro.csv'\n",
    "# fname = u'./data/month_data.xlsx'\n",
    "# mdf = pd.read_excel(fname, index_col=0)\n",
    "# mdf = mdf.fillna(method='ffill').dropna()\n",
    "# fname = u'./data/quarter_data.xlsx'\n",
    "# qdf = pd.read_excel(fname, index_col=0)"
   ]
  },
  {
   "cell_type": "code",
   "execution_count": 2033,
   "metadata": {
    "collapsed": true
   },
   "outputs": [],
   "source": [
    "df = pd.read_excel(fname, index_col=0)\n",
    "# df = pd.read_csv(fname, index_col=0, encoding='gbk')\n",
    "# df.index = pd.to_datetime(df.index)"
   ]
  },
  {
   "cell_type": "code",
   "execution_count": 2034,
   "metadata": {},
   "outputs": [
    {
     "data": {
      "text/plain": [
       "(233, 53)"
      ]
     },
     "execution_count": 2034,
     "metadata": {},
     "output_type": "execute_result"
    }
   ],
   "source": [
    "df.shape"
   ]
  },
  {
   "cell_type": "code",
   "execution_count": 2035,
   "metadata": {
    "collapsed": true
   },
   "outputs": [],
   "source": [
    "df = df[df.index >= '2002-01-01'].fillna(method='ffill').dropna(axis=1)\n",
    "# df = df.fillna(method='ffill').dropna()\n",
    "# df = mdf.join(qdf).dropna()\n",
    "# df = mdf.join(qdf).fillna(method='ffill').dropna()\n",
    "# df = qdf.copy()"
   ]
  },
  {
   "cell_type": "code",
   "execution_count": 2036,
   "metadata": {},
   "outputs": [
    {
     "data": {
      "text/html": [
       "<div>\n",
       "<style scoped>\n",
       "    .dataframe tbody tr th:only-of-type {\n",
       "        vertical-align: middle;\n",
       "    }\n",
       "\n",
       "    .dataframe tbody tr th {\n",
       "        vertical-align: top;\n",
       "    }\n",
       "\n",
       "    .dataframe thead th {\n",
       "        text-align: right;\n",
       "    }\n",
       "</style>\n",
       "<table border=\"1\" class=\"dataframe\">\n",
       "  <thead>\n",
       "    <tr style=\"text-align: right;\">\n",
       "      <th></th>\n",
       "      <th>工业增加值:累计同比</th>\n",
       "      <th>工业增加值:轻工业:累计同比</th>\n",
       "      <th>工业增加值:重工业:累计同比</th>\n",
       "      <th>工业增加值:国有及国有控股企业:累计同比</th>\n",
       "      <th>工业增加值:集体企业:累计同比</th>\n",
       "      <th>工业增加值:股份合作企业:累计同比</th>\n",
       "      <th>工业增加值:股份制企业:累计同比</th>\n",
       "      <th>工业增加值:外商及港澳台投资企业:累计同比</th>\n",
       "    </tr>\n",
       "  </thead>\n",
       "  <tbody>\n",
       "    <tr>\n",
       "      <th>2002-01-31</th>\n",
       "      <td>18.6</td>\n",
       "      <td>17.4</td>\n",
       "      <td>19.6</td>\n",
       "      <td>18.5</td>\n",
       "      <td>12.3</td>\n",
       "      <td>18.4</td>\n",
       "      <td>18.3</td>\n",
       "      <td>21.8</td>\n",
       "    </tr>\n",
       "    <tr>\n",
       "      <th>2002-02-28</th>\n",
       "      <td>10.9</td>\n",
       "      <td>10.9</td>\n",
       "      <td>11.0</td>\n",
       "      <td>9.1</td>\n",
       "      <td>7.9</td>\n",
       "      <td>11.6</td>\n",
       "      <td>11.9</td>\n",
       "      <td>11.5</td>\n",
       "    </tr>\n",
       "    <tr>\n",
       "      <th>2002-03-31</th>\n",
       "      <td>10.9</td>\n",
       "      <td>11.3</td>\n",
       "      <td>10.6</td>\n",
       "      <td>8.7</td>\n",
       "      <td>8.3</td>\n",
       "      <td>10.7</td>\n",
       "      <td>12.7</td>\n",
       "      <td>10.5</td>\n",
       "    </tr>\n",
       "    <tr>\n",
       "      <th>2002-04-30</th>\n",
       "      <td>11.2</td>\n",
       "      <td>11.4</td>\n",
       "      <td>11.1</td>\n",
       "      <td>9.5</td>\n",
       "      <td>7.9</td>\n",
       "      <td>11.0</td>\n",
       "      <td>12.8</td>\n",
       "      <td>11.4</td>\n",
       "    </tr>\n",
       "    <tr>\n",
       "      <th>2002-05-31</th>\n",
       "      <td>11.6</td>\n",
       "      <td>11.6</td>\n",
       "      <td>11.5</td>\n",
       "      <td>9.9</td>\n",
       "      <td>7.8</td>\n",
       "      <td>10.5</td>\n",
       "      <td>13.2</td>\n",
       "      <td>11.8</td>\n",
       "    </tr>\n",
       "  </tbody>\n",
       "</table>\n",
       "</div>"
      ],
      "text/plain": [
       "            工业增加值:累计同比  工业增加值:轻工业:累计同比  工业增加值:重工业:累计同比  工业增加值:国有及国有控股企业:累计同比  \\\n",
       "2002-01-31        18.6            17.4            19.6                  18.5   \n",
       "2002-02-28        10.9            10.9            11.0                   9.1   \n",
       "2002-03-31        10.9            11.3            10.6                   8.7   \n",
       "2002-04-30        11.2            11.4            11.1                   9.5   \n",
       "2002-05-31        11.6            11.6            11.5                   9.9   \n",
       "\n",
       "            工业增加值:集体企业:累计同比  工业增加值:股份合作企业:累计同比  工业增加值:股份制企业:累计同比  \\\n",
       "2002-01-31             12.3               18.4              18.3   \n",
       "2002-02-28              7.9               11.6              11.9   \n",
       "2002-03-31              8.3               10.7              12.7   \n",
       "2002-04-30              7.9               11.0              12.8   \n",
       "2002-05-31              7.8               10.5              13.2   \n",
       "\n",
       "            工业增加值:外商及港澳台投资企业:累计同比  \n",
       "2002-01-31                   21.8  \n",
       "2002-02-28                   11.5  \n",
       "2002-03-31                   10.5  \n",
       "2002-04-30                   11.4  \n",
       "2002-05-31                   11.8  "
      ]
     },
     "execution_count": 2036,
     "metadata": {},
     "output_type": "execute_result"
    }
   ],
   "source": [
    "df.head()"
   ]
  },
  {
   "cell_type": "code",
   "execution_count": 2037,
   "metadata": {},
   "outputs": [
    {
     "data": {
      "text/plain": [
       "Index([u'工业增加值:累计同比', u'工业增加值:轻工业:累计同比', u'工业增加值:重工业:累计同比',\n",
       "       u'工业增加值:国有及国有控股企业:累计同比', u'工业增加值:集体企业:累计同比', u'工业增加值:股份合作企业:累计同比',\n",
       "       u'工业增加值:股份制企业:累计同比', u'工业增加值:外商及港澳台投资企业:累计同比'],\n",
       "      dtype='object')"
      ]
     },
     "execution_count": 2037,
     "metadata": {},
     "output_type": "execute_result"
    }
   ],
   "source": [
    "df.columns"
   ]
  },
  {
   "cell_type": "code",
   "execution_count": 1982,
   "metadata": {},
   "outputs": [
    {
     "data": {
      "text/html": [
       "<div>\n",
       "<style scoped>\n",
       "    .dataframe tbody tr th:only-of-type {\n",
       "        vertical-align: middle;\n",
       "    }\n",
       "\n",
       "    .dataframe tbody tr th {\n",
       "        vertical-align: top;\n",
       "    }\n",
       "\n",
       "    .dataframe thead th {\n",
       "        text-align: right;\n",
       "    }\n",
       "</style>\n",
       "<table border=\"1\" class=\"dataframe\">\n",
       "  <thead>\n",
       "    <tr style=\"text-align: right;\">\n",
       "      <th></th>\n",
       "      <th>上证所:股票总市值</th>\n",
       "      <th>上证所:股票流通股本</th>\n",
       "      <th>上证所:平均市盈率</th>\n",
       "      <th>上证所:股票流通市值</th>\n",
       "      <th>深交所:股票总市值</th>\n",
       "      <th>深交所:股票流通股本</th>\n",
       "      <th>深交所:股票流通市值</th>\n",
       "      <th>深交所:平均市盈率</th>\n",
       "      <th>筹资金额:境内外合计:当月值</th>\n",
       "      <th>筹资金额:A股增发:当月值</th>\n",
       "    </tr>\n",
       "  </thead>\n",
       "  <tbody>\n",
       "    <tr>\n",
       "      <th>2017-08-31</th>\n",
       "      <td>327100.65</td>\n",
       "      <td>30606.00</td>\n",
       "      <td>18.00</td>\n",
       "      <td>275609.26</td>\n",
       "      <td>234872.1338</td>\n",
       "      <td>13400.0322</td>\n",
       "      <td>163873.8468</td>\n",
       "      <td>36.79</td>\n",
       "      <td>2986.9900</td>\n",
       "      <td>895.18</td>\n",
       "    </tr>\n",
       "    <tr>\n",
       "      <th>2017-09-30</th>\n",
       "      <td>327809.44</td>\n",
       "      <td>30775.10</td>\n",
       "      <td>18.02</td>\n",
       "      <td>276583.07</td>\n",
       "      <td>241491.4973</td>\n",
       "      <td>13559.0203</td>\n",
       "      <td>169059.6150</td>\n",
       "      <td>37.71</td>\n",
       "      <td>3272.5234</td>\n",
       "      <td>687.35</td>\n",
       "    </tr>\n",
       "    <tr>\n",
       "      <th>2017-10-31</th>\n",
       "      <td>334498.47</td>\n",
       "      <td>30893.27</td>\n",
       "      <td>18.37</td>\n",
       "      <td>282619.51</td>\n",
       "      <td>244622.6167</td>\n",
       "      <td>13686.3808</td>\n",
       "      <td>172107.1673</td>\n",
       "      <td>38.10</td>\n",
       "      <td>3277.2591</td>\n",
       "      <td>917.07</td>\n",
       "    </tr>\n",
       "    <tr>\n",
       "      <th>2017-11-30</th>\n",
       "      <td>330215.13</td>\n",
       "      <td>30969.03</td>\n",
       "      <td>18.11</td>\n",
       "      <td>280099.93</td>\n",
       "      <td>233801.2846</td>\n",
       "      <td>13776.5536</td>\n",
       "      <td>165642.5186</td>\n",
       "      <td>36.34</td>\n",
       "      <td>3277.2591</td>\n",
       "      <td>917.07</td>\n",
       "    </tr>\n",
       "    <tr>\n",
       "      <th>2017-12-31</th>\n",
       "      <td>331324.82</td>\n",
       "      <td>31119.45</td>\n",
       "      <td>18.16</td>\n",
       "      <td>281365.67</td>\n",
       "      <td>235761.2565</td>\n",
       "      <td>13925.4210</td>\n",
       "      <td>167932.4717</td>\n",
       "      <td>36.21</td>\n",
       "      <td>3277.2591</td>\n",
       "      <td>917.07</td>\n",
       "    </tr>\n",
       "  </tbody>\n",
       "</table>\n",
       "</div>"
      ],
      "text/plain": [
       "            上证所:股票总市值  上证所:股票流通股本  上证所:平均市盈率  上证所:股票流通市值    深交所:股票总市值  \\\n",
       "2017-08-31  327100.65    30606.00      18.00   275609.26  234872.1338   \n",
       "2017-09-30  327809.44    30775.10      18.02   276583.07  241491.4973   \n",
       "2017-10-31  334498.47    30893.27      18.37   282619.51  244622.6167   \n",
       "2017-11-30  330215.13    30969.03      18.11   280099.93  233801.2846   \n",
       "2017-12-31  331324.82    31119.45      18.16   281365.67  235761.2565   \n",
       "\n",
       "            深交所:股票流通股本   深交所:股票流通市值  深交所:平均市盈率  筹资金额:境内外合计:当月值  筹资金额:A股增发:当月值  \n",
       "2017-08-31  13400.0322  163873.8468      36.79       2986.9900         895.18  \n",
       "2017-09-30  13559.0203  169059.6150      37.71       3272.5234         687.35  \n",
       "2017-10-31  13686.3808  172107.1673      38.10       3277.2591         917.07  \n",
       "2017-11-30  13776.5536  165642.5186      36.34       3277.2591         917.07  \n",
       "2017-12-31  13925.4210  167932.4717      36.21       3277.2591         917.07  "
      ]
     },
     "execution_count": 1982,
     "metadata": {},
     "output_type": "execute_result"
    }
   ],
   "source": [
    "df.tail()"
   ]
  },
  {
   "cell_type": "code",
   "execution_count": 1983,
   "metadata": {},
   "outputs": [
    {
     "data": {
      "text/plain": [
       "(192, 10)"
      ]
     },
     "execution_count": 1983,
     "metadata": {},
     "output_type": "execute_result"
    }
   ],
   "source": [
    "df.shape"
   ]
  },
  {
   "cell_type": "code",
   "execution_count": 2008,
   "metadata": {
    "collapsed": true
   },
   "outputs": [],
   "source": [
    "X = df.copy()\n",
    "# X = df.pct_change(periods=12) # 季度/月度同比序列\n",
    "# X = X.replace([-np.inf, np.inf], np.nan).fillna(method='ffill').dropna()"
   ]
  },
  {
   "cell_type": "code",
   "execution_count": 2009,
   "metadata": {},
   "outputs": [
    {
     "data": {
      "text/html": [
       "<div>\n",
       "<style scoped>\n",
       "    .dataframe tbody tr th:only-of-type {\n",
       "        vertical-align: middle;\n",
       "    }\n",
       "\n",
       "    .dataframe tbody tr th {\n",
       "        vertical-align: top;\n",
       "    }\n",
       "\n",
       "    .dataframe thead th {\n",
       "        text-align: right;\n",
       "    }\n",
       "</style>\n",
       "<table border=\"1\" class=\"dataframe\">\n",
       "  <thead>\n",
       "    <tr style=\"text-align: right;\">\n",
       "      <th></th>\n",
       "      <th>上证所:股票总市值</th>\n",
       "      <th>上证所:股票流通股本</th>\n",
       "      <th>上证所:平均市盈率</th>\n",
       "      <th>上证所:股票流通市值</th>\n",
       "      <th>深交所:股票总市值</th>\n",
       "      <th>深交所:股票流通股本</th>\n",
       "      <th>深交所:股票流通市值</th>\n",
       "      <th>深交所:平均市盈率</th>\n",
       "      <th>筹资金额:境内外合计:当月值</th>\n",
       "      <th>筹资金额:A股增发:当月值</th>\n",
       "    </tr>\n",
       "  </thead>\n",
       "  <tbody>\n",
       "    <tr>\n",
       "      <th>2017-08-31</th>\n",
       "      <td>327100.65</td>\n",
       "      <td>30606.00</td>\n",
       "      <td>18.00</td>\n",
       "      <td>275609.26</td>\n",
       "      <td>234872.1338</td>\n",
       "      <td>13400.0322</td>\n",
       "      <td>163873.8468</td>\n",
       "      <td>36.79</td>\n",
       "      <td>2986.9900</td>\n",
       "      <td>895.18</td>\n",
       "    </tr>\n",
       "    <tr>\n",
       "      <th>2017-09-30</th>\n",
       "      <td>327809.44</td>\n",
       "      <td>30775.10</td>\n",
       "      <td>18.02</td>\n",
       "      <td>276583.07</td>\n",
       "      <td>241491.4973</td>\n",
       "      <td>13559.0203</td>\n",
       "      <td>169059.6150</td>\n",
       "      <td>37.71</td>\n",
       "      <td>3272.5234</td>\n",
       "      <td>687.35</td>\n",
       "    </tr>\n",
       "    <tr>\n",
       "      <th>2017-10-31</th>\n",
       "      <td>334498.47</td>\n",
       "      <td>30893.27</td>\n",
       "      <td>18.37</td>\n",
       "      <td>282619.51</td>\n",
       "      <td>244622.6167</td>\n",
       "      <td>13686.3808</td>\n",
       "      <td>172107.1673</td>\n",
       "      <td>38.10</td>\n",
       "      <td>3277.2591</td>\n",
       "      <td>917.07</td>\n",
       "    </tr>\n",
       "    <tr>\n",
       "      <th>2017-11-30</th>\n",
       "      <td>330215.13</td>\n",
       "      <td>30969.03</td>\n",
       "      <td>18.11</td>\n",
       "      <td>280099.93</td>\n",
       "      <td>233801.2846</td>\n",
       "      <td>13776.5536</td>\n",
       "      <td>165642.5186</td>\n",
       "      <td>36.34</td>\n",
       "      <td>3277.2591</td>\n",
       "      <td>917.07</td>\n",
       "    </tr>\n",
       "    <tr>\n",
       "      <th>2017-12-31</th>\n",
       "      <td>331324.82</td>\n",
       "      <td>31119.45</td>\n",
       "      <td>18.16</td>\n",
       "      <td>281365.67</td>\n",
       "      <td>235761.2565</td>\n",
       "      <td>13925.4210</td>\n",
       "      <td>167932.4717</td>\n",
       "      <td>36.21</td>\n",
       "      <td>3277.2591</td>\n",
       "      <td>917.07</td>\n",
       "    </tr>\n",
       "  </tbody>\n",
       "</table>\n",
       "</div>"
      ],
      "text/plain": [
       "            上证所:股票总市值  上证所:股票流通股本  上证所:平均市盈率  上证所:股票流通市值    深交所:股票总市值  \\\n",
       "2017-08-31  327100.65    30606.00      18.00   275609.26  234872.1338   \n",
       "2017-09-30  327809.44    30775.10      18.02   276583.07  241491.4973   \n",
       "2017-10-31  334498.47    30893.27      18.37   282619.51  244622.6167   \n",
       "2017-11-30  330215.13    30969.03      18.11   280099.93  233801.2846   \n",
       "2017-12-31  331324.82    31119.45      18.16   281365.67  235761.2565   \n",
       "\n",
       "            深交所:股票流通股本   深交所:股票流通市值  深交所:平均市盈率  筹资金额:境内外合计:当月值  筹资金额:A股增发:当月值  \n",
       "2017-08-31  13400.0322  163873.8468      36.79       2986.9900         895.18  \n",
       "2017-09-30  13559.0203  169059.6150      37.71       3272.5234         687.35  \n",
       "2017-10-31  13686.3808  172107.1673      38.10       3277.2591         917.07  \n",
       "2017-11-30  13776.5536  165642.5186      36.34       3277.2591         917.07  \n",
       "2017-12-31  13925.4210  167932.4717      36.21       3277.2591         917.07  "
      ]
     },
     "execution_count": 2009,
     "metadata": {},
     "output_type": "execute_result"
    }
   ],
   "source": [
    "X.tail()"
   ]
  },
  {
   "cell_type": "code",
   "execution_count": 2010,
   "metadata": {
    "collapsed": true,
    "scrolled": true
   },
   "outputs": [],
   "source": [
    "# XX = df.pct_change()# 环比序列\n",
    "# XX = XX.replace([-np.inf, np.inf], np.nan).fillna(method='ffill').dropna()\n",
    "# X = pd.concat([X, XX], axis=1).dropna()\n",
    "# XX.head()"
   ]
  },
  {
   "cell_type": "code",
   "execution_count": 2011,
   "metadata": {},
   "outputs": [
    {
     "data": {
      "text/plain": [
       "(192, 10)"
      ]
     },
     "execution_count": 2011,
     "metadata": {},
     "output_type": "execute_result"
    }
   ],
   "source": [
    "X.shape"
   ]
  },
  {
   "cell_type": "markdown",
   "metadata": {},
   "source": [
    "# 股票数据验证"
   ]
  },
  {
   "cell_type": "code",
   "execution_count": 2012,
   "metadata": {
    "collapsed": true
   },
   "outputs": [],
   "source": [
    "ret_df = stock.resample('M').last().pct_change()"
   ]
  },
  {
   "cell_type": "code",
   "execution_count": 2013,
   "metadata": {
    "collapsed": true
   },
   "outputs": [],
   "source": [
    "ret_df = ret_df.loc[X.index]"
   ]
  },
  {
   "cell_type": "code",
   "execution_count": 2014,
   "metadata": {
    "collapsed": true
   },
   "outputs": [],
   "source": [
    "index_dict = {k: v for (v, k) in enumerate(ret_df.index)}"
   ]
  },
  {
   "cell_type": "code",
   "execution_count": 2015,
   "metadata": {
    "collapsed": true
   },
   "outputs": [],
   "source": [
    "Y = pd.Series(0, index=X.index)\n",
    "top = ret_df.sort_values('000001.SH', ascending=False).iloc[:Y.shape[0] / 20]"
   ]
  },
  {
   "cell_type": "code",
   "execution_count": 2016,
   "metadata": {},
   "outputs": [
    {
     "data": {
      "text/html": [
       "<div>\n",
       "<style scoped>\n",
       "    .dataframe tbody tr th:only-of-type {\n",
       "        vertical-align: middle;\n",
       "    }\n",
       "\n",
       "    .dataframe tbody tr th {\n",
       "        vertical-align: top;\n",
       "    }\n",
       "\n",
       "    .dataframe thead th {\n",
       "        text-align: right;\n",
       "    }\n",
       "</style>\n",
       "<table border=\"1\" class=\"dataframe\">\n",
       "  <thead>\n",
       "    <tr style=\"text-align: right;\">\n",
       "      <th></th>\n",
       "      <th>000001.SH</th>\n",
       "    </tr>\n",
       "  </thead>\n",
       "  <tbody>\n",
       "    <tr>\n",
       "      <th>2006-12-31</th>\n",
       "      <td>0.274467</td>\n",
       "    </tr>\n",
       "    <tr>\n",
       "      <th>2007-04-30</th>\n",
       "      <td>0.206436</td>\n",
       "    </tr>\n",
       "    <tr>\n",
       "      <th>2014-12-31</th>\n",
       "      <td>0.205694</td>\n",
       "    </tr>\n",
       "    <tr>\n",
       "      <th>2015-04-30</th>\n",
       "      <td>0.185105</td>\n",
       "    </tr>\n",
       "    <tr>\n",
       "      <th>2007-07-31</th>\n",
       "      <td>0.170212</td>\n",
       "    </tr>\n",
       "    <tr>\n",
       "      <th>2007-08-31</th>\n",
       "      <td>0.167253</td>\n",
       "    </tr>\n",
       "    <tr>\n",
       "      <th>2009-07-31</th>\n",
       "      <td>0.152972</td>\n",
       "    </tr>\n",
       "    <tr>\n",
       "      <th>2012-12-31</th>\n",
       "      <td>0.145957</td>\n",
       "    </tr>\n",
       "    <tr>\n",
       "      <th>2002-06-30</th>\n",
       "      <td>0.143180</td>\n",
       "    </tr>\n",
       "  </tbody>\n",
       "</table>\n",
       "</div>"
      ],
      "text/plain": [
       "            000001.SH\n",
       "2006-12-31   0.274467\n",
       "2007-04-30   0.206436\n",
       "2014-12-31   0.205694\n",
       "2015-04-30   0.185105\n",
       "2007-07-31   0.170212\n",
       "2007-08-31   0.167253\n",
       "2009-07-31   0.152972\n",
       "2012-12-31   0.145957\n",
       "2002-06-30   0.143180"
      ]
     },
     "execution_count": 2016,
     "metadata": {},
     "output_type": "execute_result"
    }
   ],
   "source": [
    "top"
   ]
  },
  {
   "cell_type": "code",
   "execution_count": 2017,
   "metadata": {
    "collapsed": true
   },
   "outputs": [],
   "source": [
    "Y.loc[top.index] = 1"
   ]
  },
  {
   "cell_type": "code",
   "execution_count": 2018,
   "metadata": {
    "collapsed": true
   },
   "outputs": [],
   "source": [
    "top_neighbor = [ret_df.index[index_dict[index]-1] for index in top.index if index_dict[index] >= 1] +\\\n",
    "               [ret_df.index[index_dict[index]+1] for index in top.index if index_dict[index] < ret_df.shape[0] - 1]"
   ]
  },
  {
   "cell_type": "code",
   "execution_count": 2019,
   "metadata": {},
   "outputs": [
    {
     "data": {
      "text/html": [
       "<div>\n",
       "<style scoped>\n",
       "    .dataframe tbody tr th:only-of-type {\n",
       "        vertical-align: middle;\n",
       "    }\n",
       "\n",
       "    .dataframe tbody tr th {\n",
       "        vertical-align: top;\n",
       "    }\n",
       "\n",
       "    .dataframe thead th {\n",
       "        text-align: right;\n",
       "    }\n",
       "</style>\n",
       "<table border=\"1\" class=\"dataframe\">\n",
       "  <thead>\n",
       "    <tr style=\"text-align: right;\">\n",
       "      <th></th>\n",
       "      <th>000001.SH</th>\n",
       "    </tr>\n",
       "  </thead>\n",
       "  <tbody>\n",
       "    <tr>\n",
       "      <th>2006-11-30</th>\n",
       "      <td>0.142164</td>\n",
       "    </tr>\n",
       "    <tr>\n",
       "      <th>2007-03-31</th>\n",
       "      <td>0.105138</td>\n",
       "    </tr>\n",
       "    <tr>\n",
       "      <th>2014-11-30</th>\n",
       "      <td>0.108528</td>\n",
       "    </tr>\n",
       "    <tr>\n",
       "      <th>2015-03-31</th>\n",
       "      <td>0.132192</td>\n",
       "    </tr>\n",
       "    <tr>\n",
       "      <th>2007-06-30</th>\n",
       "      <td>-0.070310</td>\n",
       "    </tr>\n",
       "    <tr>\n",
       "      <th>2007-07-31</th>\n",
       "      <td>0.170212</td>\n",
       "    </tr>\n",
       "    <tr>\n",
       "      <th>2009-06-30</th>\n",
       "      <td>0.123981</td>\n",
       "    </tr>\n",
       "    <tr>\n",
       "      <th>2012-11-30</th>\n",
       "      <td>-0.042904</td>\n",
       "    </tr>\n",
       "    <tr>\n",
       "      <th>2002-05-31</th>\n",
       "      <td>-0.091150</td>\n",
       "    </tr>\n",
       "    <tr>\n",
       "      <th>2007-01-31</th>\n",
       "      <td>0.041436</td>\n",
       "    </tr>\n",
       "    <tr>\n",
       "      <th>2007-05-31</th>\n",
       "      <td>0.069868</td>\n",
       "    </tr>\n",
       "    <tr>\n",
       "      <th>2015-01-31</th>\n",
       "      <td>-0.007517</td>\n",
       "    </tr>\n",
       "    <tr>\n",
       "      <th>2015-05-31</th>\n",
       "      <td>0.038294</td>\n",
       "    </tr>\n",
       "    <tr>\n",
       "      <th>2007-08-31</th>\n",
       "      <td>0.167253</td>\n",
       "    </tr>\n",
       "    <tr>\n",
       "      <th>2007-09-30</th>\n",
       "      <td>0.063899</td>\n",
       "    </tr>\n",
       "    <tr>\n",
       "      <th>2009-08-31</th>\n",
       "      <td>-0.218143</td>\n",
       "    </tr>\n",
       "    <tr>\n",
       "      <th>2013-01-31</th>\n",
       "      <td>0.051251</td>\n",
       "    </tr>\n",
       "    <tr>\n",
       "      <th>2002-07-31</th>\n",
       "      <td>-0.046839</td>\n",
       "    </tr>\n",
       "  </tbody>\n",
       "</table>\n",
       "</div>"
      ],
      "text/plain": [
       "            000001.SH\n",
       "2006-11-30   0.142164\n",
       "2007-03-31   0.105138\n",
       "2014-11-30   0.108528\n",
       "2015-03-31   0.132192\n",
       "2007-06-30  -0.070310\n",
       "2007-07-31   0.170212\n",
       "2009-06-30   0.123981\n",
       "2012-11-30  -0.042904\n",
       "2002-05-31  -0.091150\n",
       "2007-01-31   0.041436\n",
       "2007-05-31   0.069868\n",
       "2015-01-31  -0.007517\n",
       "2015-05-31   0.038294\n",
       "2007-08-31   0.167253\n",
       "2007-09-30   0.063899\n",
       "2009-08-31  -0.218143\n",
       "2013-01-31   0.051251\n",
       "2002-07-31  -0.046839"
      ]
     },
     "execution_count": 2019,
     "metadata": {},
     "output_type": "execute_result"
    }
   ],
   "source": [
    "ret_df.loc[top_neighbor]"
   ]
  },
  {
   "cell_type": "code",
   "execution_count": 2020,
   "metadata": {
    "collapsed": true
   },
   "outputs": [],
   "source": [
    "Y.loc[top_neighbor] = 1"
   ]
  },
  {
   "cell_type": "code",
   "execution_count": 2021,
   "metadata": {},
   "outputs": [
    {
     "data": {
      "text/plain": [
       "25"
      ]
     },
     "execution_count": 2021,
     "metadata": {},
     "output_type": "execute_result"
    }
   ],
   "source": [
    "Y[Y == 1].sum()"
   ]
  },
  {
   "cell_type": "code",
   "execution_count": 2022,
   "metadata": {
    "collapsed": true
   },
   "outputs": [],
   "source": [
    "lmnn = metric_learn.LMNN(k=5, learn_rate=1e-6)"
   ]
  },
  {
   "cell_type": "code",
   "execution_count": 2023,
   "metadata": {},
   "outputs": [
    {
     "data": {
      "text/plain": [
       "<metric_learn.lmnn.python_LMNN at 0x498f02b0>"
      ]
     },
     "execution_count": 2023,
     "metadata": {},
     "output_type": "execute_result"
    }
   ],
   "source": [
    "lmnn.fit(X.astype('float64').as_matrix(), Y.as_matrix())"
   ]
  },
  {
   "cell_type": "code",
   "execution_count": 2024,
   "metadata": {
    "collapsed": true
   },
   "outputs": [],
   "source": [
    "X_lmnn = lmnn.transform()"
   ]
  },
  {
   "cell_type": "code",
   "execution_count": 2025,
   "metadata": {
    "collapsed": true
   },
   "outputs": [],
   "source": [
    "X_lmnn = pd.DataFrame(X_lmnn, index=X.index)"
   ]
  },
  {
   "cell_type": "code",
   "execution_count": 2026,
   "metadata": {
    "collapsed": true
   },
   "outputs": [],
   "source": [
    "scenario = X_lmnn[Y == 1]\n",
    "center = scenario.mean()\n",
    "distance = pd.Series(index = Y.index)\n",
    "for index in X_lmnn.index:\n",
    "    x = X_lmnn.loc[index]\n",
    "    distance.loc[index] = euclidean(x, center)"
   ]
  },
  {
   "cell_type": "code",
   "execution_count": 2027,
   "metadata": {},
   "outputs": [
    {
     "data": {
      "text/plain": [
       "<matplotlib.legend.Legend at 0x499db860>"
      ]
     },
     "execution_count": 2027,
     "metadata": {},
     "output_type": "execute_result"
    },
    {
     "data": {
      "image/png": "[encoded data removed]",
      "text/plain": [
       "<matplotlib.figure.Figure at 0x498f0eb8>"
      ]
     },
     "metadata": {},
     "output_type": "display_data"
    }
   ],
   "source": [
    "plt.figure(figsize=(16, 9))\n",
    "plt.plot(distance, label='Distance')\n",
    "# plt.plot((stock['000001.SH'][stock.index >= distance.index[0]].pct_change() + 1).cumprod())\n",
    "plt.legend()"
   ]
  },
  {
   "cell_type": "code",
   "execution_count": 2028,
   "metadata": {},
   "outputs": [
    {
     "data": {
      "text/plain": [
       "Text(0.5,1,u'return of T period')"
      ]
     },
     "execution_count": 2028,
     "metadata": {},
     "output_type": "execute_result"
    },
    {
     "data": {
      "image/png": "[encoded data removed]",
      "text/plain": [
       "<matplotlib.figure.Figure at 0x499db358>"
      ]
     },
     "metadata": {},
     "output_type": "display_data"
    }
   ],
   "source": [
    "plt.figure(figsize=(16, 9))\n",
    "plt.scatter(distance[Y == 0].values, ret_df.loc[distance[Y == 0].index].values)\n",
    "plt.title(u'return of T period')"
   ]
  },
  {
   "cell_type": "code",
   "execution_count": 2029,
   "metadata": {},
   "outputs": [
    {
     "name": "stdout",
     "output_type": "stream",
     "text": [
      "0.0550849694004\n",
      "-0.088202141756\n",
      "0.20292592691\n"
     ]
    }
   ],
   "source": [
    "# ret_df.loc[distance.index].astype(float).corr(distance.astype(float))\n",
    "# np.corrcoef(ret_df.loc[distance[Y == 0].index].values.reshape(-1), distance[Y == 0].values)\n",
    "print ret_df['000001.SH'].corr(distance)\n",
    "print ret_df['000001.SH'].corr(distance.pct_change())\n",
    "print ret_df['000001.SH'].corr(distance.diff())"
   ]
  },
  {
   "cell_type": "code",
   "execution_count": 2030,
   "metadata": {},
   "outputs": [
    {
     "data": {
      "text/plain": [
       "Text(0.5,1,u'return of T+1 period')"
      ]
     },
     "execution_count": 2030,
     "metadata": {},
     "output_type": "execute_result"
    },
    {
     "data": {
      "image/png": "[encoded data removed]",
      "text/plain": [
       "<matplotlib.figure.Figure at 0x49c3f160>"
      ]
     },
     "metadata": {},
     "output_type": "display_data"
    }
   ],
   "source": [
    "plt.figure(figsize=(16, 9))\n",
    "plt.scatter(distance[Y == 0].values, ret_df.loc[distance[Y == 0].index].shift(-1).values)\n",
    "plt.title(u'return of T+1 period')"
   ]
  },
  {
   "cell_type": "code",
   "execution_count": 2031,
   "metadata": {},
   "outputs": [
    {
     "name": "stdout",
     "output_type": "stream",
     "text": [
      "0.0182170442001\n",
      "-0.0302059449619\n",
      "0.0563548868115\n"
     ]
    }
   ],
   "source": [
    "print ret_df['000001.SH'].shift(-1).corr(distance)\n",
    "print ret_df['000001.SH'].shift(-1).corr(distance.pct_change())\n",
    "print ret_df['000001.SH'].shift(-1).corr(distance.diff())"
   ]
  },
  {
   "cell_type": "markdown",
   "metadata": {
    "collapsed": true
   },
   "source": [
    "# 债券数据验证"
   ]
  },
  {
   "cell_type": "code",
   "execution_count": 1954,
   "metadata": {
    "collapsed": true
   },
   "outputs": [],
   "source": [
    "# plt.figure(figsize=(16, 9))\n",
    "# plt.scatter(df[u'CPI:当月同比'], ret_df['GCB10Y'])"
   ]
  },
  {
   "cell_type": "code",
   "execution_count": 1955,
   "metadata": {
    "collapsed": true
   },
   "outputs": [],
   "source": [
    "ret_df = bond.resample('M').last().pct_change()"
   ]
  },
  {
   "cell_type": "code",
   "execution_count": 1956,
   "metadata": {
    "collapsed": true
   },
   "outputs": [],
   "source": [
    "X = X[X.index >= ret_df.index[0]]"
   ]
  },
  {
   "cell_type": "code",
   "execution_count": 1957,
   "metadata": {
    "collapsed": true
   },
   "outputs": [],
   "source": [
    "ret_df = ret_df.loc[X.index]"
   ]
  },
  {
   "cell_type": "code",
   "execution_count": 1958,
   "metadata": {
    "collapsed": true
   },
   "outputs": [],
   "source": [
    "index_dict = {k: v for (v, k) in enumerate(ret_df.index)}"
   ]
  },
  {
   "cell_type": "code",
   "execution_count": 1959,
   "metadata": {
    "collapsed": true
   },
   "outputs": [],
   "source": [
    "Y = pd.Series(0, index=X.index)\n",
    "top = ret_df.sort_values('GCB10Y').iloc[:Y.shape[0] / 20]"
   ]
  },
  {
   "cell_type": "code",
   "execution_count": 1960,
   "metadata": {},
   "outputs": [
    {
     "data": {
      "text/html": [
       "<div>\n",
       "<style scoped>\n",
       "    .dataframe tbody tr th:only-of-type {\n",
       "        vertical-align: middle;\n",
       "    }\n",
       "\n",
       "    .dataframe tbody tr th {\n",
       "        vertical-align: top;\n",
       "    }\n",
       "\n",
       "    .dataframe thead th {\n",
       "        text-align: right;\n",
       "    }\n",
       "</style>\n",
       "<table border=\"1\" class=\"dataframe\">\n",
       "  <thead>\n",
       "    <tr style=\"text-align: right;\">\n",
       "      <th></th>\n",
       "      <th>GCB10Y</th>\n",
       "    </tr>\n",
       "  </thead>\n",
       "  <tbody>\n",
       "    <tr>\n",
       "      <th>2008-10-31</th>\n",
       "      <td>-0.172359</td>\n",
       "    </tr>\n",
       "    <tr>\n",
       "      <th>2005-03-31</th>\n",
       "      <td>-0.147536</td>\n",
       "    </tr>\n",
       "    <tr>\n",
       "      <th>2003-12-31</th>\n",
       "      <td>-0.145639</td>\n",
       "    </tr>\n",
       "    <tr>\n",
       "      <th>2008-09-30</th>\n",
       "      <td>-0.120259</td>\n",
       "    </tr>\n",
       "    <tr>\n",
       "      <th>2004-12-31</th>\n",
       "      <td>-0.113948</td>\n",
       "    </tr>\n",
       "    <tr>\n",
       "      <th>2005-09-30</th>\n",
       "      <td>-0.089980</td>\n",
       "    </tr>\n",
       "    <tr>\n",
       "      <th>2015-04-30</th>\n",
       "      <td>-0.081682</td>\n",
       "    </tr>\n",
       "    <tr>\n",
       "      <th>2008-12-31</th>\n",
       "      <td>-0.079719</td>\n",
       "    </tr>\n",
       "    <tr>\n",
       "      <th>2006-09-30</th>\n",
       "      <td>-0.073811</td>\n",
       "    </tr>\n",
       "  </tbody>\n",
       "</table>\n",
       "</div>"
      ],
      "text/plain": [
       "              GCB10Y\n",
       "2008-10-31 -0.172359\n",
       "2005-03-31 -0.147536\n",
       "2003-12-31 -0.145639\n",
       "2008-09-30 -0.120259\n",
       "2004-12-31 -0.113948\n",
       "2005-09-30 -0.089980\n",
       "2015-04-30 -0.081682\n",
       "2008-12-31 -0.079719\n",
       "2006-09-30 -0.073811"
      ]
     },
     "execution_count": 1960,
     "metadata": {},
     "output_type": "execute_result"
    }
   ],
   "source": [
    "top"
   ]
  },
  {
   "cell_type": "code",
   "execution_count": 1961,
   "metadata": {
    "collapsed": true
   },
   "outputs": [],
   "source": [
    "Y.loc[top.index] = 1"
   ]
  },
  {
   "cell_type": "code",
   "execution_count": 1962,
   "metadata": {
    "collapsed": true
   },
   "outputs": [],
   "source": [
    "top_neighbor = [ret_df.index[index_dict[index]-1] for index in top.index if index_dict[index] >= 1] +\\\n",
    "               [ret_df.index[index_dict[index]+1] for index in top.index if index_dict[index] < ret_df.shape[0] - 1]"
   ]
  },
  {
   "cell_type": "code",
   "execution_count": 1963,
   "metadata": {},
   "outputs": [
    {
     "data": {
      "text/html": [
       "<div>\n",
       "<style scoped>\n",
       "    .dataframe tbody tr th:only-of-type {\n",
       "        vertical-align: middle;\n",
       "    }\n",
       "\n",
       "    .dataframe tbody tr th {\n",
       "        vertical-align: top;\n",
       "    }\n",
       "\n",
       "    .dataframe thead th {\n",
       "        text-align: right;\n",
       "    }\n",
       "</style>\n",
       "<table border=\"1\" class=\"dataframe\">\n",
       "  <thead>\n",
       "    <tr style=\"text-align: right;\">\n",
       "      <th></th>\n",
       "      <th>GCB10Y</th>\n",
       "    </tr>\n",
       "  </thead>\n",
       "  <tbody>\n",
       "    <tr>\n",
       "      <th>2008-09-30</th>\n",
       "      <td>-0.120259</td>\n",
       "    </tr>\n",
       "    <tr>\n",
       "      <th>2005-02-28</th>\n",
       "      <td>-0.013229</td>\n",
       "    </tr>\n",
       "    <tr>\n",
       "      <th>2003-11-30</th>\n",
       "      <td>0.183391</td>\n",
       "    </tr>\n",
       "    <tr>\n",
       "      <th>2008-08-31</th>\n",
       "      <td>-0.048805</td>\n",
       "    </tr>\n",
       "    <tr>\n",
       "      <th>2004-11-30</th>\n",
       "      <td>0.107221</td>\n",
       "    </tr>\n",
       "    <tr>\n",
       "      <th>2005-08-31</th>\n",
       "      <td>0.051190</td>\n",
       "    </tr>\n",
       "    <tr>\n",
       "      <th>2015-03-31</th>\n",
       "      <td>0.085739</td>\n",
       "    </tr>\n",
       "    <tr>\n",
       "      <th>2008-11-30</th>\n",
       "      <td>-0.027511</td>\n",
       "    </tr>\n",
       "    <tr>\n",
       "      <th>2006-08-31</th>\n",
       "      <td>-0.006748</td>\n",
       "    </tr>\n",
       "    <tr>\n",
       "      <th>2008-11-30</th>\n",
       "      <td>-0.027511</td>\n",
       "    </tr>\n",
       "    <tr>\n",
       "      <th>2005-04-30</th>\n",
       "      <td>-0.018494</td>\n",
       "    </tr>\n",
       "    <tr>\n",
       "      <th>2004-01-31</th>\n",
       "      <td>0.151896</td>\n",
       "    </tr>\n",
       "    <tr>\n",
       "      <th>2008-10-31</th>\n",
       "      <td>-0.172359</td>\n",
       "    </tr>\n",
       "    <tr>\n",
       "      <th>2005-01-31</th>\n",
       "      <td>0.034860</td>\n",
       "    </tr>\n",
       "    <tr>\n",
       "      <th>2005-10-31</th>\n",
       "      <td>-0.055271</td>\n",
       "    </tr>\n",
       "    <tr>\n",
       "      <th>2015-05-31</th>\n",
       "      <td>0.073158</td>\n",
       "    </tr>\n",
       "    <tr>\n",
       "      <th>2009-01-31</th>\n",
       "      <td>0.103448</td>\n",
       "    </tr>\n",
       "    <tr>\n",
       "      <th>2006-10-31</th>\n",
       "      <td>-0.015939</td>\n",
       "    </tr>\n",
       "  </tbody>\n",
       "</table>\n",
       "</div>"
      ],
      "text/plain": [
       "              GCB10Y\n",
       "2008-09-30 -0.120259\n",
       "2005-02-28 -0.013229\n",
       "2003-11-30  0.183391\n",
       "2008-08-31 -0.048805\n",
       "2004-11-30  0.107221\n",
       "2005-08-31  0.051190\n",
       "2015-03-31  0.085739\n",
       "2008-11-30 -0.027511\n",
       "2006-08-31 -0.006748\n",
       "2008-11-30 -0.027511\n",
       "2005-04-30 -0.018494\n",
       "2004-01-31  0.151896\n",
       "2008-10-31 -0.172359\n",
       "2005-01-31  0.034860\n",
       "2005-10-31 -0.055271\n",
       "2015-05-31  0.073158\n",
       "2009-01-31  0.103448\n",
       "2006-10-31 -0.015939"
      ]
     },
     "execution_count": 1963,
     "metadata": {},
     "output_type": "execute_result"
    }
   ],
   "source": [
    "ret_df.loc[top_neighbor]"
   ]
  },
  {
   "cell_type": "code",
   "execution_count": 1964,
   "metadata": {
    "collapsed": true
   },
   "outputs": [],
   "source": [
    "Y.loc[top_neighbor] = 1"
   ]
  },
  {
   "cell_type": "code",
   "execution_count": 1965,
   "metadata": {},
   "outputs": [
    {
     "data": {
      "text/plain": [
       "24"
      ]
     },
     "execution_count": 1965,
     "metadata": {},
     "output_type": "execute_result"
    }
   ],
   "source": [
    "Y[Y == 1].sum()"
   ]
  },
  {
   "cell_type": "code",
   "execution_count": 1966,
   "metadata": {
    "collapsed": true
   },
   "outputs": [],
   "source": [
    "lmnn = metric_learn.LMNN(k=5, learn_rate=1e-6)"
   ]
  },
  {
   "cell_type": "code",
   "execution_count": 1967,
   "metadata": {},
   "outputs": [
    {
     "data": {
      "text/plain": [
       "<metric_learn.lmnn.python_LMNN at 0x4786d748>"
      ]
     },
     "execution_count": 1967,
     "metadata": {},
     "output_type": "execute_result"
    }
   ],
   "source": [
    "lmnn.fit(X.astype('float64').as_matrix(), Y.as_matrix())"
   ]
  },
  {
   "cell_type": "code",
   "execution_count": 1968,
   "metadata": {
    "collapsed": true
   },
   "outputs": [],
   "source": [
    "X_lmnn = lmnn.transform()"
   ]
  },
  {
   "cell_type": "code",
   "execution_count": 1969,
   "metadata": {
    "collapsed": true
   },
   "outputs": [],
   "source": [
    "X_lmnn = pd.DataFrame(X_lmnn, index=X.index)"
   ]
  },
  {
   "cell_type": "code",
   "execution_count": 1970,
   "metadata": {
    "collapsed": true
   },
   "outputs": [],
   "source": [
    "scenario = X_lmnn[Y == 1]\n",
    "center = scenario.mean()\n",
    "distance = pd.Series(index = Y.index)\n",
    "for index in X_lmnn.index:\n",
    "    x = X_lmnn.loc[index]\n",
    "    distance.loc[index] = euclidean(x, center)"
   ]
  },
  {
   "cell_type": "code",
   "execution_count": 1971,
   "metadata": {},
   "outputs": [
    {
     "data": {
      "text/plain": [
       "<matplotlib.legend.Legend at 0x47b84a20>"
      ]
     },
     "execution_count": 1971,
     "metadata": {},
     "output_type": "execute_result"
    },
    {
     "data": {
      "image/png": "[encoded data removed]",
      "text/plain": [
       "<matplotlib.figure.Figure at 0x47b8fef0>"
      ]
     },
     "metadata": {},
     "output_type": "display_data"
    }
   ],
   "source": [
    "plt.figure(figsize=(16, 9))\n",
    "plt.plot(distance, label='Distance')\n",
    "# plt.plot((stock['000001.SH'][stock.index >= distance.index[0]].pct_change() + 1).cumprod())\n",
    "# plt.plot((1 + bond['GCB10Y'][bond.index >= distance.index[0]].pct_change()).cumprod())\n",
    "plt.legend()"
   ]
  },
  {
   "cell_type": "code",
   "execution_count": 1972,
   "metadata": {},
   "outputs": [
    {
     "data": {
      "text/plain": [
       "Text(0.5,1,u'return of T period')"
      ]
     },
     "execution_count": 1972,
     "metadata": {},
     "output_type": "execute_result"
    },
    {
     "data": {
      "image/png": "[encoded data removed]",
      "text/plain": [
       "<matplotlib.figure.Figure at 0x47ac0d68>"
      ]
     },
     "metadata": {},
     "output_type": "display_data"
    }
   ],
   "source": [
    "plt.figure(figsize=(16, 9))\n",
    "plt.scatter(distance[distance <= 4][Y == 0].pct_change().values, ret_df.loc[distance[distance <= 4][Y == 0].index].values)\n",
    "plt.title(u'return of T period')"
   ]
  },
  {
   "cell_type": "code",
   "execution_count": 1973,
   "metadata": {},
   "outputs": [
    {
     "name": "stdout",
     "output_type": "stream",
     "text": [
      "-0.0620707861023\n",
      "-0.0194846255535\n",
      "-0.00393070728635\n"
     ]
    }
   ],
   "source": [
    "# ret_df.loc[distance.index].astype(float).corr(distance.astype(float))\n",
    "# np.corrcoef(ret_df.loc[distance[Y == 0].index].values.reshape(-1), distance[Y == 0].values)\n",
    "print ret_df['GCB10Y'].corr(distance)\n",
    "print ret_df['GCB10Y'].corr(distance.pct_change())\n",
    "print ret_df['GCB10Y'].corr(distance.diff())"
   ]
  },
  {
   "cell_type": "code",
   "execution_count": 1974,
   "metadata": {},
   "outputs": [
    {
     "data": {
      "text/plain": [
       "Text(0.5,1,u'return of T+1 period')"
      ]
     },
     "execution_count": 1974,
     "metadata": {},
     "output_type": "execute_result"
    },
    {
     "data": {
      "image/png": "[encoded data removed]",
      "text/plain": [
       "<matplotlib.figure.Figure at 0x47c582b0>"
      ]
     },
     "metadata": {},
     "output_type": "display_data"
    }
   ],
   "source": [
    "plt.figure(figsize=(16, 9))\n",
    "plt.scatter(distance[distance <= 4][Y == 0].values, ret_df.loc[distance[distance <= 4][Y == 0].index].shift(-1).values)\n",
    "plt.title(u'return of T+1 period')"
   ]
  },
  {
   "cell_type": "code",
   "execution_count": 1975,
   "metadata": {},
   "outputs": [
    {
     "name": "stdout",
     "output_type": "stream",
     "text": [
      "-0.0542386305612\n",
      "-0.0517749401537\n",
      "-0.102131094902\n"
     ]
    }
   ],
   "source": [
    "print ret_df['GCB10Y'].shift(-1).corr(distance)\n",
    "print ret_df['GCB10Y'].shift(-1).corr(distance.pct_change())\n",
    "print ret_df['GCB10Y'].shift(-1).corr(distance.diff())"
   ]
  },
  {
   "cell_type": "code",
   "execution_count": null,
   "metadata": {
    "collapsed": true
   },
   "outputs": [],
   "source": []
  }
 ],
 "metadata": {
  "kernelspec": {
   "display_name": "Python 2",
   "language": "python",
   "name": "python2"
  },
  "language_info": {
   "codemirror_mode": {
    "name": "ipython",
    "version": 2
   },
   "file_extension": ".py",
   "mimetype": "text/x-python",
   "name": "python",
   "nbconvert_exporter": "python",
   "pygments_lexer": "ipython2",
   "version": "2.7.14"
  }
 },
 "nbformat": 4,
 "nbformat_minor": 2
}
