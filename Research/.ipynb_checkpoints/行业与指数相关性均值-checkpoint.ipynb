{
 "cells": [
  {
   "cell_type": "code",
   "execution_count": 6,
   "metadata": {
    "collapsed": true
   },
   "outputs": [],
   "source": [
    "import pandas as pd\n",
    "import matplotlib.pyplot as plt\n",
    "import os\n",
    "%matplotlib inline"
   ]
  },
  {
   "cell_type": "code",
   "execution_count": 2,
   "metadata": {
    "collapsed": true
   },
   "outputs": [],
   "source": [
    "DATA_DIR = 'D:/Data/index/'"
   ]
  },
  {
   "cell_type": "code",
   "execution_count": 4,
   "metadata": {},
   "outputs": [],
   "source": [
    "df = pd.read_excel('%s/881001.WI.xlsx'%(DATA_DIR))"
   ]
  },
  {
   "cell_type": "code",
   "execution_count": 11,
   "metadata": {
    "collapsed": true
   },
   "outputs": [],
   "source": [
    "df = df[df.index >= '2005-01-01']"
   ]
  },
  {
   "cell_type": "code",
   "execution_count": 14,
   "metadata": {},
   "outputs": [
    {
     "data": {
      "text/html": [
       "<div>\n",
       "<style scoped>\n",
       "    .dataframe tbody tr th:only-of-type {\n",
       "        vertical-align: middle;\n",
       "    }\n",
       "\n",
       "    .dataframe tbody tr th {\n",
       "        vertical-align: top;\n",
       "    }\n",
       "\n",
       "    .dataframe thead th {\n",
       "        text-align: right;\n",
       "    }\n",
       "</style>\n",
       "<table border=\"1\" class=\"dataframe\">\n",
       "  <thead>\n",
       "    <tr style=\"text-align: right;\">\n",
       "      <th></th>\n",
       "      <th>close</th>\n",
       "    </tr>\n",
       "  </thead>\n",
       "  <tbody>\n",
       "    <tr>\n",
       "      <th>2005-01-04</th>\n",
       "      <td>760.8923</td>\n",
       "    </tr>\n",
       "    <tr>\n",
       "      <th>2005-01-05</th>\n",
       "      <td>770.8937</td>\n",
       "    </tr>\n",
       "    <tr>\n",
       "      <th>2005-01-06</th>\n",
       "      <td>763.8040</td>\n",
       "    </tr>\n",
       "    <tr>\n",
       "      <th>2005-01-07</th>\n",
       "      <td>765.6346</td>\n",
       "    </tr>\n",
       "    <tr>\n",
       "      <th>2005-01-10</th>\n",
       "      <td>772.7560</td>\n",
       "    </tr>\n",
       "  </tbody>\n",
       "</table>\n",
       "</div>"
      ],
      "text/plain": [
       "               close\n",
       "2005-01-04  760.8923\n",
       "2005-01-05  770.8937\n",
       "2005-01-06  763.8040\n",
       "2005-01-07  765.6346\n",
       "2005-01-10  772.7560"
      ]
     },
     "execution_count": 14,
     "metadata": {},
     "output_type": "execute_result"
    }
   ],
   "source": [
    "df.head()"
   ]
  },
  {
   "cell_type": "code",
   "execution_count": 7,
   "metadata": {},
   "outputs": [],
   "source": [
    "files = os.listdir(DATA_DIR)\n",
    "files = [f for f in files if f.startswith('CI')]"
   ]
  },
  {
   "cell_type": "code",
   "execution_count": 16,
   "metadata": {},
   "outputs": [],
   "source": [
    "dic = {}\n",
    "for f in files:\n",
    "    temp = pd.read_excel('%s/%s'%(DATA_DIR, f))\n",
    "    dic[f.rstrip('.xlsx')] = temp['close'].pct_change().rolling(window=243).corr(df['close'].pct_change())"
   ]
  },
  {
   "cell_type": "code",
   "execution_count": 22,
   "metadata": {},
   "outputs": [],
   "source": [
    "cor_df = pd.DataFrame(dic)"
   ]
  },
  {
   "cell_type": "code",
   "execution_count": 25,
   "metadata": {},
   "outputs": [
    {
     "data": {
      "text/html": [
       "<div>\n",
       "<style scoped>\n",
       "    .dataframe tbody tr th:only-of-type {\n",
       "        vertical-align: middle;\n",
       "    }\n",
       "\n",
       "    .dataframe tbody tr th {\n",
       "        vertical-align: top;\n",
       "    }\n",
       "\n",
       "    .dataframe thead th {\n",
       "        text-align: right;\n",
       "    }\n",
       "</style>\n",
       "<table border=\"1\" class=\"dataframe\">\n",
       "  <thead>\n",
       "    <tr style=\"text-align: right;\">\n",
       "      <th></th>\n",
       "      <th>CI005001.WI</th>\n",
       "      <th>CI005002.WI</th>\n",
       "      <th>CI005003.WI</th>\n",
       "      <th>CI005004.WI</th>\n",
       "      <th>CI005005.WI</th>\n",
       "      <th>CI005006.WI</th>\n",
       "      <th>CI005007.WI</th>\n",
       "      <th>CI005008.WI</th>\n",
       "      <th>CI005009.WI</th>\n",
       "      <th>CI005010.WI</th>\n",
       "      <th>...</th>\n",
       "      <th>CI005020.WI</th>\n",
       "      <th>CI005021.WI</th>\n",
       "      <th>CI005022.WI</th>\n",
       "      <th>CI005023.WI</th>\n",
       "      <th>CI005024.WI</th>\n",
       "      <th>CI005025.WI</th>\n",
       "      <th>CI005026.WI</th>\n",
       "      <th>CI005027.WI</th>\n",
       "      <th>CI005028.WI</th>\n",
       "      <th>CI005029.WI</th>\n",
       "    </tr>\n",
       "  </thead>\n",
       "  <tbody>\n",
       "    <tr>\n",
       "      <th>2018-01-08</th>\n",
       "      <td>0.667771</td>\n",
       "      <td>0.558007</td>\n",
       "      <td>0.675237</td>\n",
       "      <td>0.828255</td>\n",
       "      <td>0.643583</td>\n",
       "      <td>0.907526</td>\n",
       "      <td>0.741739</td>\n",
       "      <td>0.809892</td>\n",
       "      <td>0.878881</td>\n",
       "      <td>0.904903</td>\n",
       "      <td>...</td>\n",
       "      <td>0.825093</td>\n",
       "      <td>0.157004</td>\n",
       "      <td>0.513766</td>\n",
       "      <td>0.676190</td>\n",
       "      <td>0.793136</td>\n",
       "      <td>0.854602</td>\n",
       "      <td>0.825952</td>\n",
       "      <td>0.825384</td>\n",
       "      <td>0.810852</td>\n",
       "      <td>0.800362</td>\n",
       "    </tr>\n",
       "    <tr>\n",
       "      <th>2018-01-09</th>\n",
       "      <td>0.662876</td>\n",
       "      <td>0.555407</td>\n",
       "      <td>0.675188</td>\n",
       "      <td>0.825861</td>\n",
       "      <td>0.644320</td>\n",
       "      <td>0.905584</td>\n",
       "      <td>0.739229</td>\n",
       "      <td>0.807961</td>\n",
       "      <td>0.876447</td>\n",
       "      <td>0.904151</td>\n",
       "      <td>...</td>\n",
       "      <td>0.823243</td>\n",
       "      <td>0.154851</td>\n",
       "      <td>0.514371</td>\n",
       "      <td>0.674490</td>\n",
       "      <td>0.791453</td>\n",
       "      <td>0.854114</td>\n",
       "      <td>0.824691</td>\n",
       "      <td>0.824319</td>\n",
       "      <td>0.809540</td>\n",
       "      <td>0.799005</td>\n",
       "    </tr>\n",
       "    <tr>\n",
       "      <th>2018-01-10</th>\n",
       "      <td>0.661906</td>\n",
       "      <td>0.553546</td>\n",
       "      <td>0.674097</td>\n",
       "      <td>0.824935</td>\n",
       "      <td>0.642777</td>\n",
       "      <td>0.904571</td>\n",
       "      <td>0.738784</td>\n",
       "      <td>0.806645</td>\n",
       "      <td>0.875316</td>\n",
       "      <td>0.902815</td>\n",
       "      <td>...</td>\n",
       "      <td>0.822426</td>\n",
       "      <td>0.150740</td>\n",
       "      <td>0.514815</td>\n",
       "      <td>0.674290</td>\n",
       "      <td>0.789661</td>\n",
       "      <td>0.854416</td>\n",
       "      <td>0.822897</td>\n",
       "      <td>0.822100</td>\n",
       "      <td>0.808983</td>\n",
       "      <td>0.798757</td>\n",
       "    </tr>\n",
       "    <tr>\n",
       "      <th>2018-01-11</th>\n",
       "      <td>0.660203</td>\n",
       "      <td>0.549911</td>\n",
       "      <td>0.672162</td>\n",
       "      <td>0.824763</td>\n",
       "      <td>0.638976</td>\n",
       "      <td>0.903921</td>\n",
       "      <td>0.737345</td>\n",
       "      <td>0.797768</td>\n",
       "      <td>0.874875</td>\n",
       "      <td>0.902197</td>\n",
       "      <td>...</td>\n",
       "      <td>0.821339</td>\n",
       "      <td>0.156241</td>\n",
       "      <td>0.518743</td>\n",
       "      <td>0.676565</td>\n",
       "      <td>0.788288</td>\n",
       "      <td>0.853393</td>\n",
       "      <td>0.821238</td>\n",
       "      <td>0.812455</td>\n",
       "      <td>0.806837</td>\n",
       "      <td>0.797376</td>\n",
       "    </tr>\n",
       "    <tr>\n",
       "      <th>2018-01-12</th>\n",
       "      <td>0.653892</td>\n",
       "      <td>0.555260</td>\n",
       "      <td>0.669602</td>\n",
       "      <td>0.821189</td>\n",
       "      <td>0.638766</td>\n",
       "      <td>0.899735</td>\n",
       "      <td>0.735355</td>\n",
       "      <td>0.790970</td>\n",
       "      <td>0.873110</td>\n",
       "      <td>0.898621</td>\n",
       "      <td>...</td>\n",
       "      <td>0.816673</td>\n",
       "      <td>0.179733</td>\n",
       "      <td>0.531796</td>\n",
       "      <td>0.667399</td>\n",
       "      <td>0.784852</td>\n",
       "      <td>0.846928</td>\n",
       "      <td>0.812144</td>\n",
       "      <td>0.802819</td>\n",
       "      <td>0.799241</td>\n",
       "      <td>0.789336</td>\n",
       "    </tr>\n",
       "  </tbody>\n",
       "</table>\n",
       "<p>5 rows × 29 columns</p>\n",
       "</div>"
      ],
      "text/plain": [
       "            CI005001.WI  CI005002.WI  CI005003.WI  CI005004.WI  CI005005.WI  \\\n",
       "2018-01-08     0.667771     0.558007     0.675237     0.828255     0.643583   \n",
       "2018-01-09     0.662876     0.555407     0.675188     0.825861     0.644320   \n",
       "2018-01-10     0.661906     0.553546     0.674097     0.824935     0.642777   \n",
       "2018-01-11     0.660203     0.549911     0.672162     0.824763     0.638976   \n",
       "2018-01-12     0.653892     0.555260     0.669602     0.821189     0.638766   \n",
       "\n",
       "            CI005006.WI  CI005007.WI  CI005008.WI  CI005009.WI  CI005010.WI  \\\n",
       "2018-01-08     0.907526     0.741739     0.809892     0.878881     0.904903   \n",
       "2018-01-09     0.905584     0.739229     0.807961     0.876447     0.904151   \n",
       "2018-01-10     0.904571     0.738784     0.806645     0.875316     0.902815   \n",
       "2018-01-11     0.903921     0.737345     0.797768     0.874875     0.902197   \n",
       "2018-01-12     0.899735     0.735355     0.790970     0.873110     0.898621   \n",
       "\n",
       "               ...       CI005020.WI  CI005021.WI  CI005022.WI  CI005023.WI  \\\n",
       "2018-01-08     ...          0.825093     0.157004     0.513766     0.676190   \n",
       "2018-01-09     ...          0.823243     0.154851     0.514371     0.674490   \n",
       "2018-01-10     ...          0.822426     0.150740     0.514815     0.674290   \n",
       "2018-01-11     ...          0.821339     0.156241     0.518743     0.676565   \n",
       "2018-01-12     ...          0.816673     0.179733     0.531796     0.667399   \n",
       "\n",
       "            CI005024.WI  CI005025.WI  CI005026.WI  CI005027.WI  CI005028.WI  \\\n",
       "2018-01-08     0.793136     0.854602     0.825952     0.825384     0.810852   \n",
       "2018-01-09     0.791453     0.854114     0.824691     0.824319     0.809540   \n",
       "2018-01-10     0.789661     0.854416     0.822897     0.822100     0.808983   \n",
       "2018-01-11     0.788288     0.853393     0.821238     0.812455     0.806837   \n",
       "2018-01-12     0.784852     0.846928     0.812144     0.802819     0.799241   \n",
       "\n",
       "            CI005029.WI  \n",
       "2018-01-08     0.800362  \n",
       "2018-01-09     0.799005  \n",
       "2018-01-10     0.798757  \n",
       "2018-01-11     0.797376  \n",
       "2018-01-12     0.789336  \n",
       "\n",
       "[5 rows x 29 columns]"
      ]
     },
     "execution_count": 25,
     "metadata": {},
     "output_type": "execute_result"
    }
   ],
   "source": [
    "cor_df.dropna().tail()"
   ]
  },
  {
   "cell_type": "code",
   "execution_count": 26,
   "metadata": {},
   "outputs": [
    {
     "data": {
      "text/plain": [
       "[<matplotlib.lines.Line2D at 0x9c732e8>]"
      ]
     },
     "execution_count": 26,
     "metadata": {},
     "output_type": "execute_result"
    },
    {
     "data": {
      "image/png": "[encoded data removed]",
      "text/plain": [
       "<matplotlib.figure.Figure at 0x9c85240>"
      ]
     },
     "metadata": {},
     "output_type": "display_data"
    }
   ],
   "source": [
    "plt.figure(figsize=(16, 9))\n",
    "plt.plot(cor_df.mean(axis=1))"
   ]
  },
  {
   "cell_type": "code",
   "execution_count": null,
   "metadata": {
    "collapsed": true
   },
   "outputs": [],
   "source": []
  }
 ],
 "metadata": {
  "kernelspec": {
   "display_name": "Python 2",
   "language": "python",
   "name": "python2"
  },
  "language_info": {
   "codemirror_mode": {
    "name": "ipython",
    "version": 2
   },
   "file_extension": ".py",
   "mimetype": "text/x-python",
   "name": "python",
   "nbconvert_exporter": "python",
   "pygments_lexer": "ipython2",
   "version": "2.7.14"
  }
 },
 "nbformat": 4,
 "nbformat_minor": 2
}
