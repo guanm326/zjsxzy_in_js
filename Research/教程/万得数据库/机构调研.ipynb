{
 "cells": [
  {
   "cell_type": "code",
   "execution_count": 1,
   "metadata": {},
   "outputs": [],
   "source": [
    "import cx_Oracle\n",
    "import pandas as pd\n",
    "import matplotlib.pyplot as plt\n",
    "import numpy as np\n",
    "%matplotlib inline"
   ]
  },
  {
   "cell_type": "code",
   "execution_count": 2,
   "metadata": {},
   "outputs": [],
   "source": [
    "conn = cx_Oracle.connect('js_dev', '123456', 'wind')"
   ]
  },
  {
   "cell_type": "code",
   "execution_count": 24,
   "metadata": {},
   "outputs": [],
   "source": [
    "query = 'select t.s_askdate, t.s_questioncontent, t.s_answercontent \\\n",
    "         from wind.AShareISQA t'"
   ]
  },
  {
   "cell_type": "code",
   "execution_count": 25,
   "metadata": {},
   "outputs": [],
   "source": [
    "df = pd.read_sql(query, con=conn)"
   ]
  },
  {
   "cell_type": "code",
   "execution_count": 9,
   "metadata": {},
   "outputs": [
    {
     "data": {
      "text/plain": [
       "(525958, 1)"
      ]
     },
     "execution_count": 9,
     "metadata": {},
     "output_type": "execute_result"
    }
   ],
   "source": [
    "df.shape"
   ]
  },
  {
   "cell_type": "code",
   "execution_count": 15,
   "metadata": {},
   "outputs": [],
   "source": [
    "def text_decode(text):\n",
    "    try:\n",
    "        text = text.decode('gbk')\n",
    "        return text\n",
    "    except Exception as e:\n",
    "        return text"
   ]
  },
  {
   "cell_type": "code",
   "execution_count": 50,
   "metadata": {},
   "outputs": [],
   "source": [
    "def LOB_decode(text):\n",
    "    try:\n",
    "        text = text.read().decode('gbk')\n",
    "        return text\n",
    "    except Exception as e:\n",
    "        return text"
   ]
  },
  {
   "cell_type": "code",
   "execution_count": 27,
   "metadata": {},
   "outputs": [],
   "source": [
    "df['S_QUESTIONCONTENT'] = df['S_QUESTIONCONTENT'].apply(lambda x: text_decode(x))"
   ]
  },
  {
   "cell_type": "code",
   "execution_count": 51,
   "metadata": {},
   "outputs": [],
   "source": [
    "df['S_ANSWERCONTENT'] = df['S_ANSWERCONTENT'].apply(lambda x: LOB_decode(x))"
   ]
  },
  {
   "cell_type": "code",
   "execution_count": null,
   "metadata": {},
   "outputs": [],
   "source": [
    "df = df.dropna()"
   ]
  },
  {
   "cell_type": "code",
   "execution_count": 30,
   "metadata": {},
   "outputs": [],
   "source": [
    "df = df.set_index('S_ASKDATE')"
   ]
  },
  {
   "cell_type": "code",
   "execution_count": 31,
   "metadata": {},
   "outputs": [],
   "source": [
    "def date_convert(date):\n",
    "    try:\n",
    "        date = pd.to_time(date, format='%Y%m%d')\n",
    "        return date\n",
    "    except Exception as e:\n",
    "        return date"
   ]
  },
  {
   "cell_type": "code",
   "execution_count": 33,
   "metadata": {},
   "outputs": [],
   "source": [
    "df.index = df.index.map(lambda x: date_convert(x))"
   ]
  },
  {
   "cell_type": "code",
   "execution_count": 35,
   "metadata": {},
   "outputs": [],
   "source": [
    "df = df.sort_index()"
   ]
  },
  {
   "cell_type": "code",
   "execution_count": 52,
   "metadata": {},
   "outputs": [
    {
     "data": {
      "text/html": [
       "<div>\n",
       "<style scoped>\n",
       "    .dataframe tbody tr th:only-of-type {\n",
       "        vertical-align: middle;\n",
       "    }\n",
       "\n",
       "    .dataframe tbody tr th {\n",
       "        vertical-align: top;\n",
       "    }\n",
       "\n",
       "    .dataframe thead th {\n",
       "        text-align: right;\n",
       "    }\n",
       "</style>\n",
       "<table border=\"1\" class=\"dataframe\">\n",
       "  <thead>\n",
       "    <tr style=\"text-align: right;\">\n",
       "      <th></th>\n",
       "      <th>S_QUESTIONCONTENT</th>\n",
       "      <th>S_ANSWERCONTENT</th>\n",
       "    </tr>\n",
       "    <tr>\n",
       "      <th>S_ASKDATE</th>\n",
       "      <th></th>\n",
       "      <th></th>\n",
       "    </tr>\n",
       "  </thead>\n",
       "  <tbody>\n",
       "    <tr>\n",
       "      <th>NaN</th>\n",
       "      <td>公司的通州地产项目备受关注，未来将如何运作？</td>\n",
       "      <td>北京武夷花园南区项目位于通州区潞城镇通胡大街南侧，紧邻北京行政副中心。该项目以高尚生活与时尚...</td>\n",
       "    </tr>\n",
       "    <tr>\n",
       "      <th>NaN</th>\n",
       "      <td>公司海外工程承包业务近年发展很快，该业务未来的机遇和挑战何在？</td>\n",
       "      <td>近两年，全球经济有较大下行压力，不少国家在压缩投资，还有不少地区政局动荡，对公司国际工程承包...</td>\n",
       "    </tr>\n",
       "    <tr>\n",
       "      <th>NaN</th>\n",
       "      <td>福建国资改革是否会为公司带来新的发展契机？</td>\n",
       "      <td>福建国资系统改革目前还没有具体配套措施，但资本证券化将是一个大方向，国资部门将从管业务转向管...</td>\n",
       "    </tr>\n",
       "    <tr>\n",
       "      <th>NaN</th>\n",
       "      <td>中国经济调整对公司影响如何？公司对房地产业未来走势如何判断？</td>\n",
       "      <td>公司主要从事房地产开发和建筑工程承包业务，预计2015年营业收入同比略有增长。房地产开发业务...</td>\n",
       "    </tr>\n",
       "    <tr>\n",
       "      <th>NaN</th>\n",
       "      <td>公司此次配股融资的具体用意是什么？</td>\n",
       "      <td>公司截至去年三季度资产负债率达86.67%，12月份公司成功发行4.9亿元公司债，用于归还银...</td>\n",
       "    </tr>\n",
       "  </tbody>\n",
       "</table>\n",
       "</div>"
      ],
      "text/plain": [
       "                         S_QUESTIONCONTENT  \\\n",
       "S_ASKDATE                                    \n",
       "NaN                 公司的通州地产项目备受关注，未来将如何运作？   \n",
       "NaN        公司海外工程承包业务近年发展很快，该业务未来的机遇和挑战何在？   \n",
       "NaN                  福建国资改革是否会为公司带来新的发展契机？   \n",
       "NaN         中国经济调整对公司影响如何？公司对房地产业未来走势如何判断？   \n",
       "NaN                      公司此次配股融资的具体用意是什么？   \n",
       "\n",
       "                                             S_ANSWERCONTENT  \n",
       "S_ASKDATE                                                     \n",
       "NaN        北京武夷花园南区项目位于通州区潞城镇通胡大街南侧，紧邻北京行政副中心。该项目以高尚生活与时尚...  \n",
       "NaN        近两年，全球经济有较大下行压力，不少国家在压缩投资，还有不少地区政局动荡，对公司国际工程承包...  \n",
       "NaN        福建国资系统改革目前还没有具体配套措施，但资本证券化将是一个大方向，国资部门将从管业务转向管...  \n",
       "NaN        公司主要从事房地产开发和建筑工程承包业务，预计2015年营业收入同比略有增长。房地产开发业务...  \n",
       "NaN        公司截至去年三季度资产负债率达86.67%，12月份公司成功发行4.9亿元公司债，用于归还银...  "
      ]
     },
     "execution_count": 52,
     "metadata": {},
     "output_type": "execute_result"
    }
   ],
   "source": [
    "df.tail()"
   ]
  },
  {
   "cell_type": "code",
   "execution_count": 42,
   "metadata": {},
   "outputs": [],
   "source": [
    "s = df['S_ANSWERCONTENT'].iloc[-1]"
   ]
  },
  {
   "cell_type": "code",
   "execution_count": 48,
   "metadata": {},
   "outputs": [
    {
     "name": "stdout",
     "output_type": "stream",
     "text": [
      "公司截至去年三季度资产负债率达86.67%，12月份公司成功发行4.9亿元公司债，用于归还银行贷款，债务结构显著优化，用5至7年的长期债务替换1至3年的中短期债务，融资成本明显下降。2014年2月，公司开始筹划定增，后来由于证券市场回暖，公司股票价格大幅上扬，定增难度太大，公司于2015年5月决定终止该方案，更改为向全体股东按不超过每10股配3股的比例配股。随着公司经营规模进一步扩大，资金紧张的局面将愈发突出。本次以募集资金偿还借款，能有效降低资产负债率，增强偿债能力，有助于提高公司在银行的融资能力，为后续根据业务发展需要向银行借款创造条件。公司第一大股东福建建工集团总公司将以现金方式全额认购其所配售的股票。\n"
     ]
    }
   ],
   "source": [
    "print s.read().decode('gbk')"
   ]
  },
  {
   "cell_type": "code",
   "execution_count": null,
   "metadata": {},
   "outputs": [],
   "source": []
  }
 ],
 "metadata": {
  "kernelspec": {
   "display_name": "Python 2",
   "language": "python",
   "name": "python2"
  },
  "language_info": {
   "codemirror_mode": {
    "name": "ipython",
    "version": 2
   },
   "file_extension": ".py",
   "mimetype": "text/x-python",
   "name": "python",
   "nbconvert_exporter": "python",
   "pygments_lexer": "ipython2",
   "version": "2.7.14"
  }
 },
 "nbformat": 4,
 "nbformat_minor": 2
}
