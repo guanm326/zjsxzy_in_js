{
 "cells": [
  {
   "cell_type": "code",
   "execution_count": 16,
   "metadata": {},
   "outputs": [],
   "source": [
    "import cx_Oracle\n",
    "import pandas as pd\n",
    "import matplotlib.pyplot as plt\n",
    "import numpy as np\n",
    "%matplotlib inline"
   ]
  },
  {
   "cell_type": "code",
   "execution_count": 17,
   "metadata": {},
   "outputs": [],
   "source": [
    "conn = cx_Oracle.connect('js_dev', '123456', 'wind')"
   ]
  },
  {
   "cell_type": "code",
   "execution_count": 18,
   "metadata": {},
   "outputs": [],
   "source": [
    "query = 'select t.ann_dt, t.n_info_title, t.s_info_windcode \\\n",
    "         from wind.AShareAnnInf t'"
   ]
  },
  {
   "cell_type": "code",
   "execution_count": 19,
   "metadata": {},
   "outputs": [],
   "source": [
    "df = pd.read_sql(query, con=conn)"
   ]
  },
  {
   "cell_type": "code",
   "execution_count": 20,
   "metadata": {},
   "outputs": [
    {
     "data": {
      "text/plain": [
       "(2691159, 3)"
      ]
     },
     "execution_count": 20,
     "metadata": {},
     "output_type": "execute_result"
    }
   ],
   "source": [
    "df.shape"
   ]
  },
  {
   "cell_type": "code",
   "execution_count": 21,
   "metadata": {},
   "outputs": [],
   "source": [
    "def text_decode(text):\n",
    "    try:\n",
    "        text = text.decode('gbk')\n",
    "        return text\n",
    "    except Exception as e:\n",
    "        return text"
   ]
  },
  {
   "cell_type": "code",
   "execution_count": 22,
   "metadata": {},
   "outputs": [],
   "source": [
    "df['N_INFO_TITLE'] = df['N_INFO_TITLE'].apply(lambda x: text_decode(x))"
   ]
  },
  {
   "cell_type": "code",
   "execution_count": 23,
   "metadata": {},
   "outputs": [],
   "source": [
    "df = df.set_index('ANN_DT')"
   ]
  },
  {
   "cell_type": "code",
   "execution_count": 24,
   "metadata": {},
   "outputs": [],
   "source": [
    "df.index = pd.to_datetime(df.index)"
   ]
  },
  {
   "cell_type": "code",
   "execution_count": 25,
   "metadata": {},
   "outputs": [],
   "source": [
    "df = df.sort_index()"
   ]
  },
  {
   "cell_type": "code",
   "execution_count": 27,
   "metadata": {},
   "outputs": [
    {
     "data": {
      "text/plain": [
       "(15243, 2)"
      ]
     },
     "execution_count": 27,
     "metadata": {},
     "output_type": "execute_result"
    }
   ],
   "source": [
    "df[df.index <= '2004-01-01'].shape"
   ]
  },
  {
   "cell_type": "code",
   "execution_count": 28,
   "metadata": {},
   "outputs": [
    {
     "data": {
      "text/html": [
       "<div>\n",
       "<style scoped>\n",
       "    .dataframe tbody tr th:only-of-type {\n",
       "        vertical-align: middle;\n",
       "    }\n",
       "\n",
       "    .dataframe tbody tr th {\n",
       "        vertical-align: top;\n",
       "    }\n",
       "\n",
       "    .dataframe thead th {\n",
       "        text-align: right;\n",
       "    }\n",
       "</style>\n",
       "<table border=\"1\" class=\"dataframe\">\n",
       "  <thead>\n",
       "    <tr style=\"text-align: right;\">\n",
       "      <th></th>\n",
       "      <th>N_INFO_TITLE</th>\n",
       "      <th>S_INFO_WINDCODE</th>\n",
       "    </tr>\n",
       "    <tr>\n",
       "      <th>ANN_DT</th>\n",
       "      <th></th>\n",
       "      <th></th>\n",
       "    </tr>\n",
       "  </thead>\n",
       "  <tbody>\n",
       "    <tr>\n",
       "      <th>1993-08-18</th>\n",
       "      <td>上海新锦江大酒店股份有限公司一九九三年中期报告</td>\n",
       "      <td>600650.SH</td>\n",
       "    </tr>\n",
       "    <tr>\n",
       "      <th>1996-09-16</th>\n",
       "      <td>株洲火炬火花塞股份有限公司1996年度中期报告补充说明</td>\n",
       "      <td>000549.SZ</td>\n",
       "    </tr>\n",
       "    <tr>\n",
       "      <th>1998-09-11</th>\n",
       "      <td>刊登中期报告</td>\n",
       "      <td>000408.SZ</td>\n",
       "    </tr>\n",
       "    <tr>\n",
       "      <th>1999-03-22</th>\n",
       "      <td>公布1998年年度报告公告</td>\n",
       "      <td>000408.SZ</td>\n",
       "    </tr>\n",
       "    <tr>\n",
       "      <th>1999-05-27</th>\n",
       "      <td>关于终止抛光地砖生产线租赁经营暨召开1998年度股东大会的公告</td>\n",
       "      <td>000408.SZ</td>\n",
       "    </tr>\n",
       "  </tbody>\n",
       "</table>\n",
       "</div>"
      ],
      "text/plain": [
       "                               N_INFO_TITLE S_INFO_WINDCODE\n",
       "ANN_DT                                                     \n",
       "1993-08-18          上海新锦江大酒店股份有限公司一九九三年中期报告       600650.SH\n",
       "1996-09-16      株洲火炬火花塞股份有限公司1996年度中期报告补充说明       000549.SZ\n",
       "1998-09-11                           刊登中期报告       000408.SZ\n",
       "1999-03-22                    公布1998年年度报告公告       000408.SZ\n",
       "1999-05-27  关于终止抛光地砖生产线租赁经营暨召开1998年度股东大会的公告       000408.SZ"
      ]
     },
     "execution_count": 28,
     "metadata": {},
     "output_type": "execute_result"
    }
   ],
   "source": [
    "df.head()"
   ]
  },
  {
   "cell_type": "code",
   "execution_count": null,
   "metadata": {},
   "outputs": [],
   "source": []
  }
 ],
 "metadata": {
  "kernelspec": {
   "display_name": "Python 2",
   "language": "python",
   "name": "python2"
  },
  "language_info": {
   "codemirror_mode": {
    "name": "ipython",
    "version": 2
   },
   "file_extension": ".py",
   "mimetype": "text/x-python",
   "name": "python",
   "nbconvert_exporter": "python",
   "pygments_lexer": "ipython2",
   "version": "2.7.14"
  }
 },
 "nbformat": 4,
 "nbformat_minor": 2
}
