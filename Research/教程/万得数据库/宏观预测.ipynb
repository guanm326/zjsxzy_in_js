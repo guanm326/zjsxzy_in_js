{
 "cells": [
  {
   "cell_type": "code",
   "execution_count": 1,
   "metadata": {},
   "outputs": [],
   "source": [
    "import cx_Oracle\n",
    "import pandas as pd\n",
    "import matplotlib.pyplot as plt\n",
    "import numpy as np\n",
    "%matplotlib inline"
   ]
  },
  {
   "cell_type": "code",
   "execution_count": 2,
   "metadata": {},
   "outputs": [],
   "source": [
    "conn = cx_Oracle.connect('js_dev', '123456', 'wind')"
   ]
  },
  {
   "cell_type": "code",
   "execution_count": 13,
   "metadata": {},
   "outputs": [],
   "source": [
    "query = 'select t.est_dt, t.indicator_name, t.report_name from wind.ChinaMacroForecast t'"
   ]
  },
  {
   "cell_type": "code",
   "execution_count": 14,
   "metadata": {},
   "outputs": [],
   "source": [
    "df = pd.read_sql(query, con=conn)"
   ]
  },
  {
   "cell_type": "code",
   "execution_count": 7,
   "metadata": {},
   "outputs": [
    {
     "data": {
      "text/plain": [
       "(153111, 1)"
      ]
     },
     "execution_count": 7,
     "metadata": {},
     "output_type": "execute_result"
    }
   ],
   "source": [
    "df"
   ]
  },
  {
   "cell_type": "code",
   "execution_count": 10,
   "metadata": {},
   "outputs": [],
   "source": [
    "def text_decode(text):\n",
    "    try:\n",
    "        text = text.decode('gbk')\n",
    "        return text\n",
    "    except Exception as e:\n",
    "        return text"
   ]
  },
  {
   "cell_type": "code",
   "execution_count": 12,
   "metadata": {},
   "outputs": [],
   "source": [
    "df['INDICATOR_NAME'] = df['INDICATOR_NAME'].apply(lambda x: text_decode(x))"
   ]
  },
  {
   "cell_type": "code",
   "execution_count": 15,
   "metadata": {},
   "outputs": [],
   "source": [
    "df['REPORT_NAME'] = df['REPORT_NAME'].apply(lambda x: text_decode(x))"
   ]
  },
  {
   "cell_type": "code",
   "execution_count": 17,
   "metadata": {},
   "outputs": [
    {
     "data": {
      "text/html": [
       "<div>\n",
       "<style scoped>\n",
       "    .dataframe tbody tr th:only-of-type {\n",
       "        vertical-align: middle;\n",
       "    }\n",
       "\n",
       "    .dataframe tbody tr th {\n",
       "        vertical-align: top;\n",
       "    }\n",
       "\n",
       "    .dataframe thead th {\n",
       "        text-align: right;\n",
       "    }\n",
       "</style>\n",
       "<table border=\"1\" class=\"dataframe\">\n",
       "  <thead>\n",
       "    <tr style=\"text-align: right;\">\n",
       "      <th></th>\n",
       "      <th>EST_DT</th>\n",
       "      <th>OBJECT_ID</th>\n",
       "      <th>INDICATOR_NAME</th>\n",
       "      <th>REPORT_NAME</th>\n",
       "    </tr>\n",
       "  </thead>\n",
       "  <tbody>\n",
       "    <tr>\n",
       "      <th>153106</th>\n",
       "      <td>20180401</td>\n",
       "      <td>{F328A4C1-3639-11E8-AA6F-6C0B84AE0D80}</td>\n",
       "      <td>�������Ʒ����:ȫ��ͬ��</td>\n",
       "      <td>平安证券4月份宏观月报：增值税率下调影响几何</td>\n",
       "    </tr>\n",
       "    <tr>\n",
       "      <th>153107</th>\n",
       "      <td>20180401</td>\n",
       "      <td>{F328A4C2-3639-11E8-AA6F-6C0B84AE0D80}</td>\n",
       "      <td>����:ȫ��ͬ��</td>\n",
       "      <td>平安证券4月份宏观月报：增值税率下调影响几何</td>\n",
       "    </tr>\n",
       "    <tr>\n",
       "      <th>153108</th>\n",
       "      <td>20180401</td>\n",
       "      <td>{F328A4C3-3639-11E8-AA6F-6C0B84AE0D80}</td>\n",
       "      <td>����:ȫ��ͬ��</td>\n",
       "      <td>平安证券4月份宏观月报：增值税率下调影响几何</td>\n",
       "    </tr>\n",
       "    <tr>\n",
       "      <th>153109</th>\n",
       "      <td>20180401</td>\n",
       "      <td>{F328A4C4-3639-11E8-AA6F-6C0B84AE0D80}</td>\n",
       "      <td>ó��˳��:ȫ��ֵ</td>\n",
       "      <td>平安证券4月份宏观月报：增值税率下调影响几何</td>\n",
       "    </tr>\n",
       "    <tr>\n",
       "      <th>153110</th>\n",
       "      <td>20180401</td>\n",
       "      <td>{F328A4C5-3639-11E8-AA6F-6C0B84AE0D80}</td>\n",
       "      <td>CPI:ȫ��ͬ��</td>\n",
       "      <td>平安证券4月份宏观月报：增值税率下调影响几何</td>\n",
       "    </tr>\n",
       "  </tbody>\n",
       "</table>\n",
       "</div>"
      ],
      "text/plain": [
       "          EST_DT                               OBJECT_ID       INDICATOR_NAME  \\\n",
       "153106  20180401  {F328A4C1-3639-11E8-AA6F-6C0B84AE0D80}  �������Ʒ����:ȫ��ͬ��   \n",
       "153107  20180401  {F328A4C2-3639-11E8-AA6F-6C0B84AE0D80}          ����:ȫ��ͬ��   \n",
       "153108  20180401  {F328A4C3-3639-11E8-AA6F-6C0B84AE0D80}          ����:ȫ��ͬ��   \n",
       "153109  20180401  {F328A4C4-3639-11E8-AA6F-6C0B84AE0D80}          ó��˳��:ȫ��ֵ   \n",
       "153110  20180401  {F328A4C5-3639-11E8-AA6F-6C0B84AE0D80}           CPI:ȫ��ͬ��   \n",
       "\n",
       "                   REPORT_NAME  \n",
       "153106  平安证券4月份宏观月报：增值税率下调影响几何  \n",
       "153107  平安证券4月份宏观月报：增值税率下调影响几何  \n",
       "153108  平安证券4月份宏观月报：增值税率下调影响几何  \n",
       "153109  平安证券4月份宏观月报：增值税率下调影响几何  \n",
       "153110  平安证券4月份宏观月报：增值税率下调影响几何  "
      ]
     },
     "execution_count": 17,
     "metadata": {},
     "output_type": "execute_result"
    }
   ],
   "source": [
    "df.tail()"
   ]
  },
  {
   "cell_type": "code",
   "execution_count": null,
   "metadata": {},
   "outputs": [],
   "source": []
  }
 ],
 "metadata": {
  "kernelspec": {
   "display_name": "Python 2",
   "language": "python",
   "name": "python2"
  },
  "language_info": {
   "codemirror_mode": {
    "name": "ipython",
    "version": 2
   },
   "file_extension": ".py",
   "mimetype": "text/x-python",
   "name": "python",
   "nbconvert_exporter": "python",
   "pygments_lexer": "ipython2",
   "version": "2.7.14"
  }
 },
 "nbformat": 4,
 "nbformat_minor": 2
}
