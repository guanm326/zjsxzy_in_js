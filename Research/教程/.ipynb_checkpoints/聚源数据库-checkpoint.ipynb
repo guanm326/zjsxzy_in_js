{
 "cells": [
  {
   "cell_type": "code",
   "execution_count": 1,
   "metadata": {},
   "outputs": [],
   "source": [
    "import pyodbc\n",
    "import pandas as pd\n",
    "import matplotlib.pyplot as plt\n",
    "%matplotlib inline"
   ]
  },
  {
   "cell_type": "code",
   "execution_count": 2,
   "metadata": {},
   "outputs": [],
   "source": [
    "conn = pyodbc.connect('DRIVER={SQL Server};SERVER=10.0.185.138;DATABASE=JYDB;UID=js_dev;PWD=js_dev')\n",
    "# conn = pyodbc.connect('DRIVER={SQL Server};SERVER=https://dd.gildata.com;DATABASE=JYDB;UID=jsjjsjkbak;PWD=gildata@123')\n",
    "# conn = pyodbc.connect('DRIVER={SQL Server};SERVER=10.0.129.36;DATABASE=IACORE;UID=fe_res;PWD=fe_res123')"
   ]
  },
  {
   "cell_type": "code",
   "execution_count": 3,
   "metadata": {},
   "outputs": [],
   "source": [
    "query = 'SELECT qt.TradingDay, t.SecuCode, qt.ClosePrice \\\n",
    "         FROM QT_DailyQuote as qt, SecuMain as t \\\n",
    "         WHERE t.InnerCode = qt.InnerCode \\\n",
    "             AND (t.SecuMarket = 90 OR t.SecuMarket = 83) \\\n",
    "             AND t.SecuCategory = 1'"
   ]
  },
  {
   "cell_type": "code",
   "execution_count": 28,
   "metadata": {},
   "outputs": [],
   "source": [
    "df = pd.read_sql_query(query, con=conn)"
   ]
  },
  {
   "cell_type": "code",
   "execution_count": 29,
   "metadata": {},
   "outputs": [
    {
     "data": {
      "text/plain": [
       "(9175962, 3)"
      ]
     },
     "execution_count": 29,
     "metadata": {},
     "output_type": "execute_result"
    }
   ],
   "source": [
    "df.shape"
   ]
  },
  {
   "cell_type": "code",
   "execution_count": 31,
   "metadata": {},
   "outputs": [],
   "source": [
    "tdf = df.set_index(['TradingDay', 'SecuCode'])"
   ]
  },
  {
   "cell_type": "code",
   "execution_count": 33,
   "metadata": {},
   "outputs": [],
   "source": [
    "tdf = tdf.unstack()"
   ]
  },
  {
   "cell_type": "code",
   "execution_count": 35,
   "metadata": {},
   "outputs": [
    {
     "data": {
      "text/html": [
       "<div>\n",
       "<style scoped>\n",
       "    .dataframe tbody tr th:only-of-type {\n",
       "        vertical-align: middle;\n",
       "    }\n",
       "\n",
       "    .dataframe tbody tr th {\n",
       "        vertical-align: top;\n",
       "    }\n",
       "\n",
       "    .dataframe thead tr th {\n",
       "        text-align: left;\n",
       "    }\n",
       "\n",
       "    .dataframe thead tr:last-of-type th {\n",
       "        text-align: right;\n",
       "    }\n",
       "</style>\n",
       "<table border=\"1\" class=\"dataframe\">\n",
       "  <thead>\n",
       "    <tr>\n",
       "      <th></th>\n",
       "      <th colspan=\"21\" halign=\"left\">ClosePrice</th>\n",
       "    </tr>\n",
       "    <tr>\n",
       "      <th>SecuCode</th>\n",
       "      <th>000001</th>\n",
       "      <th>000002</th>\n",
       "      <th>000003</th>\n",
       "      <th>000004</th>\n",
       "      <th>000005</th>\n",
       "      <th>000006</th>\n",
       "      <th>000007</th>\n",
       "      <th>000008</th>\n",
       "      <th>000009</th>\n",
       "      <th>000010</th>\n",
       "      <th>...</th>\n",
       "      <th>603988</th>\n",
       "      <th>603989</th>\n",
       "      <th>603990</th>\n",
       "      <th>603991</th>\n",
       "      <th>603993</th>\n",
       "      <th>603996</th>\n",
       "      <th>603997</th>\n",
       "      <th>603998</th>\n",
       "      <th>603999</th>\n",
       "      <th>990018</th>\n",
       "    </tr>\n",
       "    <tr>\n",
       "      <th>TradingDay</th>\n",
       "      <th></th>\n",
       "      <th></th>\n",
       "      <th></th>\n",
       "      <th></th>\n",
       "      <th></th>\n",
       "      <th></th>\n",
       "      <th></th>\n",
       "      <th></th>\n",
       "      <th></th>\n",
       "      <th></th>\n",
       "      <th></th>\n",
       "      <th></th>\n",
       "      <th></th>\n",
       "      <th></th>\n",
       "      <th></th>\n",
       "      <th></th>\n",
       "      <th></th>\n",
       "      <th></th>\n",
       "      <th></th>\n",
       "      <th></th>\n",
       "      <th></th>\n",
       "    </tr>\n",
       "  </thead>\n",
       "  <tbody>\n",
       "    <tr>\n",
       "      <th>2018-04-02</th>\n",
       "      <td>10.71</td>\n",
       "      <td>33.49</td>\n",
       "      <td>NaN</td>\n",
       "      <td>22.61</td>\n",
       "      <td>3.83</td>\n",
       "      <td>7.25</td>\n",
       "      <td>14.21</td>\n",
       "      <td>6.85</td>\n",
       "      <td>6.07</td>\n",
       "      <td>4.40</td>\n",
       "      <td>...</td>\n",
       "      <td>31.63</td>\n",
       "      <td>41.04</td>\n",
       "      <td>40.54</td>\n",
       "      <td>25.13</td>\n",
       "      <td>8.22</td>\n",
       "      <td>17.29</td>\n",
       "      <td>12.59</td>\n",
       "      <td>9.43</td>\n",
       "      <td>7.31</td>\n",
       "      <td>NaN</td>\n",
       "    </tr>\n",
       "    <tr>\n",
       "      <th>2018-04-03</th>\n",
       "      <td>10.56</td>\n",
       "      <td>33.64</td>\n",
       "      <td>NaN</td>\n",
       "      <td>22.65</td>\n",
       "      <td>3.75</td>\n",
       "      <td>7.09</td>\n",
       "      <td>14.58</td>\n",
       "      <td>6.69</td>\n",
       "      <td>6.19</td>\n",
       "      <td>4.33</td>\n",
       "      <td>...</td>\n",
       "      <td>29.95</td>\n",
       "      <td>40.23</td>\n",
       "      <td>40.14</td>\n",
       "      <td>24.74</td>\n",
       "      <td>8.16</td>\n",
       "      <td>17.16</td>\n",
       "      <td>12.43</td>\n",
       "      <td>9.43</td>\n",
       "      <td>7.20</td>\n",
       "      <td>NaN</td>\n",
       "    </tr>\n",
       "    <tr>\n",
       "      <th>2018-04-04</th>\n",
       "      <td>10.87</td>\n",
       "      <td>32.80</td>\n",
       "      <td>NaN</td>\n",
       "      <td>22.67</td>\n",
       "      <td>3.76</td>\n",
       "      <td>7.15</td>\n",
       "      <td>14.26</td>\n",
       "      <td>6.71</td>\n",
       "      <td>6.26</td>\n",
       "      <td>4.33</td>\n",
       "      <td>...</td>\n",
       "      <td>31.75</td>\n",
       "      <td>40.05</td>\n",
       "      <td>39.77</td>\n",
       "      <td>25.05</td>\n",
       "      <td>7.96</td>\n",
       "      <td>17.10</td>\n",
       "      <td>12.52</td>\n",
       "      <td>9.43</td>\n",
       "      <td>7.11</td>\n",
       "      <td>NaN</td>\n",
       "    </tr>\n",
       "    <tr>\n",
       "      <th>2018-04-09</th>\n",
       "      <td>11.02</td>\n",
       "      <td>31.62</td>\n",
       "      <td>NaN</td>\n",
       "      <td>22.58</td>\n",
       "      <td>3.76</td>\n",
       "      <td>7.19</td>\n",
       "      <td>13.95</td>\n",
       "      <td>6.64</td>\n",
       "      <td>6.35</td>\n",
       "      <td>4.31</td>\n",
       "      <td>...</td>\n",
       "      <td>30.82</td>\n",
       "      <td>40.37</td>\n",
       "      <td>41.30</td>\n",
       "      <td>25.42</td>\n",
       "      <td>8.07</td>\n",
       "      <td>16.66</td>\n",
       "      <td>12.49</td>\n",
       "      <td>9.43</td>\n",
       "      <td>7.03</td>\n",
       "      <td>NaN</td>\n",
       "    </tr>\n",
       "    <tr>\n",
       "      <th>2018-04-10</th>\n",
       "      <td>11.42</td>\n",
       "      <td>32.18</td>\n",
       "      <td>NaN</td>\n",
       "      <td>22.37</td>\n",
       "      <td>3.75</td>\n",
       "      <td>7.30</td>\n",
       "      <td>14.14</td>\n",
       "      <td>6.58</td>\n",
       "      <td>6.28</td>\n",
       "      <td>4.28</td>\n",
       "      <td>...</td>\n",
       "      <td>30.47</td>\n",
       "      <td>39.97</td>\n",
       "      <td>40.76</td>\n",
       "      <td>25.45</td>\n",
       "      <td>8.59</td>\n",
       "      <td>16.69</td>\n",
       "      <td>12.34</td>\n",
       "      <td>9.43</td>\n",
       "      <td>7.18</td>\n",
       "      <td>NaN</td>\n",
       "    </tr>\n",
       "  </tbody>\n",
       "</table>\n",
       "<p>5 rows × 3601 columns</p>\n",
       "</div>"
      ],
      "text/plain": [
       "           ClosePrice                                                          \\\n",
       "SecuCode       000001 000002 000003 000004 000005 000006 000007 000008 000009   \n",
       "TradingDay                                                                      \n",
       "2018-04-02      10.71  33.49    NaN  22.61   3.83   7.25  14.21   6.85   6.07   \n",
       "2018-04-03      10.56  33.64    NaN  22.65   3.75   7.09  14.58   6.69   6.19   \n",
       "2018-04-04      10.87  32.80    NaN  22.67   3.76   7.15  14.26   6.71   6.26   \n",
       "2018-04-09      11.02  31.62    NaN  22.58   3.76   7.19  13.95   6.64   6.35   \n",
       "2018-04-10      11.42  32.18    NaN  22.37   3.75   7.30  14.14   6.58   6.28   \n",
       "\n",
       "                   ...                                                     \\\n",
       "SecuCode   000010  ...   603988 603989 603990 603991 603993 603996 603997   \n",
       "TradingDay         ...                                                      \n",
       "2018-04-02   4.40  ...    31.63  41.04  40.54  25.13   8.22  17.29  12.59   \n",
       "2018-04-03   4.33  ...    29.95  40.23  40.14  24.74   8.16  17.16  12.43   \n",
       "2018-04-04   4.33  ...    31.75  40.05  39.77  25.05   7.96  17.10  12.52   \n",
       "2018-04-09   4.31  ...    30.82  40.37  41.30  25.42   8.07  16.66  12.49   \n",
       "2018-04-10   4.28  ...    30.47  39.97  40.76  25.45   8.59  16.69  12.34   \n",
       "\n",
       "                                 \n",
       "SecuCode   603998 603999 990018  \n",
       "TradingDay                       \n",
       "2018-04-02   9.43   7.31    NaN  \n",
       "2018-04-03   9.43   7.20    NaN  \n",
       "2018-04-04   9.43   7.11    NaN  \n",
       "2018-04-09   9.43   7.03    NaN  \n",
       "2018-04-10   9.43   7.18    NaN  \n",
       "\n",
       "[5 rows x 3601 columns]"
      ]
     },
     "execution_count": 35,
     "metadata": {},
     "output_type": "execute_result"
    }
   ],
   "source": [
    "tdf.tail()"
   ]
  },
  {
   "cell_type": "code",
   "execution_count": 36,
   "metadata": {},
   "outputs": [],
   "source": [
    "query = 'SELECT qt.TradingDay, t.SecuCode, qt.TotalMV \\\n",
    "         FROM QT_Performance as qt, SecuMain as t \\\n",
    "         WHERE t.InnerCode = qt.InnerCode \\\n",
    "             AND (t.SecuMarket = 90 OR t.SecuMarket = 83) \\\n",
    "             AND t.SecuCategory = 1'"
   ]
  },
  {
   "cell_type": "code",
   "execution_count": 37,
   "metadata": {},
   "outputs": [
    {
     "ename": "DatabaseError",
     "evalue": "Execution failed on sql 'SELECT qt.TradingDay, t.SecuCode, qt.TotalMV          FROM QT_Performance as qt, SecuMain as t          WHERE t.InnerCode = qt.InnerCode              AND (t.SecuMarket = 90 OR t.SecuMarket = 83)              AND t.SecuCategory = 1': ('42S02', \"[42S02] [Microsoft][ODBC SQL Server Driver][SQL Server]\\xb6\\xd4\\xcf\\xf3\\xc3\\xfb 'QT_Performance' \\xce\\xde\\xd0\\xa7\\xa1\\xa3 (208) (SQLExecDirectW)\")",
     "output_type": "error",
     "traceback": [
      "\u001b[1;31m---------------------------------------------------------------------------\u001b[0m",
      "\u001b[1;31mDatabaseError\u001b[0m                             Traceback (most recent call last)",
      "\u001b[1;32m<ipython-input-37-1d460aade54e>\u001b[0m in \u001b[0;36m<module>\u001b[1;34m()\u001b[0m\n\u001b[1;32m----> 1\u001b[1;33m \u001b[0mcap_df\u001b[0m \u001b[1;33m=\u001b[0m \u001b[0mpd\u001b[0m\u001b[1;33m.\u001b[0m\u001b[0mread_sql_query\u001b[0m\u001b[1;33m(\u001b[0m\u001b[0mquery\u001b[0m\u001b[1;33m,\u001b[0m \u001b[0mcon\u001b[0m\u001b[1;33m=\u001b[0m\u001b[0mconn\u001b[0m\u001b[1;33m)\u001b[0m\u001b[1;33m\u001b[0m\u001b[0m\n\u001b[0m",
      "\u001b[1;32mC:\\Users\\zhangyang01\\AppData\\Local\\Continuum\\anaconda2\\lib\\site-packages\\pandas\\io\\sql.pyc\u001b[0m in \u001b[0;36mread_sql_query\u001b[1;34m(sql, con, index_col, coerce_float, params, parse_dates, chunksize)\u001b[0m\n\u001b[0;32m    330\u001b[0m     return pandas_sql.read_query(\n\u001b[0;32m    331\u001b[0m         \u001b[0msql\u001b[0m\u001b[1;33m,\u001b[0m \u001b[0mindex_col\u001b[0m\u001b[1;33m=\u001b[0m\u001b[0mindex_col\u001b[0m\u001b[1;33m,\u001b[0m \u001b[0mparams\u001b[0m\u001b[1;33m=\u001b[0m\u001b[0mparams\u001b[0m\u001b[1;33m,\u001b[0m \u001b[0mcoerce_float\u001b[0m\u001b[1;33m=\u001b[0m\u001b[0mcoerce_float\u001b[0m\u001b[1;33m,\u001b[0m\u001b[1;33m\u001b[0m\u001b[0m\n\u001b[1;32m--> 332\u001b[1;33m         parse_dates=parse_dates, chunksize=chunksize)\n\u001b[0m\u001b[0;32m    333\u001b[0m \u001b[1;33m\u001b[0m\u001b[0m\n\u001b[0;32m    334\u001b[0m \u001b[1;33m\u001b[0m\u001b[0m\n",
      "\u001b[1;32mC:\\Users\\zhangyang01\\AppData\\Local\\Continuum\\anaconda2\\lib\\site-packages\\pandas\\io\\sql.pyc\u001b[0m in \u001b[0;36mread_query\u001b[1;34m(self, sql, index_col, coerce_float, params, parse_dates, chunksize)\u001b[0m\n\u001b[0;32m   1442\u001b[0m \u001b[1;33m\u001b[0m\u001b[0m\n\u001b[0;32m   1443\u001b[0m         \u001b[0margs\u001b[0m \u001b[1;33m=\u001b[0m \u001b[0m_convert_params\u001b[0m\u001b[1;33m(\u001b[0m\u001b[0msql\u001b[0m\u001b[1;33m,\u001b[0m \u001b[0mparams\u001b[0m\u001b[1;33m)\u001b[0m\u001b[1;33m\u001b[0m\u001b[0m\n\u001b[1;32m-> 1444\u001b[1;33m         \u001b[0mcursor\u001b[0m \u001b[1;33m=\u001b[0m \u001b[0mself\u001b[0m\u001b[1;33m.\u001b[0m\u001b[0mexecute\u001b[0m\u001b[1;33m(\u001b[0m\u001b[1;33m*\u001b[0m\u001b[0margs\u001b[0m\u001b[1;33m)\u001b[0m\u001b[1;33m\u001b[0m\u001b[0m\n\u001b[0m\u001b[0;32m   1445\u001b[0m         \u001b[0mcolumns\u001b[0m \u001b[1;33m=\u001b[0m \u001b[1;33m[\u001b[0m\u001b[0mcol_desc\u001b[0m\u001b[1;33m[\u001b[0m\u001b[1;36m0\u001b[0m\u001b[1;33m]\u001b[0m \u001b[1;32mfor\u001b[0m \u001b[0mcol_desc\u001b[0m \u001b[1;32min\u001b[0m \u001b[0mcursor\u001b[0m\u001b[1;33m.\u001b[0m\u001b[0mdescription\u001b[0m\u001b[1;33m]\u001b[0m\u001b[1;33m\u001b[0m\u001b[0m\n\u001b[0;32m   1446\u001b[0m \u001b[1;33m\u001b[0m\u001b[0m\n",
      "\u001b[1;32mC:\\Users\\zhangyang01\\AppData\\Local\\Continuum\\anaconda2\\lib\\site-packages\\pandas\\io\\sql.pyc\u001b[0m in \u001b[0;36mexecute\u001b[1;34m(self, *args, **kwargs)\u001b[0m\n\u001b[0;32m   1419\u001b[0m             ex = DatabaseError(\n\u001b[0;32m   1420\u001b[0m                 \"Execution failed on sql '%s': %s\" % (args[0], exc))\n\u001b[1;32m-> 1421\u001b[1;33m             \u001b[0mraise_with_traceback\u001b[0m\u001b[1;33m(\u001b[0m\u001b[0mex\u001b[0m\u001b[1;33m)\u001b[0m\u001b[1;33m\u001b[0m\u001b[0m\n\u001b[0m\u001b[0;32m   1422\u001b[0m \u001b[1;33m\u001b[0m\u001b[0m\n\u001b[0;32m   1423\u001b[0m     \u001b[1;33m@\u001b[0m\u001b[0mstaticmethod\u001b[0m\u001b[1;33m\u001b[0m\u001b[0m\n",
      "\u001b[1;32mC:\\Users\\zhangyang01\\AppData\\Local\\Continuum\\anaconda2\\lib\\site-packages\\pandas\\io\\sql.pyc\u001b[0m in \u001b[0;36mexecute\u001b[1;34m(self, *args, **kwargs)\u001b[0m\n\u001b[0;32m   1407\u001b[0m                 \u001b[0mcur\u001b[0m\u001b[1;33m.\u001b[0m\u001b[0mexecute\u001b[0m\u001b[1;33m(\u001b[0m\u001b[1;33m*\u001b[0m\u001b[0margs\u001b[0m\u001b[1;33m,\u001b[0m \u001b[1;33m**\u001b[0m\u001b[0mkwargs\u001b[0m\u001b[1;33m)\u001b[0m\u001b[1;33m\u001b[0m\u001b[0m\n\u001b[0;32m   1408\u001b[0m             \u001b[1;32melse\u001b[0m\u001b[1;33m:\u001b[0m\u001b[1;33m\u001b[0m\u001b[0m\n\u001b[1;32m-> 1409\u001b[1;33m                 \u001b[0mcur\u001b[0m\u001b[1;33m.\u001b[0m\u001b[0mexecute\u001b[0m\u001b[1;33m(\u001b[0m\u001b[1;33m*\u001b[0m\u001b[0margs\u001b[0m\u001b[1;33m)\u001b[0m\u001b[1;33m\u001b[0m\u001b[0m\n\u001b[0m\u001b[0;32m   1410\u001b[0m             \u001b[1;32mreturn\u001b[0m \u001b[0mcur\u001b[0m\u001b[1;33m\u001b[0m\u001b[0m\n\u001b[0;32m   1411\u001b[0m         \u001b[1;32mexcept\u001b[0m \u001b[0mException\u001b[0m \u001b[1;32mas\u001b[0m \u001b[0mexc\u001b[0m\u001b[1;33m:\u001b[0m\u001b[1;33m\u001b[0m\u001b[0m\n",
      "\u001b[1;31mDatabaseError\u001b[0m: Execution failed on sql 'SELECT qt.TradingDay, t.SecuCode, qt.TotalMV          FROM QT_Performance as qt, SecuMain as t          WHERE t.InnerCode = qt.InnerCode              AND (t.SecuMarket = 90 OR t.SecuMarket = 83)              AND t.SecuCategory = 1': ('42S02', \"[42S02] [Microsoft][ODBC SQL Server Driver][SQL Server]\\xb6\\xd4\\xcf\\xf3\\xc3\\xfb 'QT_Performance' \\xce\\xde\\xd0\\xa7\\xa1\\xa3 (208) (SQLExecDirectW)\")"
     ]
    }
   ],
   "source": [
    "cap_df = pd.read_sql_query(query, con=conn)"
   ]
  },
  {
   "cell_type": "code",
   "execution_count": null,
   "metadata": {},
   "outputs": [],
   "source": []
  },
  {
   "cell_type": "code",
   "execution_count": null,
   "metadata": {},
   "outputs": [],
   "source": []
  },
  {
   "cell_type": "code",
   "execution_count": null,
   "metadata": {},
   "outputs": [],
   "source": []
  },
  {
   "cell_type": "code",
   "execution_count": null,
   "metadata": {},
   "outputs": [],
   "source": []
  },
  {
   "cell_type": "code",
   "execution_count": null,
   "metadata": {},
   "outputs": [],
   "source": []
  },
  {
   "cell_type": "code",
   "execution_count": null,
   "metadata": {},
   "outputs": [],
   "source": []
  },
  {
   "cell_type": "code",
   "execution_count": 15,
   "metadata": {},
   "outputs": [],
   "source": [
    "query = 'SELECT rr.InfoPublDate, rr.InfoTitle \\\n",
    "         FROM ED_SpecialReport as rr '"
   ]
  },
  {
   "cell_type": "code",
   "execution_count": 16,
   "metadata": {},
   "outputs": [],
   "source": [
    "df = pd.read_sql(query, con=conn)"
   ]
  },
  {
   "cell_type": "code",
   "execution_count": 17,
   "metadata": {},
   "outputs": [],
   "source": [
    "df['InfoTitle'] = df['InfoTitle'].apply(lambda x: x.decode('gbk'))"
   ]
  },
  {
   "cell_type": "code",
   "execution_count": 18,
   "metadata": {},
   "outputs": [],
   "source": [
    "df = df.set_index('InfoPublDate')"
   ]
  },
  {
   "cell_type": "code",
   "execution_count": 19,
   "metadata": {},
   "outputs": [],
   "source": [
    "df = df.sort_index(ascending=False)"
   ]
  },
  {
   "cell_type": "code",
   "execution_count": 22,
   "metadata": {},
   "outputs": [
    {
     "data": {
      "text/html": [
       "<div>\n",
       "<style scoped>\n",
       "    .dataframe tbody tr th:only-of-type {\n",
       "        vertical-align: middle;\n",
       "    }\n",
       "\n",
       "    .dataframe tbody tr th {\n",
       "        vertical-align: top;\n",
       "    }\n",
       "\n",
       "    .dataframe thead th {\n",
       "        text-align: right;\n",
       "    }\n",
       "</style>\n",
       "<table border=\"1\" class=\"dataframe\">\n",
       "  <thead>\n",
       "    <tr style=\"text-align: right;\">\n",
       "      <th></th>\n",
       "      <th>InfoTitle</th>\n",
       "    </tr>\n",
       "    <tr>\n",
       "      <th>InfoPublDate</th>\n",
       "      <th></th>\n",
       "    </tr>\n",
       "  </thead>\n",
       "  <tbody>\n",
       "    <tr>\n",
       "      <th>2000-01-13</th>\n",
       "      <td>被控虚增利润欺诈上市　“红光案”上了成都中院</td>\n",
       "    </tr>\n",
       "    <tr>\n",
       "      <th>2000-01-05</th>\n",
       "      <td>红光诉讼案透析</td>\n",
       "    </tr>\n",
       "    <tr>\n",
       "      <th>1999-12-30</th>\n",
       "      <td>ST红光(600083)因违规被起诉</td>\n",
       "    </tr>\n",
       "    <tr>\n",
       "      <th>1999-10-28</th>\n",
       "      <td>蓝田股份(600709)上市材料有假受罚</td>\n",
       "    </tr>\n",
       "    <tr>\n",
       "      <th>1998-11-20</th>\n",
       "      <td>红光公司案敲响的警钟</td>\n",
       "    </tr>\n",
       "  </tbody>\n",
       "</table>\n",
       "</div>"
      ],
      "text/plain": [
       "                           InfoTitle\n",
       "InfoPublDate                        \n",
       "2000-01-13    被控虚增利润欺诈上市　“红光案”上了成都中院\n",
       "2000-01-05                   红光诉讼案透析\n",
       "1999-12-30        ST红光(600083)因违规被起诉\n",
       "1999-10-28      蓝田股份(600709)上市材料有假受罚\n",
       "1998-11-20                红光公司案敲响的警钟"
      ]
     },
     "execution_count": 22,
     "metadata": {},
     "output_type": "execute_result"
    }
   ],
   "source": [
    "df.tail()"
   ]
  },
  {
   "cell_type": "code",
   "execution_count": 21,
   "metadata": {},
   "outputs": [
    {
     "data": {
      "text/plain": [
       "(182471, 1)"
      ]
     },
     "execution_count": 21,
     "metadata": {},
     "output_type": "execute_result"
    }
   ],
   "source": [
    "df.shape"
   ]
  },
  {
   "cell_type": "code",
   "execution_count": 6,
   "metadata": {},
   "outputs": [],
   "source": [
    "cmd = 'select t.secuabbr, t.secucode from dbo.SecuMain t'"
   ]
  },
  {
   "cell_type": "code",
   "execution_count": 7,
   "metadata": {},
   "outputs": [
    {
     "data": {
      "text/plain": [
       "<pyodbc.Cursor at 0x99e08d0>"
      ]
     },
     "execution_count": 7,
     "metadata": {},
     "output_type": "execute_result"
    }
   ],
   "source": [
    "cursor.execute(cmd)"
   ]
  },
  {
   "cell_type": "code",
   "execution_count": 8,
   "metadata": {},
   "outputs": [],
   "source": [
    "rows = cursor.fetchall()"
   ]
  },
  {
   "cell_type": "code",
   "execution_count": 9,
   "metadata": {},
   "outputs": [],
   "source": [
    "names = [x[0].decode('gbk') for x in rows]\n",
    "codes = [x[1] for x in rows]"
   ]
  },
  {
   "cell_type": "code",
   "execution_count": 8,
   "metadata": {},
   "outputs": [],
   "source": [
    "df = pd.DataFrame({'name': names, 'code': codes})"
   ]
  },
  {
   "cell_type": "code",
   "execution_count": 9,
   "metadata": {},
   "outputs": [],
   "source": [
    "query = 'select A.SecuCode,A.SecuAbbr,B.* \\\n",
    "         from SecuMain A, MF_FundArchives B \\\n",
    "         where A.InnerCode = B.InnerCode'"
   ]
  },
  {
   "cell_type": "code",
   "execution_count": 10,
   "metadata": {},
   "outputs": [
    {
     "data": {
      "text/plain": [
       "<pyodbc.Cursor at 0x82e4d50>"
      ]
     },
     "execution_count": 10,
     "metadata": {},
     "output_type": "execute_result"
    }
   ],
   "source": [
    "cursor.execute(query)"
   ]
  },
  {
   "cell_type": "code",
   "execution_count": 11,
   "metadata": {},
   "outputs": [],
   "source": [
    "rows = cursor.fetchall()"
   ]
  },
  {
   "cell_type": "code",
   "execution_count": 15,
   "metadata": {},
   "outputs": [
    {
     "name": "stdout",
     "output_type": "stream",
     "text": [
      "184688\n",
      "基金开元\n",
      "坚持投资于经济增长中的领先行业，以及行业内相对价值较高的股票，并根据不同股票相对价值的变化动态调整组合，力求使基金净值平稳、持续增长\n",
      "为投资者减少和分散投资风险，确保基金资产的安全并谋求基金长期稳定的投资收益。\n",
      "\n",
      "\n",
      "采取现金方式，每年至少一次；年度收益分配比例不得低于基金年度已实现收益的90%。\n",
      "本基金的投资范围仅限于国债和国内依法公开发行、上市的股票。\n",
      "    基金开元系经中国证券监督管理委员会证监基金字(1998)6号文批准,由南方证券有限公司、广西信托投资公司和厦门国际信托投资公司共同发起设立的契约型封闭式证券投资基金,于一九九八年三月二十七日正式成立.基金管理人为南方基金管理有限公司,基金托管人为中国工商银行,基金存续期为15年.\n",
      "　　经深圳证券交易所深证发(1998)65号文审核同意,基金开元于一九九八年四月七日在深圳证券交易所挂牌交易.\n",
      "基金单位认购的最低限额为1000份，认购的份额必须为1000的整数倍；每一帐户不设申购上限，可以重复申购，但每一笔申购委托不得超过999万份基金单位。\n",
      "股票型\n",
      "184688\n",
      "184688\n"
     ]
    }
   ],
   "source": [
    "for e in rows[0]:\n",
    "    if isinstance(e, str):\n",
    "        print e.decode('gbk')"
   ]
  },
  {
   "cell_type": "code",
   "execution_count": 16,
   "metadata": {},
   "outputs": [
    {
     "data": {
      "text/plain": [
       "8202"
      ]
     },
     "execution_count": 16,
     "metadata": {},
     "output_type": "execute_result"
    }
   ],
   "source": [
    "len(rows)"
   ]
  },
  {
   "cell_type": "code",
   "execution_count": 67,
   "metadata": {},
   "outputs": [],
   "source": [
    "query = 'select t.tradingday, t.closeprice \\\n",
    "         from QT_DailyQuote t \\\n",
    "         where t.innercode = 000001'"
   ]
  },
  {
   "cell_type": "code",
   "execution_count": 68,
   "metadata": {},
   "outputs": [],
   "source": [
    "df = pd.read_sql(query, con=conn)"
   ]
  },
  {
   "cell_type": "code",
   "execution_count": 69,
   "metadata": {},
   "outputs": [],
   "source": [
    "df.set_index('tradingday', inplace=True)"
   ]
  },
  {
   "cell_type": "code",
   "execution_count": 73,
   "metadata": {},
   "outputs": [
    {
     "data": {
      "text/html": [
       "<div>\n",
       "<style scoped>\n",
       "    .dataframe tbody tr th:only-of-type {\n",
       "        vertical-align: middle;\n",
       "    }\n",
       "\n",
       "    .dataframe tbody tr th {\n",
       "        vertical-align: top;\n",
       "    }\n",
       "\n",
       "    .dataframe thead th {\n",
       "        text-align: right;\n",
       "    }\n",
       "</style>\n",
       "<table border=\"1\" class=\"dataframe\">\n",
       "  <thead>\n",
       "    <tr style=\"text-align: right;\">\n",
       "      <th></th>\n",
       "      <th>closeprice</th>\n",
       "    </tr>\n",
       "    <tr>\n",
       "      <th>tradingday</th>\n",
       "      <th></th>\n",
       "    </tr>\n",
       "  </thead>\n",
       "  <tbody>\n",
       "    <tr>\n",
       "      <th>2018-03-29</th>\n",
       "      <td>3160.5306</td>\n",
       "    </tr>\n",
       "    <tr>\n",
       "      <th>2018-03-30</th>\n",
       "      <td>3168.8966</td>\n",
       "    </tr>\n",
       "    <tr>\n",
       "      <th>2018-04-02</th>\n",
       "      <td>3163.1790</td>\n",
       "    </tr>\n",
       "    <tr>\n",
       "      <th>2018-04-03</th>\n",
       "      <td>3136.6332</td>\n",
       "    </tr>\n",
       "    <tr>\n",
       "      <th>2018-04-04</th>\n",
       "      <td>3131.1114</td>\n",
       "    </tr>\n",
       "  </tbody>\n",
       "</table>\n",
       "</div>"
      ],
      "text/plain": [
       "            closeprice\n",
       "tradingday            \n",
       "2018-03-29   3160.5306\n",
       "2018-03-30   3168.8966\n",
       "2018-04-02   3163.1790\n",
       "2018-04-03   3136.6332\n",
       "2018-04-04   3131.1114"
      ]
     },
     "execution_count": 73,
     "metadata": {},
     "output_type": "execute_result"
    }
   ],
   "source": [
    "df.tail()"
   ]
  },
  {
   "cell_type": "code",
   "execution_count": 72,
   "metadata": {},
   "outputs": [
    {
     "data": {
      "text/plain": [
       "<matplotlib.axes._subplots.AxesSubplot at 0xe760ac8>"
      ]
     },
     "execution_count": 72,
     "metadata": {},
     "output_type": "execute_result"
    },
    {
     "data": {
      "image/png": "[encoded data removed]",
      "text/plain": [
       "<matplotlib.figure.Figure at 0xe9644a8>"
      ]
     },
     "metadata": {},
     "output_type": "display_data"
    }
   ],
   "source": [
    "df.plot(figsize=(16, 9))"
   ]
  },
  {
   "cell_type": "code",
   "execution_count": 86,
   "metadata": {},
   "outputs": [],
   "source": [
    "query = 'select t.* \\\n",
    "         from SecuMain t'"
   ]
  },
  {
   "cell_type": "code",
   "execution_count": 93,
   "metadata": {},
   "outputs": [],
   "source": [
    "df = pd.read_sql(query, con=conn)"
   ]
  },
  {
   "cell_type": "code",
   "execution_count": 94,
   "metadata": {},
   "outputs": [
    {
     "data": {
      "text/html": [
       "<div>\n",
       "<style scoped>\n",
       "    .dataframe tbody tr th:only-of-type {\n",
       "        vertical-align: middle;\n",
       "    }\n",
       "\n",
       "    .dataframe tbody tr th {\n",
       "        vertical-align: top;\n",
       "    }\n",
       "\n",
       "    .dataframe thead th {\n",
       "        text-align: right;\n",
       "    }\n",
       "</style>\n",
       "<table border=\"1\" class=\"dataframe\">\n",
       "  <thead>\n",
       "    <tr style=\"text-align: right;\">\n",
       "      <th></th>\n",
       "      <th>ID</th>\n",
       "      <th>InnerCode</th>\n",
       "      <th>CompanyCode</th>\n",
       "      <th>SecuCode</th>\n",
       "      <th>ChiName</th>\n",
       "      <th>ChiNameAbbr</th>\n",
       "      <th>EngName</th>\n",
       "      <th>EngNameAbbr</th>\n",
       "      <th>SecuAbbr</th>\n",
       "      <th>ChiSpelling</th>\n",
       "      <th>SecuMarket</th>\n",
       "      <th>SecuCategory</th>\n",
       "      <th>ListedDate</th>\n",
       "      <th>ListedSector</th>\n",
       "      <th>ListedState</th>\n",
       "      <th>XGRQ</th>\n",
       "      <th>JSID</th>\n",
       "      <th>ISIN</th>\n",
       "    </tr>\n",
       "  </thead>\n",
       "  <tbody>\n",
       "    <tr>\n",
       "      <th>160880</th>\n",
       "      <td>576167654848</td>\n",
       "      <td>170206</td>\n",
       "      <td>186964</td>\n",
       "      <td>99U029</td>\n",
       "      <td>2018���һ�ڱ�����������(�й�)���޹�˾����ծȯ</td>\n",
       "      <td>��������</td>\n",
       "      <td>Bmw Automotive Finance (China) Co., Ltd.</td>\n",
       "      <td>None</td>\n",
       "      <td>18������������ծ01</td>\n",
       "      <td>18BMQCJRZ01</td>\n",
       "      <td>89.0</td>\n",
       "      <td>7</td>\n",
       "      <td>NaT</td>\n",
       "      <td>4</td>\n",
       "      <td>9</td>\n",
       "      <td>2018-04-04 15:09:04</td>\n",
       "      <td>576169743597</td>\n",
       "      <td>None</td>\n",
       "    </tr>\n",
       "    <tr>\n",
       "      <th>160881</th>\n",
       "      <td>576171285324</td>\n",
       "      <td>170207</td>\n",
       "      <td>5897</td>\n",
       "      <td>99U030</td>\n",
       "      <td>�춹�������޹�˾2018��ȵ�һ������Ʊ��</td>\n",
       "      <td>�춹����</td>\n",
       "      <td>Hongdou Group Co.,Ltd.</td>\n",
       "      <td>None</td>\n",
       "      <td>18�춹MTN001</td>\n",
       "      <td>18HDMTN001</td>\n",
       "      <td>89.0</td>\n",
       "      <td>11</td>\n",
       "      <td>2018-04-12</td>\n",
       "      <td>4</td>\n",
       "      <td>9</td>\n",
       "      <td>2018-04-04 16:00:09</td>\n",
       "      <td>576172809116</td>\n",
       "      <td>None</td>\n",
       "    </tr>\n",
       "    <tr>\n",
       "      <th>160882</th>\n",
       "      <td>576171470587</td>\n",
       "      <td>170208</td>\n",
       "      <td>77332</td>\n",
       "      <td>99U031</td>\n",
       "      <td>�����ֵܴ�ý�ɷ����޹�˾2018��ȵ�һ�ڶ�������ȯ</td>\n",
       "      <td>���괫ý</td>\n",
       "      <td>Huayi Brothers Media Corporation</td>\n",
       "      <td>None</td>\n",
       "      <td>18�����ֵ�CP001</td>\n",
       "      <td>18HYXDCP001</td>\n",
       "      <td>89.0</td>\n",
       "      <td>11</td>\n",
       "      <td>2018-04-12</td>\n",
       "      <td>4</td>\n",
       "      <td>9</td>\n",
       "      <td>2018-04-04 16:00:09</td>\n",
       "      <td>576172809117</td>\n",
       "      <td>None</td>\n",
       "    </tr>\n",
       "    <tr>\n",
       "      <th>160883</th>\n",
       "      <td>576171583384</td>\n",
       "      <td>170209</td>\n",
       "      <td>76063</td>\n",
       "      <td>99U032</td>\n",
       "      <td>�Ͼ��е���è��Ϣ��ҵ�������޹�˾2018��ȵ�һ�ڶ�������ȯ</td>\n",
       "      <td>�Ͼ��е���è��Ϣ��ҵ����</td>\n",
       "      <td>Nanjing China Electronics Panda Corporation</td>\n",
       "      <td>None</td>\n",
       "      <td>18�е���èCP001</td>\n",
       "      <td>18ZDXMCPLLY</td>\n",
       "      <td>89.0</td>\n",
       "      <td>11</td>\n",
       "      <td>2018-04-11</td>\n",
       "      <td>4</td>\n",
       "      <td>9</td>\n",
       "      <td>2018-04-04 15:54:03</td>\n",
       "      <td>576172443179</td>\n",
       "      <td>None</td>\n",
       "    </tr>\n",
       "    <tr>\n",
       "      <th>160884</th>\n",
       "      <td>576173499762</td>\n",
       "      <td>170210</td>\n",
       "      <td>203300</td>\n",
       "      <td>99U033</td>\n",
       "      <td>�����й����ʱ���Ӫ���޹�˾2018��ȵ�һ����ɫ����Ʊ��</td>\n",
       "      <td>�����й����ʱ���Ӫ</td>\n",
       "      <td>YiWu State-Owend Capital Operation Co.,Ltd.</td>\n",
       "      <td>None</td>\n",
       "      <td>18���ڹ���GN001</td>\n",
       "      <td>18YWGZGN001</td>\n",
       "      <td>89.0</td>\n",
       "      <td>11</td>\n",
       "      <td>2018-04-13</td>\n",
       "      <td>4</td>\n",
       "      <td>9</td>\n",
       "      <td>2018-04-04 17:00:11</td>\n",
       "      <td>576176410728</td>\n",
       "      <td>None</td>\n",
       "    </tr>\n",
       "  </tbody>\n",
       "</table>\n",
       "</div>"
      ],
      "text/plain": [
       "                  ID  InnerCode  CompanyCode SecuCode  \\\n",
       "160880  576167654848     170206       186964   99U029   \n",
       "160881  576171285324     170207         5897   99U030   \n",
       "160882  576171470587     170208        77332   99U031   \n",
       "160883  576171583384     170209        76063   99U032   \n",
       "160884  576173499762     170210       203300   99U033   \n",
       "\n",
       "                                             ChiName          ChiNameAbbr  \\\n",
       "160880        2018���һ�ڱ�����������(�й�)���޹�˾����ծȯ             ��������   \n",
       "160881                �춹�������޹�˾2018��ȵ�һ������Ʊ��               �춹����   \n",
       "160882         �����ֵܴ�ý�ɷ����޹�˾2018��ȵ�һ�ڶ�������ȯ                ���괫ý   \n",
       "160883  �Ͼ��е���è��Ϣ��ҵ�������޹�˾2018��ȵ�һ�ڶ�������ȯ  �Ͼ��е���è��Ϣ��ҵ����   \n",
       "160884    �����й����ʱ���Ӫ���޹�˾2018��ȵ�һ����ɫ����Ʊ��      �����й����ʱ���Ӫ   \n",
       "\n",
       "                                            EngName EngNameAbbr  \\\n",
       "160880     Bmw Automotive Finance (China) Co., Ltd.        None   \n",
       "160881                       Hongdou Group Co.,Ltd.        None   \n",
       "160882             Huayi Brothers Media Corporation        None   \n",
       "160883  Nanjing China Electronics Panda Corporation        None   \n",
       "160884  YiWu State-Owend Capital Operation Co.,Ltd.        None   \n",
       "\n",
       "                 SecuAbbr  ChiSpelling  SecuMarket  SecuCategory ListedDate  \\\n",
       "160880  18������������ծ01  18BMQCJRZ01        89.0             7        NaT   \n",
       "160881         18�춹MTN001   18HDMTN001        89.0            11 2018-04-12   \n",
       "160882     18�����ֵ�CP001  18HYXDCP001        89.0            11 2018-04-12   \n",
       "160883      18�е���èCP001  18ZDXMCPLLY        89.0            11 2018-04-11   \n",
       "160884     18���ڹ���GN001  18YWGZGN001        89.0            11 2018-04-13   \n",
       "\n",
       "        ListedSector  ListedState                XGRQ          JSID  ISIN  \n",
       "160880             4            9 2018-04-04 15:09:04  576169743597  None  \n",
       "160881             4            9 2018-04-04 16:00:09  576172809116  None  \n",
       "160882             4            9 2018-04-04 16:00:09  576172809117  None  \n",
       "160883             4            9 2018-04-04 15:54:03  576172443179  None  \n",
       "160884             4            9 2018-04-04 17:00:11  576176410728  None  "
      ]
     },
     "execution_count": 94,
     "metadata": {},
     "output_type": "execute_result"
    }
   ],
   "source": []
  },
  {
   "cell_type": "code",
   "execution_count": 98,
   "metadata": {},
   "outputs": [],
   "source": [
    "# df['ChiName'] = df['ChiName'].apply(lambda x: x.decode('gbk'))\n",
    "df['SecuAbbr'] = df['SecuAbbr'].apply(lambda x: x.decode('gbk'))"
   ]
  },
  {
   "cell_type": "code",
   "execution_count": 100,
   "metadata": {},
   "outputs": [
    {
     "data": {
      "text/html": [
       "<div>\n",
       "<style scoped>\n",
       "    .dataframe tbody tr th:only-of-type {\n",
       "        vertical-align: middle;\n",
       "    }\n",
       "\n",
       "    .dataframe tbody tr th {\n",
       "        vertical-align: top;\n",
       "    }\n",
       "\n",
       "    .dataframe thead th {\n",
       "        text-align: right;\n",
       "    }\n",
       "</style>\n",
       "<table border=\"1\" class=\"dataframe\">\n",
       "  <thead>\n",
       "    <tr style=\"text-align: right;\">\n",
       "      <th></th>\n",
       "      <th>ID</th>\n",
       "      <th>InnerCode</th>\n",
       "      <th>CompanyCode</th>\n",
       "      <th>SecuCode</th>\n",
       "      <th>ChiName</th>\n",
       "      <th>ChiNameAbbr</th>\n",
       "      <th>EngName</th>\n",
       "      <th>EngNameAbbr</th>\n",
       "      <th>SecuAbbr</th>\n",
       "      <th>ChiSpelling</th>\n",
       "      <th>SecuMarket</th>\n",
       "      <th>SecuCategory</th>\n",
       "      <th>ListedDate</th>\n",
       "      <th>ListedSector</th>\n",
       "      <th>ListedState</th>\n",
       "      <th>XGRQ</th>\n",
       "      <th>JSID</th>\n",
       "      <th>ISIN</th>\n",
       "    </tr>\n",
       "  </thead>\n",
       "  <tbody>\n",
       "    <tr>\n",
       "      <th>0</th>\n",
       "      <td>10630746853000</td>\n",
       "      <td>1</td>\n",
       "      <td>1</td>\n",
       "      <td>000001</td>\n",
       "      <td>上海证券交易所综合指数</td>\n",
       "      <td>��֤�ۺ�ָ��</td>\n",
       "      <td>SSE Composite Index                           ...</td>\n",
       "      <td>SSE Composite</td>\n",
       "      <td>上证指数</td>\n",
       "      <td>SZZS</td>\n",
       "      <td>83.0</td>\n",
       "      <td>4</td>\n",
       "      <td>1991-07-15</td>\n",
       "      <td>1</td>\n",
       "      <td>1</td>\n",
       "      <td>2017-12-29 18:45:05</td>\n",
       "      <td>567888304666</td>\n",
       "      <td>CNM000000019</td>\n",
       "    </tr>\n",
       "    <tr>\n",
       "      <th>1</th>\n",
       "      <td>8100899335600</td>\n",
       "      <td>2</td>\n",
       "      <td>16433</td>\n",
       "      <td>000001</td>\n",
       "      <td>2000年记账式(一期)国债</td>\n",
       "      <td>None</td>\n",
       "      <td>Ministry of Finance People'S Republic of China</td>\n",
       "      <td>None</td>\n",
       "      <td>00国债01</td>\n",
       "      <td>LLGZLY</td>\n",
       "      <td>89.0</td>\n",
       "      <td>6</td>\n",
       "      <td>2000-03-07</td>\n",
       "      <td>4</td>\n",
       "      <td>5</td>\n",
       "      <td>2017-12-14 22:05:04</td>\n",
       "      <td>566604303722</td>\n",
       "      <td>CND0000000S5</td>\n",
       "    </tr>\n",
       "    <tr>\n",
       "      <th>2</th>\n",
       "      <td>308041741206</td>\n",
       "      <td>3</td>\n",
       "      <td>3</td>\n",
       "      <td>000001</td>\n",
       "      <td>平安银行股份有限公司</td>\n",
       "      <td>ƽ������</td>\n",
       "      <td>Ping An Bank Co., Ltd.</td>\n",
       "      <td>PAB</td>\n",
       "      <td>平安银行</td>\n",
       "      <td>PAYH</td>\n",
       "      <td>90.0</td>\n",
       "      <td>1</td>\n",
       "      <td>1991-04-03</td>\n",
       "      <td>1</td>\n",
       "      <td>1</td>\n",
       "      <td>2018-02-27 15:18:05</td>\n",
       "      <td>573059884880</td>\n",
       "      <td>CNE000000040</td>\n",
       "    </tr>\n",
       "    <tr>\n",
       "      <th>3</th>\n",
       "      <td>6858142374297</td>\n",
       "      <td>4</td>\n",
       "      <td>4</td>\n",
       "      <td>000002</td>\n",
       "      <td>上海证券交易所Ａ股指数</td>\n",
       "      <td>��֤A��ָ��</td>\n",
       "      <td>SSE A Share Index                             ...</td>\n",
       "      <td>A Share Index</td>\n",
       "      <td>A股指数</td>\n",
       "      <td>AGZS</td>\n",
       "      <td>83.0</td>\n",
       "      <td>4</td>\n",
       "      <td>1992-02-21</td>\n",
       "      <td>1</td>\n",
       "      <td>1</td>\n",
       "      <td>2017-12-29 18:45:05</td>\n",
       "      <td>567888304667</td>\n",
       "      <td>CNM000000027</td>\n",
       "    </tr>\n",
       "    <tr>\n",
       "      <th>4</th>\n",
       "      <td>8100903303000</td>\n",
       "      <td>5</td>\n",
       "      <td>16433</td>\n",
       "      <td>000002</td>\n",
       "      <td>2000年记账式(二期)国债</td>\n",
       "      <td>None</td>\n",
       "      <td>Ministry of Finance People'S Republic of China</td>\n",
       "      <td>None</td>\n",
       "      <td>00国债02</td>\n",
       "      <td>LLGZLE</td>\n",
       "      <td>89.0</td>\n",
       "      <td>6</td>\n",
       "      <td>2000-05-09</td>\n",
       "      <td>4</td>\n",
       "      <td>5</td>\n",
       "      <td>2017-12-14 20:05:02</td>\n",
       "      <td>566597138645</td>\n",
       "      <td>CND0000000V9</td>\n",
       "    </tr>\n",
       "  </tbody>\n",
       "</table>\n",
       "</div>"
      ],
      "text/plain": [
       "               ID  InnerCode  CompanyCode SecuCode         ChiName  \\\n",
       "0  10630746853000          1            1   000001     上海证券交易所综合指数   \n",
       "1   8100899335600          2        16433   000001  2000年记账式(一期)国债   \n",
       "2    308041741206          3            3   000001      平安银行股份有限公司   \n",
       "3   6858142374297          4            4   000002     上海证券交易所Ａ股指数   \n",
       "4   8100903303000          5        16433   000002  2000年记账式(二期)国债   \n",
       "\n",
       "                                        ChiNameAbbr  \\\n",
       "0   ��֤�ۺ�ָ��                                         \n",
       "1                                              None   \n",
       "2                                           ƽ������   \n",
       "3  ��֤A��ָ��                                          \n",
       "4                                              None   \n",
       "\n",
       "                                             EngName    EngNameAbbr SecuAbbr  \\\n",
       "0  SSE Composite Index                           ...  SSE Composite     上证指数   \n",
       "1     Ministry of Finance People'S Republic of China           None   00国债01   \n",
       "2                             Ping An Bank Co., Ltd.            PAB     平安银行   \n",
       "3  SSE A Share Index                             ...  A Share Index     A股指数   \n",
       "4     Ministry of Finance People'S Republic of China           None   00国债02   \n",
       "\n",
       "  ChiSpelling  SecuMarket  SecuCategory ListedDate  ListedSector  ListedState  \\\n",
       "0        SZZS        83.0             4 1991-07-15             1            1   \n",
       "1      LLGZLY        89.0             6 2000-03-07             4            5   \n",
       "2        PAYH        90.0             1 1991-04-03             1            1   \n",
       "3        AGZS        83.0             4 1992-02-21             1            1   \n",
       "4      LLGZLE        89.0             6 2000-05-09             4            5   \n",
       "\n",
       "                 XGRQ          JSID          ISIN  \n",
       "0 2017-12-29 18:45:05  567888304666  CNM000000019  \n",
       "1 2017-12-14 22:05:04  566604303722  CND0000000S5  \n",
       "2 2018-02-27 15:18:05  573059884880  CNE000000040  \n",
       "3 2017-12-29 18:45:05  567888304667  CNM000000027  \n",
       "4 2017-12-14 20:05:02  566597138645  CND0000000V9  "
      ]
     },
     "execution_count": 100,
     "metadata": {},
     "output_type": "execute_result"
    }
   ],
   "source": [
    "df.head()"
   ]
  },
  {
   "cell_type": "code",
   "execution_count": null,
   "metadata": {},
   "outputs": [],
   "source": []
  }
 ],
 "metadata": {
  "kernelspec": {
   "display_name": "Python 2",
   "language": "python",
   "name": "python2"
  },
  "language_info": {
   "codemirror_mode": {
    "name": "ipython",
    "version": 2
   },
   "file_extension": ".py",
   "mimetype": "text/x-python",
   "name": "python",
   "nbconvert_exporter": "python",
   "pygments_lexer": "ipython2",
   "version": "2.7.14"
  }
 },
 "nbformat": 4,
 "nbformat_minor": 2
}
