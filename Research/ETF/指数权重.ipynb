{
 "cells": [
  {
   "cell_type": "code",
   "execution_count": 4,
   "metadata": {
    "collapsed": true
   },
   "outputs": [],
   "source": [
    "import pandas as pd\n",
    "from WindPy import w\n",
    "import os"
   ]
  },
  {
   "cell_type": "code",
   "execution_count": 2,
   "metadata": {
    "collapsed": false
   },
   "outputs": [
    {
     "name": "stdout",
     "output_type": "stream",
     "text": [
      "Welcome to use Wind Quant API for Python (WindPy)!\n",
      "You can use w.menu to help yourself to create commands(WSD,WSS,WST,WSI,WSQ,...)!\n",
      "\n",
      "COPYRIGHT (C) 2016 WIND HONGHUI INFORMATION & TECHKNOLEWDGE CO., LTD. ALL RIGHTS RESERVED.\n",
      "IN NO CIRCUMSTANCE SHALL WIND BE RESPONSIBLE FOR ANY DAMAGES OR LOSSES CAUSED BY USING WIND QUANT API FOR Python.\n"
     ]
    },
    {
     "data": {
      "text/plain": [
       ".ErrorCode=0\n",
       ".Data=[OK!]"
      ]
     },
     "execution_count": 2,
     "metadata": {},
     "output_type": "execute_result"
    }
   ],
   "source": [
    "w.start()"
   ]
  },
  {
   "cell_type": "code",
   "execution_count": 8,
   "metadata": {
    "collapsed": true
   },
   "outputs": [],
   "source": [
    "def wind2df(raw_data):\n",
    "    dic = {}\n",
    "    for data, field in zip(raw_data.Data, raw_data.Fields):\n",
    "        dic[str(field)] = data\n",
    "    return pd.DataFrame(dic)"
   ]
  },
  {
   "cell_type": "code",
   "execution_count": 3,
   "metadata": {
    "collapsed": true
   },
   "outputs": [],
   "source": [
    "data = w.wset(\"indexconstituent\",\"date=2017-07-18;windcode=000300.SH;field=wind_code,sec_name,i_weight\")"
   ]
  },
  {
   "cell_type": "code",
   "execution_count": 7,
   "metadata": {
    "collapsed": false
   },
   "outputs": [
    {
     "data": {
      "text/plain": [
       ".ErrorCode=0\n",
       ".Codes=[1,2,3,4,5,6,7,8,9,10,...]\n",
       ".Fields=[wind_code,sec_name,i_weight]\n",
       ".Times=[20170719]\n",
       ".Data=[[000001.SZ,000002.SZ,000008.SZ,000009.SZ,000060.SZ,000063.SZ,000069.SZ,000100.SZ,000156.SZ,000157.SZ,...],[u'\\u5e73\\u5b89\\u94f6\\u884c',u'\\u4e07\\u79d1A',u'\\u795e\\u5dde\\u9ad8\\u94c1',u'\\u4e2d\\u56fd\\u5b9d\\u5b89',u'\\u4e2d\\u91d1\\u5cad\\u5357',u'\\u4e2d\\u5174\\u901a\\u8baf',u'\\u534e\\u4fa8\\u57ceA',u'TCL\\u96c6\\u56e2',u'\\u534e\\u6570\\u4f20\\u5a92',u'\\u4e2d\\u8054\\u91cd\\u79d1',...],[0.7785,1.6134,0.1184,0.1667,0.1702,0.5187,0.3119,0.2425,0.0826,0.1916,...]]"
      ]
     },
     "execution_count": 7,
     "metadata": {},
     "output_type": "execute_result"
    }
   ],
   "source": [
    "data"
   ]
  },
  {
   "cell_type": "code",
   "execution_count": 5,
   "metadata": {
    "collapsed": true
   },
   "outputs": [],
   "source": [
    "codes = [f.rstrip('.xlsx') for f in os.listdir('D:/Data/index-component/')]"
   ]
  },
  {
   "cell_type": "code",
   "execution_count": 11,
   "metadata": {
    "collapsed": false
   },
   "outputs": [],
   "source": [
    "for code in codes:\n",
    "    data = w.wset(\"indexconstituent\", \"date=2017-07-18;windcode=%s;field=wind_code,sec_name,i_weight\"%(code))\n",
    "    df = wind2df(data)\n",
    "    df.to_excel('D:Data/index-component/%s.xlsx'%(code), index=False)"
   ]
  },
  {
   "cell_type": "code",
   "execution_count": null,
   "metadata": {
    "collapsed": true
   },
   "outputs": [],
   "source": []
  }
 ],
 "metadata": {
  "anaconda-cloud": {},
  "kernelspec": {
   "display_name": "Python [default]",
   "language": "python",
   "name": "python2"
  },
  "language_info": {
   "codemirror_mode": {
    "name": "ipython",
    "version": 2
   },
   "file_extension": ".py",
   "mimetype": "text/x-python",
   "name": "python",
   "nbconvert_exporter": "python",
   "pygments_lexer": "ipython2",
   "version": "2.7.12"
  }
 },
 "nbformat": 4,
 "nbformat_minor": 1
}
