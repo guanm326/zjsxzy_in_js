{
 "cells": [
  {
   "cell_type": "code",
   "execution_count": 1,
   "metadata": {},
   "outputs": [
    {
     "name": "stderr",
     "output_type": "stream",
     "text": [
      "C:\\Users\\zhangyang01\\AppData\\Local\\Continuum\\anaconda2\\lib\\site-packages\\statsmodels\\compat\\pandas.py:56: FutureWarning: The pandas.core.datetools module is deprecated and will be removed in a future version. Please use the pandas.tseries module instead.\n",
      "  from pandas.core import datetools\n"
     ]
    }
   ],
   "source": [
    "import os\n",
    "import pandas as pd\n",
    "import matplotlib.pyplot as plt\n",
    "import sklearn.cluster\n",
    "import alphalens\n",
    "%matplotlib inline"
   ]
  },
  {
   "cell_type": "code",
   "execution_count": 2,
   "metadata": {},
   "outputs": [],
   "source": [
    "DATA_DIR = 'D:/Data/index/'"
   ]
  },
  {
   "cell_type": "code",
   "execution_count": 10,
   "metadata": {},
   "outputs": [],
   "source": [
    "fname = '%s/881001.WI.xlsx'%(DATA_DIR)\n",
    "wdf = pd.read_excel(fname)"
   ]
  },
  {
   "cell_type": "code",
   "execution_count": 4,
   "metadata": {},
   "outputs": [],
   "source": [
    "files = [f for f in os.listdir(DATA_DIR) if f.startswith('CI')]"
   ]
  },
  {
   "cell_type": "code",
   "execution_count": 5,
   "metadata": {},
   "outputs": [],
   "source": [
    "dic = {}\n",
    "for f in files:\n",
    "    fname = '%s/%s'%(DATA_DIR, f)\n",
    "    temp = pd.read_excel(fname)\n",
    "    dic[f.rstrip('.xlsx')] = temp['close']\n",
    "df = pd.DataFrame(dic)"
   ]
  },
  {
   "cell_type": "code",
   "execution_count": 7,
   "metadata": {},
   "outputs": [],
   "source": [
    "df = df.dropna()"
   ]
  },
  {
   "cell_type": "code",
   "execution_count": 8,
   "metadata": {},
   "outputs": [
    {
     "data": {
      "text/html": [
       "<div>\n",
       "<style scoped>\n",
       "    .dataframe tbody tr th:only-of-type {\n",
       "        vertical-align: middle;\n",
       "    }\n",
       "\n",
       "    .dataframe tbody tr th {\n",
       "        vertical-align: top;\n",
       "    }\n",
       "\n",
       "    .dataframe thead th {\n",
       "        text-align: right;\n",
       "    }\n",
       "</style>\n",
       "<table border=\"1\" class=\"dataframe\">\n",
       "  <thead>\n",
       "    <tr style=\"text-align: right;\">\n",
       "      <th></th>\n",
       "      <th>CI005001.WI</th>\n",
       "      <th>CI005002.WI</th>\n",
       "      <th>CI005003.WI</th>\n",
       "      <th>CI005004.WI</th>\n",
       "      <th>CI005005.WI</th>\n",
       "      <th>CI005006.WI</th>\n",
       "      <th>CI005007.WI</th>\n",
       "      <th>CI005008.WI</th>\n",
       "      <th>CI005009.WI</th>\n",
       "      <th>CI005010.WI</th>\n",
       "      <th>...</th>\n",
       "      <th>CI005020.WI</th>\n",
       "      <th>CI005021.WI</th>\n",
       "      <th>CI005022.WI</th>\n",
       "      <th>CI005023.WI</th>\n",
       "      <th>CI005024.WI</th>\n",
       "      <th>CI005025.WI</th>\n",
       "      <th>CI005026.WI</th>\n",
       "      <th>CI005027.WI</th>\n",
       "      <th>CI005028.WI</th>\n",
       "      <th>CI005029.WI</th>\n",
       "    </tr>\n",
       "  </thead>\n",
       "  <tbody>\n",
       "    <tr>\n",
       "      <th>2004-12-31</th>\n",
       "      <td>1000.0000</td>\n",
       "      <td>1000.0000</td>\n",
       "      <td>1000.0000</td>\n",
       "      <td>1000.0000</td>\n",
       "      <td>1000.0000</td>\n",
       "      <td>1000.0000</td>\n",
       "      <td>1000.0000</td>\n",
       "      <td>1000.0000</td>\n",
       "      <td>1000.0000</td>\n",
       "      <td>1000.0000</td>\n",
       "      <td>...</td>\n",
       "      <td>1000.0000</td>\n",
       "      <td>1000.0000</td>\n",
       "      <td>1000.0000</td>\n",
       "      <td>1000.0000</td>\n",
       "      <td>1000.0000</td>\n",
       "      <td>1000.0000</td>\n",
       "      <td>1000.0000</td>\n",
       "      <td>1000.0000</td>\n",
       "      <td>1000.0000</td>\n",
       "      <td>1000.0000</td>\n",
       "    </tr>\n",
       "    <tr>\n",
       "      <th>2005-01-04</th>\n",
       "      <td>972.6953</td>\n",
       "      <td>971.6588</td>\n",
       "      <td>974.9029</td>\n",
       "      <td>983.8077</td>\n",
       "      <td>976.2269</td>\n",
       "      <td>984.1301</td>\n",
       "      <td>985.7494</td>\n",
       "      <td>988.6503</td>\n",
       "      <td>984.3312</td>\n",
       "      <td>983.9793</td>\n",
       "      <td>...</td>\n",
       "      <td>990.2624</td>\n",
       "      <td>984.9190</td>\n",
       "      <td>971.4580</td>\n",
       "      <td>993.1926</td>\n",
       "      <td>986.6346</td>\n",
       "      <td>992.7887</td>\n",
       "      <td>989.8816</td>\n",
       "      <td>997.8527</td>\n",
       "      <td>1001.2205</td>\n",
       "      <td>997.1057</td>\n",
       "    </tr>\n",
       "    <tr>\n",
       "      <th>2005-01-05</th>\n",
       "      <td>972.4125</td>\n",
       "      <td>976.6908</td>\n",
       "      <td>988.5014</td>\n",
       "      <td>993.2399</td>\n",
       "      <td>983.7726</td>\n",
       "      <td>994.4515</td>\n",
       "      <td>1001.7736</td>\n",
       "      <td>1003.5723</td>\n",
       "      <td>997.8509</td>\n",
       "      <td>999.6678</td>\n",
       "      <td>...</td>\n",
       "      <td>1005.2765</td>\n",
       "      <td>975.7218</td>\n",
       "      <td>991.0295</td>\n",
       "      <td>1018.1711</td>\n",
       "      <td>996.0323</td>\n",
       "      <td>1009.8923</td>\n",
       "      <td>1005.5461</td>\n",
       "      <td>1026.2292</td>\n",
       "      <td>1040.0349</td>\n",
       "      <td>1019.9167</td>\n",
       "    </tr>\n",
       "    <tr>\n",
       "      <th>2005-01-06</th>\n",
       "      <td>953.4392</td>\n",
       "      <td>957.3087</td>\n",
       "      <td>965.2290</td>\n",
       "      <td>979.5781</td>\n",
       "      <td>969.9842</td>\n",
       "      <td>983.2128</td>\n",
       "      <td>993.2242</td>\n",
       "      <td>990.7411</td>\n",
       "      <td>994.4649</td>\n",
       "      <td>991.6098</td>\n",
       "      <td>...</td>\n",
       "      <td>994.1639</td>\n",
       "      <td>965.1899</td>\n",
       "      <td>992.4178</td>\n",
       "      <td>1017.2031</td>\n",
       "      <td>992.8979</td>\n",
       "      <td>1001.3624</td>\n",
       "      <td>989.5672</td>\n",
       "      <td>1024.9278</td>\n",
       "      <td>1039.1674</td>\n",
       "      <td>1013.4837</td>\n",
       "    </tr>\n",
       "    <tr>\n",
       "      <th>2005-01-07</th>\n",
       "      <td>954.5805</td>\n",
       "      <td>920.7459</td>\n",
       "      <td>963.1241</td>\n",
       "      <td>977.8708</td>\n",
       "      <td>969.1005</td>\n",
       "      <td>985.9675</td>\n",
       "      <td>1000.5584</td>\n",
       "      <td>994.2298</td>\n",
       "      <td>998.8018</td>\n",
       "      <td>990.2740</td>\n",
       "      <td>...</td>\n",
       "      <td>1001.1542</td>\n",
       "      <td>965.4274</td>\n",
       "      <td>1000.2445</td>\n",
       "      <td>1035.1659</td>\n",
       "      <td>991.2206</td>\n",
       "      <td>1018.5846</td>\n",
       "      <td>990.8038</td>\n",
       "      <td>1021.6451</td>\n",
       "      <td>1034.9097</td>\n",
       "      <td>1019.1937</td>\n",
       "    </tr>\n",
       "  </tbody>\n",
       "</table>\n",
       "<p>5 rows × 29 columns</p>\n",
       "</div>"
      ],
      "text/plain": [
       "            CI005001.WI  CI005002.WI  CI005003.WI  CI005004.WI  CI005005.WI  \\\n",
       "2004-12-31    1000.0000    1000.0000    1000.0000    1000.0000    1000.0000   \n",
       "2005-01-04     972.6953     971.6588     974.9029     983.8077     976.2269   \n",
       "2005-01-05     972.4125     976.6908     988.5014     993.2399     983.7726   \n",
       "2005-01-06     953.4392     957.3087     965.2290     979.5781     969.9842   \n",
       "2005-01-07     954.5805     920.7459     963.1241     977.8708     969.1005   \n",
       "\n",
       "            CI005006.WI  CI005007.WI  CI005008.WI  CI005009.WI  CI005010.WI  \\\n",
       "2004-12-31    1000.0000    1000.0000    1000.0000    1000.0000    1000.0000   \n",
       "2005-01-04     984.1301     985.7494     988.6503     984.3312     983.9793   \n",
       "2005-01-05     994.4515    1001.7736    1003.5723     997.8509     999.6678   \n",
       "2005-01-06     983.2128     993.2242     990.7411     994.4649     991.6098   \n",
       "2005-01-07     985.9675    1000.5584     994.2298     998.8018     990.2740   \n",
       "\n",
       "               ...       CI005020.WI  CI005021.WI  CI005022.WI  CI005023.WI  \\\n",
       "2004-12-31     ...         1000.0000    1000.0000    1000.0000    1000.0000   \n",
       "2005-01-04     ...          990.2624     984.9190     971.4580     993.1926   \n",
       "2005-01-05     ...         1005.2765     975.7218     991.0295    1018.1711   \n",
       "2005-01-06     ...          994.1639     965.1899     992.4178    1017.2031   \n",
       "2005-01-07     ...         1001.1542     965.4274    1000.2445    1035.1659   \n",
       "\n",
       "            CI005024.WI  CI005025.WI  CI005026.WI  CI005027.WI  CI005028.WI  \\\n",
       "2004-12-31    1000.0000    1000.0000    1000.0000    1000.0000    1000.0000   \n",
       "2005-01-04     986.6346     992.7887     989.8816     997.8527    1001.2205   \n",
       "2005-01-05     996.0323    1009.8923    1005.5461    1026.2292    1040.0349   \n",
       "2005-01-06     992.8979    1001.3624     989.5672    1024.9278    1039.1674   \n",
       "2005-01-07     991.2206    1018.5846     990.8038    1021.6451    1034.9097   \n",
       "\n",
       "            CI005029.WI  \n",
       "2004-12-31    1000.0000  \n",
       "2005-01-04     997.1057  \n",
       "2005-01-05    1019.9167  \n",
       "2005-01-06    1013.4837  \n",
       "2005-01-07    1019.1937  \n",
       "\n",
       "[5 rows x 29 columns]"
      ]
     },
     "execution_count": 8,
     "metadata": {},
     "output_type": "execute_result"
    }
   ],
   "source": [
    "df.head()"
   ]
  },
  {
   "cell_type": "markdown",
   "metadata": {},
   "source": [
    "# 取月度收益率"
   ]
  },
  {
   "cell_type": "code",
   "execution_count": 332,
   "metadata": {},
   "outputs": [],
   "source": [
    "codes = ['CI005022.WI', 'CI005002.WI', 'CI005011.WI', 'CI005016.WI', 'CI005014.WI', 'CI005025.WI', 'CI005004.WI']"
   ]
  },
  {
   "cell_type": "code",
   "execution_count": 365,
   "metadata": {},
   "outputs": [],
   "source": [
    "mon_ret_df = df[codes].resample('Q').last().pct_change()"
   ]
  },
  {
   "cell_type": "markdown",
   "metadata": {},
   "source": [
    "# 相对于万得全A的超额收益"
   ]
  },
  {
   "cell_type": "code",
   "execution_count": 366,
   "metadata": {},
   "outputs": [],
   "source": [
    "acc_ret_df = mon_ret_df.subtract(wdf['close'].resample('Q').last().pct_change(), axis='index')"
   ]
  },
  {
   "cell_type": "code",
   "execution_count": 367,
   "metadata": {},
   "outputs": [],
   "source": [
    "acc_ret_df = acc_ret_df.dropna()"
   ]
  },
  {
   "cell_type": "code",
   "execution_count": 368,
   "metadata": {},
   "outputs": [
    {
     "data": {
      "text/html": [
       "<div>\n",
       "<style scoped>\n",
       "    .dataframe tbody tr th:only-of-type {\n",
       "        vertical-align: middle;\n",
       "    }\n",
       "\n",
       "    .dataframe tbody tr th {\n",
       "        vertical-align: top;\n",
       "    }\n",
       "\n",
       "    .dataframe thead th {\n",
       "        text-align: right;\n",
       "    }\n",
       "</style>\n",
       "<table border=\"1\" class=\"dataframe\">\n",
       "  <thead>\n",
       "    <tr style=\"text-align: right;\">\n",
       "      <th></th>\n",
       "      <th>CI005022.WI</th>\n",
       "      <th>CI005002.WI</th>\n",
       "      <th>CI005011.WI</th>\n",
       "      <th>CI005016.WI</th>\n",
       "      <th>CI005014.WI</th>\n",
       "      <th>CI005025.WI</th>\n",
       "      <th>CI005004.WI</th>\n",
       "    </tr>\n",
       "  </thead>\n",
       "  <tbody>\n",
       "    <tr>\n",
       "      <th>2005-03-31</th>\n",
       "      <td>-0.140639</td>\n",
       "      <td>0.000280</td>\n",
       "      <td>-0.066973</td>\n",
       "      <td>-0.010346</td>\n",
       "      <td>0.021441</td>\n",
       "      <td>0.021693</td>\n",
       "      <td>-0.015631</td>\n",
       "    </tr>\n",
       "    <tr>\n",
       "      <th>2005-06-30</th>\n",
       "      <td>0.212172</td>\n",
       "      <td>-0.096174</td>\n",
       "      <td>0.003337</td>\n",
       "      <td>0.029709</td>\n",
       "      <td>0.039062</td>\n",
       "      <td>0.009436</td>\n",
       "      <td>0.063931</td>\n",
       "    </tr>\n",
       "    <tr>\n",
       "      <th>2005-09-30</th>\n",
       "      <td>-0.118344</td>\n",
       "      <td>-0.061134</td>\n",
       "      <td>0.091453</td>\n",
       "      <td>-0.075987</td>\n",
       "      <td>0.022433</td>\n",
       "      <td>0.028168</td>\n",
       "      <td>-0.063492</td>\n",
       "    </tr>\n",
       "    <tr>\n",
       "      <th>2005-12-31</th>\n",
       "      <td>0.013748</td>\n",
       "      <td>-0.095053</td>\n",
       "      <td>-0.003840</td>\n",
       "      <td>0.009779</td>\n",
       "      <td>-0.016425</td>\n",
       "      <td>-0.058006</td>\n",
       "      <td>-0.059738</td>\n",
       "    </tr>\n",
       "    <tr>\n",
       "      <th>2006-03-31</th>\n",
       "      <td>0.231629</td>\n",
       "      <td>0.002962</td>\n",
       "      <td>-0.026096</td>\n",
       "      <td>-0.075144</td>\n",
       "      <td>-0.014267</td>\n",
       "      <td>-0.117401</td>\n",
       "      <td>-0.153115</td>\n",
       "    </tr>\n",
       "  </tbody>\n",
       "</table>\n",
       "</div>"
      ],
      "text/plain": [
       "            CI005022.WI  CI005002.WI  CI005011.WI  CI005016.WI  CI005014.WI  \\\n",
       "2005-03-31    -0.140639     0.000280    -0.066973    -0.010346     0.021441   \n",
       "2005-06-30     0.212172    -0.096174     0.003337     0.029709     0.039062   \n",
       "2005-09-30    -0.118344    -0.061134     0.091453    -0.075987     0.022433   \n",
       "2005-12-31     0.013748    -0.095053    -0.003840     0.009779    -0.016425   \n",
       "2006-03-31     0.231629     0.002962    -0.026096    -0.075144    -0.014267   \n",
       "\n",
       "            CI005025.WI  CI005004.WI  \n",
       "2005-03-31     0.021693    -0.015631  \n",
       "2005-06-30     0.009436     0.063931  \n",
       "2005-09-30     0.028168    -0.063492  \n",
       "2005-12-31    -0.058006    -0.059738  \n",
       "2006-03-31    -0.117401    -0.153115  "
      ]
     },
     "execution_count": 368,
     "metadata": {},
     "output_type": "execute_result"
    }
   ],
   "source": [
    "acc_ret_df.head()"
   ]
  },
  {
   "cell_type": "code",
   "execution_count": 369,
   "metadata": {},
   "outputs": [
    {
     "data": {
      "text/plain": [
       "<matplotlib.legend.Legend at 0x1d36cf98>"
      ]
     },
     "execution_count": 369,
     "metadata": {},
     "output_type": "execute_result"
    },
    {
     "data": {
      "image/png": "[encoded data removed]",
      "text/plain": [
       "<matplotlib.figure.Figure at 0x1d2e53c8>"
      ]
     },
     "metadata": {},
     "output_type": "display_data"
    }
   ],
   "source": [
    "plt.figure(figsize=(16, 9))\n",
    "(1+acc_ret_df['CI005016.WI']).cumprod().plot(label=u'家电')\n",
    "plt.legend()"
   ]
  },
  {
   "cell_type": "markdown",
   "metadata": {},
   "source": [
    "# 转移概率矩阵的计算"
   ]
  },
  {
   "cell_type": "code",
   "execution_count": 370,
   "metadata": {},
   "outputs": [],
   "source": [
    "def transition_matrix(labels, n):\n",
    "    M = [[0]*n for _ in range(n)]\n",
    "    for (i,j) in zip(labels, labels[1:]):\n",
    "        M[i][j] += 1\n",
    "    for row in M:\n",
    "        m = sum(row)\n",
    "        if m > 0:\n",
    "            row[:] = [x*1./m for x in row]\n",
    "    Mdf = pd.DataFrame(M, index=range(n), columns=range(n))\n",
    "    return Mdf"
   ]
  },
  {
   "cell_type": "code",
   "execution_count": 371,
   "metadata": {},
   "outputs": [
    {
     "data": {
      "text/plain": [
       "AffinityPropagation(affinity='euclidean', convergence_iter=15, copy=True,\n",
       "          damping=0.5, max_iter=200, preference=None, verbose=False)"
      ]
     },
     "execution_count": 371,
     "metadata": {},
     "output_type": "execute_result"
    }
   ],
   "source": [
    "affprop = sklearn.cluster.AffinityPropagation()\n",
    "affprop.fit(acc_ret_df.rank(pct=True, axis=1))"
   ]
  },
  {
   "cell_type": "code",
   "execution_count": 372,
   "metadata": {},
   "outputs": [
    {
     "data": {
      "text/plain": [
       "array([0, 1, 5, 7, 3, 1, 4, 3, 2, 3, 3, 4, 4, 3, 1, 4, 6, 3, 2, 0, 5, 5, 5,\n",
       "       6, 3, 3, 0, 1, 7, 1, 6, 7, 5, 4, 5, 7, 4, 7, 5, 1, 4, 2, 5, 4, 7, 6,\n",
       "       3, 3, 6, 7, 6, 7, 0], dtype=int64)"
      ]
     },
     "execution_count": 372,
     "metadata": {},
     "output_type": "execute_result"
    }
   ],
   "source": [
    "affprop.labels_"
   ]
  },
  {
   "cell_type": "code",
   "execution_count": 373,
   "metadata": {},
   "outputs": [],
   "source": [
    "tran = transition_matrix(affprop.labels_, affprop.labels_.max()+1)"
   ]
  },
  {
   "cell_type": "code",
   "execution_count": 374,
   "metadata": {},
   "outputs": [
    {
     "data": {
      "text/html": [
       "<div>\n",
       "<style scoped>\n",
       "    .dataframe tbody tr th:only-of-type {\n",
       "        vertical-align: middle;\n",
       "    }\n",
       "\n",
       "    .dataframe tbody tr th {\n",
       "        vertical-align: top;\n",
       "    }\n",
       "\n",
       "    .dataframe thead th {\n",
       "        text-align: right;\n",
       "    }\n",
       "</style>\n",
       "<table border=\"1\" class=\"dataframe\">\n",
       "  <thead>\n",
       "    <tr style=\"text-align: right;\">\n",
       "      <th></th>\n",
       "      <th>0</th>\n",
       "      <th>1</th>\n",
       "      <th>2</th>\n",
       "      <th>3</th>\n",
       "      <th>4</th>\n",
       "      <th>5</th>\n",
       "      <th>6</th>\n",
       "      <th>7</th>\n",
       "    </tr>\n",
       "  </thead>\n",
       "  <tbody>\n",
       "    <tr>\n",
       "      <th>0</th>\n",
       "      <td>0.000000</td>\n",
       "      <td>0.666667</td>\n",
       "      <td>0.000</td>\n",
       "      <td>0.000000</td>\n",
       "      <td>0.000</td>\n",
       "      <td>0.333333</td>\n",
       "      <td>0.000000</td>\n",
       "      <td>0.000000</td>\n",
       "    </tr>\n",
       "    <tr>\n",
       "      <th>1</th>\n",
       "      <td>0.000000</td>\n",
       "      <td>0.000000</td>\n",
       "      <td>0.000</td>\n",
       "      <td>0.000000</td>\n",
       "      <td>0.500</td>\n",
       "      <td>0.166667</td>\n",
       "      <td>0.166667</td>\n",
       "      <td>0.166667</td>\n",
       "    </tr>\n",
       "    <tr>\n",
       "      <th>2</th>\n",
       "      <td>0.333333</td>\n",
       "      <td>0.000000</td>\n",
       "      <td>0.000</td>\n",
       "      <td>0.333333</td>\n",
       "      <td>0.000</td>\n",
       "      <td>0.333333</td>\n",
       "      <td>0.000000</td>\n",
       "      <td>0.000000</td>\n",
       "    </tr>\n",
       "    <tr>\n",
       "      <th>3</th>\n",
       "      <td>0.100000</td>\n",
       "      <td>0.200000</td>\n",
       "      <td>0.200</td>\n",
       "      <td>0.300000</td>\n",
       "      <td>0.100</td>\n",
       "      <td>0.000000</td>\n",
       "      <td>0.100000</td>\n",
       "      <td>0.000000</td>\n",
       "    </tr>\n",
       "    <tr>\n",
       "      <th>4</th>\n",
       "      <td>0.000000</td>\n",
       "      <td>0.000000</td>\n",
       "      <td>0.125</td>\n",
       "      <td>0.250000</td>\n",
       "      <td>0.125</td>\n",
       "      <td>0.125000</td>\n",
       "      <td>0.125000</td>\n",
       "      <td>0.250000</td>\n",
       "    </tr>\n",
       "    <tr>\n",
       "      <th>5</th>\n",
       "      <td>0.000000</td>\n",
       "      <td>0.125000</td>\n",
       "      <td>0.000</td>\n",
       "      <td>0.000000</td>\n",
       "      <td>0.250</td>\n",
       "      <td>0.250000</td>\n",
       "      <td>0.125000</td>\n",
       "      <td>0.250000</td>\n",
       "    </tr>\n",
       "    <tr>\n",
       "      <th>6</th>\n",
       "      <td>0.000000</td>\n",
       "      <td>0.000000</td>\n",
       "      <td>0.000</td>\n",
       "      <td>0.500000</td>\n",
       "      <td>0.000</td>\n",
       "      <td>0.000000</td>\n",
       "      <td>0.000000</td>\n",
       "      <td>0.500000</td>\n",
       "    </tr>\n",
       "    <tr>\n",
       "      <th>7</th>\n",
       "      <td>0.125000</td>\n",
       "      <td>0.125000</td>\n",
       "      <td>0.000</td>\n",
       "      <td>0.125000</td>\n",
       "      <td>0.125</td>\n",
       "      <td>0.250000</td>\n",
       "      <td>0.250000</td>\n",
       "      <td>0.000000</td>\n",
       "    </tr>\n",
       "  </tbody>\n",
       "</table>\n",
       "</div>"
      ],
      "text/plain": [
       "          0         1      2         3      4         5         6         7\n",
       "0  0.000000  0.666667  0.000  0.000000  0.000  0.333333  0.000000  0.000000\n",
       "1  0.000000  0.000000  0.000  0.000000  0.500  0.166667  0.166667  0.166667\n",
       "2  0.333333  0.000000  0.000  0.333333  0.000  0.333333  0.000000  0.000000\n",
       "3  0.100000  0.200000  0.200  0.300000  0.100  0.000000  0.100000  0.000000\n",
       "4  0.000000  0.000000  0.125  0.250000  0.125  0.125000  0.125000  0.250000\n",
       "5  0.000000  0.125000  0.000  0.000000  0.250  0.250000  0.125000  0.250000\n",
       "6  0.000000  0.000000  0.000  0.500000  0.000  0.000000  0.000000  0.500000\n",
       "7  0.125000  0.125000  0.000  0.125000  0.125  0.250000  0.250000  0.000000"
      ]
     },
     "execution_count": 374,
     "metadata": {},
     "output_type": "execute_result"
    }
   ],
   "source": [
    "tran"
   ]
  },
  {
   "cell_type": "markdown",
   "metadata": {},
   "source": [
    "# 计算下期预期收益"
   ]
  },
  {
   "cell_type": "code",
   "execution_count": 375,
   "metadata": {},
   "outputs": [],
   "source": [
    "label = affprop.labels_[-1]\n",
    "prob = tran.loc[label].values\n",
    "pred = affprop.cluster_centers_.T.dot(prob)"
   ]
  },
  {
   "cell_type": "code",
   "execution_count": 376,
   "metadata": {},
   "outputs": [
    {
     "data": {
      "text/plain": [
       "CI005004.WI    0.761905\n",
       "CI005014.WI    0.761905\n",
       "CI005022.WI    0.761905\n",
       "CI005025.WI    0.619048\n",
       "CI005016.WI    0.523810\n",
       "CI005011.WI    0.428571\n",
       "CI005002.WI    0.142857\n",
       "dtype: float64"
      ]
     },
     "execution_count": 376,
     "metadata": {},
     "output_type": "execute_result"
    }
   ],
   "source": [
    "pd.Series(pred, index=acc_ret_df.columns).sort_values(ascending=False)"
   ]
  },
  {
   "cell_type": "markdown",
   "metadata": {},
   "source": [
    "# 滚动计算历史预测"
   ]
  },
  {
   "cell_type": "code",
   "execution_count": 387,
   "metadata": {},
   "outputs": [],
   "source": [
    "W = 40\n",
    "pred_df = pd.DataFrame(index=acc_ret_df.index, columns=acc_ret_df.columns)\n",
    "for i, date in enumerate(acc_ret_df.index):\n",
    "    past_return = acc_ret_df[acc_ret_df.index <= date][-W:]\n",
    "    if past_return.shape[0] >= W:\n",
    "        past_return = past_return.rank(pct=True, axis=1)\n",
    "        affprop = sklearn.cluster.AffinityPropagation()\n",
    "        affprop.fit(past_return)\n",
    "        label = affprop.labels_[-1]\n",
    "        tran = transition_matrix(affprop.labels_, affprop.labels_.max()+1)\n",
    "        prob = tran.loc[label].values\n",
    "        pred = affprop.cluster_centers_.T.dot(prob)\n",
    "        pred_df.loc[date] = pred"
   ]
  },
  {
   "cell_type": "code",
   "execution_count": 388,
   "metadata": {},
   "outputs": [
    {
     "data": {
      "text/html": [
       "<div>\n",
       "<style scoped>\n",
       "    .dataframe tbody tr th:only-of-type {\n",
       "        vertical-align: middle;\n",
       "    }\n",
       "\n",
       "    .dataframe tbody tr th {\n",
       "        vertical-align: top;\n",
       "    }\n",
       "\n",
       "    .dataframe thead th {\n",
       "        text-align: right;\n",
       "    }\n",
       "</style>\n",
       "<table border=\"1\" class=\"dataframe\">\n",
       "  <thead>\n",
       "    <tr style=\"text-align: right;\">\n",
       "      <th></th>\n",
       "      <th>CI005022.WI</th>\n",
       "      <th>CI005002.WI</th>\n",
       "      <th>CI005011.WI</th>\n",
       "      <th>CI005016.WI</th>\n",
       "      <th>CI005014.WI</th>\n",
       "      <th>CI005025.WI</th>\n",
       "      <th>CI005004.WI</th>\n",
       "    </tr>\n",
       "  </thead>\n",
       "  <tbody>\n",
       "    <tr>\n",
       "      <th>2014-12-31</th>\n",
       "      <td>0.607143</td>\n",
       "      <td>0.428571</td>\n",
       "      <td>0.642857</td>\n",
       "      <td>0.678571</td>\n",
       "      <td>0.607143</td>\n",
       "      <td>0.464286</td>\n",
       "      <td>0.571429</td>\n",
       "    </tr>\n",
       "    <tr>\n",
       "      <th>2015-03-31</th>\n",
       "      <td>0.619048</td>\n",
       "      <td>0.5</td>\n",
       "      <td>0.559524</td>\n",
       "      <td>0.607143</td>\n",
       "      <td>0.547619</td>\n",
       "      <td>0.642857</td>\n",
       "      <td>0.52381</td>\n",
       "    </tr>\n",
       "    <tr>\n",
       "      <th>2015-06-30</th>\n",
       "      <td>0.809524</td>\n",
       "      <td>0.904762</td>\n",
       "      <td>0.190476</td>\n",
       "      <td>0.52381</td>\n",
       "      <td>0.47619</td>\n",
       "      <td>0.619048</td>\n",
       "      <td>0.47619</td>\n",
       "    </tr>\n",
       "    <tr>\n",
       "      <th>2015-09-30</th>\n",
       "      <td>0.583333</td>\n",
       "      <td>0.452381</td>\n",
       "      <td>0.607143</td>\n",
       "      <td>0.583333</td>\n",
       "      <td>0.630952</td>\n",
       "      <td>0.607143</td>\n",
       "      <td>0.535714</td>\n",
       "    </tr>\n",
       "    <tr>\n",
       "      <th>2015-12-31</th>\n",
       "      <td>0.571429</td>\n",
       "      <td>0.535714</td>\n",
       "      <td>0.535714</td>\n",
       "      <td>0.589286</td>\n",
       "      <td>0.625</td>\n",
       "      <td>0.607143</td>\n",
       "      <td>0.535714</td>\n",
       "    </tr>\n",
       "  </tbody>\n",
       "</table>\n",
       "</div>"
      ],
      "text/plain": [
       "           CI005022.WI CI005002.WI CI005011.WI CI005016.WI CI005014.WI  \\\n",
       "2014-12-31    0.607143    0.428571    0.642857    0.678571    0.607143   \n",
       "2015-03-31    0.619048         0.5    0.559524    0.607143    0.547619   \n",
       "2015-06-30    0.809524    0.904762    0.190476     0.52381     0.47619   \n",
       "2015-09-30    0.583333    0.452381    0.607143    0.583333    0.630952   \n",
       "2015-12-31    0.571429    0.535714    0.535714    0.589286       0.625   \n",
       "\n",
       "           CI005025.WI CI005004.WI  \n",
       "2014-12-31    0.464286    0.571429  \n",
       "2015-03-31    0.642857     0.52381  \n",
       "2015-06-30    0.619048     0.47619  \n",
       "2015-09-30    0.607143    0.535714  \n",
       "2015-12-31    0.607143    0.535714  "
      ]
     },
     "execution_count": 388,
     "metadata": {},
     "output_type": "execute_result"
    }
   ],
   "source": [
    "pred_df.dropna().head()"
   ]
  },
  {
   "cell_type": "code",
   "execution_count": 389,
   "metadata": {},
   "outputs": [
    {
     "data": {
      "text/plain": [
       "CI005025.WI    0.857143\n",
       "CI005016.WI    0.666667\n",
       "CI005011.WI    0.571429\n",
       "CI005004.WI    0.547619\n",
       "CI005022.WI     0.52381\n",
       "CI005014.WI     0.47619\n",
       "CI005002.WI    0.357143\n",
       "Name: 2018-03-31 00:00:00, dtype: object"
      ]
     },
     "execution_count": 389,
     "metadata": {},
     "output_type": "execute_result"
    }
   ],
   "source": [
    "pred_df.iloc[-1].sort_values(ascending=False)"
   ]
  },
  {
   "cell_type": "markdown",
   "metadata": {},
   "source": [
    "# 验证预测因子"
   ]
  },
  {
   "cell_type": "code",
   "execution_count": 390,
   "metadata": {},
   "outputs": [],
   "source": [
    "pred_df = pred_df.dropna()\n",
    "pricing = df[df.index >= pred_df.index[0]].resample('M').last()"
   ]
  },
  {
   "cell_type": "code",
   "execution_count": 391,
   "metadata": {},
   "outputs": [],
   "source": [
    "factor_df = pred_df.stack()\n",
    "factor_df.index = factor_df.index.set_names(['date', 'asset'])"
   ]
  },
  {
   "cell_type": "code",
   "execution_count": 392,
   "metadata": {},
   "outputs": [
    {
     "name": "stdout",
     "output_type": "stream",
     "text": [
      "Dropped 14.3% entries from factor data (7.1% after in forward returns computation and 7.1% in binning phase). Set max_loss=0 to see potentially suppressed Exceptions.\n"
     ]
    }
   ],
   "source": [
    "factor_data = alphalens.utils.get_clean_factor_and_forward_returns(factor_df, pricing, quantiles=5, periods=(1,2,3))"
   ]
  },
  {
   "cell_type": "code",
   "execution_count": 393,
   "metadata": {},
   "outputs": [],
   "source": [
    "mean_return_by_q, std_err_by_q = alphalens.performance.mean_return_by_quantile(factor_data, by_group=False)"
   ]
  },
  {
   "cell_type": "code",
   "execution_count": 394,
   "metadata": {},
   "outputs": [
    {
     "data": {
      "text/plain": [
       "<matplotlib.axes._subplots.AxesSubplot at 0x1e912518>"
      ]
     },
     "execution_count": 394,
     "metadata": {},
     "output_type": "execute_result"
    },
    {
     "data": {
      "image/png": "[encoded data removed]",
      "text/plain": [
       "<matplotlib.figure.Figure at 0x1e9435f8>"
      ]
     },
     "metadata": {},
     "output_type": "display_data"
    }
   ],
   "source": [
    "alphalens.plotting.plot_quantile_returns_bar(mean_return_by_q)"
   ]
  },
  {
   "cell_type": "code",
   "execution_count": 395,
   "metadata": {},
   "outputs": [],
   "source": [
    "mean_return_by_q_daily, std_err = alphalens.performance.mean_return_by_quantile(factor_data, by_date=True)"
   ]
  },
  {
   "cell_type": "code",
   "execution_count": 396,
   "metadata": {},
   "outputs": [
    {
     "data": {
      "text/plain": [
       "<matplotlib.axes._subplots.AxesSubplot at 0x1ea38550>"
      ]
     },
     "execution_count": 396,
     "metadata": {},
     "output_type": "execute_result"
    },
    {
     "data": {
      "image/png": "[encoded data removed]",
      "text/plain": [
       "<matplotlib.figure.Figure at 0x1ebeadd8>"
      ]
     },
     "metadata": {},
     "output_type": "display_data"
    }
   ],
   "source": [
    "alphalens.plotting.plot_cumulative_returns_by_quantile(mean_return_by_q_daily, period=3)"
   ]
  },
  {
   "cell_type": "markdown",
   "metadata": {},
   "source": [
    "# 计算各行业每次预测在行业排名前10名的准确率"
   ]
  },
  {
   "cell_type": "code",
   "execution_count": 312,
   "metadata": {},
   "outputs": [],
   "source": [
    "ydf = df.resample('M').last().pct_change()"
   ]
  },
  {
   "cell_type": "code",
   "execution_count": 313,
   "metadata": {},
   "outputs": [],
   "source": [
    "ydf = ydf.rank(ascending=False, axis=1)"
   ]
  },
  {
   "cell_type": "code",
   "execution_count": 314,
   "metadata": {},
   "outputs": [],
   "source": [
    "ydf[ydf <= 10] = 1\n",
    "ydf[ydf > 10] = 0"
   ]
  },
  {
   "cell_type": "code",
   "execution_count": 315,
   "metadata": {},
   "outputs": [],
   "source": [
    "pred_y = pred_df.rank(ascending=False, axis=1)"
   ]
  },
  {
   "cell_type": "code",
   "execution_count": 316,
   "metadata": {},
   "outputs": [],
   "source": [
    "pred_y[pred_y <= 10] = 1\n",
    "pred_y[pred_y > 10] = 0"
   ]
  },
  {
   "cell_type": "code",
   "execution_count": 317,
   "metadata": {},
   "outputs": [],
   "source": [
    "pred_y = pred_y.shift(1).dropna()"
   ]
  },
  {
   "cell_type": "code",
   "execution_count": 318,
   "metadata": {},
   "outputs": [],
   "source": [
    "ydf = ydf[ydf.index >= pred_y.index[0]]"
   ]
  },
  {
   "cell_type": "code",
   "execution_count": 319,
   "metadata": {},
   "outputs": [
    {
     "data": {
      "text/plain": [
       "CI005001.WI    0.555556\n",
       "CI005002.WI    0.585859\n",
       "CI005003.WI    0.616162\n",
       "CI005004.WI    0.585859\n",
       "CI005005.WI    0.656566\n",
       "CI005006.WI    0.575758\n",
       "CI005007.WI    0.646465\n",
       "CI005008.WI    0.616162\n",
       "CI005009.WI    0.616162\n",
       "CI005010.WI    0.606061\n",
       "CI005011.WI    0.575758\n",
       "CI005012.WI    0.606061\n",
       "CI005013.WI    0.474747\n",
       "CI005014.WI    0.616162\n",
       "CI005015.WI    0.414141\n",
       "CI005016.WI    0.494949\n",
       "CI005017.WI    0.585859\n",
       "CI005018.WI    0.515152\n",
       "CI005019.WI    0.494949\n",
       "CI005020.WI    0.545455\n",
       "CI005021.WI    0.545455\n",
       "CI005022.WI    0.505051\n",
       "CI005023.WI    0.494949\n",
       "CI005024.WI    0.676768\n",
       "CI005025.WI    0.444444\n",
       "CI005026.WI    0.474747\n",
       "CI005027.WI    0.454545\n",
       "CI005028.WI    0.646465\n",
       "CI005029.WI    0.585859\n",
       "dtype: float64"
      ]
     },
     "execution_count": 319,
     "metadata": {},
     "output_type": "execute_result"
    }
   ],
   "source": [
    "(ydf == pred_y).sum() / ydf.shape[0]"
   ]
  },
  {
   "cell_type": "code",
   "execution_count": 331,
   "metadata": {},
   "outputs": [
    {
     "data": {
      "text/plain": [
       "0.3484848484848484"
      ]
     },
     "execution_count": 331,
     "metadata": {},
     "output_type": "execute_result"
    }
   ],
   "source": [
    "((ydf * pred_y).sum(axis=1) / 10).mean()"
   ]
  },
  {
   "cell_type": "code",
   "execution_count": 320,
   "metadata": {},
   "outputs": [
    {
     "data": {
      "text/plain": [
       "0.5590386624869383"
      ]
     },
     "execution_count": 320,
     "metadata": {},
     "output_type": "execute_result"
    }
   ],
   "source": [
    "((ydf == pred_y).sum() / ydf.shape[0]).mean()"
   ]
  },
  {
   "cell_type": "code",
   "execution_count": null,
   "metadata": {},
   "outputs": [],
   "source": []
  },
  {
   "cell_type": "code",
   "execution_count": 321,
   "metadata": {},
   "outputs": [],
   "source": [
    "rdf = df.resample('M').last().pct_change()\n",
    "rdf = rdf[rdf.index >= pred_y.index[0]]"
   ]
  },
  {
   "cell_type": "code",
   "execution_count": 325,
   "metadata": {},
   "outputs": [
    {
     "data": {
      "text/plain": [
       "<matplotlib.axes._subplots.AxesSubplot at 0x1b58ef60>"
      ]
     },
     "execution_count": 325,
     "metadata": {},
     "output_type": "execute_result"
    },
    {
     "data": {
      "image/png": "[encoded data removed]",
      "text/plain": [
       "<matplotlib.figure.Figure at 0x1aa5ab00>"
      ]
     },
     "metadata": {},
     "output_type": "display_data"
    }
   ],
   "source": [
    "(1 + (rdf * pred_y).mean(axis=1)).cumprod().plot(figsize=(16, 9))"
   ]
  },
  {
   "cell_type": "code",
   "execution_count": null,
   "metadata": {},
   "outputs": [],
   "source": []
  }
 ],
 "metadata": {
  "kernelspec": {
   "display_name": "Python 2",
   "language": "python",
   "name": "python2"
  },
  "language_info": {
   "codemirror_mode": {
    "name": "ipython",
    "version": 2
   },
   "file_extension": ".py",
   "mimetype": "text/x-python",
   "name": "python",
   "nbconvert_exporter": "python",
   "pygments_lexer": "ipython2",
   "version": "2.7.14"
  }
 },
 "nbformat": 4,
 "nbformat_minor": 2
}
