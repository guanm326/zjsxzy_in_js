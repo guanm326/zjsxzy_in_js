{
 "cells": [
  {
   "cell_type": "code",
   "execution_count": 1,
   "metadata": {},
   "outputs": [
    {
     "name": "stderr",
     "output_type": "stream",
     "text": [
      "C:\\Users\\zhangyang01\\AppData\\Local\\Continuum\\anaconda2\\lib\\site-packages\\statsmodels\\compat\\pandas.py:56: FutureWarning: The pandas.core.datetools module is deprecated and will be removed in a future version. Please use the pandas.tseries module instead.\n",
      "  from pandas.core import datetools\n"
     ]
    }
   ],
   "source": [
    "import os\n",
    "import pandas as pd\n",
    "import matplotlib.pyplot as plt\n",
    "import sklearn.cluster\n",
    "import alphalens\n",
    "%matplotlib inline"
   ]
  },
  {
   "cell_type": "code",
   "execution_count": 2,
   "metadata": {},
   "outputs": [],
   "source": [
    "DATA_DIR = 'D:/Data/index/'"
   ]
  },
  {
   "cell_type": "code",
   "execution_count": 10,
   "metadata": {},
   "outputs": [],
   "source": [
    "fname = '%s/881001.WI.xlsx'%(DATA_DIR)\n",
    "wdf = pd.read_excel(fname)"
   ]
  },
  {
   "cell_type": "code",
   "execution_count": 4,
   "metadata": {},
   "outputs": [],
   "source": [
    "files = [f for f in os.listdir(DATA_DIR) if f.startswith('CI')]"
   ]
  },
  {
   "cell_type": "code",
   "execution_count": 5,
   "metadata": {},
   "outputs": [],
   "source": [
    "dic = {}\n",
    "for f in files:\n",
    "    fname = '%s/%s'%(DATA_DIR, f)\n",
    "    temp = pd.read_excel(fname)\n",
    "    dic[f.rstrip('.xlsx')] = temp['close']\n",
    "df = pd.DataFrame(dic)"
   ]
  },
  {
   "cell_type": "code",
   "execution_count": 7,
   "metadata": {},
   "outputs": [],
   "source": [
    "df = df.dropna()"
   ]
  },
  {
   "cell_type": "code",
   "execution_count": 8,
   "metadata": {},
   "outputs": [
    {
     "data": {
      "text/html": [
       "<div>\n",
       "<style scoped>\n",
       "    .dataframe tbody tr th:only-of-type {\n",
       "        vertical-align: middle;\n",
       "    }\n",
       "\n",
       "    .dataframe tbody tr th {\n",
       "        vertical-align: top;\n",
       "    }\n",
       "\n",
       "    .dataframe thead th {\n",
       "        text-align: right;\n",
       "    }\n",
       "</style>\n",
       "<table border=\"1\" class=\"dataframe\">\n",
       "  <thead>\n",
       "    <tr style=\"text-align: right;\">\n",
       "      <th></th>\n",
       "      <th>CI005001.WI</th>\n",
       "      <th>CI005002.WI</th>\n",
       "      <th>CI005003.WI</th>\n",
       "      <th>CI005004.WI</th>\n",
       "      <th>CI005005.WI</th>\n",
       "      <th>CI005006.WI</th>\n",
       "      <th>CI005007.WI</th>\n",
       "      <th>CI005008.WI</th>\n",
       "      <th>CI005009.WI</th>\n",
       "      <th>CI005010.WI</th>\n",
       "      <th>...</th>\n",
       "      <th>CI005020.WI</th>\n",
       "      <th>CI005021.WI</th>\n",
       "      <th>CI005022.WI</th>\n",
       "      <th>CI005023.WI</th>\n",
       "      <th>CI005024.WI</th>\n",
       "      <th>CI005025.WI</th>\n",
       "      <th>CI005026.WI</th>\n",
       "      <th>CI005027.WI</th>\n",
       "      <th>CI005028.WI</th>\n",
       "      <th>CI005029.WI</th>\n",
       "    </tr>\n",
       "  </thead>\n",
       "  <tbody>\n",
       "    <tr>\n",
       "      <th>2004-12-31</th>\n",
       "      <td>1000.0000</td>\n",
       "      <td>1000.0000</td>\n",
       "      <td>1000.0000</td>\n",
       "      <td>1000.0000</td>\n",
       "      <td>1000.0000</td>\n",
       "      <td>1000.0000</td>\n",
       "      <td>1000.0000</td>\n",
       "      <td>1000.0000</td>\n",
       "      <td>1000.0000</td>\n",
       "      <td>1000.0000</td>\n",
       "      <td>...</td>\n",
       "      <td>1000.0000</td>\n",
       "      <td>1000.0000</td>\n",
       "      <td>1000.0000</td>\n",
       "      <td>1000.0000</td>\n",
       "      <td>1000.0000</td>\n",
       "      <td>1000.0000</td>\n",
       "      <td>1000.0000</td>\n",
       "      <td>1000.0000</td>\n",
       "      <td>1000.0000</td>\n",
       "      <td>1000.0000</td>\n",
       "    </tr>\n",
       "    <tr>\n",
       "      <th>2005-01-04</th>\n",
       "      <td>972.6953</td>\n",
       "      <td>971.6588</td>\n",
       "      <td>974.9029</td>\n",
       "      <td>983.8077</td>\n",
       "      <td>976.2269</td>\n",
       "      <td>984.1301</td>\n",
       "      <td>985.7494</td>\n",
       "      <td>988.6503</td>\n",
       "      <td>984.3312</td>\n",
       "      <td>983.9793</td>\n",
       "      <td>...</td>\n",
       "      <td>990.2624</td>\n",
       "      <td>984.9190</td>\n",
       "      <td>971.4580</td>\n",
       "      <td>993.1926</td>\n",
       "      <td>986.6346</td>\n",
       "      <td>992.7887</td>\n",
       "      <td>989.8816</td>\n",
       "      <td>997.8527</td>\n",
       "      <td>1001.2205</td>\n",
       "      <td>997.1057</td>\n",
       "    </tr>\n",
       "    <tr>\n",
       "      <th>2005-01-05</th>\n",
       "      <td>972.4125</td>\n",
       "      <td>976.6908</td>\n",
       "      <td>988.5014</td>\n",
       "      <td>993.2399</td>\n",
       "      <td>983.7726</td>\n",
       "      <td>994.4515</td>\n",
       "      <td>1001.7736</td>\n",
       "      <td>1003.5723</td>\n",
       "      <td>997.8509</td>\n",
       "      <td>999.6678</td>\n",
       "      <td>...</td>\n",
       "      <td>1005.2765</td>\n",
       "      <td>975.7218</td>\n",
       "      <td>991.0295</td>\n",
       "      <td>1018.1711</td>\n",
       "      <td>996.0323</td>\n",
       "      <td>1009.8923</td>\n",
       "      <td>1005.5461</td>\n",
       "      <td>1026.2292</td>\n",
       "      <td>1040.0349</td>\n",
       "      <td>1019.9167</td>\n",
       "    </tr>\n",
       "    <tr>\n",
       "      <th>2005-01-06</th>\n",
       "      <td>953.4392</td>\n",
       "      <td>957.3087</td>\n",
       "      <td>965.2290</td>\n",
       "      <td>979.5781</td>\n",
       "      <td>969.9842</td>\n",
       "      <td>983.2128</td>\n",
       "      <td>993.2242</td>\n",
       "      <td>990.7411</td>\n",
       "      <td>994.4649</td>\n",
       "      <td>991.6098</td>\n",
       "      <td>...</td>\n",
       "      <td>994.1639</td>\n",
       "      <td>965.1899</td>\n",
       "      <td>992.4178</td>\n",
       "      <td>1017.2031</td>\n",
       "      <td>992.8979</td>\n",
       "      <td>1001.3624</td>\n",
       "      <td>989.5672</td>\n",
       "      <td>1024.9278</td>\n",
       "      <td>1039.1674</td>\n",
       "      <td>1013.4837</td>\n",
       "    </tr>\n",
       "    <tr>\n",
       "      <th>2005-01-07</th>\n",
       "      <td>954.5805</td>\n",
       "      <td>920.7459</td>\n",
       "      <td>963.1241</td>\n",
       "      <td>977.8708</td>\n",
       "      <td>969.1005</td>\n",
       "      <td>985.9675</td>\n",
       "      <td>1000.5584</td>\n",
       "      <td>994.2298</td>\n",
       "      <td>998.8018</td>\n",
       "      <td>990.2740</td>\n",
       "      <td>...</td>\n",
       "      <td>1001.1542</td>\n",
       "      <td>965.4274</td>\n",
       "      <td>1000.2445</td>\n",
       "      <td>1035.1659</td>\n",
       "      <td>991.2206</td>\n",
       "      <td>1018.5846</td>\n",
       "      <td>990.8038</td>\n",
       "      <td>1021.6451</td>\n",
       "      <td>1034.9097</td>\n",
       "      <td>1019.1937</td>\n",
       "    </tr>\n",
       "  </tbody>\n",
       "</table>\n",
       "<p>5 rows × 29 columns</p>\n",
       "</div>"
      ],
      "text/plain": [
       "            CI005001.WI  CI005002.WI  CI005003.WI  CI005004.WI  CI005005.WI  \\\n",
       "2004-12-31    1000.0000    1000.0000    1000.0000    1000.0000    1000.0000   \n",
       "2005-01-04     972.6953     971.6588     974.9029     983.8077     976.2269   \n",
       "2005-01-05     972.4125     976.6908     988.5014     993.2399     983.7726   \n",
       "2005-01-06     953.4392     957.3087     965.2290     979.5781     969.9842   \n",
       "2005-01-07     954.5805     920.7459     963.1241     977.8708     969.1005   \n",
       "\n",
       "            CI005006.WI  CI005007.WI  CI005008.WI  CI005009.WI  CI005010.WI  \\\n",
       "2004-12-31    1000.0000    1000.0000    1000.0000    1000.0000    1000.0000   \n",
       "2005-01-04     984.1301     985.7494     988.6503     984.3312     983.9793   \n",
       "2005-01-05     994.4515    1001.7736    1003.5723     997.8509     999.6678   \n",
       "2005-01-06     983.2128     993.2242     990.7411     994.4649     991.6098   \n",
       "2005-01-07     985.9675    1000.5584     994.2298     998.8018     990.2740   \n",
       "\n",
       "               ...       CI005020.WI  CI005021.WI  CI005022.WI  CI005023.WI  \\\n",
       "2004-12-31     ...         1000.0000    1000.0000    1000.0000    1000.0000   \n",
       "2005-01-04     ...          990.2624     984.9190     971.4580     993.1926   \n",
       "2005-01-05     ...         1005.2765     975.7218     991.0295    1018.1711   \n",
       "2005-01-06     ...          994.1639     965.1899     992.4178    1017.2031   \n",
       "2005-01-07     ...         1001.1542     965.4274    1000.2445    1035.1659   \n",
       "\n",
       "            CI005024.WI  CI005025.WI  CI005026.WI  CI005027.WI  CI005028.WI  \\\n",
       "2004-12-31    1000.0000    1000.0000    1000.0000    1000.0000    1000.0000   \n",
       "2005-01-04     986.6346     992.7887     989.8816     997.8527    1001.2205   \n",
       "2005-01-05     996.0323    1009.8923    1005.5461    1026.2292    1040.0349   \n",
       "2005-01-06     992.8979    1001.3624     989.5672    1024.9278    1039.1674   \n",
       "2005-01-07     991.2206    1018.5846     990.8038    1021.6451    1034.9097   \n",
       "\n",
       "            CI005029.WI  \n",
       "2004-12-31    1000.0000  \n",
       "2005-01-04     997.1057  \n",
       "2005-01-05    1019.9167  \n",
       "2005-01-06    1013.4837  \n",
       "2005-01-07    1019.1937  \n",
       "\n",
       "[5 rows x 29 columns]"
      ]
     },
     "execution_count": 8,
     "metadata": {},
     "output_type": "execute_result"
    }
   ],
   "source": [
    "df.head()"
   ]
  },
  {
   "cell_type": "markdown",
   "metadata": {},
   "source": [
    "# 取月度收益率"
   ]
  },
  {
   "cell_type": "code",
   "execution_count": 332,
   "metadata": {},
   "outputs": [],
   "source": [
    "codes = ['CI005022.WI', 'CI005002.WI', 'CI005011.WI', 'CI005016.WI', 'CI005014.WI', 'CI005025.WI', 'CI005004.WI']"
   ]
  },
  {
   "cell_type": "code",
   "execution_count": 333,
   "metadata": {},
   "outputs": [],
   "source": [
    "mon_ret_df = df[codes].resample('M').last().pct_change()"
   ]
  },
  {
   "cell_type": "markdown",
   "metadata": {},
   "source": [
    "# 相对于万得全A的超额收益"
   ]
  },
  {
   "cell_type": "code",
   "execution_count": 334,
   "metadata": {},
   "outputs": [],
   "source": [
    "acc_ret_df = mon_ret_df.subtract(wdf['close'].resample('M').last().pct_change(), axis='index')"
   ]
  },
  {
   "cell_type": "code",
   "execution_count": 335,
   "metadata": {},
   "outputs": [],
   "source": [
    "acc_ret_df = acc_ret_df.dropna()"
   ]
  },
  {
   "cell_type": "code",
   "execution_count": 336,
   "metadata": {},
   "outputs": [
    {
     "data": {
      "text/html": [
       "<div>\n",
       "<style scoped>\n",
       "    .dataframe tbody tr th:only-of-type {\n",
       "        vertical-align: middle;\n",
       "    }\n",
       "\n",
       "    .dataframe tbody tr th {\n",
       "        vertical-align: top;\n",
       "    }\n",
       "\n",
       "    .dataframe thead th {\n",
       "        text-align: right;\n",
       "    }\n",
       "</style>\n",
       "<table border=\"1\" class=\"dataframe\">\n",
       "  <thead>\n",
       "    <tr style=\"text-align: right;\">\n",
       "      <th></th>\n",
       "      <th>CI005022.WI</th>\n",
       "      <th>CI005002.WI</th>\n",
       "      <th>CI005011.WI</th>\n",
       "      <th>CI005016.WI</th>\n",
       "      <th>CI005014.WI</th>\n",
       "      <th>CI005025.WI</th>\n",
       "      <th>CI005004.WI</th>\n",
       "    </tr>\n",
       "  </thead>\n",
       "  <tbody>\n",
       "    <tr>\n",
       "      <th>2005-01-31</th>\n",
       "      <td>-0.085717</td>\n",
       "      <td>-0.029318</td>\n",
       "      <td>-0.052161</td>\n",
       "      <td>0.015466</td>\n",
       "      <td>0.022248</td>\n",
       "      <td>-0.017629</td>\n",
       "      <td>-0.022204</td>\n",
       "    </tr>\n",
       "    <tr>\n",
       "      <th>2005-02-28</th>\n",
       "      <td>0.023750</td>\n",
       "      <td>0.032500</td>\n",
       "      <td>0.035004</td>\n",
       "      <td>-0.000628</td>\n",
       "      <td>-0.010540</td>\n",
       "      <td>0.096699</td>\n",
       "      <td>-0.019405</td>\n",
       "    </tr>\n",
       "    <tr>\n",
       "      <th>2005-03-31</th>\n",
       "      <td>-0.078595</td>\n",
       "      <td>0.002704</td>\n",
       "      <td>-0.043496</td>\n",
       "      <td>-0.023917</td>\n",
       "      <td>0.008335</td>\n",
       "      <td>-0.036456</td>\n",
       "      <td>0.022166</td>\n",
       "    </tr>\n",
       "    <tr>\n",
       "      <th>2005-04-30</th>\n",
       "      <td>0.108894</td>\n",
       "      <td>0.050176</td>\n",
       "      <td>-0.047206</td>\n",
       "      <td>0.016275</td>\n",
       "      <td>0.006459</td>\n",
       "      <td>-0.085444</td>\n",
       "      <td>0.025183</td>\n",
       "    </tr>\n",
       "    <tr>\n",
       "      <th>2005-05-31</th>\n",
       "      <td>0.011977</td>\n",
       "      <td>-0.065609</td>\n",
       "      <td>0.017140</td>\n",
       "      <td>0.035980</td>\n",
       "      <td>0.019656</td>\n",
       "      <td>0.045843</td>\n",
       "      <td>0.002599</td>\n",
       "    </tr>\n",
       "  </tbody>\n",
       "</table>\n",
       "</div>"
      ],
      "text/plain": [
       "            CI005022.WI  CI005002.WI  CI005011.WI  CI005016.WI  CI005014.WI  \\\n",
       "2005-01-31    -0.085717    -0.029318    -0.052161     0.015466     0.022248   \n",
       "2005-02-28     0.023750     0.032500     0.035004    -0.000628    -0.010540   \n",
       "2005-03-31    -0.078595     0.002704    -0.043496    -0.023917     0.008335   \n",
       "2005-04-30     0.108894     0.050176    -0.047206     0.016275     0.006459   \n",
       "2005-05-31     0.011977    -0.065609     0.017140     0.035980     0.019656   \n",
       "\n",
       "            CI005025.WI  CI005004.WI  \n",
       "2005-01-31    -0.017629    -0.022204  \n",
       "2005-02-28     0.096699    -0.019405  \n",
       "2005-03-31    -0.036456     0.022166  \n",
       "2005-04-30    -0.085444     0.025183  \n",
       "2005-05-31     0.045843     0.002599  "
      ]
     },
     "execution_count": 336,
     "metadata": {},
     "output_type": "execute_result"
    }
   ],
   "source": [
    "acc_ret_df.head()"
   ]
  },
  {
   "cell_type": "code",
   "execution_count": 337,
   "metadata": {},
   "outputs": [
    {
     "data": {
      "text/plain": [
       "<matplotlib.legend.Legend at 0x1cc5e6d8>"
      ]
     },
     "execution_count": 337,
     "metadata": {},
     "output_type": "execute_result"
    },
    {
     "data": {
      "image/png": "[encoded data removed]",
      "text/plain": [
       "<matplotlib.figure.Figure at 0x1cd17d30>"
      ]
     },
     "metadata": {},
     "output_type": "display_data"
    }
   ],
   "source": [
    "plt.figure(figsize=(16, 9))\n",
    "(1+acc_ret_df['CI005016.WI']).cumprod().plot(label=u'家电')\n",
    "plt.legend()"
   ]
  },
  {
   "cell_type": "markdown",
   "metadata": {},
   "source": [
    "# 转移概率矩阵的计算"
   ]
  },
  {
   "cell_type": "code",
   "execution_count": 341,
   "metadata": {},
   "outputs": [],
   "source": [
    "def transition_matrix(labels, n):\n",
    "    M = [[0]*n for _ in range(n)]\n",
    "    for (i,j) in zip(labels, labels[1:]):\n",
    "        M[i][j] += 1\n",
    "    for row in M:\n",
    "        m = sum(row)\n",
    "        if m > 0:\n",
    "            row[:] = [x*1./m for x in row]\n",
    "    Mdf = pd.DataFrame(M, index=range(n), columns=range(n))\n",
    "    return Mdf"
   ]
  },
  {
   "cell_type": "code",
   "execution_count": 342,
   "metadata": {},
   "outputs": [
    {
     "data": {
      "text/plain": [
       "AffinityPropagation(affinity='euclidean', convergence_iter=15, copy=True,\n",
       "          damping=0.5, max_iter=200, preference=None, verbose=False)"
      ]
     },
     "execution_count": 342,
     "metadata": {},
     "output_type": "execute_result"
    }
   ],
   "source": [
    "affprop = sklearn.cluster.AffinityPropagation()\n",
    "affprop.fit(acc_ret_df.rank(pct=True, axis=1))"
   ]
  },
  {
   "cell_type": "code",
   "execution_count": 343,
   "metadata": {},
   "outputs": [
    {
     "data": {
      "text/plain": [
       "array([16,  5,  2, 12,  7,  0, 12,  7,  5, 11,  1, 14,  3,  2,  3,  3,  8,\n",
       "        1, 11,  5,  0,  2,  1, 12, 11,  4,  9,  2,  6,  3,  4, 12, 15,  1,\n",
       "        7, 16,  6, 17,  6, 12,  4, 12,  7,  9,  9,  9, 11, 13,  5, 16,  5,\n",
       "        6,  3, 12, 15, 16, 10, 14, 16,  8, 11, 16,  5,  4,  7,  8,  6,  7,\n",
       "        3, 15, 11, 14,  9,  7,  2, 12, 14, 14, 13, 13, 15,  0,  4,  1, 12,\n",
       "        7,  8, 12,  0,  0, 15, 17, 12, 17,  2,  3, 10, 17, 17, 10, 11,  7,\n",
       "        7, 13, 11,  9,  5, 10, 11, 13,  2,  8,  5, 17, 12, 17, 13,  1, 12,\n",
       "       12,  7,  8, 13,  4, 11,  2, 17,  2,  0, 11,  0, 10, 15,  4, 10,  6,\n",
       "        8,  7,  2, 12,  2, 12,  1, 13, 15,  7, 14,  9, 15, 14, 12,  0,  7,\n",
       "       10, 15, 16,  2, 17, 16], dtype=int64)"
      ]
     },
     "execution_count": 343,
     "metadata": {},
     "output_type": "execute_result"
    }
   ],
   "source": [
    "affprop.labels_"
   ]
  },
  {
   "cell_type": "code",
   "execution_count": 344,
   "metadata": {},
   "outputs": [],
   "source": [
    "tran = transition_matrix(affprop.labels_, affprop.labels_.max()+1)"
   ]
  },
  {
   "cell_type": "markdown",
   "metadata": {},
   "source": [
    "# 计算下期预期收益"
   ]
  },
  {
   "cell_type": "code",
   "execution_count": 345,
   "metadata": {},
   "outputs": [],
   "source": [
    "label = affprop.labels_[-1]\n",
    "prob = tran.loc[label].values\n",
    "pred = affprop.cluster_centers_.T.dot(prob)"
   ]
  },
  {
   "cell_type": "code",
   "execution_count": 346,
   "metadata": {},
   "outputs": [
    {
     "data": {
      "text/plain": [
       "CI005025.WI    0.714286\n",
       "CI005002.WI    0.632653\n",
       "CI005011.WI    0.632653\n",
       "CI005016.WI    0.591837\n",
       "CI005022.WI    0.591837\n",
       "CI005014.WI    0.551020\n",
       "CI005004.WI    0.285714\n",
       "dtype: float64"
      ]
     },
     "execution_count": 346,
     "metadata": {},
     "output_type": "execute_result"
    }
   ],
   "source": [
    "pd.Series(pred, index=acc_ret_df.columns).sort_values(ascending=False)"
   ]
  },
  {
   "cell_type": "markdown",
   "metadata": {},
   "source": [
    "# 滚动计算历史预测"
   ]
  },
  {
   "cell_type": "code",
   "execution_count": 357,
   "metadata": {},
   "outputs": [],
   "source": [
    "W = 72\n",
    "pred_df = pd.DataFrame(index=acc_ret_df.index, columns=acc_ret_df.columns)\n",
    "for i, date in enumerate(acc_ret_df.index):\n",
    "    past_return = acc_ret_df[acc_ret_df.index <= date][-W:]\n",
    "    if past_return.shape[0] >= W:\n",
    "        past_return = past_return.rank(pct=True, axis=1)\n",
    "        affprop = sklearn.cluster.AffinityPropagation()\n",
    "        affprop.fit(past_return)\n",
    "        label = affprop.labels_[-1]\n",
    "        tran = transition_matrix(affprop.labels_, affprop.labels_.max()+1)\n",
    "        prob = tran.loc[label].values\n",
    "        pred = affprop.cluster_centers_.T.dot(prob)\n",
    "        pred_df.loc[date] = pred"
   ]
  },
  {
   "cell_type": "code",
   "execution_count": 358,
   "metadata": {},
   "outputs": [
    {
     "data": {
      "text/html": [
       "<div>\n",
       "<style scoped>\n",
       "    .dataframe tbody tr th:only-of-type {\n",
       "        vertical-align: middle;\n",
       "    }\n",
       "\n",
       "    .dataframe tbody tr th {\n",
       "        vertical-align: top;\n",
       "    }\n",
       "\n",
       "    .dataframe thead th {\n",
       "        text-align: right;\n",
       "    }\n",
       "</style>\n",
       "<table border=\"1\" class=\"dataframe\">\n",
       "  <thead>\n",
       "    <tr style=\"text-align: right;\">\n",
       "      <th></th>\n",
       "      <th>CI005022.WI</th>\n",
       "      <th>CI005002.WI</th>\n",
       "      <th>CI005011.WI</th>\n",
       "      <th>CI005016.WI</th>\n",
       "      <th>CI005014.WI</th>\n",
       "      <th>CI005025.WI</th>\n",
       "      <th>CI005004.WI</th>\n",
       "    </tr>\n",
       "  </thead>\n",
       "  <tbody>\n",
       "    <tr>\n",
       "      <th>2010-12-31</th>\n",
       "      <td>0.321429</td>\n",
       "      <td>0.821429</td>\n",
       "      <td>0.607143</td>\n",
       "      <td>0.785714</td>\n",
       "      <td>0.535714</td>\n",
       "      <td>0.607143</td>\n",
       "      <td>0.321429</td>\n",
       "    </tr>\n",
       "    <tr>\n",
       "      <th>2011-01-31</th>\n",
       "      <td>0.547619</td>\n",
       "      <td>0.5</td>\n",
       "      <td>0.595238</td>\n",
       "      <td>0.738095</td>\n",
       "      <td>0.47619</td>\n",
       "      <td>0.547619</td>\n",
       "      <td>0.595238</td>\n",
       "    </tr>\n",
       "    <tr>\n",
       "      <th>2011-02-28</th>\n",
       "      <td>0.591837</td>\n",
       "      <td>0.5</td>\n",
       "      <td>0.561224</td>\n",
       "      <td>0.673469</td>\n",
       "      <td>0.571429</td>\n",
       "      <td>0.612245</td>\n",
       "      <td>0.489796</td>\n",
       "    </tr>\n",
       "    <tr>\n",
       "      <th>2011-03-31</th>\n",
       "      <td>0.528571</td>\n",
       "      <td>0.542857</td>\n",
       "      <td>0.628571</td>\n",
       "      <td>0.685714</td>\n",
       "      <td>0.528571</td>\n",
       "      <td>0.457143</td>\n",
       "      <td>0.628571</td>\n",
       "    </tr>\n",
       "    <tr>\n",
       "      <th>2011-04-30</th>\n",
       "      <td>0.678571</td>\n",
       "      <td>0.428571</td>\n",
       "      <td>0.5</td>\n",
       "      <td>0.785714</td>\n",
       "      <td>0.5</td>\n",
       "      <td>0.214286</td>\n",
       "      <td>0.892857</td>\n",
       "    </tr>\n",
       "  </tbody>\n",
       "</table>\n",
       "</div>"
      ],
      "text/plain": [
       "           CI005022.WI CI005002.WI CI005011.WI CI005016.WI CI005014.WI  \\\n",
       "2010-12-31    0.321429    0.821429    0.607143    0.785714    0.535714   \n",
       "2011-01-31    0.547619         0.5    0.595238    0.738095     0.47619   \n",
       "2011-02-28    0.591837         0.5    0.561224    0.673469    0.571429   \n",
       "2011-03-31    0.528571    0.542857    0.628571    0.685714    0.528571   \n",
       "2011-04-30    0.678571    0.428571         0.5    0.785714         0.5   \n",
       "\n",
       "           CI005025.WI CI005004.WI  \n",
       "2010-12-31    0.607143    0.321429  \n",
       "2011-01-31    0.547619    0.595238  \n",
       "2011-02-28    0.612245    0.489796  \n",
       "2011-03-31    0.457143    0.628571  \n",
       "2011-04-30    0.214286    0.892857  "
      ]
     },
     "execution_count": 358,
     "metadata": {},
     "output_type": "execute_result"
    }
   ],
   "source": [
    "pred_df.dropna().head()"
   ]
  },
  {
   "cell_type": "code",
   "execution_count": 359,
   "metadata": {},
   "outputs": [
    {
     "data": {
      "text/plain": [
       "CI005016.WI    0.809524\n",
       "CI005014.WI    0.619048\n",
       "CI005011.WI    0.571429\n",
       "CI005004.WI    0.547619\n",
       "CI005002.WI    0.547619\n",
       "CI005025.WI     0.52381\n",
       "CI005022.WI    0.380952\n",
       "Name: 2018-03-31 00:00:00, dtype: object"
      ]
     },
     "execution_count": 359,
     "metadata": {},
     "output_type": "execute_result"
    }
   ],
   "source": [
    "pred_df.iloc[-1].sort_values(ascending=False)"
   ]
  },
  {
   "cell_type": "markdown",
   "metadata": {},
   "source": [
    "# 验证预测因子"
   ]
  },
  {
   "cell_type": "code",
   "execution_count": 360,
   "metadata": {},
   "outputs": [],
   "source": [
    "pred_df = pred_df.dropna()\n",
    "pricing = df[df.index >= pred_df.index[0]].resample('M').last()"
   ]
  },
  {
   "cell_type": "code",
   "execution_count": 361,
   "metadata": {},
   "outputs": [],
   "source": [
    "factor_df = pred_df.stack()\n",
    "factor_df.index = factor_df.index.set_names(['date', 'asset'])"
   ]
  },
  {
   "cell_type": "code",
   "execution_count": 362,
   "metadata": {},
   "outputs": [
    {
     "name": "stdout",
     "output_type": "stream",
     "text": [
      "Dropped 8.0% entries from factor data (3.4% after in forward returns computation and 4.5% in binning phase). Set max_loss=0 to see potentially suppressed Exceptions.\n"
     ]
    }
   ],
   "source": [
    "factor_data = alphalens.utils.get_clean_factor_and_forward_returns(factor_df, pricing, quantiles=5, periods=(1,2,3))"
   ]
  },
  {
   "cell_type": "code",
   "execution_count": 363,
   "metadata": {},
   "outputs": [],
   "source": [
    "mean_return_by_q, std_err_by_q = alphalens.performance.mean_return_by_quantile(factor_data, by_group=False)"
   ]
  },
  {
   "cell_type": "code",
   "execution_count": 364,
   "metadata": {},
   "outputs": [
    {
     "data": {
      "text/plain": [
       "<matplotlib.axes._subplots.AxesSubplot at 0x1ce8c5f8>"
      ]
     },
     "execution_count": 364,
     "metadata": {},
     "output_type": "execute_result"
    },
    {
     "data": {
      "image/png": "[encoded data removed]",
      "text/plain": [
       "<matplotlib.figure.Figure at 0x1d1e2208>"
      ]
     },
     "metadata": {},
     "output_type": "display_data"
    }
   ],
   "source": [
    "alphalens.plotting.plot_quantile_returns_bar(mean_return_by_q)"
   ]
  },
  {
   "cell_type": "code",
   "execution_count": 355,
   "metadata": {},
   "outputs": [],
   "source": [
    "mean_return_by_q_daily, std_err = alphalens.performance.mean_return_by_quantile(factor_data, by_date=True)"
   ]
  },
  {
   "cell_type": "code",
   "execution_count": 356,
   "metadata": {},
   "outputs": [
    {
     "data": {
      "text/plain": [
       "<matplotlib.axes._subplots.AxesSubplot at 0x1ce0b0b8>"
      ]
     },
     "execution_count": 356,
     "metadata": {},
     "output_type": "execute_result"
    },
    {
     "data": {
      "image/png": "[encoded data removed]",
      "text/plain": [
       "<matplotlib.figure.Figure at 0x1b00b358>"
      ]
     },
     "metadata": {},
     "output_type": "display_data"
    }
   ],
   "source": [
    "alphalens.plotting.plot_cumulative_returns_by_quantile(mean_return_by_q_daily, period=3)"
   ]
  },
  {
   "cell_type": "markdown",
   "metadata": {},
   "source": [
    "# 计算各行业每次预测在行业排名前10名的准确率"
   ]
  },
  {
   "cell_type": "code",
   "execution_count": 312,
   "metadata": {},
   "outputs": [],
   "source": [
    "ydf = df.resample('M').last().pct_change()"
   ]
  },
  {
   "cell_type": "code",
   "execution_count": 313,
   "metadata": {},
   "outputs": [],
   "source": [
    "ydf = ydf.rank(ascending=False, axis=1)"
   ]
  },
  {
   "cell_type": "code",
   "execution_count": 314,
   "metadata": {},
   "outputs": [],
   "source": [
    "ydf[ydf <= 10] = 1\n",
    "ydf[ydf > 10] = 0"
   ]
  },
  {
   "cell_type": "code",
   "execution_count": 315,
   "metadata": {},
   "outputs": [],
   "source": [
    "pred_y = pred_df.rank(ascending=False, axis=1)"
   ]
  },
  {
   "cell_type": "code",
   "execution_count": 316,
   "metadata": {},
   "outputs": [],
   "source": [
    "pred_y[pred_y <= 10] = 1\n",
    "pred_y[pred_y > 10] = 0"
   ]
  },
  {
   "cell_type": "code",
   "execution_count": 317,
   "metadata": {},
   "outputs": [],
   "source": [
    "pred_y = pred_y.shift(1).dropna()"
   ]
  },
  {
   "cell_type": "code",
   "execution_count": 318,
   "metadata": {},
   "outputs": [],
   "source": [
    "ydf = ydf[ydf.index >= pred_y.index[0]]"
   ]
  },
  {
   "cell_type": "code",
   "execution_count": 319,
   "metadata": {},
   "outputs": [
    {
     "data": {
      "text/plain": [
       "CI005001.WI    0.555556\n",
       "CI005002.WI    0.585859\n",
       "CI005003.WI    0.616162\n",
       "CI005004.WI    0.585859\n",
       "CI005005.WI    0.656566\n",
       "CI005006.WI    0.575758\n",
       "CI005007.WI    0.646465\n",
       "CI005008.WI    0.616162\n",
       "CI005009.WI    0.616162\n",
       "CI005010.WI    0.606061\n",
       "CI005011.WI    0.575758\n",
       "CI005012.WI    0.606061\n",
       "CI005013.WI    0.474747\n",
       "CI005014.WI    0.616162\n",
       "CI005015.WI    0.414141\n",
       "CI005016.WI    0.494949\n",
       "CI005017.WI    0.585859\n",
       "CI005018.WI    0.515152\n",
       "CI005019.WI    0.494949\n",
       "CI005020.WI    0.545455\n",
       "CI005021.WI    0.545455\n",
       "CI005022.WI    0.505051\n",
       "CI005023.WI    0.494949\n",
       "CI005024.WI    0.676768\n",
       "CI005025.WI    0.444444\n",
       "CI005026.WI    0.474747\n",
       "CI005027.WI    0.454545\n",
       "CI005028.WI    0.646465\n",
       "CI005029.WI    0.585859\n",
       "dtype: float64"
      ]
     },
     "execution_count": 319,
     "metadata": {},
     "output_type": "execute_result"
    }
   ],
   "source": [
    "(ydf == pred_y).sum() / ydf.shape[0]"
   ]
  },
  {
   "cell_type": "code",
   "execution_count": 331,
   "metadata": {},
   "outputs": [
    {
     "data": {
      "text/plain": [
       "0.3484848484848484"
      ]
     },
     "execution_count": 331,
     "metadata": {},
     "output_type": "execute_result"
    }
   ],
   "source": [
    "((ydf * pred_y).sum(axis=1) / 10).mean()"
   ]
  },
  {
   "cell_type": "code",
   "execution_count": 320,
   "metadata": {},
   "outputs": [
    {
     "data": {
      "text/plain": [
       "0.5590386624869383"
      ]
     },
     "execution_count": 320,
     "metadata": {},
     "output_type": "execute_result"
    }
   ],
   "source": [
    "((ydf == pred_y).sum() / ydf.shape[0]).mean()"
   ]
  },
  {
   "cell_type": "code",
   "execution_count": null,
   "metadata": {},
   "outputs": [],
   "source": []
  },
  {
   "cell_type": "code",
   "execution_count": 321,
   "metadata": {},
   "outputs": [],
   "source": [
    "rdf = df.resample('M').last().pct_change()\n",
    "rdf = rdf[rdf.index >= pred_y.index[0]]"
   ]
  },
  {
   "cell_type": "code",
   "execution_count": 325,
   "metadata": {},
   "outputs": [
    {
     "data": {
      "text/plain": [
       "<matplotlib.axes._subplots.AxesSubplot at 0x1b58ef60>"
      ]
     },
     "execution_count": 325,
     "metadata": {},
     "output_type": "execute_result"
    },
    {
     "data": {
      "image/png": "[encoded data removed]",
      "text/plain": [
       "<matplotlib.figure.Figure at 0x1aa5ab00>"
      ]
     },
     "metadata": {},
     "output_type": "display_data"
    }
   ],
   "source": [
    "(1 + (rdf * pred_y).mean(axis=1)).cumprod().plot(figsize=(16, 9))"
   ]
  },
  {
   "cell_type": "code",
   "execution_count": null,
   "metadata": {},
   "outputs": [],
   "source": []
  }
 ],
 "metadata": {
  "kernelspec": {
   "display_name": "Python 2",
   "language": "python",
   "name": "python2"
  },
  "language_info": {
   "codemirror_mode": {
    "name": "ipython",
    "version": 2
   },
   "file_extension": ".py",
   "mimetype": "text/x-python",
   "name": "python",
   "nbconvert_exporter": "python",
   "pygments_lexer": "ipython2",
   "version": "2.7.14"
  }
 },
 "nbformat": 4,
 "nbformat_minor": 2
}
