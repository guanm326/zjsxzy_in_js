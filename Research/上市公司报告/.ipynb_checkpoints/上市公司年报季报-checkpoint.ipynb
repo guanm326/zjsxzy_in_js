{
 "cells": [
  {
   "cell_type": "code",
   "execution_count": 1,
   "metadata": {},
   "outputs": [],
   "source": [
    "import pyodbc\n",
    "import pandas as pd"
   ]
  },
  {
   "cell_type": "code",
   "execution_count": 2,
   "metadata": {},
   "outputs": [],
   "source": [
    "conn = pyodbc.connect('DRIVER={SQL Server};SERVER=10.0.185.138;DATABASE=JYDB;UID=js_dev;PWD=js_dev')"
   ]
  },
  {
   "cell_type": "code",
   "execution_count": 3,
   "metadata": {},
   "outputs": [],
   "source": [
    "wind_code = '000002'"
   ]
  },
  {
   "cell_type": "code",
   "execution_count": 12,
   "metadata": {},
   "outputs": [],
   "source": [
    "query = 'SELECT comp.InfoPublDate, comp.InfoTitle, comp.Content \\\n",
    "         FROM LC_Announcement as comp, SecuMain as t \\\n",
    "         WHERE comp.CompanyCode = t.CompanyCode \\\n",
    "            AND t.SecuCode = \\'%s\\''%(wind_code)"
   ]
  },
  {
   "cell_type": "code",
   "execution_count": 13,
   "metadata": {},
   "outputs": [],
   "source": [
    "df = pd.read_sql_query(query, con=conn)"
   ]
  },
  {
   "cell_type": "code",
   "execution_count": 14,
   "metadata": {},
   "outputs": [
    {
     "data": {
      "text/html": [
       "<div>\n",
       "<style scoped>\n",
       "    .dataframe tbody tr th:only-of-type {\n",
       "        vertical-align: middle;\n",
       "    }\n",
       "\n",
       "    .dataframe tbody tr th {\n",
       "        vertical-align: top;\n",
       "    }\n",
       "\n",
       "    .dataframe thead th {\n",
       "        text-align: right;\n",
       "    }\n",
       "</style>\n",
       "<table border=\"1\" class=\"dataframe\">\n",
       "  <thead>\n",
       "    <tr style=\"text-align: right;\">\n",
       "      <th></th>\n",
       "      <th>InfoPublDate</th>\n",
       "      <th>InfoTitle</th>\n",
       "      <th>Content</th>\n",
       "    </tr>\n",
       "  </thead>\n",
       "  <tbody>\n",
       "    <tr>\n",
       "      <th>710</th>\n",
       "      <td>2017-08-25</td>\n",
       "      <td>万科Ａ2017年半年度报告摘要</td>\n",
       "      <td>证券代码：000002、299903 证券简称：万科 A、万科 H代 公告编号：〈万...</td>\n",
       "    </tr>\n",
       "    <tr>\n",
       "      <th>711</th>\n",
       "      <td>2017-09-01</td>\n",
       "      <td>万科Ａ2017年面向合格投资者公开发行公司债券（第二期）上市公告书</td>\n",
       "      <td>股票简称：万科 A、万科 H代 股票代码：000002、299903公告编号：〈万〉...</td>\n",
       "    </tr>\n",
       "    <tr>\n",
       "      <th>712</th>\n",
       "      <td>2017-10-27</td>\n",
       "      <td>万科Ａ：2017年第三季度报告全文</td>\n",
       "      <td>证券代码：000002、299903 证券简称：万科 A、万科 H 代 公告编号：〈...</td>\n",
       "    </tr>\n",
       "    <tr>\n",
       "      <th>713</th>\n",
       "      <td>2018-03-27</td>\n",
       "      <td>万科Ａ：2017年年度报告</td>\n",
       "      <td>万科企业股份有限公司\\n    CHINA VANKE CO. LTD.\\n    ...</td>\n",
       "    </tr>\n",
       "    <tr>\n",
       "      <th>714</th>\n",
       "      <td>2018-03-27</td>\n",
       "      <td>万科Ａ：2017年年度报告摘要</td>\n",
       "      <td>7 年度报告摘要\\n    证券代码：000002、299903 证券简称：万科 A...</td>\n",
       "    </tr>\n",
       "  </tbody>\n",
       "</table>\n",
       "</div>"
      ],
      "text/plain": [
       "    InfoPublDate                          InfoTitle  \\\n",
       "710   2017-08-25                    万科Ａ2017年半年度报告摘要   \n",
       "711   2017-09-01  万科Ａ2017年面向合格投资者公开发行公司债券（第二期）上市公告书   \n",
       "712   2017-10-27                  万科Ａ：2017年第三季度报告全文   \n",
       "713   2018-03-27                      万科Ａ：2017年年度报告   \n",
       "714   2018-03-27                    万科Ａ：2017年年度报告摘要   \n",
       "\n",
       "                                               Content  \n",
       "710      证券代码：000002、299903 证券简称：万科 A、万科 H代 公告编号：〈万...  \n",
       "711      股票简称：万科 A、万科 H代 股票代码：000002、299903公告编号：〈万〉...  \n",
       "712      证券代码：000002、299903 证券简称：万科 A、万科 H 代 公告编号：〈...  \n",
       "713      万科企业股份有限公司\\n    CHINA VANKE CO. LTD.\\n    ...  \n",
       "714      7 年度报告摘要\\n    证券代码：000002、299903 证券简称：万科 A...  "
      ]
     },
     "execution_count": 14,
     "metadata": {},
     "output_type": "execute_result"
    }
   ],
   "source": [
    "df.tail()"
   ]
  },
  {
   "cell_type": "code",
   "execution_count": 15,
   "metadata": {},
   "outputs": [],
   "source": [
    "content = df['Content'].iloc[-1]"
   ]
  },
  {
   "cell_type": "code",
   "execution_count": 17,
   "metadata": {},
   "outputs": [
    {
     "name": "stdout",
     "output_type": "stream",
     "text": [
      "-1\n"
     ]
    }
   ],
   "source": [
    "print content"
   ]
  },
  {
   "cell_type": "code",
   "execution_count": null,
   "metadata": {},
   "outputs": [],
   "source": []
  }
 ],
 "metadata": {
  "kernelspec": {
   "display_name": "Python 2",
   "language": "python",
   "name": "python2"
  },
  "language_info": {
   "codemirror_mode": {
    "name": "ipython",
    "version": 2
   },
   "file_extension": ".py",
   "mimetype": "text/x-python",
   "name": "python",
   "nbconvert_exporter": "python",
   "pygments_lexer": "ipython2",
   "version": "2.7.14"
  }
 },
 "nbformat": 4,
 "nbformat_minor": 2
}
