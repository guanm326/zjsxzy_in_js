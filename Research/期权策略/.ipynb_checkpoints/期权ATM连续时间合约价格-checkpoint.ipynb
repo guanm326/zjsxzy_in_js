{
 "cells": [
  {
   "cell_type": "code",
   "execution_count": 80,
   "metadata": {
    "collapsed": true
   },
   "outputs": [],
   "source": [
    "from WindPy import w\n",
    "import pandas as pd\n",
    "import numpy as np\n",
    "import matplotlib.pyplot as plt\n",
    "import datetime\n",
    "import calendar\n",
    "import seaborn as sns\n",
    "%matplotlib inline"
   ]
  },
  {
   "cell_type": "code",
   "execution_count": 81,
   "metadata": {
    "collapsed": true
   },
   "outputs": [],
   "source": [
    "DATA_DIR = u'D:/Data/derivatives/options'"
   ]
  },
  {
   "cell_type": "code",
   "execution_count": 82,
   "metadata": {
    "collapsed": false
   },
   "outputs": [
    {
     "data": {
      "text/plain": [
       ".ErrorCode=0\n",
       ".Data=[Already conntected!]"
      ]
     },
     "execution_count": 82,
     "metadata": {},
     "output_type": "execute_result"
    }
   ],
   "source": [
    "w.start()"
   ]
  },
  {
   "cell_type": "code",
   "execution_count": 83,
   "metadata": {
    "collapsed": true
   },
   "outputs": [],
   "source": [
    "def wind2df(raw_data):\n",
    "    dic = {}\n",
    "    for data, field in zip(raw_data.Data, raw_data.Fields):\n",
    "        dic[field.lower()] = data\n",
    "    if len(raw_data.Times) == len(raw_data.Data[0]):\n",
    "        return pd.DataFrame(dic, index=raw_data.Times)\n",
    "    else:\n",
    "        return pd.DataFrame(dic)"
   ]
  },
  {
   "cell_type": "markdown",
   "metadata": {},
   "source": [
    "# 获取所有期权合约列表"
   ]
  },
  {
   "cell_type": "code",
   "execution_count": 84,
   "metadata": {
    "collapsed": false
   },
   "outputs": [],
   "source": [
    "# raw_data = w.wset(\"optioncontractbasicinfo\",\"exchange=sse;windcode=510050.SH;status=all\")"
   ]
  },
  {
   "cell_type": "code",
   "execution_count": 85,
   "metadata": {
    "collapsed": true
   },
   "outputs": [],
   "source": [
    "# df = wind2df(raw_data)"
   ]
  },
  {
   "cell_type": "code",
   "execution_count": 86,
   "metadata": {
    "collapsed": false
   },
   "outputs": [],
   "source": [
    "# df = df.set_index('wind_code')"
   ]
  },
  {
   "cell_type": "code",
   "execution_count": 87,
   "metadata": {
    "collapsed": true
   },
   "outputs": [],
   "source": [
    "# df.to_excel(u'D:/Data/list/期权列表.xlsx')"
   ]
  },
  {
   "cell_type": "markdown",
   "metadata": {},
   "source": [
    "# 获取50ETF价格序列"
   ]
  },
  {
   "cell_type": "code",
   "execution_count": 88,
   "metadata": {
    "collapsed": true
   },
   "outputs": [],
   "source": [
    "start_date = '2015-02-09'\n",
    "end_date = '2017-10-20'"
   ]
  },
  {
   "cell_type": "code",
   "execution_count": 89,
   "metadata": {
    "collapsed": false
   },
   "outputs": [],
   "source": [
    "raw_data = w.wsd(\"510050.SH\", \"close\", start_date, end_date)"
   ]
  },
  {
   "cell_type": "code",
   "execution_count": 90,
   "metadata": {
    "collapsed": false
   },
   "outputs": [],
   "source": [
    "df = wind2df(raw_data)"
   ]
  },
  {
   "cell_type": "code",
   "execution_count": 91,
   "metadata": {
    "collapsed": false
   },
   "outputs": [],
   "source": [
    "df.columns = ['510050.SH']"
   ]
  },
  {
   "cell_type": "markdown",
   "metadata": {},
   "source": [
    "# 查找某个交易日的次月到期的ATM看跌期权价格"
   ]
  },
  {
   "cell_type": "code",
   "execution_count": 92,
   "metadata": {
    "collapsed": true
   },
   "outputs": [],
   "source": [
    "date = df.index[-1]"
   ]
  },
  {
   "cell_type": "code",
   "execution_count": 93,
   "metadata": {
    "collapsed": false
   },
   "outputs": [
    {
     "data": {
      "text/plain": [
       "datetime.date(2017, 10, 20)"
      ]
     },
     "execution_count": 93,
     "metadata": {},
     "output_type": "execute_result"
    }
   ],
   "source": [
    "date"
   ]
  },
  {
   "cell_type": "code",
   "execution_count": 94,
   "metadata": {
    "collapsed": false
   },
   "outputs": [],
   "source": [
    "opt_df = pd.read_excel(u'D:/Data/list/期权列表.xlsx', index_col=0)"
   ]
  },
  {
   "cell_type": "code",
   "execution_count": 95,
   "metadata": {
    "collapsed": false
   },
   "outputs": [],
   "source": [
    "opt_df = opt_df[opt_df['call_or_put'] == u'认沽']"
   ]
  },
  {
   "cell_type": "code",
   "execution_count": 96,
   "metadata": {
    "collapsed": false
   },
   "outputs": [
    {
     "data": {
      "text/html": [
       "<div>\n",
       "<style>\n",
       "    .dataframe thead tr:only-child th {\n",
       "        text-align: right;\n",
       "    }\n",
       "\n",
       "    .dataframe thead th {\n",
       "        text-align: left;\n",
       "    }\n",
       "\n",
       "    .dataframe tbody tr th {\n",
       "        vertical-align: top;\n",
       "    }\n",
       "</style>\n",
       "<table border=\"1\" class=\"dataframe\">\n",
       "  <thead>\n",
       "    <tr style=\"text-align: right;\">\n",
       "      <th></th>\n",
       "      <th>call_or_put</th>\n",
       "      <th>contract_state</th>\n",
       "      <th>contract_unit</th>\n",
       "      <th>exercise_date</th>\n",
       "      <th>exercise_mode</th>\n",
       "      <th>exercise_price</th>\n",
       "      <th>expire_date</th>\n",
       "      <th>limit_month</th>\n",
       "      <th>listed_date</th>\n",
       "      <th>option_mark_code</th>\n",
       "      <th>option_type</th>\n",
       "      <th>reference_price</th>\n",
       "      <th>sec_name</th>\n",
       "      <th>settle_mode</th>\n",
       "      <th>settlement_date</th>\n",
       "      <th>trade_code</th>\n",
       "    </tr>\n",
       "    <tr>\n",
       "      <th>wind_code</th>\n",
       "      <th></th>\n",
       "      <th></th>\n",
       "      <th></th>\n",
       "      <th></th>\n",
       "      <th></th>\n",
       "      <th></th>\n",
       "      <th></th>\n",
       "      <th></th>\n",
       "      <th></th>\n",
       "      <th></th>\n",
       "      <th></th>\n",
       "      <th></th>\n",
       "      <th></th>\n",
       "      <th></th>\n",
       "      <th></th>\n",
       "      <th></th>\n",
       "    </tr>\n",
       "  </thead>\n",
       "  <tbody>\n",
       "    <tr>\n",
       "      <th>10000006</th>\n",
       "      <td>认沽</td>\n",
       "      <td>退市</td>\n",
       "      <td>10000</td>\n",
       "      <td>2015-03-25</td>\n",
       "      <td>欧式</td>\n",
       "      <td>2.20</td>\n",
       "      <td>2015-03-25</td>\n",
       "      <td>2015-03</td>\n",
       "      <td>2015-02-09</td>\n",
       "      <td>510050.SH</td>\n",
       "      <td>ETF期权</td>\n",
       "      <td>0.0788</td>\n",
       "      <td>50ETF沽2015年3月2.20</td>\n",
       "      <td>实物资产</td>\n",
       "      <td>2015-03-26</td>\n",
       "      <td>510050P1503M02200</td>\n",
       "    </tr>\n",
       "    <tr>\n",
       "      <th>10000007</th>\n",
       "      <td>认沽</td>\n",
       "      <td>退市</td>\n",
       "      <td>10000</td>\n",
       "      <td>2015-03-25</td>\n",
       "      <td>欧式</td>\n",
       "      <td>2.25</td>\n",
       "      <td>2015-03-25</td>\n",
       "      <td>2015-03</td>\n",
       "      <td>2015-02-09</td>\n",
       "      <td>510050.SH</td>\n",
       "      <td>ETF期权</td>\n",
       "      <td>0.1001</td>\n",
       "      <td>50ETF沽2015年3月2.25</td>\n",
       "      <td>实物资产</td>\n",
       "      <td>2015-03-26</td>\n",
       "      <td>510050P1503M02250</td>\n",
       "    </tr>\n",
       "    <tr>\n",
       "      <th>10000008</th>\n",
       "      <td>认沽</td>\n",
       "      <td>退市</td>\n",
       "      <td>10000</td>\n",
       "      <td>2015-03-25</td>\n",
       "      <td>欧式</td>\n",
       "      <td>2.30</td>\n",
       "      <td>2015-03-25</td>\n",
       "      <td>2015-03</td>\n",
       "      <td>2015-02-09</td>\n",
       "      <td>510050.SH</td>\n",
       "      <td>ETF期权</td>\n",
       "      <td>0.1246</td>\n",
       "      <td>50ETF沽2015年3月2.30</td>\n",
       "      <td>实物资产</td>\n",
       "      <td>2015-03-26</td>\n",
       "      <td>510050P1503M02300</td>\n",
       "    </tr>\n",
       "    <tr>\n",
       "      <th>10000009</th>\n",
       "      <td>认沽</td>\n",
       "      <td>退市</td>\n",
       "      <td>10000</td>\n",
       "      <td>2015-03-25</td>\n",
       "      <td>欧式</td>\n",
       "      <td>2.35</td>\n",
       "      <td>2015-03-25</td>\n",
       "      <td>2015-03</td>\n",
       "      <td>2015-02-09</td>\n",
       "      <td>510050.SH</td>\n",
       "      <td>ETF期权</td>\n",
       "      <td>0.1522</td>\n",
       "      <td>50ETF沽2015年3月2.35</td>\n",
       "      <td>实物资产</td>\n",
       "      <td>2015-03-26</td>\n",
       "      <td>510050P1503M02350</td>\n",
       "    </tr>\n",
       "    <tr>\n",
       "      <th>10000010</th>\n",
       "      <td>认沽</td>\n",
       "      <td>退市</td>\n",
       "      <td>10000</td>\n",
       "      <td>2015-03-25</td>\n",
       "      <td>欧式</td>\n",
       "      <td>2.40</td>\n",
       "      <td>2015-03-25</td>\n",
       "      <td>2015-03</td>\n",
       "      <td>2015-02-09</td>\n",
       "      <td>510050.SH</td>\n",
       "      <td>ETF期权</td>\n",
       "      <td>0.1828</td>\n",
       "      <td>50ETF沽2015年3月2.40</td>\n",
       "      <td>实物资产</td>\n",
       "      <td>2015-03-26</td>\n",
       "      <td>510050P1503M02400</td>\n",
       "    </tr>\n",
       "  </tbody>\n",
       "</table>\n",
       "</div>"
      ],
      "text/plain": [
       "          call_or_put contract_state  contract_unit exercise_date  \\\n",
       "wind_code                                                           \n",
       "10000006           认沽             退市          10000    2015-03-25   \n",
       "10000007           认沽             退市          10000    2015-03-25   \n",
       "10000008           认沽             退市          10000    2015-03-25   \n",
       "10000009           认沽             退市          10000    2015-03-25   \n",
       "10000010           认沽             退市          10000    2015-03-25   \n",
       "\n",
       "          exercise_mode  exercise_price expire_date limit_month listed_date  \\\n",
       "wind_code                                                                     \n",
       "10000006             欧式            2.20  2015-03-25     2015-03  2015-02-09   \n",
       "10000007             欧式            2.25  2015-03-25     2015-03  2015-02-09   \n",
       "10000008             欧式            2.30  2015-03-25     2015-03  2015-02-09   \n",
       "10000009             欧式            2.35  2015-03-25     2015-03  2015-02-09   \n",
       "10000010             欧式            2.40  2015-03-25     2015-03  2015-02-09   \n",
       "\n",
       "          option_mark_code option_type  reference_price           sec_name  \\\n",
       "wind_code                                                                    \n",
       "10000006         510050.SH       ETF期权           0.0788  50ETF沽2015年3月2.20   \n",
       "10000007         510050.SH       ETF期权           0.1001  50ETF沽2015年3月2.25   \n",
       "10000008         510050.SH       ETF期权           0.1246  50ETF沽2015年3月2.30   \n",
       "10000009         510050.SH       ETF期权           0.1522  50ETF沽2015年3月2.35   \n",
       "10000010         510050.SH       ETF期权           0.1828  50ETF沽2015年3月2.40   \n",
       "\n",
       "          settle_mode settlement_date         trade_code  \n",
       "wind_code                                                 \n",
       "10000006         实物资产      2015-03-26  510050P1503M02200  \n",
       "10000007         实物资产      2015-03-26  510050P1503M02250  \n",
       "10000008         实物资产      2015-03-26  510050P1503M02300  \n",
       "10000009         实物资产      2015-03-26  510050P1503M02350  \n",
       "10000010         实物资产      2015-03-26  510050P1503M02400  "
      ]
     },
     "execution_count": 96,
     "metadata": {},
     "output_type": "execute_result"
    }
   ],
   "source": [
    "opt_df.head()"
   ]
  },
  {
   "cell_type": "code",
   "execution_count": 97,
   "metadata": {
    "collapsed": false
   },
   "outputs": [],
   "source": [
    "last_day = calendar.monthrange(year=date.year, month=date.month)[1]\n",
    "expire_month = datetime.date(date.year, date.month, last_day) + datetime.timedelta(1)"
   ]
  },
  {
   "cell_type": "code",
   "execution_count": 98,
   "metadata": {
    "collapsed": false
   },
   "outputs": [
    {
     "data": {
      "text/plain": [
       "'2017-11'"
      ]
     },
     "execution_count": 98,
     "metadata": {},
     "output_type": "execute_result"
    }
   ],
   "source": [
    "expire_month.strftime('%Y-%m')"
   ]
  },
  {
   "cell_type": "code",
   "execution_count": 99,
   "metadata": {
    "collapsed": false
   },
   "outputs": [],
   "source": [
    "opt_df = opt_df[opt_df['limit_month'] == expire_month.strftime('%Y-%m')]"
   ]
  },
  {
   "cell_type": "code",
   "execution_count": 100,
   "metadata": {
    "collapsed": true
   },
   "outputs": [],
   "source": [
    "price = df.loc[date, '510050.SH']"
   ]
  },
  {
   "cell_type": "code",
   "execution_count": 101,
   "metadata": {
    "collapsed": false
   },
   "outputs": [
    {
     "data": {
      "text/plain": [
       "2.79"
      ]
     },
     "execution_count": 101,
     "metadata": {},
     "output_type": "execute_result"
    }
   ],
   "source": [
    "price"
   ]
  },
  {
   "cell_type": "code",
   "execution_count": 102,
   "metadata": {
    "collapsed": false
   },
   "outputs": [],
   "source": [
    "opt_df.loc[:, 'dif'] = (opt_df.loc[:, 'exercise_price'] - price).abs()"
   ]
  },
  {
   "cell_type": "code",
   "execution_count": 103,
   "metadata": {
    "collapsed": false
   },
   "outputs": [],
   "source": [
    "target_opt = opt_df.sort_values('dif').index[0]"
   ]
  },
  {
   "cell_type": "code",
   "execution_count": 104,
   "metadata": {
    "collapsed": false
   },
   "outputs": [
    {
     "data": {
      "text/plain": [
       "10001020"
      ]
     },
     "execution_count": 104,
     "metadata": {},
     "output_type": "execute_result"
    }
   ],
   "source": [
    "target_opt"
   ]
  },
  {
   "cell_type": "markdown",
   "metadata": {},
   "source": [
    "# 获取期权代码时间序列"
   ]
  },
  {
   "cell_type": "code",
   "execution_count": 107,
   "metadata": {
    "collapsed": false
   },
   "outputs": [],
   "source": [
    "opt_df = pd.read_excel(u'D:/Data/list/期权列表.xlsx', index_col=0)\n",
    "opt_df = opt_df[opt_df['call_or_put'] == u'认沽']"
   ]
  },
  {
   "cell_type": "code",
   "execution_count": 108,
   "metadata": {
    "collapsed": false
   },
   "outputs": [
    {
     "data": {
      "text/html": [
       "<div>\n",
       "<style>\n",
       "    .dataframe thead tr:only-child th {\n",
       "        text-align: right;\n",
       "    }\n",
       "\n",
       "    .dataframe thead th {\n",
       "        text-align: left;\n",
       "    }\n",
       "\n",
       "    .dataframe tbody tr th {\n",
       "        vertical-align: top;\n",
       "    }\n",
       "</style>\n",
       "<table border=\"1\" class=\"dataframe\">\n",
       "  <thead>\n",
       "    <tr style=\"text-align: right;\">\n",
       "      <th></th>\n",
       "      <th>call_or_put</th>\n",
       "      <th>contract_state</th>\n",
       "      <th>contract_unit</th>\n",
       "      <th>exercise_date</th>\n",
       "      <th>exercise_mode</th>\n",
       "      <th>exercise_price</th>\n",
       "      <th>expire_date</th>\n",
       "      <th>limit_month</th>\n",
       "      <th>listed_date</th>\n",
       "      <th>option_mark_code</th>\n",
       "      <th>option_type</th>\n",
       "      <th>reference_price</th>\n",
       "      <th>sec_name</th>\n",
       "      <th>settle_mode</th>\n",
       "      <th>settlement_date</th>\n",
       "      <th>trade_code</th>\n",
       "    </tr>\n",
       "    <tr>\n",
       "      <th>wind_code</th>\n",
       "      <th></th>\n",
       "      <th></th>\n",
       "      <th></th>\n",
       "      <th></th>\n",
       "      <th></th>\n",
       "      <th></th>\n",
       "      <th></th>\n",
       "      <th></th>\n",
       "      <th></th>\n",
       "      <th></th>\n",
       "      <th></th>\n",
       "      <th></th>\n",
       "      <th></th>\n",
       "      <th></th>\n",
       "      <th></th>\n",
       "      <th></th>\n",
       "    </tr>\n",
       "  </thead>\n",
       "  <tbody>\n",
       "    <tr>\n",
       "      <th>10000006</th>\n",
       "      <td>认沽</td>\n",
       "      <td>退市</td>\n",
       "      <td>10000</td>\n",
       "      <td>2015-03-25</td>\n",
       "      <td>欧式</td>\n",
       "      <td>2.20</td>\n",
       "      <td>2015-03-25</td>\n",
       "      <td>2015-03</td>\n",
       "      <td>2015-02-09</td>\n",
       "      <td>510050.SH</td>\n",
       "      <td>ETF期权</td>\n",
       "      <td>0.0788</td>\n",
       "      <td>50ETF沽2015年3月2.20</td>\n",
       "      <td>实物资产</td>\n",
       "      <td>2015-03-26</td>\n",
       "      <td>510050P1503M02200</td>\n",
       "    </tr>\n",
       "    <tr>\n",
       "      <th>10000007</th>\n",
       "      <td>认沽</td>\n",
       "      <td>退市</td>\n",
       "      <td>10000</td>\n",
       "      <td>2015-03-25</td>\n",
       "      <td>欧式</td>\n",
       "      <td>2.25</td>\n",
       "      <td>2015-03-25</td>\n",
       "      <td>2015-03</td>\n",
       "      <td>2015-02-09</td>\n",
       "      <td>510050.SH</td>\n",
       "      <td>ETF期权</td>\n",
       "      <td>0.1001</td>\n",
       "      <td>50ETF沽2015年3月2.25</td>\n",
       "      <td>实物资产</td>\n",
       "      <td>2015-03-26</td>\n",
       "      <td>510050P1503M02250</td>\n",
       "    </tr>\n",
       "    <tr>\n",
       "      <th>10000008</th>\n",
       "      <td>认沽</td>\n",
       "      <td>退市</td>\n",
       "      <td>10000</td>\n",
       "      <td>2015-03-25</td>\n",
       "      <td>欧式</td>\n",
       "      <td>2.30</td>\n",
       "      <td>2015-03-25</td>\n",
       "      <td>2015-03</td>\n",
       "      <td>2015-02-09</td>\n",
       "      <td>510050.SH</td>\n",
       "      <td>ETF期权</td>\n",
       "      <td>0.1246</td>\n",
       "      <td>50ETF沽2015年3月2.30</td>\n",
       "      <td>实物资产</td>\n",
       "      <td>2015-03-26</td>\n",
       "      <td>510050P1503M02300</td>\n",
       "    </tr>\n",
       "    <tr>\n",
       "      <th>10000009</th>\n",
       "      <td>认沽</td>\n",
       "      <td>退市</td>\n",
       "      <td>10000</td>\n",
       "      <td>2015-03-25</td>\n",
       "      <td>欧式</td>\n",
       "      <td>2.35</td>\n",
       "      <td>2015-03-25</td>\n",
       "      <td>2015-03</td>\n",
       "      <td>2015-02-09</td>\n",
       "      <td>510050.SH</td>\n",
       "      <td>ETF期权</td>\n",
       "      <td>0.1522</td>\n",
       "      <td>50ETF沽2015年3月2.35</td>\n",
       "      <td>实物资产</td>\n",
       "      <td>2015-03-26</td>\n",
       "      <td>510050P1503M02350</td>\n",
       "    </tr>\n",
       "    <tr>\n",
       "      <th>10000010</th>\n",
       "      <td>认沽</td>\n",
       "      <td>退市</td>\n",
       "      <td>10000</td>\n",
       "      <td>2015-03-25</td>\n",
       "      <td>欧式</td>\n",
       "      <td>2.40</td>\n",
       "      <td>2015-03-25</td>\n",
       "      <td>2015-03</td>\n",
       "      <td>2015-02-09</td>\n",
       "      <td>510050.SH</td>\n",
       "      <td>ETF期权</td>\n",
       "      <td>0.1828</td>\n",
       "      <td>50ETF沽2015年3月2.40</td>\n",
       "      <td>实物资产</td>\n",
       "      <td>2015-03-26</td>\n",
       "      <td>510050P1503M02400</td>\n",
       "    </tr>\n",
       "  </tbody>\n",
       "</table>\n",
       "</div>"
      ],
      "text/plain": [
       "          call_or_put contract_state  contract_unit exercise_date  \\\n",
       "wind_code                                                           \n",
       "10000006           认沽             退市          10000    2015-03-25   \n",
       "10000007           认沽             退市          10000    2015-03-25   \n",
       "10000008           认沽             退市          10000    2015-03-25   \n",
       "10000009           认沽             退市          10000    2015-03-25   \n",
       "10000010           认沽             退市          10000    2015-03-25   \n",
       "\n",
       "          exercise_mode  exercise_price expire_date limit_month listed_date  \\\n",
       "wind_code                                                                     \n",
       "10000006             欧式            2.20  2015-03-25     2015-03  2015-02-09   \n",
       "10000007             欧式            2.25  2015-03-25     2015-03  2015-02-09   \n",
       "10000008             欧式            2.30  2015-03-25     2015-03  2015-02-09   \n",
       "10000009             欧式            2.35  2015-03-25     2015-03  2015-02-09   \n",
       "10000010             欧式            2.40  2015-03-25     2015-03  2015-02-09   \n",
       "\n",
       "          option_mark_code option_type  reference_price           sec_name  \\\n",
       "wind_code                                                                    \n",
       "10000006         510050.SH       ETF期权           0.0788  50ETF沽2015年3月2.20   \n",
       "10000007         510050.SH       ETF期权           0.1001  50ETF沽2015年3月2.25   \n",
       "10000008         510050.SH       ETF期权           0.1246  50ETF沽2015年3月2.30   \n",
       "10000009         510050.SH       ETF期权           0.1522  50ETF沽2015年3月2.35   \n",
       "10000010         510050.SH       ETF期权           0.1828  50ETF沽2015年3月2.40   \n",
       "\n",
       "          settle_mode settlement_date         trade_code  \n",
       "wind_code                                                 \n",
       "10000006         实物资产      2015-03-26  510050P1503M02200  \n",
       "10000007         实物资产      2015-03-26  510050P1503M02250  \n",
       "10000008         实物资产      2015-03-26  510050P1503M02300  \n",
       "10000009         实物资产      2015-03-26  510050P1503M02350  \n",
       "10000010         实物资产      2015-03-26  510050P1503M02400  "
      ]
     },
     "execution_count": 108,
     "metadata": {},
     "output_type": "execute_result"
    }
   ],
   "source": [
    "opt_df.head()"
   ]
  },
  {
   "cell_type": "code",
   "execution_count": 109,
   "metadata": {
    "collapsed": false
   },
   "outputs": [],
   "source": [
    "for date in df.index:\n",
    "    last_day = calendar.monthrange(year=date.year, month=date.month)[1]\n",
    "    expire_month = datetime.date(date.year, date.month, last_day) + datetime.timedelta(1)\n",
    "    temp_df = opt_df[(opt_df['limit_month'] == expire_month.strftime('%Y-%m')) & (opt_df['listed_date'] <= date)]\n",
    "    price = df.loc[date, '510050.SH']\n",
    "    temp_df.loc[:, 'dif'] = (temp_df.loc[:, 'exercise_price'] - price).abs()\n",
    "    target_opt = temp_df.sort_values('dif').index[0]\n",
    "    df.loc[date, 'wind_code'] = str(target_opt)\n",
    "    df.loc[date, 'strike'] = opt_df.loc[target_opt, 'exercise_price']\n",
    "    df.loc[date, 'expire_date'] = opt_df.loc[target_opt, 'expire_date']"
   ]
  },
  {
   "cell_type": "code",
   "execution_count": 110,
   "metadata": {
    "collapsed": false
   },
   "outputs": [
    {
     "data": {
      "text/html": [
       "<div>\n",
       "<style>\n",
       "    .dataframe thead tr:only-child th {\n",
       "        text-align: right;\n",
       "    }\n",
       "\n",
       "    .dataframe thead th {\n",
       "        text-align: left;\n",
       "    }\n",
       "\n",
       "    .dataframe tbody tr th {\n",
       "        vertical-align: top;\n",
       "    }\n",
       "</style>\n",
       "<table border=\"1\" class=\"dataframe\">\n",
       "  <thead>\n",
       "    <tr style=\"text-align: right;\">\n",
       "      <th></th>\n",
       "      <th>510050.SH</th>\n",
       "      <th>wind_code</th>\n",
       "      <th>strike</th>\n",
       "      <th>expire_date</th>\n",
       "    </tr>\n",
       "  </thead>\n",
       "  <tbody>\n",
       "    <tr>\n",
       "      <th>2015-02-09</th>\n",
       "      <td>2.331</td>\n",
       "      <td>10000009</td>\n",
       "      <td>2.35</td>\n",
       "      <td>2015-03-25</td>\n",
       "    </tr>\n",
       "    <tr>\n",
       "      <th>2015-02-10</th>\n",
       "      <td>2.369</td>\n",
       "      <td>10000009</td>\n",
       "      <td>2.35</td>\n",
       "      <td>2015-03-25</td>\n",
       "    </tr>\n",
       "    <tr>\n",
       "      <th>2015-02-11</th>\n",
       "      <td>2.380</td>\n",
       "      <td>10000010</td>\n",
       "      <td>2.40</td>\n",
       "      <td>2015-03-25</td>\n",
       "    </tr>\n",
       "    <tr>\n",
       "      <th>2015-02-12</th>\n",
       "      <td>2.384</td>\n",
       "      <td>10000010</td>\n",
       "      <td>2.40</td>\n",
       "      <td>2015-03-25</td>\n",
       "    </tr>\n",
       "    <tr>\n",
       "      <th>2015-02-13</th>\n",
       "      <td>2.390</td>\n",
       "      <td>10000010</td>\n",
       "      <td>2.40</td>\n",
       "      <td>2015-03-25</td>\n",
       "    </tr>\n",
       "  </tbody>\n",
       "</table>\n",
       "</div>"
      ],
      "text/plain": [
       "            510050.SH wind_code  strike expire_date\n",
       "2015-02-09      2.331  10000009    2.35  2015-03-25\n",
       "2015-02-10      2.369  10000009    2.35  2015-03-25\n",
       "2015-02-11      2.380  10000010    2.40  2015-03-25\n",
       "2015-02-12      2.384  10000010    2.40  2015-03-25\n",
       "2015-02-13      2.390  10000010    2.40  2015-03-25"
      ]
     },
     "execution_count": 110,
     "metadata": {},
     "output_type": "execute_result"
    }
   ],
   "source": [
    "df.head()"
   ]
  },
  {
   "cell_type": "markdown",
   "metadata": {},
   "source": [
    "# 获取期权价格时间序列"
   ]
  },
  {
   "cell_type": "code",
   "execution_count": 111,
   "metadata": {
    "collapsed": false
   },
   "outputs": [],
   "source": [
    "df['option'] = 0.0\n",
    "df.index = pd.to_datetime(df.index)"
   ]
  },
  {
   "cell_type": "code",
   "execution_count": 112,
   "metadata": {
    "collapsed": false
   },
   "outputs": [],
   "source": [
    "for index in df['wind_code'].unique():\n",
    "    wind_code = '%s.SH'%(index)\n",
    "#     print index\n",
    "    fname = u'%s/%s.xlsx'%(DATA_DIR, wind_code)\n",
    "    odf = pd.read_excel(fname, index_col=0)\n",
    "    temp_df = df[df['wind_code'] == index]\n",
    "    select_index = df[df['wind_code'] == index].index\n",
    "#     print select_index\n",
    "    df.loc[select_index, 'option'] = odf.loc[temp_df.index]['close']\n",
    "    df.loc[select_index, 'im_vol'] = odf.loc[temp_df.index]['us_impliedvol']\n",
    "#     print df.loc[select_index, 'option']\n",
    "#     print odf.loc[temp_df.index]['close']\n",
    "#     break"
   ]
  },
  {
   "cell_type": "code",
   "execution_count": 113,
   "metadata": {
    "collapsed": false
   },
   "outputs": [
    {
     "data": {
      "text/html": [
       "<div>\n",
       "<style>\n",
       "    .dataframe thead tr:only-child th {\n",
       "        text-align: right;\n",
       "    }\n",
       "\n",
       "    .dataframe thead th {\n",
       "        text-align: left;\n",
       "    }\n",
       "\n",
       "    .dataframe tbody tr th {\n",
       "        vertical-align: top;\n",
       "    }\n",
       "</style>\n",
       "<table border=\"1\" class=\"dataframe\">\n",
       "  <thead>\n",
       "    <tr style=\"text-align: right;\">\n",
       "      <th></th>\n",
       "      <th>510050.SH</th>\n",
       "      <th>wind_code</th>\n",
       "      <th>strike</th>\n",
       "      <th>expire_date</th>\n",
       "      <th>option</th>\n",
       "      <th>im_vol</th>\n",
       "    </tr>\n",
       "  </thead>\n",
       "  <tbody>\n",
       "    <tr>\n",
       "      <th>2015-02-09</th>\n",
       "      <td>2.331</td>\n",
       "      <td>10000009</td>\n",
       "      <td>2.35</td>\n",
       "      <td>2015-03-25</td>\n",
       "      <td>0.1268</td>\n",
       "      <td>0.376063</td>\n",
       "    </tr>\n",
       "    <tr>\n",
       "      <th>2015-02-10</th>\n",
       "      <td>2.369</td>\n",
       "      <td>10000009</td>\n",
       "      <td>2.35</td>\n",
       "      <td>2015-03-25</td>\n",
       "      <td>0.0975</td>\n",
       "      <td>0.343549</td>\n",
       "    </tr>\n",
       "    <tr>\n",
       "      <th>2015-02-11</th>\n",
       "      <td>2.380</td>\n",
       "      <td>10000010</td>\n",
       "      <td>2.40</td>\n",
       "      <td>2015-03-25</td>\n",
       "      <td>0.0992</td>\n",
       "      <td>0.289285</td>\n",
       "    </tr>\n",
       "    <tr>\n",
       "      <th>2015-02-12</th>\n",
       "      <td>2.384</td>\n",
       "      <td>10000010</td>\n",
       "      <td>2.40</td>\n",
       "      <td>2015-03-25</td>\n",
       "      <td>0.0888</td>\n",
       "      <td>0.265998</td>\n",
       "    </tr>\n",
       "    <tr>\n",
       "      <th>2015-02-13</th>\n",
       "      <td>2.390</td>\n",
       "      <td>10000010</td>\n",
       "      <td>2.40</td>\n",
       "      <td>2015-03-25</td>\n",
       "      <td>0.0730</td>\n",
       "      <td>0.228211</td>\n",
       "    </tr>\n",
       "  </tbody>\n",
       "</table>\n",
       "</div>"
      ],
      "text/plain": [
       "            510050.SH wind_code  strike expire_date  option    im_vol\n",
       "2015-02-09      2.331  10000009    2.35  2015-03-25  0.1268  0.376063\n",
       "2015-02-10      2.369  10000009    2.35  2015-03-25  0.0975  0.343549\n",
       "2015-02-11      2.380  10000010    2.40  2015-03-25  0.0992  0.289285\n",
       "2015-02-12      2.384  10000010    2.40  2015-03-25  0.0888  0.265998\n",
       "2015-02-13      2.390  10000010    2.40  2015-03-25  0.0730  0.228211"
      ]
     },
     "execution_count": 113,
     "metadata": {},
     "output_type": "execute_result"
    }
   ],
   "source": [
    "df.head()"
   ]
  },
  {
   "cell_type": "code",
   "execution_count": 114,
   "metadata": {
    "collapsed": false
   },
   "outputs": [
    {
     "data": {
      "text/plain": [
       "<matplotlib.axes._subplots.AxesSubplot at 0x23d2f470>"
      ]
     },
     "execution_count": 114,
     "metadata": {},
     "output_type": "execute_result"
    },
    {
     "data": {
      "image/png": "[encoded data removed]",
      "text/plain": [
       "<matplotlib.figure.Figure at 0xb1a48d0>"
      ]
     },
     "metadata": {},
     "output_type": "display_data"
    }
   ],
   "source": [
    "plt.figure(figsize=(16, 9))\n",
    "df['option'].plot()\n",
    "df['im_vol'].plot()"
   ]
  },
  {
   "cell_type": "code",
   "execution_count": 115,
   "metadata": {
    "collapsed": false
   },
   "outputs": [
    {
     "data": {
      "text/plain": [
       "<matplotlib.axes._subplots.AxesSubplot at 0x23f888d0>"
      ]
     },
     "execution_count": 115,
     "metadata": {},
     "output_type": "execute_result"
    },
    {
     "data": {
      "image/png": "[encoded data removed]",
      "text/plain": [
       "<matplotlib.figure.Figure at 0x23f75630>"
      ]
     },
     "metadata": {},
     "output_type": "display_data"
    }
   ],
   "source": [
    "plt.figure(figsize=(16, 9))\n",
    "df['510050.SH'].plot()"
   ]
  },
  {
   "cell_type": "code",
   "execution_count": 116,
   "metadata": {
    "collapsed": true
   },
   "outputs": [],
   "source": [
    "df.to_excel('./putwrite.xlsx')"
   ]
  },
  {
   "cell_type": "code",
   "execution_count": null,
   "metadata": {
    "collapsed": true
   },
   "outputs": [],
   "source": []
  }
 ],
 "metadata": {
  "anaconda-cloud": {},
  "kernelspec": {
   "display_name": "Python [default]",
   "language": "python",
   "name": "python2"
  },
  "language_info": {
   "codemirror_mode": {
    "name": "ipython",
    "version": 2
   },
   "file_extension": ".py",
   "mimetype": "text/x-python",
   "name": "python",
   "nbconvert_exporter": "python",
   "pygments_lexer": "ipython2",
   "version": "2.7.12"
  }
 },
 "nbformat": 4,
 "nbformat_minor": 1
}
