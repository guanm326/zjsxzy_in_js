{
 "cells": [
  {
   "cell_type": "code",
   "execution_count": 1,
   "metadata": {
    "collapsed": true
   },
   "outputs": [],
   "source": [
    "import pandas as pd\n",
    "import numpy as np\n",
    "import os\n",
    "import matplotlib.pyplot as plt\n",
    "from WindPy import w\n",
    "from sklearn import linear_model\n",
    "from sklearn.model_selection import cross_val_predict\n",
    "from sklearn.model_selection import train_test_split\n",
    "from sklearn.model_selection import cross_val_score\n",
    "from sklearn import svm\n",
    "from sklearn import tree\n",
    "from sklearn import ensemble\n",
    "from sklearn.feature_selection import SelectFromModel\n",
    "from sklearn.svm import LinearSVC\n",
    "%matplotlib inline"
   ]
  },
  {
   "cell_type": "code",
   "execution_count": 2,
   "metadata": {},
   "outputs": [
    {
     "name": "stdout",
     "output_type": "stream",
     "text": [
      "Welcome to use Wind Quant API for Python (WindPy)!\n",
      "\n",
      "COPYRIGHT (C) 2017 WIND INFORMATION CO., LTD. ALL RIGHTS RESERVED.\n",
      "IN NO CIRCUMSTANCE SHALL WIND BE RESPONSIBLE FOR ANY DAMAGES OR LOSSES CAUSED BY USING WIND QUANT API FOR Python.\n"
     ]
    },
    {
     "data": {
      "text/plain": [
       ".ErrorCode=0\n",
       ".Data=[OK!]"
      ]
     },
     "execution_count": 2,
     "metadata": {},
     "output_type": "execute_result"
    }
   ],
   "source": [
    "w.start()"
   ]
  },
  {
   "cell_type": "code",
   "execution_count": 3,
   "metadata": {
    "collapsed": true
   },
   "outputs": [],
   "source": [
    "ldf = pd.read_excel('D:/workspace/crusader/data/list.xlsx')\n",
    "ldf = ldf.dropna().set_index(u'代码')"
   ]
  },
  {
   "cell_type": "code",
   "execution_count": 4,
   "metadata": {
    "collapsed": true
   },
   "outputs": [],
   "source": [
    "DATA_DIR = 'D:/Data/industry/'"
   ]
  },
  {
   "cell_type": "code",
   "execution_count": 5,
   "metadata": {
    "collapsed": true
   },
   "outputs": [],
   "source": [
    "industry = [x for x in os.listdir(DATA_DIR)]"
   ]
  },
  {
   "cell_type": "code",
   "execution_count": 6,
   "metadata": {},
   "outputs": [],
   "source": [
    "df = ''\n",
    "for ind in industry:\n",
    "    files = [f for f in os.listdir('%s/%s'%(DATA_DIR, ind))]\n",
    "    for f in files:\n",
    "        fname = '%s/%s/%s'%(DATA_DIR, ind, f)\n",
    "        if not isinstance(df, pd.DataFrame):\n",
    "            df = pd.read_excel(fname)\n",
    "#             pass\n",
    "        else:\n",
    "            tdf = pd.read_excel(fname)\n",
    "#             if 'M0000011' in tdf.columns:\n",
    "#                 print fname\n",
    "            cols = tdf.columns.difference(df.columns)\n",
    "            df = df.merge(tdf[cols], how='outer', left_index=True, right_index=True)"
   ]
  },
  {
   "cell_type": "code",
   "execution_count": 7,
   "metadata": {
    "collapsed": true
   },
   "outputs": [],
   "source": [
    "df = df.fillna(method='ffill').resample('BM').last()"
   ]
  },
  {
   "cell_type": "code",
   "execution_count": 8,
   "metadata": {},
   "outputs": [
    {
     "data": {
      "text/plain": [
       "Index([u'S0180893', u'M0044542', u'M0000617', u'M0000616', u'M0000622',\n",
       "       u'S0248945', u'M5462042', u'S0109326', u'S0114184', u'M0000612',\n",
       "       ...\n",
       "       u'S0109336', u'S0030509', u'S0030512', u'S0030521', u'M0000545',\n",
       "       u'S0242573', u'S0035972', u'S0030503', u'S0030527', u'S0030515'],\n",
       "      dtype='object', length=196)"
      ]
     },
     "execution_count": 8,
     "metadata": {},
     "output_type": "execute_result"
    }
   ],
   "source": [
    "df.columns"
   ]
  },
  {
   "cell_type": "code",
   "execution_count": 9,
   "metadata": {
    "collapsed": true
   },
   "outputs": [],
   "source": [
    "df = df[(df.index >= '2004-01-01') & (df.index <= '2018-02-28')]"
   ]
  },
  {
   "cell_type": "code",
   "execution_count": 10,
   "metadata": {
    "collapsed": true
   },
   "outputs": [],
   "source": [
    "df = df.dropna(axis=1)"
   ]
  },
  {
   "cell_type": "code",
   "execution_count": 11,
   "metadata": {},
   "outputs": [
    {
     "data": {
      "text/plain": [
       "(170, 114)"
      ]
     },
     "execution_count": 11,
     "metadata": {},
     "output_type": "execute_result"
    }
   ],
   "source": [
    "df.shape"
   ]
  },
  {
   "cell_type": "code",
   "execution_count": 12,
   "metadata": {},
   "outputs": [
    {
     "data": {
      "text/html": [
       "<div>\n",
       "<style scoped>\n",
       "    .dataframe tbody tr th:only-of-type {\n",
       "        vertical-align: middle;\n",
       "    }\n",
       "\n",
       "    .dataframe tbody tr th {\n",
       "        vertical-align: top;\n",
       "    }\n",
       "\n",
       "    .dataframe thead th {\n",
       "        text-align: right;\n",
       "    }\n",
       "</style>\n",
       "<table border=\"1\" class=\"dataframe\">\n",
       "  <thead>\n",
       "    <tr style=\"text-align: right;\">\n",
       "      <th></th>\n",
       "      <th>M0000617</th>\n",
       "      <th>M0000616</th>\n",
       "      <th>M0000622</th>\n",
       "      <th>M5462042</th>\n",
       "      <th>S0109326</th>\n",
       "      <th>M0000612</th>\n",
       "      <th>S0109328</th>\n",
       "      <th>S0031749</th>\n",
       "      <th>S0037083</th>\n",
       "      <th>S0039170</th>\n",
       "      <th>...</th>\n",
       "      <th>S0030518</th>\n",
       "      <th>S0000066</th>\n",
       "      <th>M0067855</th>\n",
       "      <th>S0030509</th>\n",
       "      <th>S0030512</th>\n",
       "      <th>M0000545</th>\n",
       "      <th>S0035972</th>\n",
       "      <th>S0030503</th>\n",
       "      <th>S0030527</th>\n",
       "      <th>S0030515</th>\n",
       "    </tr>\n",
       "  </thead>\n",
       "  <tbody>\n",
       "    <tr>\n",
       "      <th>2017-10-31</th>\n",
       "      <td>1.6284</td>\n",
       "      <td>-0.4</td>\n",
       "      <td>0.3174</td>\n",
       "      <td>1510.086</td>\n",
       "      <td>13920.4</td>\n",
       "      <td>1.9</td>\n",
       "      <td>44425.8</td>\n",
       "      <td>61623.9</td>\n",
       "      <td>113034.48</td>\n",
       "      <td>68501.96</td>\n",
       "      <td>...</td>\n",
       "      <td>8.0</td>\n",
       "      <td>775.54</td>\n",
       "      <td>6.6272</td>\n",
       "      <td>0.8</td>\n",
       "      <td>5.6</td>\n",
       "      <td>6.2</td>\n",
       "      <td>13.0</td>\n",
       "      <td>8.9</td>\n",
       "      <td>5.8</td>\n",
       "      <td>1.7</td>\n",
       "    </tr>\n",
       "    <tr>\n",
       "      <th>2017-11-30</th>\n",
       "      <td>1.4963</td>\n",
       "      <td>-1.1</td>\n",
       "      <td>-9.4797</td>\n",
       "      <td>1510.086</td>\n",
       "      <td>13920.4</td>\n",
       "      <td>1.7</td>\n",
       "      <td>44425.8</td>\n",
       "      <td>61623.9</td>\n",
       "      <td>113034.48</td>\n",
       "      <td>68501.96</td>\n",
       "      <td>...</td>\n",
       "      <td>8.2</td>\n",
       "      <td>785.20</td>\n",
       "      <td>6.6107</td>\n",
       "      <td>0.8</td>\n",
       "      <td>4.5</td>\n",
       "      <td>6.1</td>\n",
       "      <td>13.3</td>\n",
       "      <td>8.7</td>\n",
       "      <td>5.5</td>\n",
       "      <td>1.6</td>\n",
       "    </tr>\n",
       "    <tr>\n",
       "      <th>2017-12-29</th>\n",
       "      <td>1.4963</td>\n",
       "      <td>-1.1</td>\n",
       "      <td>-9.4797</td>\n",
       "      <td>1510.086</td>\n",
       "      <td>13920.4</td>\n",
       "      <td>1.7</td>\n",
       "      <td>44425.8</td>\n",
       "      <td>61623.9</td>\n",
       "      <td>113034.48</td>\n",
       "      <td>68501.96</td>\n",
       "      <td>...</td>\n",
       "      <td>8.2</td>\n",
       "      <td>770.64</td>\n",
       "      <td>6.5120</td>\n",
       "      <td>0.8</td>\n",
       "      <td>4.5</td>\n",
       "      <td>6.1</td>\n",
       "      <td>13.3</td>\n",
       "      <td>8.7</td>\n",
       "      <td>5.5</td>\n",
       "      <td>1.6</td>\n",
       "    </tr>\n",
       "    <tr>\n",
       "      <th>2018-01-31</th>\n",
       "      <td>1.3000</td>\n",
       "      <td>-0.4</td>\n",
       "      <td>-8.6000</td>\n",
       "      <td>1510.086</td>\n",
       "      <td>14031.5</td>\n",
       "      <td>1.8</td>\n",
       "      <td>44585.2</td>\n",
       "      <td>61623.9</td>\n",
       "      <td>112219.60</td>\n",
       "      <td>68501.96</td>\n",
       "      <td>...</td>\n",
       "      <td>2.6</td>\n",
       "      <td>819.59</td>\n",
       "      <td>6.2920</td>\n",
       "      <td>1.4</td>\n",
       "      <td>12.3</td>\n",
       "      <td>6.2</td>\n",
       "      <td>5.5</td>\n",
       "      <td>8.7</td>\n",
       "      <td>0.2</td>\n",
       "      <td>0.3</td>\n",
       "    </tr>\n",
       "    <tr>\n",
       "      <th>2018-02-28</th>\n",
       "      <td>1.3000</td>\n",
       "      <td>-0.4</td>\n",
       "      <td>-8.6000</td>\n",
       "      <td>1510.086</td>\n",
       "      <td>14031.5</td>\n",
       "      <td>1.8</td>\n",
       "      <td>44585.2</td>\n",
       "      <td>61623.9</td>\n",
       "      <td>112219.60</td>\n",
       "      <td>68501.96</td>\n",
       "      <td>...</td>\n",
       "      <td>2.6</td>\n",
       "      <td>848.32</td>\n",
       "      <td>6.3335</td>\n",
       "      <td>1.4</td>\n",
       "      <td>12.3</td>\n",
       "      <td>6.2</td>\n",
       "      <td>5.5</td>\n",
       "      <td>8.7</td>\n",
       "      <td>0.2</td>\n",
       "      <td>0.3</td>\n",
       "    </tr>\n",
       "  </tbody>\n",
       "</table>\n",
       "<p>5 rows × 114 columns</p>\n",
       "</div>"
      ],
      "text/plain": [
       "            M0000617  M0000616  M0000622  M5462042  S0109326  M0000612  \\\n",
       "2017-10-31    1.6284      -0.4    0.3174  1510.086   13920.4       1.9   \n",
       "2017-11-30    1.4963      -1.1   -9.4797  1510.086   13920.4       1.7   \n",
       "2017-12-29    1.4963      -1.1   -9.4797  1510.086   13920.4       1.7   \n",
       "2018-01-31    1.3000      -0.4   -8.6000  1510.086   14031.5       1.8   \n",
       "2018-02-28    1.3000      -0.4   -8.6000  1510.086   14031.5       1.8   \n",
       "\n",
       "            S0109328  S0031749   S0037083  S0039170    ...     S0030518  \\\n",
       "2017-10-31   44425.8   61623.9  113034.48  68501.96    ...          8.0   \n",
       "2017-11-30   44425.8   61623.9  113034.48  68501.96    ...          8.2   \n",
       "2017-12-29   44425.8   61623.9  113034.48  68501.96    ...          8.2   \n",
       "2018-01-31   44585.2   61623.9  112219.60  68501.96    ...          2.6   \n",
       "2018-02-28   44585.2   61623.9  112219.60  68501.96    ...          2.6   \n",
       "\n",
       "            S0000066  M0067855  S0030509  S0030512  M0000545  S0035972  \\\n",
       "2017-10-31    775.54    6.6272       0.8       5.6       6.2      13.0   \n",
       "2017-11-30    785.20    6.6107       0.8       4.5       6.1      13.3   \n",
       "2017-12-29    770.64    6.5120       0.8       4.5       6.1      13.3   \n",
       "2018-01-31    819.59    6.2920       1.4      12.3       6.2       5.5   \n",
       "2018-02-28    848.32    6.3335       1.4      12.3       6.2       5.5   \n",
       "\n",
       "            S0030503  S0030527  S0030515  \n",
       "2017-10-31       8.9       5.8       1.7  \n",
       "2017-11-30       8.7       5.5       1.6  \n",
       "2017-12-29       8.7       5.5       1.6  \n",
       "2018-01-31       8.7       0.2       0.3  \n",
       "2018-02-28       8.7       0.2       0.3  \n",
       "\n",
       "[5 rows x 114 columns]"
      ]
     },
     "execution_count": 12,
     "metadata": {},
     "output_type": "execute_result"
    }
   ],
   "source": [
    "df.tail()"
   ]
  },
  {
   "cell_type": "code",
   "execution_count": 13,
   "metadata": {
    "collapsed": true
   },
   "outputs": [],
   "source": [
    "INDEX_DIR = 'D:/Data/index'"
   ]
  },
  {
   "cell_type": "code",
   "execution_count": 14,
   "metadata": {},
   "outputs": [],
   "source": [
    "dic = {}\n",
    "for f in os.listdir(INDEX_DIR):\n",
    "    if f.startswith('881') or f.startswith('886'):\n",
    "        fname = '%s/%s'%(INDEX_DIR, f)\n",
    "        temp = pd.read_excel(fname)\n",
    "#         if 'outmessage' in temp.columns:\n",
    "#             del temp['outmessage']\n",
    "#             temp.to_excel(fname)\n",
    "        dic[f.rstrip('.xlsx')] = temp['close']\n",
    "sdf = pd.DataFrame(dic)"
   ]
  },
  {
   "cell_type": "code",
   "execution_count": 16,
   "metadata": {},
   "outputs": [
    {
     "data": {
      "text/html": [
       "<div>\n",
       "<style scoped>\n",
       "    .dataframe tbody tr th:only-of-type {\n",
       "        vertical-align: middle;\n",
       "    }\n",
       "\n",
       "    .dataframe tbody tr th {\n",
       "        vertical-align: top;\n",
       "    }\n",
       "\n",
       "    .dataframe thead th {\n",
       "        text-align: right;\n",
       "    }\n",
       "</style>\n",
       "<table border=\"1\" class=\"dataframe\">\n",
       "  <thead>\n",
       "    <tr style=\"text-align: right;\">\n",
       "      <th></th>\n",
       "      <th>881001.WI</th>\n",
       "      <th>886001.WI</th>\n",
       "      <th>886002.WI</th>\n",
       "      <th>886003.WI</th>\n",
       "      <th>886004.WI</th>\n",
       "      <th>886005.WI</th>\n",
       "      <th>886006.WI</th>\n",
       "      <th>886007.WI</th>\n",
       "      <th>886008.WI</th>\n",
       "      <th>886009.WI</th>\n",
       "      <th>...</th>\n",
       "      <th>886060.WI</th>\n",
       "      <th>886061.WI</th>\n",
       "      <th>886062.WI</th>\n",
       "      <th>886063.WI</th>\n",
       "      <th>886064.WI</th>\n",
       "      <th>886065.WI</th>\n",
       "      <th>886066.WI</th>\n",
       "      <th>886067.WI</th>\n",
       "      <th>886068.WI</th>\n",
       "      <th>886069.WI</th>\n",
       "    </tr>\n",
       "  </thead>\n",
       "  <tbody>\n",
       "    <tr>\n",
       "      <th>2000-01-04</th>\n",
       "      <td>1031.0334</td>\n",
       "      <td>1019.1205</td>\n",
       "      <td>1027.6196</td>\n",
       "      <td>1029.1210</td>\n",
       "      <td>1027.3595</td>\n",
       "      <td>1022.7531</td>\n",
       "      <td>1028.8376</td>\n",
       "      <td>1025.0027</td>\n",
       "      <td>1024.5097</td>\n",
       "      <td>1017.1766</td>\n",
       "      <td>...</td>\n",
       "      <td>1044.1071</td>\n",
       "      <td>1059.8894</td>\n",
       "      <td>1045.9163</td>\n",
       "      <td>1060.1399</td>\n",
       "      <td>1074.3802</td>\n",
       "      <td>1026.8947</td>\n",
       "      <td>1000.0</td>\n",
       "      <td>1023.8875</td>\n",
       "      <td>1000.0</td>\n",
       "      <td>1013.8165</td>\n",
       "    </tr>\n",
       "    <tr>\n",
       "      <th>2000-01-05</th>\n",
       "      <td>1034.4385</td>\n",
       "      <td>1019.1205</td>\n",
       "      <td>1072.0238</td>\n",
       "      <td>1023.4455</td>\n",
       "      <td>1041.9373</td>\n",
       "      <td>1023.0149</td>\n",
       "      <td>1042.9652</td>\n",
       "      <td>1020.2143</td>\n",
       "      <td>1031.2240</td>\n",
       "      <td>1015.5744</td>\n",
       "      <td>...</td>\n",
       "      <td>1025.7812</td>\n",
       "      <td>1045.5461</td>\n",
       "      <td>1040.6856</td>\n",
       "      <td>1049.1120</td>\n",
       "      <td>1057.1626</td>\n",
       "      <td>1034.6700</td>\n",
       "      <td>1000.0</td>\n",
       "      <td>1013.6467</td>\n",
       "      <td>1000.0</td>\n",
       "      <td>1022.1929</td>\n",
       "    </tr>\n",
       "    <tr>\n",
       "      <th>2000-01-06</th>\n",
       "      <td>1076.5120</td>\n",
       "      <td>1065.9656</td>\n",
       "      <td>1142.1885</td>\n",
       "      <td>1077.3701</td>\n",
       "      <td>1092.5583</td>\n",
       "      <td>1059.5913</td>\n",
       "      <td>1077.7500</td>\n",
       "      <td>1062.7158</td>\n",
       "      <td>1066.9311</td>\n",
       "      <td>1054.0628</td>\n",
       "      <td>...</td>\n",
       "      <td>1074.9502</td>\n",
       "      <td>1111.3880</td>\n",
       "      <td>1086.0938</td>\n",
       "      <td>1099.3059</td>\n",
       "      <td>1107.4381</td>\n",
       "      <td>1077.3181</td>\n",
       "      <td>1000.0</td>\n",
       "      <td>1051.2552</td>\n",
       "      <td>1000.0</td>\n",
       "      <td>1051.4964</td>\n",
       "    </tr>\n",
       "    <tr>\n",
       "      <th>2000-01-07</th>\n",
       "      <td>1117.7781</td>\n",
       "      <td>1094.6463</td>\n",
       "      <td>1190.6487</td>\n",
       "      <td>1100.3081</td>\n",
       "      <td>1126.8133</td>\n",
       "      <td>1093.4659</td>\n",
       "      <td>1102.4629</td>\n",
       "      <td>1102.5224</td>\n",
       "      <td>1108.0449</td>\n",
       "      <td>1085.6135</td>\n",
       "      <td>...</td>\n",
       "      <td>1106.5376</td>\n",
       "      <td>1139.3145</td>\n",
       "      <td>1121.7125</td>\n",
       "      <td>1128.7846</td>\n",
       "      <td>1144.6282</td>\n",
       "      <td>1121.0545</td>\n",
       "      <td>1000.0</td>\n",
       "      <td>1100.0054</td>\n",
       "      <td>1000.0</td>\n",
       "      <td>1074.8683</td>\n",
       "    </tr>\n",
       "    <tr>\n",
       "      <th>2000-01-10</th>\n",
       "      <td>1141.0309</td>\n",
       "      <td>1108.9866</td>\n",
       "      <td>1203.0406</td>\n",
       "      <td>1131.6378</td>\n",
       "      <td>1138.5167</td>\n",
       "      <td>1118.2369</td>\n",
       "      <td>1114.5656</td>\n",
       "      <td>1127.0507</td>\n",
       "      <td>1127.8480</td>\n",
       "      <td>1086.4123</td>\n",
       "      <td>...</td>\n",
       "      <td>1130.0068</td>\n",
       "      <td>1152.6513</td>\n",
       "      <td>1145.0987</td>\n",
       "      <td>1141.1456</td>\n",
       "      <td>1170.7990</td>\n",
       "      <td>1135.0082</td>\n",
       "      <td>1000.0</td>\n",
       "      <td>1115.0271</td>\n",
       "      <td>1000.0</td>\n",
       "      <td>1081.7237</td>\n",
       "    </tr>\n",
       "  </tbody>\n",
       "</table>\n",
       "<p>5 rows × 68 columns</p>\n",
       "</div>"
      ],
      "text/plain": [
       "            881001.WI  886001.WI  886002.WI  886003.WI  886004.WI  886005.WI  \\\n",
       "2000-01-04  1031.0334  1019.1205  1027.6196  1029.1210  1027.3595  1022.7531   \n",
       "2000-01-05  1034.4385  1019.1205  1072.0238  1023.4455  1041.9373  1023.0149   \n",
       "2000-01-06  1076.5120  1065.9656  1142.1885  1077.3701  1092.5583  1059.5913   \n",
       "2000-01-07  1117.7781  1094.6463  1190.6487  1100.3081  1126.8133  1093.4659   \n",
       "2000-01-10  1141.0309  1108.9866  1203.0406  1131.6378  1138.5167  1118.2369   \n",
       "\n",
       "            886006.WI  886007.WI  886008.WI  886009.WI    ...      886060.WI  \\\n",
       "2000-01-04  1028.8376  1025.0027  1024.5097  1017.1766    ...      1044.1071   \n",
       "2000-01-05  1042.9652  1020.2143  1031.2240  1015.5744    ...      1025.7812   \n",
       "2000-01-06  1077.7500  1062.7158  1066.9311  1054.0628    ...      1074.9502   \n",
       "2000-01-07  1102.4629  1102.5224  1108.0449  1085.6135    ...      1106.5376   \n",
       "2000-01-10  1114.5656  1127.0507  1127.8480  1086.4123    ...      1130.0068   \n",
       "\n",
       "            886061.WI  886062.WI  886063.WI  886064.WI  886065.WI  886066.WI  \\\n",
       "2000-01-04  1059.8894  1045.9163  1060.1399  1074.3802  1026.8947     1000.0   \n",
       "2000-01-05  1045.5461  1040.6856  1049.1120  1057.1626  1034.6700     1000.0   \n",
       "2000-01-06  1111.3880  1086.0938  1099.3059  1107.4381  1077.3181     1000.0   \n",
       "2000-01-07  1139.3145  1121.7125  1128.7846  1144.6282  1121.0545     1000.0   \n",
       "2000-01-10  1152.6513  1145.0987  1141.1456  1170.7990  1135.0082     1000.0   \n",
       "\n",
       "            886067.WI  886068.WI  886069.WI  \n",
       "2000-01-04  1023.8875     1000.0  1013.8165  \n",
       "2000-01-05  1013.6467     1000.0  1022.1929  \n",
       "2000-01-06  1051.2552     1000.0  1051.4964  \n",
       "2000-01-07  1100.0054     1000.0  1074.8683  \n",
       "2000-01-10  1115.0271     1000.0  1081.7237  \n",
       "\n",
       "[5 rows x 68 columns]"
      ]
     },
     "execution_count": 16,
     "metadata": {},
     "output_type": "execute_result"
    }
   ],
   "source": [
    "sdf.head()"
   ]
  },
  {
   "cell_type": "code",
   "execution_count": 17,
   "metadata": {
    "collapsed": true
   },
   "outputs": [],
   "source": [
    "k = 2\n",
    "rdf = sdf.resample('BM').last().pct_change(periods=k)"
   ]
  },
  {
   "cell_type": "code",
   "execution_count": 18,
   "metadata": {
    "collapsed": true
   },
   "outputs": [],
   "source": [
    "rdf = rdf[(rdf.index >= '2004-01-01') & (rdf.index <= '2018-02-28')]"
   ]
  },
  {
   "cell_type": "markdown",
   "metadata": {},
   "source": [
    "# 超额收益"
   ]
  },
  {
   "cell_type": "code",
   "execution_count": 19,
   "metadata": {},
   "outputs": [],
   "source": [
    "ac_ret = rdf['886043.WI'] - rdf['881001.WI']"
   ]
  },
  {
   "cell_type": "code",
   "execution_count": 20,
   "metadata": {},
   "outputs": [
    {
     "data": {
      "text/plain": [
       "<matplotlib.axes._subplots.AxesSubplot at 0x1ec60048>"
      ]
     },
     "execution_count": 20,
     "metadata": {},
     "output_type": "execute_result"
    },
    {
     "data": {
      "image/png": "[encoded data removed]",
      "text/plain": [
       "<matplotlib.figure.Figure at 0x2106db00>"
      ]
     },
     "metadata": {},
     "output_type": "display_data"
    }
   ],
   "source": [
    "(1 + ac_ret).cumprod().plot(figsize=(16, 9))"
   ]
  },
  {
   "cell_type": "code",
   "execution_count": 20,
   "metadata": {},
   "outputs": [
    {
     "name": "stdout",
     "output_type": "stream",
     "text": [
      "(158, 114) (158L,)\n"
     ]
    }
   ],
   "source": [
    "X = df.pct_change(periods=12).iloc[12:].replace([-np.inf, np.inf], np.NAN).fillna(method='ffill').copy()\n",
    "y = ac_ret.iloc[12:].copy()\n",
    "y[y > 0] = 1\n",
    "y[y < 0] = 0\n",
    "print X.shape, y.shape"
   ]
  },
  {
   "cell_type": "code",
   "execution_count": 21,
   "metadata": {},
   "outputs": [
    {
     "name": "stdout",
     "output_type": "stream",
     "text": [
      "(157, 114) (157L,) (157L,)\n"
     ]
    }
   ],
   "source": [
    "X = X.iloc[:-k]\n",
    "y = y.shift(-k).iloc[:-k]\n",
    "reg_y = ac_ret.shift(-k).iloc[12: -k]\n",
    "print X.shape, y.shape, reg_y.shape"
   ]
  },
  {
   "cell_type": "markdown",
   "metadata": {},
   "source": [
    "# 回归问题"
   ]
  },
  {
   "cell_type": "code",
   "execution_count": 22,
   "metadata": {},
   "outputs": [
    {
     "data": {
      "text/plain": [
       "Lasso(alpha=0.01, copy_X=True, fit_intercept=True, max_iter=1000,\n",
       "   normalize=False, positive=False, precompute=False, random_state=None,\n",
       "   selection='cyclic', tol=0.0001, warm_start=False)"
      ]
     },
     "execution_count": 22,
     "metadata": {},
     "output_type": "execute_result"
    }
   ],
   "source": [
    "lasso = linear_model.Lasso(alpha=0.01)\n",
    "lasso.fit(X, reg_y)"
   ]
  },
  {
   "cell_type": "code",
   "execution_count": 23,
   "metadata": {},
   "outputs": [
    {
     "data": {
      "text/html": [
       "<div>\n",
       "<style scoped>\n",
       "    .dataframe tbody tr th:only-of-type {\n",
       "        vertical-align: middle;\n",
       "    }\n",
       "\n",
       "    .dataframe tbody tr th {\n",
       "        vertical-align: top;\n",
       "    }\n",
       "\n",
       "    .dataframe thead th {\n",
       "        text-align: right;\n",
       "    }\n",
       "</style>\n",
       "<table border=\"1\" class=\"dataframe\">\n",
       "  <thead>\n",
       "    <tr style=\"text-align: right;\">\n",
       "      <th></th>\n",
       "      <th>名称</th>\n",
       "    </tr>\n",
       "    <tr>\n",
       "      <th>代码</th>\n",
       "      <th></th>\n",
       "    </tr>\n",
       "  </thead>\n",
       "  <tbody>\n",
       "    <tr>\n",
       "      <th>M0000617</th>\n",
       "      <td>CPI-粮食</td>\n",
       "    </tr>\n",
       "    <tr>\n",
       "      <th>M0000622</th>\n",
       "      <td>CPI-鲜菜</td>\n",
       "    </tr>\n",
       "    <tr>\n",
       "      <th>M0000612</th>\n",
       "      <td>消费者物价指数（CPI）</td>\n",
       "    </tr>\n",
       "    <tr>\n",
       "      <th>M0009973</th>\n",
       "      <td>月度新增人民币贷款</td>\n",
       "    </tr>\n",
       "    <tr>\n",
       "      <th>S6114593</th>\n",
       "      <td>乘用车销量</td>\n",
       "    </tr>\n",
       "    <tr>\n",
       "      <th>S0026990</th>\n",
       "      <td>原煤产量</td>\n",
       "    </tr>\n",
       "    <tr>\n",
       "      <th>S0027375</th>\n",
       "      <td>粗钢产量</td>\n",
       "    </tr>\n",
       "    <tr>\n",
       "      <th>S0027938</th>\n",
       "      <td>轿车产量</td>\n",
       "    </tr>\n",
       "    <tr>\n",
       "      <th>S0027635</th>\n",
       "      <td>铜材进口量</td>\n",
       "    </tr>\n",
       "    <tr>\n",
       "      <th>S0027162</th>\n",
       "      <td>乙烯产量</td>\n",
       "    </tr>\n",
       "    <tr>\n",
       "      <th>S0027078</th>\n",
       "      <td>尿素产量</td>\n",
       "    </tr>\n",
       "    <tr>\n",
       "      <th>S0027282</th>\n",
       "      <td>尿素出口量</td>\n",
       "    </tr>\n",
       "    <tr>\n",
       "      <th>S0027713</th>\n",
       "      <td>平板玻璃产量</td>\n",
       "    </tr>\n",
       "    <tr>\n",
       "      <th>S0027713</th>\n",
       "      <td>平板玻璃产量</td>\n",
       "    </tr>\n",
       "    <tr>\n",
       "      <th>S0027910</th>\n",
       "      <td>汽车产量</td>\n",
       "    </tr>\n",
       "    <tr>\n",
       "      <th>S0027910</th>\n",
       "      <td>中国汽车产量</td>\n",
       "    </tr>\n",
       "    <tr>\n",
       "      <th>S0027186</th>\n",
       "      <td>聚乙烯产量</td>\n",
       "    </tr>\n",
       "    <tr>\n",
       "      <th>S0027066</th>\n",
       "      <td>合成氨产量增速</td>\n",
       "    </tr>\n",
       "    <tr>\n",
       "      <th>S0027705</th>\n",
       "      <td>水泥产量增速</td>\n",
       "    </tr>\n",
       "    <tr>\n",
       "      <th>S0027705</th>\n",
       "      <td>水泥产量</td>\n",
       "    </tr>\n",
       "    <tr>\n",
       "      <th>S5103573</th>\n",
       "      <td>炼焦煤出口数量</td>\n",
       "    </tr>\n",
       "    <tr>\n",
       "      <th>S5103411</th>\n",
       "      <td>炼焦煤进口数量</td>\n",
       "    </tr>\n",
       "    <tr>\n",
       "      <th>S0027009</th>\n",
       "      <td>焦炭出口量增速</td>\n",
       "    </tr>\n",
       "    <tr>\n",
       "      <th>S0027373</th>\n",
       "      <td>生铁产量增速</td>\n",
       "    </tr>\n",
       "    <tr>\n",
       "      <th>S0027373</th>\n",
       "      <td>生铁产量</td>\n",
       "    </tr>\n",
       "    <tr>\n",
       "      <th>S0027373</th>\n",
       "      <td>生铁产量</td>\n",
       "    </tr>\n",
       "    <tr>\n",
       "      <th>M0000607</th>\n",
       "      <td>出口总额同比增速</td>\n",
       "    </tr>\n",
       "    <tr>\n",
       "      <th>S0073300</th>\n",
       "      <td>全国商品房销售面积</td>\n",
       "    </tr>\n",
       "    <tr>\n",
       "      <th>S0028209</th>\n",
       "      <td>冰箱产量</td>\n",
       "    </tr>\n",
       "    <tr>\n",
       "      <th>S0028209</th>\n",
       "      <td>中国冰箱产量</td>\n",
       "    </tr>\n",
       "    <tr>\n",
       "      <th>S0028209</th>\n",
       "      <td>冰箱产量</td>\n",
       "    </tr>\n",
       "    <tr>\n",
       "      <th>S0073287</th>\n",
       "      <td>土地购置费</td>\n",
       "    </tr>\n",
       "    <tr>\n",
       "      <th>S0073363</th>\n",
       "      <td>天津商品房销售面积</td>\n",
       "    </tr>\n",
       "    <tr>\n",
       "      <th>S0073244</th>\n",
       "      <td>房地产开发投资资金来源</td>\n",
       "    </tr>\n",
       "    <tr>\n",
       "      <th>S0028205</th>\n",
       "      <td>空调产量</td>\n",
       "    </tr>\n",
       "    <tr>\n",
       "      <th>S0028205</th>\n",
       "      <td>中国空调产量</td>\n",
       "    </tr>\n",
       "    <tr>\n",
       "      <th>M0055579</th>\n",
       "      <td>苏州商品房销售面积</td>\n",
       "    </tr>\n",
       "    <tr>\n",
       "      <th>S0049494</th>\n",
       "      <td>上交所铝库存</td>\n",
       "    </tr>\n",
       "    <tr>\n",
       "      <th>S0027801</th>\n",
       "      <td>机床产量</td>\n",
       "    </tr>\n",
       "    <tr>\n",
       "      <th>S0027377</th>\n",
       "      <td>粗钢产量</td>\n",
       "    </tr>\n",
       "    <tr>\n",
       "      <th>S0027495</th>\n",
       "      <td>钢材出口量</td>\n",
       "    </tr>\n",
       "    <tr>\n",
       "      <th>S0030527</th>\n",
       "      <td>深圳港口集装箱吞吐量</td>\n",
       "    </tr>\n",
       "  </tbody>\n",
       "</table>\n",
       "</div>"
      ],
      "text/plain": [
       "                    名称\n",
       "代码                    \n",
       "M0000617        CPI-粮食\n",
       "M0000622        CPI-鲜菜\n",
       "M0000612  消费者物价指数（CPI）\n",
       "M0009973     月度新增人民币贷款\n",
       "S6114593         乘用车销量\n",
       "S0026990          原煤产量\n",
       "S0027375          粗钢产量\n",
       "S0027938          轿车产量\n",
       "S0027635         铜材进口量\n",
       "S0027162          乙烯产量\n",
       "S0027078          尿素产量\n",
       "S0027282         尿素出口量\n",
       "S0027713        平板玻璃产量\n",
       "S0027713        平板玻璃产量\n",
       "S0027910          汽车产量\n",
       "S0027910        中国汽车产量\n",
       "S0027186         聚乙烯产量\n",
       "S0027066       合成氨产量增速\n",
       "S0027705        水泥产量增速\n",
       "S0027705          水泥产量\n",
       "S5103573       炼焦煤出口数量\n",
       "S5103411       炼焦煤进口数量\n",
       "S0027009       焦炭出口量增速\n",
       "S0027373        生铁产量增速\n",
       "S0027373          生铁产量\n",
       "S0027373          生铁产量\n",
       "M0000607      出口总额同比增速\n",
       "S0073300     全国商品房销售面积\n",
       "S0028209          冰箱产量\n",
       "S0028209        中国冰箱产量\n",
       "S0028209          冰箱产量\n",
       "S0073287         土地购置费\n",
       "S0073363     天津商品房销售面积\n",
       "S0073244   房地产开发投资资金来源\n",
       "S0028205          空调产量\n",
       "S0028205        中国空调产量\n",
       "M0055579     苏州商品房销售面积\n",
       "S0049494        上交所铝库存\n",
       "S0027801          机床产量\n",
       "S0027377          粗钢产量\n",
       "S0027495         钢材出口量\n",
       "S0030527    深圳港口集装箱吞吐量"
      ]
     },
     "execution_count": 23,
     "metadata": {},
     "output_type": "execute_result"
    }
   ],
   "source": [
    "ldf.loc[X.columns[lasso.coef_ != 0]]"
   ]
  },
  {
   "cell_type": "code",
   "execution_count": 24,
   "metadata": {},
   "outputs": [
    {
     "data": {
      "text/plain": [
       "Lasso(alpha=0.01, copy_X=True, fit_intercept=True, max_iter=1000,\n",
       "   normalize=False, positive=False, precompute=False, random_state=None,\n",
       "   selection='cyclic', tol=0.0001, warm_start=False)"
      ]
     },
     "execution_count": 24,
     "metadata": {},
     "output_type": "execute_result"
    }
   ],
   "source": [
    "# reg = linear_model.LinearRegression()\n",
    "reg = linear_model.Lasso(alpha=0.01)\n",
    "reg.fit(X, reg_y)"
   ]
  },
  {
   "cell_type": "code",
   "execution_count": 25,
   "metadata": {},
   "outputs": [
    {
     "data": {
      "text/plain": [
       "0.28127127665366891"
      ]
     },
     "execution_count": 25,
     "metadata": {},
     "output_type": "execute_result"
    }
   ],
   "source": [
    "reg.score(X, reg_y)"
   ]
  },
  {
   "cell_type": "code",
   "execution_count": 26,
   "metadata": {},
   "outputs": [],
   "source": [
    "scores = cross_val_score(reg, X, reg_y, cv=10)"
   ]
  },
  {
   "cell_type": "code",
   "execution_count": 27,
   "metadata": {},
   "outputs": [
    {
     "data": {
      "text/plain": [
       "array([-1.6246807 , -0.37214201, -0.22296907, -0.02696998, -1.37814791,\n",
       "       -0.03717498, -0.37739972, -0.05345445, -0.10422036, -1.88612235])"
      ]
     },
     "execution_count": 27,
     "metadata": {},
     "output_type": "execute_result"
    }
   ],
   "source": [
    "scores"
   ]
  },
  {
   "cell_type": "markdown",
   "metadata": {},
   "source": [
    "scores.mean()"
   ]
  },
  {
   "cell_type": "code",
   "execution_count": 29,
   "metadata": {},
   "outputs": [
    {
     "data": {
      "text/plain": [
       "<matplotlib.collections.PathCollection at 0xcf1cac8>"
      ]
     },
     "execution_count": 29,
     "metadata": {},
     "output_type": "execute_result"
    },
    {
     "data": {
      "image/png": "[encoded data removed]",
      "text/plain": [
       "<matplotlib.figure.Figure at 0x1e97bf28>"
      ]
     },
     "metadata": {},
     "output_type": "display_data"
    }
   ],
   "source": [
    "plt.figure(figsize=(16, 9))\n",
    "plt.scatter(reg.predict(X), reg_y)"
   ]
  },
  {
   "cell_type": "markdown",
   "metadata": {},
   "source": [
    "# 分类问题"
   ]
  },
  {
   "cell_type": "code",
   "execution_count": 30,
   "metadata": {},
   "outputs": [
    {
     "data": {
      "text/plain": [
       "SVC(C=0.5, cache_size=200, class_weight=None, coef0=0.0,\n",
       "  decision_function_shape='ovr', degree=3, gamma='auto', kernel='rbf',\n",
       "  max_iter=-1, probability=False, random_state=None, shrinking=True,\n",
       "  tol=0.001, verbose=False)"
      ]
     },
     "execution_count": 30,
     "metadata": {},
     "output_type": "execute_result"
    }
   ],
   "source": [
    "clf = svm.SVC(C=0.5)\n",
    "clf.fit(X, y)"
   ]
  },
  {
   "cell_type": "code",
   "execution_count": 31,
   "metadata": {
    "collapsed": true
   },
   "outputs": [],
   "source": [
    "scores = cross_val_score(clf, X, y, cv=10)"
   ]
  },
  {
   "cell_type": "code",
   "execution_count": 32,
   "metadata": {},
   "outputs": [
    {
     "data": {
      "text/plain": [
       "0.542156862745098"
      ]
     },
     "execution_count": 32,
     "metadata": {},
     "output_type": "execute_result"
    }
   ],
   "source": [
    "scores.mean()"
   ]
  },
  {
   "cell_type": "markdown",
   "metadata": {},
   "source": [
    "# 行业相对排名"
   ]
  },
  {
   "cell_type": "code",
   "execution_count": 56,
   "metadata": {},
   "outputs": [],
   "source": [
    "k = 3\n",
    "rdf = sdf.resample('BM').last().pct_change(periods=k)\n",
    "rdf = rdf[(rdf.index >= '2004-01-01') & (rdf.index <= '2018-02-28')]\n",
    "acc_df = rdf.subtract(rdf['881001.WI'].values, axis=0)\n",
    "acc_df = acc_df[acc_df.columns.difference(['881001.WI'])]"
   ]
  },
  {
   "cell_type": "code",
   "execution_count": 67,
   "metadata": {},
   "outputs": [],
   "source": [
    "# rank_df = acc_df.rank(axis=1, pct=True)\n",
    "rank_df = acc_df.rank(axis=1)\n",
    "rank_df = (rank_df / 23).astype(int)"
   ]
  },
  {
   "cell_type": "code",
   "execution_count": 68,
   "metadata": {},
   "outputs": [],
   "source": [
    "X = df.pct_change(periods=12).iloc[12:].replace([-np.inf, np.inf], np.NAN).fillna(method='ffill').copy()\n",
    "# X = df.copy()\n",
    "y = rank_df['886052.WI'].iloc[12:]\n",
    "# y = rank_df['886033.WI']"
   ]
  },
  {
   "cell_type": "code",
   "execution_count": 69,
   "metadata": {},
   "outputs": [
    {
     "name": "stdout",
     "output_type": "stream",
     "text": [
      "(155, 114) (155L,)\n"
     ]
    }
   ],
   "source": [
    "X = X.iloc[:-k]\n",
    "y = y.shift(-k).iloc[:-k]\n",
    "print X.shape, y.shape"
   ]
  },
  {
   "cell_type": "code",
   "execution_count": 70,
   "metadata": {},
   "outputs": [
    {
     "name": "stdout",
     "output_type": "stream",
     "text": [
      "(155, 114) (155L,)\n",
      "[ 2.  1.  0.]\n"
     ]
    }
   ],
   "source": [
    "print X.shape, y.shape\n",
    "print y.unique()"
   ]
  },
  {
   "cell_type": "code",
   "execution_count": 61,
   "metadata": {},
   "outputs": [
    {
     "data": {
      "text/plain": [
       "Lasso(alpha=0.1, copy_X=True, fit_intercept=True, max_iter=1000,\n",
       "   normalize=False, positive=False, precompute=False, random_state=None,\n",
       "   selection='cyclic', tol=0.0001, warm_start=False)"
      ]
     },
     "execution_count": 61,
     "metadata": {},
     "output_type": "execute_result"
    }
   ],
   "source": [
    "lr = linear_model.Lasso(alpha=0.1)\n",
    "lr.fit(X, y)"
   ]
  },
  {
   "cell_type": "code",
   "execution_count": 62,
   "metadata": {},
   "outputs": [
    {
     "data": {
      "text/html": [
       "<div>\n",
       "<style scoped>\n",
       "    .dataframe tbody tr th:only-of-type {\n",
       "        vertical-align: middle;\n",
       "    }\n",
       "\n",
       "    .dataframe tbody tr th {\n",
       "        vertical-align: top;\n",
       "    }\n",
       "\n",
       "    .dataframe thead th {\n",
       "        text-align: right;\n",
       "    }\n",
       "</style>\n",
       "<table border=\"1\" class=\"dataframe\">\n",
       "  <thead>\n",
       "    <tr style=\"text-align: right;\">\n",
       "      <th></th>\n",
       "      <th>名称</th>\n",
       "    </tr>\n",
       "    <tr>\n",
       "      <th>代码</th>\n",
       "      <th></th>\n",
       "    </tr>\n",
       "  </thead>\n",
       "  <tbody>\n",
       "    <tr>\n",
       "      <th>M0000617</th>\n",
       "      <td>CPI-粮食</td>\n",
       "    </tr>\n",
       "    <tr>\n",
       "      <th>M0000622</th>\n",
       "      <td>CPI-鲜菜</td>\n",
       "    </tr>\n",
       "    <tr>\n",
       "      <th>S6114593</th>\n",
       "      <td>乘用车销量</td>\n",
       "    </tr>\n",
       "    <tr>\n",
       "      <th>S0026990</th>\n",
       "      <td>原煤产量</td>\n",
       "    </tr>\n",
       "    <tr>\n",
       "      <th>S0073293</th>\n",
       "      <td>房地产新开工施工面积增速</td>\n",
       "    </tr>\n",
       "    <tr>\n",
       "      <th>S0073293</th>\n",
       "      <td>房地产新开工面积</td>\n",
       "    </tr>\n",
       "    <tr>\n",
       "      <th>S0073293</th>\n",
       "      <td>房地产新开工施工面积增速</td>\n",
       "    </tr>\n",
       "    <tr>\n",
       "      <th>S0073293</th>\n",
       "      <td>房地产新开工面积</td>\n",
       "    </tr>\n",
       "    <tr>\n",
       "      <th>S0073293</th>\n",
       "      <td>中国房地产新开工面积</td>\n",
       "    </tr>\n",
       "    <tr>\n",
       "      <th>S0027375</th>\n",
       "      <td>粗钢产量</td>\n",
       "    </tr>\n",
       "    <tr>\n",
       "      <th>S0027938</th>\n",
       "      <td>轿车产量</td>\n",
       "    </tr>\n",
       "    <tr>\n",
       "      <th>S0027635</th>\n",
       "      <td>铜材进口量</td>\n",
       "    </tr>\n",
       "    <tr>\n",
       "      <th>S0027282</th>\n",
       "      <td>尿素出口量</td>\n",
       "    </tr>\n",
       "    <tr>\n",
       "      <th>S0027713</th>\n",
       "      <td>平板玻璃产量</td>\n",
       "    </tr>\n",
       "    <tr>\n",
       "      <th>S0027713</th>\n",
       "      <td>平板玻璃产量</td>\n",
       "    </tr>\n",
       "    <tr>\n",
       "      <th>S0027910</th>\n",
       "      <td>汽车产量</td>\n",
       "    </tr>\n",
       "    <tr>\n",
       "      <th>S0027910</th>\n",
       "      <td>中国汽车产量</td>\n",
       "    </tr>\n",
       "    <tr>\n",
       "      <th>S0027098</th>\n",
       "      <td>纯碱产量</td>\n",
       "    </tr>\n",
       "    <tr>\n",
       "      <th>S0027186</th>\n",
       "      <td>聚乙烯产量</td>\n",
       "    </tr>\n",
       "    <tr>\n",
       "      <th>S0027066</th>\n",
       "      <td>合成氨产量增速</td>\n",
       "    </tr>\n",
       "    <tr>\n",
       "      <th>S0027705</th>\n",
       "      <td>水泥产量增速</td>\n",
       "    </tr>\n",
       "    <tr>\n",
       "      <th>S0027705</th>\n",
       "      <td>水泥产量</td>\n",
       "    </tr>\n",
       "    <tr>\n",
       "      <th>S0027019</th>\n",
       "      <td>火电生产量当月同比增速</td>\n",
       "    </tr>\n",
       "    <tr>\n",
       "      <th>S5103573</th>\n",
       "      <td>炼焦煤出口数量</td>\n",
       "    </tr>\n",
       "    <tr>\n",
       "      <th>S0027009</th>\n",
       "      <td>焦炭出口量增速</td>\n",
       "    </tr>\n",
       "    <tr>\n",
       "      <th>S0049591</th>\n",
       "      <td>全国商品房销售额</td>\n",
       "    </tr>\n",
       "    <tr>\n",
       "      <th>S0073287</th>\n",
       "      <td>土地购置费</td>\n",
       "    </tr>\n",
       "    <tr>\n",
       "      <th>S0073363</th>\n",
       "      <td>天津商品房销售面积</td>\n",
       "    </tr>\n",
       "    <tr>\n",
       "      <th>S0028205</th>\n",
       "      <td>空调产量</td>\n",
       "    </tr>\n",
       "    <tr>\n",
       "      <th>S0028205</th>\n",
       "      <td>中国空调产量</td>\n",
       "    </tr>\n",
       "    <tr>\n",
       "      <th>M0055579</th>\n",
       "      <td>苏州商品房销售面积</td>\n",
       "    </tr>\n",
       "    <tr>\n",
       "      <th>S0049494</th>\n",
       "      <td>上交所铝库存</td>\n",
       "    </tr>\n",
       "    <tr>\n",
       "      <th>S0027586</th>\n",
       "      <td>锌产量</td>\n",
       "    </tr>\n",
       "    <tr>\n",
       "      <th>S0027377</th>\n",
       "      <td>粗钢产量</td>\n",
       "    </tr>\n",
       "    <tr>\n",
       "      <th>S0027495</th>\n",
       "      <td>钢材出口量</td>\n",
       "    </tr>\n",
       "    <tr>\n",
       "      <th>S0030509</th>\n",
       "      <td>大连港口集装箱吞吐量</td>\n",
       "    </tr>\n",
       "    <tr>\n",
       "      <th>S0030503</th>\n",
       "      <td>沿海主要港口集装箱吞吐量</td>\n",
       "    </tr>\n",
       "    <tr>\n",
       "      <th>S0030527</th>\n",
       "      <td>深圳港口集装箱吞吐量</td>\n",
       "    </tr>\n",
       "  </tbody>\n",
       "</table>\n",
       "</div>"
      ],
      "text/plain": [
       "                    名称\n",
       "代码                    \n",
       "M0000617        CPI-粮食\n",
       "M0000622        CPI-鲜菜\n",
       "S6114593         乘用车销量\n",
       "S0026990          原煤产量\n",
       "S0073293  房地产新开工施工面积增速\n",
       "S0073293      房地产新开工面积\n",
       "S0073293  房地产新开工施工面积增速\n",
       "S0073293      房地产新开工面积\n",
       "S0073293    中国房地产新开工面积\n",
       "S0027375          粗钢产量\n",
       "S0027938          轿车产量\n",
       "S0027635         铜材进口量\n",
       "S0027282         尿素出口量\n",
       "S0027713        平板玻璃产量\n",
       "S0027713        平板玻璃产量\n",
       "S0027910          汽车产量\n",
       "S0027910        中国汽车产量\n",
       "S0027098          纯碱产量\n",
       "S0027186         聚乙烯产量\n",
       "S0027066       合成氨产量增速\n",
       "S0027705        水泥产量增速\n",
       "S0027705          水泥产量\n",
       "S0027019   火电生产量当月同比增速\n",
       "S5103573       炼焦煤出口数量\n",
       "S0027009       焦炭出口量增速\n",
       "S0049591      全国商品房销售额\n",
       "S0073287         土地购置费\n",
       "S0073363     天津商品房销售面积\n",
       "S0028205          空调产量\n",
       "S0028205        中国空调产量\n",
       "M0055579     苏州商品房销售面积\n",
       "S0049494        上交所铝库存\n",
       "S0027586           锌产量\n",
       "S0027377          粗钢产量\n",
       "S0027495         钢材出口量\n",
       "S0030509    大连港口集装箱吞吐量\n",
       "S0030503  沿海主要港口集装箱吞吐量\n",
       "S0030527    深圳港口集装箱吞吐量"
      ]
     },
     "execution_count": 62,
     "metadata": {},
     "output_type": "execute_result"
    }
   ],
   "source": [
    "ldf.loc[X.columns[lr.coef_ != 0]]"
   ]
  },
  {
   "cell_type": "code",
   "execution_count": 63,
   "metadata": {},
   "outputs": [],
   "source": [
    "scores = cross_val_score(lr, X, y, cv=10)"
   ]
  },
  {
   "cell_type": "code",
   "execution_count": 64,
   "metadata": {},
   "outputs": [
    {
     "data": {
      "text/plain": [
       "0.23435654803589723"
      ]
     },
     "execution_count": 64,
     "metadata": {},
     "output_type": "execute_result"
    }
   ],
   "source": [
    "lr.score(X, y)"
   ]
  },
  {
   "cell_type": "code",
   "execution_count": 65,
   "metadata": {},
   "outputs": [
    {
     "data": {
      "text/plain": [
       "-1.0582785586518029"
      ]
     },
     "execution_count": 65,
     "metadata": {},
     "output_type": "execute_result"
    }
   ],
   "source": [
    "scores.mean()"
   ]
  },
  {
   "cell_type": "code",
   "execution_count": 66,
   "metadata": {},
   "outputs": [
    {
     "data": {
      "text/plain": [
       "<matplotlib.collections.PathCollection at 0xcb10518>"
      ]
     },
     "execution_count": 66,
     "metadata": {},
     "output_type": "execute_result"
    },
    {
     "data": {
      "image/png": "[encoded data removed]",
      "text/plain": [
       "<matplotlib.figure.Figure at 0xcd62048>"
      ]
     },
     "metadata": {},
     "output_type": "display_data"
    }
   ],
   "source": [
    "plt.figure(figsize=(16, 9))\n",
    "plt.scatter(lr.predict(X), y)"
   ]
  },
  {
   "cell_type": "code",
   "execution_count": 111,
   "metadata": {},
   "outputs": [
    {
     "data": {
      "text/plain": [
       "RandomForestClassifier(bootstrap=True, class_weight=None, criterion='gini',\n",
       "            max_depth=2, max_features=80, max_leaf_nodes=None,\n",
       "            min_impurity_decrease=0.0, min_impurity_split=None,\n",
       "            min_samples_leaf=1, min_samples_split=2,\n",
       "            min_weight_fraction_leaf=0.0, n_estimators=10, n_jobs=1,\n",
       "            oob_score=False, random_state=None, verbose=0,\n",
       "            warm_start=False)"
      ]
     },
     "execution_count": 111,
     "metadata": {},
     "output_type": "execute_result"
    }
   ],
   "source": [
    "# clf = svm.SVC(C=1)\n",
    "clf = ensemble.RandomForestClassifier(max_depth=2, max_features=80)\n",
    "# clf = linear_model.LogisticRegression(C=0.8)\n",
    "clf.fit(X, y)"
   ]
  },
  {
   "cell_type": "code",
   "execution_count": 112,
   "metadata": {},
   "outputs": [],
   "source": [
    "scores = cross_val_score(clf, X, y, cv=10)"
   ]
  },
  {
   "cell_type": "code",
   "execution_count": 113,
   "metadata": {},
   "outputs": [
    {
     "data": {
      "text/plain": [
       "array([ 0.17647059,  0.05882353,  0.3125    ,  0.375     ,  0.25      ,\n",
       "        0.33333333,  0.4       ,  0.53333333,  0.14285714,  0.14285714])"
      ]
     },
     "execution_count": 113,
     "metadata": {},
     "output_type": "execute_result"
    }
   ],
   "source": [
    "scores"
   ]
  },
  {
   "cell_type": "code",
   "execution_count": 114,
   "metadata": {},
   "outputs": [
    {
     "data": {
      "text/plain": [
       "0.27251750700280108"
      ]
     },
     "execution_count": 114,
     "metadata": {},
     "output_type": "execute_result"
    }
   ],
   "source": [
    "scores.mean()"
   ]
  },
  {
   "cell_type": "code",
   "execution_count": 115,
   "metadata": {},
   "outputs": [
    {
     "data": {
      "text/html": [
       "<div>\n",
       "<style scoped>\n",
       "    .dataframe tbody tr th:only-of-type {\n",
       "        vertical-align: middle;\n",
       "    }\n",
       "\n",
       "    .dataframe tbody tr th {\n",
       "        vertical-align: top;\n",
       "    }\n",
       "\n",
       "    .dataframe thead th {\n",
       "        text-align: right;\n",
       "    }\n",
       "</style>\n",
       "<table border=\"1\" class=\"dataframe\">\n",
       "  <thead>\n",
       "    <tr style=\"text-align: right;\">\n",
       "      <th></th>\n",
       "      <th>名称</th>\n",
       "    </tr>\n",
       "    <tr>\n",
       "      <th>代码</th>\n",
       "      <th></th>\n",
       "    </tr>\n",
       "  </thead>\n",
       "  <tbody>\n",
       "    <tr>\n",
       "      <th>M0000617</th>\n",
       "      <td>CPI-粮食</td>\n",
       "    </tr>\n",
       "    <tr>\n",
       "      <th>M0001383</th>\n",
       "      <td>M1同比增速</td>\n",
       "    </tr>\n",
       "    <tr>\n",
       "      <th>M0001383</th>\n",
       "      <td>M1</td>\n",
       "    </tr>\n",
       "    <tr>\n",
       "      <th>M0001383</th>\n",
       "      <td>M1</td>\n",
       "    </tr>\n",
       "    <tr>\n",
       "      <th>M0009941</th>\n",
       "      <td>人民币存款同比增速</td>\n",
       "    </tr>\n",
       "    <tr>\n",
       "      <th>M5567879</th>\n",
       "      <td>名义GDP</td>\n",
       "    </tr>\n",
       "    <tr>\n",
       "      <th>M0009973</th>\n",
       "      <td>月度新增人民币贷款</td>\n",
       "    </tr>\n",
       "    <tr>\n",
       "      <th>S0073293</th>\n",
       "      <td>房地产新开工施工面积增速</td>\n",
       "    </tr>\n",
       "    <tr>\n",
       "      <th>S0073293</th>\n",
       "      <td>房地产新开工面积</td>\n",
       "    </tr>\n",
       "    <tr>\n",
       "      <th>S0073293</th>\n",
       "      <td>房地产新开工施工面积增速</td>\n",
       "    </tr>\n",
       "    <tr>\n",
       "      <th>S0073293</th>\n",
       "      <td>房地产新开工面积</td>\n",
       "    </tr>\n",
       "    <tr>\n",
       "      <th>S0073293</th>\n",
       "      <td>中国房地产新开工面积</td>\n",
       "    </tr>\n",
       "    <tr>\n",
       "      <th>S0027938</th>\n",
       "      <td>轿车产量</td>\n",
       "    </tr>\n",
       "    <tr>\n",
       "      <th>S0027635</th>\n",
       "      <td>铜材进口量</td>\n",
       "    </tr>\n",
       "    <tr>\n",
       "      <th>G1000132</th>\n",
       "      <td>OECD工业生产指数</td>\n",
       "    </tr>\n",
       "    <tr>\n",
       "      <th>G1000132</th>\n",
       "      <td>OECD工业生产指数</td>\n",
       "    </tr>\n",
       "    <tr>\n",
       "      <th>S0027162</th>\n",
       "      <td>乙烯产量</td>\n",
       "    </tr>\n",
       "    <tr>\n",
       "      <th>S0027713</th>\n",
       "      <td>平板玻璃产量</td>\n",
       "    </tr>\n",
       "    <tr>\n",
       "      <th>S0027713</th>\n",
       "      <td>平板玻璃产量</td>\n",
       "    </tr>\n",
       "    <tr>\n",
       "      <th>S5103551</th>\n",
       "      <td>动力煤出口数量</td>\n",
       "    </tr>\n",
       "    <tr>\n",
       "      <th>S0048337</th>\n",
       "      <td>发电累计耗用原煤</td>\n",
       "    </tr>\n",
       "    <tr>\n",
       "      <th>S5111905</th>\n",
       "      <td>布伦特原油现货价</td>\n",
       "    </tr>\n",
       "    <tr>\n",
       "      <th>M0000607</th>\n",
       "      <td>出口总额同比增速</td>\n",
       "    </tr>\n",
       "    <tr>\n",
       "      <th>S0073489</th>\n",
       "      <td>上海商品房销售面积</td>\n",
       "    </tr>\n",
       "    <tr>\n",
       "      <th>S0073287</th>\n",
       "      <td>土地购置费</td>\n",
       "    </tr>\n",
       "    <tr>\n",
       "      <th>S2704614</th>\n",
       "      <td>武汉商品房销售面积</td>\n",
       "    </tr>\n",
       "    <tr>\n",
       "      <th>S0027562</th>\n",
       "      <td>铜产量</td>\n",
       "    </tr>\n",
       "    <tr>\n",
       "      <th>S0027586</th>\n",
       "      <td>锌产量</td>\n",
       "    </tr>\n",
       "    <tr>\n",
       "      <th>S0033155</th>\n",
       "      <td>上海1.0毫米冷轧价格</td>\n",
       "    </tr>\n",
       "    <tr>\n",
       "      <th>S0027377</th>\n",
       "      <td>粗钢产量</td>\n",
       "    </tr>\n",
       "    <tr>\n",
       "      <th>S5706262</th>\n",
       "      <td>螺纹钢产量</td>\n",
       "    </tr>\n",
       "  </tbody>\n",
       "</table>\n",
       "</div>"
      ],
      "text/plain": [
       "                    名称\n",
       "代码                    \n",
       "M0000617        CPI-粮食\n",
       "M0001383        M1同比增速\n",
       "M0001383            M1\n",
       "M0001383            M1\n",
       "M0009941     人民币存款同比增速\n",
       "M5567879         名义GDP\n",
       "M0009973     月度新增人民币贷款\n",
       "S0073293  房地产新开工施工面积增速\n",
       "S0073293      房地产新开工面积\n",
       "S0073293  房地产新开工施工面积增速\n",
       "S0073293      房地产新开工面积\n",
       "S0073293    中国房地产新开工面积\n",
       "S0027938          轿车产量\n",
       "S0027635         铜材进口量\n",
       "G1000132    OECD工业生产指数\n",
       "G1000132    OECD工业生产指数\n",
       "S0027162          乙烯产量\n",
       "S0027713        平板玻璃产量\n",
       "S0027713        平板玻璃产量\n",
       "S5103551       动力煤出口数量\n",
       "S0048337      发电累计耗用原煤\n",
       "S5111905      布伦特原油现货价\n",
       "M0000607      出口总额同比增速\n",
       "S0073489     上海商品房销售面积\n",
       "S0073287         土地购置费\n",
       "S2704614     武汉商品房销售面积\n",
       "S0027562           铜产量\n",
       "S0027586           锌产量\n",
       "S0033155   上海1.0毫米冷轧价格\n",
       "S0027377          粗钢产量\n",
       "S5706262         螺纹钢产量"
      ]
     },
     "execution_count": 115,
     "metadata": {},
     "output_type": "execute_result"
    }
   ],
   "source": [
    "ldf.loc[X.columns[clf.feature_importances_ != 0]]"
   ]
  },
  {
   "cell_type": "markdown",
   "metadata": {},
   "source": [
    "# 无监督学习市场特征"
   ]
  },
  {
   "cell_type": "code",
   "execution_count": 116,
   "metadata": {},
   "outputs": [],
   "source": [
    "X = pd.DataFrame(index=df.index, columns=df.columns)\n",
    "for date in df.index:\n",
    "    past = df[df.index <= date][-60:] # 过去5年\n",
    "    X.loc[date] = (df.loc[date] - past.mean()) / past.std()\n",
    "X = X.loc[X.index[24:]]"
   ]
  },
  {
   "cell_type": "code",
   "execution_count": 117,
   "metadata": {},
   "outputs": [],
   "source": [
    "ac_ret = rdf['886057.WI'] - rdf['881001.WI']"
   ]
  },
  {
   "cell_type": "code",
   "execution_count": 119,
   "metadata": {},
   "outputs": [
    {
     "data": {
      "text/plain": [
       "<matplotlib.axes._subplots.AxesSubplot at 0x203c5518>"
      ]
     },
     "execution_count": 119,
     "metadata": {},
     "output_type": "execute_result"
    },
    {
     "data": {
      "image/png": "[encoded data removed]",
      "text/plain": [
       "<matplotlib.figure.Figure at 0xcd6cb38>"
      ]
     },
     "metadata": {},
     "output_type": "display_data"
    }
   ],
   "source": [
    "(1 + ac_ret).cumprod().plot(figsize=(16, 9))"
   ]
  },
  {
   "cell_type": "code",
   "execution_count": 996,
   "metadata": {},
   "outputs": [],
   "source": [
    "scenario = X[(X.index >= '2007-01-01') & (X.index <= '2008-01-01')].copy()"
   ]
  },
  {
   "cell_type": "code",
   "execution_count": 997,
   "metadata": {},
   "outputs": [],
   "source": [
    "data = scenario - scenario.mean(axis=0)\n",
    "R = np.cov(data.astype(float), rowvar=False)\n",
    "evals, evecs = np.linalg.eigh(R)\n",
    "idx = np.argsort(evals)[::-1]\n",
    "evecs = evecs[:, idx]\n",
    "evals = evals[idx]"
   ]
  },
  {
   "cell_type": "code",
   "execution_count": 998,
   "metadata": {},
   "outputs": [
    {
     "data": {
      "text/plain": [
       "array([ 0.57601322,  0.77240976,  0.89584284,  0.95314955,  0.96860286,\n",
       "        0.97936827,  0.98858731,  0.99342088,  0.99715907,  0.99911898,\n",
       "        1.        ,  1.        ,  1.        ,  1.        ,  1.        ,\n",
       "        1.        ,  1.        ,  1.        ,  1.        ,  1.        ,\n",
       "        1.        ,  1.        ,  1.        ,  1.        ,  1.        ,\n",
       "        1.        ,  1.        ,  1.        ,  1.        ,  1.        ,\n",
       "        1.        ,  1.        ,  1.        ,  1.        ,  1.        ,\n",
       "        1.        ,  1.        ,  1.        ,  1.        ,  1.        ,\n",
       "        1.        ,  1.        ,  1.        ,  1.        ,  1.        ,\n",
       "        1.        ,  1.        ,  1.        ,  1.        ,  1.        ,\n",
       "        1.        ,  1.        ,  1.        ,  1.        ,  1.        ,\n",
       "        1.        ,  1.        ,  1.        ,  1.        ,  1.        ,\n",
       "        1.        ,  1.        ,  1.        ,  1.        ,  1.        ,\n",
       "        1.        ,  1.        ,  1.        ,  1.        ,  1.        ,\n",
       "        1.        ,  1.        ,  1.        ,  1.        ,  1.        ,\n",
       "        1.        ,  1.        ,  1.        ,  1.        ,  1.        ,\n",
       "        1.        ,  1.        ,  1.        ,  1.        ,  1.        ,\n",
       "        1.        ,  1.        ,  1.        ,  1.        ,  1.        ,\n",
       "        1.        ,  1.        ,  1.        ,  1.        ,  1.        ,\n",
       "        1.        ,  1.        ,  1.        ,  1.        ,  1.        ,\n",
       "        1.        ,  1.        ,  1.        ,  1.        ,  1.        ,\n",
       "        1.        ,  1.        ,  1.        ,  1.        ,  1.        ,\n",
       "        1.        ,  1.        ,  1.        ,  1.        ])"
      ]
     },
     "execution_count": 998,
     "metadata": {},
     "output_type": "execute_result"
    }
   ],
   "source": [
    "evals.cumsum() / evals.sum()"
   ]
  },
  {
   "cell_type": "code",
   "execution_count": 999,
   "metadata": {},
   "outputs": [],
   "source": [
    "K = 4\n",
    "# evecs = evecs[:, :K]\n",
    "X_tran = np.dot(evecs[:, :K].T, X.T)"
   ]
  },
  {
   "cell_type": "code",
   "execution_count": 1000,
   "metadata": {},
   "outputs": [],
   "source": [
    "trans_df = pd.DataFrame(X_tran.T, index=X.index, columns=range(1,X_tran.shape[0]+1))"
   ]
  },
  {
   "cell_type": "code",
   "execution_count": 1001,
   "metadata": {},
   "outputs": [
    {
     "data": {
      "text/html": [
       "<div>\n",
       "<style scoped>\n",
       "    .dataframe tbody tr th:only-of-type {\n",
       "        vertical-align: middle;\n",
       "    }\n",
       "\n",
       "    .dataframe tbody tr th {\n",
       "        vertical-align: top;\n",
       "    }\n",
       "\n",
       "    .dataframe thead th {\n",
       "        text-align: right;\n",
       "    }\n",
       "</style>\n",
       "<table border=\"1\" class=\"dataframe\">\n",
       "  <thead>\n",
       "    <tr style=\"text-align: right;\">\n",
       "      <th></th>\n",
       "      <th>1</th>\n",
       "      <th>2</th>\n",
       "      <th>3</th>\n",
       "      <th>4</th>\n",
       "    </tr>\n",
       "  </thead>\n",
       "  <tbody>\n",
       "    <tr>\n",
       "      <th>2006-01-31</th>\n",
       "      <td>-2.25281</td>\n",
       "      <td>1.2615</td>\n",
       "      <td>-3.67619</td>\n",
       "      <td>-1.61907</td>\n",
       "    </tr>\n",
       "    <tr>\n",
       "      <th>2006-02-28</th>\n",
       "      <td>-2.96088</td>\n",
       "      <td>-1.83599</td>\n",
       "      <td>-3.02891</td>\n",
       "      <td>-0.0682151</td>\n",
       "    </tr>\n",
       "    <tr>\n",
       "      <th>2006-03-31</th>\n",
       "      <td>-3.24656</td>\n",
       "      <td>-1.28926</td>\n",
       "      <td>-3.15967</td>\n",
       "      <td>0.714798</td>\n",
       "    </tr>\n",
       "    <tr>\n",
       "      <th>2006-04-28</th>\n",
       "      <td>-2.74466</td>\n",
       "      <td>-1.11692</td>\n",
       "      <td>-3.09705</td>\n",
       "      <td>0.584713</td>\n",
       "    </tr>\n",
       "    <tr>\n",
       "      <th>2006-05-31</th>\n",
       "      <td>-1.54569</td>\n",
       "      <td>-0.18654</td>\n",
       "      <td>-3.29815</td>\n",
       "      <td>0.711768</td>\n",
       "    </tr>\n",
       "  </tbody>\n",
       "</table>\n",
       "</div>"
      ],
      "text/plain": [
       "                  1        2        3          4\n",
       "2006-01-31 -2.25281   1.2615 -3.67619   -1.61907\n",
       "2006-02-28 -2.96088 -1.83599 -3.02891 -0.0682151\n",
       "2006-03-31 -3.24656 -1.28926 -3.15967   0.714798\n",
       "2006-04-28 -2.74466 -1.11692 -3.09705   0.584713\n",
       "2006-05-31 -1.54569 -0.18654 -3.29815   0.711768"
      ]
     },
     "execution_count": 1001,
     "metadata": {},
     "output_type": "execute_result"
    }
   ],
   "source": [
    "trans_df.head()"
   ]
  },
  {
   "cell_type": "code",
   "execution_count": 1002,
   "metadata": {},
   "outputs": [
    {
     "data": {
      "text/plain": [
       "<matplotlib.axes._subplots.AxesSubplot at 0x273ec470>"
      ]
     },
     "execution_count": 1002,
     "metadata": {},
     "output_type": "execute_result"
    },
    {
     "data": {
      "image/png": "[encoded data removed]",
      "text/plain": [
       "<matplotlib.figure.Figure at 0x271c49e8>"
      ]
     },
     "metadata": {},
     "output_type": "display_data"
    }
   ],
   "source": [
    "trans_df.plot(figsize=(16, 9))"
   ]
  },
  {
   "cell_type": "code",
   "execution_count": 1003,
   "metadata": {},
   "outputs": [],
   "source": [
    "def unit_vector(vector):\n",
    "    \"\"\" Returns the unit vector of the vector.  \"\"\"\n",
    "    return vector / np.linalg.norm(vector)\n",
    "\n",
    "def angle_between(v1, v2):\n",
    "    \"\"\" Returns the angle in radians between vectors 'v1' and 'v2'::\n",
    "\n",
    "            >>> angle_between((1, 0, 0), (0, 1, 0))\n",
    "            1.5707963267948966\n",
    "            >>> angle_between((1, 0, 0), (1, 0, 0))\n",
    "            0.0\n",
    "            >>> angle_between((1, 0, 0), (-1, 0, 0))\n",
    "            3.141592653589793\n",
    "    \"\"\"\n",
    "    v1_u = unit_vector(v1)\n",
    "    v2_u = unit_vector(v2)\n",
    "    ang = np.arccos(np.clip(np.dot(v1_u, v2_u), -1.0, 1.0))\n",
    "    return ang\n",
    "#     return ang if ang < np.pi else np.pi - ang"
   ]
  },
  {
   "cell_type": "code",
   "execution_count": 1004,
   "metadata": {},
   "outputs": [],
   "source": [
    "lambdas = evals[:K]\n",
    "lambdas = lambdas / lambdas.sum()"
   ]
  },
  {
   "cell_type": "code",
   "execution_count": 1005,
   "metadata": {},
   "outputs": [
    {
     "data": {
      "text/plain": [
       "array([ 0.60432617,  0.20605008,  0.12950023,  0.06012352])"
      ]
     },
     "execution_count": 1005,
     "metadata": {},
     "output_type": "execute_result"
    }
   ],
   "source": [
    "lambdas"
   ]
  },
  {
   "cell_type": "code",
   "execution_count": 1037,
   "metadata": {},
   "outputs": [],
   "source": [
    "angle = pd.Series(index=X.index)\n",
    "for index in X.index:\n",
    "    veca = X.loc[index]\n",
    "    # 求与特征向量的加权平均夹角\n",
    "    angs = [angle_between(veca, evecs[:, i]) for i in range(K)]\n",
    "    angle.loc[index] = np.array(angs).dot(lambdas)\n",
    "    # 求与情景点的平均夹角\n",
    "#     angs = [angle_between(veca, scenario.loc[i]) for i in scenario.index]\n",
    "#     angle.loc[index] = np.array(angs).mean()\n",
    "angle = angle.rolling(window=60).apply(lambda x: (x[-1] - x.mean()) / x.std())"
   ]
  },
  {
   "cell_type": "code",
   "execution_count": 1038,
   "metadata": {},
   "outputs": [
    {
     "data": {
      "text/plain": [
       "<matplotlib.axes._subplots.AxesSubplot at 0x2b315c50>"
      ]
     },
     "execution_count": 1038,
     "metadata": {},
     "output_type": "execute_result"
    },
    {
     "data": {
      "image/png": "[encoded data removed]",
      "text/plain": [
       "<matplotlib.figure.Figure at 0x2b142780>"
      ]
     },
     "metadata": {},
     "output_type": "display_data"
    }
   ],
   "source": [
    "angle.plot(figsize=(16, 9))\n",
    "# (1 + ac_ret).cumprod().plot(figsize=(16, 9))"
   ]
  },
  {
   "cell_type": "code",
   "execution_count": 1039,
   "metadata": {},
   "outputs": [],
   "source": [
    "pd.DataFrame({'angle': angle, 'ret': (1 + ac_ret).cumprod()}).to_excel('C:/Users/zhangyang01/Desktop/temp.xlsx')"
   ]
  },
  {
   "cell_type": "code",
   "execution_count": null,
   "metadata": {},
   "outputs": [],
   "source": []
  }
 ],
 "metadata": {
  "kernelspec": {
   "display_name": "Python 2",
   "language": "python",
   "name": "python2"
  },
  "language_info": {
   "codemirror_mode": {
    "name": "ipython",
    "version": 2
   },
   "file_extension": ".py",
   "mimetype": "text/x-python",
   "name": "python",
   "nbconvert_exporter": "python",
   "pygments_lexer": "ipython2",
   "version": "2.7.14"
  }
 },
 "nbformat": 4,
 "nbformat_minor": 2
}
