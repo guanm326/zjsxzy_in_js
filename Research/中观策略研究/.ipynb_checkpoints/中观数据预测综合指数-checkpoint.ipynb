{
 "cells": [
  {
   "cell_type": "code",
   "execution_count": 1,
   "metadata": {
    "collapsed": true
   },
   "outputs": [],
   "source": [
    "import pandas as pd\n",
    "import numpy as np\n",
    "import os\n",
    "import matplotlib.pyplot as plt\n",
    "import qgrid\n",
    "from WindPy import w\n",
    "from sklearn import linear_model\n",
    "from sklearn.model_selection import cross_val_predict\n",
    "from sklearn.model_selection import train_test_split\n",
    "from sklearn.model_selection import cross_val_score\n",
    "from sklearn import svm\n",
    "from sklearn import tree\n",
    "from sklearn import ensemble\n",
    "%matplotlib inline"
   ]
  },
  {
   "cell_type": "code",
   "execution_count": 2,
   "metadata": {},
   "outputs": [
    {
     "name": "stdout",
     "output_type": "stream",
     "text": [
      "Welcome to use Wind Quant API for Python (WindPy)!\n",
      "\n",
      "COPYRIGHT (C) 2017 WIND INFORMATION CO., LTD. ALL RIGHTS RESERVED.\n",
      "IN NO CIRCUMSTANCE SHALL WIND BE RESPONSIBLE FOR ANY DAMAGES OR LOSSES CAUSED BY USING WIND QUANT API FOR Python.\n"
     ]
    },
    {
     "data": {
      "text/plain": [
       ".ErrorCode=0\n",
       ".Data=[OK!]"
      ]
     },
     "execution_count": 2,
     "metadata": {},
     "output_type": "execute_result"
    }
   ],
   "source": [
    "w.start()"
   ]
  },
  {
   "cell_type": "code",
   "execution_count": 976,
   "metadata": {},
   "outputs": [],
   "source": [
    "ldf = pd.read_excel('D:/workspace/crusader/data/list.xlsx')\n",
    "ldf = ldf.dropna().set_index(u'代码')\n",
    "# ldf = ldf.drop_duplicates()"
   ]
  },
  {
   "cell_type": "code",
   "execution_count": 136,
   "metadata": {},
   "outputs": [
    {
     "data": {
      "text/html": [
       "<div>\n",
       "<style scoped>\n",
       "    .dataframe tbody tr th:only-of-type {\n",
       "        vertical-align: middle;\n",
       "    }\n",
       "\n",
       "    .dataframe tbody tr th {\n",
       "        vertical-align: top;\n",
       "    }\n",
       "\n",
       "    .dataframe thead th {\n",
       "        text-align: right;\n",
       "    }\n",
       "</style>\n",
       "<table border=\"1\" class=\"dataframe\">\n",
       "  <thead>\n",
       "    <tr style=\"text-align: right;\">\n",
       "      <th></th>\n",
       "      <th>名称</th>\n",
       "    </tr>\n",
       "    <tr>\n",
       "      <th>代码</th>\n",
       "      <th></th>\n",
       "    </tr>\n",
       "  </thead>\n",
       "  <tbody>\n",
       "    <tr>\n",
       "      <th>M0000612</th>\n",
       "      <td>消费者物价指数（CPI）</td>\n",
       "    </tr>\n",
       "    <tr>\n",
       "      <th>M0000616</th>\n",
       "      <td>CPI-食品</td>\n",
       "    </tr>\n",
       "    <tr>\n",
       "      <th>M0000617</th>\n",
       "      <td>CPI-粮食</td>\n",
       "    </tr>\n",
       "    <tr>\n",
       "      <th>M0044542</th>\n",
       "      <td>CPI-猪肉</td>\n",
       "    </tr>\n",
       "    <tr>\n",
       "      <th>M0000622</th>\n",
       "      <td>CPI-鲜菜</td>\n",
       "    </tr>\n",
       "  </tbody>\n",
       "</table>\n",
       "</div>"
      ],
      "text/plain": [
       "                    名称\n",
       "代码                    \n",
       "M0000612  消费者物价指数（CPI）\n",
       "M0000616        CPI-食品\n",
       "M0000617        CPI-粮食\n",
       "M0044542        CPI-猪肉\n",
       "M0000622        CPI-鲜菜"
      ]
     },
     "execution_count": 136,
     "metadata": {},
     "output_type": "execute_result"
    }
   ],
   "source": [
    "ldf.head()"
   ]
  },
  {
   "cell_type": "code",
   "execution_count": 3,
   "metadata": {
    "collapsed": true
   },
   "outputs": [],
   "source": [
    "DATA_DIR = 'D:/Data/industry/'"
   ]
  },
  {
   "cell_type": "code",
   "execution_count": 4,
   "metadata": {
    "collapsed": true
   },
   "outputs": [],
   "source": [
    "industry = [x for x in os.listdir(DATA_DIR)]"
   ]
  },
  {
   "cell_type": "code",
   "execution_count": 5,
   "metadata": {
    "collapsed": true
   },
   "outputs": [],
   "source": [
    "df = ''\n",
    "for ind in industry:\n",
    "    files = [f for f in os.listdir('%s/%s'%(DATA_DIR, ind))]\n",
    "    for f in files:\n",
    "        fname = '%s/%s/%s'%(DATA_DIR, ind, f)\n",
    "        if not isinstance(df, pd.DataFrame):\n",
    "            df = pd.read_excel(fname)\n",
    "        else:\n",
    "            tdf = pd.read_excel(fname)\n",
    "            cols = tdf.columns.difference(df.columns)\n",
    "            df = df.merge(tdf[cols], how='outer', left_index=True, right_index=True)"
   ]
  },
  {
   "cell_type": "markdown",
   "metadata": {},
   "source": [
    "# 取月度数据"
   ]
  },
  {
   "cell_type": "code",
   "execution_count": 6,
   "metadata": {
    "collapsed": true
   },
   "outputs": [],
   "source": [
    "df = df.fillna(method='ffill').resample('BM').last()"
   ]
  },
  {
   "cell_type": "markdown",
   "metadata": {},
   "source": [
    "# 删掉历史数据过少的数据"
   ]
  },
  {
   "cell_type": "code",
   "execution_count": 870,
   "metadata": {},
   "outputs": [
    {
     "data": {
      "text/plain": [
       "Index([u'M0000617', u'M0000616', u'M0000622', u'M5462042', u'S0109326',\n",
       "       u'M0000612', u'S0109328', u'S0031749', u'S0037083', u'S0039170',\n",
       "       ...\n",
       "       u'S0030518', u'S0000066', u'M0067855', u'S0030509', u'S0030512',\n",
       "       u'M0000545', u'S0035972', u'S0030503', u'S0030527', u'S0030515'],\n",
       "      dtype='object', length=114)"
      ]
     },
     "execution_count": 870,
     "metadata": {},
     "output_type": "execute_result"
    }
   ],
   "source": [
    "df.columns"
   ]
  },
  {
   "cell_type": "code",
   "execution_count": 871,
   "metadata": {
    "collapsed": true
   },
   "outputs": [],
   "source": [
    "df = df[df.index >= '2004-01-01']"
   ]
  },
  {
   "cell_type": "code",
   "execution_count": 872,
   "metadata": {
    "collapsed": true
   },
   "outputs": [],
   "source": [
    "df = df.dropna(axis=1)"
   ]
  },
  {
   "cell_type": "markdown",
   "metadata": {},
   "source": [
    "# 特征选择"
   ]
  },
  {
   "cell_type": "code",
   "execution_count": 873,
   "metadata": {},
   "outputs": [
    {
     "data": {
      "text/plain": [
       "(170, 114)"
      ]
     },
     "execution_count": 873,
     "metadata": {},
     "output_type": "execute_result"
    }
   ],
   "source": [
    "df.shape"
   ]
  },
  {
   "cell_type": "code",
   "execution_count": 11,
   "metadata": {
    "collapsed": true
   },
   "outputs": [],
   "source": [
    "data = w.wsd('881001.WI', 'close', '2003-12-01', '2018-02-28')"
   ]
  },
  {
   "cell_type": "code",
   "execution_count": 12,
   "metadata": {
    "collapsed": true
   },
   "outputs": [],
   "source": [
    "sdf = pd.DataFrame(np.array(data.Data).T, index=pd.to_datetime(data.Times), columns=data.Codes)"
   ]
  },
  {
   "cell_type": "code",
   "execution_count": 879,
   "metadata": {},
   "outputs": [
    {
     "data": {
      "text/plain": [
       "<matplotlib.axes._subplots.AxesSubplot at 0x375d66a0>"
      ]
     },
     "execution_count": 879,
     "metadata": {},
     "output_type": "execute_result"
    },
    {
     "data": {
      "image/png": "[encoded data removed]",
      "text/plain": [
       "<matplotlib.figure.Figure at 0x386b0550>"
      ]
     },
     "metadata": {},
     "output_type": "display_data"
    }
   ],
   "source": [
    "(1+sdf.pct_change()).cumprod().plot(figsize=(16, 9))"
   ]
  },
  {
   "cell_type": "code",
   "execution_count": 968,
   "metadata": {
    "collapsed": true
   },
   "outputs": [],
   "source": [
    "k = 6\n",
    "X = df.copy()\n",
    "y = sdf['881001.WI'].resample('BM').last().pct_change(k)"
   ]
  },
  {
   "cell_type": "code",
   "execution_count": 969,
   "metadata": {},
   "outputs": [],
   "source": [
    "pred_x = X.iloc[-k:]\n",
    "X = X.iloc[:-k]\n",
    "y = y.shift(-k).iloc[1:-k]"
   ]
  },
  {
   "cell_type": "code",
   "execution_count": 970,
   "metadata": {},
   "outputs": [
    {
     "data": {
      "text/plain": [
       "((164, 114), (164L,))"
      ]
     },
     "execution_count": 970,
     "metadata": {},
     "output_type": "execute_result"
    }
   ],
   "source": [
    "X.shape, y.shape"
   ]
  },
  {
   "cell_type": "code",
   "execution_count": 971,
   "metadata": {
    "collapsed": true
   },
   "outputs": [],
   "source": [
    "lasso = linear_model.Lasso()"
   ]
  },
  {
   "cell_type": "code",
   "execution_count": 972,
   "metadata": {},
   "outputs": [
    {
     "data": {
      "text/plain": [
       "Lasso(alpha=1.0, copy_X=True, fit_intercept=True, max_iter=1000,\n",
       "   normalize=False, positive=False, precompute=False, random_state=None,\n",
       "   selection='cyclic', tol=0.0001, warm_start=False)"
      ]
     },
     "execution_count": 972,
     "metadata": {},
     "output_type": "execute_result"
    }
   ],
   "source": [
    "lasso.fit(X, y)"
   ]
  },
  {
   "cell_type": "code",
   "execution_count": 973,
   "metadata": {},
   "outputs": [
    {
     "data": {
      "text/plain": [
       "Index([u'S0109328', u'M5567879', u'M0002003', u'M0001495', u'M0009973',\n",
       "       u'M0001493', u'M0011790', u'S0031550', u'S6100196', u'M0041571',\n",
       "       u'S0027282', u'S0028288', u'S5103551', u'S5103365', u'S5103573',\n",
       "       u'S5103411', u'S0027009', u'S5808574', u'S0029764', u'S5808575',\n",
       "       u'S0029752', u'S5808576', u'S0029756', u'S5808573', u'S0029760',\n",
       "       u'S0049493', u'S0049494', u'S0033155', u'S0046390', u'S0027495'],\n",
       "      dtype='object')"
      ]
     },
     "execution_count": 973,
     "metadata": {},
     "output_type": "execute_result"
    }
   ],
   "source": [
    "X.columns[lasso.coef_ != 0]"
   ]
  },
  {
   "cell_type": "code",
   "execution_count": 977,
   "metadata": {},
   "outputs": [
    {
     "data": {
      "text/html": [
       "<div>\n",
       "<style scoped>\n",
       "    .dataframe tbody tr th:only-of-type {\n",
       "        vertical-align: middle;\n",
       "    }\n",
       "\n",
       "    .dataframe tbody tr th {\n",
       "        vertical-align: top;\n",
       "    }\n",
       "\n",
       "    .dataframe thead th {\n",
       "        text-align: right;\n",
       "    }\n",
       "</style>\n",
       "<table border=\"1\" class=\"dataframe\">\n",
       "  <thead>\n",
       "    <tr style=\"text-align: right;\">\n",
       "      <th></th>\n",
       "      <th>名称</th>\n",
       "    </tr>\n",
       "    <tr>\n",
       "      <th>代码</th>\n",
       "      <th></th>\n",
       "    </tr>\n",
       "  </thead>\n",
       "  <tbody>\n",
       "    <tr>\n",
       "      <th>S0109328</th>\n",
       "      <td>秋粮产量</td>\n",
       "    </tr>\n",
       "    <tr>\n",
       "      <th>M5567879</th>\n",
       "      <td>名义GDP</td>\n",
       "    </tr>\n",
       "    <tr>\n",
       "      <th>M0002003</th>\n",
       "      <td>商业银行不良贷款余额</td>\n",
       "    </tr>\n",
       "    <tr>\n",
       "      <th>M0001495</th>\n",
       "      <td>定期存款同比增速</td>\n",
       "    </tr>\n",
       "    <tr>\n",
       "      <th>M0009973</th>\n",
       "      <td>月度新增人民币贷款</td>\n",
       "    </tr>\n",
       "    <tr>\n",
       "      <th>M0001493</th>\n",
       "      <td>活期存款同比增速</td>\n",
       "    </tr>\n",
       "    <tr>\n",
       "      <th>M0011790</th>\n",
       "      <td>银行业金融机构税后利润</td>\n",
       "    </tr>\n",
       "    <tr>\n",
       "      <th>S0031550</th>\n",
       "      <td>BDI</td>\n",
       "    </tr>\n",
       "    <tr>\n",
       "      <th>S0031550</th>\n",
       "      <td>BDI</td>\n",
       "    </tr>\n",
       "    <tr>\n",
       "      <th>S0031550</th>\n",
       "      <td>BDI</td>\n",
       "    </tr>\n",
       "    <tr>\n",
       "      <th>S0031550</th>\n",
       "      <td>BDI</td>\n",
       "    </tr>\n",
       "    <tr>\n",
       "      <th>S6100196</th>\n",
       "      <td>载货车产量</td>\n",
       "    </tr>\n",
       "    <tr>\n",
       "      <th>M0041571</th>\n",
       "      <td>铁矿砂及其精矿进口量</td>\n",
       "    </tr>\n",
       "    <tr>\n",
       "      <th>S0027282</th>\n",
       "      <td>尿素出口量</td>\n",
       "    </tr>\n",
       "    <tr>\n",
       "      <th>S0028288</th>\n",
       "      <td>秦皇岛港6000大卡大同优混平仓价</td>\n",
       "    </tr>\n",
       "    <tr>\n",
       "      <th>S5103551</th>\n",
       "      <td>动力煤出口数量</td>\n",
       "    </tr>\n",
       "    <tr>\n",
       "      <th>S5103365</th>\n",
       "      <td>动力煤进口数量</td>\n",
       "    </tr>\n",
       "    <tr>\n",
       "      <th>S5103573</th>\n",
       "      <td>炼焦煤出口数量</td>\n",
       "    </tr>\n",
       "    <tr>\n",
       "      <th>S5103411</th>\n",
       "      <td>炼焦煤进口数量</td>\n",
       "    </tr>\n",
       "    <tr>\n",
       "      <th>S0027009</th>\n",
       "      <td>焦炭出口量增速</td>\n",
       "    </tr>\n",
       "    <tr>\n",
       "      <th>S5808574</th>\n",
       "      <td>LME铅三个月期货价格</td>\n",
       "    </tr>\n",
       "    <tr>\n",
       "      <th>S0029764</th>\n",
       "      <td>LME铅库存</td>\n",
       "    </tr>\n",
       "    <tr>\n",
       "      <th>S5808575</th>\n",
       "      <td>LME铜三个月期货价格</td>\n",
       "    </tr>\n",
       "    <tr>\n",
       "      <th>S0029752</th>\n",
       "      <td>LME铜库存</td>\n",
       "    </tr>\n",
       "    <tr>\n",
       "      <th>S5808576</th>\n",
       "      <td>LME铝三个月期货价格</td>\n",
       "    </tr>\n",
       "    <tr>\n",
       "      <th>S0029756</th>\n",
       "      <td>LME铝库存</td>\n",
       "    </tr>\n",
       "    <tr>\n",
       "      <th>S5808573</th>\n",
       "      <td>LME锌三个月期货价格</td>\n",
       "    </tr>\n",
       "    <tr>\n",
       "      <th>S0029760</th>\n",
       "      <td>LME锌库存</td>\n",
       "    </tr>\n",
       "    <tr>\n",
       "      <th>S0049493</th>\n",
       "      <td>上交所铜库存</td>\n",
       "    </tr>\n",
       "    <tr>\n",
       "      <th>S0049494</th>\n",
       "      <td>上交所铝库存</td>\n",
       "    </tr>\n",
       "    <tr>\n",
       "      <th>S0033155</th>\n",
       "      <td>上海1.0毫米冷轧价格</td>\n",
       "    </tr>\n",
       "    <tr>\n",
       "      <th>S0046390</th>\n",
       "      <td>上海25毫米螺纹钢价格</td>\n",
       "    </tr>\n",
       "    <tr>\n",
       "      <th>S0027495</th>\n",
       "      <td>钢材出口量</td>\n",
       "    </tr>\n",
       "  </tbody>\n",
       "</table>\n",
       "</div>"
      ],
      "text/plain": [
       "                         名称\n",
       "代码                         \n",
       "S0109328               秋粮产量\n",
       "M5567879              名义GDP\n",
       "M0002003         商业银行不良贷款余额\n",
       "M0001495           定期存款同比增速\n",
       "M0009973          月度新增人民币贷款\n",
       "M0001493           活期存款同比增速\n",
       "M0011790        银行业金融机构税后利润\n",
       "S0031550                BDI\n",
       "S0031550                BDI\n",
       "S0031550                BDI\n",
       "S0031550                BDI\n",
       "S6100196              载货车产量\n",
       "M0041571         铁矿砂及其精矿进口量\n",
       "S0027282              尿素出口量\n",
       "S0028288  秦皇岛港6000大卡大同优混平仓价\n",
       "S5103551            动力煤出口数量\n",
       "S5103365            动力煤进口数量\n",
       "S5103573            炼焦煤出口数量\n",
       "S5103411            炼焦煤进口数量\n",
       "S0027009            焦炭出口量增速\n",
       "S5808574        LME铅三个月期货价格\n",
       "S0029764             LME铅库存\n",
       "S5808575        LME铜三个月期货价格\n",
       "S0029752             LME铜库存\n",
       "S5808576        LME铝三个月期货价格\n",
       "S0029756             LME铝库存\n",
       "S5808573        LME锌三个月期货价格\n",
       "S0029760             LME锌库存\n",
       "S0049493             上交所铜库存\n",
       "S0049494             上交所铝库存\n",
       "S0033155        上海1.0毫米冷轧价格\n",
       "S0046390        上海25毫米螺纹钢价格\n",
       "S0027495              钢材出口量"
      ]
     },
     "execution_count": 977,
     "metadata": {},
     "output_type": "execute_result"
    }
   ],
   "source": [
    "ldf.loc[X.columns[lasso.coef_ != 0].tolist(), :]"
   ]
  },
  {
   "cell_type": "markdown",
   "metadata": {},
   "source": [
    "# 训练"
   ]
  },
  {
   "cell_type": "code",
   "execution_count": 978,
   "metadata": {
    "collapsed": true
   },
   "outputs": [],
   "source": [
    "tX = X[X.columns[lasso.coef_ != 0]]"
   ]
  },
  {
   "cell_type": "code",
   "execution_count": 979,
   "metadata": {
    "collapsed": true
   },
   "outputs": [],
   "source": [
    "lr = linear_model.LinearRegression()"
   ]
  },
  {
   "cell_type": "code",
   "execution_count": 980,
   "metadata": {},
   "outputs": [
    {
     "data": {
      "text/plain": [
       "LinearRegression(copy_X=True, fit_intercept=True, n_jobs=1, normalize=False)"
      ]
     },
     "execution_count": 980,
     "metadata": {},
     "output_type": "execute_result"
    }
   ],
   "source": [
    "lr.fit(tX, y)"
   ]
  },
  {
   "cell_type": "code",
   "execution_count": 981,
   "metadata": {},
   "outputs": [
    {
     "data": {
      "text/plain": [
       "array([  1.03814244e-04,   1.10788725e-05,  -1.60992750e-05,\n",
       "         6.47338904e-07,  -9.88072422e-06,   1.10352058e-06,\n",
       "        -1.22308322e-04,  -5.70118574e-05,  -5.48586163e-08,\n",
       "         8.08862444e-06,   2.84085303e-04,   6.61103671e-04,\n",
       "         2.03419245e-09,   1.47039622e-08,   8.86018754e-09,\n",
       "        -2.30530283e-08,  -1.60816885e-06,  -3.29140509e-04,\n",
       "        -1.79476455e-06,  -1.41218537e-04,  -4.14326979e-07,\n",
       "         3.12193549e-04,   1.15905622e-07,   3.99844533e-04,\n",
       "         3.11046954e-08,  -1.44275211e-07,  -3.65054140e-07,\n",
       "        -2.00063472e-04,   2.01746320e-04,   1.17494349e-03])"
      ]
     },
     "execution_count": 981,
     "metadata": {},
     "output_type": "execute_result"
    }
   ],
   "source": [
    "lr.coef_"
   ]
  },
  {
   "cell_type": "code",
   "execution_count": 982,
   "metadata": {},
   "outputs": [
    {
     "data": {
      "text/plain": [
       "0.83315380800026517"
      ]
     },
     "execution_count": 982,
     "metadata": {},
     "output_type": "execute_result"
    }
   ],
   "source": [
    "lr.score(tX, y)"
   ]
  },
  {
   "cell_type": "code",
   "execution_count": 983,
   "metadata": {
    "collapsed": true
   },
   "outputs": [],
   "source": [
    "scores = cross_val_score(lr, X, y, cv=10)"
   ]
  },
  {
   "cell_type": "code",
   "execution_count": 984,
   "metadata": {},
   "outputs": [
    {
     "data": {
      "text/plain": [
       "-774.37794476644285"
      ]
     },
     "execution_count": 984,
     "metadata": {},
     "output_type": "execute_result"
    }
   ],
   "source": [
    "scores.mean()"
   ]
  },
  {
   "cell_type": "code",
   "execution_count": 985,
   "metadata": {},
   "outputs": [],
   "source": [
    "pred_y = lr.predict(tX)\n",
    "future_y = lr.predict(pred_x[pred_x.columns[lasso.coef_ != 0]])"
   ]
  },
  {
   "cell_type": "code",
   "execution_count": 986,
   "metadata": {},
   "outputs": [
    {
     "data": {
      "image/png": "[encoded data removed]",
      "text/plain": [
       "<matplotlib.figure.Figure at 0x3bde8390>"
      ]
     },
     "metadata": {},
     "output_type": "display_data"
    }
   ],
   "source": [
    "# pd.Series(pred_y, index=y.index).plot(figsize=(16, 9), label='predict')\n",
    "plt.figure(figsize=(16, 9))\n",
    "plt.plot(pd.Series(pred_y, index=y.index))\n",
    "# plt.plot((1 + sdf['881001.WI'].pct_change()).cumprod() - 1)\n",
    "# y.plot(figsize=(16, 9), label='true')\n",
    "# pd.Series(future_y, index=pred_x.index).plot(figsize=(16, 9), label='future', color='red')\n",
    "plt.legend()"
   ]
  },
  {
   "cell_type": "code",
   "execution_count": 987,
   "metadata": {},
   "outputs": [
    {
     "data": {
      "text/plain": [
       "LinearRegression(copy_X=True, fit_intercept=True, n_jobs=1, normalize=False)"
      ]
     },
     "execution_count": 987,
     "metadata": {},
     "output_type": "execute_result"
    }
   ],
   "source": [
    "lr = linear_model.LinearRegression()\n",
    "lr.fit(pred_y.reshape(-1, 1), y)"
   ]
  },
  {
   "cell_type": "code",
   "execution_count": 988,
   "metadata": {},
   "outputs": [
    {
     "data": {
      "text/plain": [
       "[<matplotlib.lines.Line2D at 0x3bde8048>]"
      ]
     },
     "execution_count": 988,
     "metadata": {},
     "output_type": "execute_result"
    },
    {
     "data": {
      "image/png": "[encoded data removed]",
      "text/plain": [
       "<matplotlib.figure.Figure at 0x3bde8668>"
      ]
     },
     "metadata": {},
     "output_type": "display_data"
    }
   ],
   "source": [
    "plt.figure(figsize=(16, 9))\n",
    "plt.scatter(pred_y, y)\n",
    "plt.plot(pred_y, lr.predict(pred_y.reshape(-1, 1)), color='black')"
   ]
  },
  {
   "cell_type": "code",
   "execution_count": 895,
   "metadata": {},
   "outputs": [
    {
     "data": {
      "text/plain": [
       "array([ 0.02403762])"
      ]
     },
     "execution_count": 895,
     "metadata": {},
     "output_type": "execute_result"
    }
   ],
   "source": [
    "future_y"
   ]
  },
  {
   "cell_type": "code",
   "execution_count": 896,
   "metadata": {
    "collapsed": true
   },
   "outputs": [],
   "source": [
    "X_train, X_test, y_train, y_test = train_test_split(tX, y, test_size=0.4, random_state=0)"
   ]
  },
  {
   "cell_type": "code",
   "execution_count": 897,
   "metadata": {},
   "outputs": [
    {
     "data": {
      "text/plain": [
       "ElasticNet(alpha=1.0, copy_X=True, fit_intercept=True, l1_ratio=0.5,\n",
       "      max_iter=1000, normalize=False, positive=False, precompute=False,\n",
       "      random_state=None, selection='cyclic', tol=0.0001, warm_start=False)"
      ]
     },
     "execution_count": 897,
     "metadata": {},
     "output_type": "execute_result"
    }
   ],
   "source": [
    "lr = linear_model.ElasticNet()\n",
    "lr.fit(X_train, y_train)"
   ]
  },
  {
   "cell_type": "code",
   "execution_count": 898,
   "metadata": {},
   "outputs": [
    {
     "data": {
      "text/plain": [
       "0.40557505019092138"
      ]
     },
     "execution_count": 898,
     "metadata": {},
     "output_type": "execute_result"
    }
   ],
   "source": [
    "lr.score(X_train, y_train)"
   ]
  },
  {
   "cell_type": "code",
   "execution_count": 899,
   "metadata": {},
   "outputs": [
    {
     "data": {
      "text/plain": [
       "-0.2411410326582244"
      ]
     },
     "execution_count": 899,
     "metadata": {},
     "output_type": "execute_result"
    }
   ],
   "source": [
    "lr.score(X_test, y_test)"
   ]
  },
  {
   "cell_type": "code",
   "execution_count": 901,
   "metadata": {},
   "outputs": [
    {
     "data": {
      "text/plain": [
       "<matplotlib.collections.PathCollection at 0x3b71c630>"
      ]
     },
     "execution_count": 901,
     "metadata": {},
     "output_type": "execute_result"
    },
    {
     "data": {
      "image/png": "[encoded data removed]",
      "text/plain": [
       "<matplotlib.figure.Figure at 0x3a90f048>"
      ]
     },
     "metadata": {},
     "output_type": "display_data"
    }
   ],
   "source": [
    "plt.figure(figsize=(16, 9))\n",
    "plt.scatter(lr.predict(X_train), y_train)\n",
    "plt.scatter(lr.predict(X_test), y_test)"
   ]
  },
  {
   "cell_type": "markdown",
   "metadata": {},
   "source": [
    "# 滚动训练"
   ]
  },
  {
   "cell_type": "code",
   "execution_count": 808,
   "metadata": {},
   "outputs": [],
   "source": [
    "k = 3\n",
    "X = df.copy()\n",
    "y = sdf['881001.WI'].resample('BM').last().pct_change(k)"
   ]
  },
  {
   "cell_type": "code",
   "execution_count": 809,
   "metadata": {
    "collapsed": true
   },
   "outputs": [],
   "source": [
    "pred_x = X.iloc[-k:]\n",
    "X = X.iloc[:-k]\n",
    "# y = y.iloc[1: ]\n",
    "y = y.shift(-k).iloc[1:-k]"
   ]
  },
  {
   "cell_type": "code",
   "execution_count": 810,
   "metadata": {},
   "outputs": [
    {
     "data": {
      "text/plain": [
       "((167, 114), (167L,))"
      ]
     },
     "execution_count": 810,
     "metadata": {},
     "output_type": "execute_result"
    }
   ],
   "source": [
    "X.shape, y.shape"
   ]
  },
  {
   "cell_type": "code",
   "execution_count": 819,
   "metadata": {},
   "outputs": [],
   "source": [
    "pred_y = pd.Series(index=y.index)\n",
    "tX = X[X.columns[lasso.coef_ != 0]]\n",
    "sample = 60\n",
    "for date in X.index:\n",
    "    train_x, train_y = X[X.index < date][-sample:-k], y[y.index < date][-sample:-k]\n",
    "    if train_x.shape[0] == sample - k:\n",
    "        lasso = linear_model.Lasso()\n",
    "        lasso.fit(train_x, train_y)\n",
    "        pred_y.loc[date] = lasso.predict([X.loc[date].values.squeeze()])[0]\n",
    "#         lr = linear_model.LinearRegression()\n",
    "#         lr.fit(train_x[train_x, train_y)\n",
    "#         pred_y.loc[date] = lr.predict([X.loc[date].values.squeeze()])[0]"
   ]
  },
  {
   "cell_type": "code",
   "execution_count": 820,
   "metadata": {},
   "outputs": [],
   "source": [
    "# lr.predict([X.loc[date].values.squeeze()])"
   ]
  },
  {
   "cell_type": "code",
   "execution_count": 821,
   "metadata": {},
   "outputs": [
    {
     "data": {
      "text/plain": [
       "((167L,), (167L,))"
      ]
     },
     "execution_count": 821,
     "metadata": {},
     "output_type": "execute_result"
    }
   ],
   "source": [
    "pred_y.shape, y.shape"
   ]
  },
  {
   "cell_type": "code",
   "execution_count": 822,
   "metadata": {},
   "outputs": [
    {
     "data": {
      "text/plain": [
       "[<matplotlib.lines.Line2D at 0x34f68fd0>]"
      ]
     },
     "execution_count": 822,
     "metadata": {},
     "output_type": "execute_result"
    },
    {
     "data": {
      "image/png": "[encoded data removed]",
      "text/plain": [
       "<matplotlib.figure.Figure at 0x34e1b048>"
      ]
     },
     "metadata": {},
     "output_type": "display_data"
    }
   ],
   "source": [
    "fit_lr = linear_model.LinearRegression()\n",
    "fit_lr.fit(pred_y.dropna().values.reshape(-1, 1), y.loc[pred_y.dropna().index])\n",
    "plt.figure(figsize=(16, 9))\n",
    "plt.scatter(pred_y.dropna(), y.loc[pred_y.dropna().index])\n",
    "plt.plot(pred_y.dropna(), fit_lr.predict(pred_y.dropna().values.reshape(-1, 1)), color='black')"
   ]
  },
  {
   "cell_type": "code",
   "execution_count": 823,
   "metadata": {},
   "outputs": [
    {
     "data": {
      "text/plain": [
       "<matplotlib.axes._subplots.AxesSubplot at 0x34f917b8>"
      ]
     },
     "execution_count": 823,
     "metadata": {},
     "output_type": "execute_result"
    },
    {
     "data": {
      "image/png": "[encoded data removed]",
      "text/plain": [
       "<matplotlib.figure.Figure at 0x34adeb00>"
      ]
     },
     "metadata": {},
     "output_type": "display_data"
    }
   ],
   "source": [
    "plt.figure(figsize=(16, 9))\n",
    "y.plot(label='true')\n",
    "pred_y.plot(label='predict')"
   ]
  },
  {
   "cell_type": "code",
   "execution_count": 807,
   "metadata": {},
   "outputs": [
    {
     "data": {
      "text/plain": [
       "array([ 0.06972275])"
      ]
     },
     "execution_count": 807,
     "metadata": {},
     "output_type": "execute_result"
    }
   ],
   "source": [
    "lasso.predict(pred_x)"
   ]
  },
  {
   "cell_type": "markdown",
   "metadata": {},
   "source": [
    "# 分类问题（当月）"
   ]
  },
  {
   "cell_type": "code",
   "execution_count": 907,
   "metadata": {
    "collapsed": true
   },
   "outputs": [],
   "source": [
    "X = df.copy()\n",
    "tX = X[X.columns[lasso.coef_ != 0]]\n",
    "y = sdf['881001.WI'].resample('BM').last().pct_change().iloc[1:]"
   ]
  },
  {
   "cell_type": "code",
   "execution_count": 908,
   "metadata": {
    "collapsed": true
   },
   "outputs": [],
   "source": [
    "label = y.copy()\n",
    "label[label > 0] = 1\n",
    "label[label < 0] = 0"
   ]
  },
  {
   "cell_type": "code",
   "execution_count": 912,
   "metadata": {},
   "outputs": [
    {
     "data": {
      "text/plain": [
       "LogisticRegression(C=1, class_weight=None, dual=False, fit_intercept=True,\n",
       "          intercept_scaling=1, max_iter=100, multi_class='ovr', n_jobs=1,\n",
       "          penalty='l2', random_state=None, solver='liblinear', tol=0.0001,\n",
       "          verbose=0, warm_start=False)"
      ]
     },
     "execution_count": 912,
     "metadata": {},
     "output_type": "execute_result"
    }
   ],
   "source": [
    "lr = linear_model.LogisticRegression(C=1)\n",
    "lr.fit(tX, label)"
   ]
  },
  {
   "cell_type": "code",
   "execution_count": 914,
   "metadata": {},
   "outputs": [],
   "source": [
    "scores = cross_val_score(lr, X, label, cv=10)"
   ]
  },
  {
   "cell_type": "code",
   "execution_count": 916,
   "metadata": {},
   "outputs": [
    {
     "data": {
      "text/plain": [
       "0.48819444444444449"
      ]
     },
     "execution_count": 916,
     "metadata": {},
     "output_type": "execute_result"
    }
   ],
   "source": [
    "scores.mean()"
   ]
  },
  {
   "cell_type": "code",
   "execution_count": 917,
   "metadata": {},
   "outputs": [
    {
     "data": {
      "text/plain": [
       "RandomForestClassifier(bootstrap=True, class_weight=None, criterion='gini',\n",
       "            max_depth=None, max_features='auto', max_leaf_nodes=None,\n",
       "            min_impurity_decrease=0.0, min_impurity_split=None,\n",
       "            min_samples_leaf=1, min_samples_split=2,\n",
       "            min_weight_fraction_leaf=0.0, n_estimators=10, n_jobs=1,\n",
       "            oob_score=False, random_state=None, verbose=0,\n",
       "            warm_start=False)"
      ]
     },
     "execution_count": 917,
     "metadata": {},
     "output_type": "execute_result"
    }
   ],
   "source": [
    "rf = ensemble.RandomForestClassifier()\n",
    "rf.fit(tX, label)"
   ]
  },
  {
   "cell_type": "code",
   "execution_count": 918,
   "metadata": {
    "collapsed": true
   },
   "outputs": [],
   "source": [
    "scores = cross_val_score(rf, X, label, cv=10)"
   ]
  },
  {
   "cell_type": "code",
   "execution_count": 919,
   "metadata": {},
   "outputs": [
    {
     "data": {
      "text/plain": [
       "0.45224673202614374"
      ]
     },
     "execution_count": 919,
     "metadata": {},
     "output_type": "execute_result"
    }
   ],
   "source": [
    "scores.mean()"
   ]
  },
  {
   "cell_type": "markdown",
   "metadata": {},
   "source": [
    "# 分类问题（趋势：未来k个月收益率）"
   ]
  },
  {
   "cell_type": "code",
   "execution_count": 920,
   "metadata": {
    "collapsed": true
   },
   "outputs": [],
   "source": [
    "k = 6\n",
    "tX = X[X.columns[lasso.coef_ != 0]]\n",
    "y = sdf['881001.WI'].resample('BM').last().pct_change(periods=k).iloc[1:]"
   ]
  },
  {
   "cell_type": "code",
   "execution_count": 921,
   "metadata": {
    "collapsed": true
   },
   "outputs": [],
   "source": [
    "y = y.shift(-(k-1))"
   ]
  },
  {
   "cell_type": "code",
   "execution_count": 922,
   "metadata": {
    "collapsed": true
   },
   "outputs": [],
   "source": [
    "predX = tX.iloc[-(k-1):]\n",
    "tX = tX.iloc[:-(k-1)]\n",
    "y = y.iloc[:-(k-1)]"
   ]
  },
  {
   "cell_type": "code",
   "execution_count": 923,
   "metadata": {
    "collapsed": true
   },
   "outputs": [],
   "source": [
    "label = y.copy()\n",
    "label[label > 0] = 1\n",
    "label[label < 0] = 0"
   ]
  },
  {
   "cell_type": "code",
   "execution_count": 924,
   "metadata": {},
   "outputs": [
    {
     "data": {
      "text/plain": [
       "((165, 24), (165L,))"
      ]
     },
     "execution_count": 924,
     "metadata": {},
     "output_type": "execute_result"
    }
   ],
   "source": [
    "tX.shape, label.shape"
   ]
  },
  {
   "cell_type": "code",
   "execution_count": 926,
   "metadata": {},
   "outputs": [
    {
     "data": {
      "text/plain": [
       "LogisticRegression(C=0.6, class_weight=None, dual=False, fit_intercept=True,\n",
       "          intercept_scaling=1, max_iter=100, multi_class='ovr', n_jobs=1,\n",
       "          penalty='l2', random_state=None, solver='liblinear', tol=0.0001,\n",
       "          verbose=0, warm_start=False)"
      ]
     },
     "execution_count": 926,
     "metadata": {},
     "output_type": "execute_result"
    }
   ],
   "source": [
    "lr = linear_model.LogisticRegression(C=0.6)\n",
    "lr.fit(tX, label)"
   ]
  },
  {
   "cell_type": "code",
   "execution_count": 927,
   "metadata": {
    "collapsed": true
   },
   "outputs": [],
   "source": [
    "scores = cross_val_score(lr, tX, label, cv=20)"
   ]
  },
  {
   "cell_type": "code",
   "execution_count": 928,
   "metadata": {},
   "outputs": [
    {
     "data": {
      "text/plain": [
       "0.71507936507936498"
      ]
     },
     "execution_count": 928,
     "metadata": {},
     "output_type": "execute_result"
    }
   ],
   "source": [
    "scores.mean()"
   ]
  },
  {
   "cell_type": "code",
   "execution_count": 929,
   "metadata": {},
   "outputs": [
    {
     "data": {
      "text/plain": [
       "array([ 0.,  0.,  0.,  0.,  0.])"
      ]
     },
     "execution_count": 929,
     "metadata": {},
     "output_type": "execute_result"
    }
   ],
   "source": [
    "lr.predict(predX)"
   ]
  },
  {
   "cell_type": "markdown",
   "metadata": {},
   "source": [
    "# 分类问题（这个月与之后k个月取xor）"
   ]
  },
  {
   "cell_type": "code",
   "execution_count": 933,
   "metadata": {
    "collapsed": true
   },
   "outputs": [],
   "source": [
    "tX = X[X.columns[lasso.coef_ != 0]]\n",
    "y = sdf['881001.WI'].resample('BM').last().pct_change().iloc[1:]"
   ]
  },
  {
   "cell_type": "code",
   "execution_count": 934,
   "metadata": {
    "collapsed": true
   },
   "outputs": [],
   "source": [
    "label = y.copy()\n",
    "label[label > 0] = 1\n",
    "label[label < 0] = 0"
   ]
  },
  {
   "cell_type": "code",
   "execution_count": 935,
   "metadata": {
    "collapsed": true
   },
   "outputs": [],
   "source": [
    "k = 3\n",
    "y2 = sdf['881001.WI'].resample('BM').last().pct_change(periods=k).iloc[1:]"
   ]
  },
  {
   "cell_type": "code",
   "execution_count": 936,
   "metadata": {
    "collapsed": true
   },
   "outputs": [],
   "source": [
    "label2 = y2.copy()\n",
    "label2[label2 > 0] = 1\n",
    "label2[label2 < 0] = 0"
   ]
  },
  {
   "cell_type": "code",
   "execution_count": 937,
   "metadata": {
    "collapsed": true
   },
   "outputs": [],
   "source": [
    "label = label + label2.shift(-k)\n",
    "label[label == 2] = 0"
   ]
  },
  {
   "cell_type": "code",
   "execution_count": 938,
   "metadata": {
    "collapsed": true
   },
   "outputs": [],
   "source": [
    "pred_x = tX.iloc[-k:]\n",
    "tX = tX.iloc[:-k]\n",
    "label = label.iloc[:-k]"
   ]
  },
  {
   "cell_type": "code",
   "execution_count": 945,
   "metadata": {},
   "outputs": [
    {
     "data": {
      "text/plain": [
       "LogisticRegression(C=0.01, class_weight=None, dual=False, fit_intercept=True,\n",
       "          intercept_scaling=1, max_iter=100, multi_class='ovr', n_jobs=1,\n",
       "          penalty='l2', random_state=None, solver='liblinear', tol=0.0001,\n",
       "          verbose=0, warm_start=False)"
      ]
     },
     "execution_count": 945,
     "metadata": {},
     "output_type": "execute_result"
    }
   ],
   "source": [
    "lr = linear_model.LogisticRegression(C=0.01)\n",
    "lr.fit(tX, label)"
   ]
  },
  {
   "cell_type": "code",
   "execution_count": 946,
   "metadata": {
    "collapsed": true
   },
   "outputs": [],
   "source": [
    "scores = cross_val_score(lr, tX, label, cv=20)"
   ]
  },
  {
   "cell_type": "code",
   "execution_count": 947,
   "metadata": {},
   "outputs": [
    {
     "data": {
      "text/plain": [
       "0.41567460317460314"
      ]
     },
     "execution_count": 947,
     "metadata": {},
     "output_type": "execute_result"
    }
   ],
   "source": [
    "scores.mean()"
   ]
  },
  {
   "cell_type": "code",
   "execution_count": null,
   "metadata": {
    "collapsed": true
   },
   "outputs": [],
   "source": []
  },
  {
   "cell_type": "code",
   "execution_count": null,
   "metadata": {
    "collapsed": true
   },
   "outputs": [],
   "source": []
  }
 ],
 "metadata": {
  "kernelspec": {
   "display_name": "Python 2",
   "language": "python",
   "name": "python2"
  },
  "language_info": {
   "codemirror_mode": {
    "name": "ipython",
    "version": 2
   },
   "file_extension": ".py",
   "mimetype": "text/x-python",
   "name": "python",
   "nbconvert_exporter": "python",
   "pygments_lexer": "ipython2",
   "version": "2.7.14"
  }
 },
 "nbformat": 4,
 "nbformat_minor": 2
}
