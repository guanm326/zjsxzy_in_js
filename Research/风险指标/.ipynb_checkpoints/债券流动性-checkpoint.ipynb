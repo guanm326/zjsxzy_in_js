{
 "cells": [
  {
   "cell_type": "code",
   "execution_count": 1,
   "metadata": {},
   "outputs": [],
   "source": [
    "import cx_Oracle\n",
    "import pandas as pd\n",
    "%matplotlib inline"
   ]
  },
  {
   "cell_type": "code",
   "execution_count": 2,
   "metadata": {},
   "outputs": [],
   "source": [
    "conn = cx_Oracle.connect('fe_res', 'fe_res123', 'IACORE')"
   ]
  },
  {
   "cell_type": "code",
   "execution_count": 3,
   "metadata": {},
   "outputs": [],
   "source": [
    "query = 'SELECT ibq.TRADINGDAY,avg(1e8*abs(ibq.PREVCLOSEDIRTYPRICE-ibq.CLOSEDIRTYPRICE)/ibq.TRANSACTIONVOL) AS illiquidity  FROM jy.BOND_INTERBANKQUOTE ibq \\\n",
    "         left JOIN jy.bond_code bc ON bc.INNERCODE = ibq.INNERCODE \\\n",
    "         WHERE ibq.TRADINGDAY between TRUNC (SYSDATE-243*10) and TRUNC (SYSDATE) \\\n",
    "         AND ibq.TRANSACTIONVOL > 1e7 \\\n",
    "         AND ibq.PREVCLOSEDIRTYPRICE > 0 \\\n",
    "         GROUP BY ibq.TRADINGDAY \\\n",
    "         ORDER BY ibq.TRADINGDAY'"
   ]
  },
  {
   "cell_type": "code",
   "execution_count": 4,
   "metadata": {},
   "outputs": [],
   "source": [
    "df = pd.read_sql_query(query, con=conn)"
   ]
  },
  {
   "cell_type": "code",
   "execution_count": 5,
   "metadata": {},
   "outputs": [
    {
     "data": {
      "text/html": [
       "<div>\n",
       "<style scoped>\n",
       "    .dataframe tbody tr th:only-of-type {\n",
       "        vertical-align: middle;\n",
       "    }\n",
       "\n",
       "    .dataframe tbody tr th {\n",
       "        vertical-align: top;\n",
       "    }\n",
       "\n",
       "    .dataframe thead th {\n",
       "        text-align: right;\n",
       "    }\n",
       "</style>\n",
       "<table border=\"1\" class=\"dataframe\">\n",
       "  <thead>\n",
       "    <tr style=\"text-align: right;\">\n",
       "      <th></th>\n",
       "      <th>TRADINGDAY</th>\n",
       "      <th>ILLIQUIDITY</th>\n",
       "    </tr>\n",
       "  </thead>\n",
       "  <tbody>\n",
       "    <tr>\n",
       "      <th>1650</th>\n",
       "      <td>2018-05-21</td>\n",
       "      <td>1.278723</td>\n",
       "    </tr>\n",
       "    <tr>\n",
       "      <th>1651</th>\n",
       "      <td>2018-05-22</td>\n",
       "      <td>2.334700</td>\n",
       "    </tr>\n",
       "    <tr>\n",
       "      <th>1652</th>\n",
       "      <td>2018-05-23</td>\n",
       "      <td>1.398327</td>\n",
       "    </tr>\n",
       "    <tr>\n",
       "      <th>1653</th>\n",
       "      <td>2018-05-24</td>\n",
       "      <td>1.064877</td>\n",
       "    </tr>\n",
       "    <tr>\n",
       "      <th>1654</th>\n",
       "      <td>2018-05-25</td>\n",
       "      <td>1.183279</td>\n",
       "    </tr>\n",
       "  </tbody>\n",
       "</table>\n",
       "</div>"
      ],
      "text/plain": [
       "     TRADINGDAY  ILLIQUIDITY\n",
       "1650 2018-05-21     1.278723\n",
       "1651 2018-05-22     2.334700\n",
       "1652 2018-05-23     1.398327\n",
       "1653 2018-05-24     1.064877\n",
       "1654 2018-05-25     1.183279"
      ]
     },
     "execution_count": 5,
     "metadata": {},
     "output_type": "execute_result"
    }
   ],
   "source": [
    "df.tail()"
   ]
  },
  {
   "cell_type": "code",
   "execution_count": null,
   "metadata": {},
   "outputs": [],
   "source": []
  }
 ],
 "metadata": {
  "kernelspec": {
   "display_name": "Python 2",
   "language": "python",
   "name": "python2"
  },
  "language_info": {
   "codemirror_mode": {
    "name": "ipython",
    "version": 2
   },
   "file_extension": ".py",
   "mimetype": "text/x-python",
   "name": "python",
   "nbconvert_exporter": "python",
   "pygments_lexer": "ipython2",
   "version": "2.7.14"
  }
 },
 "nbformat": 4,
 "nbformat_minor": 2
}
