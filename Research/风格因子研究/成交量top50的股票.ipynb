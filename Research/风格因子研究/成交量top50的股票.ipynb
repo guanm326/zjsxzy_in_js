{
 "cells": [
  {
   "cell_type": "code",
   "execution_count": 47,
   "metadata": {
    "collapsed": true
   },
   "outputs": [],
   "source": [
    "import pandas as pd\n",
    "import os\n",
    "import datetime\n",
    "from WindPy import w"
   ]
  },
  {
   "cell_type": "code",
   "execution_count": 41,
   "metadata": {
    "collapsed": false
   },
   "outputs": [
    {
     "name": "stdout",
     "output_type": "stream",
     "text": [
      "Welcome to use Wind Quant API for Python (WindPy)!\n",
      "You can use w.menu to help yourself to create commands(WSD,WSS,WST,WSI,WSQ,...)!\n",
      "\n",
      "COPYRIGHT (C) 2016 WIND HONGHUI INFORMATION & TECHKNOLEWDGE CO., LTD. ALL RIGHTS RESERVED.\n",
      "IN NO CIRCUMSTANCE SHALL WIND BE RESPONSIBLE FOR ANY DAMAGES OR LOSSES CAUSED BY USING WIND QUANT API FOR Python.\n"
     ]
    },
    {
     "data": {
      "text/plain": [
       ".ErrorCode=0\n",
       ".Data=[OK!]"
      ]
     },
     "execution_count": 41,
     "metadata": {},
     "output_type": "execute_result"
    }
   ],
   "source": [
    "w.start()"
   ]
  },
  {
   "cell_type": "code",
   "execution_count": 2,
   "metadata": {
    "collapsed": true
   },
   "outputs": [],
   "source": [
    "DATA_DIR = 'D:/Data/stocks/'"
   ]
  },
  {
   "cell_type": "code",
   "execution_count": 23,
   "metadata": {
    "collapsed": true
   },
   "outputs": [],
   "source": [
    "files = [f.rstrip('.xlsx') for f in os.listdir(DATA_DIR)]"
   ]
  },
  {
   "cell_type": "code",
   "execution_count": 24,
   "metadata": {
    "collapsed": false
   },
   "outputs": [],
   "source": [
    "columns = ['amt', 'volume', 'mkt_freeshares']\n",
    "df = pd.DataFrame({}, columns=columns, index=files)"
   ]
  },
  {
   "cell_type": "code",
   "execution_count": 26,
   "metadata": {
    "collapsed": false
   },
   "outputs": [
    {
     "data": {
      "text/html": [
       "<div>\n",
       "<table border=\"1\" class=\"dataframe\">\n",
       "  <thead>\n",
       "    <tr style=\"text-align: right;\">\n",
       "      <th></th>\n",
       "      <th>amt</th>\n",
       "      <th>volume</th>\n",
       "      <th>mkt_freeshares</th>\n",
       "    </tr>\n",
       "  </thead>\n",
       "  <tbody>\n",
       "    <tr>\n",
       "      <th>000001.SZ</th>\n",
       "      <td>NaN</td>\n",
       "      <td>NaN</td>\n",
       "      <td>NaN</td>\n",
       "    </tr>\n",
       "    <tr>\n",
       "      <th>000002.SZ</th>\n",
       "      <td>NaN</td>\n",
       "      <td>NaN</td>\n",
       "      <td>NaN</td>\n",
       "    </tr>\n",
       "    <tr>\n",
       "      <th>000004.SZ</th>\n",
       "      <td>NaN</td>\n",
       "      <td>NaN</td>\n",
       "      <td>NaN</td>\n",
       "    </tr>\n",
       "    <tr>\n",
       "      <th>000005.SZ</th>\n",
       "      <td>NaN</td>\n",
       "      <td>NaN</td>\n",
       "      <td>NaN</td>\n",
       "    </tr>\n",
       "    <tr>\n",
       "      <th>000006.SZ</th>\n",
       "      <td>NaN</td>\n",
       "      <td>NaN</td>\n",
       "      <td>NaN</td>\n",
       "    </tr>\n",
       "  </tbody>\n",
       "</table>\n",
       "</div>"
      ],
      "text/plain": [
       "           amt volume mkt_freeshares\n",
       "000001.SZ  NaN    NaN            NaN\n",
       "000002.SZ  NaN    NaN            NaN\n",
       "000004.SZ  NaN    NaN            NaN\n",
       "000005.SZ  NaN    NaN            NaN\n",
       "000006.SZ  NaN    NaN            NaN"
      ]
     },
     "execution_count": 26,
     "metadata": {},
     "output_type": "execute_result"
    }
   ],
   "source": [
    "df.head()"
   ]
  },
  {
   "cell_type": "code",
   "execution_count": 30,
   "metadata": {
    "collapsed": false
   },
   "outputs": [],
   "source": [
    "for f in files[:50]:\n",
    "    fname = '%s/%s.xlsx'%(DATA_DIR, f)\n",
    "    temp = pd.read_excel(fname, index_col=0)\n",
    "    df.loc[f, :] = temp[columns].iloc[-1]"
   ]
  },
  {
   "cell_type": "code",
   "execution_count": 38,
   "metadata": {
    "collapsed": false
   },
   "outputs": [],
   "source": [
    "df = df.sort_values('volume', ascending=False).head(n=50)"
   ]
  },
  {
   "cell_type": "code",
   "execution_count": 50,
   "metadata": {
    "collapsed": false
   },
   "outputs": [],
   "source": [
    "today = datetime.datetime.today().strftime('%Y%m%d')"
   ]
  },
  {
   "cell_type": "code",
   "execution_count": 51,
   "metadata": {
    "collapsed": false
   },
   "outputs": [],
   "source": [
    "raw_data = w.wss(df.index.tolist(), \"industry_citic\",\"tradeDate=%s;industryType=4\"%(today))"
   ]
  },
  {
   "cell_type": "code",
   "execution_count": 52,
   "metadata": {
    "collapsed": false
   },
   "outputs": [],
   "source": [
    "df['industry'] = raw_data.Data[0]"
   ]
  },
  {
   "cell_type": "code",
   "execution_count": 53,
   "metadata": {
    "collapsed": false
   },
   "outputs": [
    {
     "data": {
      "text/html": [
       "<div>\n",
       "<table border=\"1\" class=\"dataframe\">\n",
       "  <thead>\n",
       "    <tr style=\"text-align: right;\">\n",
       "      <th></th>\n",
       "      <th>amt</th>\n",
       "      <th>volume</th>\n",
       "      <th>mkt_freeshares</th>\n",
       "      <th>industry</th>\n",
       "    </tr>\n",
       "  </thead>\n",
       "  <tbody>\n",
       "    <tr>\n",
       "      <th>000001.SZ</th>\n",
       "      <td>1.56923e+09</td>\n",
       "      <td>1.35798e+08</td>\n",
       "      <td>8.8812e+10</td>\n",
       "      <td>银行-股份制与城商行-股份制银行</td>\n",
       "    </tr>\n",
       "    <tr>\n",
       "      <th>000060.SZ</th>\n",
       "      <td>7.69333e+08</td>\n",
       "      <td>6.03073e+07</td>\n",
       "      <td>1.82415e+10</td>\n",
       "      <td>有色金属-工业金属-铅锌</td>\n",
       "    </tr>\n",
       "    <tr>\n",
       "      <th>000036.SZ</th>\n",
       "      <td>5.92542e+08</td>\n",
       "      <td>5.15806e+07</td>\n",
       "      <td>9.10083e+09</td>\n",
       "      <td>房地产-房地产开发管理-住宅地产</td>\n",
       "    </tr>\n",
       "    <tr>\n",
       "      <th>000050.SZ</th>\n",
       "      <td>1.03673e+09</td>\n",
       "      <td>4.6e+07</td>\n",
       "      <td>1.87275e+10</td>\n",
       "      <td>电子元器件-其他元器件Ⅱ-其他元器件Ⅲ</td>\n",
       "    </tr>\n",
       "    <tr>\n",
       "      <th>000002.SZ</th>\n",
       "      <td>1.01561e+09</td>\n",
       "      <td>4.36614e+07</td>\n",
       "      <td>1.29419e+11</td>\n",
       "      <td>房地产-房地产开发管理-住宅地产</td>\n",
       "    </tr>\n",
       "  </tbody>\n",
       "</table>\n",
       "</div>"
      ],
      "text/plain": [
       "                   amt       volume mkt_freeshares             industry\n",
       "000001.SZ  1.56923e+09  1.35798e+08     8.8812e+10     银行-股份制与城商行-股份制银行\n",
       "000060.SZ  7.69333e+08  6.03073e+07    1.82415e+10         有色金属-工业金属-铅锌\n",
       "000036.SZ  5.92542e+08  5.15806e+07    9.10083e+09     房地产-房地产开发管理-住宅地产\n",
       "000050.SZ  1.03673e+09      4.6e+07    1.87275e+10  电子元器件-其他元器件Ⅱ-其他元器件Ⅲ\n",
       "000002.SZ  1.01561e+09  4.36614e+07    1.29419e+11     房地产-房地产开发管理-住宅地产"
      ]
     },
     "execution_count": 53,
     "metadata": {},
     "output_type": "execute_result"
    }
   ],
   "source": [
    "df.head()"
   ]
  },
  {
   "cell_type": "code",
   "execution_count": null,
   "metadata": {
    "collapsed": true
   },
   "outputs": [],
   "source": []
  }
 ],
 "metadata": {
  "kernelspec": {
   "display_name": "Python [default]",
   "language": "python",
   "name": "python2"
  },
  "language_info": {
   "codemirror_mode": {
    "name": "ipython",
    "version": 2
   },
   "file_extension": ".py",
   "mimetype": "text/x-python",
   "name": "python",
   "nbconvert_exporter": "python",
   "pygments_lexer": "ipython2",
   "version": "2.7.12"
  }
 },
 "nbformat": 4,
 "nbformat_minor": 1
}
