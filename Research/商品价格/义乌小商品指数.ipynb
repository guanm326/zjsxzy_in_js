{
 "cells": [
  {
   "cell_type": "code",
   "execution_count": 2,
   "metadata": {},
   "outputs": [],
   "source": [
    "import urllib2\n",
    "import requests\n",
    "from bs4 import BeautifulSoup"
   ]
  },
  {
   "cell_type": "code",
   "execution_count": 38,
   "metadata": {},
   "outputs": [],
   "source": [
    "start_date, end_date = '2006-05-01', '2018-05-23'"
   ]
  },
  {
   "cell_type": "code",
   "execution_count": 270,
   "metadata": {},
   "outputs": [],
   "source": [
    "gccode = '02'"
   ]
  },
  {
   "cell_type": "code",
   "execution_count": 271,
   "metadata": {},
   "outputs": [],
   "source": [
    "url = 'http://www.ywindex.com/cisweb/publish/queryList.htm?y=6&x=34&\\\n",
    "startdate=%s&gccode=%s&enddate=%s&perpagenum=10&page=1'%(start_date, gccode, end_date)"
   ]
  },
  {
   "cell_type": "code",
   "execution_count": 272,
   "metadata": {},
   "outputs": [
    {
     "data": {
      "text/plain": [
       "'http://www.ywindex.com/cisweb/publish/queryList.htm?y=6&x=34&startdate=2006-05-01&gccode=02&enddate=2018-05-23&perpagenum=10&page=1'"
      ]
     },
     "execution_count": 272,
     "metadata": {},
     "output_type": "execute_result"
    }
   ],
   "source": [
    "url"
   ]
  },
  {
   "cell_type": "code",
   "execution_count": 273,
   "metadata": {},
   "outputs": [],
   "source": [
    "response = requests.get(url)"
   ]
  },
  {
   "cell_type": "code",
   "execution_count": 274,
   "metadata": {},
   "outputs": [
    {
     "data": {
      "text/plain": [
       "200"
      ]
     },
     "execution_count": 274,
     "metadata": {},
     "output_type": "execute_result"
    }
   ],
   "source": [
    "response.status_code"
   ]
  },
  {
   "cell_type": "code",
   "execution_count": 275,
   "metadata": {},
   "outputs": [],
   "source": [
    "soup = BeautifulSoup(response.text, \"html.parser\")\n",
    "response.encoding = 'gb2312'"
   ]
  },
  {
   "cell_type": "code",
   "execution_count": 276,
   "metadata": {},
   "outputs": [],
   "source": [
    "tables = soup.find_all('table')"
   ]
  },
  {
   "cell_type": "code",
   "execution_count": 277,
   "metadata": {},
   "outputs": [],
   "source": [
    "table = tables[-1]"
   ]
  },
  {
   "cell_type": "code",
   "execution_count": 278,
   "metadata": {},
   "outputs": [],
   "source": [
    "data = []\n",
    "for row in table.find_all('tr'):\n",
    "#     print row\n",
    "    cols = row.find_all('td')\n",
    "    cols = [ele.text.strip() for ele in cols]\n",
    "    data.append([ele for ele in cols if ele])"
   ]
  },
  {
   "cell_type": "code",
   "execution_count": 279,
   "metadata": {},
   "outputs": [],
   "source": [
    "data = data[2:]"
   ]
  },
  {
   "cell_type": "code",
   "execution_count": 280,
   "metadata": {},
   "outputs": [
    {
     "data": {
      "text/plain": [
       "[[u'2018-05-21', u'100.05', u'100.08', u'101.56', u'100.02', u'101.67'],\n",
       " [u'2018-05-14', u'100.04', u'100.05', u'101.56', u'100.01', u'101.67'],\n",
       " [u'2018-05-07', u'99.99', u'99.99', u'101.56', u'100.03', u'101.67'],\n",
       " [u'2018-04-30', u'99.99', u'99.99', u'101.56', u'100.03', u'101.67'],\n",
       " [u'2018-04-23', u'100.01', u'100.01', u'101.56', u'100.07', u'101.67'],\n",
       " [u'2018-04-16', u'99.93', u'99.93', u'101.56', u'100.05', u'101.67'],\n",
       " [u'2018-04-09', u'99.96', u'99.96', u'101.56', u'100.09', u'101.67'],\n",
       " [u'2018-04-02', u'100.0', u'100.0', u'101.56', u'100.09', u'101.67'],\n",
       " [u'2018-03-26', u'100.0', u'100.0', u'101.56', u'100.1', u'101.67'],\n",
       " [u'2018-03-19', u'99.99', u'100.0', u'101.56', u'100.14', u'101.67']]"
      ]
     },
     "execution_count": 280,
     "metadata": {},
     "output_type": "execute_result"
    }
   ],
   "source": [
    "data"
   ]
  },
  {
   "cell_type": "code",
   "execution_count": null,
   "metadata": {},
   "outputs": [],
   "source": []
  }
 ],
 "metadata": {
  "kernelspec": {
   "display_name": "Python 2",
   "language": "python",
   "name": "python2"
  },
  "language_info": {
   "codemirror_mode": {
    "name": "ipython",
    "version": 2
   },
   "file_extension": ".py",
   "mimetype": "text/x-python",
   "name": "python",
   "nbconvert_exporter": "python",
   "pygments_lexer": "ipython2",
   "version": "2.7.14"
  }
 },
 "nbformat": 4,
 "nbformat_minor": 2
}
