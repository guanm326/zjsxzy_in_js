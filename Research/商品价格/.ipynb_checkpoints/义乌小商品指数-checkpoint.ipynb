{
 "cells": [
  {
   "cell_type": "code",
   "execution_count": 2,
   "metadata": {},
   "outputs": [],
   "source": [
    "import urllib2\n",
    "import requests\n",
    "from bs4 import BeautifulSoup"
   ]
  },
  {
   "cell_type": "code",
   "execution_count": 38,
   "metadata": {},
   "outputs": [],
   "source": [
    "start_date, end_date = '2006-05-01', '2018-05-23'"
   ]
  },
  {
   "cell_type": "code",
   "execution_count": 212,
   "metadata": {},
   "outputs": [],
   "source": [
    "gccode = '01'"
   ]
  },
  {
   "cell_type": "code",
   "execution_count": 213,
   "metadata": {},
   "outputs": [],
   "source": [
    "url = 'http://www.ywindex.com/cisweb/publish/queryList.htm?y=6&x=34&\\\n",
    "       startdate=%s&gccode=%s&enddate=%s&perpagenum=10&page=58'%(start_date, gccode, end_date)"
   ]
  },
  {
   "cell_type": "code",
   "execution_count": 214,
   "metadata": {},
   "outputs": [],
   "source": [
    "response = requests.get(url)"
   ]
  },
  {
   "cell_type": "code",
   "execution_count": 215,
   "metadata": {},
   "outputs": [
    {
     "data": {
      "text/plain": [
       "200"
      ]
     },
     "execution_count": 215,
     "metadata": {},
     "output_type": "execute_result"
    }
   ],
   "source": [
    "response.status_code"
   ]
  },
  {
   "cell_type": "code",
   "execution_count": 216,
   "metadata": {},
   "outputs": [],
   "source": [
    "soup = BeautifulSoup(response.text, \"html.parser\")\n",
    "response.encoding = 'gb2312'"
   ]
  },
  {
   "cell_type": "code",
   "execution_count": 217,
   "metadata": {},
   "outputs": [],
   "source": [
    "tables = soup.find_all('table')"
   ]
  },
  {
   "cell_type": "code",
   "execution_count": 218,
   "metadata": {},
   "outputs": [],
   "source": [
    "table = tables[-1]"
   ]
  },
  {
   "cell_type": "code",
   "execution_count": 219,
   "metadata": {},
   "outputs": [],
   "source": [
    "data = []\n",
    "for row in table.find_all('tr'):\n",
    "#     print row\n",
    "    cols = row.find_all('td')\n",
    "    cols = [ele.text.strip() for ele in cols]\n",
    "    data.append([ele for ele in cols if ele])"
   ]
  },
  {
   "cell_type": "code",
   "execution_count": 220,
   "metadata": {},
   "outputs": [],
   "source": [
    "data = data[2:]"
   ]
  },
  {
   "cell_type": "code",
   "execution_count": 221,
   "metadata": {},
   "outputs": [
    {
     "data": {
      "text/plain": [
       "[[u'2006-11-06', u'99.32', u'99.92', u'100.0', u'99.11', u'98.96'],\n",
       " [u'2006-10-30', u'99.4', u'100.06', u'100.0', u'99.06', u'98.62'],\n",
       " [u'2006-10-23', u'99.58', u'99.86', u'100.0', u'99.32', u'98.89'],\n",
       " [u'2006-10-16', u'99.91', u'100.65', u'100.0', u'99.37', u'99.09'],\n",
       " [u'2006-10-08', u'99.69', u'100.4', u'100.0', u'99.37', u'99.19'],\n",
       " [u'2006-09-30', u'99.74', u'100.16', u'100.0', u'99.63', u'99.42'],\n",
       " [u'2006-09-25', u'100.08', u'100.44', u'100.0', u'99.93', u'100.23'],\n",
       " [u'2006-09-18', u'100.63', u'99.62', u'100.0', u'100.83', u'101.42'],\n",
       " [u'2006-09-11', u'99.41', u'98.9', u'100.0', u'99.4', u'100.02']]"
      ]
     },
     "execution_count": 221,
     "metadata": {},
     "output_type": "execute_result"
    }
   ],
   "source": [
    "data"
   ]
  },
  {
   "cell_type": "code",
   "execution_count": null,
   "metadata": {},
   "outputs": [],
   "source": []
  }
 ],
 "metadata": {
  "kernelspec": {
   "display_name": "Python 2",
   "language": "python",
   "name": "python2"
  },
  "language_info": {
   "codemirror_mode": {
    "name": "ipython",
    "version": 2
   },
   "file_extension": ".py",
   "mimetype": "text/x-python",
   "name": "python",
   "nbconvert_exporter": "python",
   "pygments_lexer": "ipython2",
   "version": "2.7.14"
  }
 },
 "nbformat": 4,
 "nbformat_minor": 2
}
