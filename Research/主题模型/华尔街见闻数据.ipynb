{
 "cells": [
  {
   "cell_type": "code",
   "execution_count": 1,
   "metadata": {
    "collapsed": true
   },
   "outputs": [],
   "source": [
    "import os\n",
    "import jieba"
   ]
  },
  {
   "cell_type": "code",
   "execution_count": 8,
   "metadata": {},
   "outputs": [
    {
     "name": "stderr",
     "output_type": "stream",
     "text": [
      "Building prefix dict from the default dictionary ...\n",
      "Loading model from cache c:\\users\\zhangy~1\\appdata\\local\\temp\\jieba.cache\n",
      "Loading model cost 0.329 seconds.\n",
      "Prefix dict has been built succesfully.\n"
     ]
    }
   ],
   "source": [
    "jieba.load_userdict(u'D:/Data/词库/THUOCL_caijing.txt')"
   ]
  },
  {
   "cell_type": "code",
   "execution_count": 12,
   "metadata": {
    "collapsed": true
   },
   "outputs": [],
   "source": [
    "DATA_DIR = u'D:/workspace/data/wallstreetcn/'"
   ]
  },
  {
   "cell_type": "code",
   "execution_count": 28,
   "metadata": {
    "collapsed": true
   },
   "outputs": [],
   "source": [
    "with open(u'D:/Data/词库/stop_words_zh.txt', 'r') as fp:\n",
    "    stop_words = set([line.strip() for line in fp.readlines()])"
   ]
  },
  {
   "cell_type": "code",
   "execution_count": 14,
   "metadata": {
    "collapsed": true
   },
   "outputs": [],
   "source": [
    "years = range(2010, 2018)"
   ]
  },
  {
   "cell_type": "code",
   "execution_count": 15,
   "metadata": {},
   "outputs": [
    {
     "name": "stdout",
     "output_type": "stream",
     "text": [
      "2010 398\n",
      "D:/workspace/data/wallstreetcn//2010/100.txt\n"
     ]
    }
   ],
   "source": [
    "for year in years:\n",
    "    files = [f for f in os.listdir('%s/%d'%(DATA_DIR, year))]\n",
    "    print year, len(files)\n",
    "    for f in files:\n",
    "        fname = '%s/%d/%s'%(DATA_DIR, year, f)\n",
    "        print fname\n",
    "        break\n",
    "    break"
   ]
  },
  {
   "cell_type": "code",
   "execution_count": 29,
   "metadata": {
    "collapsed": true
   },
   "outputs": [],
   "source": [
    "with open(fname, 'r') as fp:\n",
    "    content = ' '.join([line.strip() for line in fp.readlines()[1:]])"
   ]
  },
  {
   "cell_type": "code",
   "execution_count": 30,
   "metadata": {
    "collapsed": true
   },
   "outputs": [],
   "source": [
    "content = jieba.cut(content)\n",
    "content = [w for w in content if w not in stop_words]"
   ]
  },
  {
   "cell_type": "code",
   "execution_count": 31,
   "metadata": {},
   "outputs": [
    {
     "name": "stdout",
     "output_type": "stream",
     "text": [
      "  特派记者   吴晓鹏     实习 记者   马馨 汝   纽约 、 上海 报道       随着 对 中国 企业 海外 造假 上市 的 报道 和 争议 ， 反向 并购 随同 中国 海外 上市 企业 ， 遭遇 了 一场 前所未有 的 “ 信任危机 ” 。       然而 ， 在 月 15 日晚 召开 的 在 美 中国 上市公司 商会 （ 简称 AUCC ） 年度 专题 演讲会 上 ， 纳斯达克 资深 副 总裁兼 国际部 主管 罗伯特 · 麦柯奕 Robert   McCooey 在 接受 本报记者 采访 时 表示 ， 如果 对 所有 中国 公司 或者 对 所有 反向 并购 的 中国 公司 采取 一刀切 的 方式 ， 对 真正 优秀 有 机会 继续 成长 公司 是 不 公平 的 。       “ 第 152 家 中国 公司 刚刚 在 纳斯达克 上市 。 ” 麦柯奕道 ， “ 中国 公司 选择 反向 并购 ， 因为 反向 并购 相较 IPO 对 他们 来说 更 容易 。 ”       麦柯奕 表示 ， “ 美国 投资者 对 中国 公司 还是 很 有 好感 的 ” 。       而 中国 企业 通用 钢铁 控股 有限公司 董事长 兼 CEO 禹作胜 认为 ， 大多数 中国 企业 的 企业 价值 还 没有 充分 被 美国市场 所 理解 和 认识 。       中国 企业 价值 还 未 被 充分认识       美国 财经 杂志 《 巴伦 周刊 》 （ Barron s ） 最近 一项 针对 借壳上市 的 中国 企业 的 报道 ， 让 “ 中国 企业 造假 上市 ” 的 说法 一时 沸沸扬扬 。       麦柯奕 表示 ， 对于 “ 中国 企业 造假 上市 ” 的 说法 ， 要持 谨慎 态度 ， “ 现在 有 230 家 中国 公司 在 美国 上市 ， 纳斯达克 有 152 家 ， 纽交 所有 70 多家 。 而 《 巴伦 周刊 》 文章 中 只 提到 了 五六家 公司 。 ”       被 点名 指控 的 有 上海 双金 和 东方 纸业 两家 。 这 两家 企业 的 第一 大 投资者 Pope 资产 管理 公司 （ Pope   Asset   Management ） 的 创始人 威廉 P · 韦尔斯 （ William   P   Wells ） 在 接受 采访 时 表示 ， “ 作为 投资者 ， 我们 会 关注 对于 两家 公司 欺诈 的 指控 ， 我们 希望 两项 指控 都 不是 真实 的 。 “       “ 我们 没法 自己 证明 他们 是否 欺诈 了 。 我们 依靠 审计 公司 ， 依据 我们 看到 的 进行 投资 。 ” 韦尔斯 表示 。 据介绍 ， 成立 于 2000 年 的 POP 资产 管理 公司 ， 于 2007 年 成功 参与 了 中 石油 的 首发 募集 资金 。       “ 我们 投资 很多 中国 公司 ， 认为 中国 是 全球 增长 态势 最好 的 国家 。 ” 韦尔斯 表示 ， “ 在 对 中国 长时间 投资 中 ， 我们 在 大 公司 上 投资 回报 不错 。 这些 公司 的 估值 高 了 ， 就 开始 寻找 中小 公司 的 机会 。 ”       此次 风波 还 带来 了 对 中国 海外 上市 企业 交易量 萎靡 的 质疑 。       据 《 巴伦 周刊 》 报道 ， 绝大多数 通过 借壳上市 的 中国 企业 股票 表现 惨淡 。 这些 股票 头 三年 的 收益 中位值 落后 于 作为 基准 的 沃特 USX 中国 指数 75% 。 如今 ， 这 类股票 的 总 市值 已缩水 至 200 亿美元 ， 与 高点 相比 跌 了 六成 之多 。       对此 ， 麦柯奕 表示 ， “ 过去 两年 ， 我们 所有人 遇到 的 情况 都 非常 艰难 ， 中国 公司 虽然 也 遭遇 了 挑战 ， 但是 没有 人敢 忽视 它们 。 ” 他 认为 ， 目前 全球 经济 复苏 还有 一些 不确定性 ， 导致 很多 股票 出现 下跌 。 总体 来说 ， 中国 公司 与 很多 基准 的 表现 都 是 一致 ， “ 美国 投资者 对 中国 公司 还是 很 有 好感 的 ” 。       麦柯奕 认为 ， 中国 公司 现在 正 越多越 多 与 美国 的 投资者 关系 公司 合作 ， 与 投资界 互动 ， 让 投资者 能 增加 对 公司 的 了解 ； 同时 ， 中国 公司 开始 意识 到 ， 他们 开始 需要 做 一些 非 交易 性 路演 ， 接触 不同 的 投资者 。       麦柯奕 举例 说 ， “ 现在 有 一些 公司 ， 来 美国 不仅仅 只 去 波士顿 、 纽约 、 芝加哥 、 旧金山 这 条 传统 路线 ， 还 去 圣路易斯 、 达拉斯 、 亚特兰大 这些 二线 城市 ， 甚至 三四 线 城市 ， 与 主要 投资者 交谈 。 长期 来说 ， 这些 都 会 增加 流动性 和 交易量 。 ”       通用 钢铁 控股 有限公司 董事长 兼 CEO 禹作胜 认为 ， 个别 上市 的 中国 公司 出 问题 并 不 代表 全部 ， 也 不 代表 反向 并购 企业 有 问题 。 大多数 中国 公司 都 是 非常 好 的 ， “ 它们 的 企业 价值 还 没有 充分 被 美国市场 所 理解 和 认识 ” 。       一刀切 有失公允       而 对于 反向 并购 这种 融资 方式 ， 中国 汽车 系统 首席 财务 官 李杰 表示 ， “ 从 中国 汽车 自身 的 情况 看 ， 这 是 去 纳斯达克 上市 的 好 方式 。 ”       据统计 ， 近年来 ， 已有 350 多家 中国 企业 利用 反向 并购 的 方式 在 美 上市 ， 总 市值 最高 时 超过 500 亿美元 。       中国 汽车 通过 反向 并购 于 2004 年 在 纳斯达克 上市 。 过去 几年 ， 资本 市场 认可 这家 公司 的 表现 ， 中国 汽车业 在 财富 增长 最快 的 公司 中 排名第 23 。       “ 中国 公司 有时候 选择 反向 并购 而 不是 IPO ， 是因为 反向 并购 相较 IPO 对 他们 来说 更 容易 。 这是 这些 公司 做出 的 非常 成熟 的 决定 。 ” 麦柯奕 表示 ， “ 如果 对 所有 中国 公司 ， 或者 所有 的 反向 并购 的 中国 公司 采取 一刀切 的 方式 ， 我 觉得 对 那些 真正 优秀 有 机会 继续 成长 的 公司 是 不 公平 的 。 ”       在 美 中国 上市公司 商会 （ AUCC ） 的 于 会长 表示 ， “ 不能 因为 个别 企业 出现 问题 妖魔化 中国 公司 。 ” 不过 他 同时 指出 ， 中国 上市 企业 要 严格要求 自己 ， 要 遵守 美国 和 中国 的 法律 ， 在 选择 审计师 、 律师 时 应有 更 高 的 要求 ， 比 本土 上市公司 要求 更高 。       被 称为 “ 审计师 的 审计师 ” 的 公众 公司 会计 监管 委员会 The   Public   Company   Accounting   Oversight   Board ， 简称 PCAOB 近日 也 表示 ， 对于 由于 使用 不同 的 会计 方法 所 导致 的 争议 ， 包括 中国 本地 的 会计 手段 ， 这方面 会 有 一些 严格 的 措施 出台 。       为此 ， 麦柯奕 建议 ， 投资者 应该 做好 尽职 调查 ， 要 与 自己 的 顾问 合作 。       http epaper.21 cbh com html 2010 09 22 content 131140 htm     （ 更 多 精彩 财经 资讯 ， 点击 这里 下载 华尔街 见闻 App\n"
     ]
    }
   ],
   "source": [
    "print ' '.join(content)"
   ]
  },
  {
   "cell_type": "code",
   "execution_count": null,
   "metadata": {
    "collapsed": true
   },
   "outputs": [],
   "source": []
  }
 ],
 "metadata": {
  "kernelspec": {
   "display_name": "Python 2",
   "language": "python",
   "name": "python2"
  },
  "language_info": {
   "codemirror_mode": {
    "name": "ipython",
    "version": 2
   },
   "file_extension": ".py",
   "mimetype": "text/x-python",
   "name": "python",
   "nbconvert_exporter": "python",
   "pygments_lexer": "ipython2",
   "version": "2.7.14"
  }
 },
 "nbformat": 4,
 "nbformat_minor": 2
}
