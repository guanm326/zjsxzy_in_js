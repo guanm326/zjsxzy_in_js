{
 "cells": [
  {
   "cell_type": "code",
   "execution_count": 30,
   "metadata": {},
   "outputs": [],
   "source": [
    "import pandas as pd\n",
    "from WindPy import w\n",
    "import matplotlib.pyplot as plt\n",
    "%matplotlib inline"
   ]
  },
  {
   "cell_type": "code",
   "execution_count": 2,
   "metadata": {},
   "outputs": [
    {
     "name": "stdout",
     "output_type": "stream",
     "text": [
      "Welcome to use Wind Quant API for Python (WindPy)!\n",
      "\n",
      "COPYRIGHT (C) 2017 WIND INFORMATION CO., LTD. ALL RIGHTS RESERVED.\n",
      "IN NO CIRCUMSTANCE SHALL WIND BE RESPONSIBLE FOR ANY DAMAGES OR LOSSES CAUSED BY USING WIND QUANT API FOR Python.\n"
     ]
    },
    {
     "data": {
      "text/plain": [
       ".ErrorCode=0\n",
       ".Data=[OK!]"
      ]
     },
     "execution_count": 2,
     "metadata": {},
     "output_type": "execute_result"
    }
   ],
   "source": [
    "w.start()"
   ]
  },
  {
   "cell_type": "code",
   "execution_count": 79,
   "metadata": {},
   "outputs": [],
   "source": [
    "fname = u'C:/Users/zhangyang01/Dropbox/嘉实/研究/中美龙头/恒生A股龙头及其港股估值.xlsx'"
   ]
  },
  {
   "cell_type": "code",
   "execution_count": 80,
   "metadata": {},
   "outputs": [],
   "source": [
    "df = pd.read_excel(fname)"
   ]
  },
  {
   "cell_type": "code",
   "execution_count": 81,
   "metadata": {},
   "outputs": [],
   "source": [
    "df = df[df[u'对应港股代码'] != 0]"
   ]
  },
  {
   "cell_type": "code",
   "execution_count": 82,
   "metadata": {},
   "outputs": [
    {
     "data": {
      "text/html": [
       "<div>\n",
       "<style scoped>\n",
       "    .dataframe tbody tr th:only-of-type {\n",
       "        vertical-align: middle;\n",
       "    }\n",
       "\n",
       "    .dataframe tbody tr th {\n",
       "        vertical-align: top;\n",
       "    }\n",
       "\n",
       "    .dataframe thead th {\n",
       "        text-align: right;\n",
       "    }\n",
       "</style>\n",
       "<table border=\"1\" class=\"dataframe\">\n",
       "  <thead>\n",
       "    <tr style=\"text-align: right;\">\n",
       "      <th></th>\n",
       "      <th>代码</th>\n",
       "      <th>简称</th>\n",
       "      <th>市盈率</th>\n",
       "      <th>证监会行业</th>\n",
       "      <th>Wind行业</th>\n",
       "      <th>对应港股代码</th>\n",
       "      <th>港股简称</th>\n",
       "      <th>港股市盈率</th>\n",
       "    </tr>\n",
       "  </thead>\n",
       "  <tbody>\n",
       "    <tr>\n",
       "      <th>0</th>\n",
       "      <td>600027.SH</td>\n",
       "      <td>华电国际</td>\n",
       "      <td>34.612820</td>\n",
       "      <td>电力、热力生产和供应业</td>\n",
       "      <td>公用事业</td>\n",
       "      <td>1071.HK</td>\n",
       "      <td>华电国际电力股份</td>\n",
       "      <td>61.280273</td>\n",
       "    </tr>\n",
       "    <tr>\n",
       "      <th>1</th>\n",
       "      <td>601857.SH</td>\n",
       "      <td>中国石油</td>\n",
       "      <td>49.779232</td>\n",
       "      <td>石油和天然气开采业</td>\n",
       "      <td>能源</td>\n",
       "      <td>0857.HK</td>\n",
       "      <td>中国石油股份</td>\n",
       "      <td>31.374077</td>\n",
       "    </tr>\n",
       "    <tr>\n",
       "      <th>2</th>\n",
       "      <td>600011.SH</td>\n",
       "      <td>华能国际</td>\n",
       "      <td>40.381676</td>\n",
       "      <td>电力、热力生产和供应业</td>\n",
       "      <td>公用事业</td>\n",
       "      <td>0902.HK</td>\n",
       "      <td>华能国际电力股份</td>\n",
       "      <td>31.118923</td>\n",
       "    </tr>\n",
       "    <tr>\n",
       "      <th>3</th>\n",
       "      <td>601899.SH</td>\n",
       "      <td>紫金矿业</td>\n",
       "      <td>25.487190</td>\n",
       "      <td>有色金属矿采选业</td>\n",
       "      <td>材料</td>\n",
       "      <td>2899.HK</td>\n",
       "      <td>紫金矿业</td>\n",
       "      <td>16.923704</td>\n",
       "    </tr>\n",
       "    <tr>\n",
       "      <th>4</th>\n",
       "      <td>600115.SH</td>\n",
       "      <td>东方航空</td>\n",
       "      <td>21.450943</td>\n",
       "      <td>航空运输业</td>\n",
       "      <td>工业</td>\n",
       "      <td>0670.HK</td>\n",
       "      <td>中国东方航空股份</td>\n",
       "      <td>13.935001</td>\n",
       "    </tr>\n",
       "  </tbody>\n",
       "</table>\n",
       "</div>"
      ],
      "text/plain": [
       "          代码    简称        市盈率        证监会行业 Wind行业   对应港股代码      港股简称  \\\n",
       "0  600027.SH  华电国际  34.612820  电力、热力生产和供应业   公用事业  1071.HK  华电国际电力股份   \n",
       "1  601857.SH  中国石油  49.779232    石油和天然气开采业     能源  0857.HK    中国石油股份   \n",
       "2  600011.SH  华能国际  40.381676  电力、热力生产和供应业   公用事业  0902.HK  华能国际电力股份   \n",
       "3  601899.SH  紫金矿业  25.487190     有色金属矿采选业     材料  2899.HK      紫金矿业   \n",
       "4  600115.SH  东方航空  21.450943        航空运输业     工业  0670.HK  中国东方航空股份   \n",
       "\n",
       "       港股市盈率  \n",
       "0  61.280273  \n",
       "1  31.374077  \n",
       "2  31.118923  \n",
       "3  16.923704  \n",
       "4  13.935001  "
      ]
     },
     "execution_count": 82,
     "metadata": {},
     "output_type": "execute_result"
    }
   ],
   "source": [
    "df.head()"
   ]
  },
  {
   "cell_type": "code",
   "execution_count": 83,
   "metadata": {},
   "outputs": [],
   "source": [
    "df[u'市盈率百分位'] = 0\n",
    "for i, code in enumerate(df[u'代码']):\n",
    "    data = w.wsd(code, 'pe_ttm', start_date, end_date)\n",
    "    series = pd.Series(data.Data[0], index=data.Times)\n",
    "    df.loc[i, u'市盈率百分位'] = series.rank(pct=True).iloc[-1]"
   ]
  },
  {
   "cell_type": "code",
   "execution_count": 84,
   "metadata": {},
   "outputs": [],
   "source": [
    "df[u'港股市盈率百分位'] = 0\n",
    "for i, code in enumerate(df[u'对应港股代码']):\n",
    "    data = w.wsd(code, 'pe_ttm', start_date, end_date)\n",
    "    series = pd.Series(data.Data[0], index=data.Times)\n",
    "    df.loc[i, u'港股市盈率百分位'] = series.rank(pct=True)[-1]"
   ]
  },
  {
   "cell_type": "code",
   "execution_count": 85,
   "metadata": {},
   "outputs": [],
   "source": [
    "df.to_excel('./result.xlsx')"
   ]
  },
  {
   "cell_type": "code",
   "execution_count": null,
   "metadata": {},
   "outputs": [],
   "source": []
  }
 ],
 "metadata": {
  "kernelspec": {
   "display_name": "Python 2",
   "language": "python",
   "name": "python2"
  },
  "language_info": {
   "codemirror_mode": {
    "name": "ipython",
    "version": 2
   },
   "file_extension": ".py",
   "mimetype": "text/x-python",
   "name": "python",
   "nbconvert_exporter": "python",
   "pygments_lexer": "ipython2",
   "version": "2.7.14"
  }
 },
 "nbformat": 4,
 "nbformat_minor": 2
}
