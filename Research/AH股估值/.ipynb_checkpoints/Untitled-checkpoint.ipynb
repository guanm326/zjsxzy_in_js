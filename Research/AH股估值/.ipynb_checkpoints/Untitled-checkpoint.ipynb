{
 "cells": [
  {
   "cell_type": "code",
   "execution_count": 30,
   "metadata": {},
   "outputs": [],
   "source": [
    "import pandas as pd\n",
    "from WindPy import w\n",
    "import matplotlib.pyplot as plt\n",
    "%matplotlib inline"
   ]
  },
  {
   "cell_type": "code",
   "execution_count": 2,
   "metadata": {},
   "outputs": [
    {
     "name": "stdout",
     "output_type": "stream",
     "text": [
      "Welcome to use Wind Quant API for Python (WindPy)!\n",
      "\n",
      "COPYRIGHT (C) 2017 WIND INFORMATION CO., LTD. ALL RIGHTS RESERVED.\n",
      "IN NO CIRCUMSTANCE SHALL WIND BE RESPONSIBLE FOR ANY DAMAGES OR LOSSES CAUSED BY USING WIND QUANT API FOR Python.\n"
     ]
    },
    {
     "data": {
      "text/plain": [
       ".ErrorCode=0\n",
       ".Data=[OK!]"
      ]
     },
     "execution_count": 2,
     "metadata": {},
     "output_type": "execute_result"
    }
   ],
   "source": [
    "w.start()"
   ]
  },
  {
   "cell_type": "code",
   "execution_count": 46,
   "metadata": {},
   "outputs": [],
   "source": [
    "fname = u'C:/Users/zhangyang01/Dropbox/嘉实/研究/中美龙头/中证1000及其港股估值.xlsx'"
   ]
  },
  {
   "cell_type": "code",
   "execution_count": 47,
   "metadata": {},
   "outputs": [],
   "source": [
    "df = pd.read_excel(fname)"
   ]
  },
  {
   "cell_type": "code",
   "execution_count": 48,
   "metadata": {},
   "outputs": [],
   "source": [
    "df = df[df[u'对应港股代码'] != 0]"
   ]
  },
  {
   "cell_type": "code",
   "execution_count": 49,
   "metadata": {},
   "outputs": [
    {
     "data": {
      "text/html": [
       "<div>\n",
       "<style scoped>\n",
       "    .dataframe tbody tr th:only-of-type {\n",
       "        vertical-align: middle;\n",
       "    }\n",
       "\n",
       "    .dataframe tbody tr th {\n",
       "        vertical-align: top;\n",
       "    }\n",
       "\n",
       "    .dataframe thead th {\n",
       "        text-align: right;\n",
       "    }\n",
       "</style>\n",
       "<table border=\"1\" class=\"dataframe\">\n",
       "  <thead>\n",
       "    <tr style=\"text-align: right;\">\n",
       "      <th></th>\n",
       "      <th>代码</th>\n",
       "      <th>简称</th>\n",
       "      <th>市盈率</th>\n",
       "      <th>证监会行业</th>\n",
       "      <th>Wind行业</th>\n",
       "      <th>对应港股代码</th>\n",
       "      <th>港股简称</th>\n",
       "      <th>港股市盈率</th>\n",
       "    </tr>\n",
       "  </thead>\n",
       "  <tbody>\n",
       "    <tr>\n",
       "      <th>0</th>\n",
       "      <td>600876.SH</td>\n",
       "      <td>洛阳玻璃</td>\n",
       "      <td>340.985291</td>\n",
       "      <td>制造业</td>\n",
       "      <td>信息技术</td>\n",
       "      <td>1108.HK</td>\n",
       "      <td>洛阳玻璃股份</td>\n",
       "      <td>121.546806</td>\n",
       "    </tr>\n",
       "    <tr>\n",
       "      <th>1</th>\n",
       "      <td>002703.SZ</td>\n",
       "      <td>浙江世宝</td>\n",
       "      <td>386.971344</td>\n",
       "      <td>制造业</td>\n",
       "      <td>可选消费</td>\n",
       "      <td>1057.HK</td>\n",
       "      <td>浙江世宝</td>\n",
       "      <td>104.274338</td>\n",
       "    </tr>\n",
       "    <tr>\n",
       "      <th>2</th>\n",
       "      <td>600012.SH</td>\n",
       "      <td>皖通高速</td>\n",
       "      <td>10.208171</td>\n",
       "      <td>交通运输、仓储和邮政业</td>\n",
       "      <td>工业</td>\n",
       "      <td>0995.HK</td>\n",
       "      <td>安徽皖通高速公路</td>\n",
       "      <td>6.483032</td>\n",
       "    </tr>\n",
       "    <tr>\n",
       "      <th>3</th>\n",
       "      <td>000921.SZ</td>\n",
       "      <td>海信科龙</td>\n",
       "      <td>7.353347</td>\n",
       "      <td>制造业</td>\n",
       "      <td>可选消费</td>\n",
       "      <td>0921.HK</td>\n",
       "      <td>海信科龙</td>\n",
       "      <td>4.801607</td>\n",
       "    </tr>\n",
       "    <tr>\n",
       "      <th>4</th>\n",
       "      <td>601588.SH</td>\n",
       "      <td>北辰实业</td>\n",
       "      <td>11.890207</td>\n",
       "      <td>房地产业</td>\n",
       "      <td>房地产</td>\n",
       "      <td>0588.HK</td>\n",
       "      <td>北京北辰实业股份</td>\n",
       "      <td>5.494874</td>\n",
       "    </tr>\n",
       "  </tbody>\n",
       "</table>\n",
       "</div>"
      ],
      "text/plain": [
       "          代码    简称         市盈率        证监会行业 Wind行业   对应港股代码      港股简称  \\\n",
       "0  600876.SH  洛阳玻璃  340.985291          制造业   信息技术  1108.HK    洛阳玻璃股份   \n",
       "1  002703.SZ  浙江世宝  386.971344          制造业   可选消费  1057.HK      浙江世宝   \n",
       "2  600012.SH  皖通高速   10.208171  交通运输、仓储和邮政业     工业  0995.HK  安徽皖通高速公路   \n",
       "3  000921.SZ  海信科龙    7.353347          制造业   可选消费  0921.HK      海信科龙   \n",
       "4  601588.SH  北辰实业   11.890207         房地产业    房地产  0588.HK  北京北辰实业股份   \n",
       "\n",
       "        港股市盈率  \n",
       "0  121.546806  \n",
       "1  104.274338  \n",
       "2    6.483032  \n",
       "3    4.801607  \n",
       "4    5.494874  "
      ]
     },
     "execution_count": 49,
     "metadata": {},
     "output_type": "execute_result"
    }
   ],
   "source": [
    "df.head()"
   ]
  },
  {
   "cell_type": "code",
   "execution_count": 51,
   "metadata": {},
   "outputs": [],
   "source": [
    "df[u'市盈率百分位'] = 0"
   ]
  },
  {
   "cell_type": "code",
   "execution_count": 58,
   "metadata": {},
   "outputs": [],
   "source": [
    "df[u'市盈率百分位'] = 0\n",
    "for i, code in enumerate(df[u'代码']):\n",
    "    data = w.wsd(code, 'pe_ttm', start_date, end_date)\n",
    "    series = pd.Series(data.Data[0], index=data.Times)\n",
    "    df.loc[i, u'市盈率百分位'] = series.rank(pct=True).iloc[-1]"
   ]
  },
  {
   "cell_type": "code",
   "execution_count": 59,
   "metadata": {},
   "outputs": [],
   "source": [
    "df[u'港股市盈率百分位'] = 0\n",
    "for i, code in enumerate(df[u'对应港股代码']):\n",
    "    data = w.wsd(code, 'pe_ttm', start_date, end_date)\n",
    "    series = pd.Series(data.Data[0], index=data.Times)\n",
    "    df.loc[i, u'港股市盈率百分位'] = series.rank(pct=True)[-1]"
   ]
  },
  {
   "cell_type": "code",
   "execution_count": 60,
   "metadata": {},
   "outputs": [],
   "source": [
    "df.to_excel('./result.xlsx')"
   ]
  },
  {
   "cell_type": "code",
   "execution_count": 61,
   "metadata": {},
   "outputs": [],
   "source": [
    "code = '002703.SZ'"
   ]
  },
  {
   "cell_type": "code",
   "execution_count": 62,
   "metadata": {},
   "outputs": [],
   "source": [
    "data = w.wsd(code, 'pe_ttm', start_date, end_date)"
   ]
  },
  {
   "cell_type": "code",
   "execution_count": 63,
   "metadata": {},
   "outputs": [],
   "source": [
    "series = pd.Series(data.Data[0], index=data.Times)"
   ]
  },
  {
   "cell_type": "code",
   "execution_count": null,
   "metadata": {},
   "outputs": [],
   "source": []
  }
 ],
 "metadata": {
  "kernelspec": {
   "display_name": "Python 2",
   "language": "python",
   "name": "python2"
  },
  "language_info": {
   "codemirror_mode": {
    "name": "ipython",
    "version": 2
   },
   "file_extension": ".py",
   "mimetype": "text/x-python",
   "name": "python",
   "nbconvert_exporter": "python",
   "pygments_lexer": "ipython2",
   "version": "2.7.14"
  }
 },
 "nbformat": 4,
 "nbformat_minor": 2
}
