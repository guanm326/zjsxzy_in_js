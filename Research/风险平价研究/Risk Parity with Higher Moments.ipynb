{
 "cells": [
  {
   "cell_type": "code",
   "execution_count": 1,
   "metadata": {
    "collapsed": true
   },
   "outputs": [],
   "source": [
    "import pandas as pd\n",
    "import numpy as np\n",
    "import matplotlib.pyplot as plt\n",
    "import seaborn as sns\n",
    "import pyfolio as pf\n",
    "from scipy.optimize import minimize\n",
    "from scipy.optimize import basinhopping\n",
    "%matplotlib inline"
   ]
  },
  {
   "cell_type": "markdown",
   "metadata": {},
   "source": [
    "# Higher Moment Risk Parity"
   ]
  },
  {
   "cell_type": "code",
   "execution_count": 2,
   "metadata": {
    "collapsed": false
   },
   "outputs": [],
   "source": [
    "DATA_DIR = 'C:/Users/jgtzsx01/Documents/workspace/zjsxzy_in_js/Research/data/'"
   ]
  },
  {
   "cell_type": "code",
   "execution_count": 3,
   "metadata": {
    "collapsed": true
   },
   "outputs": [],
   "source": [
    "fname = '%s/assets.xlsx'%(DATA_DIR)"
   ]
  },
  {
   "cell_type": "code",
   "execution_count": 4,
   "metadata": {
    "collapsed": true
   },
   "outputs": [],
   "source": [
    "odf = pd.read_excel(fname, index_col=0)"
   ]
  },
  {
   "cell_type": "code",
   "execution_count": 5,
   "metadata": {
    "collapsed": false
   },
   "outputs": [
    {
     "data": {
      "text/html": [
       "<div>\n",
       "<table border=\"1\" class=\"dataframe\">\n",
       "  <thead>\n",
       "    <tr style=\"text-align: right;\">\n",
       "      <th></th>\n",
       "      <th>881001.WI</th>\n",
       "      <th>HSI.HI</th>\n",
       "      <th>SPX.GI</th>\n",
       "      <th>065.CS</th>\n",
       "      <th>AU9999.SGE</th>\n",
       "      <th>B.IPE</th>\n",
       "      <th>H11025.CSI</th>\n",
       "    </tr>\n",
       "  </thead>\n",
       "  <tbody>\n",
       "    <tr>\n",
       "      <th>2017-07-25</th>\n",
       "      <td>4367.9722</td>\n",
       "      <td>26852.05</td>\n",
       "      <td>2477.13</td>\n",
       "      <td>173.4040</td>\n",
       "      <td>273.84</td>\n",
       "      <td>50.84</td>\n",
       "      <td>1430.2090</td>\n",
       "    </tr>\n",
       "    <tr>\n",
       "      <th>2017-07-26</th>\n",
       "      <td>4360.6756</td>\n",
       "      <td>26941.02</td>\n",
       "      <td>2477.83</td>\n",
       "      <td>173.3417</td>\n",
       "      <td>272.30</td>\n",
       "      <td>51.01</td>\n",
       "      <td>1430.3688</td>\n",
       "    </tr>\n",
       "    <tr>\n",
       "      <th>2017-07-27</th>\n",
       "      <td>4389.8914</td>\n",
       "      <td>27131.17</td>\n",
       "      <td>2475.42</td>\n",
       "      <td>173.3718</td>\n",
       "      <td>274.60</td>\n",
       "      <td>51.63</td>\n",
       "      <td>1430.5270</td>\n",
       "    </tr>\n",
       "    <tr>\n",
       "      <th>2017-07-28</th>\n",
       "      <td>4398.5199</td>\n",
       "      <td>26979.39</td>\n",
       "      <td>2472.10</td>\n",
       "      <td>173.3870</td>\n",
       "      <td>274.29</td>\n",
       "      <td>52.32</td>\n",
       "      <td>1430.6924</td>\n",
       "    </tr>\n",
       "    <tr>\n",
       "      <th>2017-07-31</th>\n",
       "      <td>4428.3127</td>\n",
       "      <td>27323.99</td>\n",
       "      <td>2470.30</td>\n",
       "      <td>173.3822</td>\n",
       "      <td>275.10</td>\n",
       "      <td>52.68</td>\n",
       "      <td>1430.6924</td>\n",
       "    </tr>\n",
       "  </tbody>\n",
       "</table>\n",
       "</div>"
      ],
      "text/plain": [
       "            881001.WI    HSI.HI   SPX.GI    065.CS  AU9999.SGE  B.IPE  \\\n",
       "2017-07-25  4367.9722  26852.05  2477.13  173.4040      273.84  50.84   \n",
       "2017-07-26  4360.6756  26941.02  2477.83  173.3417      272.30  51.01   \n",
       "2017-07-27  4389.8914  27131.17  2475.42  173.3718      274.60  51.63   \n",
       "2017-07-28  4398.5199  26979.39  2472.10  173.3870      274.29  52.32   \n",
       "2017-07-31  4428.3127  27323.99  2470.30  173.3822      275.10  52.68   \n",
       "\n",
       "            H11025.CSI  \n",
       "2017-07-25   1430.2090  \n",
       "2017-07-26   1430.3688  \n",
       "2017-07-27   1430.5270  \n",
       "2017-07-28   1430.6924  \n",
       "2017-07-31   1430.6924  "
      ]
     },
     "execution_count": 5,
     "metadata": {},
     "output_type": "execute_result"
    }
   ],
   "source": [
    "odf.tail()"
   ]
  },
  {
   "cell_type": "code",
   "execution_count": 6,
   "metadata": {
    "collapsed": true
   },
   "outputs": [],
   "source": [
    "df = odf[['881001.WI', 'HSI.HI', 'SPX.GI', '065.CS', 'AU9999.SGE','B.IPE']]"
   ]
  },
  {
   "cell_type": "code",
   "execution_count": 7,
   "metadata": {
    "collapsed": true
   },
   "outputs": [],
   "source": [
    "df = df[df['B.IPE'] > 0]"
   ]
  },
  {
   "cell_type": "code",
   "execution_count": 8,
   "metadata": {
    "collapsed": true
   },
   "outputs": [],
   "source": [
    "df = df[df.index >= '2012-01-01']"
   ]
  },
  {
   "cell_type": "code",
   "execution_count": 9,
   "metadata": {
    "collapsed": false
   },
   "outputs": [],
   "source": [
    "ret_df = df.pct_change().dropna()\n",
    "# ret_df = np.log(df).diff().dropna()"
   ]
  },
  {
   "cell_type": "code",
   "execution_count": 10,
   "metadata": {
    "collapsed": true
   },
   "outputs": [],
   "source": [
    "cov = ret_df.cov()"
   ]
  },
  {
   "cell_type": "code",
   "execution_count": 11,
   "metadata": {
    "collapsed": false
   },
   "outputs": [
    {
     "data": {
      "text/html": [
       "<div>\n",
       "<table border=\"1\" class=\"dataframe\">\n",
       "  <thead>\n",
       "    <tr style=\"text-align: right;\">\n",
       "      <th></th>\n",
       "      <th>881001.WI</th>\n",
       "      <th>HSI.HI</th>\n",
       "      <th>SPX.GI</th>\n",
       "      <th>065.CS</th>\n",
       "      <th>AU9999.SGE</th>\n",
       "      <th>B.IPE</th>\n",
       "    </tr>\n",
       "  </thead>\n",
       "  <tbody>\n",
       "    <tr>\n",
       "      <th>881001.WI</th>\n",
       "      <td>3.093684e-04</td>\n",
       "      <td>9.121596e-05</td>\n",
       "      <td>2.104856e-05</td>\n",
       "      <td>3.277527e-07</td>\n",
       "      <td>4.630777e-06</td>\n",
       "      <td>2.551769e-05</td>\n",
       "    </tr>\n",
       "    <tr>\n",
       "      <th>HSI.HI</th>\n",
       "      <td>9.121596e-05</td>\n",
       "      <td>1.128431e-04</td>\n",
       "      <td>2.111155e-05</td>\n",
       "      <td>3.324295e-08</td>\n",
       "      <td>4.988624e-06</td>\n",
       "      <td>2.657657e-05</td>\n",
       "    </tr>\n",
       "    <tr>\n",
       "      <th>SPX.GI</th>\n",
       "      <td>2.104856e-05</td>\n",
       "      <td>2.111155e-05</td>\n",
       "      <td>6.127284e-05</td>\n",
       "      <td>8.390274e-08</td>\n",
       "      <td>3.602287e-07</td>\n",
       "      <td>5.081354e-05</td>\n",
       "    </tr>\n",
       "    <tr>\n",
       "      <th>065.CS</th>\n",
       "      <td>3.277527e-07</td>\n",
       "      <td>3.324295e-08</td>\n",
       "      <td>8.390274e-08</td>\n",
       "      <td>7.289825e-07</td>\n",
       "      <td>6.030197e-08</td>\n",
       "      <td>-5.326375e-07</td>\n",
       "    </tr>\n",
       "    <tr>\n",
       "      <th>AU9999.SGE</th>\n",
       "      <td>4.630777e-06</td>\n",
       "      <td>4.988624e-06</td>\n",
       "      <td>3.602287e-07</td>\n",
       "      <td>6.030197e-08</td>\n",
       "      <td>8.434866e-05</td>\n",
       "      <td>-8.851266e-07</td>\n",
       "    </tr>\n",
       "    <tr>\n",
       "      <th>B.IPE</th>\n",
       "      <td>2.551769e-05</td>\n",
       "      <td>2.657657e-05</td>\n",
       "      <td>5.081354e-05</td>\n",
       "      <td>-5.326375e-07</td>\n",
       "      <td>-8.851266e-07</td>\n",
       "      <td>3.682198e-04</td>\n",
       "    </tr>\n",
       "  </tbody>\n",
       "</table>\n",
       "</div>"
      ],
      "text/plain": [
       "               881001.WI        HSI.HI        SPX.GI        065.CS  \\\n",
       "881001.WI   3.093684e-04  9.121596e-05  2.104856e-05  3.277527e-07   \n",
       "HSI.HI      9.121596e-05  1.128431e-04  2.111155e-05  3.324295e-08   \n",
       "SPX.GI      2.104856e-05  2.111155e-05  6.127284e-05  8.390274e-08   \n",
       "065.CS      3.277527e-07  3.324295e-08  8.390274e-08  7.289825e-07   \n",
       "AU9999.SGE  4.630777e-06  4.988624e-06  3.602287e-07  6.030197e-08   \n",
       "B.IPE       2.551769e-05  2.657657e-05  5.081354e-05 -5.326375e-07   \n",
       "\n",
       "              AU9999.SGE         B.IPE  \n",
       "881001.WI   4.630777e-06  2.551769e-05  \n",
       "HSI.HI      4.988624e-06  2.657657e-05  \n",
       "SPX.GI      3.602287e-07  5.081354e-05  \n",
       "065.CS      6.030197e-08 -5.326375e-07  \n",
       "AU9999.SGE  8.434866e-05 -8.851266e-07  \n",
       "B.IPE      -8.851266e-07  3.682198e-04  "
      ]
     },
     "execution_count": 11,
     "metadata": {},
     "output_type": "execute_result"
    }
   ],
   "source": [
    "cov"
   ]
  },
  {
   "cell_type": "code",
   "execution_count": 12,
   "metadata": {
    "collapsed": false
   },
   "outputs": [],
   "source": [
    "w = np.array([0.1, 0.1, 0.1, 0.3, 0.2, 0.2])"
   ]
  },
  {
   "cell_type": "code",
   "execution_count": 13,
   "metadata": {
    "collapsed": true
   },
   "outputs": [],
   "source": [
    " # 风险预算优化\n",
    "def calculate_portfolio_var(w, M2):\n",
    "    # 计算组合风险的函数\n",
    "    return w.dot(M2).dot(w)"
   ]
  },
  {
   "cell_type": "code",
   "execution_count": 14,
   "metadata": {
    "collapsed": false
   },
   "outputs": [
    {
     "data": {
      "text/plain": [
       "3.0085414238052321e-05"
      ]
     },
     "execution_count": 14,
     "metadata": {},
     "output_type": "execute_result"
    }
   ],
   "source": [
    "calculate_portfolio_var(w, cov)"
   ]
  },
  {
   "cell_type": "code",
   "execution_count": 15,
   "metadata": {
    "collapsed": true
   },
   "outputs": [],
   "source": [
    "def calculate_portfolio_coskewness(df):\n",
    "    (T, N) = df.shape\n",
    "    pv = df - df.mean()\n",
    "    M3 = np.array([]).reshape((N, 0))\n",
    "    for i in range(N):\n",
    "        S = np.zeros((N, N))\n",
    "        for j in range(N):\n",
    "            for k in range(N):\n",
    "                S[j, k] = (pv.iloc[:, i] * pv.iloc[:, j] * pv.iloc[:, k]).sum() / (T - 1)\n",
    "        M3 = np.hstack([M3, S])\n",
    "    return M3"
   ]
  },
  {
   "cell_type": "code",
   "execution_count": 16,
   "metadata": {
    "collapsed": false
   },
   "outputs": [],
   "source": [
    "M3 = calculate_portfolio_coskewness(ret_df)"
   ]
  },
  {
   "cell_type": "code",
   "execution_count": 17,
   "metadata": {
    "collapsed": true
   },
   "outputs": [],
   "source": [
    "def calculate_portfolio_skewness(w, M3):\n",
    "    return w.dot(M3.dot(np.kron(w, w)))"
   ]
  },
  {
   "cell_type": "code",
   "execution_count": 18,
   "metadata": {
    "collapsed": false
   },
   "outputs": [
    {
     "data": {
      "text/plain": [
       "1.1272115697606356e-08"
      ]
     },
     "execution_count": 18,
     "metadata": {},
     "output_type": "execute_result"
    }
   ],
   "source": [
    "calculate_portfolio_skewness(w, M3)"
   ]
  },
  {
   "cell_type": "code",
   "execution_count": 19,
   "metadata": {
    "collapsed": true
   },
   "outputs": [],
   "source": [
    "def calculate_portfolio_cokurtosis(df):\n",
    "    (T, N) = df.shape\n",
    "    pv = df - df.mean()\n",
    "    M4 = np.array([]).reshape((N, 0))\n",
    "    for i in range(N):\n",
    "        for j in range(N):\n",
    "            S = np.zeros((N, N))\n",
    "            for k in range(N):\n",
    "                for l in range(N):\n",
    "                    S[k, l] = (pv.iloc[:, i] * pv.iloc[:, j] * pv.iloc[:, k] * pv.iloc[:, l]).sum() / (T - 1)\n",
    "            M4 = np.hstack([M4, S])\n",
    "    return M4"
   ]
  },
  {
   "cell_type": "code",
   "execution_count": 20,
   "metadata": {
    "collapsed": true
   },
   "outputs": [],
   "source": [
    "M4 = calculate_portfolio_cokurtosis(ret_df)"
   ]
  },
  {
   "cell_type": "code",
   "execution_count": 21,
   "metadata": {
    "collapsed": false
   },
   "outputs": [],
   "source": [
    "def calculate_portfolio_kurtosis(w, M4):\n",
    "    return w.dot(M4.dot(np.kron(np.kron(w, w), w)))"
   ]
  },
  {
   "cell_type": "code",
   "execution_count": 22,
   "metadata": {
    "collapsed": false
   },
   "outputs": [
    {
     "data": {
      "text/plain": [
       "6.4537046998726039e-09"
      ]
     },
     "execution_count": 22,
     "metadata": {},
     "output_type": "execute_result"
    }
   ],
   "source": [
    "calculate_portfolio_kurtosis(w, M4)"
   ]
  },
  {
   "cell_type": "code",
   "execution_count": 24,
   "metadata": {
    "collapsed": true
   },
   "outputs": [],
   "source": [
    "# def calculate_risk_contribution(w, M2):\n",
    "#     # 计算单个资产对总体风险贡献度的函数\n",
    "#     sigma = np.sqrt(calculate_portfolio_var(w, M2))\n",
    "#     # 边际风险贡献\n",
    "#     MRC = M2.dot(w.T)\n",
    "#     # 风险贡献\n",
    "# #     RC = np.multiply(MRC, w.T) / sigma\n",
    "#     RC = w * MRC / sigma\n",
    "#     return RC"
   ]
  },
  {
   "cell_type": "code",
   "execution_count": 25,
   "metadata": {
    "collapsed": false
   },
   "outputs": [],
   "source": [
    "# calculate_risk_contribution(w, cov)"
   ]
  },
  {
   "cell_type": "code",
   "execution_count": 230,
   "metadata": {
    "collapsed": false
   },
   "outputs": [],
   "source": [
    "def risk_budget_objective(x, pars):\n",
    "    # 计算组合风险\n",
    "#     print x\n",
    "    N = len(x)\n",
    "    x_t = np.array([1./N] * N) # 目标风险贡献相等\n",
    "    M2 = pars[0]# 协方差矩阵\n",
    "#     sig_p =  np.sqrt(calculate_portfolio_var(x, M2)) # portfolio sigma\n",
    "    var = calculate_portfolio_var(x, M2)\n",
    "#     sig_p = np.sqrt(var)\n",
    "    MRC = M2.dot(x)\n",
    "    ARC = x * MRC / var\n",
    "#     print ARC\n",
    "#     asset_RC = calculate_risk_contribution(x, M2)\n",
    "#     J = np.sum(np.square(ARC - var * x_t)) # sum of squared error\n",
    "#     print ARC\n",
    "    J = np.sum([(i-j)**2 for i in ARC for j in ARC])\n",
    "#     J = np.max([(i-j)**2 for i in ARC for j in ARC])\n",
    "#     J = ARC.max() - ARC.min()\n",
    "#     print J\n",
    "#     J = x.dot(MRC) - np.log(x).sum()\n",
    "    return J"
   ]
  },
  {
   "cell_type": "code",
   "execution_count": 231,
   "metadata": {
    "collapsed": true
   },
   "outputs": [],
   "source": [
    "def total_weight_constraint(x):\n",
    "    return np.sum(x) - 1.0"
   ]
  },
  {
   "cell_type": "code",
   "execution_count": 232,
   "metadata": {
    "collapsed": true
   },
   "outputs": [],
   "source": [
    "def long_only_constraint(x):\n",
    "    return x - np.array([0., 0., 0., 0.5, 0., 0.])"
   ]
  },
  {
   "cell_type": "code",
   "execution_count": 242,
   "metadata": {
    "collapsed": false
   },
   "outputs": [],
   "source": [
    "# 根据资产预期目标风险贡献度来计算各资产的权重\n",
    "def calcu_w(M2):\n",
    "    N = M2.shape[0]\n",
    "#     w0 = np.random.dirichlet(np.ones(N),size=1)[0] # dirichlet分布作为初始值\n",
    "#     w0 = np.array([1./N] * N)\n",
    "#     w0 = np.array([0., 0., 0., 0.8, 0.1, 0.])\n",
    "#     weight = np.zeros(N)\n",
    "#     min_value = 1e10\n",
    "    for i in range(1):\n",
    "        w0 = np.random.random_sample((N,))\n",
    "#   w0 = np.array([0.01, 0.01, 0.01, 0.95, 0.01, 0.01])\n",
    "        w0 /= w0.sum()\n",
    "        cons = ({'type': 'eq', \n",
    "                 'fun': total_weight_constraint},\n",
    "                {'type': 'ineq', \n",
    "                 'fun': long_only_constraint})\n",
    "        minimizer_args = {'method': 'SLSQP', 'args': [M2], 'constraints': cons}\n",
    "#         res = basinhopping(risk_budget_objective, w0, stepsize=1e-10, minimizer_kwargs=minimizer_args)\n",
    "#         res = minimize(risk_budget_objective, w0, args=[M2], method='SLSQP', constraints=cons)\n",
    "#         minimizer_args = {'method': 'L-BFGS-B', 'args': [M2], 'bounds': np.array([(0., None)]*N)}\n",
    "        res = basinhopping(risk_budget_objective, w0, stepsize=1e-10, minimizer_kwargs=minimizer_args)\n",
    "#     res = minimize(risk_budget_objective, w0, args=[M2], method='L-BFGS-B', bounds=np.array([(0., None)]*N))\n",
    "#                        options={'disp': True})\n",
    "        weight = res.x / res.x.sum()\n",
    "        risk_attr = res.x * (M2.dot(res.x))\n",
    "        print risk_attr\n",
    "#         temp = risk_attr.max() - risk_attr.min()\n",
    "#         print temp, res.x / res.x.sum()\n",
    "#         if temp < min_value:\n",
    "#             min_value = temp\n",
    "#             weight = res.x / res.x.sum()\n",
    "    return weight"
   ]
  },
  {
   "cell_type": "code",
   "execution_count": 234,
   "metadata": {
    "collapsed": false,
    "scrolled": true
   },
   "outputs": [
    {
     "name": "stdout",
     "output_type": "stream",
     "text": [
      "[  1.87370940e-06   1.86261533e-06   1.87921164e-06  -9.90664386e-08\n",
      "   1.84639565e-06   1.87579740e-06]\n",
      "[  1.87376150e-06   1.86262523e-06   1.87921991e-06  -9.90663333e-08\n",
      "   1.84638056e-06   1.87574403e-06]\n",
      "[  1.87377482e-06   1.86263134e-06   1.87915503e-06  -9.90670503e-08\n",
      "   1.84639644e-06   1.87582241e-06]\n",
      "[  1.87372549e-06   1.86260724e-06   1.87921710e-06  -9.90660353e-08\n",
      "   1.84637000e-06   1.87581297e-06]\n",
      "[  1.87366671e-06   1.86268402e-06   1.87920416e-06  -9.90668048e-08\n",
      "   1.84640127e-06   1.87575165e-06]\n",
      "[  1.87369583e-06   1.86259069e-06   1.87924516e-06  -9.90659867e-08\n",
      "   1.84639009e-06   1.87578685e-06]\n",
      "[  1.87373403e-06   1.86268099e-06   1.87920561e-06  -9.90662302e-08\n",
      "   1.84635188e-06   1.87575194e-06]\n",
      "[  1.87371534e-06   1.86260016e-06   1.87920222e-06  -9.90667240e-08\n",
      "   1.84641559e-06   1.87580664e-06]\n",
      "[  1.87376125e-06   1.86258163e-06   1.87920843e-06  -9.90662756e-08\n",
      "   1.84638597e-06   1.87581427e-06]\n",
      "[  1.87365802e-06   1.86266873e-06   1.87920578e-06  -9.90666323e-08\n",
      "   1.84639645e-06   1.87578069e-06]\n"
     ]
    }
   ],
   "source": [
    "# cov = ret_df[(ret_df.index <= '2017-01-26')][-121:].cov()\n",
    "temp_df = ret_df[ret_df.index <= \"2013-05-02\"][-121:]\n",
    "cov = temp_df.cov()\n",
    "wb = calcu_w(cov.as_matrix())"
   ]
  },
  {
   "cell_type": "code",
   "execution_count": 235,
   "metadata": {
    "collapsed": false
   },
   "outputs": [
    {
     "data": {
      "text/plain": [
       "array([ 0.07703705,  0.10173515,  0.13623176,  0.5       ,  0.09299427,\n",
       "        0.09200177])"
      ]
     },
     "execution_count": 235,
     "metadata": {},
     "output_type": "execute_result"
    }
   ],
   "source": [
    "wb"
   ]
  },
  {
   "cell_type": "code",
   "execution_count": 206,
   "metadata": {
    "collapsed": false
   },
   "outputs": [
    {
     "name": "stdout",
     "output_type": "stream",
     "text": [
      "881001.WI     5.665446e-08\n",
      "HSI.HI        5.664494e-08\n",
      "SPX.GI        5.660601e-08\n",
      "065.CS        5.675091e-08\n",
      "AU9999.SGE    5.665393e-08\n",
      "B.IPE         5.663079e-08\n",
      "dtype: float64\n",
      "1.44898081759e-10\n"
     ]
    }
   ],
   "source": [
    "risk_con = wb * (cov.dot(wb))\n",
    "print risk_con\n",
    "print risk_con.max() - risk_con.min()"
   ]
  },
  {
   "cell_type": "code",
   "execution_count": 175,
   "metadata": {
    "collapsed": true
   },
   "outputs": [],
   "source": [
    "# rebalance_dates = set(new_df.resample('BQ').last().index)\n",
    "months = pd.Series(ret_df.index.map(lambda x: (x.year, x.month)), index=ret_df.index)\n",
    "rebalance_dates = months.drop_duplicates(keep='first').index"
   ]
  },
  {
   "cell_type": "code",
   "execution_count": 176,
   "metadata": {
    "collapsed": false
   },
   "outputs": [
    {
     "data": {
      "text/plain": [
       "DatetimeIndex(['2012-01-05', '2012-02-01', '2012-03-01', '2012-04-05',\n",
       "               '2012-05-02', '2012-06-01', '2012-07-02', '2012-08-01',\n",
       "               '2012-09-03', '2012-10-08', '2012-11-01', '2012-12-03',\n",
       "               '2013-01-04', '2013-02-01', '2013-03-01', '2013-04-01',\n",
       "               '2013-05-02', '2013-06-03', '2013-07-01', '2013-08-01',\n",
       "               '2013-09-02', '2013-10-08', '2013-11-01', '2013-12-02',\n",
       "               '2014-01-02', '2014-02-07', '2014-03-03', '2014-04-01',\n",
       "               '2014-05-05', '2014-06-03', '2014-07-01', '2014-08-01',\n",
       "               '2014-09-01', '2014-10-08', '2014-11-03', '2014-12-01',\n",
       "               '2015-01-05', '2015-02-02', '2015-03-02', '2015-04-01',\n",
       "               '2015-05-04', '2015-06-01', '2015-07-01', '2015-08-03',\n",
       "               '2015-09-01', '2015-10-08', '2015-11-02', '2015-12-01',\n",
       "               '2016-01-04', '2016-02-01', '2016-03-01', '2016-04-01',\n",
       "               '2016-05-03', '2016-06-01', '2016-07-01', '2016-08-01',\n",
       "               '2016-09-01', '2016-10-10', '2016-11-01', '2016-12-01',\n",
       "               '2017-01-03', '2017-02-03', '2017-03-01', '2017-04-05',\n",
       "               '2017-05-02', '2017-06-01', '2017-07-03'],\n",
       "              dtype='datetime64[ns]', freq=None)"
      ]
     },
     "execution_count": 176,
     "metadata": {},
     "output_type": "execute_result"
    }
   ],
   "source": [
    "rebalance_dates"
   ]
  },
  {
   "cell_type": "markdown",
   "metadata": {},
   "source": [
    "## 经典Risk Parity"
   ]
  },
  {
   "cell_type": "code",
   "execution_count": 177,
   "metadata": {
    "collapsed": true
   },
   "outputs": [],
   "source": [
    "def metric(daily_ret):\n",
    "    an_ret = pf.empyrical.annual_return(daily_ret)\n",
    "    sharpe = pf.empyrical.sharpe_ratio(daily_ret)\n",
    "    vol = pf.empyrical.annual_volatility(daily_ret)\n",
    "    maxdraw = pf.empyrical.max_drawdown(daily_ret)\n",
    "    print 'Annual return: %.2f%%'%(an_ret*100)\n",
    "    print 'Sharpe ratio: %.2f'%(sharpe)\n",
    "    print 'Annual volatility: %.2f%%'%(vol*100)\n",
    "    print 'Max drawdown: %.2f%%'%(maxdraw*100)"
   ]
  },
  {
   "cell_type": "code",
   "execution_count": 181,
   "metadata": {
    "collapsed": false,
    "scrolled": true
   },
   "outputs": [
    {
     "name": "stdout",
     "output_type": "stream",
     "text": [
      "2012-10-08 00:00:00 [  2.12634236e-06   2.12446662e-06   2.13090477e-06  -2.51340641e-07\n",
      "   2.09570099e-06   2.15689090e-06]\n",
      "2012-12-03 00:00:00 [  1.80932651e-06   1.79992027e-06   1.81602228e-06  -1.59741931e-07\n",
      "   1.75365718e-06   1.81949236e-06]\n",
      "2013-05-02 00:00:00 [  1.87372944e-06   1.86260165e-06   1.87917724e-06  -9.90674124e-08\n",
      "   1.84644967e-06   1.87580005e-06]\n"
     ]
    }
   ],
   "source": [
    "weight = pd.DataFrame(columns=ret_df.columns, index=ret_df.index)\n",
    "wb = np.array([0, 0, 0, 0, 0, 0])\n",
    "for date in ret_df.index:\n",
    "    weight.loc[date] = wb\n",
    "    if date in rebalance_dates:\n",
    "        temp_df = ret_df[ret_df.index <= date][-121:]\n",
    "        if temp_df.shape[0] < 121:\n",
    "            continue\n",
    "        cov = temp_df.cov()\n",
    "        calc_wb = calcu_w(cov.as_matrix())\n",
    "        risk_contr = calc_wb * (cov.dot(calc_wb)).values\n",
    "#         wb = calc_wb\n",
    "#         if risk_contr.max() - risk_contr.min() < 1e-10:\n",
    "        if calc_wb[3] > 0.5:\n",
    "#             print date\n",
    "#             print risk_contr\n",
    "            wb = calc_wb\n",
    "        else:\n",
    "            print date, risk_contr\n",
    "            \n",
    "#         if date == rebalance_dates[4]:\n",
    "#             break"
   ]
  },
  {
   "cell_type": "code",
   "execution_count": 194,
   "metadata": {
    "collapsed": false
   },
   "outputs": [
    {
     "data": {
      "text/html": [
       "<div>\n",
       "<table border=\"1\" class=\"dataframe\">\n",
       "  <thead>\n",
       "    <tr style=\"text-align: right;\">\n",
       "      <th></th>\n",
       "      <th>881001.WI</th>\n",
       "      <th>HSI.HI</th>\n",
       "      <th>SPX.GI</th>\n",
       "      <th>065.CS</th>\n",
       "      <th>AU9999.SGE</th>\n",
       "      <th>B.IPE</th>\n",
       "    </tr>\n",
       "  </thead>\n",
       "  <tbody>\n",
       "    <tr>\n",
       "      <th>2012-01-05</th>\n",
       "      <td>0</td>\n",
       "      <td>0</td>\n",
       "      <td>0</td>\n",
       "      <td>0</td>\n",
       "      <td>0</td>\n",
       "      <td>0</td>\n",
       "    </tr>\n",
       "    <tr>\n",
       "      <th>2012-08-02</th>\n",
       "      <td>0.106264</td>\n",
       "      <td>0.0786573</td>\n",
       "      <td>0.121953</td>\n",
       "      <td>0.5</td>\n",
       "      <td>0.11991</td>\n",
       "      <td>0.0732159</td>\n",
       "    </tr>\n",
       "    <tr>\n",
       "      <th>2012-09-04</th>\n",
       "      <td>0.107684</td>\n",
       "      <td>0.0798039</td>\n",
       "      <td>0.120018</td>\n",
       "      <td>0.5</td>\n",
       "      <td>0.121852</td>\n",
       "      <td>0.0706423</td>\n",
       "    </tr>\n",
       "    <tr>\n",
       "      <th>2012-11-02</th>\n",
       "      <td>0.101071</td>\n",
       "      <td>0.0782984</td>\n",
       "      <td>0.124843</td>\n",
       "      <td>0.5</td>\n",
       "      <td>0.125573</td>\n",
       "      <td>0.0702152</td>\n",
       "    </tr>\n",
       "    <tr>\n",
       "      <th>2013-01-07</th>\n",
       "      <td>0.079588</td>\n",
       "      <td>0.0814152</td>\n",
       "      <td>0.120743</td>\n",
       "      <td>0.5</td>\n",
       "      <td>0.139665</td>\n",
       "      <td>0.078589</td>\n",
       "    </tr>\n",
       "    <tr>\n",
       "      <th>2013-02-04</th>\n",
       "      <td>0.016751</td>\n",
       "      <td>0.0245789</td>\n",
       "      <td>0.0328007</td>\n",
       "      <td>0.870036</td>\n",
       "      <td>0.035451</td>\n",
       "      <td>0.0203825</td>\n",
       "    </tr>\n",
       "    <tr>\n",
       "      <th>2013-03-04</th>\n",
       "      <td>0.0681973</td>\n",
       "      <td>0.0931437</td>\n",
       "      <td>0.125729</td>\n",
       "      <td>0.5</td>\n",
       "      <td>0.12694</td>\n",
       "      <td>0.0859899</td>\n",
       "    </tr>\n",
       "    <tr>\n",
       "      <th>2013-04-02</th>\n",
       "      <td>0.0127473</td>\n",
       "      <td>0.0214311</td>\n",
       "      <td>0.025137</td>\n",
       "      <td>0.889566</td>\n",
       "      <td>0.0329828</td>\n",
       "      <td>0.0181353</td>\n",
       "    </tr>\n",
       "    <tr>\n",
       "      <th>2013-06-04</th>\n",
       "      <td>0.0765123</td>\n",
       "      <td>0.0991363</td>\n",
       "      <td>0.140288</td>\n",
       "      <td>0.5</td>\n",
       "      <td>0.0912262</td>\n",
       "      <td>0.0928371</td>\n",
       "    </tr>\n",
       "    <tr>\n",
       "      <th>2013-07-02</th>\n",
       "      <td>0.0339721</td>\n",
       "      <td>0.042892</td>\n",
       "      <td>0.0572952</td>\n",
       "      <td>0.774618</td>\n",
       "      <td>0.0460621</td>\n",
       "      <td>0.0451604</td>\n",
       "    </tr>\n",
       "    <tr>\n",
       "      <th>2013-08-02</th>\n",
       "      <td>0.031326</td>\n",
       "      <td>0.0408816</td>\n",
       "      <td>0.0586927</td>\n",
       "      <td>0.779615</td>\n",
       "      <td>0.0437824</td>\n",
       "      <td>0.0457024</td>\n",
       "    </tr>\n",
       "    <tr>\n",
       "      <th>2013-09-03</th>\n",
       "      <td>0.0360589</td>\n",
       "      <td>0.0428414</td>\n",
       "      <td>0.067849</td>\n",
       "      <td>0.759267</td>\n",
       "      <td>0.0444371</td>\n",
       "      <td>0.0495462</td>\n",
       "    </tr>\n",
       "    <tr>\n",
       "      <th>2013-10-09</th>\n",
       "      <td>0.0371003</td>\n",
       "      <td>0.0447407</td>\n",
       "      <td>0.0709741</td>\n",
       "      <td>0.75245</td>\n",
       "      <td>0.0441183</td>\n",
       "      <td>0.0506164</td>\n",
       "    </tr>\n",
       "    <tr>\n",
       "      <th>2013-11-04</th>\n",
       "      <td>0.0383141</td>\n",
       "      <td>0.0490948</td>\n",
       "      <td>0.0830856</td>\n",
       "      <td>0.710239</td>\n",
       "      <td>0.0611705</td>\n",
       "      <td>0.0580958</td>\n",
       "    </tr>\n",
       "    <tr>\n",
       "      <th>2013-12-03</th>\n",
       "      <td>0.0405051</td>\n",
       "      <td>0.0536552</td>\n",
       "      <td>0.0930816</td>\n",
       "      <td>0.6832</td>\n",
       "      <td>0.0654266</td>\n",
       "      <td>0.0641311</td>\n",
       "    </tr>\n",
       "    <tr>\n",
       "      <th>2014-01-03</th>\n",
       "      <td>0.0319224</td>\n",
       "      <td>0.0449967</td>\n",
       "      <td>0.0865159</td>\n",
       "      <td>0.72989</td>\n",
       "      <td>0.0556344</td>\n",
       "      <td>0.0510405</td>\n",
       "    </tr>\n",
       "    <tr>\n",
       "      <th>2014-02-10</th>\n",
       "      <td>0.0414307</td>\n",
       "      <td>0.0513741</td>\n",
       "      <td>0.0973426</td>\n",
       "      <td>0.681602</td>\n",
       "      <td>0.0760326</td>\n",
       "      <td>0.0522179</td>\n",
       "    </tr>\n",
       "    <tr>\n",
       "      <th>2014-03-04</th>\n",
       "      <td>0.0419784</td>\n",
       "      <td>0.0576738</td>\n",
       "      <td>0.0972754</td>\n",
       "      <td>0.66379</td>\n",
       "      <td>0.0825536</td>\n",
       "      <td>0.0567283</td>\n",
       "    </tr>\n",
       "    <tr>\n",
       "      <th>2014-04-02</th>\n",
       "      <td>0.0425854</td>\n",
       "      <td>0.067055</td>\n",
       "      <td>-2.12806e-10</td>\n",
       "      <td>0.730217</td>\n",
       "      <td>0.0860346</td>\n",
       "      <td>0.0741077</td>\n",
       "    </tr>\n",
       "    <tr>\n",
       "      <th>2014-05-06</th>\n",
       "      <td>0.04771</td>\n",
       "      <td>0.0589214</td>\n",
       "      <td>0.0936417</td>\n",
       "      <td>0.732431</td>\n",
       "      <td>-1.9451e-10</td>\n",
       "      <td>0.0672959</td>\n",
       "    </tr>\n",
       "    <tr>\n",
       "      <th>2014-06-04</th>\n",
       "      <td>0.0408982</td>\n",
       "      <td>0.0663895</td>\n",
       "      <td>-7.43009e-10</td>\n",
       "      <td>0.726893</td>\n",
       "      <td>0.0866823</td>\n",
       "      <td>0.0791372</td>\n",
       "    </tr>\n",
       "    <tr>\n",
       "      <th>2014-07-02</th>\n",
       "      <td>0.0451149</td>\n",
       "      <td>0.0569057</td>\n",
       "      <td>0.0917787</td>\n",
       "      <td>0.739919</td>\n",
       "      <td>-6.20377e-10</td>\n",
       "      <td>0.0662822</td>\n",
       "    </tr>\n",
       "    <tr>\n",
       "      <th>2014-08-04</th>\n",
       "      <td>0.0387122</td>\n",
       "      <td>0.0587119</td>\n",
       "      <td>0.101613</td>\n",
       "      <td>0.658719</td>\n",
       "      <td>0.0735639</td>\n",
       "      <td>0.0686804</td>\n",
       "    </tr>\n",
       "    <tr>\n",
       "      <th>2014-09-02</th>\n",
       "      <td>0.037215</td>\n",
       "      <td>0.0586361</td>\n",
       "      <td>0.0881582</td>\n",
       "      <td>0.675492</td>\n",
       "      <td>0.0790122</td>\n",
       "      <td>0.0614861</td>\n",
       "    </tr>\n",
       "    <tr>\n",
       "      <th>2014-10-09</th>\n",
       "      <td>0.0415998</td>\n",
       "      <td>0.050213</td>\n",
       "      <td>0.0750456</td>\n",
       "      <td>0.707568</td>\n",
       "      <td>0.0754426</td>\n",
       "      <td>0.0501306</td>\n",
       "    </tr>\n",
       "    <tr>\n",
       "      <th>2014-11-04</th>\n",
       "      <td>0.0490664</td>\n",
       "      <td>0.0609181</td>\n",
       "      <td>0.0688495</td>\n",
       "      <td>0.691898</td>\n",
       "      <td>0.0791584</td>\n",
       "      <td>0.0501095</td>\n",
       "    </tr>\n",
       "    <tr>\n",
       "      <th>2014-12-02</th>\n",
       "      <td>0.0638846</td>\n",
       "      <td>0.0702058</td>\n",
       "      <td>0.0962529</td>\n",
       "      <td>0.630948</td>\n",
       "      <td>0.0791666</td>\n",
       "      <td>0.0595425</td>\n",
       "    </tr>\n",
       "    <tr>\n",
       "      <th>2015-01-06</th>\n",
       "      <td>0.0641986</td>\n",
       "      <td>0.0722741</td>\n",
       "      <td>0.0970388</td>\n",
       "      <td>0.624789</td>\n",
       "      <td>0.0847009</td>\n",
       "      <td>0.0569984</td>\n",
       "    </tr>\n",
       "    <tr>\n",
       "      <th>2015-02-03</th>\n",
       "      <td>0.0568319</td>\n",
       "      <td>0.0744138</td>\n",
       "      <td>0.110947</td>\n",
       "      <td>0.676036</td>\n",
       "      <td>0.0817709</td>\n",
       "      <td>1.82844e-10</td>\n",
       "    </tr>\n",
       "    <tr>\n",
       "      <th>2015-03-03</th>\n",
       "      <td>0.0575089</td>\n",
       "      <td>0.076763</td>\n",
       "      <td>0.088276</td>\n",
       "      <td>0.654476</td>\n",
       "      <td>0.0802233</td>\n",
       "      <td>0.0427528</td>\n",
       "    </tr>\n",
       "    <tr>\n",
       "      <th>2015-04-02</th>\n",
       "      <td>0.0592512</td>\n",
       "      <td>0.0843645</td>\n",
       "      <td>0.088527</td>\n",
       "      <td>0.642904</td>\n",
       "      <td>0.0846014</td>\n",
       "      <td>0.040352</td>\n",
       "    </tr>\n",
       "    <tr>\n",
       "      <th>2015-05-05</th>\n",
       "      <td>0.0549822</td>\n",
       "      <td>0.0783812</td>\n",
       "      <td>0.096532</td>\n",
       "      <td>0.650284</td>\n",
       "      <td>0.0815988</td>\n",
       "      <td>0.0382217</td>\n",
       "    </tr>\n",
       "    <tr>\n",
       "      <th>2015-06-02</th>\n",
       "      <td>0.0420429</td>\n",
       "      <td>0.0728911</td>\n",
       "      <td>0.0844786</td>\n",
       "      <td>0.682191</td>\n",
       "      <td>0.0838658</td>\n",
       "      <td>0.0345302</td>\n",
       "    </tr>\n",
       "    <tr>\n",
       "      <th>2015-07-02</th>\n",
       "      <td>0.0266859</td>\n",
       "      <td>0.0644215</td>\n",
       "      <td>0.0709773</td>\n",
       "      <td>0.725404</td>\n",
       "      <td>0.0844375</td>\n",
       "      <td>0.0280735</td>\n",
       "    </tr>\n",
       "    <tr>\n",
       "      <th>2015-08-04</th>\n",
       "      <td>0.0175808</td>\n",
       "      <td>0.0421501</td>\n",
       "      <td>0.0705546</td>\n",
       "      <td>0.763163</td>\n",
       "      <td>0.0804486</td>\n",
       "      <td>0.0261028</td>\n",
       "    </tr>\n",
       "    <tr>\n",
       "      <th>2015-09-02</th>\n",
       "      <td>0.0131952</td>\n",
       "      <td>0.0345511</td>\n",
       "      <td>0.0492074</td>\n",
       "      <td>0.7931</td>\n",
       "      <td>0.0904539</td>\n",
       "      <td>0.0194927</td>\n",
       "    </tr>\n",
       "    <tr>\n",
       "      <th>2015-10-09</th>\n",
       "      <td>0.0119375</td>\n",
       "      <td>0.0235566</td>\n",
       "      <td>0.0348426</td>\n",
       "      <td>0.839956</td>\n",
       "      <td>0.0739487</td>\n",
       "      <td>0.0157591</td>\n",
       "    </tr>\n",
       "    <tr>\n",
       "      <th>2015-11-03</th>\n",
       "      <td>0.0105575</td>\n",
       "      <td>0.0212942</td>\n",
       "      <td>0.0311077</td>\n",
       "      <td>0.858306</td>\n",
       "      <td>0.0644207</td>\n",
       "      <td>0.0143139</td>\n",
       "    </tr>\n",
       "    <tr>\n",
       "      <th>2015-12-02</th>\n",
       "      <td>0.0106986</td>\n",
       "      <td>0.0209528</td>\n",
       "      <td>0.0293881</td>\n",
       "      <td>0.866121</td>\n",
       "      <td>0.0592481</td>\n",
       "      <td>0.0135919</td>\n",
       "    </tr>\n",
       "    <tr>\n",
       "      <th>2016-01-05</th>\n",
       "      <td>0.0118733</td>\n",
       "      <td>0.0217507</td>\n",
       "      <td>0.0296714</td>\n",
       "      <td>0.86051</td>\n",
       "      <td>0.0609792</td>\n",
       "      <td>0.015216</td>\n",
       "    </tr>\n",
       "    <tr>\n",
       "      <th>2016-02-02</th>\n",
       "      <td>0.0151701</td>\n",
       "      <td>0.0262992</td>\n",
       "      <td>0.0325183</td>\n",
       "      <td>0.910804</td>\n",
       "      <td>-2.8335e-10</td>\n",
       "      <td>0.0152081</td>\n",
       "    </tr>\n",
       "    <tr>\n",
       "      <th>2016-03-02</th>\n",
       "      <td>0.0180561</td>\n",
       "      <td>0.0288058</td>\n",
       "      <td>0.0336797</td>\n",
       "      <td>0.831567</td>\n",
       "      <td>0.0726161</td>\n",
       "      <td>0.0152756</td>\n",
       "    </tr>\n",
       "    <tr>\n",
       "      <th>2016-04-05</th>\n",
       "      <td>0.0201724</td>\n",
       "      <td>0.0305546</td>\n",
       "      <td>0.0360725</td>\n",
       "      <td>0.832147</td>\n",
       "      <td>0.0637411</td>\n",
       "      <td>0.017312</td>\n",
       "    </tr>\n",
       "    <tr>\n",
       "      <th>2016-05-04</th>\n",
       "      <td>0.0215017</td>\n",
       "      <td>0.0395642</td>\n",
       "      <td>0.0434437</td>\n",
       "      <td>0.804591</td>\n",
       "      <td>0.0718961</td>\n",
       "      <td>0.0190038</td>\n",
       "    </tr>\n",
       "    <tr>\n",
       "      <th>2016-06-02</th>\n",
       "      <td>0.0195423</td>\n",
       "      <td>0.0335955</td>\n",
       "      <td>0.0424909</td>\n",
       "      <td>0.886642</td>\n",
       "      <td>3.03302e-10</td>\n",
       "      <td>0.0177298</td>\n",
       "    </tr>\n",
       "    <tr>\n",
       "      <th>2016-07-04</th>\n",
       "      <td>0.0175716</td>\n",
       "      <td>0.028093</td>\n",
       "      <td>0.0380198</td>\n",
       "      <td>0.901344</td>\n",
       "      <td>-1.6488e-10</td>\n",
       "      <td>0.0149716</td>\n",
       "    </tr>\n",
       "    <tr>\n",
       "      <th>2016-08-02</th>\n",
       "      <td>0.0214273</td>\n",
       "      <td>0.0294131</td>\n",
       "      <td>0.0405255</td>\n",
       "      <td>0.893773</td>\n",
       "      <td>1.0575e-10</td>\n",
       "      <td>0.014861</td>\n",
       "    </tr>\n",
       "    <tr>\n",
       "      <th>2016-09-02</th>\n",
       "      <td>0.0274848</td>\n",
       "      <td>0.0365097</td>\n",
       "      <td>0.0544969</td>\n",
       "      <td>0.803681</td>\n",
       "      <td>0.0609113</td>\n",
       "      <td>0.0169165</td>\n",
       "    </tr>\n",
       "    <tr>\n",
       "      <th>2016-10-11</th>\n",
       "      <td>0.0306592</td>\n",
       "      <td>0.0322274</td>\n",
       "      <td>0.0535959</td>\n",
       "      <td>0.867849</td>\n",
       "      <td>-5.86107e-10</td>\n",
       "      <td>0.0156689</td>\n",
       "    </tr>\n",
       "    <tr>\n",
       "      <th>2016-11-02</th>\n",
       "      <td>-1.51314e-09</td>\n",
       "      <td>-4.88295e-10</td>\n",
       "      <td>-2.85674e-10</td>\n",
       "      <td>0.952559</td>\n",
       "      <td>0.0474411</td>\n",
       "      <td>-1.90613e-10</td>\n",
       "    </tr>\n",
       "    <tr>\n",
       "      <th>2016-12-02</th>\n",
       "      <td>0.0400473</td>\n",
       "      <td>0.0325291</td>\n",
       "      <td>0.0551938</td>\n",
       "      <td>0.856193</td>\n",
       "      <td>-6.15753e-10</td>\n",
       "      <td>0.0160371</td>\n",
       "    </tr>\n",
       "    <tr>\n",
       "      <th>2017-01-04</th>\n",
       "      <td>0.0704515</td>\n",
       "      <td>0.0653253</td>\n",
       "      <td>0.114261</td>\n",
       "      <td>0.612888</td>\n",
       "      <td>0.105953</td>\n",
       "      <td>0.0311212</td>\n",
       "    </tr>\n",
       "    <tr>\n",
       "      <th>2017-02-06</th>\n",
       "      <td>0.0741305</td>\n",
       "      <td>0.0681176</td>\n",
       "      <td>0.117071</td>\n",
       "      <td>0.599745</td>\n",
       "      <td>0.107189</td>\n",
       "      <td>0.0337463</td>\n",
       "    </tr>\n",
       "    <tr>\n",
       "      <th>2017-03-02</th>\n",
       "      <td>0.078814</td>\n",
       "      <td>0.0691429</td>\n",
       "      <td>0.116463</td>\n",
       "      <td>0.589949</td>\n",
       "      <td>0.108044</td>\n",
       "      <td>0.0375871</td>\n",
       "    </tr>\n",
       "    <tr>\n",
       "      <th>2017-04-06</th>\n",
       "      <td>0.0858081</td>\n",
       "      <td>0.0725166</td>\n",
       "      <td>0.145179</td>\n",
       "      <td>0.550064</td>\n",
       "      <td>0.105627</td>\n",
       "      <td>0.0408052</td>\n",
       "    </tr>\n",
       "    <tr>\n",
       "      <th>2017-05-03</th>\n",
       "      <td>0.085609</td>\n",
       "      <td>0.0804864</td>\n",
       "      <td>0.154455</td>\n",
       "      <td>0.541177</td>\n",
       "      <td>0.0964198</td>\n",
       "      <td>0.0418523</td>\n",
       "    </tr>\n",
       "    <tr>\n",
       "      <th>2017-06-02</th>\n",
       "      <td>0.0775141</td>\n",
       "      <td>0.08651</td>\n",
       "      <td>0.172542</td>\n",
       "      <td>0.506399</td>\n",
       "      <td>0.109298</td>\n",
       "      <td>0.047736</td>\n",
       "    </tr>\n",
       "    <tr>\n",
       "      <th>2017-07-04</th>\n",
       "      <td>0.0656923</td>\n",
       "      <td>0.0751138</td>\n",
       "      <td>0.128485</td>\n",
       "      <td>0.602516</td>\n",
       "      <td>0.0917612</td>\n",
       "      <td>0.0364321</td>\n",
       "    </tr>\n",
       "  </tbody>\n",
       "</table>\n",
       "</div>"
      ],
      "text/plain": [
       "              881001.WI       HSI.HI       SPX.GI    065.CS   AU9999.SGE  \\\n",
       "2012-01-05            0            0            0         0            0   \n",
       "2012-08-02     0.106264    0.0786573     0.121953       0.5      0.11991   \n",
       "2012-09-04     0.107684    0.0798039     0.120018       0.5     0.121852   \n",
       "2012-11-02     0.101071    0.0782984     0.124843       0.5     0.125573   \n",
       "2013-01-07     0.079588    0.0814152     0.120743       0.5     0.139665   \n",
       "2013-02-04     0.016751    0.0245789    0.0328007  0.870036     0.035451   \n",
       "2013-03-04    0.0681973    0.0931437     0.125729       0.5      0.12694   \n",
       "2013-04-02    0.0127473    0.0214311     0.025137  0.889566    0.0329828   \n",
       "2013-06-04    0.0765123    0.0991363     0.140288       0.5    0.0912262   \n",
       "2013-07-02    0.0339721     0.042892    0.0572952  0.774618    0.0460621   \n",
       "2013-08-02     0.031326    0.0408816    0.0586927  0.779615    0.0437824   \n",
       "2013-09-03    0.0360589    0.0428414     0.067849  0.759267    0.0444371   \n",
       "2013-10-09    0.0371003    0.0447407    0.0709741   0.75245    0.0441183   \n",
       "2013-11-04    0.0383141    0.0490948    0.0830856  0.710239    0.0611705   \n",
       "2013-12-03    0.0405051    0.0536552    0.0930816    0.6832    0.0654266   \n",
       "2014-01-03    0.0319224    0.0449967    0.0865159   0.72989    0.0556344   \n",
       "2014-02-10    0.0414307    0.0513741    0.0973426  0.681602    0.0760326   \n",
       "2014-03-04    0.0419784    0.0576738    0.0972754   0.66379    0.0825536   \n",
       "2014-04-02    0.0425854     0.067055 -2.12806e-10  0.730217    0.0860346   \n",
       "2014-05-06      0.04771    0.0589214    0.0936417  0.732431  -1.9451e-10   \n",
       "2014-06-04    0.0408982    0.0663895 -7.43009e-10  0.726893    0.0866823   \n",
       "2014-07-02    0.0451149    0.0569057    0.0917787  0.739919 -6.20377e-10   \n",
       "2014-08-04    0.0387122    0.0587119     0.101613  0.658719    0.0735639   \n",
       "2014-09-02     0.037215    0.0586361    0.0881582  0.675492    0.0790122   \n",
       "2014-10-09    0.0415998     0.050213    0.0750456  0.707568    0.0754426   \n",
       "2014-11-04    0.0490664    0.0609181    0.0688495  0.691898    0.0791584   \n",
       "2014-12-02    0.0638846    0.0702058    0.0962529  0.630948    0.0791666   \n",
       "2015-01-06    0.0641986    0.0722741    0.0970388  0.624789    0.0847009   \n",
       "2015-02-03    0.0568319    0.0744138     0.110947  0.676036    0.0817709   \n",
       "2015-03-03    0.0575089     0.076763     0.088276  0.654476    0.0802233   \n",
       "2015-04-02    0.0592512    0.0843645     0.088527  0.642904    0.0846014   \n",
       "2015-05-05    0.0549822    0.0783812     0.096532  0.650284    0.0815988   \n",
       "2015-06-02    0.0420429    0.0728911    0.0844786  0.682191    0.0838658   \n",
       "2015-07-02    0.0266859    0.0644215    0.0709773  0.725404    0.0844375   \n",
       "2015-08-04    0.0175808    0.0421501    0.0705546  0.763163    0.0804486   \n",
       "2015-09-02    0.0131952    0.0345511    0.0492074    0.7931    0.0904539   \n",
       "2015-10-09    0.0119375    0.0235566    0.0348426  0.839956    0.0739487   \n",
       "2015-11-03    0.0105575    0.0212942    0.0311077  0.858306    0.0644207   \n",
       "2015-12-02    0.0106986    0.0209528    0.0293881  0.866121    0.0592481   \n",
       "2016-01-05    0.0118733    0.0217507    0.0296714   0.86051    0.0609792   \n",
       "2016-02-02    0.0151701    0.0262992    0.0325183  0.910804  -2.8335e-10   \n",
       "2016-03-02    0.0180561    0.0288058    0.0336797  0.831567    0.0726161   \n",
       "2016-04-05    0.0201724    0.0305546    0.0360725  0.832147    0.0637411   \n",
       "2016-05-04    0.0215017    0.0395642    0.0434437  0.804591    0.0718961   \n",
       "2016-06-02    0.0195423    0.0335955    0.0424909  0.886642  3.03302e-10   \n",
       "2016-07-04    0.0175716     0.028093    0.0380198  0.901344  -1.6488e-10   \n",
       "2016-08-02    0.0214273    0.0294131    0.0405255  0.893773   1.0575e-10   \n",
       "2016-09-02    0.0274848    0.0365097    0.0544969  0.803681    0.0609113   \n",
       "2016-10-11    0.0306592    0.0322274    0.0535959  0.867849 -5.86107e-10   \n",
       "2016-11-02 -1.51314e-09 -4.88295e-10 -2.85674e-10  0.952559    0.0474411   \n",
       "2016-12-02    0.0400473    0.0325291    0.0551938  0.856193 -6.15753e-10   \n",
       "2017-01-04    0.0704515    0.0653253     0.114261  0.612888     0.105953   \n",
       "2017-02-06    0.0741305    0.0681176     0.117071  0.599745     0.107189   \n",
       "2017-03-02     0.078814    0.0691429     0.116463  0.589949     0.108044   \n",
       "2017-04-06    0.0858081    0.0725166     0.145179  0.550064     0.105627   \n",
       "2017-05-03     0.085609    0.0804864     0.154455  0.541177    0.0964198   \n",
       "2017-06-02    0.0775141      0.08651     0.172542  0.506399     0.109298   \n",
       "2017-07-04    0.0656923    0.0751138     0.128485  0.602516    0.0917612   \n",
       "\n",
       "                  B.IPE  \n",
       "2012-01-05            0  \n",
       "2012-08-02    0.0732159  \n",
       "2012-09-04    0.0706423  \n",
       "2012-11-02    0.0702152  \n",
       "2013-01-07     0.078589  \n",
       "2013-02-04    0.0203825  \n",
       "2013-03-04    0.0859899  \n",
       "2013-04-02    0.0181353  \n",
       "2013-06-04    0.0928371  \n",
       "2013-07-02    0.0451604  \n",
       "2013-08-02    0.0457024  \n",
       "2013-09-03    0.0495462  \n",
       "2013-10-09    0.0506164  \n",
       "2013-11-04    0.0580958  \n",
       "2013-12-03    0.0641311  \n",
       "2014-01-03    0.0510405  \n",
       "2014-02-10    0.0522179  \n",
       "2014-03-04    0.0567283  \n",
       "2014-04-02    0.0741077  \n",
       "2014-05-06    0.0672959  \n",
       "2014-06-04    0.0791372  \n",
       "2014-07-02    0.0662822  \n",
       "2014-08-04    0.0686804  \n",
       "2014-09-02    0.0614861  \n",
       "2014-10-09    0.0501306  \n",
       "2014-11-04    0.0501095  \n",
       "2014-12-02    0.0595425  \n",
       "2015-01-06    0.0569984  \n",
       "2015-02-03  1.82844e-10  \n",
       "2015-03-03    0.0427528  \n",
       "2015-04-02     0.040352  \n",
       "2015-05-05    0.0382217  \n",
       "2015-06-02    0.0345302  \n",
       "2015-07-02    0.0280735  \n",
       "2015-08-04    0.0261028  \n",
       "2015-09-02    0.0194927  \n",
       "2015-10-09    0.0157591  \n",
       "2015-11-03    0.0143139  \n",
       "2015-12-02    0.0135919  \n",
       "2016-01-05     0.015216  \n",
       "2016-02-02    0.0152081  \n",
       "2016-03-02    0.0152756  \n",
       "2016-04-05     0.017312  \n",
       "2016-05-04    0.0190038  \n",
       "2016-06-02    0.0177298  \n",
       "2016-07-04    0.0149716  \n",
       "2016-08-02     0.014861  \n",
       "2016-09-02    0.0169165  \n",
       "2016-10-11    0.0156689  \n",
       "2016-11-02 -1.90613e-10  \n",
       "2016-12-02    0.0160371  \n",
       "2017-01-04    0.0311212  \n",
       "2017-02-06    0.0337463  \n",
       "2017-03-02    0.0375871  \n",
       "2017-04-06    0.0408052  \n",
       "2017-05-03    0.0418523  \n",
       "2017-06-02     0.047736  \n",
       "2017-07-04    0.0364321  "
      ]
     },
     "execution_count": 194,
     "metadata": {},
     "output_type": "execute_result"
    }
   ],
   "source": [
    "weight.drop_duplicates()"
   ]
  },
  {
   "cell_type": "code",
   "execution_count": 195,
   "metadata": {
    "collapsed": true
   },
   "outputs": [],
   "source": [
    "rp_portfolio_ret = (weight * ret_df).sum(axis=1)"
   ]
  },
  {
   "cell_type": "code",
   "execution_count": 196,
   "metadata": {
    "collapsed": true
   },
   "outputs": [],
   "source": [
    "rp_portfolio_ret = rp_portfolio_ret[rp_portfolio_ret != 0]"
   ]
  },
  {
   "cell_type": "code",
   "execution_count": 197,
   "metadata": {
    "collapsed": false
   },
   "outputs": [
    {
     "name": "stdout",
     "output_type": "stream",
     "text": [
      "Annual return: 4.86%\n",
      "Sharpe ratio: 1.57\n",
      "Annual volatility: 3.05%\n",
      "Max drawdown: -4.21%\n"
     ]
    }
   ],
   "source": [
    "metric(rp_portfolio_ret)"
   ]
  },
  {
   "cell_type": "code",
   "execution_count": 198,
   "metadata": {
    "collapsed": false
   },
   "outputs": [
    {
     "data": {
      "text/plain": [
       "<matplotlib.legend.Legend at 0xdb0ee70>"
      ]
     },
     "execution_count": 198,
     "metadata": {},
     "output_type": "execute_result"
    },
    {
     "data": {
      "image/png": "[encoded data removed]",
      "text/plain": [
       "<matplotlib.figure.Figure at 0xdb06030>"
      ]
     },
     "metadata": {},
     "output_type": "display_data"
    }
   ],
   "source": [
    "plt.figure(figsize=(16, 9))\n",
    "plt.plot((1+rp_portfolio_ret).cumprod(), label='classical risk parity')\n",
    "# plt.plot((1+ret_df['881001.WI']).cumprod(), label='881001.WI')\n",
    "# plt.plot((1+ret_df['HSI.HI']).cumprod(), label='HSI.HI')\n",
    "# plt.plot((1+ret_df['SPX.GI']).cumprod(), label='SPX.GI')\n",
    "plt.plot((1+ret_df['065.CS']).cumprod(), label='065.CS')\n",
    "# plt.plot((1+ret_df['AU9999.SGE']).cumprod(), label='AU9999.SGE')\n",
    "# plt.plot((1+ret_df['B.IPE']).cumprod(), label='B.IPE')\n",
    "plt.legend()"
   ]
  },
  {
   "cell_type": "markdown",
   "metadata": {},
   "source": [
    "## Risk Parity with Higher Moments"
   ]
  },
  {
   "cell_type": "code",
   "execution_count": 236,
   "metadata": {
    "collapsed": true
   },
   "outputs": [],
   "source": [
    "M2 = ret_df.cov()"
   ]
  },
  {
   "cell_type": "code",
   "execution_count": 237,
   "metadata": {
    "collapsed": true
   },
   "outputs": [],
   "source": [
    "M3 = calculate_portfolio_coskewness(ret_df)"
   ]
  },
  {
   "cell_type": "code",
   "execution_count": 238,
   "metadata": {
    "collapsed": false
   },
   "outputs": [],
   "source": [
    "M4 = calculate_portfolio_cokurtosis(ret_df) "
   ]
  },
  {
   "cell_type": "code",
   "execution_count": 239,
   "metadata": {
    "collapsed": false
   },
   "outputs": [],
   "source": [
    "def risk_budget_objective_higher(x, pars):\n",
    "    # 计算组合风险\n",
    "#     N = len(x)\n",
    "#     x_t = np.array([1./N] * N) # 目标风险贡献相等\n",
    "    \n",
    "    M2, M3, M4 = pars[0], pars[1], pars[2]\n",
    "    lamb2, lamb3, lamb4 = pars[3], pars[4], pars[5]\n",
    "\n",
    "    var = calculate_portfolio_var(x, M2)\n",
    "    skew = calculate_portfolio_skewness(x, M3)\n",
    "    kurt = calculate_portfolio_kurtosis(x, M4)\n",
    "#     print var\n",
    "    \n",
    "    MRC2 = M2.dot(x.T)\n",
    "    MRC3 = M3.dot(np.kron(x, x))\n",
    "    MRC4 = M4.dot(np.kron(np.kron(x, x), x))\n",
    "    \n",
    "    ARC2 = x * MRC2 / var\n",
    "    ARC3 = x * MRC3 / skew\n",
    "    ARC4 = x * MRC4 / kurt\n",
    "#     print ARC2\n",
    "    \n",
    "#     J = lamb2 * np.sum(np.square(ARC2 - x_t)) +\\\n",
    "#         lamb3 * np.sum(np.square(ARC3 - x_t)) +\\\n",
    "#         lamb4 * np.sum(np.square(ARC4 - x_t)) # sum of squared error\n",
    "#     J = lamb2 * np.sum([(i-j)**2 for i in ARC2 for j in ARC2]) +\\\n",
    "#         lamb3 * np.sum([(i-j)**2 for i in ARC3 for j in ARC3]) +\\\n",
    "#         lamb4 * np.sum([(i-j)**2 for i in ARC4 for j in ARC4])\n",
    "#     J2 = lamb2 * (x.dot(MRC2) - np.log(x).sum())\n",
    "#     J3 = lamb3 * (x.dot(MRC3) - np.log(x).sum())\n",
    "#     J4 = lamb4 * (x.dot(MRC4) - np.log(x).sum())\n",
    "    J2 = lamb2 * np.sum([(i-j)**2 for i in ARC2 for j in ARC2])\n",
    "    J3 = lamb3 * np.sum([(i-j)**2 for i in ARC3 for j in ARC3])\n",
    "    J4 = lamb4 * np.sum([(i-j)**2 for i in ARC4 for j in ARC4])\n",
    "#     J3 = lamb3 * (ARC3.max() - ARC3.min())\n",
    "#     print J2, J3, J4\n",
    "    J = J2 + J3 + J4\n",
    "#     print J2, J3, J4\n",
    "#     print J2, J3, J4\n",
    "#     print J\n",
    "    return J"
   ]
  },
  {
   "cell_type": "code",
   "execution_count": 246,
   "metadata": {
    "collapsed": true
   },
   "outputs": [],
   "source": [
    "# 根据资产预期目标风险贡献度来计算各资产的权重\n",
    "def calcu_w_higher(M2, M3, M4, lamb2=1, lamb3=1, lamb4=1):\n",
    "    N = M2.shape[0]\n",
    "#     w0 = np.random.dirichlet(np.ones(N),size=1) # dirichlet分布作为初始值\n",
    "#     w0 = np.array([1./N]*N)\n",
    "#     w0 = np.array([0.01, 0.01, 0.01, 0.95, 0.01, 0.01])\n",
    "    w0 = np.random.random_sample((N,))\n",
    "    w0 /= w0.sum()\n",
    "    cons = ({'type': 'eq', 'fun': total_weight_constraint},\n",
    "            {'type': 'ineq', 'fun': long_only_constraint})\n",
    "    minimizer_args = {'method': 'SLSQP', 'args': [M2, M3, M4, lamb2, lamb3, lamb4], 'constraints': cons}\n",
    "#     res = basinhopping(risk_budget_objective, w0, stepsize=1e-10, minimizer_kwargs=minimizer_args)\n",
    "#     minimizer_args = {'method': 'L-BFGS-B', 'args': [M2, M3, M4, lamb2, lamb3, lamb4], 'bounds': np.array([(0., None)]*N)}\n",
    "    res = basinhopping(risk_budget_objective_higher, w0, stepsize=1e-6, minimizer_kwargs=minimizer_args)\n",
    "#     res = minimize(risk_budget_objective_higher, w0, args=[M2, M3, M4, lamb2, lamb3, lamb4], \n",
    "#                    bounds=np.array([(0., None)]*N), method='L-BFGS-B')\n",
    "    return res.x / res.x.sum()"
   ]
  },
  {
   "cell_type": "code",
   "execution_count": 247,
   "metadata": {
    "collapsed": false
   },
   "outputs": [
    {
     "name": "stdout",
     "output_type": "stream",
     "text": [
      "881001.WI     4.331430e-07\n",
      "HSI.HI        4.331393e-07\n",
      "SPX.GI        4.331410e-07\n",
      "065.CS        4.331375e-07\n",
      "AU9999.SGE    4.331460e-07\n",
      "B.IPE         4.331432e-07\n",
      "dtype: float64\n"
     ]
    }
   ],
   "source": [
    "wb = calcu_w(M2)"
   ]
  },
  {
   "cell_type": "code",
   "execution_count": 248,
   "metadata": {
    "collapsed": false
   },
   "outputs": [
    {
     "data": {
      "text/plain": [
       "array([ 0.02824647,  0.043544  ,  0.06275184,  0.76746183,  0.06937659,\n",
       "        0.02861926])"
      ]
     },
     "execution_count": 248,
     "metadata": {},
     "output_type": "execute_result"
    }
   ],
   "source": [
    "wb"
   ]
  },
  {
   "cell_type": "code",
   "execution_count": 264,
   "metadata": {
    "collapsed": false
   },
   "outputs": [],
   "source": [
    "wb = calcu_w_higher(M2, M3, M4, lamb2=1, lamb3=0, lamb4=1)"
   ]
  },
  {
   "cell_type": "code",
   "execution_count": 265,
   "metadata": {
    "collapsed": false
   },
   "outputs": [
    {
     "data": {
      "text/plain": [
       "array([ 0.02961246,  0.04138807,  0.06027162,  0.76679688,  0.07256213,\n",
       "        0.02936884])"
      ]
     },
     "execution_count": 265,
     "metadata": {},
     "output_type": "execute_result"
    }
   ],
   "source": [
    "wb"
   ]
  },
  {
   "cell_type": "code",
   "execution_count": 266,
   "metadata": {
    "collapsed": false
   },
   "outputs": [
    {
     "data": {
      "text/plain": [
       "881001.WI     4.602311e-07\n",
       "HSI.HI        4.060961e-07\n",
       "SPX.GI        4.082130e-07\n",
       "065.CS        4.323604e-07\n",
       "AU9999.SGE    4.720945e-07\n",
       "B.IPE         4.481610e-07\n",
       "dtype: float64"
      ]
     },
     "execution_count": 266,
     "metadata": {},
     "output_type": "execute_result"
    }
   ],
   "source": [
    "wb * M2.dot(wb)"
   ]
  },
  {
   "cell_type": "code",
   "execution_count": 267,
   "metadata": {
    "collapsed": false
   },
   "outputs": [
    {
     "data": {
      "text/plain": [
       "array([ -2.48268120e-10,  -8.23289769e-11,  -7.41851745e-11,\n",
       "        -3.30697751e-10,  -7.99369881e-11,   7.30838009e-11])"
      ]
     },
     "execution_count": 267,
     "metadata": {},
     "output_type": "execute_result"
    }
   ],
   "source": [
    "wb * M3.dot(np.kron(wb, wb))"
   ]
  },
  {
   "cell_type": "code",
   "execution_count": 268,
   "metadata": {
    "collapsed": false,
    "scrolled": true
   },
   "outputs": [
    {
     "data": {
      "text/plain": [
       "array([  9.04619361e-12,   1.02899609e-11,   1.03397308e-11,\n",
       "         9.78228949e-12,   8.74971846e-12,   9.33960021e-12])"
      ]
     },
     "execution_count": 268,
     "metadata": {},
     "output_type": "execute_result"
    }
   ],
   "source": [
    "wb * M4.dot(np.kron(np.kron(wb, wb), wb))"
   ]
  },
  {
   "cell_type": "code",
   "execution_count": 269,
   "metadata": {
    "collapsed": false
   },
   "outputs": [
    {
     "name": "stdout",
     "output_type": "stream",
     "text": [
      "2012-08-01 00:00:00 [  2.23067901e-06   2.19608793e-06   2.07587752e-06  -1.96030263e-07\n",
      "   2.33890196e-06   2.14845639e-06] 2.53493222221e-06\n",
      "2012-09-03 00:00:00 [  2.13024592e-06   2.08199987e-06   1.97149012e-06  -1.70078638e-07\n",
      "   2.16667679e-06   2.03381992e-06] 2.33675542294e-06\n",
      "2012-10-08 00:00:00 [  2.22291804e-06   2.12845934e-06   1.98882714e-06  -2.52948001e-07\n",
      "   2.16969743e-06   2.13227606e-06] 2.47586604202e-06\n",
      "2012-11-01 00:00:00 [  2.16665769e-06   2.01399463e-06   1.91837683e-06  -2.48927907e-07\n",
      "   2.10420228e-06   2.03620325e-06] 2.41558559782e-06\n",
      "2012-12-03 00:00:00 [  1.89429499e-06   1.76092145e-06   1.65017887e-06  -1.63832067e-07\n",
      "   1.89247928e-06   1.78698036e-06] 2.05812705546e-06\n",
      "2013-01-04 00:00:00 [  1.52711628e-06   1.29954389e-06   1.44210874e-06  -6.56054871e-08\n",
      "   1.51124888e-06   1.43166940e-06] 1.59272176911e-06\n",
      "2013-03-01 00:00:00 [  1.39893547e-06   1.21994770e-06   1.37741294e-06  -5.00339497e-08\n",
      "   1.30199723e-06   1.43875114e-06] 1.48878508897e-06\n",
      "2013-05-02 00:00:00 [  2.32139707e-06   2.17194868e-06   1.87068451e-06  -9.12225844e-08\n",
      "   1.18329490e-06   1.95782231e-06] 2.41261965814e-06\n",
      "2013-06-03 00:00:00 [  2.26328641e-06   2.16304439e-06   1.78706763e-06  -8.93190500e-08\n",
      "   1.13037546e-06   1.89149841e-06] 2.35260546054e-06\n",
      "2017-06-01 00:00:00 [  5.06869300e-07   4.52160717e-07   6.00167015e-07   4.84225311e-07\n",
      "   4.51600835e-07   5.96394046e-07] 1.48566180057e-07\n"
     ]
    }
   ],
   "source": [
    "weight = pd.DataFrame(columns=ret_df.columns, index=ret_df.index)\n",
    "wb = np.array([0, 0, 0, 0, 0, 0])\n",
    "for date in ret_df.index:\n",
    "    weight.loc[date] = wb\n",
    "    if date in rebalance_dates:\n",
    "        temp_df = ret_df[ret_df.index <= date][-121:]\n",
    "        if temp_df.shape[0] < 121:\n",
    "            continue\n",
    "        M2 = temp_df.cov()\n",
    "        M3 = calculate_portfolio_coskewness(temp_df)\n",
    "        M4 = calculate_portfolio_cokurtosis(temp_df)\n",
    "        calc_wb = calcu_w_higher(M2, M3, M4, lamb3=0)\n",
    "        \n",
    "        risk_contr2 = calc_wb * (M2.dot(calc_wb)).values\n",
    "        risk_contr3 = calc_wb * (M3.dot(np.kron(calc_wb, calc_wb)))\n",
    "        risk_contr4 = calc_wb * (M4.dot(np.kron(np.kron(calc_wb, calc_wb), calc_wb)))\n",
    "#         wb = calc_wb\n",
    "#         if risk_contr2.max() - risk_contr2.min() < 1e-8:\n",
    "        if calc_wb[3] > 0.5:\n",
    "#            risk_contr3.max() - risk_contr3.min() < 1e-10 and\\\n",
    "#            risk_contr4.max() - risk_contr4.min() < 1e-10:\n",
    "#             print date\n",
    "#             print risk_contr\n",
    "            wb = calc_wb\n",
    "        else:\n",
    "            print date, risk_contr2, risk_contr2.max() - risk_contr2.min()\n",
    "#         print wb * M2.dot(wb).values\n",
    "#         print wb * M3.dot(np.kron(wb, wb))\n",
    "#         print wb * M4.dot(np.kron(np.kron(wb, wb), wb))\n",
    "#         print date, calculate_risk_contribution(wb, cov.as_matrix())\n",
    "#         if date == rebalance_dates[4]:\n",
    "#             break"
   ]
  },
  {
   "cell_type": "code",
   "execution_count": 319,
   "metadata": {
    "collapsed": false
   },
   "outputs": [
    {
     "data": {
      "text/html": [
       "<div>\n",
       "<table border=\"1\" class=\"dataframe\">\n",
       "  <thead>\n",
       "    <tr style=\"text-align: right;\">\n",
       "      <th></th>\n",
       "      <th>881001.WI</th>\n",
       "      <th>HSI.HI</th>\n",
       "      <th>SPX.GI</th>\n",
       "      <th>065.CS</th>\n",
       "      <th>AU9999.SGE</th>\n",
       "      <th>B.IPE</th>\n",
       "    </tr>\n",
       "  </thead>\n",
       "  <tbody>\n",
       "    <tr>\n",
       "      <th>2012-01-05</th>\n",
       "      <td>0</td>\n",
       "      <td>0</td>\n",
       "      <td>0</td>\n",
       "      <td>0</td>\n",
       "      <td>0</td>\n",
       "      <td>0</td>\n",
       "    </tr>\n",
       "    <tr>\n",
       "      <th>2012-08-02</th>\n",
       "      <td>0.0296881</td>\n",
       "      <td>0.022049</td>\n",
       "      <td>0.0303173</td>\n",
       "      <td>0.864408</td>\n",
       "      <td>0.0358683</td>\n",
       "      <td>0.0176691</td>\n",
       "    </tr>\n",
       "    <tr>\n",
       "      <th>2012-09-04</th>\n",
       "      <td>0.0302263</td>\n",
       "      <td>0.0224386</td>\n",
       "      <td>0.0309723</td>\n",
       "      <td>0.862262</td>\n",
       "      <td>0.0364079</td>\n",
       "      <td>0.0176924</td>\n",
       "    </tr>\n",
       "    <tr>\n",
       "      <th>2012-10-09</th>\n",
       "      <td>0.0300527</td>\n",
       "      <td>0.0212213</td>\n",
       "      <td>0.0303819</td>\n",
       "      <td>0.862929</td>\n",
       "      <td>0.0388952</td>\n",
       "      <td>0.0165199</td>\n",
       "    </tr>\n",
       "    <tr>\n",
       "      <th>2012-11-02</th>\n",
       "      <td>0.0300332</td>\n",
       "      <td>0.0223831</td>\n",
       "      <td>0.0302828</td>\n",
       "      <td>0.861034</td>\n",
       "      <td>0.0393981</td>\n",
       "      <td>0.0168689</td>\n",
       "    </tr>\n",
       "    <tr>\n",
       "      <th>2012-12-04</th>\n",
       "      <td>0.0181359</td>\n",
       "      <td>0.0163848</td>\n",
       "      <td>0.0201446</td>\n",
       "      <td>0.898246</td>\n",
       "      <td>0.0354389</td>\n",
       "      <td>0.0116503</td>\n",
       "    </tr>\n",
       "    <tr>\n",
       "      <th>2013-01-07</th>\n",
       "      <td>0.0168158</td>\n",
       "      <td>0.018364</td>\n",
       "      <td>0.0219315</td>\n",
       "      <td>0.896091</td>\n",
       "      <td>0.0325029</td>\n",
       "      <td>0.0142947</td>\n",
       "    </tr>\n",
       "    <tr>\n",
       "      <th>2013-02-04</th>\n",
       "      <td>0.0178317</td>\n",
       "      <td>0.0250686</td>\n",
       "      <td>0.0287239</td>\n",
       "      <td>0.870831</td>\n",
       "      <td>0.0382982</td>\n",
       "      <td>0.0192465</td>\n",
       "    </tr>\n",
       "    <tr>\n",
       "      <th>2013-03-04</th>\n",
       "      <td>0.0147148</td>\n",
       "      <td>0.022243</td>\n",
       "      <td>0.0253133</td>\n",
       "      <td>0.890753</td>\n",
       "      <td>0.0300381</td>\n",
       "      <td>0.016938</td>\n",
       "    </tr>\n",
       "    <tr>\n",
       "      <th>2013-04-02</th>\n",
       "      <td>0.013076</td>\n",
       "      <td>0.0199988</td>\n",
       "      <td>0.0221796</td>\n",
       "      <td>0.898109</td>\n",
       "      <td>0.0296123</td>\n",
       "      <td>0.0170247</td>\n",
       "    </tr>\n",
       "    <tr>\n",
       "      <th>2013-05-03</th>\n",
       "      <td>0.0146709</td>\n",
       "      <td>0.0173374</td>\n",
       "      <td>0.0193436</td>\n",
       "      <td>0.922079</td>\n",
       "      <td>0.0127677</td>\n",
       "      <td>0.0138016</td>\n",
       "    </tr>\n",
       "    <tr>\n",
       "      <th>2013-06-04</th>\n",
       "      <td>0.014423</td>\n",
       "      <td>0.0172675</td>\n",
       "      <td>0.0200034</td>\n",
       "      <td>0.922231</td>\n",
       "      <td>0.0122281</td>\n",
       "      <td>0.0138472</td>\n",
       "    </tr>\n",
       "    <tr>\n",
       "      <th>2013-07-02</th>\n",
       "      <td>0.0605056</td>\n",
       "      <td>0.0769898</td>\n",
       "      <td>0.0871196</td>\n",
       "      <td>0.646756</td>\n",
       "      <td>0.0613763</td>\n",
       "      <td>0.0672528</td>\n",
       "    </tr>\n",
       "    <tr>\n",
       "      <th>2013-08-02</th>\n",
       "      <td>0.0571027</td>\n",
       "      <td>0.0734514</td>\n",
       "      <td>0.0862866</td>\n",
       "      <td>0.657273</td>\n",
       "      <td>0.059032</td>\n",
       "      <td>0.0668548</td>\n",
       "    </tr>\n",
       "    <tr>\n",
       "      <th>2013-09-03</th>\n",
       "      <td>0.0583149</td>\n",
       "      <td>0.072001</td>\n",
       "      <td>0.088633</td>\n",
       "      <td>0.656806</td>\n",
       "      <td>0.0577957</td>\n",
       "      <td>0.0664496</td>\n",
       "    </tr>\n",
       "    <tr>\n",
       "      <th>2013-10-09</th>\n",
       "      <td>0.0581299</td>\n",
       "      <td>0.0719786</td>\n",
       "      <td>0.0889738</td>\n",
       "      <td>0.656475</td>\n",
       "      <td>0.0579472</td>\n",
       "      <td>0.0664954</td>\n",
       "    </tr>\n",
       "    <tr>\n",
       "      <th>2013-11-04</th>\n",
       "      <td>0.0599448</td>\n",
       "      <td>0.0779025</td>\n",
       "      <td>0.103305</td>\n",
       "      <td>0.592844</td>\n",
       "      <td>0.0862474</td>\n",
       "      <td>0.079756</td>\n",
       "    </tr>\n",
       "    <tr>\n",
       "      <th>2013-12-03</th>\n",
       "      <td>0.0599341</td>\n",
       "      <td>0.0774199</td>\n",
       "      <td>0.103919</td>\n",
       "      <td>0.593289</td>\n",
       "      <td>0.0861883</td>\n",
       "      <td>0.0792491</td>\n",
       "    </tr>\n",
       "    <tr>\n",
       "      <th>2014-01-03</th>\n",
       "      <td>0.0288735</td>\n",
       "      <td>0.0405039</td>\n",
       "      <td>0.0706315</td>\n",
       "      <td>0.753633</td>\n",
       "      <td>0.0526584</td>\n",
       "      <td>0.0536996</td>\n",
       "    </tr>\n",
       "    <tr>\n",
       "      <th>2014-02-10</th>\n",
       "      <td>0.0419054</td>\n",
       "      <td>0.05119</td>\n",
       "      <td>0.0982411</td>\n",
       "      <td>0.686228</td>\n",
       "      <td>0.0704577</td>\n",
       "      <td>0.0519783</td>\n",
       "    </tr>\n",
       "    <tr>\n",
       "      <th>2014-03-04</th>\n",
       "      <td>0.0437599</td>\n",
       "      <td>0.0595881</td>\n",
       "      <td>0.0933147</td>\n",
       "      <td>0.667661</td>\n",
       "      <td>0.0786386</td>\n",
       "      <td>0.0570382</td>\n",
       "    </tr>\n",
       "    <tr>\n",
       "      <th>2014-04-02</th>\n",
       "      <td>0.0394941</td>\n",
       "      <td>0.0560356</td>\n",
       "      <td>0.0974509</td>\n",
       "      <td>0.672702</td>\n",
       "      <td>0.0772568</td>\n",
       "      <td>0.0570603</td>\n",
       "    </tr>\n",
       "    <tr>\n",
       "      <th>2014-05-06</th>\n",
       "      <td>0.0403898</td>\n",
       "      <td>0.0601946</td>\n",
       "      <td>0.105218</td>\n",
       "      <td>0.6388</td>\n",
       "      <td>0.0897368</td>\n",
       "      <td>0.0656602</td>\n",
       "    </tr>\n",
       "    <tr>\n",
       "      <th>2014-06-04</th>\n",
       "      <td>0.0351122</td>\n",
       "      <td>0.052142</td>\n",
       "      <td>0.100608</td>\n",
       "      <td>0.662081</td>\n",
       "      <td>0.0849829</td>\n",
       "      <td>0.0650741</td>\n",
       "    </tr>\n",
       "    <tr>\n",
       "      <th>2014-07-02</th>\n",
       "      <td>0.0337204</td>\n",
       "      <td>0.0517547</td>\n",
       "      <td>0.100812</td>\n",
       "      <td>0.676755</td>\n",
       "      <td>0.0774007</td>\n",
       "      <td>0.0595573</td>\n",
       "    </tr>\n",
       "    <tr>\n",
       "      <th>2014-08-04</th>\n",
       "      <td>0.0354262</td>\n",
       "      <td>0.0543241</td>\n",
       "      <td>0.0978682</td>\n",
       "      <td>0.678371</td>\n",
       "      <td>0.0690683</td>\n",
       "      <td>0.0649421</td>\n",
       "    </tr>\n",
       "    <tr>\n",
       "      <th>2014-09-02</th>\n",
       "      <td>0.0362314</td>\n",
       "      <td>0.0610825</td>\n",
       "      <td>0.0875554</td>\n",
       "      <td>0.678323</td>\n",
       "      <td>0.0766958</td>\n",
       "      <td>0.0601119</td>\n",
       "    </tr>\n",
       "    <tr>\n",
       "      <th>2014-10-09</th>\n",
       "      <td>0.0401549</td>\n",
       "      <td>0.0500976</td>\n",
       "      <td>0.0686187</td>\n",
       "      <td>0.724958</td>\n",
       "      <td>0.0676819</td>\n",
       "      <td>0.0484886</td>\n",
       "    </tr>\n",
       "    <tr>\n",
       "      <th>2014-11-04</th>\n",
       "      <td>0.0453956</td>\n",
       "      <td>0.0596869</td>\n",
       "      <td>0.0620287</td>\n",
       "      <td>0.702577</td>\n",
       "      <td>0.0794522</td>\n",
       "      <td>0.0508601</td>\n",
       "    </tr>\n",
       "    <tr>\n",
       "      <th>2014-12-02</th>\n",
       "      <td>0.0765348</td>\n",
       "      <td>0.0854505</td>\n",
       "      <td>0.124391</td>\n",
       "      <td>0.536768</td>\n",
       "      <td>0.0998758</td>\n",
       "      <td>0.0769804</td>\n",
       "    </tr>\n",
       "    <tr>\n",
       "      <th>2015-01-06</th>\n",
       "      <td>0.072189</td>\n",
       "      <td>0.0806062</td>\n",
       "      <td>0.118348</td>\n",
       "      <td>0.554731</td>\n",
       "      <td>0.102361</td>\n",
       "      <td>0.0717652</td>\n",
       "    </tr>\n",
       "    <tr>\n",
       "      <th>2015-02-03</th>\n",
       "      <td>0.0604399</td>\n",
       "      <td>0.087498</td>\n",
       "      <td>0.113301</td>\n",
       "      <td>0.588303</td>\n",
       "      <td>0.0911264</td>\n",
       "      <td>0.0593321</td>\n",
       "    </tr>\n",
       "    <tr>\n",
       "      <th>2015-03-03</th>\n",
       "      <td>0.0593285</td>\n",
       "      <td>0.0861007</td>\n",
       "      <td>0.110462</td>\n",
       "      <td>0.599553</td>\n",
       "      <td>0.0924004</td>\n",
       "      <td>0.0521549</td>\n",
       "    </tr>\n",
       "    <tr>\n",
       "      <th>2015-04-02</th>\n",
       "      <td>0.0611286</td>\n",
       "      <td>0.0914973</td>\n",
       "      <td>0.10897</td>\n",
       "      <td>0.592552</td>\n",
       "      <td>0.0969758</td>\n",
       "      <td>0.0488769</td>\n",
       "    </tr>\n",
       "    <tr>\n",
       "      <th>2015-05-05</th>\n",
       "      <td>0.0577763</td>\n",
       "      <td>0.088584</td>\n",
       "      <td>0.116778</td>\n",
       "      <td>0.597105</td>\n",
       "      <td>0.0941643</td>\n",
       "      <td>0.0455932</td>\n",
       "    </tr>\n",
       "    <tr>\n",
       "      <th>2015-06-02</th>\n",
       "      <td>0.0392045</td>\n",
       "      <td>0.0773491</td>\n",
       "      <td>0.0942975</td>\n",
       "      <td>0.661625</td>\n",
       "      <td>0.0894391</td>\n",
       "      <td>0.038085</td>\n",
       "    </tr>\n",
       "    <tr>\n",
       "      <th>2015-07-02</th>\n",
       "      <td>0.0241595</td>\n",
       "      <td>0.0645817</td>\n",
       "      <td>0.0684481</td>\n",
       "      <td>0.733198</td>\n",
       "      <td>0.0802944</td>\n",
       "      <td>0.029318</td>\n",
       "    </tr>\n",
       "    <tr>\n",
       "      <th>2015-08-04</th>\n",
       "      <td>0.0165148</td>\n",
       "      <td>0.032545</td>\n",
       "      <td>0.0638693</td>\n",
       "      <td>0.789762</td>\n",
       "      <td>0.0677779</td>\n",
       "      <td>0.029531</td>\n",
       "    </tr>\n",
       "    <tr>\n",
       "      <th>2015-09-02</th>\n",
       "      <td>0.0130665</td>\n",
       "      <td>0.0265328</td>\n",
       "      <td>0.0412763</td>\n",
       "      <td>0.811433</td>\n",
       "      <td>0.0881619</td>\n",
       "      <td>0.0195294</td>\n",
       "    </tr>\n",
       "    <tr>\n",
       "      <th>2015-10-09</th>\n",
       "      <td>0.0143248</td>\n",
       "      <td>0.0169015</td>\n",
       "      <td>0.0255207</td>\n",
       "      <td>0.867672</td>\n",
       "      <td>0.062172</td>\n",
       "      <td>0.0134092</td>\n",
       "    </tr>\n",
       "    <tr>\n",
       "      <th>2015-11-03</th>\n",
       "      <td>0.0117658</td>\n",
       "      <td>0.0135879</td>\n",
       "      <td>0.021345</td>\n",
       "      <td>0.892185</td>\n",
       "      <td>0.0503294</td>\n",
       "      <td>0.0107868</td>\n",
       "    </tr>\n",
       "    <tr>\n",
       "      <th>2015-12-02</th>\n",
       "      <td>0.0140167</td>\n",
       "      <td>0.0152415</td>\n",
       "      <td>0.0235812</td>\n",
       "      <td>0.880618</td>\n",
       "      <td>0.0547515</td>\n",
       "      <td>0.0117907</td>\n",
       "    </tr>\n",
       "    <tr>\n",
       "      <th>2016-01-05</th>\n",
       "      <td>0.0147296</td>\n",
       "      <td>0.0161263</td>\n",
       "      <td>0.0245584</td>\n",
       "      <td>0.873376</td>\n",
       "      <td>0.0582137</td>\n",
       "      <td>0.012996</td>\n",
       "    </tr>\n",
       "    <tr>\n",
       "      <th>2016-02-02</th>\n",
       "      <td>0.0173757</td>\n",
       "      <td>0.0180277</td>\n",
       "      <td>0.0245686</td>\n",
       "      <td>0.854841</td>\n",
       "      <td>0.0725202</td>\n",
       "      <td>0.012667</td>\n",
       "    </tr>\n",
       "    <tr>\n",
       "      <th>2016-03-02</th>\n",
       "      <td>0.0210355</td>\n",
       "      <td>0.0208193</td>\n",
       "      <td>0.0285336</td>\n",
       "      <td>0.849349</td>\n",
       "      <td>0.0665895</td>\n",
       "      <td>0.0136731</td>\n",
       "    </tr>\n",
       "    <tr>\n",
       "      <th>2016-04-05</th>\n",
       "      <td>0.0228468</td>\n",
       "      <td>0.0208594</td>\n",
       "      <td>0.0291814</td>\n",
       "      <td>0.850631</td>\n",
       "      <td>0.0614059</td>\n",
       "      <td>0.0150753</td>\n",
       "    </tr>\n",
       "    <tr>\n",
       "      <th>2016-05-04</th>\n",
       "      <td>0.0240062</td>\n",
       "      <td>0.0426111</td>\n",
       "      <td>0.0491128</td>\n",
       "      <td>0.774951</td>\n",
       "      <td>0.0876515</td>\n",
       "      <td>0.0216678</td>\n",
       "    </tr>\n",
       "    <tr>\n",
       "      <th>2016-06-02</th>\n",
       "      <td>0.0210709</td>\n",
       "      <td>0.0396599</td>\n",
       "      <td>0.0455562</td>\n",
       "      <td>0.789761</td>\n",
       "      <td>0.0844747</td>\n",
       "      <td>0.0194778</td>\n",
       "    </tr>\n",
       "    <tr>\n",
       "      <th>2016-07-04</th>\n",
       "      <td>0.0201539</td>\n",
       "      <td>0.0371785</td>\n",
       "      <td>0.0450162</td>\n",
       "      <td>0.798305</td>\n",
       "      <td>0.0814736</td>\n",
       "      <td>0.0178731</td>\n",
       "    </tr>\n",
       "    <tr>\n",
       "      <th>2016-08-02</th>\n",
       "      <td>0.0259677</td>\n",
       "      <td>0.0398239</td>\n",
       "      <td>0.053146</td>\n",
       "      <td>0.798768</td>\n",
       "      <td>0.062803</td>\n",
       "      <td>0.0194913</td>\n",
       "    </tr>\n",
       "    <tr>\n",
       "      <th>2016-09-02</th>\n",
       "      <td>0.0274839</td>\n",
       "      <td>0.0361911</td>\n",
       "      <td>0.0609603</td>\n",
       "      <td>0.788796</td>\n",
       "      <td>0.0665746</td>\n",
       "      <td>0.0199937</td>\n",
       "    </tr>\n",
       "    <tr>\n",
       "      <th>2016-10-11</th>\n",
       "      <td>0.0316844</td>\n",
       "      <td>0.0416666</td>\n",
       "      <td>0.0624805</td>\n",
       "      <td>0.757834</td>\n",
       "      <td>0.0864299</td>\n",
       "      <td>0.0199051</td>\n",
       "    </tr>\n",
       "    <tr>\n",
       "      <th>2016-11-02</th>\n",
       "      <td>0.0231859</td>\n",
       "      <td>0.0282814</td>\n",
       "      <td>0.0435451</td>\n",
       "      <td>0.829546</td>\n",
       "      <td>0.0618364</td>\n",
       "      <td>0.0136048</td>\n",
       "    </tr>\n",
       "    <tr>\n",
       "      <th>2016-12-02</th>\n",
       "      <td>0.0401697</td>\n",
       "      <td>0.0377418</td>\n",
       "      <td>0.0605585</td>\n",
       "      <td>0.770848</td>\n",
       "      <td>0.0726046</td>\n",
       "      <td>0.018077</td>\n",
       "    </tr>\n",
       "    <tr>\n",
       "      <th>2017-01-04</th>\n",
       "      <td>0.0738255</td>\n",
       "      <td>0.0752118</td>\n",
       "      <td>0.127944</td>\n",
       "      <td>0.569042</td>\n",
       "      <td>0.113823</td>\n",
       "      <td>0.0401545</td>\n",
       "    </tr>\n",
       "    <tr>\n",
       "      <th>2017-02-06</th>\n",
       "      <td>0.079296</td>\n",
       "      <td>0.0791024</td>\n",
       "      <td>0.128276</td>\n",
       "      <td>0.557366</td>\n",
       "      <td>0.111833</td>\n",
       "      <td>0.044126</td>\n",
       "    </tr>\n",
       "    <tr>\n",
       "      <th>2017-03-02</th>\n",
       "      <td>0.0848827</td>\n",
       "      <td>0.0796542</td>\n",
       "      <td>0.124367</td>\n",
       "      <td>0.552547</td>\n",
       "      <td>0.111213</td>\n",
       "      <td>0.0473355</td>\n",
       "    </tr>\n",
       "    <tr>\n",
       "      <th>2017-04-06</th>\n",
       "      <td>0.0863434</td>\n",
       "      <td>0.0758131</td>\n",
       "      <td>0.161142</td>\n",
       "      <td>0.523824</td>\n",
       "      <td>0.10472</td>\n",
       "      <td>0.0481579</td>\n",
       "    </tr>\n",
       "    <tr>\n",
       "      <th>2017-05-03</th>\n",
       "      <td>0.0887913</td>\n",
       "      <td>0.0813503</td>\n",
       "      <td>0.165087</td>\n",
       "      <td>0.516531</td>\n",
       "      <td>0.0995101</td>\n",
       "      <td>0.0487304</td>\n",
       "    </tr>\n",
       "    <tr>\n",
       "      <th>2017-07-04</th>\n",
       "      <td>0.0747166</td>\n",
       "      <td>0.0753787</td>\n",
       "      <td>0.146499</td>\n",
       "      <td>0.580347</td>\n",
       "      <td>0.0873304</td>\n",
       "      <td>0.0357278</td>\n",
       "    </tr>\n",
       "  </tbody>\n",
       "</table>\n",
       "</div>"
      ],
      "text/plain": [
       "            881001.WI     HSI.HI     SPX.GI    065.CS AU9999.SGE      B.IPE\n",
       "2012-01-05          0          0          0         0          0          0\n",
       "2012-08-02  0.0296881   0.022049  0.0303173  0.864408  0.0358683  0.0176691\n",
       "2012-09-04  0.0302263  0.0224386  0.0309723  0.862262  0.0364079  0.0176924\n",
       "2012-10-09  0.0300527  0.0212213  0.0303819  0.862929  0.0388952  0.0165199\n",
       "2012-11-02  0.0300332  0.0223831  0.0302828  0.861034  0.0393981  0.0168689\n",
       "2012-12-04  0.0181359  0.0163848  0.0201446  0.898246  0.0354389  0.0116503\n",
       "2013-01-07  0.0168158   0.018364  0.0219315  0.896091  0.0325029  0.0142947\n",
       "2013-02-04  0.0178317  0.0250686  0.0287239  0.870831  0.0382982  0.0192465\n",
       "2013-03-04  0.0147148   0.022243  0.0253133  0.890753  0.0300381   0.016938\n",
       "2013-04-02   0.013076  0.0199988  0.0221796  0.898109  0.0296123  0.0170247\n",
       "2013-05-03  0.0146709  0.0173374  0.0193436  0.922079  0.0127677  0.0138016\n",
       "2013-06-04   0.014423  0.0172675  0.0200034  0.922231  0.0122281  0.0138472\n",
       "2013-07-02  0.0605056  0.0769898  0.0871196  0.646756  0.0613763  0.0672528\n",
       "2013-08-02  0.0571027  0.0734514  0.0862866  0.657273   0.059032  0.0668548\n",
       "2013-09-03  0.0583149   0.072001   0.088633  0.656806  0.0577957  0.0664496\n",
       "2013-10-09  0.0581299  0.0719786  0.0889738  0.656475  0.0579472  0.0664954\n",
       "2013-11-04  0.0599448  0.0779025   0.103305  0.592844  0.0862474   0.079756\n",
       "2013-12-03  0.0599341  0.0774199   0.103919  0.593289  0.0861883  0.0792491\n",
       "2014-01-03  0.0288735  0.0405039  0.0706315  0.753633  0.0526584  0.0536996\n",
       "2014-02-10  0.0419054    0.05119  0.0982411  0.686228  0.0704577  0.0519783\n",
       "2014-03-04  0.0437599  0.0595881  0.0933147  0.667661  0.0786386  0.0570382\n",
       "2014-04-02  0.0394941  0.0560356  0.0974509  0.672702  0.0772568  0.0570603\n",
       "2014-05-06  0.0403898  0.0601946   0.105218    0.6388  0.0897368  0.0656602\n",
       "2014-06-04  0.0351122   0.052142   0.100608  0.662081  0.0849829  0.0650741\n",
       "2014-07-02  0.0337204  0.0517547   0.100812  0.676755  0.0774007  0.0595573\n",
       "2014-08-04  0.0354262  0.0543241  0.0978682  0.678371  0.0690683  0.0649421\n",
       "2014-09-02  0.0362314  0.0610825  0.0875554  0.678323  0.0766958  0.0601119\n",
       "2014-10-09  0.0401549  0.0500976  0.0686187  0.724958  0.0676819  0.0484886\n",
       "2014-11-04  0.0453956  0.0596869  0.0620287  0.702577  0.0794522  0.0508601\n",
       "2014-12-02  0.0765348  0.0854505   0.124391  0.536768  0.0998758  0.0769804\n",
       "2015-01-06   0.072189  0.0806062   0.118348  0.554731   0.102361  0.0717652\n",
       "2015-02-03  0.0604399   0.087498   0.113301  0.588303  0.0911264  0.0593321\n",
       "2015-03-03  0.0593285  0.0861007   0.110462  0.599553  0.0924004  0.0521549\n",
       "2015-04-02  0.0611286  0.0914973    0.10897  0.592552  0.0969758  0.0488769\n",
       "2015-05-05  0.0577763   0.088584   0.116778  0.597105  0.0941643  0.0455932\n",
       "2015-06-02  0.0392045  0.0773491  0.0942975  0.661625  0.0894391   0.038085\n",
       "2015-07-02  0.0241595  0.0645817  0.0684481  0.733198  0.0802944   0.029318\n",
       "2015-08-04  0.0165148   0.032545  0.0638693  0.789762  0.0677779   0.029531\n",
       "2015-09-02  0.0130665  0.0265328  0.0412763  0.811433  0.0881619  0.0195294\n",
       "2015-10-09  0.0143248  0.0169015  0.0255207  0.867672   0.062172  0.0134092\n",
       "2015-11-03  0.0117658  0.0135879   0.021345  0.892185  0.0503294  0.0107868\n",
       "2015-12-02  0.0140167  0.0152415  0.0235812  0.880618  0.0547515  0.0117907\n",
       "2016-01-05  0.0147296  0.0161263  0.0245584  0.873376  0.0582137   0.012996\n",
       "2016-02-02  0.0173757  0.0180277  0.0245686  0.854841  0.0725202   0.012667\n",
       "2016-03-02  0.0210355  0.0208193  0.0285336  0.849349  0.0665895  0.0136731\n",
       "2016-04-05  0.0228468  0.0208594  0.0291814  0.850631  0.0614059  0.0150753\n",
       "2016-05-04  0.0240062  0.0426111  0.0491128  0.774951  0.0876515  0.0216678\n",
       "2016-06-02  0.0210709  0.0396599  0.0455562  0.789761  0.0844747  0.0194778\n",
       "2016-07-04  0.0201539  0.0371785  0.0450162  0.798305  0.0814736  0.0178731\n",
       "2016-08-02  0.0259677  0.0398239   0.053146  0.798768   0.062803  0.0194913\n",
       "2016-09-02  0.0274839  0.0361911  0.0609603  0.788796  0.0665746  0.0199937\n",
       "2016-10-11  0.0316844  0.0416666  0.0624805  0.757834  0.0864299  0.0199051\n",
       "2016-11-02  0.0231859  0.0282814  0.0435451  0.829546  0.0618364  0.0136048\n",
       "2016-12-02  0.0401697  0.0377418  0.0605585  0.770848  0.0726046   0.018077\n",
       "2017-01-04  0.0738255  0.0752118   0.127944  0.569042   0.113823  0.0401545\n",
       "2017-02-06   0.079296  0.0791024   0.128276  0.557366   0.111833   0.044126\n",
       "2017-03-02  0.0848827  0.0796542   0.124367  0.552547   0.111213  0.0473355\n",
       "2017-04-06  0.0863434  0.0758131   0.161142  0.523824    0.10472  0.0481579\n",
       "2017-05-03  0.0887913  0.0813503   0.165087  0.516531  0.0995101  0.0487304\n",
       "2017-07-04  0.0747166  0.0753787   0.146499  0.580347  0.0873304  0.0357278"
      ]
     },
     "execution_count": 319,
     "metadata": {},
     "output_type": "execute_result"
    }
   ],
   "source": [
    "weight.drop_duplicates()"
   ]
  },
  {
   "cell_type": "code",
   "execution_count": 320,
   "metadata": {
    "collapsed": true
   },
   "outputs": [],
   "source": [
    "higher_portfolio_ret = (weight * ret_df).sum(axis=1)"
   ]
  },
  {
   "cell_type": "code",
   "execution_count": 321,
   "metadata": {
    "collapsed": true
   },
   "outputs": [],
   "source": [
    "higher_portfolio_ret = higher_portfolio_ret[higher_portfolio_ret != 0]"
   ]
  },
  {
   "cell_type": "code",
   "execution_count": 322,
   "metadata": {
    "collapsed": false
   },
   "outputs": [
    {
     "name": "stdout",
     "output_type": "stream",
     "text": [
      "Annual return: 5.50%\n",
      "Sharpe ratio: 1.97\n",
      "Annual volatility: 2.74%\n",
      "Max drawdown: -3.74%\n"
     ]
    }
   ],
   "source": [
    "metric(higher_portfolio_ret)"
   ]
  },
  {
   "cell_type": "code",
   "execution_count": 323,
   "metadata": {
    "collapsed": false
   },
   "outputs": [
    {
     "data": {
      "text/plain": [
       "<matplotlib.legend.Legend at 0x107a6170>"
      ]
     },
     "execution_count": 323,
     "metadata": {},
     "output_type": "execute_result"
    },
    {
     "data": {
      "image/png": "[encoded data removed]",
      "text/plain": [
       "<matplotlib.figure.Figure at 0x105f12d0>"
      ]
     },
     "metadata": {},
     "output_type": "display_data"
    }
   ],
   "source": [
    "plt.figure(figsize=(16, 9))\n",
    "plt.plot((1+rp_portfolio_ret).cumprod(), label='classical risk parity')\n",
    "plt.plot((1+higher_portfolio_ret).cumprod(), label='higher moments risk parity')\n",
    "# plt.plot((1+ret_df['881001.WI']).cumprod(), label='881001.WI')\n",
    "# plt.plot((1+ret_df['HSI.HI']).cumprod(), label='HSI.HI')\n",
    "# plt.plot((1+ret_df['SPX.GI']).cumprod(), label='SPX.GI')\n",
    "# plt.plot((1+ret_df['065.CS']).cumprod(), label='065.CS')\n",
    "# plt.plot((1+ret_df['AU9999.SGE']).cumprod(), label='AU9999.SGE')\n",
    "# plt.plot((1+ret_df['B.IPE']).cumprod(), label='B.IPE')\n",
    "plt.legend()"
   ]
  },
  {
   "cell_type": "code",
   "execution_count": null,
   "metadata": {
    "collapsed": true
   },
   "outputs": [],
   "source": []
  }
 ],
 "metadata": {
  "anaconda-cloud": {},
  "kernelspec": {
   "display_name": "Python [default]",
   "language": "python",
   "name": "python2"
  },
  "language_info": {
   "codemirror_mode": {
    "name": "ipython",
    "version": 2
   },
   "file_extension": ".py",
   "mimetype": "text/x-python",
   "name": "python",
   "nbconvert_exporter": "python",
   "pygments_lexer": "ipython2",
   "version": "2.7.12"
  }
 },
 "nbformat": 4,
 "nbformat_minor": 1
}
