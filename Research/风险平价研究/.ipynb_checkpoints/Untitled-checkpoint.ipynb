{
 "cells": [
  {
   "cell_type": "code",
   "execution_count": 24,
   "metadata": {
    "collapsed": true
   },
   "outputs": [],
   "source": [
    "from scipy.optimize import basinhopping\n",
    "from scipy.optimize import fmin_bfgs\n",
    "import numpy as np\n",
    "from math import tanh"
   ]
  },
  {
   "cell_type": "code",
   "execution_count": 7,
   "metadata": {
    "collapsed": true
   },
   "outputs": [],
   "source": [
    "func = lambda x: np.cos(14.5 * x - 0.3) + (x + 0.2) * x"
   ]
  },
  {
   "cell_type": "code",
   "execution_count": 8,
   "metadata": {
    "collapsed": true
   },
   "outputs": [],
   "source": [
    "x0=[1.]"
   ]
  },
  {
   "cell_type": "code",
   "execution_count": 9,
   "metadata": {
    "collapsed": true
   },
   "outputs": [],
   "source": [
    "minimizer_kwargs = {\"method\": \"BFGS\"}"
   ]
  },
  {
   "cell_type": "code",
   "execution_count": 10,
   "metadata": {
    "collapsed": false
   },
   "outputs": [],
   "source": [
    "ret = basinhopping(func, x0, minimizer_kwargs=minimizer_kwargs, niter=200)"
   ]
  },
  {
   "cell_type": "code",
   "execution_count": 13,
   "metadata": {
    "collapsed": false
   },
   "outputs": [
    {
     "name": "stdout",
     "output_type": "stream",
     "text": [
      "global minimum: x = -0.1951, f(x0) = -1.0009\n"
     ]
    }
   ],
   "source": [
    "print(\"global minimum: x = %.4f, f(x0) = %.4f\" % (ret.x, ret.fun))"
   ]
  },
  {
   "cell_type": "code",
   "execution_count": 16,
   "metadata": {
    "collapsed": true
   },
   "outputs": [],
   "source": [
    "def rosen(x):\n",
    "   return sum(100.0*(x[1:]-x[:-1]**2.0)**2.0 + (1-x[:1])**2.0)"
   ]
  },
  {
   "cell_type": "code",
   "execution_count": 17,
   "metadata": {
    "collapsed": true
   },
   "outputs": [],
   "source": [
    "def rosen_der(x):\n",
    "   xm = x[1:-1]\n",
    "   xm_m1 = x[:-2]\n",
    "   xm_p1 = x[2:]\n",
    "   der = np.zeros_like(x)\n",
    "   der[1:-1] = 200*(xm-xm_m1**2) - 400*(xm_p1 - xm**2)*xm - 2*(1-xm)\n",
    "   der[0] = -400*x[0]*(x[1]-x[0]**2) - 2*(1-x[0])\n",
    "   der[-1] = 200*(x[-1]-x[-2]**2)\n",
    "   return der"
   ]
  },
  {
   "cell_type": "code",
   "execution_count": 18,
   "metadata": {
    "collapsed": true
   },
   "outputs": [],
   "source": [
    "x0 = np.array([1.3, 0.7, 0.8, 1.9, 1.2])"
   ]
  },
  {
   "cell_type": "code",
   "execution_count": 19,
   "metadata": {
    "collapsed": false
   },
   "outputs": [
    {
     "name": "stdout",
     "output_type": "stream",
     "text": [
      "Warning: Desired error not necessarily achieved due to precision loss.\n",
      "         Current function value: 0.004375\n",
      "         Iterations: 11\n",
      "         Function evaluations: 60\n",
      "         Gradient evaluations: 48\n"
     ]
    }
   ],
   "source": [
    "res = fmin_bfgs(rosen, x0, fprime=rosen_der)"
   ]
  },
  {
   "cell_type": "code",
   "execution_count": 20,
   "metadata": {
    "collapsed": false
   },
   "outputs": [
    {
     "name": "stdout",
     "output_type": "stream",
     "text": [
      "[ 0.96718533  0.93491937  0.8737073   0.76378102  0.58305352]\n"
     ]
    }
   ],
   "source": [
    "print res"
   ]
  },
  {
   "cell_type": "code",
   "execution_count": 31,
   "metadata": {
    "collapsed": true
   },
   "outputs": [],
   "source": [
    "def f(x):\n",
    "    return -(f1(x[0]) + f2(x[1]))  # -ve sign for maximization\n",
    "\n",
    "\n",
    "def f1(x):\n",
    "    return tanh(x)\n",
    "\n",
    "\n",
    "def f2(x):\n",
    "    return (10 ** (0.2 * x))\n",
    "\n",
    "# Starting point\n",
    "x0 = [1., 1.]\n",
    "\n",
    "# Bounds\n",
    "xmin = [1., 1.]\n",
    "xmax = [2., 2.]\n",
    "\n",
    "\n",
    "# rewrite the bounds in the way required by L-BFGS-B\n",
    "bounds = [(low, high) for low, high in zip(xmin, xmax)]"
   ]
  },
  {
   "cell_type": "code",
   "execution_count": 32,
   "metadata": {
    "collapsed": true
   },
   "outputs": [],
   "source": [
    "minimizer_kwargs = dict(method=\"L-BFGS-B\", bounds=bounds)"
   ]
  },
  {
   "cell_type": "code",
   "execution_count": 33,
   "metadata": {
    "collapsed": false
   },
   "outputs": [],
   "source": [
    "result = basinhopping(f,\n",
    "                      x0,\n",
    "                      minimizer_kwargs=minimizer_kwargs,\n",
    "                      niter=200)"
   ]
  },
  {
   "cell_type": "code",
   "execution_count": 34,
   "metadata": {
    "collapsed": false
   },
   "outputs": [
    {
     "data": {
      "text/plain": [
       "array([ 2.,  2.])"
      ]
     },
     "execution_count": 34,
     "metadata": {},
     "output_type": "execute_result"
    }
   ],
   "source": [
    "result.x"
   ]
  },
  {
   "cell_type": "code",
   "execution_count": 35,
   "metadata": {
    "collapsed": true
   },
   "outputs": [],
   "source": [
    "def constraint1(x):\n",
    "  return 6 - x[0]\n",
    "\n",
    "def constraint2(x):\n",
    "  return 6 - x[0] - x[1]\n",
    "\n",
    "def constraint3(x):\n",
    "  return x[0] - 1"
   ]
  },
  {
   "cell_type": "code",
   "execution_count": 36,
   "metadata": {
    "collapsed": true
   },
   "outputs": [],
   "source": [
    "c1={\"type\":\"ineq\",\"fun\":constraint1}\n",
    "c2={\"type\":\"ineq\",\"fun\":constraint2}\n",
    "c3={\"type\":\"ineq\",\"fun\":constraint3}\n",
    "minimizer_kwargs = dict(method=\"COBYLA\",constraints=(c1,c2,c3))"
   ]
  },
  {
   "cell_type": "code",
   "execution_count": 37,
   "metadata": {
    "collapsed": true
   },
   "outputs": [],
   "source": [
    "result = basinhopping(f,\n",
    "                      x0,\n",
    "                      minimizer_kwargs=minimizer_kwargs,\n",
    "                      niter=200)"
   ]
  },
  {
   "cell_type": "code",
   "execution_count": 38,
   "metadata": {
    "collapsed": false
   },
   "outputs": [
    {
     "data": {
      "text/plain": [
       "array([ 1.,  5.])"
      ]
     },
     "execution_count": 38,
     "metadata": {},
     "output_type": "execute_result"
    }
   ],
   "source": [
    "result.x"
   ]
  },
  {
   "cell_type": "code",
   "execution_count": null,
   "metadata": {
    "collapsed": true
   },
   "outputs": [],
   "source": []
  }
 ],
 "metadata": {
  "anaconda-cloud": {},
  "kernelspec": {
   "display_name": "Python [default]",
   "language": "python",
   "name": "python2"
  },
  "language_info": {
   "codemirror_mode": {
    "name": "ipython",
    "version": 2
   },
   "file_extension": ".py",
   "mimetype": "text/x-python",
   "name": "python",
   "nbconvert_exporter": "python",
   "pygments_lexer": "ipython2",
   "version": "2.7.12"
  }
 },
 "nbformat": 4,
 "nbformat_minor": 1
}
