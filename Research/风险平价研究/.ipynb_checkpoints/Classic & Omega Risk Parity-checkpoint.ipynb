{
 "cells": [
  {
   "cell_type": "code",
   "execution_count": 1,
   "metadata": {
    "collapsed": true
   },
   "outputs": [],
   "source": [
    "import pandas as pd\n",
    "import numpy as np\n",
    "import matplotlib.pyplot as plt\n",
    "import seaborn as sns\n",
    "import os\n",
    "import datetime\n",
    "from scipy.optimize import minimize, basinhopping\n",
    "from sklearn import preprocessing\n",
    "import pyfolio as pf\n",
    "%matplotlib inline"
   ]
  },
  {
   "cell_type": "code",
   "execution_count": 2,
   "metadata": {
    "collapsed": true
   },
   "outputs": [],
   "source": [
    "DATA_DIR = 'C:/Users/jgtzsx01/Documents/workspace/zjsxzy_in_js/Research/data/'"
   ]
  },
  {
   "cell_type": "code",
   "execution_count": 3,
   "metadata": {
    "collapsed": true
   },
   "outputs": [],
   "source": [
    "fname = '%s/assets.xlsx'%(DATA_DIR)"
   ]
  },
  {
   "cell_type": "code",
   "execution_count": 4,
   "metadata": {
    "collapsed": true
   },
   "outputs": [],
   "source": [
    "odf = pd.read_excel(fname, index_col=0)"
   ]
  },
  {
   "cell_type": "code",
   "execution_count": 5,
   "metadata": {
    "collapsed": false
   },
   "outputs": [
    {
     "data": {
      "text/html": [
       "<div>\n",
       "<table border=\"1\" class=\"dataframe\">\n",
       "  <thead>\n",
       "    <tr style=\"text-align: right;\">\n",
       "      <th></th>\n",
       "      <th>881001.WI</th>\n",
       "      <th>HSI.HI</th>\n",
       "      <th>SPX.GI</th>\n",
       "      <th>065.CS</th>\n",
       "      <th>AU9999.SGE</th>\n",
       "      <th>B.IPE</th>\n",
       "      <th>H11025.CSI</th>\n",
       "    </tr>\n",
       "  </thead>\n",
       "  <tbody>\n",
       "    <tr>\n",
       "      <th>2007-01-04</th>\n",
       "      <td>1461.2643</td>\n",
       "      <td>20025.58</td>\n",
       "      <td>1418.34</td>\n",
       "      <td>116.1885</td>\n",
       "      <td>158.58</td>\n",
       "      <td>0.0</td>\n",
       "      <td>1019.2584</td>\n",
       "    </tr>\n",
       "    <tr>\n",
       "      <th>2007-01-05</th>\n",
       "      <td>1474.4288</td>\n",
       "      <td>20211.28</td>\n",
       "      <td>1409.71</td>\n",
       "      <td>116.2254</td>\n",
       "      <td>156.94</td>\n",
       "      <td>0.0</td>\n",
       "      <td>1019.3131</td>\n",
       "    </tr>\n",
       "    <tr>\n",
       "      <th>2007-01-08</th>\n",
       "      <td>1522.0564</td>\n",
       "      <td>20029.66</td>\n",
       "      <td>1412.84</td>\n",
       "      <td>116.2289</td>\n",
       "      <td>153.72</td>\n",
       "      <td>0.0</td>\n",
       "      <td>1019.4650</td>\n",
       "    </tr>\n",
       "    <tr>\n",
       "      <th>2007-01-09</th>\n",
       "      <td>1564.7432</td>\n",
       "      <td>19898.08</td>\n",
       "      <td>1412.11</td>\n",
       "      <td>116.2638</td>\n",
       "      <td>154.45</td>\n",
       "      <td>0.0</td>\n",
       "      <td>1019.5195</td>\n",
       "    </tr>\n",
       "    <tr>\n",
       "      <th>2007-01-10</th>\n",
       "      <td>1603.9025</td>\n",
       "      <td>19568.34</td>\n",
       "      <td>1414.85</td>\n",
       "      <td>116.2990</td>\n",
       "      <td>154.34</td>\n",
       "      <td>0.0</td>\n",
       "      <td>1019.5750</td>\n",
       "    </tr>\n",
       "  </tbody>\n",
       "</table>\n",
       "</div>"
      ],
      "text/plain": [
       "            881001.WI    HSI.HI   SPX.GI    065.CS  AU9999.SGE  B.IPE  \\\n",
       "2007-01-04  1461.2643  20025.58  1418.34  116.1885      158.58    0.0   \n",
       "2007-01-05  1474.4288  20211.28  1409.71  116.2254      156.94    0.0   \n",
       "2007-01-08  1522.0564  20029.66  1412.84  116.2289      153.72    0.0   \n",
       "2007-01-09  1564.7432  19898.08  1412.11  116.2638      154.45    0.0   \n",
       "2007-01-10  1603.9025  19568.34  1414.85  116.2990      154.34    0.0   \n",
       "\n",
       "            H11025.CSI  \n",
       "2007-01-04   1019.2584  \n",
       "2007-01-05   1019.3131  \n",
       "2007-01-08   1019.4650  \n",
       "2007-01-09   1019.5195  \n",
       "2007-01-10   1019.5750  "
      ]
     },
     "execution_count": 5,
     "metadata": {},
     "output_type": "execute_result"
    }
   ],
   "source": [
    "odf.head()"
   ]
  },
  {
   "cell_type": "code",
   "execution_count": 6,
   "metadata": {
    "collapsed": true
   },
   "outputs": [],
   "source": [
    " # 风险预算优化\n",
    "def calculate_portfolio_var(w, V):\n",
    "    # 计算组合风险的函数\n",
    "    return w.dot(V).dot(w)\n",
    "def calculate_risk_contribution(w ,V):\n",
    "    # 边际风险贡献\n",
    "    MRC = V.dot(w)\n",
    "    # 风险贡献\n",
    "    RC = w * MRC\n",
    "    return RC\n",
    "def risk_budget_objective(x, pars):\n",
    "    # 计算组合风险\n",
    "    V = pars[0]# 协方差矩阵\n",
    "    MRC = V.dot(x)\n",
    "    ARC = x * MRC\n",
    "    J = np.sum([(i-j)**2 for i in ARC for j in ARC])\n",
    "#     J = x.dot(MRC) - np.log(x).sum()\n",
    "#     J = calculate_portfolio_var(x, V) - np.log(x).sum()\n",
    "#     J = sum(np.square(asset_RC - risk_target.T))[0, 0] # sum of squared error\n",
    "#     J = np.abs(asset_RC.max() - asset_RC.min())\n",
    "    return J\n",
    "def total_weight_constraint(x):\n",
    "    return np.sum(x) - 1.0\n",
    "def long_only_constraint(x):\n",
    "    return x"
   ]
  },
  {
   "cell_type": "code",
   "execution_count": 7,
   "metadata": {
    "collapsed": true
   },
   "outputs": [],
   "source": [
    "# 根据资产预期目标风险贡献度来计算各资产的权重\n",
    "def calcu_w(V):\n",
    "    N = V.shape[0]\n",
    "    w0 = np.random.random_sample((N,))\n",
    "    w0 /= w0.sum()\n",
    "    cons = ({'type': 'eq', 'fun': total_weight_constraint},\n",
    "            {'type': 'ineq', 'fun': long_only_constraint})\n",
    "    minimizer_args = {'method': 'SLSQP', 'args': [V], 'constraints': cons}\n",
    "#     minimizer_args = {'method': 'L-BFGS-B', 'args': [V], 'bounds': np.array([(0., None)]*N)}\n",
    "#     weight = res.x / res.x.sum()\n",
    "    res = basinhopping(risk_budget_objective, w0, stepsize=1e-8, minimizer_kwargs=minimizer_args)\n",
    "#     res = minimize(risk_budget_objective, w0, args=[V], method='SLSQP',constraints=cons)\n",
    "    return res.x"
   ]
  },
  {
   "cell_type": "code",
   "execution_count": 8,
   "metadata": {
    "collapsed": true
   },
   "outputs": [],
   "source": [
    "def metric(daily_ret):\n",
    "    an_ret = pf.empyrical.annual_return(daily_ret)\n",
    "    sharpe = pf.empyrical.sharpe_ratio(daily_ret)\n",
    "    vol = pf.empyrical.annual_volatility(daily_ret)\n",
    "    maxdraw = pf.empyrical.max_drawdown(daily_ret)\n",
    "    print 'Annual return: %.2f%%'%(an_ret*100)\n",
    "    print 'Sharpe ratio: %.2f'%(sharpe)\n",
    "    print 'Annual volatility: %.2f%%'%(vol*100)\n",
    "    print 'Max drawdown: %.2f%%'%(maxdraw*100)"
   ]
  },
  {
   "cell_type": "markdown",
   "metadata": {},
   "source": [
    "# Volatility risk parity"
   ]
  },
  {
   "cell_type": "code",
   "execution_count": 9,
   "metadata": {
    "collapsed": true
   },
   "outputs": [],
   "source": [
    "df = odf[['881001.WI', 'HSI.HI', 'SPX.GI', '065.CS', 'AU9999.SGE']]"
   ]
  },
  {
   "cell_type": "code",
   "execution_count": 10,
   "metadata": {
    "collapsed": false
   },
   "outputs": [
    {
     "data": {
      "text/html": [
       "<div>\n",
       "<table border=\"1\" class=\"dataframe\">\n",
       "  <thead>\n",
       "    <tr style=\"text-align: right;\">\n",
       "      <th></th>\n",
       "      <th>881001.WI</th>\n",
       "      <th>HSI.HI</th>\n",
       "      <th>SPX.GI</th>\n",
       "      <th>065.CS</th>\n",
       "      <th>AU9999.SGE</th>\n",
       "    </tr>\n",
       "  </thead>\n",
       "  <tbody>\n",
       "    <tr>\n",
       "      <th>2007-01-04</th>\n",
       "      <td>1461.2643</td>\n",
       "      <td>20025.58</td>\n",
       "      <td>1418.34</td>\n",
       "      <td>116.1885</td>\n",
       "      <td>158.58</td>\n",
       "    </tr>\n",
       "    <tr>\n",
       "      <th>2007-01-05</th>\n",
       "      <td>1474.4288</td>\n",
       "      <td>20211.28</td>\n",
       "      <td>1409.71</td>\n",
       "      <td>116.2254</td>\n",
       "      <td>156.94</td>\n",
       "    </tr>\n",
       "    <tr>\n",
       "      <th>2007-01-08</th>\n",
       "      <td>1522.0564</td>\n",
       "      <td>20029.66</td>\n",
       "      <td>1412.84</td>\n",
       "      <td>116.2289</td>\n",
       "      <td>153.72</td>\n",
       "    </tr>\n",
       "    <tr>\n",
       "      <th>2007-01-09</th>\n",
       "      <td>1564.7432</td>\n",
       "      <td>19898.08</td>\n",
       "      <td>1412.11</td>\n",
       "      <td>116.2638</td>\n",
       "      <td>154.45</td>\n",
       "    </tr>\n",
       "    <tr>\n",
       "      <th>2007-01-10</th>\n",
       "      <td>1603.9025</td>\n",
       "      <td>19568.34</td>\n",
       "      <td>1414.85</td>\n",
       "      <td>116.2990</td>\n",
       "      <td>154.34</td>\n",
       "    </tr>\n",
       "  </tbody>\n",
       "</table>\n",
       "</div>"
      ],
      "text/plain": [
       "            881001.WI    HSI.HI   SPX.GI    065.CS  AU9999.SGE\n",
       "2007-01-04  1461.2643  20025.58  1418.34  116.1885      158.58\n",
       "2007-01-05  1474.4288  20211.28  1409.71  116.2254      156.94\n",
       "2007-01-08  1522.0564  20029.66  1412.84  116.2289      153.72\n",
       "2007-01-09  1564.7432  19898.08  1412.11  116.2638      154.45\n",
       "2007-01-10  1603.9025  19568.34  1414.85  116.2990      154.34"
      ]
     },
     "execution_count": 10,
     "metadata": {},
     "output_type": "execute_result"
    }
   ],
   "source": [
    "df.head()"
   ]
  },
  {
   "cell_type": "code",
   "execution_count": 11,
   "metadata": {
    "collapsed": true
   },
   "outputs": [],
   "source": [
    "ret_df = df.pct_change().dropna()"
   ]
  },
  {
   "cell_type": "code",
   "execution_count": 12,
   "metadata": {
    "collapsed": true
   },
   "outputs": [],
   "source": [
    "months = pd.Series(ret_df.index.map(lambda x: (x.year, x.month)), index=ret_df.index)\n",
    "rebalance_dates = months.drop_duplicates(keep='last').index"
   ]
  },
  {
   "cell_type": "code",
   "execution_count": 13,
   "metadata": {
    "collapsed": false
   },
   "outputs": [
    {
     "data": {
      "text/plain": [
       "DatetimeIndex(['2007-01-31', '2007-02-28', '2007-03-30', '2007-04-30',\n",
       "               '2007-05-31', '2007-06-29', '2007-07-31', '2007-08-31',\n",
       "               '2007-09-28', '2007-10-31',\n",
       "               ...\n",
       "               '2016-10-31', '2016-11-30', '2016-12-30', '2017-01-26',\n",
       "               '2017-02-28', '2017-03-31', '2017-04-28', '2017-05-31',\n",
       "               '2017-06-30', '2017-07-31'],\n",
       "              dtype='datetime64[ns]', length=127, freq=None)"
      ]
     },
     "execution_count": 13,
     "metadata": {},
     "output_type": "execute_result"
    }
   ],
   "source": [
    "rebalance_dates"
   ]
  },
  {
   "cell_type": "code",
   "execution_count": 14,
   "metadata": {
    "collapsed": false
   },
   "outputs": [],
   "source": [
    "weight = pd.DataFrame(columns=ret_df.columns, index=ret_df.index)\n",
    "wb = np.zeros(ret_df.shape[1])\n",
    "for date in ret_df.index:\n",
    "    weight.loc[date] = wb\n",
    "    if date in rebalance_dates:\n",
    "        past_return = ret_df[ret_df.index <= date][-242:]\n",
    "        if past_return.shape[0] < 242:\n",
    "            continue\n",
    "        cov = past_return.cov()\n",
    "        wb = calcu_w(cov*10000)"
   ]
  },
  {
   "cell_type": "code",
   "execution_count": 15,
   "metadata": {
    "collapsed": false
   },
   "outputs": [
    {
     "data": {
      "text/html": [
       "<div>\n",
       "<table border=\"1\" class=\"dataframe\">\n",
       "  <thead>\n",
       "    <tr style=\"text-align: right;\">\n",
       "      <th></th>\n",
       "      <th>881001.WI</th>\n",
       "      <th>HSI.HI</th>\n",
       "      <th>SPX.GI</th>\n",
       "      <th>065.CS</th>\n",
       "      <th>AU9999.SGE</th>\n",
       "    </tr>\n",
       "  </thead>\n",
       "  <tbody>\n",
       "    <tr>\n",
       "      <th>2007-01-05</th>\n",
       "      <td>0</td>\n",
       "      <td>0</td>\n",
       "      <td>0</td>\n",
       "      <td>0</td>\n",
       "      <td>0</td>\n",
       "    </tr>\n",
       "    <tr>\n",
       "      <th>2008-02-01</th>\n",
       "      <td>0.01568</td>\n",
       "      <td>0.0169442</td>\n",
       "      <td>0.0427437</td>\n",
       "      <td>0.880925</td>\n",
       "      <td>0.0437077</td>\n",
       "    </tr>\n",
       "    <tr>\n",
       "      <th>2008-03-03</th>\n",
       "      <td>0.00866337</td>\n",
       "      <td>0.00709055</td>\n",
       "      <td>4.45554e-10</td>\n",
       "      <td>0.959578</td>\n",
       "      <td>0.0246678</td>\n",
       "    </tr>\n",
       "    <tr>\n",
       "      <th>2008-04-01</th>\n",
       "      <td>0.00949087</td>\n",
       "      <td>0.0058282</td>\n",
       "      <td>-1.12266e-08</td>\n",
       "      <td>0.966238</td>\n",
       "      <td>0.0184434</td>\n",
       "    </tr>\n",
       "    <tr>\n",
       "      <th>2008-05-05</th>\n",
       "      <td>0.0119565</td>\n",
       "      <td>0.010379</td>\n",
       "      <td>0.0227081</td>\n",
       "      <td>0.954956</td>\n",
       "      <td>1.21929e-08</td>\n",
       "    </tr>\n",
       "  </tbody>\n",
       "</table>\n",
       "</div>"
      ],
      "text/plain": [
       "             881001.WI      HSI.HI       SPX.GI    065.CS   AU9999.SGE\n",
       "2007-01-05           0           0            0         0            0\n",
       "2008-02-01     0.01568   0.0169442    0.0427437  0.880925    0.0437077\n",
       "2008-03-03  0.00866337  0.00709055  4.45554e-10  0.959578    0.0246678\n",
       "2008-04-01  0.00949087   0.0058282 -1.12266e-08  0.966238    0.0184434\n",
       "2008-05-05   0.0119565    0.010379    0.0227081  0.954956  1.21929e-08"
      ]
     },
     "execution_count": 15,
     "metadata": {},
     "output_type": "execute_result"
    }
   ],
   "source": [
    "weight.drop_duplicates().head()"
   ]
  },
  {
   "cell_type": "code",
   "execution_count": 16,
   "metadata": {
    "collapsed": true
   },
   "outputs": [],
   "source": [
    "# weight.drop_duplicates().to_excel('/Users/zhangyang/Desktop/weight.xlsx')"
   ]
  },
  {
   "cell_type": "code",
   "execution_count": 17,
   "metadata": {
    "collapsed": true
   },
   "outputs": [],
   "source": [
    "portfolio_ret1 = (weight * ret_df).sum(axis=1)"
   ]
  },
  {
   "cell_type": "code",
   "execution_count": 18,
   "metadata": {
    "collapsed": true
   },
   "outputs": [],
   "source": [
    "portfolio_ret1 = portfolio_ret1[portfolio_ret1 != 0]"
   ]
  },
  {
   "cell_type": "code",
   "execution_count": 19,
   "metadata": {
    "collapsed": false
   },
   "outputs": [
    {
     "name": "stdout",
     "output_type": "stream",
     "text": [
      "Annual return: 5.17%\n",
      "Sharpe ratio: 2.22\n",
      "Annual volatility: 2.28%\n",
      "Max drawdown: -3.69%\n"
     ]
    }
   ],
   "source": [
    "metric(portfolio_ret1)"
   ]
  },
  {
   "cell_type": "code",
   "execution_count": 20,
   "metadata": {
    "collapsed": false
   },
   "outputs": [],
   "source": [
    "# (1+portfolio_ret1).cumprod().to_csv('nav.csv')"
   ]
  },
  {
   "cell_type": "code",
   "execution_count": 37,
   "metadata": {
    "collapsed": false
   },
   "outputs": [
    {
     "data": {
      "text/plain": [
       "<matplotlib.legend.Legend at 0xb9c62f0>"
      ]
     },
     "execution_count": 37,
     "metadata": {},
     "output_type": "execute_result"
    },
    {
     "data": {
      "image/png": "[encoded data removed]",
      "text/plain": [
       "<matplotlib.figure.Figure at 0xba7f2b0>"
      ]
     },
     "metadata": {},
     "output_type": "display_data"
    }
   ],
   "source": [
    "plt.figure(figsize=(16, 9))\n",
    "plt.plot((1+portfolio_ret1).cumprod(), label='portfolio 1')\n",
    "plt.legend()"
   ]
  },
  {
   "cell_type": "markdown",
   "metadata": {},
   "source": [
    "# Omega risk parity"
   ]
  },
  {
   "cell_type": "code",
   "execution_count": 46,
   "metadata": {
    "collapsed": true
   },
   "outputs": [],
   "source": [
    "weight = pd.DataFrame(columns=ret_df.columns, index=ret_df.index)\n",
    "wb = np.zeros(ret_df.shape[1])\n",
    "for date in ret_df.index:\n",
    "    weight.loc[date] = wb\n",
    "    if date in rebalance_dates:\n",
    "        past_return = ret_df[ret_df.index <= date][-121:]\n",
    "        if past_return.shape[0] < 121:\n",
    "            continue\n",
    "        risk_free = 0\n",
    "        wb = 1. / -past_return[past_return < risk_free].sum()\n",
    "        wb /= wb.sum()"
   ]
  },
  {
   "cell_type": "code",
   "execution_count": 47,
   "metadata": {
    "collapsed": false
   },
   "outputs": [
    {
     "data": {
      "text/html": [
       "<div>\n",
       "<table border=\"1\" class=\"dataframe\">\n",
       "  <thead>\n",
       "    <tr style=\"text-align: right;\">\n",
       "      <th></th>\n",
       "      <th>881001.WI</th>\n",
       "      <th>HSI.HI</th>\n",
       "      <th>SPX.GI</th>\n",
       "      <th>065.CS</th>\n",
       "      <th>AU9999.SGE</th>\n",
       "    </tr>\n",
       "  </thead>\n",
       "  <tbody>\n",
       "    <tr>\n",
       "      <th>2007-01-05</th>\n",
       "      <td>0</td>\n",
       "      <td>0</td>\n",
       "      <td>0</td>\n",
       "      <td>0</td>\n",
       "      <td>0</td>\n",
       "    </tr>\n",
       "    <tr>\n",
       "      <th>2007-08-01</th>\n",
       "      <td>0.0177984</td>\n",
       "      <td>0.0387439</td>\n",
       "      <td>0.0468587</td>\n",
       "      <td>0.850556</td>\n",
       "      <td>0.0460432</td>\n",
       "    </tr>\n",
       "    <tr>\n",
       "      <th>2007-09-03</th>\n",
       "      <td>0.0188748</td>\n",
       "      <td>0.0332137</td>\n",
       "      <td>0.0381865</td>\n",
       "      <td>0.861101</td>\n",
       "      <td>0.0486241</td>\n",
       "    </tr>\n",
       "    <tr>\n",
       "      <th>2007-10-08</th>\n",
       "      <td>0.0214032</td>\n",
       "      <td>0.0430412</td>\n",
       "      <td>0.0462325</td>\n",
       "      <td>0.828124</td>\n",
       "      <td>0.0611996</td>\n",
       "    </tr>\n",
       "    <tr>\n",
       "      <th>2007-11-01</th>\n",
       "      <td>0.0205044</td>\n",
       "      <td>0.0415589</td>\n",
       "      <td>0.0434919</td>\n",
       "      <td>0.831427</td>\n",
       "      <td>0.0630176</td>\n",
       "    </tr>\n",
       "  </tbody>\n",
       "</table>\n",
       "</div>"
      ],
      "text/plain": [
       "            881001.WI     HSI.HI     SPX.GI    065.CS AU9999.SGE\n",
       "2007-01-05          0          0          0         0          0\n",
       "2007-08-01  0.0177984  0.0387439  0.0468587  0.850556  0.0460432\n",
       "2007-09-03  0.0188748  0.0332137  0.0381865  0.861101  0.0486241\n",
       "2007-10-08  0.0214032  0.0430412  0.0462325  0.828124  0.0611996\n",
       "2007-11-01  0.0205044  0.0415589  0.0434919  0.831427  0.0630176"
      ]
     },
     "execution_count": 47,
     "metadata": {},
     "output_type": "execute_result"
    }
   ],
   "source": [
    "weight.drop_duplicates().head()"
   ]
  },
  {
   "cell_type": "code",
   "execution_count": 48,
   "metadata": {
    "collapsed": true
   },
   "outputs": [],
   "source": [
    "# weight.drop_duplicates().to_excel('/Users/zhangyang/Desktop/weight.xlsx')"
   ]
  },
  {
   "cell_type": "code",
   "execution_count": 49,
   "metadata": {
    "collapsed": true
   },
   "outputs": [],
   "source": [
    "portfolio_ret2 = (weight * ret_df).sum(axis=1)"
   ]
  },
  {
   "cell_type": "code",
   "execution_count": 50,
   "metadata": {
    "collapsed": true
   },
   "outputs": [],
   "source": [
    "portfolio_ret2 = portfolio_ret2[portfolio_ret2 != 0]"
   ]
  },
  {
   "cell_type": "code",
   "execution_count": 51,
   "metadata": {
    "collapsed": false
   },
   "outputs": [
    {
     "name": "stdout",
     "output_type": "stream",
     "text": [
      "Annual return: 5.51%\n",
      "Sharpe ratio: 2.62\n",
      "Annual volatility: 2.05%\n",
      "Max drawdown: -3.19%\n"
     ]
    }
   ],
   "source": [
    "metric(portfolio_ret2)"
   ]
  },
  {
   "cell_type": "code",
   "execution_count": 52,
   "metadata": {
    "collapsed": true
   },
   "outputs": [],
   "source": [
    "# (1+portfolio_ret2).cumprod().to_csv('nav.csv')"
   ]
  },
  {
   "cell_type": "code",
   "execution_count": 53,
   "metadata": {
    "collapsed": false
   },
   "outputs": [
    {
     "data": {
      "text/plain": [
       "<matplotlib.legend.Legend at 0x10920170>"
      ]
     },
     "execution_count": 53,
     "metadata": {},
     "output_type": "execute_result"
    },
    {
     "data": {
      "image/png": "[encoded data removed]",
      "text/plain": [
       "<matplotlib.figure.Figure at 0xba8ee70>"
      ]
     },
     "metadata": {},
     "output_type": "display_data"
    }
   ],
   "source": [
    "plt.figure(figsize=(16, 9))\n",
    "plt.plot((1+portfolio_ret1).cumprod(), label='risk parity')\n",
    "plt.plot((1+portfolio_ret2).cumprod(), label='omega parity')\n",
    "plt.legend()"
   ]
  },
  {
   "cell_type": "markdown",
   "metadata": {},
   "source": [
    "# Volatility & Omega risk parity"
   ]
  },
  {
   "cell_type": "code",
   "execution_count": 73,
   "metadata": {
    "collapsed": true
   },
   "outputs": [],
   "source": [
    "def risk_budget_objective_omega(x, pars):\n",
    "    # 计算组合风险\n",
    "    V = pars[0]# 协方差矩阵\n",
    "    Omega = pars[1]\n",
    "    MRC = V.dot(x)\n",
    "    ARC = x * (MRC + Omega)\n",
    "#     print ARC\n",
    "    J = np.sum([(i-j)**2 for i in ARC for j in ARC])\n",
    "#     J = x.dot(MRC) - np.log(x).sum()\n",
    "#     J = calculate_portfolio_var(x, V) - np.log(x).sum()\n",
    "#     J = sum(np.square(asset_RC - risk_target.T))[0, 0] # sum of squared error\n",
    "#     J = np.abs(asset_RC.max() - asset_RC.min())\n",
    "    return J"
   ]
  },
  {
   "cell_type": "code",
   "execution_count": 74,
   "metadata": {
    "collapsed": true
   },
   "outputs": [],
   "source": [
    "# 根据资产预期目标风险贡献度来计算各资产的权重\n",
    "def calcu_w_omega(V, Omega):\n",
    "    N = V.shape[0]\n",
    "    w0 = np.random.random_sample((N,))\n",
    "    w0 /= w0.sum()\n",
    "    cons = ({'type': 'eq', 'fun': total_weight_constraint},\n",
    "            {'type': 'ineq', 'fun': long_only_constraint})\n",
    "    minimizer_args = {'method': 'SLSQP', 'args': [V, Omega], 'constraints': cons}\n",
    "#     minimizer_args = {'method': 'L-BFGS-B', 'args': [V, Omega], 'bounds': np.array([(0., None)]*N)}\n",
    "#     weight = res.x / res.x.sum()\n",
    "    res = basinhopping(risk_budget_objective_omega, w0, stepsize=1e-8, minimizer_kwargs=minimizer_args)\n",
    "#     res = minimize(risk_budget_objective, w0, args=[V], method='SLSQP',constraints=cons)\n",
    "    return res.x / res.x.sum()"
   ]
  },
  {
   "cell_type": "code",
   "execution_count": 94,
   "metadata": {
    "collapsed": false,
    "scrolled": false
   },
   "outputs": [],
   "source": [
    "weight = pd.DataFrame(columns=ret_df.columns, index=ret_df.index)\n",
    "wb = np.zeros(ret_df.shape[1])\n",
    "for date in ret_df.index:\n",
    "    weight.loc[date] = wb\n",
    "    if date in rebalance_dates:\n",
    "        past_return = ret_df[ret_df.index <= date][-242:]\n",
    "        if past_return.shape[0] < 242:\n",
    "            continue\n",
    "        cov = past_return.cov()\n",
    "#         past_return = ret_df[ret_df.index <= date][-30:]\n",
    "        risk_free = 0\n",
    "        omega = -past_return[past_return < risk_free].sum()\n",
    "        wb = calcu_w_omega(cov*10000, omega)\n",
    "#         print (cov*100000).dot(wb)\n",
    "#         print omega\n",
    "#         print ((cov*10000).dot(wb) + omega) * wb\n",
    "#         break"
   ]
  },
  {
   "cell_type": "code",
   "execution_count": 95,
   "metadata": {
    "collapsed": false
   },
   "outputs": [
    {
     "data": {
      "text/html": [
       "<div>\n",
       "<table border=\"1\" class=\"dataframe\">\n",
       "  <thead>\n",
       "    <tr style=\"text-align: right;\">\n",
       "      <th></th>\n",
       "      <th>881001.WI</th>\n",
       "      <th>HSI.HI</th>\n",
       "      <th>SPX.GI</th>\n",
       "      <th>065.CS</th>\n",
       "      <th>AU9999.SGE</th>\n",
       "    </tr>\n",
       "  </thead>\n",
       "  <tbody>\n",
       "    <tr>\n",
       "      <th>2017-03-01</th>\n",
       "      <td>0.0555235</td>\n",
       "      <td>0.0589831</td>\n",
       "      <td>0.106463</td>\n",
       "      <td>0.708677</td>\n",
       "      <td>0.0703538</td>\n",
       "    </tr>\n",
       "    <tr>\n",
       "      <th>2017-04-05</th>\n",
       "      <td>0.0612558</td>\n",
       "      <td>0.061769</td>\n",
       "      <td>0.109107</td>\n",
       "      <td>0.690749</td>\n",
       "      <td>0.0771195</td>\n",
       "    </tr>\n",
       "    <tr>\n",
       "      <th>2017-05-02</th>\n",
       "      <td>0.061781</td>\n",
       "      <td>0.0604059</td>\n",
       "      <td>0.107801</td>\n",
       "      <td>0.694598</td>\n",
       "      <td>0.0754137</td>\n",
       "    </tr>\n",
       "    <tr>\n",
       "      <th>2017-06-01</th>\n",
       "      <td>0.0692175</td>\n",
       "      <td>0.0700079</td>\n",
       "      <td>0.117023</td>\n",
       "      <td>0.660681</td>\n",
       "      <td>0.0830703</td>\n",
       "    </tr>\n",
       "    <tr>\n",
       "      <th>2017-07-03</th>\n",
       "      <td>0.0723096</td>\n",
       "      <td>0.0744093</td>\n",
       "      <td>0.132501</td>\n",
       "      <td>0.640501</td>\n",
       "      <td>0.0802795</td>\n",
       "    </tr>\n",
       "  </tbody>\n",
       "</table>\n",
       "</div>"
      ],
      "text/plain": [
       "            881001.WI     HSI.HI    SPX.GI    065.CS AU9999.SGE\n",
       "2017-03-01  0.0555235  0.0589831  0.106463  0.708677  0.0703538\n",
       "2017-04-05  0.0612558   0.061769  0.109107  0.690749  0.0771195\n",
       "2017-05-02   0.061781  0.0604059  0.107801  0.694598  0.0754137\n",
       "2017-06-01  0.0692175  0.0700079  0.117023  0.660681  0.0830703\n",
       "2017-07-03  0.0723096  0.0744093  0.132501  0.640501  0.0802795"
      ]
     },
     "execution_count": 95,
     "metadata": {},
     "output_type": "execute_result"
    }
   ],
   "source": [
    "weight.drop_duplicates().tail()"
   ]
  },
  {
   "cell_type": "code",
   "execution_count": 96,
   "metadata": {
    "collapsed": true
   },
   "outputs": [],
   "source": [
    "portfolio_ret3 = (weight * ret_df).sum(axis=1)"
   ]
  },
  {
   "cell_type": "code",
   "execution_count": 97,
   "metadata": {
    "collapsed": true
   },
   "outputs": [],
   "source": [
    "portfolio_ret3 = portfolio_ret3[portfolio_ret3 != 0]"
   ]
  },
  {
   "cell_type": "code",
   "execution_count": 98,
   "metadata": {
    "collapsed": false
   },
   "outputs": [
    {
     "name": "stdout",
     "output_type": "stream",
     "text": [
      "Annual return: 4.89%\n",
      "Sharpe ratio: 2.31\n",
      "Annual volatility: 2.07%\n",
      "Max drawdown: -3.35%\n"
     ]
    }
   ],
   "source": [
    "metric(portfolio_ret3)"
   ]
  },
  {
   "cell_type": "code",
   "execution_count": 99,
   "metadata": {
    "collapsed": false
   },
   "outputs": [
    {
     "data": {
      "text/plain": [
       "<matplotlib.legend.Legend at 0x11006fb0>"
      ]
     },
     "execution_count": 99,
     "metadata": {},
     "output_type": "execute_result"
    },
    {
     "data": {
      "image/png": "[encoded data removed]",
      "text/plain": [
       "<matplotlib.figure.Figure at 0x10f017f0>"
      ]
     },
     "metadata": {},
     "output_type": "display_data"
    }
   ],
   "source": [
    "plt.figure(figsize=(16, 9))\n",
    "plt.plot((1+portfolio_ret1).cumprod(), label='risk parity')\n",
    "# plt.plot((1+portfolio_ret2).cumprod(), label='omega parity')\n",
    "plt.plot((1+portfolio_ret3).cumprod(), label='vol&omega risk parity')\n",
    "plt.legend()"
   ]
  },
  {
   "cell_type": "code",
   "execution_count": null,
   "metadata": {
    "collapsed": true
   },
   "outputs": [],
   "source": []
  },
  {
   "cell_type": "code",
   "execution_count": null,
   "metadata": {
    "collapsed": true
   },
   "outputs": [],
   "source": []
  },
  {
   "cell_type": "code",
   "execution_count": null,
   "metadata": {
    "collapsed": true
   },
   "outputs": [],
   "source": []
  },
  {
   "cell_type": "code",
   "execution_count": null,
   "metadata": {
    "collapsed": true
   },
   "outputs": [],
   "source": []
  },
  {
   "cell_type": "code",
   "execution_count": null,
   "metadata": {
    "collapsed": true
   },
   "outputs": [],
   "source": []
  },
  {
   "cell_type": "code",
   "execution_count": null,
   "metadata": {
    "collapsed": true
   },
   "outputs": [],
   "source": []
  },
  {
   "cell_type": "code",
   "execution_count": null,
   "metadata": {
    "collapsed": true
   },
   "outputs": [],
   "source": []
  },
  {
   "cell_type": "code",
   "execution_count": null,
   "metadata": {
    "collapsed": true
   },
   "outputs": [],
   "source": []
  },
  {
   "cell_type": "code",
   "execution_count": null,
   "metadata": {
    "collapsed": true
   },
   "outputs": [],
   "source": []
  },
  {
   "cell_type": "code",
   "execution_count": null,
   "metadata": {
    "collapsed": true
   },
   "outputs": [],
   "source": []
  },
  {
   "cell_type": "code",
   "execution_count": null,
   "metadata": {
    "collapsed": true
   },
   "outputs": [],
   "source": []
  },
  {
   "cell_type": "code",
   "execution_count": null,
   "metadata": {
    "collapsed": true
   },
   "outputs": [],
   "source": []
  }
 ],
 "metadata": {
  "anaconda-cloud": {},
  "kernelspec": {
   "display_name": "Python 2",
   "language": "python",
   "name": "python2"
  },
  "language_info": {
   "codemirror_mode": {
    "name": "ipython",
    "version": 2
   },
   "file_extension": ".py",
   "mimetype": "text/x-python",
   "name": "python",
   "nbconvert_exporter": "python",
   "pygments_lexer": "ipython2",
   "version": "2.7.14"
  }
 },
 "nbformat": 4,
 "nbformat_minor": 2
}
