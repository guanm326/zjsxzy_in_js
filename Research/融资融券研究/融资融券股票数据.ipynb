{
 "cells": [
  {
   "cell_type": "code",
   "execution_count": 8,
   "metadata": {},
   "outputs": [],
   "source": [
    "import pandas as pd\n",
    "import numpy as np\n",
    "from WindPy import w\n",
    "import matplotlib.pyplot as plt\n",
    "%matplotlib inline"
   ]
  },
  {
   "cell_type": "code",
   "execution_count": 2,
   "metadata": {},
   "outputs": [],
   "source": [
    "df = pd.read_excel(u'D:/Data/list/融资融券标的.xlsx')"
   ]
  },
  {
   "cell_type": "code",
   "execution_count": 3,
   "metadata": {},
   "outputs": [
    {
     "data": {
      "text/html": [
       "<div>\n",
       "<style scoped>\n",
       "    .dataframe tbody tr th:only-of-type {\n",
       "        vertical-align: middle;\n",
       "    }\n",
       "\n",
       "    .dataframe tbody tr th {\n",
       "        vertical-align: top;\n",
       "    }\n",
       "\n",
       "    .dataframe thead th {\n",
       "        text-align: right;\n",
       "    }\n",
       "</style>\n",
       "<table border=\"1\" class=\"dataframe\">\n",
       "  <thead>\n",
       "    <tr style=\"text-align: right;\">\n",
       "      <th></th>\n",
       "      <th>wind_code</th>\n",
       "      <th>sec_name</th>\n",
       "      <th>bid_type</th>\n",
       "      <th>effective_date</th>\n",
       "      <th>is_valid_today</th>\n",
       "      <th>margin_ratio</th>\n",
       "      <th>csrc_industry</th>\n",
       "      <th>wind_industry</th>\n",
       "      <th>listing_board</th>\n",
       "    </tr>\n",
       "  </thead>\n",
       "  <tbody>\n",
       "    <tr>\n",
       "      <th>0</th>\n",
       "      <td>300157.SZ</td>\n",
       "      <td>恒泰艾普</td>\n",
       "      <td>融资标的</td>\n",
       "      <td>2018-03-09</td>\n",
       "      <td>是</td>\n",
       "      <td>100</td>\n",
       "      <td>开采辅助活动</td>\n",
       "      <td>能源Ⅱ</td>\n",
       "      <td>创业板</td>\n",
       "    </tr>\n",
       "    <tr>\n",
       "      <th>1</th>\n",
       "      <td>000790.SZ</td>\n",
       "      <td>泰合健康</td>\n",
       "      <td>融资标的</td>\n",
       "      <td>2018-03-07</td>\n",
       "      <td>是</td>\n",
       "      <td>100</td>\n",
       "      <td>医药制造业</td>\n",
       "      <td>制药、生物科技与生命科学</td>\n",
       "      <td>主板</td>\n",
       "    </tr>\n",
       "    <tr>\n",
       "      <th>2</th>\n",
       "      <td>300216.SZ</td>\n",
       "      <td>千山药机</td>\n",
       "      <td>融资标的</td>\n",
       "      <td>2018-01-26</td>\n",
       "      <td>是</td>\n",
       "      <td>100</td>\n",
       "      <td>专用设备制造业</td>\n",
       "      <td>资本货物</td>\n",
       "      <td>创业板</td>\n",
       "    </tr>\n",
       "    <tr>\n",
       "      <th>3</th>\n",
       "      <td>002210.SZ</td>\n",
       "      <td>飞马国际</td>\n",
       "      <td>融资标的</td>\n",
       "      <td>2018-01-08</td>\n",
       "      <td>是</td>\n",
       "      <td>100</td>\n",
       "      <td>商务服务业</td>\n",
       "      <td>运输</td>\n",
       "      <td>中小企业板</td>\n",
       "    </tr>\n",
       "    <tr>\n",
       "      <th>4</th>\n",
       "      <td>002210.SZ</td>\n",
       "      <td>飞马国际</td>\n",
       "      <td>融券标的</td>\n",
       "      <td>2018-01-08</td>\n",
       "      <td>是</td>\n",
       "      <td>50</td>\n",
       "      <td>商务服务业</td>\n",
       "      <td>运输</td>\n",
       "      <td>中小企业板</td>\n",
       "    </tr>\n",
       "  </tbody>\n",
       "</table>\n",
       "</div>"
      ],
      "text/plain": [
       "   wind_code sec_name bid_type effective_date is_valid_today  margin_ratio  \\\n",
       "0  300157.SZ     恒泰艾普     融资标的     2018-03-09              是           100   \n",
       "1  000790.SZ     泰合健康     融资标的     2018-03-07              是           100   \n",
       "2  300216.SZ     千山药机     融资标的     2018-01-26              是           100   \n",
       "3  002210.SZ     飞马国际     融资标的     2018-01-08              是           100   \n",
       "4  002210.SZ     飞马国际     融券标的     2018-01-08              是            50   \n",
       "\n",
       "  csrc_industry wind_industry listing_board  \n",
       "0        开采辅助活动           能源Ⅱ           创业板  \n",
       "1         医药制造业  制药、生物科技与生命科学            主板  \n",
       "2       专用设备制造业          资本货物           创业板  \n",
       "3         商务服务业            运输         中小企业板  \n",
       "4         商务服务业            运输         中小企业板  "
      ]
     },
     "execution_count": 3,
     "metadata": {},
     "output_type": "execute_result"
    }
   ],
   "source": [
    "df.head()"
   ]
  },
  {
   "cell_type": "code",
   "execution_count": 5,
   "metadata": {},
   "outputs": [
    {
     "name": "stdout",
     "output_type": "stream",
     "text": [
      "Welcome to use Wind Quant API for Python (WindPy)!\n",
      "\n",
      "COPYRIGHT (C) 2017 WIND INFORMATION CO., LTD. ALL RIGHTS RESERVED.\n",
      "IN NO CIRCUMSTANCE SHALL WIND BE RESPONSIBLE FOR ANY DAMAGES OR LOSSES CAUSED BY USING WIND QUANT API FOR Python.\n"
     ]
    },
    {
     "data": {
      "text/plain": [
       ".ErrorCode=0\n",
       ".Data=[OK!]"
      ]
     },
     "execution_count": 5,
     "metadata": {},
     "output_type": "execute_result"
    }
   ],
   "source": [
    "w.start()"
   ]
  },
  {
   "cell_type": "code",
   "execution_count": 6,
   "metadata": {},
   "outputs": [],
   "source": [
    "data = w.wsd(\"000001.SZ\", \"mrg_long_bal,mrg_long_amt,mrg_short_bal,margin_saletradingamount\", \"2018-02-18\", \"2018-03-19\")"
   ]
  },
  {
   "cell_type": "code",
   "execution_count": 7,
   "metadata": {},
   "outputs": [
    {
     "data": {
      "text/plain": [
       ".ErrorCode=0\n",
       ".Codes=[000001.SZ]\n",
       ".Fields=[MRG_LONG_BAL,MRG_LONG_AMT,MRG_SHORT_BAL,MARGIN_SALETRADINGAMOUNT]\n",
       ".Times=[20180222,20180223,20180226,20180227,20180228,20180301,20180302,20180305,20180306,20180307,...]\n",
       ".Data=[[4995923172.0,5067376148.0,5093901866.0,5061850626.0,5078237062.0,5089498044.0,5089682184.0,5028730275.0,5027718746.0,4988693309.0,...],[323320348.0,219465750.0,221000719.0,221182587.0,254537164.0,162569367.0,121449998.0,118407546.0,194059056.0,213517094.0,...],[10300869.0,10264729.0,10681381.0,7376731.0,8378498.0,10760280.0,6307341.0,6328627.0,4721553.0,6391019.0,...],[4628663.524,2124712.56714,2007905.81688,1745983.46017,2880478.07165,4138975.42112,777260.843464,1529941.57373,1469968.5157,2427109.55268,...]]"
      ]
     },
     "execution_count": 7,
     "metadata": {},
     "output_type": "execute_result"
    }
   ],
   "source": [
    "data"
   ]
  },
  {
   "cell_type": "code",
   "execution_count": 9,
   "metadata": {},
   "outputs": [],
   "source": [
    "df = pd.DataFrame(np.array(data.Data).T, index=data.Times, columns=[c.lower() for c in data.Fields])"
   ]
  },
  {
   "cell_type": "code",
   "execution_count": 10,
   "metadata": {},
   "outputs": [
    {
     "data": {
      "text/html": [
       "<div>\n",
       "<style scoped>\n",
       "    .dataframe tbody tr th:only-of-type {\n",
       "        vertical-align: middle;\n",
       "    }\n",
       "\n",
       "    .dataframe tbody tr th {\n",
       "        vertical-align: top;\n",
       "    }\n",
       "\n",
       "    .dataframe thead th {\n",
       "        text-align: right;\n",
       "    }\n",
       "</style>\n",
       "<table border=\"1\" class=\"dataframe\">\n",
       "  <thead>\n",
       "    <tr style=\"text-align: right;\">\n",
       "      <th></th>\n",
       "      <th>mrg_long_bal</th>\n",
       "      <th>mrg_long_amt</th>\n",
       "      <th>mrg_short_bal</th>\n",
       "      <th>margin_saletradingamount</th>\n",
       "    </tr>\n",
       "  </thead>\n",
       "  <tbody>\n",
       "    <tr>\n",
       "      <th>2018-02-22</th>\n",
       "      <td>4.995923e+09</td>\n",
       "      <td>323320348.0</td>\n",
       "      <td>10300869.0</td>\n",
       "      <td>4.628664e+06</td>\n",
       "    </tr>\n",
       "    <tr>\n",
       "      <th>2018-02-23</th>\n",
       "      <td>5.067376e+09</td>\n",
       "      <td>219465750.0</td>\n",
       "      <td>10264729.0</td>\n",
       "      <td>2.124713e+06</td>\n",
       "    </tr>\n",
       "    <tr>\n",
       "      <th>2018-02-26</th>\n",
       "      <td>5.093902e+09</td>\n",
       "      <td>221000719.0</td>\n",
       "      <td>10681381.0</td>\n",
       "      <td>2.007906e+06</td>\n",
       "    </tr>\n",
       "    <tr>\n",
       "      <th>2018-02-27</th>\n",
       "      <td>5.061851e+09</td>\n",
       "      <td>221182587.0</td>\n",
       "      <td>7376731.0</td>\n",
       "      <td>1.745983e+06</td>\n",
       "    </tr>\n",
       "    <tr>\n",
       "      <th>2018-02-28</th>\n",
       "      <td>5.078237e+09</td>\n",
       "      <td>254537164.0</td>\n",
       "      <td>8378498.0</td>\n",
       "      <td>2.880478e+06</td>\n",
       "    </tr>\n",
       "  </tbody>\n",
       "</table>\n",
       "</div>"
      ],
      "text/plain": [
       "            mrg_long_bal  mrg_long_amt  mrg_short_bal  \\\n",
       "2018-02-22  4.995923e+09   323320348.0     10300869.0   \n",
       "2018-02-23  5.067376e+09   219465750.0     10264729.0   \n",
       "2018-02-26  5.093902e+09   221000719.0     10681381.0   \n",
       "2018-02-27  5.061851e+09   221182587.0      7376731.0   \n",
       "2018-02-28  5.078237e+09   254537164.0      8378498.0   \n",
       "\n",
       "            margin_saletradingamount  \n",
       "2018-02-22              4.628664e+06  \n",
       "2018-02-23              2.124713e+06  \n",
       "2018-02-26              2.007906e+06  \n",
       "2018-02-27              1.745983e+06  \n",
       "2018-02-28              2.880478e+06  "
      ]
     },
     "execution_count": 10,
     "metadata": {},
     "output_type": "execute_result"
    }
   ],
   "source": [
    "df.head()"
   ]
  },
  {
   "cell_type": "code",
   "execution_count": null,
   "metadata": {},
   "outputs": [],
   "source": []
  }
 ],
 "metadata": {
  "kernelspec": {
   "display_name": "Python 2",
   "language": "python",
   "name": "python2"
  },
  "language_info": {
   "codemirror_mode": {
    "name": "ipython",
    "version": 2
   },
   "file_extension": ".py",
   "mimetype": "text/x-python",
   "name": "python",
   "nbconvert_exporter": "python",
   "pygments_lexer": "ipython2",
   "version": "2.7.14"
  }
 },
 "nbformat": 4,
 "nbformat_minor": 2
}
